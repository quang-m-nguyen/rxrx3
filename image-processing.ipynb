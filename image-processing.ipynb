{
 "cells": [
  {
   "cell_type": "code",
   "execution_count": 2,
   "metadata": {},
   "outputs": [
    {
     "name": "stdout",
     "output_type": "stream",
     "text": [
      "Requirement already satisfied: tqdm in /Users/quang.nguyen/.pyenv/versions/3.12.3/lib/python3.12/site-packages (4.67.1)\n",
      "Requirement already satisfied: Pillow in /Users/quang.nguyen/.pyenv/versions/3.12.3/lib/python3.12/site-packages (11.1.0)\n",
      "Collecting ipywidgets\n",
      "  Downloading ipywidgets-8.1.5-py3-none-any.whl.metadata (2.3 kB)\n",
      "Collecting jupyter\n",
      "  Downloading jupyter-1.1.1-py2.py3-none-any.whl.metadata (2.0 kB)\n",
      "Requirement already satisfied: ipykernel in /Users/quang.nguyen/.pyenv/versions/3.12.3/lib/python3.12/site-packages (6.29.5)\n",
      "Requirement already satisfied: comm>=0.1.3 in /Users/quang.nguyen/.pyenv/versions/3.12.3/lib/python3.12/site-packages (from ipywidgets) (0.2.2)\n",
      "Requirement already satisfied: ipython>=6.1.0 in /Users/quang.nguyen/.pyenv/versions/3.12.3/lib/python3.12/site-packages (from ipywidgets) (8.31.0)\n",
      "Requirement already satisfied: traitlets>=4.3.1 in /Users/quang.nguyen/.pyenv/versions/3.12.3/lib/python3.12/site-packages (from ipywidgets) (5.14.3)\n",
      "Collecting widgetsnbextension~=4.0.12 (from ipywidgets)\n",
      "  Downloading widgetsnbextension-4.0.13-py3-none-any.whl.metadata (1.6 kB)\n",
      "Collecting jupyterlab-widgets~=3.0.12 (from ipywidgets)\n",
      "  Downloading jupyterlab_widgets-3.0.13-py3-none-any.whl.metadata (4.1 kB)\n",
      "Collecting notebook (from jupyter)\n",
      "  Downloading notebook-7.3.3-py3-none-any.whl.metadata (10 kB)\n",
      "Collecting jupyter-console (from jupyter)\n",
      "  Downloading jupyter_console-6.6.3-py3-none-any.whl.metadata (5.8 kB)\n",
      "Collecting nbconvert (from jupyter)\n",
      "  Downloading nbconvert-7.16.6-py3-none-any.whl.metadata (8.5 kB)\n",
      "Collecting jupyterlab (from jupyter)\n",
      "  Downloading jupyterlab-4.3.6-py3-none-any.whl.metadata (16 kB)\n",
      "Requirement already satisfied: appnope in /Users/quang.nguyen/.pyenv/versions/3.12.3/lib/python3.12/site-packages (from ipykernel) (0.1.4)\n",
      "Requirement already satisfied: debugpy>=1.6.5 in /Users/quang.nguyen/.pyenv/versions/3.12.3/lib/python3.12/site-packages (from ipykernel) (1.8.11)\n",
      "Requirement already satisfied: jupyter-client>=6.1.12 in /Users/quang.nguyen/.pyenv/versions/3.12.3/lib/python3.12/site-packages (from ipykernel) (8.6.3)\n",
      "Requirement already satisfied: jupyter-core!=5.0.*,>=4.12 in /Users/quang.nguyen/.pyenv/versions/3.12.3/lib/python3.12/site-packages (from ipykernel) (5.7.2)\n",
      "Requirement already satisfied: matplotlib-inline>=0.1 in /Users/quang.nguyen/.pyenv/versions/3.12.3/lib/python3.12/site-packages (from ipykernel) (0.1.7)\n",
      "Requirement already satisfied: nest-asyncio in /Users/quang.nguyen/.pyenv/versions/3.12.3/lib/python3.12/site-packages (from ipykernel) (1.6.0)\n",
      "Requirement already satisfied: packaging in /Users/quang.nguyen/.pyenv/versions/3.12.3/lib/python3.12/site-packages (from ipykernel) (24.2)\n",
      "Requirement already satisfied: psutil in /Users/quang.nguyen/.pyenv/versions/3.12.3/lib/python3.12/site-packages (from ipykernel) (6.1.1)\n",
      "Requirement already satisfied: pyzmq>=24 in /Users/quang.nguyen/.pyenv/versions/3.12.3/lib/python3.12/site-packages (from ipykernel) (26.2.0)\n",
      "Requirement already satisfied: tornado>=6.1 in /Users/quang.nguyen/.pyenv/versions/3.12.3/lib/python3.12/site-packages (from ipykernel) (6.4.2)\n",
      "Requirement already satisfied: decorator in /Users/quang.nguyen/.pyenv/versions/3.12.3/lib/python3.12/site-packages (from ipython>=6.1.0->ipywidgets) (5.1.1)\n",
      "Requirement already satisfied: jedi>=0.16 in /Users/quang.nguyen/.pyenv/versions/3.12.3/lib/python3.12/site-packages (from ipython>=6.1.0->ipywidgets) (0.19.2)\n",
      "Requirement already satisfied: pexpect>4.3 in /Users/quang.nguyen/.pyenv/versions/3.12.3/lib/python3.12/site-packages (from ipython>=6.1.0->ipywidgets) (4.9.0)\n",
      "Requirement already satisfied: prompt_toolkit<3.1.0,>=3.0.41 in /Users/quang.nguyen/.pyenv/versions/3.12.3/lib/python3.12/site-packages (from ipython>=6.1.0->ipywidgets) (3.0.48)\n",
      "Requirement already satisfied: pygments>=2.4.0 in /Users/quang.nguyen/.pyenv/versions/3.12.3/lib/python3.12/site-packages (from ipython>=6.1.0->ipywidgets) (2.18.0)\n",
      "Requirement already satisfied: stack_data in /Users/quang.nguyen/.pyenv/versions/3.12.3/lib/python3.12/site-packages (from ipython>=6.1.0->ipywidgets) (0.6.3)\n",
      "Requirement already satisfied: python-dateutil>=2.8.2 in /Users/quang.nguyen/.pyenv/versions/3.12.3/lib/python3.12/site-packages (from jupyter-client>=6.1.12->ipykernel) (2.9.0.post0)\n",
      "Requirement already satisfied: platformdirs>=2.5 in /Users/quang.nguyen/.pyenv/versions/3.12.3/lib/python3.12/site-packages (from jupyter-core!=5.0.*,>=4.12->ipykernel) (4.3.6)\n",
      "Collecting async-lru>=1.0.0 (from jupyterlab->jupyter)\n",
      "  Downloading async_lru-2.0.5-py3-none-any.whl.metadata (4.5 kB)\n",
      "Collecting httpx>=0.25.0 (from jupyterlab->jupyter)\n",
      "  Downloading httpx-0.28.1-py3-none-any.whl.metadata (7.1 kB)\n",
      "Collecting jinja2>=3.0.3 (from jupyterlab->jupyter)\n",
      "  Downloading jinja2-3.1.6-py3-none-any.whl.metadata (2.9 kB)\n",
      "Collecting jupyter-lsp>=2.0.0 (from jupyterlab->jupyter)\n",
      "  Downloading jupyter_lsp-2.2.5-py3-none-any.whl.metadata (1.8 kB)\n",
      "Collecting jupyter-server<3,>=2.4.0 (from jupyterlab->jupyter)\n",
      "  Downloading jupyter_server-2.15.0-py3-none-any.whl.metadata (8.4 kB)\n",
      "Collecting jupyterlab-server<3,>=2.27.1 (from jupyterlab->jupyter)\n",
      "  Downloading jupyterlab_server-2.27.3-py3-none-any.whl.metadata (5.9 kB)\n",
      "Collecting notebook-shim>=0.2 (from jupyterlab->jupyter)\n",
      "  Downloading notebook_shim-0.2.4-py3-none-any.whl.metadata (4.0 kB)\n",
      "Collecting setuptools>=40.8.0 (from jupyterlab->jupyter)\n",
      "  Downloading setuptools-77.0.3-py3-none-any.whl.metadata (6.6 kB)\n",
      "Collecting beautifulsoup4 (from nbconvert->jupyter)\n",
      "  Downloading beautifulsoup4-4.13.3-py3-none-any.whl.metadata (3.8 kB)\n",
      "Collecting bleach!=5.0.0 (from bleach[css]!=5.0.0->nbconvert->jupyter)\n",
      "  Downloading bleach-6.2.0-py3-none-any.whl.metadata (30 kB)\n",
      "Collecting defusedxml (from nbconvert->jupyter)\n",
      "  Downloading defusedxml-0.7.1-py2.py3-none-any.whl.metadata (32 kB)\n",
      "Collecting jupyterlab-pygments (from nbconvert->jupyter)\n",
      "  Downloading jupyterlab_pygments-0.3.0-py3-none-any.whl.metadata (4.4 kB)\n",
      "Collecting markupsafe>=2.0 (from nbconvert->jupyter)\n",
      "  Downloading MarkupSafe-3.0.2-cp312-cp312-macosx_11_0_arm64.whl.metadata (4.0 kB)\n",
      "Collecting mistune<4,>=2.0.3 (from nbconvert->jupyter)\n",
      "  Downloading mistune-3.1.3-py3-none-any.whl.metadata (1.8 kB)\n",
      "Collecting nbclient>=0.5.0 (from nbconvert->jupyter)\n",
      "  Downloading nbclient-0.10.2-py3-none-any.whl.metadata (8.3 kB)\n",
      "Collecting nbformat>=5.7 (from nbconvert->jupyter)\n",
      "  Using cached nbformat-5.10.4-py3-none-any.whl.metadata (3.6 kB)\n",
      "Collecting pandocfilters>=1.4.1 (from nbconvert->jupyter)\n",
      "  Downloading pandocfilters-1.5.1-py2.py3-none-any.whl.metadata (9.0 kB)\n",
      "Collecting webencodings (from bleach!=5.0.0->bleach[css]!=5.0.0->nbconvert->jupyter)\n",
      "  Downloading webencodings-0.5.1-py2.py3-none-any.whl.metadata (2.1 kB)\n",
      "Collecting tinycss2<1.5,>=1.1.0 (from bleach[css]!=5.0.0->nbconvert->jupyter)\n",
      "  Downloading tinycss2-1.4.0-py3-none-any.whl.metadata (3.0 kB)\n",
      "Collecting anyio (from httpx>=0.25.0->jupyterlab->jupyter)\n",
      "  Downloading anyio-4.9.0-py3-none-any.whl.metadata (4.7 kB)\n",
      "Requirement already satisfied: certifi in /Users/quang.nguyen/.pyenv/versions/3.12.3/lib/python3.12/site-packages (from httpx>=0.25.0->jupyterlab->jupyter) (2025.1.31)\n",
      "Collecting httpcore==1.* (from httpx>=0.25.0->jupyterlab->jupyter)\n",
      "  Downloading httpcore-1.0.7-py3-none-any.whl.metadata (21 kB)\n",
      "Requirement already satisfied: idna in /Users/quang.nguyen/.pyenv/versions/3.12.3/lib/python3.12/site-packages (from httpx>=0.25.0->jupyterlab->jupyter) (3.10)\n",
      "Collecting h11<0.15,>=0.13 (from httpcore==1.*->httpx>=0.25.0->jupyterlab->jupyter)\n",
      "  Downloading h11-0.14.0-py3-none-any.whl.metadata (8.2 kB)\n",
      "Requirement already satisfied: parso<0.9.0,>=0.8.4 in /Users/quang.nguyen/.pyenv/versions/3.12.3/lib/python3.12/site-packages (from jedi>=0.16->ipython>=6.1.0->ipywidgets) (0.8.4)\n",
      "Collecting argon2-cffi>=21.1 (from jupyter-server<3,>=2.4.0->jupyterlab->jupyter)\n",
      "  Downloading argon2_cffi-23.1.0-py3-none-any.whl.metadata (5.2 kB)\n",
      "Collecting jupyter-events>=0.11.0 (from jupyter-server<3,>=2.4.0->jupyterlab->jupyter)\n",
      "  Downloading jupyter_events-0.12.0-py3-none-any.whl.metadata (5.8 kB)\n",
      "Collecting jupyter-server-terminals>=0.4.4 (from jupyter-server<3,>=2.4.0->jupyterlab->jupyter)\n",
      "  Downloading jupyter_server_terminals-0.5.3-py3-none-any.whl.metadata (5.6 kB)\n",
      "Collecting overrides>=5.0 (from jupyter-server<3,>=2.4.0->jupyterlab->jupyter)\n",
      "  Downloading overrides-7.7.0-py3-none-any.whl.metadata (5.8 kB)\n",
      "Collecting prometheus-client>=0.9 (from jupyter-server<3,>=2.4.0->jupyterlab->jupyter)\n",
      "  Downloading prometheus_client-0.21.1-py3-none-any.whl.metadata (1.8 kB)\n",
      "Collecting send2trash>=1.8.2 (from jupyter-server<3,>=2.4.0->jupyterlab->jupyter)\n",
      "  Downloading Send2Trash-1.8.3-py3-none-any.whl.metadata (4.0 kB)\n",
      "Collecting terminado>=0.8.3 (from jupyter-server<3,>=2.4.0->jupyterlab->jupyter)\n",
      "  Downloading terminado-0.18.1-py3-none-any.whl.metadata (5.8 kB)\n",
      "Collecting websocket-client>=1.7 (from jupyter-server<3,>=2.4.0->jupyterlab->jupyter)\n",
      "  Downloading websocket_client-1.8.0-py3-none-any.whl.metadata (8.0 kB)\n",
      "Collecting babel>=2.10 (from jupyterlab-server<3,>=2.27.1->jupyterlab->jupyter)\n",
      "  Downloading babel-2.17.0-py3-none-any.whl.metadata (2.0 kB)\n",
      "Collecting json5>=0.9.0 (from jupyterlab-server<3,>=2.27.1->jupyterlab->jupyter)\n",
      "  Downloading json5-0.10.0-py3-none-any.whl.metadata (34 kB)\n",
      "Collecting jsonschema>=4.18.0 (from jupyterlab-server<3,>=2.27.1->jupyterlab->jupyter)\n",
      "  Using cached jsonschema-4.23.0-py3-none-any.whl.metadata (7.9 kB)\n",
      "Requirement already satisfied: requests>=2.31 in /Users/quang.nguyen/.pyenv/versions/3.12.3/lib/python3.12/site-packages (from jupyterlab-server<3,>=2.27.1->jupyterlab->jupyter) (2.32.3)\n",
      "Collecting fastjsonschema>=2.15 (from nbformat>=5.7->nbconvert->jupyter)\n",
      "  Using cached fastjsonschema-2.21.1-py3-none-any.whl.metadata (2.2 kB)\n",
      "Requirement already satisfied: ptyprocess>=0.5 in /Users/quang.nguyen/.pyenv/versions/3.12.3/lib/python3.12/site-packages (from pexpect>4.3->ipython>=6.1.0->ipywidgets) (0.7.0)\n",
      "Requirement already satisfied: wcwidth in /Users/quang.nguyen/.pyenv/versions/3.12.3/lib/python3.12/site-packages (from prompt_toolkit<3.1.0,>=3.0.41->ipython>=6.1.0->ipywidgets) (0.2.13)\n",
      "Requirement already satisfied: six>=1.5 in /Users/quang.nguyen/.pyenv/versions/3.12.3/lib/python3.12/site-packages (from python-dateutil>=2.8.2->jupyter-client>=6.1.12->ipykernel) (1.17.0)\n",
      "Collecting soupsieve>1.2 (from beautifulsoup4->nbconvert->jupyter)\n",
      "  Downloading soupsieve-2.6-py3-none-any.whl.metadata (4.6 kB)\n",
      "Collecting typing-extensions>=4.0.0 (from beautifulsoup4->nbconvert->jupyter)\n",
      "  Downloading typing_extensions-4.12.2-py3-none-any.whl.metadata (3.0 kB)\n",
      "Requirement already satisfied: executing>=1.2.0 in /Users/quang.nguyen/.pyenv/versions/3.12.3/lib/python3.12/site-packages (from stack_data->ipython>=6.1.0->ipywidgets) (2.1.0)\n",
      "Requirement already satisfied: asttokens>=2.1.0 in /Users/quang.nguyen/.pyenv/versions/3.12.3/lib/python3.12/site-packages (from stack_data->ipython>=6.1.0->ipywidgets) (3.0.0)\n",
      "Requirement already satisfied: pure-eval in /Users/quang.nguyen/.pyenv/versions/3.12.3/lib/python3.12/site-packages (from stack_data->ipython>=6.1.0->ipywidgets) (0.2.3)\n",
      "Collecting sniffio>=1.1 (from anyio->httpx>=0.25.0->jupyterlab->jupyter)\n",
      "  Downloading sniffio-1.3.1-py3-none-any.whl.metadata (3.9 kB)\n",
      "Collecting argon2-cffi-bindings (from argon2-cffi>=21.1->jupyter-server<3,>=2.4.0->jupyterlab->jupyter)\n",
      "  Downloading argon2_cffi_bindings-21.2.0-cp38-abi3-macosx_10_9_universal2.whl.metadata (6.7 kB)\n",
      "Collecting attrs>=22.2.0 (from jsonschema>=4.18.0->jupyterlab-server<3,>=2.27.1->jupyterlab->jupyter)\n",
      "  Downloading attrs-25.3.0-py3-none-any.whl.metadata (10 kB)\n",
      "Collecting jsonschema-specifications>=2023.03.6 (from jsonschema>=4.18.0->jupyterlab-server<3,>=2.27.1->jupyterlab->jupyter)\n",
      "  Using cached jsonschema_specifications-2024.10.1-py3-none-any.whl.metadata (3.0 kB)\n",
      "Collecting referencing>=0.28.4 (from jsonschema>=4.18.0->jupyterlab-server<3,>=2.27.1->jupyterlab->jupyter)\n",
      "  Downloading referencing-0.36.2-py3-none-any.whl.metadata (2.8 kB)\n",
      "Collecting rpds-py>=0.7.1 (from jsonschema>=4.18.0->jupyterlab-server<3,>=2.27.1->jupyterlab->jupyter)\n",
      "  Downloading rpds_py-0.23.1-cp312-cp312-macosx_11_0_arm64.whl.metadata (4.1 kB)\n",
      "Collecting python-json-logger>=2.0.4 (from jupyter-events>=0.11.0->jupyter-server<3,>=2.4.0->jupyterlab->jupyter)\n",
      "  Downloading python_json_logger-3.3.0-py3-none-any.whl.metadata (4.0 kB)\n",
      "Requirement already satisfied: pyyaml>=5.3 in /Users/quang.nguyen/.pyenv/versions/3.12.3/lib/python3.12/site-packages (from jupyter-events>=0.11.0->jupyter-server<3,>=2.4.0->jupyterlab->jupyter) (6.0.2)\n",
      "Collecting rfc3339-validator (from jupyter-events>=0.11.0->jupyter-server<3,>=2.4.0->jupyterlab->jupyter)\n",
      "  Downloading rfc3339_validator-0.1.4-py2.py3-none-any.whl.metadata (1.5 kB)\n",
      "Collecting rfc3986-validator>=0.1.1 (from jupyter-events>=0.11.0->jupyter-server<3,>=2.4.0->jupyterlab->jupyter)\n",
      "  Downloading rfc3986_validator-0.1.1-py2.py3-none-any.whl.metadata (1.7 kB)\n",
      "Requirement already satisfied: charset-normalizer<4,>=2 in /Users/quang.nguyen/.pyenv/versions/3.12.3/lib/python3.12/site-packages (from requests>=2.31->jupyterlab-server<3,>=2.27.1->jupyterlab->jupyter) (3.4.1)\n",
      "Requirement already satisfied: urllib3<3,>=1.21.1 in /Users/quang.nguyen/.pyenv/versions/3.12.3/lib/python3.12/site-packages (from requests>=2.31->jupyterlab-server<3,>=2.27.1->jupyterlab->jupyter) (2.3.0)\n",
      "Collecting fqdn (from jsonschema[format-nongpl]>=4.18.0->jupyter-events>=0.11.0->jupyter-server<3,>=2.4.0->jupyterlab->jupyter)\n",
      "  Downloading fqdn-1.5.1-py3-none-any.whl.metadata (1.4 kB)\n",
      "Collecting isoduration (from jsonschema[format-nongpl]>=4.18.0->jupyter-events>=0.11.0->jupyter-server<3,>=2.4.0->jupyterlab->jupyter)\n",
      "  Downloading isoduration-20.11.0-py3-none-any.whl.metadata (5.7 kB)\n",
      "Collecting jsonpointer>1.13 (from jsonschema[format-nongpl]>=4.18.0->jupyter-events>=0.11.0->jupyter-server<3,>=2.4.0->jupyterlab->jupyter)\n",
      "  Downloading jsonpointer-3.0.0-py2.py3-none-any.whl.metadata (2.3 kB)\n",
      "Collecting uri-template (from jsonschema[format-nongpl]>=4.18.0->jupyter-events>=0.11.0->jupyter-server<3,>=2.4.0->jupyterlab->jupyter)\n",
      "  Downloading uri_template-1.3.0-py3-none-any.whl.metadata (8.8 kB)\n",
      "Collecting webcolors>=24.6.0 (from jsonschema[format-nongpl]>=4.18.0->jupyter-events>=0.11.0->jupyter-server<3,>=2.4.0->jupyterlab->jupyter)\n",
      "  Downloading webcolors-24.11.1-py3-none-any.whl.metadata (2.2 kB)\n",
      "Collecting cffi>=1.0.1 (from argon2-cffi-bindings->argon2-cffi>=21.1->jupyter-server<3,>=2.4.0->jupyterlab->jupyter)\n",
      "  Downloading cffi-1.17.1-cp312-cp312-macosx_11_0_arm64.whl.metadata (1.5 kB)\n",
      "Collecting pycparser (from cffi>=1.0.1->argon2-cffi-bindings->argon2-cffi>=21.1->jupyter-server<3,>=2.4.0->jupyterlab->jupyter)\n",
      "  Downloading pycparser-2.22-py3-none-any.whl.metadata (943 bytes)\n",
      "Collecting arrow>=0.15.0 (from isoduration->jsonschema[format-nongpl]>=4.18.0->jupyter-events>=0.11.0->jupyter-server<3,>=2.4.0->jupyterlab->jupyter)\n",
      "  Downloading arrow-1.3.0-py3-none-any.whl.metadata (7.5 kB)\n",
      "Collecting types-python-dateutil>=2.8.10 (from arrow>=0.15.0->isoduration->jsonschema[format-nongpl]>=4.18.0->jupyter-events>=0.11.0->jupyter-server<3,>=2.4.0->jupyterlab->jupyter)\n",
      "  Downloading types_python_dateutil-2.9.0.20241206-py3-none-any.whl.metadata (2.1 kB)\n",
      "Downloading ipywidgets-8.1.5-py3-none-any.whl (139 kB)\n",
      "\u001b[2K   \u001b[90m━━━━━━━━━━━━━━━━━━━━━━━━━━━━━━━━━━━━━━━━\u001b[0m \u001b[32m139.8/139.8 kB\u001b[0m \u001b[31m6.1 MB/s\u001b[0m eta \u001b[36m0:00:00\u001b[0m\n",
      "\u001b[?25hDownloading jupyter-1.1.1-py2.py3-none-any.whl (2.7 kB)\n",
      "Downloading jupyterlab_widgets-3.0.13-py3-none-any.whl (214 kB)\n",
      "\u001b[2K   \u001b[90m━━━━━━━━━━━━━━━━━━━━━━━━━━━━━━━━━━━━━━━━\u001b[0m \u001b[32m214.4/214.4 kB\u001b[0m \u001b[31m9.7 MB/s\u001b[0m eta \u001b[36m0:00:00\u001b[0m\n",
      "\u001b[?25hDownloading widgetsnbextension-4.0.13-py3-none-any.whl (2.3 MB)\n",
      "\u001b[2K   \u001b[90m━━━━━━━━━━━━━━━━━━━━━━━━━━━━━━━━━━━━━━━━\u001b[0m \u001b[32m2.3/2.3 MB\u001b[0m \u001b[31m55.1 MB/s\u001b[0m eta \u001b[36m0:00:00\u001b[0m00:01\u001b[0m\n",
      "\u001b[?25hDownloading jupyter_console-6.6.3-py3-none-any.whl (24 kB)\n",
      "Downloading jupyterlab-4.3.6-py3-none-any.whl (11.7 MB)\n",
      "\u001b[2K   \u001b[90m━━━━━━━━━━━━━━━━━━━━━━━━━━━━━━━━━━━━━━━━\u001b[0m \u001b[32m11.7/11.7 MB\u001b[0m \u001b[31m113.8 MB/s\u001b[0m eta \u001b[36m0:00:00\u001b[0m \u001b[36m0:00:01\u001b[0m\n",
      "\u001b[?25hDownloading nbconvert-7.16.6-py3-none-any.whl (258 kB)\n",
      "\u001b[2K   \u001b[90m━━━━━━━━━━━━━━━━━━━━━━━━━━━━━━━━━━━━━━━━\u001b[0m \u001b[32m258.5/258.5 kB\u001b[0m \u001b[31m29.6 MB/s\u001b[0m eta \u001b[36m0:00:00\u001b[0m\n",
      "\u001b[?25hDownloading notebook-7.3.3-py3-none-any.whl (13.1 MB)\n",
      "\u001b[2K   \u001b[90m━━━━━━━━━━━━━━━━━━━━━━━━━━━━━━━━━━━━━━━━\u001b[0m \u001b[32m13.1/13.1 MB\u001b[0m \u001b[31m121.7 MB/s\u001b[0m eta \u001b[36m0:00:00\u001b[0m00:01\u001b[0m:01\u001b[0m\n",
      "\u001b[?25hDownloading async_lru-2.0.5-py3-none-any.whl (6.1 kB)\n",
      "Downloading bleach-6.2.0-py3-none-any.whl (163 kB)\n",
      "\u001b[2K   \u001b[90m━━━━━━━━━━━━━━━━━━━━━━━━━━━━━━━━━━━━━━━━\u001b[0m \u001b[32m163.4/163.4 kB\u001b[0m \u001b[31m19.2 MB/s\u001b[0m eta \u001b[36m0:00:00\u001b[0m\n",
      "\u001b[?25hDownloading httpx-0.28.1-py3-none-any.whl (73 kB)\n",
      "\u001b[2K   \u001b[90m━━━━━━━━━━━━━━━━━━━━━━━━━━━━━━━━━━━━━━━━\u001b[0m \u001b[32m73.5/73.5 kB\u001b[0m \u001b[31m6.0 MB/s\u001b[0m eta \u001b[36m0:00:00\u001b[0m\n",
      "\u001b[?25hDownloading httpcore-1.0.7-py3-none-any.whl (78 kB)\n",
      "\u001b[2K   \u001b[90m━━━━━━━━━━━━━━━━━━━━━━━━━━━━━━━━━━━━━━━━\u001b[0m \u001b[32m78.6/78.6 kB\u001b[0m \u001b[31m8.9 MB/s\u001b[0m eta \u001b[36m0:00:00\u001b[0m\n",
      "\u001b[?25hDownloading jinja2-3.1.6-py3-none-any.whl (134 kB)\n",
      "\u001b[2K   \u001b[90m━━━━━━━━━━━━━━━━━━━━━━━━━━━━━━━━━━━━━━━━\u001b[0m \u001b[32m134.9/134.9 kB\u001b[0m \u001b[31m15.3 MB/s\u001b[0m eta \u001b[36m0:00:00\u001b[0m\n",
      "\u001b[?25hDownloading jupyter_lsp-2.2.5-py3-none-any.whl (69 kB)\n",
      "\u001b[2K   \u001b[90m━━━━━━━━━━━━━━━━━━━━━━━━━━━━━━━━━━━━━━━━\u001b[0m \u001b[32m69.1/69.1 kB\u001b[0m \u001b[31m11.0 MB/s\u001b[0m eta \u001b[36m0:00:00\u001b[0m\n",
      "\u001b[?25hDownloading jupyter_server-2.15.0-py3-none-any.whl (385 kB)\n",
      "\u001b[2K   \u001b[90m━━━━━━━━━━━━━━━━━━━━━━━━━━━━━━━━━━━━━━━━\u001b[0m \u001b[32m385.8/385.8 kB\u001b[0m \u001b[31m45.5 MB/s\u001b[0m eta \u001b[36m0:00:00\u001b[0m\n",
      "\u001b[?25hDownloading jupyterlab_server-2.27.3-py3-none-any.whl (59 kB)\n",
      "\u001b[2K   \u001b[90m━━━━━━━━━━━━━━━━━━━━━━━━━━━━━━━━━━━━━━━━\u001b[0m \u001b[32m59.7/59.7 kB\u001b[0m \u001b[31m7.7 MB/s\u001b[0m eta \u001b[36m0:00:00\u001b[0m\n",
      "\u001b[?25hDownloading MarkupSafe-3.0.2-cp312-cp312-macosx_11_0_arm64.whl (12 kB)\n",
      "Downloading mistune-3.1.3-py3-none-any.whl (53 kB)\n",
      "\u001b[2K   \u001b[90m━━━━━━━━━━━━━━━━━━━━━━━━━━━━━━━━━━━━━━━━\u001b[0m \u001b[32m53.4/53.4 kB\u001b[0m \u001b[31m5.3 MB/s\u001b[0m eta \u001b[36m0:00:00\u001b[0m\n",
      "\u001b[?25hDownloading nbclient-0.10.2-py3-none-any.whl (25 kB)\n",
      "Using cached nbformat-5.10.4-py3-none-any.whl (78 kB)\n",
      "Downloading notebook_shim-0.2.4-py3-none-any.whl (13 kB)\n",
      "Downloading pandocfilters-1.5.1-py2.py3-none-any.whl (8.7 kB)\n",
      "Downloading setuptools-77.0.3-py3-none-any.whl (1.3 MB)\n",
      "\u001b[2K   \u001b[90m━━━━━━━━━━━━━━━━━━━━━━━━━━━━━━━━━━━━━━━━\u001b[0m \u001b[32m1.3/1.3 MB\u001b[0m \u001b[31m48.9 MB/s\u001b[0m eta \u001b[36m0:00:00\u001b[0m\n",
      "\u001b[?25hDownloading beautifulsoup4-4.13.3-py3-none-any.whl (186 kB)\n",
      "\u001b[2K   \u001b[90m━━━━━━━━━━━━━━━━━━━━━━━━━━━━━━━━━━━━━━━━\u001b[0m \u001b[32m186.0/186.0 kB\u001b[0m \u001b[31m19.6 MB/s\u001b[0m eta \u001b[36m0:00:00\u001b[0m\n",
      "\u001b[?25hDownloading defusedxml-0.7.1-py2.py3-none-any.whl (25 kB)\n",
      "Downloading jupyterlab_pygments-0.3.0-py3-none-any.whl (15 kB)\n",
      "Downloading anyio-4.9.0-py3-none-any.whl (100 kB)\n",
      "\u001b[2K   \u001b[90m━━━━━━━━━━━━━━━━━━━━━━━━━━━━━━━━━━━━━━━━\u001b[0m \u001b[32m100.9/100.9 kB\u001b[0m \u001b[31m13.6 MB/s\u001b[0m eta \u001b[36m0:00:00\u001b[0m\n",
      "\u001b[?25hDownloading argon2_cffi-23.1.0-py3-none-any.whl (15 kB)\n",
      "Downloading babel-2.17.0-py3-none-any.whl (10.2 MB)\n",
      "\u001b[2K   \u001b[90m━━━━━━━━━━━━━━━━━━━━━━━━━━━━━━━━━━━━━━━━\u001b[0m \u001b[32m10.2/10.2 MB\u001b[0m \u001b[31m83.5 MB/s\u001b[0m eta \u001b[36m0:00:00\u001b[0m00:01\u001b[0m0:01\u001b[0m\n",
      "\u001b[?25hUsing cached fastjsonschema-2.21.1-py3-none-any.whl (23 kB)\n",
      "Downloading json5-0.10.0-py3-none-any.whl (34 kB)\n",
      "Using cached jsonschema-4.23.0-py3-none-any.whl (88 kB)\n",
      "Downloading jupyter_events-0.12.0-py3-none-any.whl (19 kB)\n",
      "Downloading jupyter_server_terminals-0.5.3-py3-none-any.whl (13 kB)\n",
      "Downloading overrides-7.7.0-py3-none-any.whl (17 kB)\n",
      "Downloading prometheus_client-0.21.1-py3-none-any.whl (54 kB)\n",
      "\u001b[2K   \u001b[90m━━━━━━━━━━━━━━━━━━━━━━━━━━━━━━━━━━━━━━━━\u001b[0m \u001b[32m54.7/54.7 kB\u001b[0m \u001b[31m7.7 MB/s\u001b[0m eta \u001b[36m0:00:00\u001b[0m\n",
      "\u001b[?25hDownloading Send2Trash-1.8.3-py3-none-any.whl (18 kB)\n",
      "Downloading soupsieve-2.6-py3-none-any.whl (36 kB)\n",
      "Downloading terminado-0.18.1-py3-none-any.whl (14 kB)\n",
      "Downloading tinycss2-1.4.0-py3-none-any.whl (26 kB)\n",
      "Downloading typing_extensions-4.12.2-py3-none-any.whl (37 kB)\n",
      "Downloading webencodings-0.5.1-py2.py3-none-any.whl (11 kB)\n",
      "Downloading websocket_client-1.8.0-py3-none-any.whl (58 kB)\n",
      "\u001b[2K   \u001b[90m━━━━━━━━━━━━━━━━━━━━━━━━━━━━━━━━━━━━━━━━\u001b[0m \u001b[32m58.8/58.8 kB\u001b[0m \u001b[31m6.9 MB/s\u001b[0m eta \u001b[36m0:00:00\u001b[0m\n",
      "\u001b[?25hDownloading attrs-25.3.0-py3-none-any.whl (63 kB)\n",
      "\u001b[2K   \u001b[90m━━━━━━━━━━━━━━━━━━━━━━━━━━━━━━━━━━━━━━━━\u001b[0m \u001b[32m63.8/63.8 kB\u001b[0m \u001b[31m7.1 MB/s\u001b[0m eta \u001b[36m0:00:00\u001b[0m\n",
      "\u001b[?25hDownloading h11-0.14.0-py3-none-any.whl (58 kB)\n",
      "\u001b[2K   \u001b[90m━━━━━━━━━━━━━━━━━━━━━━━━━━━━━━━━━━━━━━━━\u001b[0m \u001b[32m58.3/58.3 kB\u001b[0m \u001b[31m7.9 MB/s\u001b[0m eta \u001b[36m0:00:00\u001b[0m\n",
      "\u001b[?25hUsing cached jsonschema_specifications-2024.10.1-py3-none-any.whl (18 kB)\n",
      "Downloading python_json_logger-3.3.0-py3-none-any.whl (15 kB)\n",
      "Downloading referencing-0.36.2-py3-none-any.whl (26 kB)\n",
      "Downloading rfc3986_validator-0.1.1-py2.py3-none-any.whl (4.2 kB)\n",
      "Downloading rpds_py-0.23.1-cp312-cp312-macosx_11_0_arm64.whl (349 kB)\n",
      "\u001b[2K   \u001b[90m━━━━━━━━━━━━━━━━━━━━━━━━━━━━━━━━━━━━━━━━\u001b[0m \u001b[32m350.0/350.0 kB\u001b[0m \u001b[31m20.1 MB/s\u001b[0m eta \u001b[36m0:00:00\u001b[0m\n",
      "\u001b[?25hDownloading sniffio-1.3.1-py3-none-any.whl (10 kB)\n",
      "Downloading argon2_cffi_bindings-21.2.0-cp38-abi3-macosx_10_9_universal2.whl (53 kB)\n",
      "\u001b[2K   \u001b[90m━━━━━━━━━━━━━━━━━━━━━━━━━━━━━━━━━━━━━━━━\u001b[0m \u001b[32m53.1/53.1 kB\u001b[0m \u001b[31m5.5 MB/s\u001b[0m eta \u001b[36m0:00:00\u001b[0m\n",
      "\u001b[?25hDownloading rfc3339_validator-0.1.4-py2.py3-none-any.whl (3.5 kB)\n",
      "Downloading cffi-1.17.1-cp312-cp312-macosx_11_0_arm64.whl (178 kB)\n",
      "\u001b[2K   \u001b[90m━━━━━━━━━━━━━━━━━━━━━━━━━━━━━━━━━━━━━━━━\u001b[0m \u001b[32m178.8/178.8 kB\u001b[0m \u001b[31m24.7 MB/s\u001b[0m eta \u001b[36m0:00:00\u001b[0m\n",
      "\u001b[?25hDownloading jsonpointer-3.0.0-py2.py3-none-any.whl (7.6 kB)\n",
      "Downloading webcolors-24.11.1-py3-none-any.whl (14 kB)\n",
      "Downloading fqdn-1.5.1-py3-none-any.whl (9.1 kB)\n",
      "Downloading isoduration-20.11.0-py3-none-any.whl (11 kB)\n",
      "Downloading uri_template-1.3.0-py3-none-any.whl (11 kB)\n",
      "Downloading arrow-1.3.0-py3-none-any.whl (66 kB)\n",
      "\u001b[2K   \u001b[90m━━━━━━━━━━━━━━━━━━━━━━━━━━━━━━━━━━━━━━━━\u001b[0m \u001b[32m66.4/66.4 kB\u001b[0m \u001b[31m8.9 MB/s\u001b[0m eta \u001b[36m0:00:00\u001b[0m\n",
      "\u001b[?25hDownloading pycparser-2.22-py3-none-any.whl (117 kB)\n",
      "\u001b[2K   \u001b[90m━━━━━━━━━━━━━━━━━━━━━━━━━━━━━━━━━━━━━━━━\u001b[0m \u001b[32m117.6/117.6 kB\u001b[0m \u001b[31m15.7 MB/s\u001b[0m eta \u001b[36m0:00:00\u001b[0m\n",
      "\u001b[?25hDownloading types_python_dateutil-2.9.0.20241206-py3-none-any.whl (14 kB)\n",
      "Installing collected packages: webencodings, fastjsonschema, widgetsnbextension, websocket-client, webcolors, uri-template, typing-extensions, types-python-dateutil, tinycss2, terminado, soupsieve, sniffio, setuptools, send2trash, rpds-py, rfc3986-validator, rfc3339-validator, python-json-logger, pycparser, prometheus-client, pandocfilters, overrides, mistune, markupsafe, jupyterlab-widgets, jupyterlab-pygments, jsonpointer, json5, h11, fqdn, defusedxml, bleach, babel, attrs, async-lru, referencing, jupyter-server-terminals, jinja2, httpcore, cffi, beautifulsoup4, arrow, anyio, jsonschema-specifications, isoduration, ipywidgets, httpx, argon2-cffi-bindings, jupyter-console, jsonschema, argon2-cffi, nbformat, nbclient, jupyter-events, nbconvert, jupyter-server, notebook-shim, jupyterlab-server, jupyter-lsp, jupyterlab, notebook, jupyter\n",
      "Successfully installed anyio-4.9.0 argon2-cffi-23.1.0 argon2-cffi-bindings-21.2.0 arrow-1.3.0 async-lru-2.0.5 attrs-25.3.0 babel-2.17.0 beautifulsoup4-4.13.3 bleach-6.2.0 cffi-1.17.1 defusedxml-0.7.1 fastjsonschema-2.21.1 fqdn-1.5.1 h11-0.14.0 httpcore-1.0.7 httpx-0.28.1 ipywidgets-8.1.5 isoduration-20.11.0 jinja2-3.1.6 json5-0.10.0 jsonpointer-3.0.0 jsonschema-4.23.0 jsonschema-specifications-2024.10.1 jupyter-1.1.1 jupyter-console-6.6.3 jupyter-events-0.12.0 jupyter-lsp-2.2.5 jupyter-server-2.15.0 jupyter-server-terminals-0.5.3 jupyterlab-4.3.6 jupyterlab-pygments-0.3.0 jupyterlab-server-2.27.3 jupyterlab-widgets-3.0.13 markupsafe-3.0.2 mistune-3.1.3 nbclient-0.10.2 nbconvert-7.16.6 nbformat-5.10.4 notebook-7.3.3 notebook-shim-0.2.4 overrides-7.7.0 pandocfilters-1.5.1 prometheus-client-0.21.1 pycparser-2.22 python-json-logger-3.3.0 referencing-0.36.2 rfc3339-validator-0.1.4 rfc3986-validator-0.1.1 rpds-py-0.23.1 send2trash-1.8.3 setuptools-77.0.3 sniffio-1.3.1 soupsieve-2.6 terminado-0.18.1 tinycss2-1.4.0 types-python-dateutil-2.9.0.20241206 typing-extensions-4.12.2 uri-template-1.3.0 webcolors-24.11.1 webencodings-0.5.1 websocket-client-1.8.0 widgetsnbextension-4.0.13\n",
      "\n",
      "\u001b[1m[\u001b[0m\u001b[34;49mnotice\u001b[0m\u001b[1;39;49m]\u001b[0m\u001b[39;49m A new release of pip is available: \u001b[0m\u001b[31;49m24.0\u001b[0m\u001b[39;49m -> \u001b[0m\u001b[32;49m25.0.1\u001b[0m\n",
      "\u001b[1m[\u001b[0m\u001b[34;49mnotice\u001b[0m\u001b[1;39;49m]\u001b[0m\u001b[39;49m To update, run: \u001b[0m\u001b[32;49mpip install --upgrade pip\u001b[0m\n",
      "Note: you may need to restart the kernel to use updated packages.\n"
     ]
    }
   ],
   "source": [
    "%pip install tqdm Pillow ipywidgets jupyter ipykernel"
   ]
  },
  {
   "cell_type": "code",
   "execution_count": 17,
   "metadata": {},
   "outputs": [
    {
     "name": "stdout",
     "output_type": "stream",
     "text": [
      "Found 2 subdirectories to process:\n",
      "- rxrx3\n",
      "- rxrx3_temp\n",
      "--------------------------------------------------\n",
      "\n",
      "Processing directory: rxrx3\n",
      "Output directory: /Volumes/External SSD/rxrx3_resized/rxrx3_512\n"
     ]
    },
    {
     "data": {
      "application/vnd.jupyter.widget-view+json": {
       "model_id": "6eda0c01134d4c5aadd25105afb5ed11",
       "version_major": 2,
       "version_minor": 0
      },
      "text/plain": [
       "Scanning directories:   0%|          | 0/30 [00:00<?, ?it/s]"
      ]
     },
     "metadata": {},
     "output_type": "display_data"
    },
    {
     "name": "stdout",
     "output_type": "stream",
     "text": [
      "Found 155304 images to resize\n",
      "Using 12 workers\n",
      "Processing batch 1/1554\n"
     ]
    },
    {
     "data": {
      "application/vnd.jupyter.widget-view+json": {
       "model_id": "9743499b9a854ae7a3716a12b2cf5d3a",
       "version_major": 2,
       "version_minor": 0
      },
      "text/plain": [
       "Resizing images (rxrx3):   0%|          | 0/100 [00:00<?, ?it/s]"
      ]
     },
     "metadata": {},
     "output_type": "display_data"
    },
    {
     "name": "stdout",
     "output_type": "stream",
     "text": [
      "Processing batch 2/1554\n"
     ]
    },
    {
     "data": {
      "application/vnd.jupyter.widget-view+json": {
       "model_id": "f212f95be3bc4cb280abaf6844dad995",
       "version_major": 2,
       "version_minor": 0
      },
      "text/plain": [
       "Resizing images (rxrx3):   0%|          | 0/100 [00:00<?, ?it/s]"
      ]
     },
     "metadata": {},
     "output_type": "display_data"
    },
    {
     "name": "stdout",
     "output_type": "stream",
     "text": [
      "Processing batch 3/1554\n"
     ]
    },
    {
     "data": {
      "application/vnd.jupyter.widget-view+json": {
       "model_id": "035aeff17e88489faf332d1595b65ba9",
       "version_major": 2,
       "version_minor": 0
      },
      "text/plain": [
       "Resizing images (rxrx3):   0%|          | 0/100 [00:00<?, ?it/s]"
      ]
     },
     "metadata": {},
     "output_type": "display_data"
    },
    {
     "name": "stdout",
     "output_type": "stream",
     "text": [
      "Processing batch 4/1554\n"
     ]
    },
    {
     "data": {
      "application/vnd.jupyter.widget-view+json": {
       "model_id": "d0860f8624144e549025b99633ed3e1a",
       "version_major": 2,
       "version_minor": 0
      },
      "text/plain": [
       "Resizing images (rxrx3):   0%|          | 0/100 [00:00<?, ?it/s]"
      ]
     },
     "metadata": {},
     "output_type": "display_data"
    },
    {
     "name": "stdout",
     "output_type": "stream",
     "text": [
      "Processing batch 5/1554\n"
     ]
    },
    {
     "data": {
      "application/vnd.jupyter.widget-view+json": {
       "model_id": "2ee75cf8abc941ebbaaf10e57ef4f45a",
       "version_major": 2,
       "version_minor": 0
      },
      "text/plain": [
       "Resizing images (rxrx3):   0%|          | 0/100 [00:00<?, ?it/s]"
      ]
     },
     "metadata": {},
     "output_type": "display_data"
    },
    {
     "name": "stdout",
     "output_type": "stream",
     "text": [
      "Processing batch 6/1554\n"
     ]
    },
    {
     "data": {
      "application/vnd.jupyter.widget-view+json": {
       "model_id": "3ca94b4203b049b0a340ebf68c33a950",
       "version_major": 2,
       "version_minor": 0
      },
      "text/plain": [
       "Resizing images (rxrx3):   0%|          | 0/100 [00:00<?, ?it/s]"
      ]
     },
     "metadata": {},
     "output_type": "display_data"
    },
    {
     "name": "stdout",
     "output_type": "stream",
     "text": [
      "Processing batch 7/1554\n"
     ]
    },
    {
     "data": {
      "application/vnd.jupyter.widget-view+json": {
       "model_id": "01f1c891cdfa460b98a241959928730f",
       "version_major": 2,
       "version_minor": 0
      },
      "text/plain": [
       "Resizing images (rxrx3):   0%|          | 0/100 [00:00<?, ?it/s]"
      ]
     },
     "metadata": {},
     "output_type": "display_data"
    },
    {
     "name": "stdout",
     "output_type": "stream",
     "text": [
      "Processing batch 8/1554\n"
     ]
    },
    {
     "data": {
      "application/vnd.jupyter.widget-view+json": {
       "model_id": "2f35b60cfeaa425b94f2e49075630797",
       "version_major": 2,
       "version_minor": 0
      },
      "text/plain": [
       "Resizing images (rxrx3):   0%|          | 0/100 [00:00<?, ?it/s]"
      ]
     },
     "metadata": {},
     "output_type": "display_data"
    },
    {
     "name": "stdout",
     "output_type": "stream",
     "text": [
      "Processing batch 9/1554\n"
     ]
    },
    {
     "data": {
      "application/vnd.jupyter.widget-view+json": {
       "model_id": "c1422c1756c241aaa3d14b88a971123c",
       "version_major": 2,
       "version_minor": 0
      },
      "text/plain": [
       "Resizing images (rxrx3):   0%|          | 0/100 [00:00<?, ?it/s]"
      ]
     },
     "metadata": {},
     "output_type": "display_data"
    },
    {
     "name": "stdout",
     "output_type": "stream",
     "text": [
      "Processing batch 10/1554\n"
     ]
    },
    {
     "data": {
      "application/vnd.jupyter.widget-view+json": {
       "model_id": "2ae9958d5add4c9f851defd4674f997f",
       "version_major": 2,
       "version_minor": 0
      },
      "text/plain": [
       "Resizing images (rxrx3):   0%|          | 0/100 [00:00<?, ?it/s]"
      ]
     },
     "metadata": {},
     "output_type": "display_data"
    },
    {
     "name": "stdout",
     "output_type": "stream",
     "text": [
      "Processing batch 11/1554\n"
     ]
    },
    {
     "data": {
      "application/vnd.jupyter.widget-view+json": {
       "model_id": "96c002dbc49841a8b495ae494ce3e024",
       "version_major": 2,
       "version_minor": 0
      },
      "text/plain": [
       "Resizing images (rxrx3):   0%|          | 0/100 [00:00<?, ?it/s]"
      ]
     },
     "metadata": {},
     "output_type": "display_data"
    },
    {
     "name": "stdout",
     "output_type": "stream",
     "text": [
      "Processing batch 12/1554\n"
     ]
    },
    {
     "data": {
      "application/vnd.jupyter.widget-view+json": {
       "model_id": "46d87c8978744c52ba936bf9b48fd325",
       "version_major": 2,
       "version_minor": 0
      },
      "text/plain": [
       "Resizing images (rxrx3):   0%|          | 0/100 [00:00<?, ?it/s]"
      ]
     },
     "metadata": {},
     "output_type": "display_data"
    },
    {
     "name": "stdout",
     "output_type": "stream",
     "text": [
      "Processing batch 13/1554\n"
     ]
    },
    {
     "data": {
      "application/vnd.jupyter.widget-view+json": {
       "model_id": "bcd1fdaff2574c29a9fcb244e930d81b",
       "version_major": 2,
       "version_minor": 0
      },
      "text/plain": [
       "Resizing images (rxrx3):   0%|          | 0/100 [00:00<?, ?it/s]"
      ]
     },
     "metadata": {},
     "output_type": "display_data"
    },
    {
     "name": "stdout",
     "output_type": "stream",
     "text": [
      "Processing batch 14/1554\n"
     ]
    },
    {
     "data": {
      "application/vnd.jupyter.widget-view+json": {
       "model_id": "c62f9ae628a44603a50566dc03e4767c",
       "version_major": 2,
       "version_minor": 0
      },
      "text/plain": [
       "Resizing images (rxrx3):   0%|          | 0/100 [00:00<?, ?it/s]"
      ]
     },
     "metadata": {},
     "output_type": "display_data"
    },
    {
     "name": "stdout",
     "output_type": "stream",
     "text": [
      "Processing batch 15/1554\n"
     ]
    },
    {
     "data": {
      "application/vnd.jupyter.widget-view+json": {
       "model_id": "761847b61f2d43c2ac25f4adb20ec76a",
       "version_major": 2,
       "version_minor": 0
      },
      "text/plain": [
       "Resizing images (rxrx3):   0%|          | 0/100 [00:00<?, ?it/s]"
      ]
     },
     "metadata": {},
     "output_type": "display_data"
    },
    {
     "name": "stdout",
     "output_type": "stream",
     "text": [
      "Processing batch 16/1554\n"
     ]
    },
    {
     "data": {
      "application/vnd.jupyter.widget-view+json": {
       "model_id": "e2ba4b5bd289486bb15a8f0523fa81bc",
       "version_major": 2,
       "version_minor": 0
      },
      "text/plain": [
       "Resizing images (rxrx3):   0%|          | 0/100 [00:00<?, ?it/s]"
      ]
     },
     "metadata": {},
     "output_type": "display_data"
    },
    {
     "name": "stdout",
     "output_type": "stream",
     "text": [
      "Processing batch 17/1554\n"
     ]
    },
    {
     "data": {
      "application/vnd.jupyter.widget-view+json": {
       "model_id": "6bfac145f0824ebb96402a01bae622fe",
       "version_major": 2,
       "version_minor": 0
      },
      "text/plain": [
       "Resizing images (rxrx3):   0%|          | 0/100 [00:00<?, ?it/s]"
      ]
     },
     "metadata": {},
     "output_type": "display_data"
    },
    {
     "name": "stdout",
     "output_type": "stream",
     "text": [
      "Processing batch 18/1554\n"
     ]
    },
    {
     "data": {
      "application/vnd.jupyter.widget-view+json": {
       "model_id": "d1f449392a434719a63d07f38536fac3",
       "version_major": 2,
       "version_minor": 0
      },
      "text/plain": [
       "Resizing images (rxrx3):   0%|          | 0/100 [00:00<?, ?it/s]"
      ]
     },
     "metadata": {},
     "output_type": "display_data"
    },
    {
     "name": "stdout",
     "output_type": "stream",
     "text": [
      "Processing batch 19/1554\n"
     ]
    },
    {
     "data": {
      "application/vnd.jupyter.widget-view+json": {
       "model_id": "d366817fe61347e2b5b419342a3b67ec",
       "version_major": 2,
       "version_minor": 0
      },
      "text/plain": [
       "Resizing images (rxrx3):   0%|          | 0/100 [00:00<?, ?it/s]"
      ]
     },
     "metadata": {},
     "output_type": "display_data"
    },
    {
     "name": "stdout",
     "output_type": "stream",
     "text": [
      "Processing batch 20/1554\n"
     ]
    },
    {
     "data": {
      "application/vnd.jupyter.widget-view+json": {
       "model_id": "b093f39f2ad64bf5afe1b1a483260662",
       "version_major": 2,
       "version_minor": 0
      },
      "text/plain": [
       "Resizing images (rxrx3):   0%|          | 0/100 [00:00<?, ?it/s]"
      ]
     },
     "metadata": {},
     "output_type": "display_data"
    },
    {
     "name": "stdout",
     "output_type": "stream",
     "text": [
      "Processing batch 21/1554\n"
     ]
    },
    {
     "data": {
      "application/vnd.jupyter.widget-view+json": {
       "model_id": "dbe94ec9764f4f32b926677a5cac5eb5",
       "version_major": 2,
       "version_minor": 0
      },
      "text/plain": [
       "Resizing images (rxrx3):   0%|          | 0/100 [00:00<?, ?it/s]"
      ]
     },
     "metadata": {},
     "output_type": "display_data"
    },
    {
     "name": "stdout",
     "output_type": "stream",
     "text": [
      "Processing batch 22/1554\n"
     ]
    },
    {
     "data": {
      "application/vnd.jupyter.widget-view+json": {
       "model_id": "aadd91b93cba4a5ab534289bcbe57f32",
       "version_major": 2,
       "version_minor": 0
      },
      "text/plain": [
       "Resizing images (rxrx3):   0%|          | 0/100 [00:00<?, ?it/s]"
      ]
     },
     "metadata": {},
     "output_type": "display_data"
    },
    {
     "name": "stdout",
     "output_type": "stream",
     "text": [
      "Processing batch 23/1554\n"
     ]
    },
    {
     "data": {
      "application/vnd.jupyter.widget-view+json": {
       "model_id": "b33c0f17b7b04dabafd2de5dd84264a2",
       "version_major": 2,
       "version_minor": 0
      },
      "text/plain": [
       "Resizing images (rxrx3):   0%|          | 0/100 [00:00<?, ?it/s]"
      ]
     },
     "metadata": {},
     "output_type": "display_data"
    },
    {
     "name": "stdout",
     "output_type": "stream",
     "text": [
      "Processing batch 24/1554\n"
     ]
    },
    {
     "data": {
      "application/vnd.jupyter.widget-view+json": {
       "model_id": "b29472a0c31447cd91346286204a8515",
       "version_major": 2,
       "version_minor": 0
      },
      "text/plain": [
       "Resizing images (rxrx3):   0%|          | 0/100 [00:00<?, ?it/s]"
      ]
     },
     "metadata": {},
     "output_type": "display_data"
    },
    {
     "name": "stdout",
     "output_type": "stream",
     "text": [
      "Processing batch 25/1554\n"
     ]
    },
    {
     "data": {
      "application/vnd.jupyter.widget-view+json": {
       "model_id": "18d1f29a1e6043ccb5db0db9e6e5856d",
       "version_major": 2,
       "version_minor": 0
      },
      "text/plain": [
       "Resizing images (rxrx3):   0%|          | 0/100 [00:00<?, ?it/s]"
      ]
     },
     "metadata": {},
     "output_type": "display_data"
    },
    {
     "name": "stdout",
     "output_type": "stream",
     "text": [
      "Processing batch 26/1554\n"
     ]
    },
    {
     "data": {
      "application/vnd.jupyter.widget-view+json": {
       "model_id": "ff2678528e1b4ec5ad51bf57cfd458b3",
       "version_major": 2,
       "version_minor": 0
      },
      "text/plain": [
       "Resizing images (rxrx3):   0%|          | 0/100 [00:00<?, ?it/s]"
      ]
     },
     "metadata": {},
     "output_type": "display_data"
    },
    {
     "name": "stdout",
     "output_type": "stream",
     "text": [
      "Processing batch 27/1554\n"
     ]
    },
    {
     "data": {
      "application/vnd.jupyter.widget-view+json": {
       "model_id": "217d3e904bfe4c0783d34866b8920d2b",
       "version_major": 2,
       "version_minor": 0
      },
      "text/plain": [
       "Resizing images (rxrx3):   0%|          | 0/100 [00:00<?, ?it/s]"
      ]
     },
     "metadata": {},
     "output_type": "display_data"
    },
    {
     "name": "stdout",
     "output_type": "stream",
     "text": [
      "Processing batch 28/1554\n"
     ]
    },
    {
     "data": {
      "application/vnd.jupyter.widget-view+json": {
       "model_id": "7e960c2e784c423298e4533ac18a33c1",
       "version_major": 2,
       "version_minor": 0
      },
      "text/plain": [
       "Resizing images (rxrx3):   0%|          | 0/100 [00:00<?, ?it/s]"
      ]
     },
     "metadata": {},
     "output_type": "display_data"
    },
    {
     "name": "stdout",
     "output_type": "stream",
     "text": [
      "Processing batch 29/1554\n"
     ]
    },
    {
     "data": {
      "application/vnd.jupyter.widget-view+json": {
       "model_id": "a8603df570c84cafb69bc9ff01ae4472",
       "version_major": 2,
       "version_minor": 0
      },
      "text/plain": [
       "Resizing images (rxrx3):   0%|          | 0/100 [00:00<?, ?it/s]"
      ]
     },
     "metadata": {},
     "output_type": "display_data"
    },
    {
     "name": "stdout",
     "output_type": "stream",
     "text": [
      "Processing batch 30/1554\n"
     ]
    },
    {
     "data": {
      "application/vnd.jupyter.widget-view+json": {
       "model_id": "4ec15f7d7b8a497cbddedf85856ba0d5",
       "version_major": 2,
       "version_minor": 0
      },
      "text/plain": [
       "Resizing images (rxrx3):   0%|          | 0/100 [00:00<?, ?it/s]"
      ]
     },
     "metadata": {},
     "output_type": "display_data"
    },
    {
     "name": "stdout",
     "output_type": "stream",
     "text": [
      "Processing batch 31/1554\n"
     ]
    },
    {
     "data": {
      "application/vnd.jupyter.widget-view+json": {
       "model_id": "bd0a6c5da9a2475c8b75447124138c37",
       "version_major": 2,
       "version_minor": 0
      },
      "text/plain": [
       "Resizing images (rxrx3):   0%|          | 0/100 [00:00<?, ?it/s]"
      ]
     },
     "metadata": {},
     "output_type": "display_data"
    },
    {
     "name": "stdout",
     "output_type": "stream",
     "text": [
      "Processing batch 32/1554\n"
     ]
    },
    {
     "data": {
      "application/vnd.jupyter.widget-view+json": {
       "model_id": "841739bcb3ac44f2b8e9e47efaee2567",
       "version_major": 2,
       "version_minor": 0
      },
      "text/plain": [
       "Resizing images (rxrx3):   0%|          | 0/100 [00:00<?, ?it/s]"
      ]
     },
     "metadata": {},
     "output_type": "display_data"
    },
    {
     "name": "stdout",
     "output_type": "stream",
     "text": [
      "Processing batch 33/1554\n"
     ]
    },
    {
     "data": {
      "application/vnd.jupyter.widget-view+json": {
       "model_id": "529480285de040589a24e374ded5bed7",
       "version_major": 2,
       "version_minor": 0
      },
      "text/plain": [
       "Resizing images (rxrx3):   0%|          | 0/100 [00:00<?, ?it/s]"
      ]
     },
     "metadata": {},
     "output_type": "display_data"
    },
    {
     "name": "stdout",
     "output_type": "stream",
     "text": [
      "Processing batch 34/1554\n"
     ]
    },
    {
     "data": {
      "application/vnd.jupyter.widget-view+json": {
       "model_id": "9cdf54612813433bb054149906e929e6",
       "version_major": 2,
       "version_minor": 0
      },
      "text/plain": [
       "Resizing images (rxrx3):   0%|          | 0/100 [00:00<?, ?it/s]"
      ]
     },
     "metadata": {},
     "output_type": "display_data"
    },
    {
     "name": "stdout",
     "output_type": "stream",
     "text": [
      "Processing batch 35/1554\n"
     ]
    },
    {
     "data": {
      "application/vnd.jupyter.widget-view+json": {
       "model_id": "a208cbb190d44720832a0d21526385d9",
       "version_major": 2,
       "version_minor": 0
      },
      "text/plain": [
       "Resizing images (rxrx3):   0%|          | 0/100 [00:00<?, ?it/s]"
      ]
     },
     "metadata": {},
     "output_type": "display_data"
    },
    {
     "name": "stdout",
     "output_type": "stream",
     "text": [
      "Processing batch 36/1554\n"
     ]
    },
    {
     "data": {
      "application/vnd.jupyter.widget-view+json": {
       "model_id": "6ce8ffb8eac64dd1bdd5fd5c4c5eb4ea",
       "version_major": 2,
       "version_minor": 0
      },
      "text/plain": [
       "Resizing images (rxrx3):   0%|          | 0/100 [00:00<?, ?it/s]"
      ]
     },
     "metadata": {},
     "output_type": "display_data"
    },
    {
     "name": "stdout",
     "output_type": "stream",
     "text": [
      "Processing batch 37/1554\n"
     ]
    },
    {
     "data": {
      "application/vnd.jupyter.widget-view+json": {
       "model_id": "393563b896f74d3cb9cd809a9ad85f75",
       "version_major": 2,
       "version_minor": 0
      },
      "text/plain": [
       "Resizing images (rxrx3):   0%|          | 0/100 [00:00<?, ?it/s]"
      ]
     },
     "metadata": {},
     "output_type": "display_data"
    },
    {
     "name": "stdout",
     "output_type": "stream",
     "text": [
      "Processing batch 38/1554\n"
     ]
    },
    {
     "data": {
      "application/vnd.jupyter.widget-view+json": {
       "model_id": "32cdc75557104351ac8b4609a6d6cbcb",
       "version_major": 2,
       "version_minor": 0
      },
      "text/plain": [
       "Resizing images (rxrx3):   0%|          | 0/100 [00:00<?, ?it/s]"
      ]
     },
     "metadata": {},
     "output_type": "display_data"
    },
    {
     "name": "stdout",
     "output_type": "stream",
     "text": [
      "Processing batch 39/1554\n"
     ]
    },
    {
     "data": {
      "application/vnd.jupyter.widget-view+json": {
       "model_id": "30d8c8de328e46e7aeba0696595af385",
       "version_major": 2,
       "version_minor": 0
      },
      "text/plain": [
       "Resizing images (rxrx3):   0%|          | 0/100 [00:00<?, ?it/s]"
      ]
     },
     "metadata": {},
     "output_type": "display_data"
    },
    {
     "name": "stdout",
     "output_type": "stream",
     "text": [
      "Processing batch 40/1554\n"
     ]
    },
    {
     "data": {
      "application/vnd.jupyter.widget-view+json": {
       "model_id": "4f61577abbef45a0abff442c80b3d43f",
       "version_major": 2,
       "version_minor": 0
      },
      "text/plain": [
       "Resizing images (rxrx3):   0%|          | 0/100 [00:00<?, ?it/s]"
      ]
     },
     "metadata": {},
     "output_type": "display_data"
    },
    {
     "name": "stdout",
     "output_type": "stream",
     "text": [
      "Processing batch 41/1554\n"
     ]
    },
    {
     "data": {
      "application/vnd.jupyter.widget-view+json": {
       "model_id": "f4e360dda13e49b6b91593d9d586a0ba",
       "version_major": 2,
       "version_minor": 0
      },
      "text/plain": [
       "Resizing images (rxrx3):   0%|          | 0/100 [00:00<?, ?it/s]"
      ]
     },
     "metadata": {},
     "output_type": "display_data"
    },
    {
     "name": "stdout",
     "output_type": "stream",
     "text": [
      "Processing batch 42/1554\n"
     ]
    },
    {
     "data": {
      "application/vnd.jupyter.widget-view+json": {
       "model_id": "d85bb960453844e48be70d61ba84f504",
       "version_major": 2,
       "version_minor": 0
      },
      "text/plain": [
       "Resizing images (rxrx3):   0%|          | 0/100 [00:00<?, ?it/s]"
      ]
     },
     "metadata": {},
     "output_type": "display_data"
    },
    {
     "name": "stdout",
     "output_type": "stream",
     "text": [
      "Processing batch 43/1554\n"
     ]
    },
    {
     "data": {
      "application/vnd.jupyter.widget-view+json": {
       "model_id": "bbc130de628840a7b535f382c3bfab12",
       "version_major": 2,
       "version_minor": 0
      },
      "text/plain": [
       "Resizing images (rxrx3):   0%|          | 0/100 [00:00<?, ?it/s]"
      ]
     },
     "metadata": {},
     "output_type": "display_data"
    },
    {
     "name": "stdout",
     "output_type": "stream",
     "text": [
      "Processing batch 44/1554\n"
     ]
    },
    {
     "data": {
      "application/vnd.jupyter.widget-view+json": {
       "model_id": "41712a62350b422bbc52d42e54cde60c",
       "version_major": 2,
       "version_minor": 0
      },
      "text/plain": [
       "Resizing images (rxrx3):   0%|          | 0/100 [00:00<?, ?it/s]"
      ]
     },
     "metadata": {},
     "output_type": "display_data"
    },
    {
     "name": "stdout",
     "output_type": "stream",
     "text": [
      "Processing batch 45/1554\n"
     ]
    },
    {
     "data": {
      "application/vnd.jupyter.widget-view+json": {
       "model_id": "5babcdaaf650413f9303c6adecef2dcf",
       "version_major": 2,
       "version_minor": 0
      },
      "text/plain": [
       "Resizing images (rxrx3):   0%|          | 0/100 [00:00<?, ?it/s]"
      ]
     },
     "metadata": {},
     "output_type": "display_data"
    },
    {
     "name": "stdout",
     "output_type": "stream",
     "text": [
      "Processing batch 46/1554\n"
     ]
    },
    {
     "data": {
      "application/vnd.jupyter.widget-view+json": {
       "model_id": "d634c633a70644fcaf1cf62145184548",
       "version_major": 2,
       "version_minor": 0
      },
      "text/plain": [
       "Resizing images (rxrx3):   0%|          | 0/100 [00:00<?, ?it/s]"
      ]
     },
     "metadata": {},
     "output_type": "display_data"
    },
    {
     "name": "stdout",
     "output_type": "stream",
     "text": [
      "Processing batch 47/1554\n"
     ]
    },
    {
     "data": {
      "application/vnd.jupyter.widget-view+json": {
       "model_id": "48c6bc441cbf4102a9ee0cf461fd5974",
       "version_major": 2,
       "version_minor": 0
      },
      "text/plain": [
       "Resizing images (rxrx3):   0%|          | 0/100 [00:00<?, ?it/s]"
      ]
     },
     "metadata": {},
     "output_type": "display_data"
    },
    {
     "name": "stdout",
     "output_type": "stream",
     "text": [
      "Processing batch 48/1554\n"
     ]
    },
    {
     "data": {
      "application/vnd.jupyter.widget-view+json": {
       "model_id": "7aa268d7a26f42d3b0288f266c7e5526",
       "version_major": 2,
       "version_minor": 0
      },
      "text/plain": [
       "Resizing images (rxrx3):   0%|          | 0/100 [00:00<?, ?it/s]"
      ]
     },
     "metadata": {},
     "output_type": "display_data"
    },
    {
     "name": "stdout",
     "output_type": "stream",
     "text": [
      "Processing batch 49/1554\n"
     ]
    },
    {
     "data": {
      "application/vnd.jupyter.widget-view+json": {
       "model_id": "e876f352d72d46b2b205dd800a06e8b7",
       "version_major": 2,
       "version_minor": 0
      },
      "text/plain": [
       "Resizing images (rxrx3):   0%|          | 0/100 [00:00<?, ?it/s]"
      ]
     },
     "metadata": {},
     "output_type": "display_data"
    },
    {
     "name": "stdout",
     "output_type": "stream",
     "text": [
      "Processing batch 50/1554\n"
     ]
    },
    {
     "data": {
      "application/vnd.jupyter.widget-view+json": {
       "model_id": "5d7fcc112d0146e68151e614878d0a08",
       "version_major": 2,
       "version_minor": 0
      },
      "text/plain": [
       "Resizing images (rxrx3):   0%|          | 0/100 [00:00<?, ?it/s]"
      ]
     },
     "metadata": {},
     "output_type": "display_data"
    },
    {
     "name": "stdout",
     "output_type": "stream",
     "text": [
      "Processing batch 51/1554\n"
     ]
    },
    {
     "data": {
      "application/vnd.jupyter.widget-view+json": {
       "model_id": "ef6765b9e83e48ae891d6fdbe09b504a",
       "version_major": 2,
       "version_minor": 0
      },
      "text/plain": [
       "Resizing images (rxrx3):   0%|          | 0/100 [00:00<?, ?it/s]"
      ]
     },
     "metadata": {},
     "output_type": "display_data"
    },
    {
     "name": "stdout",
     "output_type": "stream",
     "text": [
      "Processing batch 52/1554\n"
     ]
    },
    {
     "data": {
      "application/vnd.jupyter.widget-view+json": {
       "model_id": "5f53720fad3c49a5aa48c1d000441e38",
       "version_major": 2,
       "version_minor": 0
      },
      "text/plain": [
       "Resizing images (rxrx3):   0%|          | 0/100 [00:00<?, ?it/s]"
      ]
     },
     "metadata": {},
     "output_type": "display_data"
    },
    {
     "name": "stdout",
     "output_type": "stream",
     "text": [
      "Processing batch 53/1554\n"
     ]
    },
    {
     "data": {
      "application/vnd.jupyter.widget-view+json": {
       "model_id": "421e55e1df094ea6a42a959935098608",
       "version_major": 2,
       "version_minor": 0
      },
      "text/plain": [
       "Resizing images (rxrx3):   0%|          | 0/100 [00:00<?, ?it/s]"
      ]
     },
     "metadata": {},
     "output_type": "display_data"
    },
    {
     "name": "stdout",
     "output_type": "stream",
     "text": [
      "Processing batch 54/1554\n"
     ]
    },
    {
     "data": {
      "application/vnd.jupyter.widget-view+json": {
       "model_id": "566fbb30954949bb994679c7d17c5900",
       "version_major": 2,
       "version_minor": 0
      },
      "text/plain": [
       "Resizing images (rxrx3):   0%|          | 0/100 [00:00<?, ?it/s]"
      ]
     },
     "metadata": {},
     "output_type": "display_data"
    },
    {
     "name": "stdout",
     "output_type": "stream",
     "text": [
      "Processing batch 55/1554\n"
     ]
    },
    {
     "data": {
      "application/vnd.jupyter.widget-view+json": {
       "model_id": "350ffe1dc8c944e4ab91567639f0e1c4",
       "version_major": 2,
       "version_minor": 0
      },
      "text/plain": [
       "Resizing images (rxrx3):   0%|          | 0/100 [00:00<?, ?it/s]"
      ]
     },
     "metadata": {},
     "output_type": "display_data"
    },
    {
     "name": "stdout",
     "output_type": "stream",
     "text": [
      "Processing batch 56/1554\n"
     ]
    },
    {
     "data": {
      "application/vnd.jupyter.widget-view+json": {
       "model_id": "4ec7a6fd339646d4a8a76c0c7ac44d9f",
       "version_major": 2,
       "version_minor": 0
      },
      "text/plain": [
       "Resizing images (rxrx3):   0%|          | 0/100 [00:00<?, ?it/s]"
      ]
     },
     "metadata": {},
     "output_type": "display_data"
    },
    {
     "name": "stdout",
     "output_type": "stream",
     "text": [
      "Processing batch 57/1554\n"
     ]
    },
    {
     "data": {
      "application/vnd.jupyter.widget-view+json": {
       "model_id": "b1176a7492684f8c91a2c8f3f8fb85bf",
       "version_major": 2,
       "version_minor": 0
      },
      "text/plain": [
       "Resizing images (rxrx3):   0%|          | 0/100 [00:00<?, ?it/s]"
      ]
     },
     "metadata": {},
     "output_type": "display_data"
    },
    {
     "name": "stdout",
     "output_type": "stream",
     "text": [
      "Processing batch 58/1554\n"
     ]
    },
    {
     "data": {
      "application/vnd.jupyter.widget-view+json": {
       "model_id": "5c2c648c34a44b61ab7419a4d5ef43ed",
       "version_major": 2,
       "version_minor": 0
      },
      "text/plain": [
       "Resizing images (rxrx3):   0%|          | 0/100 [00:00<?, ?it/s]"
      ]
     },
     "metadata": {},
     "output_type": "display_data"
    },
    {
     "name": "stdout",
     "output_type": "stream",
     "text": [
      "Processing batch 59/1554\n"
     ]
    },
    {
     "data": {
      "application/vnd.jupyter.widget-view+json": {
       "model_id": "cd23a4e98a734658a1fc10bcaa944133",
       "version_major": 2,
       "version_minor": 0
      },
      "text/plain": [
       "Resizing images (rxrx3):   0%|          | 0/100 [00:00<?, ?it/s]"
      ]
     },
     "metadata": {},
     "output_type": "display_data"
    },
    {
     "name": "stdout",
     "output_type": "stream",
     "text": [
      "Processing batch 60/1554\n"
     ]
    },
    {
     "data": {
      "application/vnd.jupyter.widget-view+json": {
       "model_id": "b5eaa945fcf1493c8d9b589fb9646fc6",
       "version_major": 2,
       "version_minor": 0
      },
      "text/plain": [
       "Resizing images (rxrx3):   0%|          | 0/100 [00:00<?, ?it/s]"
      ]
     },
     "metadata": {},
     "output_type": "display_data"
    },
    {
     "name": "stdout",
     "output_type": "stream",
     "text": [
      "Processing batch 61/1554\n"
     ]
    },
    {
     "data": {
      "application/vnd.jupyter.widget-view+json": {
       "model_id": "044cefbd43a4408e86a2f667717fc8fb",
       "version_major": 2,
       "version_minor": 0
      },
      "text/plain": [
       "Resizing images (rxrx3):   0%|          | 0/100 [00:00<?, ?it/s]"
      ]
     },
     "metadata": {},
     "output_type": "display_data"
    },
    {
     "name": "stdout",
     "output_type": "stream",
     "text": [
      "Processing batch 62/1554\n"
     ]
    },
    {
     "data": {
      "application/vnd.jupyter.widget-view+json": {
       "model_id": "c3e84ce59dd841eebb2ef0870074eb26",
       "version_major": 2,
       "version_minor": 0
      },
      "text/plain": [
       "Resizing images (rxrx3):   0%|          | 0/100 [00:00<?, ?it/s]"
      ]
     },
     "metadata": {},
     "output_type": "display_data"
    },
    {
     "name": "stdout",
     "output_type": "stream",
     "text": [
      "Processing batch 63/1554\n"
     ]
    },
    {
     "data": {
      "application/vnd.jupyter.widget-view+json": {
       "model_id": "4a8d74ccec894ce1b4045a87392e45a0",
       "version_major": 2,
       "version_minor": 0
      },
      "text/plain": [
       "Resizing images (rxrx3):   0%|          | 0/100 [00:00<?, ?it/s]"
      ]
     },
     "metadata": {},
     "output_type": "display_data"
    },
    {
     "name": "stdout",
     "output_type": "stream",
     "text": [
      "Processing batch 64/1554\n"
     ]
    },
    {
     "data": {
      "application/vnd.jupyter.widget-view+json": {
       "model_id": "a637e98cfcf94c9a82d31d214a36ab12",
       "version_major": 2,
       "version_minor": 0
      },
      "text/plain": [
       "Resizing images (rxrx3):   0%|          | 0/100 [00:00<?, ?it/s]"
      ]
     },
     "metadata": {},
     "output_type": "display_data"
    },
    {
     "name": "stdout",
     "output_type": "stream",
     "text": [
      "Processing batch 65/1554\n"
     ]
    },
    {
     "data": {
      "application/vnd.jupyter.widget-view+json": {
       "model_id": "d81246d2b65d40e8ab2c802a31fe19a3",
       "version_major": 2,
       "version_minor": 0
      },
      "text/plain": [
       "Resizing images (rxrx3):   0%|          | 0/100 [00:00<?, ?it/s]"
      ]
     },
     "metadata": {},
     "output_type": "display_data"
    },
    {
     "name": "stdout",
     "output_type": "stream",
     "text": [
      "Processing batch 66/1554\n"
     ]
    },
    {
     "data": {
      "application/vnd.jupyter.widget-view+json": {
       "model_id": "3f47cd7311244cf3a5b1f154d909d1bf",
       "version_major": 2,
       "version_minor": 0
      },
      "text/plain": [
       "Resizing images (rxrx3):   0%|          | 0/100 [00:00<?, ?it/s]"
      ]
     },
     "metadata": {},
     "output_type": "display_data"
    },
    {
     "name": "stdout",
     "output_type": "stream",
     "text": [
      "Processing batch 67/1554\n"
     ]
    },
    {
     "data": {
      "application/vnd.jupyter.widget-view+json": {
       "model_id": "375120719a864edba24275b27d604177",
       "version_major": 2,
       "version_minor": 0
      },
      "text/plain": [
       "Resizing images (rxrx3):   0%|          | 0/100 [00:00<?, ?it/s]"
      ]
     },
     "metadata": {},
     "output_type": "display_data"
    },
    {
     "name": "stdout",
     "output_type": "stream",
     "text": [
      "Processing batch 68/1554\n"
     ]
    },
    {
     "data": {
      "application/vnd.jupyter.widget-view+json": {
       "model_id": "0955ab8ceadf4f73bd1fdca5c470f83c",
       "version_major": 2,
       "version_minor": 0
      },
      "text/plain": [
       "Resizing images (rxrx3):   0%|          | 0/100 [00:00<?, ?it/s]"
      ]
     },
     "metadata": {},
     "output_type": "display_data"
    },
    {
     "name": "stdout",
     "output_type": "stream",
     "text": [
      "Processing batch 69/1554\n"
     ]
    },
    {
     "data": {
      "application/vnd.jupyter.widget-view+json": {
       "model_id": "c98e07942fe540f29585fac0fcc6cb6b",
       "version_major": 2,
       "version_minor": 0
      },
      "text/plain": [
       "Resizing images (rxrx3):   0%|          | 0/100 [00:00<?, ?it/s]"
      ]
     },
     "metadata": {},
     "output_type": "display_data"
    },
    {
     "name": "stdout",
     "output_type": "stream",
     "text": [
      "Processing batch 70/1554\n"
     ]
    },
    {
     "data": {
      "application/vnd.jupyter.widget-view+json": {
       "model_id": "b5ec80b542c94109977542ea6aef5509",
       "version_major": 2,
       "version_minor": 0
      },
      "text/plain": [
       "Resizing images (rxrx3):   0%|          | 0/100 [00:00<?, ?it/s]"
      ]
     },
     "metadata": {},
     "output_type": "display_data"
    },
    {
     "name": "stdout",
     "output_type": "stream",
     "text": [
      "Processing batch 71/1554\n"
     ]
    },
    {
     "data": {
      "application/vnd.jupyter.widget-view+json": {
       "model_id": "28698edf677e4860b77036065ea0432a",
       "version_major": 2,
       "version_minor": 0
      },
      "text/plain": [
       "Resizing images (rxrx3):   0%|          | 0/100 [00:00<?, ?it/s]"
      ]
     },
     "metadata": {},
     "output_type": "display_data"
    },
    {
     "name": "stdout",
     "output_type": "stream",
     "text": [
      "Processing batch 72/1554\n"
     ]
    },
    {
     "data": {
      "application/vnd.jupyter.widget-view+json": {
       "model_id": "453fda9b7b7f4e92ae966197aa83df7a",
       "version_major": 2,
       "version_minor": 0
      },
      "text/plain": [
       "Resizing images (rxrx3):   0%|          | 0/100 [00:00<?, ?it/s]"
      ]
     },
     "metadata": {},
     "output_type": "display_data"
    },
    {
     "name": "stdout",
     "output_type": "stream",
     "text": [
      "Processing batch 73/1554\n"
     ]
    },
    {
     "data": {
      "application/vnd.jupyter.widget-view+json": {
       "model_id": "e2da11a21a50480dbded1f9a05816c81",
       "version_major": 2,
       "version_minor": 0
      },
      "text/plain": [
       "Resizing images (rxrx3):   0%|          | 0/100 [00:00<?, ?it/s]"
      ]
     },
     "metadata": {},
     "output_type": "display_data"
    },
    {
     "name": "stdout",
     "output_type": "stream",
     "text": [
      "Processing batch 74/1554\n"
     ]
    },
    {
     "data": {
      "application/vnd.jupyter.widget-view+json": {
       "model_id": "78e17997fce44ffa8e3d5bfded2fe2f1",
       "version_major": 2,
       "version_minor": 0
      },
      "text/plain": [
       "Resizing images (rxrx3):   0%|          | 0/100 [00:00<?, ?it/s]"
      ]
     },
     "metadata": {},
     "output_type": "display_data"
    },
    {
     "name": "stdout",
     "output_type": "stream",
     "text": [
      "Processing batch 75/1554\n"
     ]
    },
    {
     "data": {
      "application/vnd.jupyter.widget-view+json": {
       "model_id": "3c579f70b8fc47a99931c6a22c2da027",
       "version_major": 2,
       "version_minor": 0
      },
      "text/plain": [
       "Resizing images (rxrx3):   0%|          | 0/100 [00:00<?, ?it/s]"
      ]
     },
     "metadata": {},
     "output_type": "display_data"
    },
    {
     "name": "stdout",
     "output_type": "stream",
     "text": [
      "Processing batch 76/1554\n"
     ]
    },
    {
     "data": {
      "application/vnd.jupyter.widget-view+json": {
       "model_id": "feffd906b8ad4fa5add9de743c262cba",
       "version_major": 2,
       "version_minor": 0
      },
      "text/plain": [
       "Resizing images (rxrx3):   0%|          | 0/100 [00:00<?, ?it/s]"
      ]
     },
     "metadata": {},
     "output_type": "display_data"
    },
    {
     "name": "stdout",
     "output_type": "stream",
     "text": [
      "Processing batch 77/1554\n"
     ]
    },
    {
     "data": {
      "application/vnd.jupyter.widget-view+json": {
       "model_id": "4a84454922a443318054df9fb4f38d20",
       "version_major": 2,
       "version_minor": 0
      },
      "text/plain": [
       "Resizing images (rxrx3):   0%|          | 0/100 [00:00<?, ?it/s]"
      ]
     },
     "metadata": {},
     "output_type": "display_data"
    },
    {
     "name": "stdout",
     "output_type": "stream",
     "text": [
      "Processing batch 78/1554\n"
     ]
    },
    {
     "data": {
      "application/vnd.jupyter.widget-view+json": {
       "model_id": "08386c5900a8453097ce86402676ccd0",
       "version_major": 2,
       "version_minor": 0
      },
      "text/plain": [
       "Resizing images (rxrx3):   0%|          | 0/100 [00:00<?, ?it/s]"
      ]
     },
     "metadata": {},
     "output_type": "display_data"
    },
    {
     "name": "stdout",
     "output_type": "stream",
     "text": [
      "Processing batch 79/1554\n"
     ]
    },
    {
     "data": {
      "application/vnd.jupyter.widget-view+json": {
       "model_id": "200ba9e73f974b53bd669e428e876e7a",
       "version_major": 2,
       "version_minor": 0
      },
      "text/plain": [
       "Resizing images (rxrx3):   0%|          | 0/100 [00:00<?, ?it/s]"
      ]
     },
     "metadata": {},
     "output_type": "display_data"
    },
    {
     "name": "stdout",
     "output_type": "stream",
     "text": [
      "Processing batch 80/1554\n"
     ]
    },
    {
     "data": {
      "application/vnd.jupyter.widget-view+json": {
       "model_id": "458e052bb2984469b5512987613dbe0c",
       "version_major": 2,
       "version_minor": 0
      },
      "text/plain": [
       "Resizing images (rxrx3):   0%|          | 0/100 [00:00<?, ?it/s]"
      ]
     },
     "metadata": {},
     "output_type": "display_data"
    },
    {
     "name": "stdout",
     "output_type": "stream",
     "text": [
      "Processing batch 81/1554\n"
     ]
    },
    {
     "data": {
      "application/vnd.jupyter.widget-view+json": {
       "model_id": "86a0540b401b4a19b6d3559a11a05e7d",
       "version_major": 2,
       "version_minor": 0
      },
      "text/plain": [
       "Resizing images (rxrx3):   0%|          | 0/100 [00:00<?, ?it/s]"
      ]
     },
     "metadata": {},
     "output_type": "display_data"
    },
    {
     "name": "stdout",
     "output_type": "stream",
     "text": [
      "Processing batch 82/1554\n"
     ]
    },
    {
     "data": {
      "application/vnd.jupyter.widget-view+json": {
       "model_id": "0bca63a63b9848219ec2126accd6c963",
       "version_major": 2,
       "version_minor": 0
      },
      "text/plain": [
       "Resizing images (rxrx3):   0%|          | 0/100 [00:00<?, ?it/s]"
      ]
     },
     "metadata": {},
     "output_type": "display_data"
    },
    {
     "name": "stdout",
     "output_type": "stream",
     "text": [
      "Processing batch 83/1554\n"
     ]
    },
    {
     "data": {
      "application/vnd.jupyter.widget-view+json": {
       "model_id": "c0f961e346564bcbaafc7c80e4b558c8",
       "version_major": 2,
       "version_minor": 0
      },
      "text/plain": [
       "Resizing images (rxrx3):   0%|          | 0/100 [00:00<?, ?it/s]"
      ]
     },
     "metadata": {},
     "output_type": "display_data"
    },
    {
     "name": "stdout",
     "output_type": "stream",
     "text": [
      "Processing batch 84/1554\n"
     ]
    },
    {
     "data": {
      "application/vnd.jupyter.widget-view+json": {
       "model_id": "cd71b6681b9646cd822c1a0833e0a5db",
       "version_major": 2,
       "version_minor": 0
      },
      "text/plain": [
       "Resizing images (rxrx3):   0%|          | 0/100 [00:00<?, ?it/s]"
      ]
     },
     "metadata": {},
     "output_type": "display_data"
    },
    {
     "name": "stdout",
     "output_type": "stream",
     "text": [
      "Processing batch 85/1554\n"
     ]
    },
    {
     "data": {
      "application/vnd.jupyter.widget-view+json": {
       "model_id": "f9c7d7199c694d59822dd44231d95424",
       "version_major": 2,
       "version_minor": 0
      },
      "text/plain": [
       "Resizing images (rxrx3):   0%|          | 0/100 [00:00<?, ?it/s]"
      ]
     },
     "metadata": {},
     "output_type": "display_data"
    },
    {
     "name": "stdout",
     "output_type": "stream",
     "text": [
      "Processing batch 86/1554\n"
     ]
    },
    {
     "data": {
      "application/vnd.jupyter.widget-view+json": {
       "model_id": "fe96f7163d4d4e29b792caf0b39c5914",
       "version_major": 2,
       "version_minor": 0
      },
      "text/plain": [
       "Resizing images (rxrx3):   0%|          | 0/100 [00:00<?, ?it/s]"
      ]
     },
     "metadata": {},
     "output_type": "display_data"
    },
    {
     "name": "stdout",
     "output_type": "stream",
     "text": [
      "Processing batch 87/1554\n"
     ]
    },
    {
     "data": {
      "application/vnd.jupyter.widget-view+json": {
       "model_id": "6ba12ca25e4746448bd22fd22ec44d0b",
       "version_major": 2,
       "version_minor": 0
      },
      "text/plain": [
       "Resizing images (rxrx3):   0%|          | 0/100 [00:00<?, ?it/s]"
      ]
     },
     "metadata": {},
     "output_type": "display_data"
    },
    {
     "name": "stdout",
     "output_type": "stream",
     "text": [
      "Processing batch 88/1554\n"
     ]
    },
    {
     "data": {
      "application/vnd.jupyter.widget-view+json": {
       "model_id": "2ebf622dc2e04423a90756d87c4b4cff",
       "version_major": 2,
       "version_minor": 0
      },
      "text/plain": [
       "Resizing images (rxrx3):   0%|          | 0/100 [00:00<?, ?it/s]"
      ]
     },
     "metadata": {},
     "output_type": "display_data"
    },
    {
     "name": "stdout",
     "output_type": "stream",
     "text": [
      "Processing batch 89/1554\n"
     ]
    },
    {
     "data": {
      "application/vnd.jupyter.widget-view+json": {
       "model_id": "8cb2395bd4ec47a3ad6a15ba860dd77d",
       "version_major": 2,
       "version_minor": 0
      },
      "text/plain": [
       "Resizing images (rxrx3):   0%|          | 0/100 [00:00<?, ?it/s]"
      ]
     },
     "metadata": {},
     "output_type": "display_data"
    },
    {
     "name": "stdout",
     "output_type": "stream",
     "text": [
      "Processing batch 90/1554\n"
     ]
    },
    {
     "data": {
      "application/vnd.jupyter.widget-view+json": {
       "model_id": "da73414d842d4eb7ae46e341a6f91c3b",
       "version_major": 2,
       "version_minor": 0
      },
      "text/plain": [
       "Resizing images (rxrx3):   0%|          | 0/100 [00:00<?, ?it/s]"
      ]
     },
     "metadata": {},
     "output_type": "display_data"
    },
    {
     "name": "stdout",
     "output_type": "stream",
     "text": [
      "Processing batch 91/1554\n"
     ]
    },
    {
     "data": {
      "application/vnd.jupyter.widget-view+json": {
       "model_id": "cd801d7b6c0c45a7a0b3c526885e0498",
       "version_major": 2,
       "version_minor": 0
      },
      "text/plain": [
       "Resizing images (rxrx3):   0%|          | 0/100 [00:00<?, ?it/s]"
      ]
     },
     "metadata": {},
     "output_type": "display_data"
    },
    {
     "name": "stdout",
     "output_type": "stream",
     "text": [
      "Processing batch 92/1554\n"
     ]
    },
    {
     "data": {
      "application/vnd.jupyter.widget-view+json": {
       "model_id": "4fc301b78a944b0f999f6cbac02ad7e3",
       "version_major": 2,
       "version_minor": 0
      },
      "text/plain": [
       "Resizing images (rxrx3):   0%|          | 0/100 [00:00<?, ?it/s]"
      ]
     },
     "metadata": {},
     "output_type": "display_data"
    },
    {
     "name": "stdout",
     "output_type": "stream",
     "text": [
      "Processing batch 93/1554\n"
     ]
    },
    {
     "data": {
      "application/vnd.jupyter.widget-view+json": {
       "model_id": "cd936caefc6b492b822f0a75f8815c8d",
       "version_major": 2,
       "version_minor": 0
      },
      "text/plain": [
       "Resizing images (rxrx3):   0%|          | 0/100 [00:00<?, ?it/s]"
      ]
     },
     "metadata": {},
     "output_type": "display_data"
    },
    {
     "name": "stdout",
     "output_type": "stream",
     "text": [
      "Processing batch 94/1554\n"
     ]
    },
    {
     "data": {
      "application/vnd.jupyter.widget-view+json": {
       "model_id": "be7ac2e1b3ff4b17a4b6ca121be53390",
       "version_major": 2,
       "version_minor": 0
      },
      "text/plain": [
       "Resizing images (rxrx3):   0%|          | 0/100 [00:00<?, ?it/s]"
      ]
     },
     "metadata": {},
     "output_type": "display_data"
    },
    {
     "name": "stdout",
     "output_type": "stream",
     "text": [
      "Processing batch 95/1554\n"
     ]
    },
    {
     "data": {
      "application/vnd.jupyter.widget-view+json": {
       "model_id": "1eddc119aa4d4038a4b599350676aff7",
       "version_major": 2,
       "version_minor": 0
      },
      "text/plain": [
       "Resizing images (rxrx3):   0%|          | 0/100 [00:00<?, ?it/s]"
      ]
     },
     "metadata": {},
     "output_type": "display_data"
    },
    {
     "name": "stdout",
     "output_type": "stream",
     "text": [
      "Processing batch 96/1554\n"
     ]
    },
    {
     "data": {
      "application/vnd.jupyter.widget-view+json": {
       "model_id": "67b32c5dbdef44a7bd9333b0399a6bda",
       "version_major": 2,
       "version_minor": 0
      },
      "text/plain": [
       "Resizing images (rxrx3):   0%|          | 0/100 [00:00<?, ?it/s]"
      ]
     },
     "metadata": {},
     "output_type": "display_data"
    },
    {
     "name": "stdout",
     "output_type": "stream",
     "text": [
      "Processing batch 97/1554\n"
     ]
    },
    {
     "data": {
      "application/vnd.jupyter.widget-view+json": {
       "model_id": "e9f0fed107294ff2b3dc578c0b282422",
       "version_major": 2,
       "version_minor": 0
      },
      "text/plain": [
       "Resizing images (rxrx3):   0%|          | 0/100 [00:00<?, ?it/s]"
      ]
     },
     "metadata": {},
     "output_type": "display_data"
    },
    {
     "name": "stdout",
     "output_type": "stream",
     "text": [
      "Processing batch 98/1554\n"
     ]
    },
    {
     "data": {
      "application/vnd.jupyter.widget-view+json": {
       "model_id": "c998297afc0d44a0b1bebc81d34fdeae",
       "version_major": 2,
       "version_minor": 0
      },
      "text/plain": [
       "Resizing images (rxrx3):   0%|          | 0/100 [00:00<?, ?it/s]"
      ]
     },
     "metadata": {},
     "output_type": "display_data"
    },
    {
     "name": "stdout",
     "output_type": "stream",
     "text": [
      "Processing batch 99/1554\n"
     ]
    },
    {
     "data": {
      "application/vnd.jupyter.widget-view+json": {
       "model_id": "46f2fd16bdc14923acdf0a8fb3c4f182",
       "version_major": 2,
       "version_minor": 0
      },
      "text/plain": [
       "Resizing images (rxrx3):   0%|          | 0/100 [00:00<?, ?it/s]"
      ]
     },
     "metadata": {},
     "output_type": "display_data"
    },
    {
     "name": "stdout",
     "output_type": "stream",
     "text": [
      "Processing batch 100/1554\n"
     ]
    },
    {
     "data": {
      "application/vnd.jupyter.widget-view+json": {
       "model_id": "127a19a935014a2cb6b5d2db3c6869ce",
       "version_major": 2,
       "version_minor": 0
      },
      "text/plain": [
       "Resizing images (rxrx3):   0%|          | 0/100 [00:00<?, ?it/s]"
      ]
     },
     "metadata": {},
     "output_type": "display_data"
    },
    {
     "name": "stdout",
     "output_type": "stream",
     "text": [
      "Processing batch 101/1554\n"
     ]
    },
    {
     "data": {
      "application/vnd.jupyter.widget-view+json": {
       "model_id": "16895d31d4e84658aacb47049af2f7ac",
       "version_major": 2,
       "version_minor": 0
      },
      "text/plain": [
       "Resizing images (rxrx3):   0%|          | 0/100 [00:00<?, ?it/s]"
      ]
     },
     "metadata": {},
     "output_type": "display_data"
    },
    {
     "name": "stdout",
     "output_type": "stream",
     "text": [
      "Processing batch 102/1554\n"
     ]
    },
    {
     "data": {
      "application/vnd.jupyter.widget-view+json": {
       "model_id": "65b1757d705046eab7f3f2a23680c399",
       "version_major": 2,
       "version_minor": 0
      },
      "text/plain": [
       "Resizing images (rxrx3):   0%|          | 0/100 [00:00<?, ?it/s]"
      ]
     },
     "metadata": {},
     "output_type": "display_data"
    },
    {
     "name": "stdout",
     "output_type": "stream",
     "text": [
      "Processing batch 103/1554\n"
     ]
    },
    {
     "data": {
      "application/vnd.jupyter.widget-view+json": {
       "model_id": "f98bc5f729c74c13b899e50dd59b3481",
       "version_major": 2,
       "version_minor": 0
      },
      "text/plain": [
       "Resizing images (rxrx3):   0%|          | 0/100 [00:00<?, ?it/s]"
      ]
     },
     "metadata": {},
     "output_type": "display_data"
    },
    {
     "name": "stdout",
     "output_type": "stream",
     "text": [
      "Processing batch 104/1554\n"
     ]
    },
    {
     "data": {
      "application/vnd.jupyter.widget-view+json": {
       "model_id": "034d60650e4b4c0a80f9fabfd728d21f",
       "version_major": 2,
       "version_minor": 0
      },
      "text/plain": [
       "Resizing images (rxrx3):   0%|          | 0/100 [00:00<?, ?it/s]"
      ]
     },
     "metadata": {},
     "output_type": "display_data"
    },
    {
     "name": "stdout",
     "output_type": "stream",
     "text": [
      "Processing batch 105/1554\n"
     ]
    },
    {
     "data": {
      "application/vnd.jupyter.widget-view+json": {
       "model_id": "c81c4a7ba79e4f0e888ec4cdacdff1bc",
       "version_major": 2,
       "version_minor": 0
      },
      "text/plain": [
       "Resizing images (rxrx3):   0%|          | 0/100 [00:00<?, ?it/s]"
      ]
     },
     "metadata": {},
     "output_type": "display_data"
    },
    {
     "name": "stdout",
     "output_type": "stream",
     "text": [
      "Processing batch 106/1554\n"
     ]
    },
    {
     "data": {
      "application/vnd.jupyter.widget-view+json": {
       "model_id": "04fa61165437403e8678614ba74fc86c",
       "version_major": 2,
       "version_minor": 0
      },
      "text/plain": [
       "Resizing images (rxrx3):   0%|          | 0/100 [00:00<?, ?it/s]"
      ]
     },
     "metadata": {},
     "output_type": "display_data"
    },
    {
     "name": "stdout",
     "output_type": "stream",
     "text": [
      "Processing batch 107/1554\n"
     ]
    },
    {
     "data": {
      "application/vnd.jupyter.widget-view+json": {
       "model_id": "118361f9c003412fb2773481888bcf59",
       "version_major": 2,
       "version_minor": 0
      },
      "text/plain": [
       "Resizing images (rxrx3):   0%|          | 0/100 [00:00<?, ?it/s]"
      ]
     },
     "metadata": {},
     "output_type": "display_data"
    },
    {
     "name": "stdout",
     "output_type": "stream",
     "text": [
      "Processing batch 108/1554\n"
     ]
    },
    {
     "data": {
      "application/vnd.jupyter.widget-view+json": {
       "model_id": "32e90b755f6c4737b089cf0ed3d576ca",
       "version_major": 2,
       "version_minor": 0
      },
      "text/plain": [
       "Resizing images (rxrx3):   0%|          | 0/100 [00:00<?, ?it/s]"
      ]
     },
     "metadata": {},
     "output_type": "display_data"
    },
    {
     "name": "stdout",
     "output_type": "stream",
     "text": [
      "Processing batch 109/1554\n"
     ]
    },
    {
     "data": {
      "application/vnd.jupyter.widget-view+json": {
       "model_id": "d981f25f413d41e8a87863a9c76e0bf5",
       "version_major": 2,
       "version_minor": 0
      },
      "text/plain": [
       "Resizing images (rxrx3):   0%|          | 0/100 [00:00<?, ?it/s]"
      ]
     },
     "metadata": {},
     "output_type": "display_data"
    },
    {
     "name": "stdout",
     "output_type": "stream",
     "text": [
      "Processing batch 110/1554\n"
     ]
    },
    {
     "data": {
      "application/vnd.jupyter.widget-view+json": {
       "model_id": "43facd2d7f0f4463a352146e40429838",
       "version_major": 2,
       "version_minor": 0
      },
      "text/plain": [
       "Resizing images (rxrx3):   0%|          | 0/100 [00:00<?, ?it/s]"
      ]
     },
     "metadata": {},
     "output_type": "display_data"
    },
    {
     "name": "stdout",
     "output_type": "stream",
     "text": [
      "Processing batch 111/1554\n"
     ]
    },
    {
     "data": {
      "application/vnd.jupyter.widget-view+json": {
       "model_id": "c4cce6f2a2d7442b8bbcc6c8f399e399",
       "version_major": 2,
       "version_minor": 0
      },
      "text/plain": [
       "Resizing images (rxrx3):   0%|          | 0/100 [00:00<?, ?it/s]"
      ]
     },
     "metadata": {},
     "output_type": "display_data"
    },
    {
     "name": "stdout",
     "output_type": "stream",
     "text": [
      "Processing batch 112/1554\n"
     ]
    },
    {
     "data": {
      "application/vnd.jupyter.widget-view+json": {
       "model_id": "d156e1ad17af4b83960f6c82df0a9a83",
       "version_major": 2,
       "version_minor": 0
      },
      "text/plain": [
       "Resizing images (rxrx3):   0%|          | 0/100 [00:00<?, ?it/s]"
      ]
     },
     "metadata": {},
     "output_type": "display_data"
    },
    {
     "name": "stdout",
     "output_type": "stream",
     "text": [
      "Processing batch 113/1554\n"
     ]
    },
    {
     "data": {
      "application/vnd.jupyter.widget-view+json": {
       "model_id": "3c2ed1deb35a4f1daf905410611998b5",
       "version_major": 2,
       "version_minor": 0
      },
      "text/plain": [
       "Resizing images (rxrx3):   0%|          | 0/100 [00:00<?, ?it/s]"
      ]
     },
     "metadata": {},
     "output_type": "display_data"
    },
    {
     "name": "stdout",
     "output_type": "stream",
     "text": [
      "Processing batch 114/1554\n"
     ]
    },
    {
     "data": {
      "application/vnd.jupyter.widget-view+json": {
       "model_id": "7e86da5f2186483ca3cf9d159fbff56b",
       "version_major": 2,
       "version_minor": 0
      },
      "text/plain": [
       "Resizing images (rxrx3):   0%|          | 0/100 [00:00<?, ?it/s]"
      ]
     },
     "metadata": {},
     "output_type": "display_data"
    },
    {
     "name": "stdout",
     "output_type": "stream",
     "text": [
      "Processing batch 115/1554\n"
     ]
    },
    {
     "data": {
      "application/vnd.jupyter.widget-view+json": {
       "model_id": "0061aacabaec4382a2c278739e212f25",
       "version_major": 2,
       "version_minor": 0
      },
      "text/plain": [
       "Resizing images (rxrx3):   0%|          | 0/100 [00:00<?, ?it/s]"
      ]
     },
     "metadata": {},
     "output_type": "display_data"
    },
    {
     "name": "stdout",
     "output_type": "stream",
     "text": [
      "Processing batch 116/1554\n"
     ]
    },
    {
     "data": {
      "application/vnd.jupyter.widget-view+json": {
       "model_id": "e0aff641f0c84dbba00c6d9000e2feea",
       "version_major": 2,
       "version_minor": 0
      },
      "text/plain": [
       "Resizing images (rxrx3):   0%|          | 0/100 [00:00<?, ?it/s]"
      ]
     },
     "metadata": {},
     "output_type": "display_data"
    },
    {
     "name": "stdout",
     "output_type": "stream",
     "text": [
      "Processing batch 117/1554\n"
     ]
    },
    {
     "data": {
      "application/vnd.jupyter.widget-view+json": {
       "model_id": "75b304b2d92547908cd82c515c2e5ef1",
       "version_major": 2,
       "version_minor": 0
      },
      "text/plain": [
       "Resizing images (rxrx3):   0%|          | 0/100 [00:00<?, ?it/s]"
      ]
     },
     "metadata": {},
     "output_type": "display_data"
    },
    {
     "name": "stdout",
     "output_type": "stream",
     "text": [
      "Processing batch 118/1554\n"
     ]
    },
    {
     "data": {
      "application/vnd.jupyter.widget-view+json": {
       "model_id": "4c0ea87176964f778a1079b768825687",
       "version_major": 2,
       "version_minor": 0
      },
      "text/plain": [
       "Resizing images (rxrx3):   0%|          | 0/100 [00:00<?, ?it/s]"
      ]
     },
     "metadata": {},
     "output_type": "display_data"
    },
    {
     "name": "stdout",
     "output_type": "stream",
     "text": [
      "Processing batch 119/1554\n"
     ]
    },
    {
     "data": {
      "application/vnd.jupyter.widget-view+json": {
       "model_id": "6e7c8a934ccf42d5aea8bfd30101e7cc",
       "version_major": 2,
       "version_minor": 0
      },
      "text/plain": [
       "Resizing images (rxrx3):   0%|          | 0/100 [00:00<?, ?it/s]"
      ]
     },
     "metadata": {},
     "output_type": "display_data"
    },
    {
     "name": "stdout",
     "output_type": "stream",
     "text": [
      "Processing batch 120/1554\n"
     ]
    },
    {
     "data": {
      "application/vnd.jupyter.widget-view+json": {
       "model_id": "5be72a89cad94c1eb1f86f36203ac917",
       "version_major": 2,
       "version_minor": 0
      },
      "text/plain": [
       "Resizing images (rxrx3):   0%|          | 0/100 [00:00<?, ?it/s]"
      ]
     },
     "metadata": {},
     "output_type": "display_data"
    },
    {
     "name": "stdout",
     "output_type": "stream",
     "text": [
      "Processing batch 121/1554\n"
     ]
    },
    {
     "data": {
      "application/vnd.jupyter.widget-view+json": {
       "model_id": "934aa135cc6e418fa7ec6f737d64a0b5",
       "version_major": 2,
       "version_minor": 0
      },
      "text/plain": [
       "Resizing images (rxrx3):   0%|          | 0/100 [00:00<?, ?it/s]"
      ]
     },
     "metadata": {},
     "output_type": "display_data"
    },
    {
     "name": "stdout",
     "output_type": "stream",
     "text": [
      "Processing batch 122/1554\n"
     ]
    },
    {
     "data": {
      "application/vnd.jupyter.widget-view+json": {
       "model_id": "5353e1ecd08b463e8b62eb4c6160cae5",
       "version_major": 2,
       "version_minor": 0
      },
      "text/plain": [
       "Resizing images (rxrx3):   0%|          | 0/100 [00:00<?, ?it/s]"
      ]
     },
     "metadata": {},
     "output_type": "display_data"
    },
    {
     "name": "stdout",
     "output_type": "stream",
     "text": [
      "Processing batch 123/1554\n"
     ]
    },
    {
     "data": {
      "application/vnd.jupyter.widget-view+json": {
       "model_id": "a7120a714bcd4345ba9a730c53e2f5fa",
       "version_major": 2,
       "version_minor": 0
      },
      "text/plain": [
       "Resizing images (rxrx3):   0%|          | 0/100 [00:00<?, ?it/s]"
      ]
     },
     "metadata": {},
     "output_type": "display_data"
    },
    {
     "name": "stdout",
     "output_type": "stream",
     "text": [
      "Processing batch 124/1554\n"
     ]
    },
    {
     "data": {
      "application/vnd.jupyter.widget-view+json": {
       "model_id": "95c51fd14e804439a46628487a693fd0",
       "version_major": 2,
       "version_minor": 0
      },
      "text/plain": [
       "Resizing images (rxrx3):   0%|          | 0/100 [00:00<?, ?it/s]"
      ]
     },
     "metadata": {},
     "output_type": "display_data"
    },
    {
     "name": "stdout",
     "output_type": "stream",
     "text": [
      "Processing batch 125/1554\n"
     ]
    },
    {
     "data": {
      "application/vnd.jupyter.widget-view+json": {
       "model_id": "2d98dc13a8c74d4cbc658ecbf4f507a9",
       "version_major": 2,
       "version_minor": 0
      },
      "text/plain": [
       "Resizing images (rxrx3):   0%|          | 0/100 [00:00<?, ?it/s]"
      ]
     },
     "metadata": {},
     "output_type": "display_data"
    },
    {
     "name": "stdout",
     "output_type": "stream",
     "text": [
      "Processing batch 126/1554\n"
     ]
    },
    {
     "data": {
      "application/vnd.jupyter.widget-view+json": {
       "model_id": "c83e1348e13c4d71ac181d2dc8929255",
       "version_major": 2,
       "version_minor": 0
      },
      "text/plain": [
       "Resizing images (rxrx3):   0%|          | 0/100 [00:00<?, ?it/s]"
      ]
     },
     "metadata": {},
     "output_type": "display_data"
    },
    {
     "name": "stdout",
     "output_type": "stream",
     "text": [
      "Processing batch 127/1554\n"
     ]
    },
    {
     "data": {
      "application/vnd.jupyter.widget-view+json": {
       "model_id": "45f7f1ab98744369800045f1345bcb04",
       "version_major": 2,
       "version_minor": 0
      },
      "text/plain": [
       "Resizing images (rxrx3):   0%|          | 0/100 [00:00<?, ?it/s]"
      ]
     },
     "metadata": {},
     "output_type": "display_data"
    },
    {
     "name": "stdout",
     "output_type": "stream",
     "text": [
      "Processing batch 128/1554\n"
     ]
    },
    {
     "data": {
      "application/vnd.jupyter.widget-view+json": {
       "model_id": "483c37b18dbe49f4aa69d13cedbb4d27",
       "version_major": 2,
       "version_minor": 0
      },
      "text/plain": [
       "Resizing images (rxrx3):   0%|          | 0/100 [00:00<?, ?it/s]"
      ]
     },
     "metadata": {},
     "output_type": "display_data"
    },
    {
     "name": "stdout",
     "output_type": "stream",
     "text": [
      "Processing batch 129/1554\n"
     ]
    },
    {
     "data": {
      "application/vnd.jupyter.widget-view+json": {
       "model_id": "2042d2068756460b9c2739cd3c8b5497",
       "version_major": 2,
       "version_minor": 0
      },
      "text/plain": [
       "Resizing images (rxrx3):   0%|          | 0/100 [00:00<?, ?it/s]"
      ]
     },
     "metadata": {},
     "output_type": "display_data"
    },
    {
     "name": "stdout",
     "output_type": "stream",
     "text": [
      "Processing batch 130/1554\n"
     ]
    },
    {
     "data": {
      "application/vnd.jupyter.widget-view+json": {
       "model_id": "3132763d98d9436cba62b7f0b3513333",
       "version_major": 2,
       "version_minor": 0
      },
      "text/plain": [
       "Resizing images (rxrx3):   0%|          | 0/100 [00:00<?, ?it/s]"
      ]
     },
     "metadata": {},
     "output_type": "display_data"
    },
    {
     "name": "stdout",
     "output_type": "stream",
     "text": [
      "Processing batch 131/1554\n"
     ]
    },
    {
     "data": {
      "application/vnd.jupyter.widget-view+json": {
       "model_id": "e4e1d9e4c95c4b84972ecf07c5c4d52d",
       "version_major": 2,
       "version_minor": 0
      },
      "text/plain": [
       "Resizing images (rxrx3):   0%|          | 0/100 [00:00<?, ?it/s]"
      ]
     },
     "metadata": {},
     "output_type": "display_data"
    },
    {
     "name": "stdout",
     "output_type": "stream",
     "text": [
      "Processing batch 132/1554\n"
     ]
    },
    {
     "data": {
      "application/vnd.jupyter.widget-view+json": {
       "model_id": "5c659760f6d14d5599c579d6f036d81e",
       "version_major": 2,
       "version_minor": 0
      },
      "text/plain": [
       "Resizing images (rxrx3):   0%|          | 0/100 [00:00<?, ?it/s]"
      ]
     },
     "metadata": {},
     "output_type": "display_data"
    },
    {
     "name": "stdout",
     "output_type": "stream",
     "text": [
      "Processing batch 133/1554\n"
     ]
    },
    {
     "data": {
      "application/vnd.jupyter.widget-view+json": {
       "model_id": "fee1b66e1ed14ba69b4766a00d449ba8",
       "version_major": 2,
       "version_minor": 0
      },
      "text/plain": [
       "Resizing images (rxrx3):   0%|          | 0/100 [00:00<?, ?it/s]"
      ]
     },
     "metadata": {},
     "output_type": "display_data"
    },
    {
     "name": "stdout",
     "output_type": "stream",
     "text": [
      "Processing batch 134/1554\n"
     ]
    },
    {
     "data": {
      "application/vnd.jupyter.widget-view+json": {
       "model_id": "2554717d85c8400ca7df0d74e6673c09",
       "version_major": 2,
       "version_minor": 0
      },
      "text/plain": [
       "Resizing images (rxrx3):   0%|          | 0/100 [00:00<?, ?it/s]"
      ]
     },
     "metadata": {},
     "output_type": "display_data"
    },
    {
     "name": "stdout",
     "output_type": "stream",
     "text": [
      "Processing batch 135/1554\n"
     ]
    },
    {
     "data": {
      "application/vnd.jupyter.widget-view+json": {
       "model_id": "e17633579f0f4bb3acf21260c84b9644",
       "version_major": 2,
       "version_minor": 0
      },
      "text/plain": [
       "Resizing images (rxrx3):   0%|          | 0/100 [00:00<?, ?it/s]"
      ]
     },
     "metadata": {},
     "output_type": "display_data"
    },
    {
     "name": "stdout",
     "output_type": "stream",
     "text": [
      "Processing batch 136/1554\n"
     ]
    },
    {
     "data": {
      "application/vnd.jupyter.widget-view+json": {
       "model_id": "c7017bd3ad2d4b62ab6ceaa50056834a",
       "version_major": 2,
       "version_minor": 0
      },
      "text/plain": [
       "Resizing images (rxrx3):   0%|          | 0/100 [00:00<?, ?it/s]"
      ]
     },
     "metadata": {},
     "output_type": "display_data"
    },
    {
     "name": "stdout",
     "output_type": "stream",
     "text": [
      "Processing batch 137/1554\n"
     ]
    },
    {
     "data": {
      "application/vnd.jupyter.widget-view+json": {
       "model_id": "e34e5916112b49dcb814eb788ef23070",
       "version_major": 2,
       "version_minor": 0
      },
      "text/plain": [
       "Resizing images (rxrx3):   0%|          | 0/100 [00:00<?, ?it/s]"
      ]
     },
     "metadata": {},
     "output_type": "display_data"
    },
    {
     "name": "stdout",
     "output_type": "stream",
     "text": [
      "Processing batch 138/1554\n"
     ]
    },
    {
     "data": {
      "application/vnd.jupyter.widget-view+json": {
       "model_id": "4cf7cf6339ad4a788fbc9120c24b83cb",
       "version_major": 2,
       "version_minor": 0
      },
      "text/plain": [
       "Resizing images (rxrx3):   0%|          | 0/100 [00:00<?, ?it/s]"
      ]
     },
     "metadata": {},
     "output_type": "display_data"
    },
    {
     "name": "stdout",
     "output_type": "stream",
     "text": [
      "Processing batch 139/1554\n"
     ]
    },
    {
     "data": {
      "application/vnd.jupyter.widget-view+json": {
       "model_id": "ae98ad82e4b24e50ba0173a604e0c5e8",
       "version_major": 2,
       "version_minor": 0
      },
      "text/plain": [
       "Resizing images (rxrx3):   0%|          | 0/100 [00:00<?, ?it/s]"
      ]
     },
     "metadata": {},
     "output_type": "display_data"
    },
    {
     "name": "stdout",
     "output_type": "stream",
     "text": [
      "Processing batch 140/1554\n"
     ]
    },
    {
     "data": {
      "application/vnd.jupyter.widget-view+json": {
       "model_id": "2b196d7f38ab4b9392c098171f1b3ae1",
       "version_major": 2,
       "version_minor": 0
      },
      "text/plain": [
       "Resizing images (rxrx3):   0%|          | 0/100 [00:00<?, ?it/s]"
      ]
     },
     "metadata": {},
     "output_type": "display_data"
    },
    {
     "name": "stdout",
     "output_type": "stream",
     "text": [
      "Processing batch 141/1554\n"
     ]
    },
    {
     "data": {
      "application/vnd.jupyter.widget-view+json": {
       "model_id": "35d34105d4b846cdb1aabfe9bca74bb0",
       "version_major": 2,
       "version_minor": 0
      },
      "text/plain": [
       "Resizing images (rxrx3):   0%|          | 0/100 [00:00<?, ?it/s]"
      ]
     },
     "metadata": {},
     "output_type": "display_data"
    },
    {
     "name": "stdout",
     "output_type": "stream",
     "text": [
      "Processing batch 142/1554\n"
     ]
    },
    {
     "data": {
      "application/vnd.jupyter.widget-view+json": {
       "model_id": "de2afa3b5cb246afaf7c1238aa508a05",
       "version_major": 2,
       "version_minor": 0
      },
      "text/plain": [
       "Resizing images (rxrx3):   0%|          | 0/100 [00:00<?, ?it/s]"
      ]
     },
     "metadata": {},
     "output_type": "display_data"
    },
    {
     "name": "stdout",
     "output_type": "stream",
     "text": [
      "Processing batch 143/1554\n"
     ]
    },
    {
     "data": {
      "application/vnd.jupyter.widget-view+json": {
       "model_id": "aa0da388e1f24418b50234ee5ed4dbaf",
       "version_major": 2,
       "version_minor": 0
      },
      "text/plain": [
       "Resizing images (rxrx3):   0%|          | 0/100 [00:00<?, ?it/s]"
      ]
     },
     "metadata": {},
     "output_type": "display_data"
    },
    {
     "name": "stdout",
     "output_type": "stream",
     "text": [
      "Processing batch 144/1554\n"
     ]
    },
    {
     "data": {
      "application/vnd.jupyter.widget-view+json": {
       "model_id": "a70b94480379490fab70499a0be06e13",
       "version_major": 2,
       "version_minor": 0
      },
      "text/plain": [
       "Resizing images (rxrx3):   0%|          | 0/100 [00:00<?, ?it/s]"
      ]
     },
     "metadata": {},
     "output_type": "display_data"
    },
    {
     "name": "stdout",
     "output_type": "stream",
     "text": [
      "Processing batch 145/1554\n"
     ]
    },
    {
     "data": {
      "application/vnd.jupyter.widget-view+json": {
       "model_id": "3a9cca4244ae43a0a46a0c03b7eb140e",
       "version_major": 2,
       "version_minor": 0
      },
      "text/plain": [
       "Resizing images (rxrx3):   0%|          | 0/100 [00:00<?, ?it/s]"
      ]
     },
     "metadata": {},
     "output_type": "display_data"
    },
    {
     "name": "stdout",
     "output_type": "stream",
     "text": [
      "Processing batch 146/1554\n"
     ]
    },
    {
     "data": {
      "application/vnd.jupyter.widget-view+json": {
       "model_id": "7d45e212980b4673ab1b49191c7e5cad",
       "version_major": 2,
       "version_minor": 0
      },
      "text/plain": [
       "Resizing images (rxrx3):   0%|          | 0/100 [00:00<?, ?it/s]"
      ]
     },
     "metadata": {},
     "output_type": "display_data"
    },
    {
     "name": "stdout",
     "output_type": "stream",
     "text": [
      "Processing batch 147/1554\n"
     ]
    },
    {
     "data": {
      "application/vnd.jupyter.widget-view+json": {
       "model_id": "b4a0b3ab0f204ae28076d6f191e566cc",
       "version_major": 2,
       "version_minor": 0
      },
      "text/plain": [
       "Resizing images (rxrx3):   0%|          | 0/100 [00:00<?, ?it/s]"
      ]
     },
     "metadata": {},
     "output_type": "display_data"
    },
    {
     "name": "stdout",
     "output_type": "stream",
     "text": [
      "Processing batch 148/1554\n"
     ]
    },
    {
     "data": {
      "application/vnd.jupyter.widget-view+json": {
       "model_id": "2fd7f1bacf674a72ad39207e476fd6e9",
       "version_major": 2,
       "version_minor": 0
      },
      "text/plain": [
       "Resizing images (rxrx3):   0%|          | 0/100 [00:00<?, ?it/s]"
      ]
     },
     "metadata": {},
     "output_type": "display_data"
    },
    {
     "name": "stdout",
     "output_type": "stream",
     "text": [
      "Processing batch 149/1554\n"
     ]
    },
    {
     "data": {
      "application/vnd.jupyter.widget-view+json": {
       "model_id": "09c3581e56134797b5c85ce5af01b2a9",
       "version_major": 2,
       "version_minor": 0
      },
      "text/plain": [
       "Resizing images (rxrx3):   0%|          | 0/100 [00:00<?, ?it/s]"
      ]
     },
     "metadata": {},
     "output_type": "display_data"
    },
    {
     "name": "stdout",
     "output_type": "stream",
     "text": [
      "Processing batch 150/1554\n"
     ]
    },
    {
     "data": {
      "application/vnd.jupyter.widget-view+json": {
       "model_id": "f292cd23314d49e3b9d2375d62e785b3",
       "version_major": 2,
       "version_minor": 0
      },
      "text/plain": [
       "Resizing images (rxrx3):   0%|          | 0/100 [00:00<?, ?it/s]"
      ]
     },
     "metadata": {},
     "output_type": "display_data"
    },
    {
     "name": "stdout",
     "output_type": "stream",
     "text": [
      "Processing batch 151/1554\n"
     ]
    },
    {
     "data": {
      "application/vnd.jupyter.widget-view+json": {
       "model_id": "40d3ad2943614dd98e3d1430725c49be",
       "version_major": 2,
       "version_minor": 0
      },
      "text/plain": [
       "Resizing images (rxrx3):   0%|          | 0/100 [00:00<?, ?it/s]"
      ]
     },
     "metadata": {},
     "output_type": "display_data"
    },
    {
     "name": "stdout",
     "output_type": "stream",
     "text": [
      "Processing batch 152/1554\n"
     ]
    },
    {
     "data": {
      "application/vnd.jupyter.widget-view+json": {
       "model_id": "e0961821cbef49bbb084a2a94f0ab06c",
       "version_major": 2,
       "version_minor": 0
      },
      "text/plain": [
       "Resizing images (rxrx3):   0%|          | 0/100 [00:00<?, ?it/s]"
      ]
     },
     "metadata": {},
     "output_type": "display_data"
    },
    {
     "name": "stdout",
     "output_type": "stream",
     "text": [
      "Processing batch 153/1554\n"
     ]
    },
    {
     "data": {
      "application/vnd.jupyter.widget-view+json": {
       "model_id": "2b5a9817d57942ab81f4f5d5c719686f",
       "version_major": 2,
       "version_minor": 0
      },
      "text/plain": [
       "Resizing images (rxrx3):   0%|          | 0/100 [00:00<?, ?it/s]"
      ]
     },
     "metadata": {},
     "output_type": "display_data"
    },
    {
     "name": "stdout",
     "output_type": "stream",
     "text": [
      "Processing batch 154/1554\n"
     ]
    },
    {
     "data": {
      "application/vnd.jupyter.widget-view+json": {
       "model_id": "7ef24b21560f474ba108c696d910f097",
       "version_major": 2,
       "version_minor": 0
      },
      "text/plain": [
       "Resizing images (rxrx3):   0%|          | 0/100 [00:00<?, ?it/s]"
      ]
     },
     "metadata": {},
     "output_type": "display_data"
    },
    {
     "name": "stdout",
     "output_type": "stream",
     "text": [
      "Processing batch 155/1554\n"
     ]
    },
    {
     "data": {
      "application/vnd.jupyter.widget-view+json": {
       "model_id": "6c547d6bed8e4861a70125dc64231322",
       "version_major": 2,
       "version_minor": 0
      },
      "text/plain": [
       "Resizing images (rxrx3):   0%|          | 0/100 [00:00<?, ?it/s]"
      ]
     },
     "metadata": {},
     "output_type": "display_data"
    },
    {
     "name": "stdout",
     "output_type": "stream",
     "text": [
      "Processing batch 156/1554\n"
     ]
    },
    {
     "data": {
      "application/vnd.jupyter.widget-view+json": {
       "model_id": "60271d5fa0914385b4da4d5254f1344e",
       "version_major": 2,
       "version_minor": 0
      },
      "text/plain": [
       "Resizing images (rxrx3):   0%|          | 0/100 [00:00<?, ?it/s]"
      ]
     },
     "metadata": {},
     "output_type": "display_data"
    },
    {
     "name": "stdout",
     "output_type": "stream",
     "text": [
      "Processing batch 157/1554\n"
     ]
    },
    {
     "data": {
      "application/vnd.jupyter.widget-view+json": {
       "model_id": "98599ebf86bc4675bed94565e1cfbd1c",
       "version_major": 2,
       "version_minor": 0
      },
      "text/plain": [
       "Resizing images (rxrx3):   0%|          | 0/100 [00:00<?, ?it/s]"
      ]
     },
     "metadata": {},
     "output_type": "display_data"
    },
    {
     "name": "stdout",
     "output_type": "stream",
     "text": [
      "Processing batch 158/1554\n"
     ]
    },
    {
     "data": {
      "application/vnd.jupyter.widget-view+json": {
       "model_id": "e91fbfdaa59b413188b0da06a0d67377",
       "version_major": 2,
       "version_minor": 0
      },
      "text/plain": [
       "Resizing images (rxrx3):   0%|          | 0/100 [00:00<?, ?it/s]"
      ]
     },
     "metadata": {},
     "output_type": "display_data"
    },
    {
     "name": "stdout",
     "output_type": "stream",
     "text": [
      "Processing batch 159/1554\n"
     ]
    },
    {
     "data": {
      "application/vnd.jupyter.widget-view+json": {
       "model_id": "e944b00ced494319b41aabe20f05978b",
       "version_major": 2,
       "version_minor": 0
      },
      "text/plain": [
       "Resizing images (rxrx3):   0%|          | 0/100 [00:00<?, ?it/s]"
      ]
     },
     "metadata": {},
     "output_type": "display_data"
    },
    {
     "name": "stdout",
     "output_type": "stream",
     "text": [
      "Processing batch 160/1554\n"
     ]
    },
    {
     "data": {
      "application/vnd.jupyter.widget-view+json": {
       "model_id": "cf3d9a9f35b449b4b802f66c72369a29",
       "version_major": 2,
       "version_minor": 0
      },
      "text/plain": [
       "Resizing images (rxrx3):   0%|          | 0/100 [00:00<?, ?it/s]"
      ]
     },
     "metadata": {},
     "output_type": "display_data"
    },
    {
     "name": "stdout",
     "output_type": "stream",
     "text": [
      "Processing batch 161/1554\n"
     ]
    },
    {
     "data": {
      "application/vnd.jupyter.widget-view+json": {
       "model_id": "24950955c5c34809a736222133708cd4",
       "version_major": 2,
       "version_minor": 0
      },
      "text/plain": [
       "Resizing images (rxrx3):   0%|          | 0/100 [00:00<?, ?it/s]"
      ]
     },
     "metadata": {},
     "output_type": "display_data"
    },
    {
     "name": "stdout",
     "output_type": "stream",
     "text": [
      "Processing batch 162/1554\n"
     ]
    },
    {
     "data": {
      "application/vnd.jupyter.widget-view+json": {
       "model_id": "0cf489374ef04c4c89f85ffd91a21ca8",
       "version_major": 2,
       "version_minor": 0
      },
      "text/plain": [
       "Resizing images (rxrx3):   0%|          | 0/100 [00:00<?, ?it/s]"
      ]
     },
     "metadata": {},
     "output_type": "display_data"
    },
    {
     "name": "stdout",
     "output_type": "stream",
     "text": [
      "Processing batch 163/1554\n"
     ]
    },
    {
     "data": {
      "application/vnd.jupyter.widget-view+json": {
       "model_id": "d59de1af127d467f99f1a3a22a959b11",
       "version_major": 2,
       "version_minor": 0
      },
      "text/plain": [
       "Resizing images (rxrx3):   0%|          | 0/100 [00:00<?, ?it/s]"
      ]
     },
     "metadata": {},
     "output_type": "display_data"
    },
    {
     "name": "stdout",
     "output_type": "stream",
     "text": [
      "Processing batch 164/1554\n"
     ]
    },
    {
     "data": {
      "application/vnd.jupyter.widget-view+json": {
       "model_id": "9155dbbb3fcb4105879f98882fb33dba",
       "version_major": 2,
       "version_minor": 0
      },
      "text/plain": [
       "Resizing images (rxrx3):   0%|          | 0/100 [00:00<?, ?it/s]"
      ]
     },
     "metadata": {},
     "output_type": "display_data"
    },
    {
     "name": "stdout",
     "output_type": "stream",
     "text": [
      "Processing batch 165/1554\n"
     ]
    },
    {
     "data": {
      "application/vnd.jupyter.widget-view+json": {
       "model_id": "5e6b34b4c5364a97a484022676f3c10e",
       "version_major": 2,
       "version_minor": 0
      },
      "text/plain": [
       "Resizing images (rxrx3):   0%|          | 0/100 [00:00<?, ?it/s]"
      ]
     },
     "metadata": {},
     "output_type": "display_data"
    },
    {
     "name": "stdout",
     "output_type": "stream",
     "text": [
      "Processing batch 166/1554\n"
     ]
    },
    {
     "data": {
      "application/vnd.jupyter.widget-view+json": {
       "model_id": "28986851e61443e785071699cd6deb4a",
       "version_major": 2,
       "version_minor": 0
      },
      "text/plain": [
       "Resizing images (rxrx3):   0%|          | 0/100 [00:00<?, ?it/s]"
      ]
     },
     "metadata": {},
     "output_type": "display_data"
    },
    {
     "name": "stdout",
     "output_type": "stream",
     "text": [
      "Processing batch 167/1554\n"
     ]
    },
    {
     "data": {
      "application/vnd.jupyter.widget-view+json": {
       "model_id": "03853f5f8c1a4a33b2af84196709a0d1",
       "version_major": 2,
       "version_minor": 0
      },
      "text/plain": [
       "Resizing images (rxrx3):   0%|          | 0/100 [00:00<?, ?it/s]"
      ]
     },
     "metadata": {},
     "output_type": "display_data"
    },
    {
     "name": "stdout",
     "output_type": "stream",
     "text": [
      "Processing batch 168/1554\n"
     ]
    },
    {
     "data": {
      "application/vnd.jupyter.widget-view+json": {
       "model_id": "028de4e50f274725bbfa3002c7f6b692",
       "version_major": 2,
       "version_minor": 0
      },
      "text/plain": [
       "Resizing images (rxrx3):   0%|          | 0/100 [00:00<?, ?it/s]"
      ]
     },
     "metadata": {},
     "output_type": "display_data"
    },
    {
     "name": "stdout",
     "output_type": "stream",
     "text": [
      "Processing batch 169/1554\n"
     ]
    },
    {
     "data": {
      "application/vnd.jupyter.widget-view+json": {
       "model_id": "21cf530b6bfb4b8abdce9f46a7118191",
       "version_major": 2,
       "version_minor": 0
      },
      "text/plain": [
       "Resizing images (rxrx3):   0%|          | 0/100 [00:00<?, ?it/s]"
      ]
     },
     "metadata": {},
     "output_type": "display_data"
    },
    {
     "name": "stdout",
     "output_type": "stream",
     "text": [
      "Processing batch 170/1554\n"
     ]
    },
    {
     "data": {
      "application/vnd.jupyter.widget-view+json": {
       "model_id": "b9dd4f789ee846a89698e1e3cc342925",
       "version_major": 2,
       "version_minor": 0
      },
      "text/plain": [
       "Resizing images (rxrx3):   0%|          | 0/100 [00:00<?, ?it/s]"
      ]
     },
     "metadata": {},
     "output_type": "display_data"
    },
    {
     "name": "stdout",
     "output_type": "stream",
     "text": [
      "Processing batch 171/1554\n"
     ]
    },
    {
     "data": {
      "application/vnd.jupyter.widget-view+json": {
       "model_id": "428dae89fdc243f297ab85c03c30e031",
       "version_major": 2,
       "version_minor": 0
      },
      "text/plain": [
       "Resizing images (rxrx3):   0%|          | 0/100 [00:00<?, ?it/s]"
      ]
     },
     "metadata": {},
     "output_type": "display_data"
    },
    {
     "name": "stdout",
     "output_type": "stream",
     "text": [
      "Processing batch 172/1554\n"
     ]
    },
    {
     "data": {
      "application/vnd.jupyter.widget-view+json": {
       "model_id": "44de45e0c79e4efcbe563871fd4792e5",
       "version_major": 2,
       "version_minor": 0
      },
      "text/plain": [
       "Resizing images (rxrx3):   0%|          | 0/100 [00:00<?, ?it/s]"
      ]
     },
     "metadata": {},
     "output_type": "display_data"
    },
    {
     "name": "stdout",
     "output_type": "stream",
     "text": [
      "Processing batch 173/1554\n"
     ]
    },
    {
     "data": {
      "application/vnd.jupyter.widget-view+json": {
       "model_id": "afec8de801d74a7d804b6558e35c6861",
       "version_major": 2,
       "version_minor": 0
      },
      "text/plain": [
       "Resizing images (rxrx3):   0%|          | 0/100 [00:00<?, ?it/s]"
      ]
     },
     "metadata": {},
     "output_type": "display_data"
    },
    {
     "name": "stdout",
     "output_type": "stream",
     "text": [
      "Processing batch 174/1554\n"
     ]
    },
    {
     "data": {
      "application/vnd.jupyter.widget-view+json": {
       "model_id": "2c0785c06bd3412c80b53b5589804e40",
       "version_major": 2,
       "version_minor": 0
      },
      "text/plain": [
       "Resizing images (rxrx3):   0%|          | 0/100 [00:00<?, ?it/s]"
      ]
     },
     "metadata": {},
     "output_type": "display_data"
    },
    {
     "name": "stdout",
     "output_type": "stream",
     "text": [
      "Processing batch 175/1554\n"
     ]
    },
    {
     "data": {
      "application/vnd.jupyter.widget-view+json": {
       "model_id": "20ab041c7009446a81366f2b87087420",
       "version_major": 2,
       "version_minor": 0
      },
      "text/plain": [
       "Resizing images (rxrx3):   0%|          | 0/100 [00:00<?, ?it/s]"
      ]
     },
     "metadata": {},
     "output_type": "display_data"
    },
    {
     "name": "stdout",
     "output_type": "stream",
     "text": [
      "Processing batch 176/1554\n"
     ]
    },
    {
     "data": {
      "application/vnd.jupyter.widget-view+json": {
       "model_id": "7f943e1123a147bc823db26df5313dcb",
       "version_major": 2,
       "version_minor": 0
      },
      "text/plain": [
       "Resizing images (rxrx3):   0%|          | 0/100 [00:00<?, ?it/s]"
      ]
     },
     "metadata": {},
     "output_type": "display_data"
    },
    {
     "name": "stdout",
     "output_type": "stream",
     "text": [
      "Processing batch 177/1554\n"
     ]
    },
    {
     "data": {
      "application/vnd.jupyter.widget-view+json": {
       "model_id": "b478ff9aa156428c93eed6b2f8654d05",
       "version_major": 2,
       "version_minor": 0
      },
      "text/plain": [
       "Resizing images (rxrx3):   0%|          | 0/100 [00:00<?, ?it/s]"
      ]
     },
     "metadata": {},
     "output_type": "display_data"
    },
    {
     "name": "stdout",
     "output_type": "stream",
     "text": [
      "Processing batch 178/1554\n"
     ]
    },
    {
     "data": {
      "application/vnd.jupyter.widget-view+json": {
       "model_id": "83376a4725954c93860086fcb174119e",
       "version_major": 2,
       "version_minor": 0
      },
      "text/plain": [
       "Resizing images (rxrx3):   0%|          | 0/100 [00:00<?, ?it/s]"
      ]
     },
     "metadata": {},
     "output_type": "display_data"
    },
    {
     "name": "stdout",
     "output_type": "stream",
     "text": [
      "Processing batch 179/1554\n"
     ]
    },
    {
     "data": {
      "application/vnd.jupyter.widget-view+json": {
       "model_id": "332038ad05244623a62d8d899a9174cc",
       "version_major": 2,
       "version_minor": 0
      },
      "text/plain": [
       "Resizing images (rxrx3):   0%|          | 0/100 [00:00<?, ?it/s]"
      ]
     },
     "metadata": {},
     "output_type": "display_data"
    },
    {
     "name": "stdout",
     "output_type": "stream",
     "text": [
      "Processing batch 180/1554\n"
     ]
    },
    {
     "data": {
      "application/vnd.jupyter.widget-view+json": {
       "model_id": "b27a5ba985fc453ebb07790a144505e6",
       "version_major": 2,
       "version_minor": 0
      },
      "text/plain": [
       "Resizing images (rxrx3):   0%|          | 0/100 [00:00<?, ?it/s]"
      ]
     },
     "metadata": {},
     "output_type": "display_data"
    },
    {
     "name": "stdout",
     "output_type": "stream",
     "text": [
      "Processing batch 181/1554\n"
     ]
    },
    {
     "data": {
      "application/vnd.jupyter.widget-view+json": {
       "model_id": "5980b0d176db4c159e73b8f21f2f96db",
       "version_major": 2,
       "version_minor": 0
      },
      "text/plain": [
       "Resizing images (rxrx3):   0%|          | 0/100 [00:00<?, ?it/s]"
      ]
     },
     "metadata": {},
     "output_type": "display_data"
    },
    {
     "name": "stdout",
     "output_type": "stream",
     "text": [
      "Processing batch 182/1554\n"
     ]
    },
    {
     "data": {
      "application/vnd.jupyter.widget-view+json": {
       "model_id": "16750a10c83e441fa30722ba5dccbab6",
       "version_major": 2,
       "version_minor": 0
      },
      "text/plain": [
       "Resizing images (rxrx3):   0%|          | 0/100 [00:00<?, ?it/s]"
      ]
     },
     "metadata": {},
     "output_type": "display_data"
    },
    {
     "name": "stdout",
     "output_type": "stream",
     "text": [
      "Processing batch 183/1554\n"
     ]
    },
    {
     "data": {
      "application/vnd.jupyter.widget-view+json": {
       "model_id": "7823d4f3bafe49bab2f84f32c1749963",
       "version_major": 2,
       "version_minor": 0
      },
      "text/plain": [
       "Resizing images (rxrx3):   0%|          | 0/100 [00:00<?, ?it/s]"
      ]
     },
     "metadata": {},
     "output_type": "display_data"
    },
    {
     "name": "stdout",
     "output_type": "stream",
     "text": [
      "Processing batch 184/1554\n"
     ]
    },
    {
     "data": {
      "application/vnd.jupyter.widget-view+json": {
       "model_id": "6d6c7836ae004e7586af7b574372ba33",
       "version_major": 2,
       "version_minor": 0
      },
      "text/plain": [
       "Resizing images (rxrx3):   0%|          | 0/100 [00:00<?, ?it/s]"
      ]
     },
     "metadata": {},
     "output_type": "display_data"
    },
    {
     "name": "stdout",
     "output_type": "stream",
     "text": [
      "Processing batch 185/1554\n"
     ]
    },
    {
     "data": {
      "application/vnd.jupyter.widget-view+json": {
       "model_id": "1223db4781384075beb6ec33117f8226",
       "version_major": 2,
       "version_minor": 0
      },
      "text/plain": [
       "Resizing images (rxrx3):   0%|          | 0/100 [00:00<?, ?it/s]"
      ]
     },
     "metadata": {},
     "output_type": "display_data"
    },
    {
     "name": "stdout",
     "output_type": "stream",
     "text": [
      "Processing batch 186/1554\n"
     ]
    },
    {
     "data": {
      "application/vnd.jupyter.widget-view+json": {
       "model_id": "9283ed7cb6f4421ea1662af9ac900611",
       "version_major": 2,
       "version_minor": 0
      },
      "text/plain": [
       "Resizing images (rxrx3):   0%|          | 0/100 [00:00<?, ?it/s]"
      ]
     },
     "metadata": {},
     "output_type": "display_data"
    },
    {
     "name": "stdout",
     "output_type": "stream",
     "text": [
      "Processing batch 187/1554\n"
     ]
    },
    {
     "data": {
      "application/vnd.jupyter.widget-view+json": {
       "model_id": "50bcb384762e48809c64d708d107183a",
       "version_major": 2,
       "version_minor": 0
      },
      "text/plain": [
       "Resizing images (rxrx3):   0%|          | 0/100 [00:00<?, ?it/s]"
      ]
     },
     "metadata": {},
     "output_type": "display_data"
    },
    {
     "name": "stdout",
     "output_type": "stream",
     "text": [
      "Processing batch 188/1554\n"
     ]
    },
    {
     "data": {
      "application/vnd.jupyter.widget-view+json": {
       "model_id": "96d9841d0bb94cb3967b09a4f6fc6e87",
       "version_major": 2,
       "version_minor": 0
      },
      "text/plain": [
       "Resizing images (rxrx3):   0%|          | 0/100 [00:00<?, ?it/s]"
      ]
     },
     "metadata": {},
     "output_type": "display_data"
    },
    {
     "name": "stdout",
     "output_type": "stream",
     "text": [
      "Processing batch 189/1554\n"
     ]
    },
    {
     "data": {
      "application/vnd.jupyter.widget-view+json": {
       "model_id": "7dd3cd8c545941d7a130822e3428c3b8",
       "version_major": 2,
       "version_minor": 0
      },
      "text/plain": [
       "Resizing images (rxrx3):   0%|          | 0/100 [00:00<?, ?it/s]"
      ]
     },
     "metadata": {},
     "output_type": "display_data"
    },
    {
     "name": "stdout",
     "output_type": "stream",
     "text": [
      "Processing batch 190/1554\n"
     ]
    },
    {
     "data": {
      "application/vnd.jupyter.widget-view+json": {
       "model_id": "153e0640c78840bbaf6ea41f9e2d3920",
       "version_major": 2,
       "version_minor": 0
      },
      "text/plain": [
       "Resizing images (rxrx3):   0%|          | 0/100 [00:00<?, ?it/s]"
      ]
     },
     "metadata": {},
     "output_type": "display_data"
    },
    {
     "name": "stdout",
     "output_type": "stream",
     "text": [
      "Processing batch 191/1554\n"
     ]
    },
    {
     "data": {
      "application/vnd.jupyter.widget-view+json": {
       "model_id": "bc1b7b937bda42eab63a3125219e7323",
       "version_major": 2,
       "version_minor": 0
      },
      "text/plain": [
       "Resizing images (rxrx3):   0%|          | 0/100 [00:00<?, ?it/s]"
      ]
     },
     "metadata": {},
     "output_type": "display_data"
    },
    {
     "name": "stdout",
     "output_type": "stream",
     "text": [
      "Processing batch 192/1554\n"
     ]
    },
    {
     "data": {
      "application/vnd.jupyter.widget-view+json": {
       "model_id": "a334acf057504e8aa3513f88af8fd5ac",
       "version_major": 2,
       "version_minor": 0
      },
      "text/plain": [
       "Resizing images (rxrx3):   0%|          | 0/100 [00:00<?, ?it/s]"
      ]
     },
     "metadata": {},
     "output_type": "display_data"
    },
    {
     "name": "stdout",
     "output_type": "stream",
     "text": [
      "Processing batch 193/1554\n"
     ]
    },
    {
     "data": {
      "application/vnd.jupyter.widget-view+json": {
       "model_id": "7d430adabf1b48cbb8e099ad2e90fa9e",
       "version_major": 2,
       "version_minor": 0
      },
      "text/plain": [
       "Resizing images (rxrx3):   0%|          | 0/100 [00:00<?, ?it/s]"
      ]
     },
     "metadata": {},
     "output_type": "display_data"
    },
    {
     "name": "stdout",
     "output_type": "stream",
     "text": [
      "Processing batch 194/1554\n"
     ]
    },
    {
     "data": {
      "application/vnd.jupyter.widget-view+json": {
       "model_id": "5d4603df77a843e8b2e20fabcbb806a5",
       "version_major": 2,
       "version_minor": 0
      },
      "text/plain": [
       "Resizing images (rxrx3):   0%|          | 0/100 [00:00<?, ?it/s]"
      ]
     },
     "metadata": {},
     "output_type": "display_data"
    },
    {
     "name": "stdout",
     "output_type": "stream",
     "text": [
      "Processing batch 195/1554\n"
     ]
    },
    {
     "data": {
      "application/vnd.jupyter.widget-view+json": {
       "model_id": "a450233b2c2a4987bf01028236419d61",
       "version_major": 2,
       "version_minor": 0
      },
      "text/plain": [
       "Resizing images (rxrx3):   0%|          | 0/100 [00:00<?, ?it/s]"
      ]
     },
     "metadata": {},
     "output_type": "display_data"
    },
    {
     "name": "stdout",
     "output_type": "stream",
     "text": [
      "Processing batch 196/1554\n"
     ]
    },
    {
     "data": {
      "application/vnd.jupyter.widget-view+json": {
       "model_id": "c59354e3419843b4b409e96ac85708c0",
       "version_major": 2,
       "version_minor": 0
      },
      "text/plain": [
       "Resizing images (rxrx3):   0%|          | 0/100 [00:00<?, ?it/s]"
      ]
     },
     "metadata": {},
     "output_type": "display_data"
    },
    {
     "name": "stdout",
     "output_type": "stream",
     "text": [
      "Processing batch 197/1554\n"
     ]
    },
    {
     "data": {
      "application/vnd.jupyter.widget-view+json": {
       "model_id": "db63957320934ec2b649a11afb9aa262",
       "version_major": 2,
       "version_minor": 0
      },
      "text/plain": [
       "Resizing images (rxrx3):   0%|          | 0/100 [00:00<?, ?it/s]"
      ]
     },
     "metadata": {},
     "output_type": "display_data"
    },
    {
     "name": "stdout",
     "output_type": "stream",
     "text": [
      "Processing batch 198/1554\n"
     ]
    },
    {
     "data": {
      "application/vnd.jupyter.widget-view+json": {
       "model_id": "044a7a442351496c88360aa25975a3ff",
       "version_major": 2,
       "version_minor": 0
      },
      "text/plain": [
       "Resizing images (rxrx3):   0%|          | 0/100 [00:00<?, ?it/s]"
      ]
     },
     "metadata": {},
     "output_type": "display_data"
    },
    {
     "name": "stdout",
     "output_type": "stream",
     "text": [
      "Processing batch 199/1554\n"
     ]
    },
    {
     "data": {
      "application/vnd.jupyter.widget-view+json": {
       "model_id": "b612abf27c604b51a6b288729de5c5e3",
       "version_major": 2,
       "version_minor": 0
      },
      "text/plain": [
       "Resizing images (rxrx3):   0%|          | 0/100 [00:00<?, ?it/s]"
      ]
     },
     "metadata": {},
     "output_type": "display_data"
    },
    {
     "name": "stdout",
     "output_type": "stream",
     "text": [
      "Processing batch 200/1554\n"
     ]
    },
    {
     "data": {
      "application/vnd.jupyter.widget-view+json": {
       "model_id": "95e85471627c400e9db98e1804babb4b",
       "version_major": 2,
       "version_minor": 0
      },
      "text/plain": [
       "Resizing images (rxrx3):   0%|          | 0/100 [00:00<?, ?it/s]"
      ]
     },
     "metadata": {},
     "output_type": "display_data"
    },
    {
     "name": "stdout",
     "output_type": "stream",
     "text": [
      "Processing batch 201/1554\n"
     ]
    },
    {
     "data": {
      "application/vnd.jupyter.widget-view+json": {
       "model_id": "5cd204bad5214a309247199024c804ff",
       "version_major": 2,
       "version_minor": 0
      },
      "text/plain": [
       "Resizing images (rxrx3):   0%|          | 0/100 [00:00<?, ?it/s]"
      ]
     },
     "metadata": {},
     "output_type": "display_data"
    },
    {
     "name": "stdout",
     "output_type": "stream",
     "text": [
      "Processing batch 202/1554\n"
     ]
    },
    {
     "data": {
      "application/vnd.jupyter.widget-view+json": {
       "model_id": "2c148ee6aacc41538cab995d3e869a8c",
       "version_major": 2,
       "version_minor": 0
      },
      "text/plain": [
       "Resizing images (rxrx3):   0%|          | 0/100 [00:00<?, ?it/s]"
      ]
     },
     "metadata": {},
     "output_type": "display_data"
    },
    {
     "name": "stdout",
     "output_type": "stream",
     "text": [
      "Processing batch 203/1554\n"
     ]
    },
    {
     "data": {
      "application/vnd.jupyter.widget-view+json": {
       "model_id": "a9a969853de849d18ae2b6ec94ea421b",
       "version_major": 2,
       "version_minor": 0
      },
      "text/plain": [
       "Resizing images (rxrx3):   0%|          | 0/100 [00:00<?, ?it/s]"
      ]
     },
     "metadata": {},
     "output_type": "display_data"
    },
    {
     "name": "stdout",
     "output_type": "stream",
     "text": [
      "Processing batch 204/1554\n"
     ]
    },
    {
     "data": {
      "application/vnd.jupyter.widget-view+json": {
       "model_id": "08174e142b6d4d769f7374670fc73fc9",
       "version_major": 2,
       "version_minor": 0
      },
      "text/plain": [
       "Resizing images (rxrx3):   0%|          | 0/100 [00:00<?, ?it/s]"
      ]
     },
     "metadata": {},
     "output_type": "display_data"
    },
    {
     "name": "stdout",
     "output_type": "stream",
     "text": [
      "Processing batch 205/1554\n"
     ]
    },
    {
     "data": {
      "application/vnd.jupyter.widget-view+json": {
       "model_id": "d6bd5b52da1f4797a14d9e9e95dc8046",
       "version_major": 2,
       "version_minor": 0
      },
      "text/plain": [
       "Resizing images (rxrx3):   0%|          | 0/100 [00:00<?, ?it/s]"
      ]
     },
     "metadata": {},
     "output_type": "display_data"
    },
    {
     "name": "stdout",
     "output_type": "stream",
     "text": [
      "Processing batch 206/1554\n"
     ]
    },
    {
     "data": {
      "application/vnd.jupyter.widget-view+json": {
       "model_id": "9989b68bd49749179f92137e4dcab5c3",
       "version_major": 2,
       "version_minor": 0
      },
      "text/plain": [
       "Resizing images (rxrx3):   0%|          | 0/100 [00:00<?, ?it/s]"
      ]
     },
     "metadata": {},
     "output_type": "display_data"
    },
    {
     "name": "stdout",
     "output_type": "stream",
     "text": [
      "Processing batch 207/1554\n"
     ]
    },
    {
     "data": {
      "application/vnd.jupyter.widget-view+json": {
       "model_id": "e9a3e8c3c7e9428880c0a8bd93a445a8",
       "version_major": 2,
       "version_minor": 0
      },
      "text/plain": [
       "Resizing images (rxrx3):   0%|          | 0/100 [00:00<?, ?it/s]"
      ]
     },
     "metadata": {},
     "output_type": "display_data"
    },
    {
     "name": "stdout",
     "output_type": "stream",
     "text": [
      "Processing batch 208/1554\n"
     ]
    },
    {
     "data": {
      "application/vnd.jupyter.widget-view+json": {
       "model_id": "d39e78453b114ec2918b627a530ca338",
       "version_major": 2,
       "version_minor": 0
      },
      "text/plain": [
       "Resizing images (rxrx3):   0%|          | 0/100 [00:00<?, ?it/s]"
      ]
     },
     "metadata": {},
     "output_type": "display_data"
    },
    {
     "name": "stdout",
     "output_type": "stream",
     "text": [
      "Processing batch 209/1554\n"
     ]
    },
    {
     "data": {
      "application/vnd.jupyter.widget-view+json": {
       "model_id": "fcbb6e27a70a4ab6abbd6b26b311d23d",
       "version_major": 2,
       "version_minor": 0
      },
      "text/plain": [
       "Resizing images (rxrx3):   0%|          | 0/100 [00:00<?, ?it/s]"
      ]
     },
     "metadata": {},
     "output_type": "display_data"
    },
    {
     "name": "stdout",
     "output_type": "stream",
     "text": [
      "Processing batch 210/1554\n"
     ]
    },
    {
     "data": {
      "application/vnd.jupyter.widget-view+json": {
       "model_id": "63891e90063c448cb70c10524c78fa41",
       "version_major": 2,
       "version_minor": 0
      },
      "text/plain": [
       "Resizing images (rxrx3):   0%|          | 0/100 [00:00<?, ?it/s]"
      ]
     },
     "metadata": {},
     "output_type": "display_data"
    },
    {
     "name": "stdout",
     "output_type": "stream",
     "text": [
      "Processing batch 211/1554\n"
     ]
    },
    {
     "data": {
      "application/vnd.jupyter.widget-view+json": {
       "model_id": "af75162da563479186037f4d3e21a624",
       "version_major": 2,
       "version_minor": 0
      },
      "text/plain": [
       "Resizing images (rxrx3):   0%|          | 0/100 [00:00<?, ?it/s]"
      ]
     },
     "metadata": {},
     "output_type": "display_data"
    },
    {
     "name": "stdout",
     "output_type": "stream",
     "text": [
      "Processing batch 212/1554\n"
     ]
    },
    {
     "data": {
      "application/vnd.jupyter.widget-view+json": {
       "model_id": "35358898f7914fb2bcb007025ea2cb3b",
       "version_major": 2,
       "version_minor": 0
      },
      "text/plain": [
       "Resizing images (rxrx3):   0%|          | 0/100 [00:00<?, ?it/s]"
      ]
     },
     "metadata": {},
     "output_type": "display_data"
    },
    {
     "name": "stdout",
     "output_type": "stream",
     "text": [
      "Processing batch 213/1554\n"
     ]
    },
    {
     "data": {
      "application/vnd.jupyter.widget-view+json": {
       "model_id": "ce6415a1f1844d92bfc56db72e477a8e",
       "version_major": 2,
       "version_minor": 0
      },
      "text/plain": [
       "Resizing images (rxrx3):   0%|          | 0/100 [00:00<?, ?it/s]"
      ]
     },
     "metadata": {},
     "output_type": "display_data"
    },
    {
     "name": "stdout",
     "output_type": "stream",
     "text": [
      "Processing batch 214/1554\n"
     ]
    },
    {
     "data": {
      "application/vnd.jupyter.widget-view+json": {
       "model_id": "8c81a178ed5044ddb5dcad4fabdcc47e",
       "version_major": 2,
       "version_minor": 0
      },
      "text/plain": [
       "Resizing images (rxrx3):   0%|          | 0/100 [00:00<?, ?it/s]"
      ]
     },
     "metadata": {},
     "output_type": "display_data"
    },
    {
     "name": "stdout",
     "output_type": "stream",
     "text": [
      "Processing batch 215/1554\n"
     ]
    },
    {
     "data": {
      "application/vnd.jupyter.widget-view+json": {
       "model_id": "facaa2c60d2f4e3092808dc11e1df426",
       "version_major": 2,
       "version_minor": 0
      },
      "text/plain": [
       "Resizing images (rxrx3):   0%|          | 0/100 [00:00<?, ?it/s]"
      ]
     },
     "metadata": {},
     "output_type": "display_data"
    },
    {
     "name": "stdout",
     "output_type": "stream",
     "text": [
      "Processing batch 216/1554\n"
     ]
    },
    {
     "data": {
      "application/vnd.jupyter.widget-view+json": {
       "model_id": "53f2fb5075854071b2671c3499306e7f",
       "version_major": 2,
       "version_minor": 0
      },
      "text/plain": [
       "Resizing images (rxrx3):   0%|          | 0/100 [00:00<?, ?it/s]"
      ]
     },
     "metadata": {},
     "output_type": "display_data"
    },
    {
     "name": "stdout",
     "output_type": "stream",
     "text": [
      "Processing batch 217/1554\n"
     ]
    },
    {
     "data": {
      "application/vnd.jupyter.widget-view+json": {
       "model_id": "d5f6f8a99cd14e2ebd0a569e92d197ab",
       "version_major": 2,
       "version_minor": 0
      },
      "text/plain": [
       "Resizing images (rxrx3):   0%|          | 0/100 [00:00<?, ?it/s]"
      ]
     },
     "metadata": {},
     "output_type": "display_data"
    },
    {
     "name": "stdout",
     "output_type": "stream",
     "text": [
      "Processing batch 218/1554\n"
     ]
    },
    {
     "data": {
      "application/vnd.jupyter.widget-view+json": {
       "model_id": "ab953b4ac0c84ea08a9d575534ce5527",
       "version_major": 2,
       "version_minor": 0
      },
      "text/plain": [
       "Resizing images (rxrx3):   0%|          | 0/100 [00:00<?, ?it/s]"
      ]
     },
     "metadata": {},
     "output_type": "display_data"
    },
    {
     "name": "stdout",
     "output_type": "stream",
     "text": [
      "Processing batch 219/1554\n"
     ]
    },
    {
     "data": {
      "application/vnd.jupyter.widget-view+json": {
       "model_id": "32ac101872194c6f9619da527b0090e5",
       "version_major": 2,
       "version_minor": 0
      },
      "text/plain": [
       "Resizing images (rxrx3):   0%|          | 0/100 [00:00<?, ?it/s]"
      ]
     },
     "metadata": {},
     "output_type": "display_data"
    },
    {
     "name": "stdout",
     "output_type": "stream",
     "text": [
      "Processing batch 220/1554\n"
     ]
    },
    {
     "data": {
      "application/vnd.jupyter.widget-view+json": {
       "model_id": "abfa64173ccd484a98f374964680d655",
       "version_major": 2,
       "version_minor": 0
      },
      "text/plain": [
       "Resizing images (rxrx3):   0%|          | 0/100 [00:00<?, ?it/s]"
      ]
     },
     "metadata": {},
     "output_type": "display_data"
    },
    {
     "name": "stdout",
     "output_type": "stream",
     "text": [
      "Processing batch 221/1554\n"
     ]
    },
    {
     "data": {
      "application/vnd.jupyter.widget-view+json": {
       "model_id": "4e2b41b896b14395921b68f1f60b75e2",
       "version_major": 2,
       "version_minor": 0
      },
      "text/plain": [
       "Resizing images (rxrx3):   0%|          | 0/100 [00:00<?, ?it/s]"
      ]
     },
     "metadata": {},
     "output_type": "display_data"
    },
    {
     "name": "stdout",
     "output_type": "stream",
     "text": [
      "Processing batch 222/1554\n"
     ]
    },
    {
     "data": {
      "application/vnd.jupyter.widget-view+json": {
       "model_id": "8c9dfb796670452eb5a60b3d7e57a581",
       "version_major": 2,
       "version_minor": 0
      },
      "text/plain": [
       "Resizing images (rxrx3):   0%|          | 0/100 [00:00<?, ?it/s]"
      ]
     },
     "metadata": {},
     "output_type": "display_data"
    },
    {
     "name": "stdout",
     "output_type": "stream",
     "text": [
      "Processing batch 223/1554\n"
     ]
    },
    {
     "data": {
      "application/vnd.jupyter.widget-view+json": {
       "model_id": "42747e3bd4aa4c0eb67157be47a0c115",
       "version_major": 2,
       "version_minor": 0
      },
      "text/plain": [
       "Resizing images (rxrx3):   0%|          | 0/100 [00:00<?, ?it/s]"
      ]
     },
     "metadata": {},
     "output_type": "display_data"
    },
    {
     "name": "stdout",
     "output_type": "stream",
     "text": [
      "Processing batch 224/1554\n"
     ]
    },
    {
     "data": {
      "application/vnd.jupyter.widget-view+json": {
       "model_id": "765aead226ba44bebe8fb96eaa2618a1",
       "version_major": 2,
       "version_minor": 0
      },
      "text/plain": [
       "Resizing images (rxrx3):   0%|          | 0/100 [00:00<?, ?it/s]"
      ]
     },
     "metadata": {},
     "output_type": "display_data"
    },
    {
     "name": "stdout",
     "output_type": "stream",
     "text": [
      "Processing batch 225/1554\n"
     ]
    },
    {
     "data": {
      "application/vnd.jupyter.widget-view+json": {
       "model_id": "79e522d4da0a45348992aa638ee584ec",
       "version_major": 2,
       "version_minor": 0
      },
      "text/plain": [
       "Resizing images (rxrx3):   0%|          | 0/100 [00:00<?, ?it/s]"
      ]
     },
     "metadata": {},
     "output_type": "display_data"
    },
    {
     "name": "stdout",
     "output_type": "stream",
     "text": [
      "Processing batch 226/1554\n"
     ]
    },
    {
     "data": {
      "application/vnd.jupyter.widget-view+json": {
       "model_id": "91e0f2d2d6254ae6b4edf6d28e40dea3",
       "version_major": 2,
       "version_minor": 0
      },
      "text/plain": [
       "Resizing images (rxrx3):   0%|          | 0/100 [00:00<?, ?it/s]"
      ]
     },
     "metadata": {},
     "output_type": "display_data"
    },
    {
     "name": "stdout",
     "output_type": "stream",
     "text": [
      "Processing batch 227/1554\n"
     ]
    },
    {
     "data": {
      "application/vnd.jupyter.widget-view+json": {
       "model_id": "0a3b3725041047f09c831fdf4a97cbb2",
       "version_major": 2,
       "version_minor": 0
      },
      "text/plain": [
       "Resizing images (rxrx3):   0%|          | 0/100 [00:00<?, ?it/s]"
      ]
     },
     "metadata": {},
     "output_type": "display_data"
    },
    {
     "name": "stdout",
     "output_type": "stream",
     "text": [
      "Processing batch 228/1554\n"
     ]
    },
    {
     "data": {
      "application/vnd.jupyter.widget-view+json": {
       "model_id": "9bff83ef1af04f42bf27789a52a34e1a",
       "version_major": 2,
       "version_minor": 0
      },
      "text/plain": [
       "Resizing images (rxrx3):   0%|          | 0/100 [00:00<?, ?it/s]"
      ]
     },
     "metadata": {},
     "output_type": "display_data"
    },
    {
     "name": "stdout",
     "output_type": "stream",
     "text": [
      "Processing batch 229/1554\n"
     ]
    },
    {
     "data": {
      "application/vnd.jupyter.widget-view+json": {
       "model_id": "c92edd7498e94062bd833ce5c05dd2e8",
       "version_major": 2,
       "version_minor": 0
      },
      "text/plain": [
       "Resizing images (rxrx3):   0%|          | 0/100 [00:00<?, ?it/s]"
      ]
     },
     "metadata": {},
     "output_type": "display_data"
    },
    {
     "name": "stdout",
     "output_type": "stream",
     "text": [
      "Processing batch 230/1554\n"
     ]
    },
    {
     "data": {
      "application/vnd.jupyter.widget-view+json": {
       "model_id": "33ff8355e01949618bf32521e160eed1",
       "version_major": 2,
       "version_minor": 0
      },
      "text/plain": [
       "Resizing images (rxrx3):   0%|          | 0/100 [00:00<?, ?it/s]"
      ]
     },
     "metadata": {},
     "output_type": "display_data"
    },
    {
     "name": "stdout",
     "output_type": "stream",
     "text": [
      "Processing batch 231/1554\n"
     ]
    },
    {
     "data": {
      "application/vnd.jupyter.widget-view+json": {
       "model_id": "3ba2cf5caa60441bb6e60c293b1edf37",
       "version_major": 2,
       "version_minor": 0
      },
      "text/plain": [
       "Resizing images (rxrx3):   0%|          | 0/100 [00:00<?, ?it/s]"
      ]
     },
     "metadata": {},
     "output_type": "display_data"
    },
    {
     "name": "stdout",
     "output_type": "stream",
     "text": [
      "Processing batch 232/1554\n"
     ]
    },
    {
     "data": {
      "application/vnd.jupyter.widget-view+json": {
       "model_id": "77294e10953c445186b5249f23c0172b",
       "version_major": 2,
       "version_minor": 0
      },
      "text/plain": [
       "Resizing images (rxrx3):   0%|          | 0/100 [00:00<?, ?it/s]"
      ]
     },
     "metadata": {},
     "output_type": "display_data"
    },
    {
     "name": "stdout",
     "output_type": "stream",
     "text": [
      "Processing batch 233/1554\n"
     ]
    },
    {
     "data": {
      "application/vnd.jupyter.widget-view+json": {
       "model_id": "71eb484269694044b103d16a169a0ab9",
       "version_major": 2,
       "version_minor": 0
      },
      "text/plain": [
       "Resizing images (rxrx3):   0%|          | 0/100 [00:00<?, ?it/s]"
      ]
     },
     "metadata": {},
     "output_type": "display_data"
    },
    {
     "name": "stdout",
     "output_type": "stream",
     "text": [
      "Processing batch 234/1554\n"
     ]
    },
    {
     "data": {
      "application/vnd.jupyter.widget-view+json": {
       "model_id": "b4275b0b7a4549e4800f3ec484a82128",
       "version_major": 2,
       "version_minor": 0
      },
      "text/plain": [
       "Resizing images (rxrx3):   0%|          | 0/100 [00:00<?, ?it/s]"
      ]
     },
     "metadata": {},
     "output_type": "display_data"
    },
    {
     "name": "stdout",
     "output_type": "stream",
     "text": [
      "Processing batch 235/1554\n"
     ]
    },
    {
     "data": {
      "application/vnd.jupyter.widget-view+json": {
       "model_id": "75c5824edf9245b1a14ea1726444df74",
       "version_major": 2,
       "version_minor": 0
      },
      "text/plain": [
       "Resizing images (rxrx3):   0%|          | 0/100 [00:00<?, ?it/s]"
      ]
     },
     "metadata": {},
     "output_type": "display_data"
    },
    {
     "name": "stdout",
     "output_type": "stream",
     "text": [
      "Processing batch 236/1554\n"
     ]
    },
    {
     "data": {
      "application/vnd.jupyter.widget-view+json": {
       "model_id": "62e1d273224a4cc184d293403c913011",
       "version_major": 2,
       "version_minor": 0
      },
      "text/plain": [
       "Resizing images (rxrx3):   0%|          | 0/100 [00:00<?, ?it/s]"
      ]
     },
     "metadata": {},
     "output_type": "display_data"
    },
    {
     "name": "stdout",
     "output_type": "stream",
     "text": [
      "Processing batch 237/1554\n"
     ]
    },
    {
     "data": {
      "application/vnd.jupyter.widget-view+json": {
       "model_id": "460434eb6a104fb884afc58a67b24609",
       "version_major": 2,
       "version_minor": 0
      },
      "text/plain": [
       "Resizing images (rxrx3):   0%|          | 0/100 [00:00<?, ?it/s]"
      ]
     },
     "metadata": {},
     "output_type": "display_data"
    },
    {
     "name": "stdout",
     "output_type": "stream",
     "text": [
      "Processing batch 238/1554\n"
     ]
    },
    {
     "data": {
      "application/vnd.jupyter.widget-view+json": {
       "model_id": "6ea21242e7164a5a81832b38ba3539c6",
       "version_major": 2,
       "version_minor": 0
      },
      "text/plain": [
       "Resizing images (rxrx3):   0%|          | 0/100 [00:00<?, ?it/s]"
      ]
     },
     "metadata": {},
     "output_type": "display_data"
    },
    {
     "name": "stdout",
     "output_type": "stream",
     "text": [
      "Processing batch 239/1554\n"
     ]
    },
    {
     "data": {
      "application/vnd.jupyter.widget-view+json": {
       "model_id": "97ad04840bcf4062a658959aae260f91",
       "version_major": 2,
       "version_minor": 0
      },
      "text/plain": [
       "Resizing images (rxrx3):   0%|          | 0/100 [00:00<?, ?it/s]"
      ]
     },
     "metadata": {},
     "output_type": "display_data"
    },
    {
     "name": "stdout",
     "output_type": "stream",
     "text": [
      "Processing batch 240/1554\n"
     ]
    },
    {
     "data": {
      "application/vnd.jupyter.widget-view+json": {
       "model_id": "4e7f74cffe884e1a96f1e1ad62f053f0",
       "version_major": 2,
       "version_minor": 0
      },
      "text/plain": [
       "Resizing images (rxrx3):   0%|          | 0/100 [00:00<?, ?it/s]"
      ]
     },
     "metadata": {},
     "output_type": "display_data"
    },
    {
     "name": "stdout",
     "output_type": "stream",
     "text": [
      "Processing batch 241/1554\n"
     ]
    },
    {
     "data": {
      "application/vnd.jupyter.widget-view+json": {
       "model_id": "094b20771aca44e8861a6d3ac086336a",
       "version_major": 2,
       "version_minor": 0
      },
      "text/plain": [
       "Resizing images (rxrx3):   0%|          | 0/100 [00:00<?, ?it/s]"
      ]
     },
     "metadata": {},
     "output_type": "display_data"
    },
    {
     "name": "stdout",
     "output_type": "stream",
     "text": [
      "Processing batch 242/1554\n"
     ]
    },
    {
     "data": {
      "application/vnd.jupyter.widget-view+json": {
       "model_id": "c09e03755a2f47839aa78520f7672c43",
       "version_major": 2,
       "version_minor": 0
      },
      "text/plain": [
       "Resizing images (rxrx3):   0%|          | 0/100 [00:00<?, ?it/s]"
      ]
     },
     "metadata": {},
     "output_type": "display_data"
    },
    {
     "name": "stdout",
     "output_type": "stream",
     "text": [
      "Processing batch 243/1554\n"
     ]
    },
    {
     "data": {
      "application/vnd.jupyter.widget-view+json": {
       "model_id": "8cc6126c60004185bdf01fb9edc7c86e",
       "version_major": 2,
       "version_minor": 0
      },
      "text/plain": [
       "Resizing images (rxrx3):   0%|          | 0/100 [00:00<?, ?it/s]"
      ]
     },
     "metadata": {},
     "output_type": "display_data"
    },
    {
     "name": "stdout",
     "output_type": "stream",
     "text": [
      "Processing batch 244/1554\n"
     ]
    },
    {
     "data": {
      "application/vnd.jupyter.widget-view+json": {
       "model_id": "177db7a5f45b46ab97a990ac7be4be6a",
       "version_major": 2,
       "version_minor": 0
      },
      "text/plain": [
       "Resizing images (rxrx3):   0%|          | 0/100 [00:00<?, ?it/s]"
      ]
     },
     "metadata": {},
     "output_type": "display_data"
    },
    {
     "name": "stdout",
     "output_type": "stream",
     "text": [
      "Processing batch 245/1554\n"
     ]
    },
    {
     "data": {
      "application/vnd.jupyter.widget-view+json": {
       "model_id": "e30b1f45fc46432ba9231bf0988a2f29",
       "version_major": 2,
       "version_minor": 0
      },
      "text/plain": [
       "Resizing images (rxrx3):   0%|          | 0/100 [00:00<?, ?it/s]"
      ]
     },
     "metadata": {},
     "output_type": "display_data"
    },
    {
     "name": "stdout",
     "output_type": "stream",
     "text": [
      "Processing batch 246/1554\n"
     ]
    },
    {
     "data": {
      "application/vnd.jupyter.widget-view+json": {
       "model_id": "c62ae5ea61094210b3920dcfa98bb689",
       "version_major": 2,
       "version_minor": 0
      },
      "text/plain": [
       "Resizing images (rxrx3):   0%|          | 0/100 [00:00<?, ?it/s]"
      ]
     },
     "metadata": {},
     "output_type": "display_data"
    },
    {
     "name": "stdout",
     "output_type": "stream",
     "text": [
      "Processing batch 247/1554\n"
     ]
    },
    {
     "data": {
      "application/vnd.jupyter.widget-view+json": {
       "model_id": "9272461bb9014429acbc108ee326e984",
       "version_major": 2,
       "version_minor": 0
      },
      "text/plain": [
       "Resizing images (rxrx3):   0%|          | 0/100 [00:00<?, ?it/s]"
      ]
     },
     "metadata": {},
     "output_type": "display_data"
    },
    {
     "name": "stdout",
     "output_type": "stream",
     "text": [
      "Processing batch 248/1554\n"
     ]
    },
    {
     "data": {
      "application/vnd.jupyter.widget-view+json": {
       "model_id": "996e24c4b7c6491b8b1764710ca28fd2",
       "version_major": 2,
       "version_minor": 0
      },
      "text/plain": [
       "Resizing images (rxrx3):   0%|          | 0/100 [00:00<?, ?it/s]"
      ]
     },
     "metadata": {},
     "output_type": "display_data"
    },
    {
     "name": "stdout",
     "output_type": "stream",
     "text": [
      "Processing batch 249/1554\n"
     ]
    },
    {
     "data": {
      "application/vnd.jupyter.widget-view+json": {
       "model_id": "9876047e4a8344c797414133ddf325bc",
       "version_major": 2,
       "version_minor": 0
      },
      "text/plain": [
       "Resizing images (rxrx3):   0%|          | 0/100 [00:00<?, ?it/s]"
      ]
     },
     "metadata": {},
     "output_type": "display_data"
    },
    {
     "name": "stdout",
     "output_type": "stream",
     "text": [
      "Processing batch 250/1554\n"
     ]
    },
    {
     "data": {
      "application/vnd.jupyter.widget-view+json": {
       "model_id": "fc6c6420a9524151ac17609f7e63beec",
       "version_major": 2,
       "version_minor": 0
      },
      "text/plain": [
       "Resizing images (rxrx3):   0%|          | 0/100 [00:00<?, ?it/s]"
      ]
     },
     "metadata": {},
     "output_type": "display_data"
    },
    {
     "name": "stdout",
     "output_type": "stream",
     "text": [
      "Processing batch 251/1554\n"
     ]
    },
    {
     "data": {
      "application/vnd.jupyter.widget-view+json": {
       "model_id": "aac3a86086014c08b762b4732d81e2ce",
       "version_major": 2,
       "version_minor": 0
      },
      "text/plain": [
       "Resizing images (rxrx3):   0%|          | 0/100 [00:00<?, ?it/s]"
      ]
     },
     "metadata": {},
     "output_type": "display_data"
    },
    {
     "name": "stdout",
     "output_type": "stream",
     "text": [
      "Processing batch 252/1554\n"
     ]
    },
    {
     "data": {
      "application/vnd.jupyter.widget-view+json": {
       "model_id": "6c90566a708e418884b8a9d7b9f6925b",
       "version_major": 2,
       "version_minor": 0
      },
      "text/plain": [
       "Resizing images (rxrx3):   0%|          | 0/100 [00:00<?, ?it/s]"
      ]
     },
     "metadata": {},
     "output_type": "display_data"
    },
    {
     "name": "stdout",
     "output_type": "stream",
     "text": [
      "Processing batch 253/1554\n"
     ]
    },
    {
     "data": {
      "application/vnd.jupyter.widget-view+json": {
       "model_id": "939b0c17f72a4ea69f4173a1e3c2b56b",
       "version_major": 2,
       "version_minor": 0
      },
      "text/plain": [
       "Resizing images (rxrx3):   0%|          | 0/100 [00:00<?, ?it/s]"
      ]
     },
     "metadata": {},
     "output_type": "display_data"
    },
    {
     "name": "stdout",
     "output_type": "stream",
     "text": [
      "Processing batch 254/1554\n"
     ]
    },
    {
     "data": {
      "application/vnd.jupyter.widget-view+json": {
       "model_id": "0874539bf15c475ca5864e3f8b031f55",
       "version_major": 2,
       "version_minor": 0
      },
      "text/plain": [
       "Resizing images (rxrx3):   0%|          | 0/100 [00:00<?, ?it/s]"
      ]
     },
     "metadata": {},
     "output_type": "display_data"
    },
    {
     "name": "stdout",
     "output_type": "stream",
     "text": [
      "Processing batch 255/1554\n"
     ]
    },
    {
     "data": {
      "application/vnd.jupyter.widget-view+json": {
       "model_id": "e51c4e3497b9486ea1cc3605daa18bb3",
       "version_major": 2,
       "version_minor": 0
      },
      "text/plain": [
       "Resizing images (rxrx3):   0%|          | 0/100 [00:00<?, ?it/s]"
      ]
     },
     "metadata": {},
     "output_type": "display_data"
    },
    {
     "name": "stdout",
     "output_type": "stream",
     "text": [
      "Processing batch 256/1554\n"
     ]
    },
    {
     "data": {
      "application/vnd.jupyter.widget-view+json": {
       "model_id": "108a2dc982f146869f87ed423b1c3ae4",
       "version_major": 2,
       "version_minor": 0
      },
      "text/plain": [
       "Resizing images (rxrx3):   0%|          | 0/100 [00:00<?, ?it/s]"
      ]
     },
     "metadata": {},
     "output_type": "display_data"
    },
    {
     "name": "stdout",
     "output_type": "stream",
     "text": [
      "Processing batch 257/1554\n"
     ]
    },
    {
     "data": {
      "application/vnd.jupyter.widget-view+json": {
       "model_id": "45248919454d4d6fb59e5b6c4a34b0c2",
       "version_major": 2,
       "version_minor": 0
      },
      "text/plain": [
       "Resizing images (rxrx3):   0%|          | 0/100 [00:00<?, ?it/s]"
      ]
     },
     "metadata": {},
     "output_type": "display_data"
    },
    {
     "name": "stdout",
     "output_type": "stream",
     "text": [
      "Processing batch 258/1554\n"
     ]
    },
    {
     "data": {
      "application/vnd.jupyter.widget-view+json": {
       "model_id": "17cc51c4f5b342219c7037a7f4edf1a2",
       "version_major": 2,
       "version_minor": 0
      },
      "text/plain": [
       "Resizing images (rxrx3):   0%|          | 0/100 [00:00<?, ?it/s]"
      ]
     },
     "metadata": {},
     "output_type": "display_data"
    },
    {
     "name": "stdout",
     "output_type": "stream",
     "text": [
      "Processing batch 259/1554\n"
     ]
    },
    {
     "data": {
      "application/vnd.jupyter.widget-view+json": {
       "model_id": "e25dd4cf2ec0485fa60570c1c4646503",
       "version_major": 2,
       "version_minor": 0
      },
      "text/plain": [
       "Resizing images (rxrx3):   0%|          | 0/100 [00:00<?, ?it/s]"
      ]
     },
     "metadata": {},
     "output_type": "display_data"
    },
    {
     "name": "stdout",
     "output_type": "stream",
     "text": [
      "Processing batch 260/1554\n"
     ]
    },
    {
     "data": {
      "application/vnd.jupyter.widget-view+json": {
       "model_id": "3081ad2b96814b488eded283a25c1d5a",
       "version_major": 2,
       "version_minor": 0
      },
      "text/plain": [
       "Resizing images (rxrx3):   0%|          | 0/100 [00:00<?, ?it/s]"
      ]
     },
     "metadata": {},
     "output_type": "display_data"
    },
    {
     "name": "stdout",
     "output_type": "stream",
     "text": [
      "Processing batch 261/1554\n"
     ]
    },
    {
     "data": {
      "application/vnd.jupyter.widget-view+json": {
       "model_id": "9ed290506e764a259ef70c8e3c657776",
       "version_major": 2,
       "version_minor": 0
      },
      "text/plain": [
       "Resizing images (rxrx3):   0%|          | 0/100 [00:00<?, ?it/s]"
      ]
     },
     "metadata": {},
     "output_type": "display_data"
    },
    {
     "name": "stdout",
     "output_type": "stream",
     "text": [
      "Processing batch 262/1554\n"
     ]
    },
    {
     "data": {
      "application/vnd.jupyter.widget-view+json": {
       "model_id": "5d46d1d458c943d9b14ab7f7d4b241e3",
       "version_major": 2,
       "version_minor": 0
      },
      "text/plain": [
       "Resizing images (rxrx3):   0%|          | 0/100 [00:00<?, ?it/s]"
      ]
     },
     "metadata": {},
     "output_type": "display_data"
    },
    {
     "name": "stdout",
     "output_type": "stream",
     "text": [
      "Processing batch 263/1554\n"
     ]
    },
    {
     "data": {
      "application/vnd.jupyter.widget-view+json": {
       "model_id": "436918c714fa498897b50119d6bf58ab",
       "version_major": 2,
       "version_minor": 0
      },
      "text/plain": [
       "Resizing images (rxrx3):   0%|          | 0/100 [00:00<?, ?it/s]"
      ]
     },
     "metadata": {},
     "output_type": "display_data"
    },
    {
     "name": "stdout",
     "output_type": "stream",
     "text": [
      "Processing batch 264/1554\n"
     ]
    },
    {
     "data": {
      "application/vnd.jupyter.widget-view+json": {
       "model_id": "02910b71c7bb4171b021b5ff23be659c",
       "version_major": 2,
       "version_minor": 0
      },
      "text/plain": [
       "Resizing images (rxrx3):   0%|          | 0/100 [00:00<?, ?it/s]"
      ]
     },
     "metadata": {},
     "output_type": "display_data"
    },
    {
     "name": "stdout",
     "output_type": "stream",
     "text": [
      "Processing batch 265/1554\n"
     ]
    },
    {
     "data": {
      "application/vnd.jupyter.widget-view+json": {
       "model_id": "fd9dfcb94ea644639fed6ba18b591532",
       "version_major": 2,
       "version_minor": 0
      },
      "text/plain": [
       "Resizing images (rxrx3):   0%|          | 0/100 [00:00<?, ?it/s]"
      ]
     },
     "metadata": {},
     "output_type": "display_data"
    },
    {
     "name": "stdout",
     "output_type": "stream",
     "text": [
      "Processing batch 266/1554\n"
     ]
    },
    {
     "data": {
      "application/vnd.jupyter.widget-view+json": {
       "model_id": "89f4fd4a29e0494bbad3db738e658d5f",
       "version_major": 2,
       "version_minor": 0
      },
      "text/plain": [
       "Resizing images (rxrx3):   0%|          | 0/100 [00:00<?, ?it/s]"
      ]
     },
     "metadata": {},
     "output_type": "display_data"
    },
    {
     "name": "stdout",
     "output_type": "stream",
     "text": [
      "Processing batch 267/1554\n"
     ]
    },
    {
     "data": {
      "application/vnd.jupyter.widget-view+json": {
       "model_id": "195ccc675cd24acd8e9bb6cfce0d689e",
       "version_major": 2,
       "version_minor": 0
      },
      "text/plain": [
       "Resizing images (rxrx3):   0%|          | 0/100 [00:00<?, ?it/s]"
      ]
     },
     "metadata": {},
     "output_type": "display_data"
    },
    {
     "name": "stdout",
     "output_type": "stream",
     "text": [
      "Processing batch 268/1554\n"
     ]
    },
    {
     "data": {
      "application/vnd.jupyter.widget-view+json": {
       "model_id": "967b35990d0f4431b3c9c045b632251f",
       "version_major": 2,
       "version_minor": 0
      },
      "text/plain": [
       "Resizing images (rxrx3):   0%|          | 0/100 [00:00<?, ?it/s]"
      ]
     },
     "metadata": {},
     "output_type": "display_data"
    },
    {
     "name": "stdout",
     "output_type": "stream",
     "text": [
      "Processing batch 269/1554\n"
     ]
    },
    {
     "data": {
      "application/vnd.jupyter.widget-view+json": {
       "model_id": "f3dc70bc2a5343df9c01e7fedc92695d",
       "version_major": 2,
       "version_minor": 0
      },
      "text/plain": [
       "Resizing images (rxrx3):   0%|          | 0/100 [00:00<?, ?it/s]"
      ]
     },
     "metadata": {},
     "output_type": "display_data"
    },
    {
     "name": "stdout",
     "output_type": "stream",
     "text": [
      "Processing batch 270/1554\n"
     ]
    },
    {
     "data": {
      "application/vnd.jupyter.widget-view+json": {
       "model_id": "b2a480ed8c2e418bbdd538873f4ac24e",
       "version_major": 2,
       "version_minor": 0
      },
      "text/plain": [
       "Resizing images (rxrx3):   0%|          | 0/100 [00:00<?, ?it/s]"
      ]
     },
     "metadata": {},
     "output_type": "display_data"
    },
    {
     "name": "stdout",
     "output_type": "stream",
     "text": [
      "Processing batch 271/1554\n"
     ]
    },
    {
     "data": {
      "application/vnd.jupyter.widget-view+json": {
       "model_id": "67a7ca2cba594cc3b8e8ad6e3a149d5c",
       "version_major": 2,
       "version_minor": 0
      },
      "text/plain": [
       "Resizing images (rxrx3):   0%|          | 0/100 [00:00<?, ?it/s]"
      ]
     },
     "metadata": {},
     "output_type": "display_data"
    },
    {
     "name": "stdout",
     "output_type": "stream",
     "text": [
      "Processing batch 272/1554\n"
     ]
    },
    {
     "data": {
      "application/vnd.jupyter.widget-view+json": {
       "model_id": "613d03bdbae745f28dc23670341c1251",
       "version_major": 2,
       "version_minor": 0
      },
      "text/plain": [
       "Resizing images (rxrx3):   0%|          | 0/100 [00:00<?, ?it/s]"
      ]
     },
     "metadata": {},
     "output_type": "display_data"
    },
    {
     "name": "stdout",
     "output_type": "stream",
     "text": [
      "Processing batch 273/1554\n"
     ]
    },
    {
     "data": {
      "application/vnd.jupyter.widget-view+json": {
       "model_id": "e470f614ef3940a197eecbc5a879fc70",
       "version_major": 2,
       "version_minor": 0
      },
      "text/plain": [
       "Resizing images (rxrx3):   0%|          | 0/100 [00:00<?, ?it/s]"
      ]
     },
     "metadata": {},
     "output_type": "display_data"
    },
    {
     "name": "stdout",
     "output_type": "stream",
     "text": [
      "Processing batch 274/1554\n"
     ]
    },
    {
     "data": {
      "application/vnd.jupyter.widget-view+json": {
       "model_id": "33a8d9b748ee4495b704307a57ec2e7d",
       "version_major": 2,
       "version_minor": 0
      },
      "text/plain": [
       "Resizing images (rxrx3):   0%|          | 0/100 [00:00<?, ?it/s]"
      ]
     },
     "metadata": {},
     "output_type": "display_data"
    },
    {
     "name": "stdout",
     "output_type": "stream",
     "text": [
      "Processing batch 275/1554\n"
     ]
    },
    {
     "data": {
      "application/vnd.jupyter.widget-view+json": {
       "model_id": "6de6d5db0da54620812d89f22c1e5a7b",
       "version_major": 2,
       "version_minor": 0
      },
      "text/plain": [
       "Resizing images (rxrx3):   0%|          | 0/100 [00:00<?, ?it/s]"
      ]
     },
     "metadata": {},
     "output_type": "display_data"
    },
    {
     "name": "stdout",
     "output_type": "stream",
     "text": [
      "Processing batch 276/1554\n"
     ]
    },
    {
     "data": {
      "application/vnd.jupyter.widget-view+json": {
       "model_id": "a79abb76596946c698e35ed6a8586929",
       "version_major": 2,
       "version_minor": 0
      },
      "text/plain": [
       "Resizing images (rxrx3):   0%|          | 0/100 [00:00<?, ?it/s]"
      ]
     },
     "metadata": {},
     "output_type": "display_data"
    },
    {
     "name": "stdout",
     "output_type": "stream",
     "text": [
      "Processing batch 277/1554\n"
     ]
    },
    {
     "data": {
      "application/vnd.jupyter.widget-view+json": {
       "model_id": "8dda16e018b647ada3dddb297769a4fc",
       "version_major": 2,
       "version_minor": 0
      },
      "text/plain": [
       "Resizing images (rxrx3):   0%|          | 0/100 [00:00<?, ?it/s]"
      ]
     },
     "metadata": {},
     "output_type": "display_data"
    },
    {
     "name": "stdout",
     "output_type": "stream",
     "text": [
      "Processing batch 278/1554\n"
     ]
    },
    {
     "data": {
      "application/vnd.jupyter.widget-view+json": {
       "model_id": "4b04a76112d946ae886a6d3fe078cfa2",
       "version_major": 2,
       "version_minor": 0
      },
      "text/plain": [
       "Resizing images (rxrx3):   0%|          | 0/100 [00:00<?, ?it/s]"
      ]
     },
     "metadata": {},
     "output_type": "display_data"
    },
    {
     "name": "stdout",
     "output_type": "stream",
     "text": [
      "Processing batch 279/1554\n"
     ]
    },
    {
     "data": {
      "application/vnd.jupyter.widget-view+json": {
       "model_id": "868bc3eb8a7b40a7acc1d86072fecdeb",
       "version_major": 2,
       "version_minor": 0
      },
      "text/plain": [
       "Resizing images (rxrx3):   0%|          | 0/100 [00:00<?, ?it/s]"
      ]
     },
     "metadata": {},
     "output_type": "display_data"
    },
    {
     "name": "stdout",
     "output_type": "stream",
     "text": [
      "Processing batch 280/1554\n"
     ]
    },
    {
     "data": {
      "application/vnd.jupyter.widget-view+json": {
       "model_id": "6190daa172f646a78adefedebe7d8f91",
       "version_major": 2,
       "version_minor": 0
      },
      "text/plain": [
       "Resizing images (rxrx3):   0%|          | 0/100 [00:00<?, ?it/s]"
      ]
     },
     "metadata": {},
     "output_type": "display_data"
    },
    {
     "name": "stdout",
     "output_type": "stream",
     "text": [
      "Processing batch 281/1554\n"
     ]
    },
    {
     "data": {
      "application/vnd.jupyter.widget-view+json": {
       "model_id": "1059e932eed74b1caf554742dc90e69d",
       "version_major": 2,
       "version_minor": 0
      },
      "text/plain": [
       "Resizing images (rxrx3):   0%|          | 0/100 [00:00<?, ?it/s]"
      ]
     },
     "metadata": {},
     "output_type": "display_data"
    },
    {
     "name": "stdout",
     "output_type": "stream",
     "text": [
      "Processing batch 282/1554\n"
     ]
    },
    {
     "data": {
      "application/vnd.jupyter.widget-view+json": {
       "model_id": "45c643b93ff54afbbd0e6af5e114c944",
       "version_major": 2,
       "version_minor": 0
      },
      "text/plain": [
       "Resizing images (rxrx3):   0%|          | 0/100 [00:00<?, ?it/s]"
      ]
     },
     "metadata": {},
     "output_type": "display_data"
    },
    {
     "name": "stdout",
     "output_type": "stream",
     "text": [
      "Processing batch 283/1554\n"
     ]
    },
    {
     "data": {
      "application/vnd.jupyter.widget-view+json": {
       "model_id": "489095e6b0f443c7bb3bb1adf671655d",
       "version_major": 2,
       "version_minor": 0
      },
      "text/plain": [
       "Resizing images (rxrx3):   0%|          | 0/100 [00:00<?, ?it/s]"
      ]
     },
     "metadata": {},
     "output_type": "display_data"
    },
    {
     "name": "stdout",
     "output_type": "stream",
     "text": [
      "Processing batch 284/1554\n"
     ]
    },
    {
     "data": {
      "application/vnd.jupyter.widget-view+json": {
       "model_id": "bc7b766d901a46148079307c1bf927be",
       "version_major": 2,
       "version_minor": 0
      },
      "text/plain": [
       "Resizing images (rxrx3):   0%|          | 0/100 [00:00<?, ?it/s]"
      ]
     },
     "metadata": {},
     "output_type": "display_data"
    },
    {
     "name": "stdout",
     "output_type": "stream",
     "text": [
      "Processing batch 285/1554\n"
     ]
    },
    {
     "data": {
      "application/vnd.jupyter.widget-view+json": {
       "model_id": "3315cf37520f4fbf80d4922da85b4f82",
       "version_major": 2,
       "version_minor": 0
      },
      "text/plain": [
       "Resizing images (rxrx3):   0%|          | 0/100 [00:00<?, ?it/s]"
      ]
     },
     "metadata": {},
     "output_type": "display_data"
    },
    {
     "name": "stdout",
     "output_type": "stream",
     "text": [
      "Processing batch 286/1554\n"
     ]
    },
    {
     "data": {
      "application/vnd.jupyter.widget-view+json": {
       "model_id": "9639ae4b182d4c7fa81772db01f3d234",
       "version_major": 2,
       "version_minor": 0
      },
      "text/plain": [
       "Resizing images (rxrx3):   0%|          | 0/100 [00:00<?, ?it/s]"
      ]
     },
     "metadata": {},
     "output_type": "display_data"
    },
    {
     "name": "stdout",
     "output_type": "stream",
     "text": [
      "Processing batch 287/1554\n"
     ]
    },
    {
     "data": {
      "application/vnd.jupyter.widget-view+json": {
       "model_id": "fdef31638c0742ed9215482240137de1",
       "version_major": 2,
       "version_minor": 0
      },
      "text/plain": [
       "Resizing images (rxrx3):   0%|          | 0/100 [00:00<?, ?it/s]"
      ]
     },
     "metadata": {},
     "output_type": "display_data"
    },
    {
     "name": "stdout",
     "output_type": "stream",
     "text": [
      "Processing batch 288/1554\n"
     ]
    },
    {
     "data": {
      "application/vnd.jupyter.widget-view+json": {
       "model_id": "63245168498b421cb8191c327ee2b5fd",
       "version_major": 2,
       "version_minor": 0
      },
      "text/plain": [
       "Resizing images (rxrx3):   0%|          | 0/100 [00:00<?, ?it/s]"
      ]
     },
     "metadata": {},
     "output_type": "display_data"
    },
    {
     "name": "stdout",
     "output_type": "stream",
     "text": [
      "Processing batch 289/1554\n"
     ]
    },
    {
     "data": {
      "application/vnd.jupyter.widget-view+json": {
       "model_id": "8169cc29e6ef4e21bf5ea7fddd960c63",
       "version_major": 2,
       "version_minor": 0
      },
      "text/plain": [
       "Resizing images (rxrx3):   0%|          | 0/100 [00:00<?, ?it/s]"
      ]
     },
     "metadata": {},
     "output_type": "display_data"
    },
    {
     "name": "stdout",
     "output_type": "stream",
     "text": [
      "Processing batch 290/1554\n"
     ]
    },
    {
     "data": {
      "application/vnd.jupyter.widget-view+json": {
       "model_id": "a8989628078f423e9acdf3ebf419e098",
       "version_major": 2,
       "version_minor": 0
      },
      "text/plain": [
       "Resizing images (rxrx3):   0%|          | 0/100 [00:00<?, ?it/s]"
      ]
     },
     "metadata": {},
     "output_type": "display_data"
    },
    {
     "name": "stdout",
     "output_type": "stream",
     "text": [
      "Processing batch 291/1554\n"
     ]
    },
    {
     "data": {
      "application/vnd.jupyter.widget-view+json": {
       "model_id": "72a1f8c7651c4b8f9f2b29d200596892",
       "version_major": 2,
       "version_minor": 0
      },
      "text/plain": [
       "Resizing images (rxrx3):   0%|          | 0/100 [00:00<?, ?it/s]"
      ]
     },
     "metadata": {},
     "output_type": "display_data"
    },
    {
     "name": "stdout",
     "output_type": "stream",
     "text": [
      "Processing batch 292/1554\n"
     ]
    },
    {
     "data": {
      "application/vnd.jupyter.widget-view+json": {
       "model_id": "d50219558c0e453cb9a4fa86647fd942",
       "version_major": 2,
       "version_minor": 0
      },
      "text/plain": [
       "Resizing images (rxrx3):   0%|          | 0/100 [00:00<?, ?it/s]"
      ]
     },
     "metadata": {},
     "output_type": "display_data"
    },
    {
     "name": "stdout",
     "output_type": "stream",
     "text": [
      "Processing batch 293/1554\n"
     ]
    },
    {
     "data": {
      "application/vnd.jupyter.widget-view+json": {
       "model_id": "b5d091cc25eb4d1e9bc743d6894467c0",
       "version_major": 2,
       "version_minor": 0
      },
      "text/plain": [
       "Resizing images (rxrx3):   0%|          | 0/100 [00:00<?, ?it/s]"
      ]
     },
     "metadata": {},
     "output_type": "display_data"
    },
    {
     "name": "stdout",
     "output_type": "stream",
     "text": [
      "Processing batch 294/1554\n"
     ]
    },
    {
     "data": {
      "application/vnd.jupyter.widget-view+json": {
       "model_id": "cd850e20e0c1467bb5ecc8d54643edde",
       "version_major": 2,
       "version_minor": 0
      },
      "text/plain": [
       "Resizing images (rxrx3):   0%|          | 0/100 [00:00<?, ?it/s]"
      ]
     },
     "metadata": {},
     "output_type": "display_data"
    },
    {
     "name": "stdout",
     "output_type": "stream",
     "text": [
      "Processing batch 295/1554\n"
     ]
    },
    {
     "data": {
      "application/vnd.jupyter.widget-view+json": {
       "model_id": "9d05a64c22094f249a8faac388024d0a",
       "version_major": 2,
       "version_minor": 0
      },
      "text/plain": [
       "Resizing images (rxrx3):   0%|          | 0/100 [00:00<?, ?it/s]"
      ]
     },
     "metadata": {},
     "output_type": "display_data"
    },
    {
     "name": "stdout",
     "output_type": "stream",
     "text": [
      "Processing batch 296/1554\n"
     ]
    },
    {
     "data": {
      "application/vnd.jupyter.widget-view+json": {
       "model_id": "6eb97fa319464c868f4ad2db1c13832b",
       "version_major": 2,
       "version_minor": 0
      },
      "text/plain": [
       "Resizing images (rxrx3):   0%|          | 0/100 [00:00<?, ?it/s]"
      ]
     },
     "metadata": {},
     "output_type": "display_data"
    },
    {
     "name": "stdout",
     "output_type": "stream",
     "text": [
      "Processing batch 297/1554\n"
     ]
    },
    {
     "data": {
      "application/vnd.jupyter.widget-view+json": {
       "model_id": "224b6202c0554cd89e058cc4c8cdc3ac",
       "version_major": 2,
       "version_minor": 0
      },
      "text/plain": [
       "Resizing images (rxrx3):   0%|          | 0/100 [00:00<?, ?it/s]"
      ]
     },
     "metadata": {},
     "output_type": "display_data"
    },
    {
     "name": "stdout",
     "output_type": "stream",
     "text": [
      "Processing batch 298/1554\n"
     ]
    },
    {
     "data": {
      "application/vnd.jupyter.widget-view+json": {
       "model_id": "8da271f8e84a4feba25c7fb692cc53b1",
       "version_major": 2,
       "version_minor": 0
      },
      "text/plain": [
       "Resizing images (rxrx3):   0%|          | 0/100 [00:00<?, ?it/s]"
      ]
     },
     "metadata": {},
     "output_type": "display_data"
    },
    {
     "name": "stdout",
     "output_type": "stream",
     "text": [
      "Processing batch 299/1554\n"
     ]
    },
    {
     "data": {
      "application/vnd.jupyter.widget-view+json": {
       "model_id": "de932ea54d24464da413365d86a3fe40",
       "version_major": 2,
       "version_minor": 0
      },
      "text/plain": [
       "Resizing images (rxrx3):   0%|          | 0/100 [00:00<?, ?it/s]"
      ]
     },
     "metadata": {},
     "output_type": "display_data"
    },
    {
     "name": "stdout",
     "output_type": "stream",
     "text": [
      "Processing batch 300/1554\n"
     ]
    },
    {
     "data": {
      "application/vnd.jupyter.widget-view+json": {
       "model_id": "d71e745c74844d9c9bd1efb2c22772e4",
       "version_major": 2,
       "version_minor": 0
      },
      "text/plain": [
       "Resizing images (rxrx3):   0%|          | 0/100 [00:00<?, ?it/s]"
      ]
     },
     "metadata": {},
     "output_type": "display_data"
    },
    {
     "name": "stdout",
     "output_type": "stream",
     "text": [
      "Processing batch 301/1554\n"
     ]
    },
    {
     "data": {
      "application/vnd.jupyter.widget-view+json": {
       "model_id": "215ecb7fb49548ef918e248d16c0ec6a",
       "version_major": 2,
       "version_minor": 0
      },
      "text/plain": [
       "Resizing images (rxrx3):   0%|          | 0/100 [00:00<?, ?it/s]"
      ]
     },
     "metadata": {},
     "output_type": "display_data"
    },
    {
     "name": "stdout",
     "output_type": "stream",
     "text": [
      "Processing batch 302/1554\n"
     ]
    },
    {
     "data": {
      "application/vnd.jupyter.widget-view+json": {
       "model_id": "1b275872f9ef4e71a13ed6e3f1c24c0a",
       "version_major": 2,
       "version_minor": 0
      },
      "text/plain": [
       "Resizing images (rxrx3):   0%|          | 0/100 [00:00<?, ?it/s]"
      ]
     },
     "metadata": {},
     "output_type": "display_data"
    },
    {
     "name": "stdout",
     "output_type": "stream",
     "text": [
      "Processing batch 303/1554\n"
     ]
    },
    {
     "data": {
      "application/vnd.jupyter.widget-view+json": {
       "model_id": "dc922ca9173041658c0ab48a93e23756",
       "version_major": 2,
       "version_minor": 0
      },
      "text/plain": [
       "Resizing images (rxrx3):   0%|          | 0/100 [00:00<?, ?it/s]"
      ]
     },
     "metadata": {},
     "output_type": "display_data"
    },
    {
     "name": "stdout",
     "output_type": "stream",
     "text": [
      "Processing batch 304/1554\n"
     ]
    },
    {
     "data": {
      "application/vnd.jupyter.widget-view+json": {
       "model_id": "f24636372ec94505b6fa2c4daf22b074",
       "version_major": 2,
       "version_minor": 0
      },
      "text/plain": [
       "Resizing images (rxrx3):   0%|          | 0/100 [00:00<?, ?it/s]"
      ]
     },
     "metadata": {},
     "output_type": "display_data"
    },
    {
     "name": "stdout",
     "output_type": "stream",
     "text": [
      "Processing batch 305/1554\n"
     ]
    },
    {
     "data": {
      "application/vnd.jupyter.widget-view+json": {
       "model_id": "8e7ed0dde6c748158867b37ff39bb22f",
       "version_major": 2,
       "version_minor": 0
      },
      "text/plain": [
       "Resizing images (rxrx3):   0%|          | 0/100 [00:00<?, ?it/s]"
      ]
     },
     "metadata": {},
     "output_type": "display_data"
    },
    {
     "name": "stdout",
     "output_type": "stream",
     "text": [
      "Processing batch 306/1554\n"
     ]
    },
    {
     "data": {
      "application/vnd.jupyter.widget-view+json": {
       "model_id": "506168e0ef394bea826e29b43a827960",
       "version_major": 2,
       "version_minor": 0
      },
      "text/plain": [
       "Resizing images (rxrx3):   0%|          | 0/100 [00:00<?, ?it/s]"
      ]
     },
     "metadata": {},
     "output_type": "display_data"
    },
    {
     "name": "stdout",
     "output_type": "stream",
     "text": [
      "Processing batch 307/1554\n"
     ]
    },
    {
     "data": {
      "application/vnd.jupyter.widget-view+json": {
       "model_id": "bf3cf25f49e8419d9dc4b96bb9b7b03b",
       "version_major": 2,
       "version_minor": 0
      },
      "text/plain": [
       "Resizing images (rxrx3):   0%|          | 0/100 [00:00<?, ?it/s]"
      ]
     },
     "metadata": {},
     "output_type": "display_data"
    },
    {
     "name": "stdout",
     "output_type": "stream",
     "text": [
      "Processing batch 308/1554\n"
     ]
    },
    {
     "data": {
      "application/vnd.jupyter.widget-view+json": {
       "model_id": "28723b4079584a40af04ea3b592cfe67",
       "version_major": 2,
       "version_minor": 0
      },
      "text/plain": [
       "Resizing images (rxrx3):   0%|          | 0/100 [00:00<?, ?it/s]"
      ]
     },
     "metadata": {},
     "output_type": "display_data"
    },
    {
     "name": "stdout",
     "output_type": "stream",
     "text": [
      "Processing batch 309/1554\n"
     ]
    },
    {
     "data": {
      "application/vnd.jupyter.widget-view+json": {
       "model_id": "c62770f1673c499bb49d1eab98664cc1",
       "version_major": 2,
       "version_minor": 0
      },
      "text/plain": [
       "Resizing images (rxrx3):   0%|          | 0/100 [00:00<?, ?it/s]"
      ]
     },
     "metadata": {},
     "output_type": "display_data"
    },
    {
     "name": "stdout",
     "output_type": "stream",
     "text": [
      "Processing batch 310/1554\n"
     ]
    },
    {
     "data": {
      "application/vnd.jupyter.widget-view+json": {
       "model_id": "5d596cc4efd74e89bfaa989ea19c2a69",
       "version_major": 2,
       "version_minor": 0
      },
      "text/plain": [
       "Resizing images (rxrx3):   0%|          | 0/100 [00:00<?, ?it/s]"
      ]
     },
     "metadata": {},
     "output_type": "display_data"
    },
    {
     "name": "stdout",
     "output_type": "stream",
     "text": [
      "Processing batch 311/1554\n"
     ]
    },
    {
     "data": {
      "application/vnd.jupyter.widget-view+json": {
       "model_id": "47d6a21363594aba93b05381cbde778a",
       "version_major": 2,
       "version_minor": 0
      },
      "text/plain": [
       "Resizing images (rxrx3):   0%|          | 0/100 [00:00<?, ?it/s]"
      ]
     },
     "metadata": {},
     "output_type": "display_data"
    },
    {
     "name": "stdout",
     "output_type": "stream",
     "text": [
      "Processing batch 312/1554\n"
     ]
    },
    {
     "data": {
      "application/vnd.jupyter.widget-view+json": {
       "model_id": "0cda82c05dde49ff9a6fdbadf09a0c5a",
       "version_major": 2,
       "version_minor": 0
      },
      "text/plain": [
       "Resizing images (rxrx3):   0%|          | 0/100 [00:00<?, ?it/s]"
      ]
     },
     "metadata": {},
     "output_type": "display_data"
    },
    {
     "name": "stdout",
     "output_type": "stream",
     "text": [
      "Processing batch 313/1554\n"
     ]
    },
    {
     "data": {
      "application/vnd.jupyter.widget-view+json": {
       "model_id": "75ea5cf90a1647c286128b9d72abac94",
       "version_major": 2,
       "version_minor": 0
      },
      "text/plain": [
       "Resizing images (rxrx3):   0%|          | 0/100 [00:00<?, ?it/s]"
      ]
     },
     "metadata": {},
     "output_type": "display_data"
    },
    {
     "name": "stdout",
     "output_type": "stream",
     "text": [
      "Processing batch 314/1554\n"
     ]
    },
    {
     "data": {
      "application/vnd.jupyter.widget-view+json": {
       "model_id": "2d88761060e94fdeb768c646acd7b755",
       "version_major": 2,
       "version_minor": 0
      },
      "text/plain": [
       "Resizing images (rxrx3):   0%|          | 0/100 [00:00<?, ?it/s]"
      ]
     },
     "metadata": {},
     "output_type": "display_data"
    },
    {
     "name": "stdout",
     "output_type": "stream",
     "text": [
      "Processing batch 315/1554\n"
     ]
    },
    {
     "data": {
      "application/vnd.jupyter.widget-view+json": {
       "model_id": "6babe659667d4fa6a907cae1859dbc42",
       "version_major": 2,
       "version_minor": 0
      },
      "text/plain": [
       "Resizing images (rxrx3):   0%|          | 0/100 [00:00<?, ?it/s]"
      ]
     },
     "metadata": {},
     "output_type": "display_data"
    },
    {
     "name": "stdout",
     "output_type": "stream",
     "text": [
      "Processing batch 316/1554\n"
     ]
    },
    {
     "data": {
      "application/vnd.jupyter.widget-view+json": {
       "model_id": "500dcc702727491fa75c4d8228c2855e",
       "version_major": 2,
       "version_minor": 0
      },
      "text/plain": [
       "Resizing images (rxrx3):   0%|          | 0/100 [00:00<?, ?it/s]"
      ]
     },
     "metadata": {},
     "output_type": "display_data"
    },
    {
     "name": "stdout",
     "output_type": "stream",
     "text": [
      "Processing batch 317/1554\n"
     ]
    },
    {
     "data": {
      "application/vnd.jupyter.widget-view+json": {
       "model_id": "100aa047397142c09a765a43f84a8fb8",
       "version_major": 2,
       "version_minor": 0
      },
      "text/plain": [
       "Resizing images (rxrx3):   0%|          | 0/100 [00:00<?, ?it/s]"
      ]
     },
     "metadata": {},
     "output_type": "display_data"
    },
    {
     "name": "stdout",
     "output_type": "stream",
     "text": [
      "Processing batch 318/1554\n"
     ]
    },
    {
     "data": {
      "application/vnd.jupyter.widget-view+json": {
       "model_id": "de174e3737d34908a6625dddf8d5b7f9",
       "version_major": 2,
       "version_minor": 0
      },
      "text/plain": [
       "Resizing images (rxrx3):   0%|          | 0/100 [00:00<?, ?it/s]"
      ]
     },
     "metadata": {},
     "output_type": "display_data"
    },
    {
     "name": "stdout",
     "output_type": "stream",
     "text": [
      "Processing batch 319/1554\n"
     ]
    },
    {
     "data": {
      "application/vnd.jupyter.widget-view+json": {
       "model_id": "e9f951765a4d42688a7a484857f364b0",
       "version_major": 2,
       "version_minor": 0
      },
      "text/plain": [
       "Resizing images (rxrx3):   0%|          | 0/100 [00:00<?, ?it/s]"
      ]
     },
     "metadata": {},
     "output_type": "display_data"
    },
    {
     "name": "stdout",
     "output_type": "stream",
     "text": [
      "Processing batch 320/1554\n"
     ]
    },
    {
     "data": {
      "application/vnd.jupyter.widget-view+json": {
       "model_id": "283b71dae2f04234aaed1f7e3b122fb5",
       "version_major": 2,
       "version_minor": 0
      },
      "text/plain": [
       "Resizing images (rxrx3):   0%|          | 0/100 [00:00<?, ?it/s]"
      ]
     },
     "metadata": {},
     "output_type": "display_data"
    },
    {
     "name": "stdout",
     "output_type": "stream",
     "text": [
      "Processing batch 321/1554\n"
     ]
    },
    {
     "data": {
      "application/vnd.jupyter.widget-view+json": {
       "model_id": "307b3f2256ab4f138410b42ec32b2792",
       "version_major": 2,
       "version_minor": 0
      },
      "text/plain": [
       "Resizing images (rxrx3):   0%|          | 0/100 [00:00<?, ?it/s]"
      ]
     },
     "metadata": {},
     "output_type": "display_data"
    },
    {
     "name": "stdout",
     "output_type": "stream",
     "text": [
      "Processing batch 322/1554\n"
     ]
    },
    {
     "data": {
      "application/vnd.jupyter.widget-view+json": {
       "model_id": "f06e3648be944077aa103a794693d52d",
       "version_major": 2,
       "version_minor": 0
      },
      "text/plain": [
       "Resizing images (rxrx3):   0%|          | 0/100 [00:00<?, ?it/s]"
      ]
     },
     "metadata": {},
     "output_type": "display_data"
    },
    {
     "name": "stdout",
     "output_type": "stream",
     "text": [
      "Processing batch 323/1554\n"
     ]
    },
    {
     "data": {
      "application/vnd.jupyter.widget-view+json": {
       "model_id": "ec60d5a0c11748f2baf8f90f79644e18",
       "version_major": 2,
       "version_minor": 0
      },
      "text/plain": [
       "Resizing images (rxrx3):   0%|          | 0/100 [00:00<?, ?it/s]"
      ]
     },
     "metadata": {},
     "output_type": "display_data"
    },
    {
     "name": "stdout",
     "output_type": "stream",
     "text": [
      "Processing batch 324/1554\n"
     ]
    },
    {
     "data": {
      "application/vnd.jupyter.widget-view+json": {
       "model_id": "0ec060fccede466eac9aec42cb8f09d4",
       "version_major": 2,
       "version_minor": 0
      },
      "text/plain": [
       "Resizing images (rxrx3):   0%|          | 0/100 [00:00<?, ?it/s]"
      ]
     },
     "metadata": {},
     "output_type": "display_data"
    },
    {
     "name": "stdout",
     "output_type": "stream",
     "text": [
      "Processing batch 325/1554\n"
     ]
    },
    {
     "data": {
      "application/vnd.jupyter.widget-view+json": {
       "model_id": "abc2c0e9055640458aa86164ba654234",
       "version_major": 2,
       "version_minor": 0
      },
      "text/plain": [
       "Resizing images (rxrx3):   0%|          | 0/100 [00:00<?, ?it/s]"
      ]
     },
     "metadata": {},
     "output_type": "display_data"
    },
    {
     "name": "stdout",
     "output_type": "stream",
     "text": [
      "Processing batch 326/1554\n"
     ]
    },
    {
     "data": {
      "application/vnd.jupyter.widget-view+json": {
       "model_id": "f4db929d68a94b729d91154e1ab554e1",
       "version_major": 2,
       "version_minor": 0
      },
      "text/plain": [
       "Resizing images (rxrx3):   0%|          | 0/100 [00:00<?, ?it/s]"
      ]
     },
     "metadata": {},
     "output_type": "display_data"
    },
    {
     "name": "stdout",
     "output_type": "stream",
     "text": [
      "Processing batch 327/1554\n"
     ]
    },
    {
     "data": {
      "application/vnd.jupyter.widget-view+json": {
       "model_id": "750265cf36fe4e90bf152b3193ef1ef3",
       "version_major": 2,
       "version_minor": 0
      },
      "text/plain": [
       "Resizing images (rxrx3):   0%|          | 0/100 [00:00<?, ?it/s]"
      ]
     },
     "metadata": {},
     "output_type": "display_data"
    },
    {
     "name": "stdout",
     "output_type": "stream",
     "text": [
      "Processing batch 328/1554\n"
     ]
    },
    {
     "data": {
      "application/vnd.jupyter.widget-view+json": {
       "model_id": "9815e44e4dca4a5e856312d083088028",
       "version_major": 2,
       "version_minor": 0
      },
      "text/plain": [
       "Resizing images (rxrx3):   0%|          | 0/100 [00:00<?, ?it/s]"
      ]
     },
     "metadata": {},
     "output_type": "display_data"
    },
    {
     "name": "stdout",
     "output_type": "stream",
     "text": [
      "Processing batch 329/1554\n"
     ]
    },
    {
     "data": {
      "application/vnd.jupyter.widget-view+json": {
       "model_id": "ca057f5128414db582b62b8be09fcce6",
       "version_major": 2,
       "version_minor": 0
      },
      "text/plain": [
       "Resizing images (rxrx3):   0%|          | 0/100 [00:00<?, ?it/s]"
      ]
     },
     "metadata": {},
     "output_type": "display_data"
    },
    {
     "name": "stdout",
     "output_type": "stream",
     "text": [
      "Processing batch 330/1554\n"
     ]
    },
    {
     "data": {
      "application/vnd.jupyter.widget-view+json": {
       "model_id": "ef2d6fd2c96844928aa67d0a64c17baf",
       "version_major": 2,
       "version_minor": 0
      },
      "text/plain": [
       "Resizing images (rxrx3):   0%|          | 0/100 [00:00<?, ?it/s]"
      ]
     },
     "metadata": {},
     "output_type": "display_data"
    },
    {
     "name": "stdout",
     "output_type": "stream",
     "text": [
      "Processing batch 331/1554\n"
     ]
    },
    {
     "data": {
      "application/vnd.jupyter.widget-view+json": {
       "model_id": "f729199fa61e494c97804cbf705bc9c5",
       "version_major": 2,
       "version_minor": 0
      },
      "text/plain": [
       "Resizing images (rxrx3):   0%|          | 0/100 [00:00<?, ?it/s]"
      ]
     },
     "metadata": {},
     "output_type": "display_data"
    },
    {
     "name": "stdout",
     "output_type": "stream",
     "text": [
      "Processing batch 332/1554\n"
     ]
    },
    {
     "data": {
      "application/vnd.jupyter.widget-view+json": {
       "model_id": "999df1a247394a619afbaea9acc83a5d",
       "version_major": 2,
       "version_minor": 0
      },
      "text/plain": [
       "Resizing images (rxrx3):   0%|          | 0/100 [00:00<?, ?it/s]"
      ]
     },
     "metadata": {},
     "output_type": "display_data"
    },
    {
     "name": "stdout",
     "output_type": "stream",
     "text": [
      "Processing batch 333/1554\n"
     ]
    },
    {
     "data": {
      "application/vnd.jupyter.widget-view+json": {
       "model_id": "a3ba8bf5869f4cf1963968e321d77ff5",
       "version_major": 2,
       "version_minor": 0
      },
      "text/plain": [
       "Resizing images (rxrx3):   0%|          | 0/100 [00:00<?, ?it/s]"
      ]
     },
     "metadata": {},
     "output_type": "display_data"
    },
    {
     "name": "stdout",
     "output_type": "stream",
     "text": [
      "Processing batch 334/1554\n"
     ]
    },
    {
     "data": {
      "application/vnd.jupyter.widget-view+json": {
       "model_id": "c634a14b9a494cbe84123276b9e60dde",
       "version_major": 2,
       "version_minor": 0
      },
      "text/plain": [
       "Resizing images (rxrx3):   0%|          | 0/100 [00:00<?, ?it/s]"
      ]
     },
     "metadata": {},
     "output_type": "display_data"
    },
    {
     "name": "stdout",
     "output_type": "stream",
     "text": [
      "Processing batch 335/1554\n"
     ]
    },
    {
     "data": {
      "application/vnd.jupyter.widget-view+json": {
       "model_id": "a7e72a4c28ce4d1783434092a9372c69",
       "version_major": 2,
       "version_minor": 0
      },
      "text/plain": [
       "Resizing images (rxrx3):   0%|          | 0/100 [00:00<?, ?it/s]"
      ]
     },
     "metadata": {},
     "output_type": "display_data"
    },
    {
     "name": "stdout",
     "output_type": "stream",
     "text": [
      "Processing batch 336/1554\n"
     ]
    },
    {
     "data": {
      "application/vnd.jupyter.widget-view+json": {
       "model_id": "0401639719194fabbae414ea499f905e",
       "version_major": 2,
       "version_minor": 0
      },
      "text/plain": [
       "Resizing images (rxrx3):   0%|          | 0/100 [00:00<?, ?it/s]"
      ]
     },
     "metadata": {},
     "output_type": "display_data"
    },
    {
     "name": "stdout",
     "output_type": "stream",
     "text": [
      "Processing batch 337/1554\n"
     ]
    },
    {
     "data": {
      "application/vnd.jupyter.widget-view+json": {
       "model_id": "1992724c206b40d28e71450422f26608",
       "version_major": 2,
       "version_minor": 0
      },
      "text/plain": [
       "Resizing images (rxrx3):   0%|          | 0/100 [00:00<?, ?it/s]"
      ]
     },
     "metadata": {},
     "output_type": "display_data"
    },
    {
     "name": "stdout",
     "output_type": "stream",
     "text": [
      "Processing batch 338/1554\n"
     ]
    },
    {
     "data": {
      "application/vnd.jupyter.widget-view+json": {
       "model_id": "338a33db79f64d81b5496f32bc0ab39f",
       "version_major": 2,
       "version_minor": 0
      },
      "text/plain": [
       "Resizing images (rxrx3):   0%|          | 0/100 [00:00<?, ?it/s]"
      ]
     },
     "metadata": {},
     "output_type": "display_data"
    },
    {
     "name": "stdout",
     "output_type": "stream",
     "text": [
      "Processing batch 339/1554\n"
     ]
    },
    {
     "data": {
      "application/vnd.jupyter.widget-view+json": {
       "model_id": "2b5c80ecf549415f923a80920b8e876b",
       "version_major": 2,
       "version_minor": 0
      },
      "text/plain": [
       "Resizing images (rxrx3):   0%|          | 0/100 [00:00<?, ?it/s]"
      ]
     },
     "metadata": {},
     "output_type": "display_data"
    },
    {
     "name": "stdout",
     "output_type": "stream",
     "text": [
      "Processing batch 340/1554\n"
     ]
    },
    {
     "data": {
      "application/vnd.jupyter.widget-view+json": {
       "model_id": "28a557f8b30f475d8517f33b17b0ea3d",
       "version_major": 2,
       "version_minor": 0
      },
      "text/plain": [
       "Resizing images (rxrx3):   0%|          | 0/100 [00:00<?, ?it/s]"
      ]
     },
     "metadata": {},
     "output_type": "display_data"
    },
    {
     "name": "stdout",
     "output_type": "stream",
     "text": [
      "Processing batch 341/1554\n"
     ]
    },
    {
     "data": {
      "application/vnd.jupyter.widget-view+json": {
       "model_id": "270216da29084c7aa56351cc56d5f17c",
       "version_major": 2,
       "version_minor": 0
      },
      "text/plain": [
       "Resizing images (rxrx3):   0%|          | 0/100 [00:00<?, ?it/s]"
      ]
     },
     "metadata": {},
     "output_type": "display_data"
    },
    {
     "name": "stdout",
     "output_type": "stream",
     "text": [
      "Processing batch 342/1554\n"
     ]
    },
    {
     "data": {
      "application/vnd.jupyter.widget-view+json": {
       "model_id": "94347a37a61e4fe09d26749013015cf3",
       "version_major": 2,
       "version_minor": 0
      },
      "text/plain": [
       "Resizing images (rxrx3):   0%|          | 0/100 [00:00<?, ?it/s]"
      ]
     },
     "metadata": {},
     "output_type": "display_data"
    },
    {
     "name": "stdout",
     "output_type": "stream",
     "text": [
      "Processing batch 343/1554\n"
     ]
    },
    {
     "data": {
      "application/vnd.jupyter.widget-view+json": {
       "model_id": "f708cfe1a76b4de18e1f465dc6b3d133",
       "version_major": 2,
       "version_minor": 0
      },
      "text/plain": [
       "Resizing images (rxrx3):   0%|          | 0/100 [00:00<?, ?it/s]"
      ]
     },
     "metadata": {},
     "output_type": "display_data"
    },
    {
     "name": "stdout",
     "output_type": "stream",
     "text": [
      "Processing batch 344/1554\n"
     ]
    },
    {
     "data": {
      "application/vnd.jupyter.widget-view+json": {
       "model_id": "99975dc6e22441e6b39b489352869bc5",
       "version_major": 2,
       "version_minor": 0
      },
      "text/plain": [
       "Resizing images (rxrx3):   0%|          | 0/100 [00:00<?, ?it/s]"
      ]
     },
     "metadata": {},
     "output_type": "display_data"
    },
    {
     "name": "stdout",
     "output_type": "stream",
     "text": [
      "Processing batch 345/1554\n"
     ]
    },
    {
     "data": {
      "application/vnd.jupyter.widget-view+json": {
       "model_id": "22dfa298f7e441b8bd8f963c5e21dab4",
       "version_major": 2,
       "version_minor": 0
      },
      "text/plain": [
       "Resizing images (rxrx3):   0%|          | 0/100 [00:00<?, ?it/s]"
      ]
     },
     "metadata": {},
     "output_type": "display_data"
    },
    {
     "name": "stdout",
     "output_type": "stream",
     "text": [
      "Processing batch 346/1554\n"
     ]
    },
    {
     "data": {
      "application/vnd.jupyter.widget-view+json": {
       "model_id": "c97c99ceae8e4e388393bfdcc427aa1e",
       "version_major": 2,
       "version_minor": 0
      },
      "text/plain": [
       "Resizing images (rxrx3):   0%|          | 0/100 [00:00<?, ?it/s]"
      ]
     },
     "metadata": {},
     "output_type": "display_data"
    },
    {
     "name": "stdout",
     "output_type": "stream",
     "text": [
      "Processing batch 347/1554\n"
     ]
    },
    {
     "data": {
      "application/vnd.jupyter.widget-view+json": {
       "model_id": "695628d8ac984138ba64b808533231a4",
       "version_major": 2,
       "version_minor": 0
      },
      "text/plain": [
       "Resizing images (rxrx3):   0%|          | 0/100 [00:00<?, ?it/s]"
      ]
     },
     "metadata": {},
     "output_type": "display_data"
    },
    {
     "name": "stdout",
     "output_type": "stream",
     "text": [
      "Processing batch 348/1554\n"
     ]
    },
    {
     "data": {
      "application/vnd.jupyter.widget-view+json": {
       "model_id": "4432882495f04284a033281d831d9fdb",
       "version_major": 2,
       "version_minor": 0
      },
      "text/plain": [
       "Resizing images (rxrx3):   0%|          | 0/100 [00:00<?, ?it/s]"
      ]
     },
     "metadata": {},
     "output_type": "display_data"
    },
    {
     "name": "stdout",
     "output_type": "stream",
     "text": [
      "Processing batch 349/1554\n"
     ]
    },
    {
     "data": {
      "application/vnd.jupyter.widget-view+json": {
       "model_id": "880fe84eb6c74ba5880e7ec2c60bd4f4",
       "version_major": 2,
       "version_minor": 0
      },
      "text/plain": [
       "Resizing images (rxrx3):   0%|          | 0/100 [00:00<?, ?it/s]"
      ]
     },
     "metadata": {},
     "output_type": "display_data"
    },
    {
     "name": "stdout",
     "output_type": "stream",
     "text": [
      "Processing batch 350/1554\n"
     ]
    },
    {
     "data": {
      "application/vnd.jupyter.widget-view+json": {
       "model_id": "a266aece64f84f6b86d25a68a69cb920",
       "version_major": 2,
       "version_minor": 0
      },
      "text/plain": [
       "Resizing images (rxrx3):   0%|          | 0/100 [00:00<?, ?it/s]"
      ]
     },
     "metadata": {},
     "output_type": "display_data"
    },
    {
     "name": "stdout",
     "output_type": "stream",
     "text": [
      "Processing batch 351/1554\n"
     ]
    },
    {
     "data": {
      "application/vnd.jupyter.widget-view+json": {
       "model_id": "3aca0d8bea044bb08a33ff2a61732145",
       "version_major": 2,
       "version_minor": 0
      },
      "text/plain": [
       "Resizing images (rxrx3):   0%|          | 0/100 [00:00<?, ?it/s]"
      ]
     },
     "metadata": {},
     "output_type": "display_data"
    },
    {
     "name": "stdout",
     "output_type": "stream",
     "text": [
      "Processing batch 352/1554\n"
     ]
    },
    {
     "data": {
      "application/vnd.jupyter.widget-view+json": {
       "model_id": "c28275d39e2644e4a214220bde6eeee3",
       "version_major": 2,
       "version_minor": 0
      },
      "text/plain": [
       "Resizing images (rxrx3):   0%|          | 0/100 [00:00<?, ?it/s]"
      ]
     },
     "metadata": {},
     "output_type": "display_data"
    },
    {
     "name": "stdout",
     "output_type": "stream",
     "text": [
      "Processing batch 353/1554\n"
     ]
    },
    {
     "data": {
      "application/vnd.jupyter.widget-view+json": {
       "model_id": "775ec9a5e2b44ae89f9c8b5a427bb033",
       "version_major": 2,
       "version_minor": 0
      },
      "text/plain": [
       "Resizing images (rxrx3):   0%|          | 0/100 [00:00<?, ?it/s]"
      ]
     },
     "metadata": {},
     "output_type": "display_data"
    },
    {
     "name": "stdout",
     "output_type": "stream",
     "text": [
      "Processing batch 354/1554\n"
     ]
    },
    {
     "data": {
      "application/vnd.jupyter.widget-view+json": {
       "model_id": "070bff882df44cd0a119ac5ab7d13b53",
       "version_major": 2,
       "version_minor": 0
      },
      "text/plain": [
       "Resizing images (rxrx3):   0%|          | 0/100 [00:00<?, ?it/s]"
      ]
     },
     "metadata": {},
     "output_type": "display_data"
    },
    {
     "name": "stdout",
     "output_type": "stream",
     "text": [
      "Processing batch 355/1554\n"
     ]
    },
    {
     "data": {
      "application/vnd.jupyter.widget-view+json": {
       "model_id": "5667d552ace04df981fa04ae2223355a",
       "version_major": 2,
       "version_minor": 0
      },
      "text/plain": [
       "Resizing images (rxrx3):   0%|          | 0/100 [00:00<?, ?it/s]"
      ]
     },
     "metadata": {},
     "output_type": "display_data"
    },
    {
     "name": "stdout",
     "output_type": "stream",
     "text": [
      "Processing batch 356/1554\n"
     ]
    },
    {
     "data": {
      "application/vnd.jupyter.widget-view+json": {
       "model_id": "3fd525a615684fa887743fdd8f767798",
       "version_major": 2,
       "version_minor": 0
      },
      "text/plain": [
       "Resizing images (rxrx3):   0%|          | 0/100 [00:00<?, ?it/s]"
      ]
     },
     "metadata": {},
     "output_type": "display_data"
    },
    {
     "name": "stdout",
     "output_type": "stream",
     "text": [
      "Processing batch 357/1554\n"
     ]
    },
    {
     "data": {
      "application/vnd.jupyter.widget-view+json": {
       "model_id": "c23cdabcfa894512bff3dbfcac16692a",
       "version_major": 2,
       "version_minor": 0
      },
      "text/plain": [
       "Resizing images (rxrx3):   0%|          | 0/100 [00:00<?, ?it/s]"
      ]
     },
     "metadata": {},
     "output_type": "display_data"
    },
    {
     "name": "stdout",
     "output_type": "stream",
     "text": [
      "Processing batch 358/1554\n"
     ]
    },
    {
     "data": {
      "application/vnd.jupyter.widget-view+json": {
       "model_id": "af66195329fa43418e3b7bdb72cb07a4",
       "version_major": 2,
       "version_minor": 0
      },
      "text/plain": [
       "Resizing images (rxrx3):   0%|          | 0/100 [00:00<?, ?it/s]"
      ]
     },
     "metadata": {},
     "output_type": "display_data"
    },
    {
     "name": "stdout",
     "output_type": "stream",
     "text": [
      "Processing batch 359/1554\n"
     ]
    },
    {
     "data": {
      "application/vnd.jupyter.widget-view+json": {
       "model_id": "aa1a28eeacd34f058c9dde26847713f1",
       "version_major": 2,
       "version_minor": 0
      },
      "text/plain": [
       "Resizing images (rxrx3):   0%|          | 0/100 [00:00<?, ?it/s]"
      ]
     },
     "metadata": {},
     "output_type": "display_data"
    },
    {
     "name": "stdout",
     "output_type": "stream",
     "text": [
      "Processing batch 360/1554\n"
     ]
    },
    {
     "data": {
      "application/vnd.jupyter.widget-view+json": {
       "model_id": "99c71ad0f8dd4232aa9497ab8c965fc3",
       "version_major": 2,
       "version_minor": 0
      },
      "text/plain": [
       "Resizing images (rxrx3):   0%|          | 0/100 [00:00<?, ?it/s]"
      ]
     },
     "metadata": {},
     "output_type": "display_data"
    },
    {
     "name": "stdout",
     "output_type": "stream",
     "text": [
      "Processing batch 361/1554\n"
     ]
    },
    {
     "data": {
      "application/vnd.jupyter.widget-view+json": {
       "model_id": "9892471754f94c23a475bdac79055716",
       "version_major": 2,
       "version_minor": 0
      },
      "text/plain": [
       "Resizing images (rxrx3):   0%|          | 0/100 [00:00<?, ?it/s]"
      ]
     },
     "metadata": {},
     "output_type": "display_data"
    },
    {
     "name": "stdout",
     "output_type": "stream",
     "text": [
      "Processing batch 362/1554\n"
     ]
    },
    {
     "data": {
      "application/vnd.jupyter.widget-view+json": {
       "model_id": "3f6f203a8ea742bdb2c125f4ab69c1e0",
       "version_major": 2,
       "version_minor": 0
      },
      "text/plain": [
       "Resizing images (rxrx3):   0%|          | 0/100 [00:00<?, ?it/s]"
      ]
     },
     "metadata": {},
     "output_type": "display_data"
    },
    {
     "name": "stdout",
     "output_type": "stream",
     "text": [
      "Processing batch 363/1554\n"
     ]
    },
    {
     "data": {
      "application/vnd.jupyter.widget-view+json": {
       "model_id": "c36cf7b358cd4949b06ccacb69d46cfb",
       "version_major": 2,
       "version_minor": 0
      },
      "text/plain": [
       "Resizing images (rxrx3):   0%|          | 0/100 [00:00<?, ?it/s]"
      ]
     },
     "metadata": {},
     "output_type": "display_data"
    },
    {
     "name": "stdout",
     "output_type": "stream",
     "text": [
      "Processing batch 364/1554\n"
     ]
    },
    {
     "data": {
      "application/vnd.jupyter.widget-view+json": {
       "model_id": "8cdca7f882dd4b7eb86e9b09ed57ea82",
       "version_major": 2,
       "version_minor": 0
      },
      "text/plain": [
       "Resizing images (rxrx3):   0%|          | 0/100 [00:00<?, ?it/s]"
      ]
     },
     "metadata": {},
     "output_type": "display_data"
    },
    {
     "name": "stdout",
     "output_type": "stream",
     "text": [
      "Processing batch 365/1554\n"
     ]
    },
    {
     "data": {
      "application/vnd.jupyter.widget-view+json": {
       "model_id": "798262ed05e041958050945ebabe8d27",
       "version_major": 2,
       "version_minor": 0
      },
      "text/plain": [
       "Resizing images (rxrx3):   0%|          | 0/100 [00:00<?, ?it/s]"
      ]
     },
     "metadata": {},
     "output_type": "display_data"
    },
    {
     "name": "stdout",
     "output_type": "stream",
     "text": [
      "Processing batch 366/1554\n"
     ]
    },
    {
     "data": {
      "application/vnd.jupyter.widget-view+json": {
       "model_id": "f6257e1656de463489901fd3fde494ec",
       "version_major": 2,
       "version_minor": 0
      },
      "text/plain": [
       "Resizing images (rxrx3):   0%|          | 0/100 [00:00<?, ?it/s]"
      ]
     },
     "metadata": {},
     "output_type": "display_data"
    },
    {
     "name": "stdout",
     "output_type": "stream",
     "text": [
      "Processing batch 367/1554\n"
     ]
    },
    {
     "data": {
      "application/vnd.jupyter.widget-view+json": {
       "model_id": "9ea40ab7d9174bb5ae263a04688d3d03",
       "version_major": 2,
       "version_minor": 0
      },
      "text/plain": [
       "Resizing images (rxrx3):   0%|          | 0/100 [00:00<?, ?it/s]"
      ]
     },
     "metadata": {},
     "output_type": "display_data"
    },
    {
     "name": "stdout",
     "output_type": "stream",
     "text": [
      "Processing batch 368/1554\n"
     ]
    },
    {
     "data": {
      "application/vnd.jupyter.widget-view+json": {
       "model_id": "7dd64ea0f69745c9a1a583607c5ddb23",
       "version_major": 2,
       "version_minor": 0
      },
      "text/plain": [
       "Resizing images (rxrx3):   0%|          | 0/100 [00:00<?, ?it/s]"
      ]
     },
     "metadata": {},
     "output_type": "display_data"
    },
    {
     "name": "stdout",
     "output_type": "stream",
     "text": [
      "Processing batch 369/1554\n"
     ]
    },
    {
     "data": {
      "application/vnd.jupyter.widget-view+json": {
       "model_id": "4eac603d41064cc2a35cd13ce207ece5",
       "version_major": 2,
       "version_minor": 0
      },
      "text/plain": [
       "Resizing images (rxrx3):   0%|          | 0/100 [00:00<?, ?it/s]"
      ]
     },
     "metadata": {},
     "output_type": "display_data"
    },
    {
     "name": "stdout",
     "output_type": "stream",
     "text": [
      "Processing batch 370/1554\n"
     ]
    },
    {
     "data": {
      "application/vnd.jupyter.widget-view+json": {
       "model_id": "fd3699fb39394a0fb5e5d126db74c411",
       "version_major": 2,
       "version_minor": 0
      },
      "text/plain": [
       "Resizing images (rxrx3):   0%|          | 0/100 [00:00<?, ?it/s]"
      ]
     },
     "metadata": {},
     "output_type": "display_data"
    },
    {
     "name": "stdout",
     "output_type": "stream",
     "text": [
      "Processing batch 371/1554\n"
     ]
    },
    {
     "data": {
      "application/vnd.jupyter.widget-view+json": {
       "model_id": "13fe452113384e4694adf18f39564cd9",
       "version_major": 2,
       "version_minor": 0
      },
      "text/plain": [
       "Resizing images (rxrx3):   0%|          | 0/100 [00:00<?, ?it/s]"
      ]
     },
     "metadata": {},
     "output_type": "display_data"
    },
    {
     "name": "stdout",
     "output_type": "stream",
     "text": [
      "Processing batch 372/1554\n"
     ]
    },
    {
     "data": {
      "application/vnd.jupyter.widget-view+json": {
       "model_id": "ac12a143c3db4589b1bec3520a3550e3",
       "version_major": 2,
       "version_minor": 0
      },
      "text/plain": [
       "Resizing images (rxrx3):   0%|          | 0/100 [00:00<?, ?it/s]"
      ]
     },
     "metadata": {},
     "output_type": "display_data"
    },
    {
     "name": "stdout",
     "output_type": "stream",
     "text": [
      "Processing batch 373/1554\n"
     ]
    },
    {
     "data": {
      "application/vnd.jupyter.widget-view+json": {
       "model_id": "504da6acfce340a1aaf17cedc341d75f",
       "version_major": 2,
       "version_minor": 0
      },
      "text/plain": [
       "Resizing images (rxrx3):   0%|          | 0/100 [00:00<?, ?it/s]"
      ]
     },
     "metadata": {},
     "output_type": "display_data"
    },
    {
     "name": "stdout",
     "output_type": "stream",
     "text": [
      "Processing batch 374/1554\n"
     ]
    },
    {
     "data": {
      "application/vnd.jupyter.widget-view+json": {
       "model_id": "39ec50843e78487689c2d6f8fee556d5",
       "version_major": 2,
       "version_minor": 0
      },
      "text/plain": [
       "Resizing images (rxrx3):   0%|          | 0/100 [00:00<?, ?it/s]"
      ]
     },
     "metadata": {},
     "output_type": "display_data"
    },
    {
     "name": "stdout",
     "output_type": "stream",
     "text": [
      "Processing batch 375/1554\n"
     ]
    },
    {
     "data": {
      "application/vnd.jupyter.widget-view+json": {
       "model_id": "c808200f94504f70a49e2e5ebb281d13",
       "version_major": 2,
       "version_minor": 0
      },
      "text/plain": [
       "Resizing images (rxrx3):   0%|          | 0/100 [00:00<?, ?it/s]"
      ]
     },
     "metadata": {},
     "output_type": "display_data"
    },
    {
     "name": "stdout",
     "output_type": "stream",
     "text": [
      "Processing batch 376/1554\n"
     ]
    },
    {
     "data": {
      "application/vnd.jupyter.widget-view+json": {
       "model_id": "a9c18eb163cd455da795de4c186470b7",
       "version_major": 2,
       "version_minor": 0
      },
      "text/plain": [
       "Resizing images (rxrx3):   0%|          | 0/100 [00:00<?, ?it/s]"
      ]
     },
     "metadata": {},
     "output_type": "display_data"
    },
    {
     "name": "stdout",
     "output_type": "stream",
     "text": [
      "Processing batch 377/1554\n"
     ]
    },
    {
     "data": {
      "application/vnd.jupyter.widget-view+json": {
       "model_id": "bdf3c16ee3c745b98bbad46664396866",
       "version_major": 2,
       "version_minor": 0
      },
      "text/plain": [
       "Resizing images (rxrx3):   0%|          | 0/100 [00:00<?, ?it/s]"
      ]
     },
     "metadata": {},
     "output_type": "display_data"
    },
    {
     "name": "stdout",
     "output_type": "stream",
     "text": [
      "Processing batch 378/1554\n"
     ]
    },
    {
     "data": {
      "application/vnd.jupyter.widget-view+json": {
       "model_id": "878f6bed204944fe915c746ae208d4f1",
       "version_major": 2,
       "version_minor": 0
      },
      "text/plain": [
       "Resizing images (rxrx3):   0%|          | 0/100 [00:00<?, ?it/s]"
      ]
     },
     "metadata": {},
     "output_type": "display_data"
    },
    {
     "name": "stdout",
     "output_type": "stream",
     "text": [
      "Processing batch 379/1554\n"
     ]
    },
    {
     "data": {
      "application/vnd.jupyter.widget-view+json": {
       "model_id": "637596645a1c431ca7f1cd7703d9d69f",
       "version_major": 2,
       "version_minor": 0
      },
      "text/plain": [
       "Resizing images (rxrx3):   0%|          | 0/100 [00:00<?, ?it/s]"
      ]
     },
     "metadata": {},
     "output_type": "display_data"
    },
    {
     "name": "stdout",
     "output_type": "stream",
     "text": [
      "Processing batch 380/1554\n"
     ]
    },
    {
     "data": {
      "application/vnd.jupyter.widget-view+json": {
       "model_id": "a8b6678230674b5e92bda2e303ae2952",
       "version_major": 2,
       "version_minor": 0
      },
      "text/plain": [
       "Resizing images (rxrx3):   0%|          | 0/100 [00:00<?, ?it/s]"
      ]
     },
     "metadata": {},
     "output_type": "display_data"
    },
    {
     "name": "stdout",
     "output_type": "stream",
     "text": [
      "Processing batch 381/1554\n"
     ]
    },
    {
     "data": {
      "application/vnd.jupyter.widget-view+json": {
       "model_id": "e1ba535e254f497f89862bec28b7d9e9",
       "version_major": 2,
       "version_minor": 0
      },
      "text/plain": [
       "Resizing images (rxrx3):   0%|          | 0/100 [00:00<?, ?it/s]"
      ]
     },
     "metadata": {},
     "output_type": "display_data"
    },
    {
     "name": "stdout",
     "output_type": "stream",
     "text": [
      "Processing batch 382/1554\n"
     ]
    },
    {
     "data": {
      "application/vnd.jupyter.widget-view+json": {
       "model_id": "a1b79ee1cbba4745b6d3c9fc4076cb90",
       "version_major": 2,
       "version_minor": 0
      },
      "text/plain": [
       "Resizing images (rxrx3):   0%|          | 0/100 [00:00<?, ?it/s]"
      ]
     },
     "metadata": {},
     "output_type": "display_data"
    },
    {
     "name": "stdout",
     "output_type": "stream",
     "text": [
      "Processing batch 383/1554\n"
     ]
    },
    {
     "data": {
      "application/vnd.jupyter.widget-view+json": {
       "model_id": "5fdf6e70111f42f89bc8448ec76ae5e9",
       "version_major": 2,
       "version_minor": 0
      },
      "text/plain": [
       "Resizing images (rxrx3):   0%|          | 0/100 [00:00<?, ?it/s]"
      ]
     },
     "metadata": {},
     "output_type": "display_data"
    },
    {
     "name": "stdout",
     "output_type": "stream",
     "text": [
      "Processing batch 384/1554\n"
     ]
    },
    {
     "data": {
      "application/vnd.jupyter.widget-view+json": {
       "model_id": "cdfc9b6388194dcebcb9bb1d4383a935",
       "version_major": 2,
       "version_minor": 0
      },
      "text/plain": [
       "Resizing images (rxrx3):   0%|          | 0/100 [00:00<?, ?it/s]"
      ]
     },
     "metadata": {},
     "output_type": "display_data"
    },
    {
     "name": "stdout",
     "output_type": "stream",
     "text": [
      "Processing batch 385/1554\n"
     ]
    },
    {
     "data": {
      "application/vnd.jupyter.widget-view+json": {
       "model_id": "3b9b571788514157bb55fa4d3bfa7cea",
       "version_major": 2,
       "version_minor": 0
      },
      "text/plain": [
       "Resizing images (rxrx3):   0%|          | 0/100 [00:00<?, ?it/s]"
      ]
     },
     "metadata": {},
     "output_type": "display_data"
    },
    {
     "name": "stdout",
     "output_type": "stream",
     "text": [
      "Processing batch 386/1554\n"
     ]
    },
    {
     "data": {
      "application/vnd.jupyter.widget-view+json": {
       "model_id": "640a2194177c447abf63a2b570f34ecf",
       "version_major": 2,
       "version_minor": 0
      },
      "text/plain": [
       "Resizing images (rxrx3):   0%|          | 0/100 [00:00<?, ?it/s]"
      ]
     },
     "metadata": {},
     "output_type": "display_data"
    },
    {
     "name": "stdout",
     "output_type": "stream",
     "text": [
      "Processing batch 387/1554\n"
     ]
    },
    {
     "data": {
      "application/vnd.jupyter.widget-view+json": {
       "model_id": "19f17dc2fb884967a75681dee8a92cde",
       "version_major": 2,
       "version_minor": 0
      },
      "text/plain": [
       "Resizing images (rxrx3):   0%|          | 0/100 [00:00<?, ?it/s]"
      ]
     },
     "metadata": {},
     "output_type": "display_data"
    },
    {
     "name": "stdout",
     "output_type": "stream",
     "text": [
      "Processing batch 388/1554\n"
     ]
    },
    {
     "data": {
      "application/vnd.jupyter.widget-view+json": {
       "model_id": "6224b1731a9546c888273bc624064389",
       "version_major": 2,
       "version_minor": 0
      },
      "text/plain": [
       "Resizing images (rxrx3):   0%|          | 0/100 [00:00<?, ?it/s]"
      ]
     },
     "metadata": {},
     "output_type": "display_data"
    },
    {
     "name": "stdout",
     "output_type": "stream",
     "text": [
      "Processing batch 389/1554\n"
     ]
    },
    {
     "data": {
      "application/vnd.jupyter.widget-view+json": {
       "model_id": "d2fb41f58c784d1cbfb31b6ef3e74c79",
       "version_major": 2,
       "version_minor": 0
      },
      "text/plain": [
       "Resizing images (rxrx3):   0%|          | 0/100 [00:00<?, ?it/s]"
      ]
     },
     "metadata": {},
     "output_type": "display_data"
    },
    {
     "name": "stdout",
     "output_type": "stream",
     "text": [
      "Processing batch 390/1554\n"
     ]
    },
    {
     "data": {
      "application/vnd.jupyter.widget-view+json": {
       "model_id": "0d3f436274624a54bc1645455409c0d1",
       "version_major": 2,
       "version_minor": 0
      },
      "text/plain": [
       "Resizing images (rxrx3):   0%|          | 0/100 [00:00<?, ?it/s]"
      ]
     },
     "metadata": {},
     "output_type": "display_data"
    },
    {
     "name": "stdout",
     "output_type": "stream",
     "text": [
      "Processing batch 391/1554\n"
     ]
    },
    {
     "data": {
      "application/vnd.jupyter.widget-view+json": {
       "model_id": "ba7a2e8ac6594265980f9cad6089f0bc",
       "version_major": 2,
       "version_minor": 0
      },
      "text/plain": [
       "Resizing images (rxrx3):   0%|          | 0/100 [00:00<?, ?it/s]"
      ]
     },
     "metadata": {},
     "output_type": "display_data"
    },
    {
     "name": "stdout",
     "output_type": "stream",
     "text": [
      "Processing batch 392/1554\n"
     ]
    },
    {
     "data": {
      "application/vnd.jupyter.widget-view+json": {
       "model_id": "24423878b3bf4457bf6ee07e5e37cd5c",
       "version_major": 2,
       "version_minor": 0
      },
      "text/plain": [
       "Resizing images (rxrx3):   0%|          | 0/100 [00:00<?, ?it/s]"
      ]
     },
     "metadata": {},
     "output_type": "display_data"
    },
    {
     "name": "stdout",
     "output_type": "stream",
     "text": [
      "Processing batch 393/1554\n"
     ]
    },
    {
     "data": {
      "application/vnd.jupyter.widget-view+json": {
       "model_id": "92c91f319c8346f8b3310e21d6975fc7",
       "version_major": 2,
       "version_minor": 0
      },
      "text/plain": [
       "Resizing images (rxrx3):   0%|          | 0/100 [00:00<?, ?it/s]"
      ]
     },
     "metadata": {},
     "output_type": "display_data"
    },
    {
     "name": "stdout",
     "output_type": "stream",
     "text": [
      "Processing batch 394/1554\n"
     ]
    },
    {
     "data": {
      "application/vnd.jupyter.widget-view+json": {
       "model_id": "77851739778a4215990928cd2e599c50",
       "version_major": 2,
       "version_minor": 0
      },
      "text/plain": [
       "Resizing images (rxrx3):   0%|          | 0/100 [00:00<?, ?it/s]"
      ]
     },
     "metadata": {},
     "output_type": "display_data"
    },
    {
     "name": "stdout",
     "output_type": "stream",
     "text": [
      "Processing batch 395/1554\n"
     ]
    },
    {
     "data": {
      "application/vnd.jupyter.widget-view+json": {
       "model_id": "1946a499432b4e168588bf59e010b2b5",
       "version_major": 2,
       "version_minor": 0
      },
      "text/plain": [
       "Resizing images (rxrx3):   0%|          | 0/100 [00:00<?, ?it/s]"
      ]
     },
     "metadata": {},
     "output_type": "display_data"
    },
    {
     "name": "stdout",
     "output_type": "stream",
     "text": [
      "Processing batch 396/1554\n"
     ]
    },
    {
     "data": {
      "application/vnd.jupyter.widget-view+json": {
       "model_id": "f41e2893a7494a4d817a302b2fb1330d",
       "version_major": 2,
       "version_minor": 0
      },
      "text/plain": [
       "Resizing images (rxrx3):   0%|          | 0/100 [00:00<?, ?it/s]"
      ]
     },
     "metadata": {},
     "output_type": "display_data"
    },
    {
     "name": "stdout",
     "output_type": "stream",
     "text": [
      "Processing batch 397/1554\n"
     ]
    },
    {
     "data": {
      "application/vnd.jupyter.widget-view+json": {
       "model_id": "014b87c0fa4a4fb78035a42c9d72a376",
       "version_major": 2,
       "version_minor": 0
      },
      "text/plain": [
       "Resizing images (rxrx3):   0%|          | 0/100 [00:00<?, ?it/s]"
      ]
     },
     "metadata": {},
     "output_type": "display_data"
    },
    {
     "name": "stdout",
     "output_type": "stream",
     "text": [
      "Processing batch 398/1554\n"
     ]
    },
    {
     "data": {
      "application/vnd.jupyter.widget-view+json": {
       "model_id": "4782e4e5e93d4627ad575d601cebfab8",
       "version_major": 2,
       "version_minor": 0
      },
      "text/plain": [
       "Resizing images (rxrx3):   0%|          | 0/100 [00:00<?, ?it/s]"
      ]
     },
     "metadata": {},
     "output_type": "display_data"
    },
    {
     "name": "stdout",
     "output_type": "stream",
     "text": [
      "Processing batch 399/1554\n"
     ]
    },
    {
     "data": {
      "application/vnd.jupyter.widget-view+json": {
       "model_id": "be978e7a5c124e1aad505cbda52be0a8",
       "version_major": 2,
       "version_minor": 0
      },
      "text/plain": [
       "Resizing images (rxrx3):   0%|          | 0/100 [00:00<?, ?it/s]"
      ]
     },
     "metadata": {},
     "output_type": "display_data"
    },
    {
     "name": "stdout",
     "output_type": "stream",
     "text": [
      "Processing batch 400/1554\n"
     ]
    },
    {
     "data": {
      "application/vnd.jupyter.widget-view+json": {
       "model_id": "79407339307e4324aa1944659a969fd7",
       "version_major": 2,
       "version_minor": 0
      },
      "text/plain": [
       "Resizing images (rxrx3):   0%|          | 0/100 [00:00<?, ?it/s]"
      ]
     },
     "metadata": {},
     "output_type": "display_data"
    },
    {
     "name": "stdout",
     "output_type": "stream",
     "text": [
      "Processing batch 401/1554\n"
     ]
    },
    {
     "data": {
      "application/vnd.jupyter.widget-view+json": {
       "model_id": "f9945c00af944dec8e53208bc26ea325",
       "version_major": 2,
       "version_minor": 0
      },
      "text/plain": [
       "Resizing images (rxrx3):   0%|          | 0/100 [00:00<?, ?it/s]"
      ]
     },
     "metadata": {},
     "output_type": "display_data"
    },
    {
     "name": "stdout",
     "output_type": "stream",
     "text": [
      "Processing batch 402/1554\n"
     ]
    },
    {
     "data": {
      "application/vnd.jupyter.widget-view+json": {
       "model_id": "dd9707d688c8487ea416318239ab1203",
       "version_major": 2,
       "version_minor": 0
      },
      "text/plain": [
       "Resizing images (rxrx3):   0%|          | 0/100 [00:00<?, ?it/s]"
      ]
     },
     "metadata": {},
     "output_type": "display_data"
    },
    {
     "name": "stdout",
     "output_type": "stream",
     "text": [
      "Processing batch 403/1554\n"
     ]
    },
    {
     "data": {
      "application/vnd.jupyter.widget-view+json": {
       "model_id": "43915a1c67994e8aa315ac88279a2c67",
       "version_major": 2,
       "version_minor": 0
      },
      "text/plain": [
       "Resizing images (rxrx3):   0%|          | 0/100 [00:00<?, ?it/s]"
      ]
     },
     "metadata": {},
     "output_type": "display_data"
    },
    {
     "name": "stdout",
     "output_type": "stream",
     "text": [
      "Processing batch 404/1554\n"
     ]
    },
    {
     "data": {
      "application/vnd.jupyter.widget-view+json": {
       "model_id": "dc49859b6a864bf6bd179e689bc4f715",
       "version_major": 2,
       "version_minor": 0
      },
      "text/plain": [
       "Resizing images (rxrx3):   0%|          | 0/100 [00:00<?, ?it/s]"
      ]
     },
     "metadata": {},
     "output_type": "display_data"
    },
    {
     "name": "stdout",
     "output_type": "stream",
     "text": [
      "Processing batch 405/1554\n"
     ]
    },
    {
     "data": {
      "application/vnd.jupyter.widget-view+json": {
       "model_id": "2770d6a645ec494898ba687a1b60c9ad",
       "version_major": 2,
       "version_minor": 0
      },
      "text/plain": [
       "Resizing images (rxrx3):   0%|          | 0/100 [00:00<?, ?it/s]"
      ]
     },
     "metadata": {},
     "output_type": "display_data"
    },
    {
     "name": "stdout",
     "output_type": "stream",
     "text": [
      "Processing batch 406/1554\n"
     ]
    },
    {
     "data": {
      "application/vnd.jupyter.widget-view+json": {
       "model_id": "335861a4ecf644ed96b8da4c003fc56f",
       "version_major": 2,
       "version_minor": 0
      },
      "text/plain": [
       "Resizing images (rxrx3):   0%|          | 0/100 [00:00<?, ?it/s]"
      ]
     },
     "metadata": {},
     "output_type": "display_data"
    },
    {
     "name": "stdout",
     "output_type": "stream",
     "text": [
      "Processing batch 407/1554\n"
     ]
    },
    {
     "data": {
      "application/vnd.jupyter.widget-view+json": {
       "model_id": "31e8216a3588479da54e6952e0ee3827",
       "version_major": 2,
       "version_minor": 0
      },
      "text/plain": [
       "Resizing images (rxrx3):   0%|          | 0/100 [00:00<?, ?it/s]"
      ]
     },
     "metadata": {},
     "output_type": "display_data"
    },
    {
     "name": "stdout",
     "output_type": "stream",
     "text": [
      "Processing batch 408/1554\n"
     ]
    },
    {
     "data": {
      "application/vnd.jupyter.widget-view+json": {
       "model_id": "2c185f03237841fb9185fd34b2fb6d91",
       "version_major": 2,
       "version_minor": 0
      },
      "text/plain": [
       "Resizing images (rxrx3):   0%|          | 0/100 [00:00<?, ?it/s]"
      ]
     },
     "metadata": {},
     "output_type": "display_data"
    },
    {
     "name": "stdout",
     "output_type": "stream",
     "text": [
      "Processing batch 409/1554\n"
     ]
    },
    {
     "data": {
      "application/vnd.jupyter.widget-view+json": {
       "model_id": "6cd57deb838e4c098786921d2e38b7f2",
       "version_major": 2,
       "version_minor": 0
      },
      "text/plain": [
       "Resizing images (rxrx3):   0%|          | 0/100 [00:00<?, ?it/s]"
      ]
     },
     "metadata": {},
     "output_type": "display_data"
    },
    {
     "name": "stdout",
     "output_type": "stream",
     "text": [
      "Processing batch 410/1554\n"
     ]
    },
    {
     "data": {
      "application/vnd.jupyter.widget-view+json": {
       "model_id": "caff4826011c410b93ab54a2d77c4fe4",
       "version_major": 2,
       "version_minor": 0
      },
      "text/plain": [
       "Resizing images (rxrx3):   0%|          | 0/100 [00:00<?, ?it/s]"
      ]
     },
     "metadata": {},
     "output_type": "display_data"
    },
    {
     "name": "stdout",
     "output_type": "stream",
     "text": [
      "Processing batch 411/1554\n"
     ]
    },
    {
     "data": {
      "application/vnd.jupyter.widget-view+json": {
       "model_id": "488912146ed540fb9755339704986253",
       "version_major": 2,
       "version_minor": 0
      },
      "text/plain": [
       "Resizing images (rxrx3):   0%|          | 0/100 [00:00<?, ?it/s]"
      ]
     },
     "metadata": {},
     "output_type": "display_data"
    },
    {
     "name": "stdout",
     "output_type": "stream",
     "text": [
      "Processing batch 412/1554\n"
     ]
    },
    {
     "data": {
      "application/vnd.jupyter.widget-view+json": {
       "model_id": "75ac261095014a4389c35f66bae45a9b",
       "version_major": 2,
       "version_minor": 0
      },
      "text/plain": [
       "Resizing images (rxrx3):   0%|          | 0/100 [00:00<?, ?it/s]"
      ]
     },
     "metadata": {},
     "output_type": "display_data"
    },
    {
     "name": "stdout",
     "output_type": "stream",
     "text": [
      "Processing batch 413/1554\n"
     ]
    },
    {
     "data": {
      "application/vnd.jupyter.widget-view+json": {
       "model_id": "7e84dda2ae2d4adf8d1d66db0c08ef45",
       "version_major": 2,
       "version_minor": 0
      },
      "text/plain": [
       "Resizing images (rxrx3):   0%|          | 0/100 [00:00<?, ?it/s]"
      ]
     },
     "metadata": {},
     "output_type": "display_data"
    },
    {
     "name": "stdout",
     "output_type": "stream",
     "text": [
      "Processing batch 414/1554\n"
     ]
    },
    {
     "data": {
      "application/vnd.jupyter.widget-view+json": {
       "model_id": "46d55d9916ca44aca4a2f64079e5a92f",
       "version_major": 2,
       "version_minor": 0
      },
      "text/plain": [
       "Resizing images (rxrx3):   0%|          | 0/100 [00:00<?, ?it/s]"
      ]
     },
     "metadata": {},
     "output_type": "display_data"
    },
    {
     "name": "stdout",
     "output_type": "stream",
     "text": [
      "Processing batch 415/1554\n"
     ]
    },
    {
     "data": {
      "application/vnd.jupyter.widget-view+json": {
       "model_id": "c11b965f89384948b7e8d70c5e4a6282",
       "version_major": 2,
       "version_minor": 0
      },
      "text/plain": [
       "Resizing images (rxrx3):   0%|          | 0/100 [00:00<?, ?it/s]"
      ]
     },
     "metadata": {},
     "output_type": "display_data"
    },
    {
     "name": "stdout",
     "output_type": "stream",
     "text": [
      "Processing batch 416/1554\n"
     ]
    },
    {
     "data": {
      "application/vnd.jupyter.widget-view+json": {
       "model_id": "475c45286ba3440f980a469c692357ee",
       "version_major": 2,
       "version_minor": 0
      },
      "text/plain": [
       "Resizing images (rxrx3):   0%|          | 0/100 [00:00<?, ?it/s]"
      ]
     },
     "metadata": {},
     "output_type": "display_data"
    },
    {
     "name": "stdout",
     "output_type": "stream",
     "text": [
      "Processing batch 417/1554\n"
     ]
    },
    {
     "data": {
      "application/vnd.jupyter.widget-view+json": {
       "model_id": "a7f084fe95f04b93a68cbe63f61566b3",
       "version_major": 2,
       "version_minor": 0
      },
      "text/plain": [
       "Resizing images (rxrx3):   0%|          | 0/100 [00:00<?, ?it/s]"
      ]
     },
     "metadata": {},
     "output_type": "display_data"
    },
    {
     "name": "stdout",
     "output_type": "stream",
     "text": [
      "Processing batch 418/1554\n"
     ]
    },
    {
     "data": {
      "application/vnd.jupyter.widget-view+json": {
       "model_id": "d5fb48b9acd3496ca0a583a1b4a2ee7a",
       "version_major": 2,
       "version_minor": 0
      },
      "text/plain": [
       "Resizing images (rxrx3):   0%|          | 0/100 [00:00<?, ?it/s]"
      ]
     },
     "metadata": {},
     "output_type": "display_data"
    },
    {
     "name": "stdout",
     "output_type": "stream",
     "text": [
      "Processing batch 419/1554\n"
     ]
    },
    {
     "data": {
      "application/vnd.jupyter.widget-view+json": {
       "model_id": "ebd36b35a4a34ef8a0bed92ee343d873",
       "version_major": 2,
       "version_minor": 0
      },
      "text/plain": [
       "Resizing images (rxrx3):   0%|          | 0/100 [00:00<?, ?it/s]"
      ]
     },
     "metadata": {},
     "output_type": "display_data"
    },
    {
     "name": "stdout",
     "output_type": "stream",
     "text": [
      "Processing batch 420/1554\n"
     ]
    },
    {
     "data": {
      "application/vnd.jupyter.widget-view+json": {
       "model_id": "44bc67c0caf349c4bcfce0f23323e0f2",
       "version_major": 2,
       "version_minor": 0
      },
      "text/plain": [
       "Resizing images (rxrx3):   0%|          | 0/100 [00:00<?, ?it/s]"
      ]
     },
     "metadata": {},
     "output_type": "display_data"
    },
    {
     "name": "stdout",
     "output_type": "stream",
     "text": [
      "Processing batch 421/1554\n"
     ]
    },
    {
     "data": {
      "application/vnd.jupyter.widget-view+json": {
       "model_id": "57528b8b591c4df68bbd478c897bb916",
       "version_major": 2,
       "version_minor": 0
      },
      "text/plain": [
       "Resizing images (rxrx3):   0%|          | 0/100 [00:00<?, ?it/s]"
      ]
     },
     "metadata": {},
     "output_type": "display_data"
    },
    {
     "name": "stdout",
     "output_type": "stream",
     "text": [
      "Processing batch 422/1554\n"
     ]
    },
    {
     "data": {
      "application/vnd.jupyter.widget-view+json": {
       "model_id": "21de938bf77c47f69a27066ea75997a7",
       "version_major": 2,
       "version_minor": 0
      },
      "text/plain": [
       "Resizing images (rxrx3):   0%|          | 0/100 [00:00<?, ?it/s]"
      ]
     },
     "metadata": {},
     "output_type": "display_data"
    },
    {
     "name": "stdout",
     "output_type": "stream",
     "text": [
      "Processing batch 423/1554\n"
     ]
    },
    {
     "data": {
      "application/vnd.jupyter.widget-view+json": {
       "model_id": "e35b20e8cff846829ac7004251ba7af6",
       "version_major": 2,
       "version_minor": 0
      },
      "text/plain": [
       "Resizing images (rxrx3):   0%|          | 0/100 [00:00<?, ?it/s]"
      ]
     },
     "metadata": {},
     "output_type": "display_data"
    },
    {
     "name": "stdout",
     "output_type": "stream",
     "text": [
      "Processing batch 424/1554\n"
     ]
    },
    {
     "data": {
      "application/vnd.jupyter.widget-view+json": {
       "model_id": "729c9085f59846038aa6497e13d97c26",
       "version_major": 2,
       "version_minor": 0
      },
      "text/plain": [
       "Resizing images (rxrx3):   0%|          | 0/100 [00:00<?, ?it/s]"
      ]
     },
     "metadata": {},
     "output_type": "display_data"
    },
    {
     "name": "stdout",
     "output_type": "stream",
     "text": [
      "Processing batch 425/1554\n"
     ]
    },
    {
     "data": {
      "application/vnd.jupyter.widget-view+json": {
       "model_id": "2405c179eb97408195d843338ed633bd",
       "version_major": 2,
       "version_minor": 0
      },
      "text/plain": [
       "Resizing images (rxrx3):   0%|          | 0/100 [00:00<?, ?it/s]"
      ]
     },
     "metadata": {},
     "output_type": "display_data"
    },
    {
     "name": "stdout",
     "output_type": "stream",
     "text": [
      "Processing batch 426/1554\n"
     ]
    },
    {
     "data": {
      "application/vnd.jupyter.widget-view+json": {
       "model_id": "81854856ad05470fba9034ba51f2d1d6",
       "version_major": 2,
       "version_minor": 0
      },
      "text/plain": [
       "Resizing images (rxrx3):   0%|          | 0/100 [00:00<?, ?it/s]"
      ]
     },
     "metadata": {},
     "output_type": "display_data"
    },
    {
     "name": "stdout",
     "output_type": "stream",
     "text": [
      "Processing batch 427/1554\n"
     ]
    },
    {
     "data": {
      "application/vnd.jupyter.widget-view+json": {
       "model_id": "088d48f8a9864eba85695145d6b9b5c7",
       "version_major": 2,
       "version_minor": 0
      },
      "text/plain": [
       "Resizing images (rxrx3):   0%|          | 0/100 [00:00<?, ?it/s]"
      ]
     },
     "metadata": {},
     "output_type": "display_data"
    },
    {
     "name": "stdout",
     "output_type": "stream",
     "text": [
      "Processing batch 428/1554\n"
     ]
    },
    {
     "data": {
      "application/vnd.jupyter.widget-view+json": {
       "model_id": "6e159a5348fb48c99702694864e7f2d8",
       "version_major": 2,
       "version_minor": 0
      },
      "text/plain": [
       "Resizing images (rxrx3):   0%|          | 0/100 [00:00<?, ?it/s]"
      ]
     },
     "metadata": {},
     "output_type": "display_data"
    },
    {
     "name": "stdout",
     "output_type": "stream",
     "text": [
      "Processing batch 429/1554\n"
     ]
    },
    {
     "data": {
      "application/vnd.jupyter.widget-view+json": {
       "model_id": "c2069184ff0d4647b3b6f22c26200aa5",
       "version_major": 2,
       "version_minor": 0
      },
      "text/plain": [
       "Resizing images (rxrx3):   0%|          | 0/100 [00:00<?, ?it/s]"
      ]
     },
     "metadata": {},
     "output_type": "display_data"
    },
    {
     "name": "stdout",
     "output_type": "stream",
     "text": [
      "Processing batch 430/1554\n"
     ]
    },
    {
     "data": {
      "application/vnd.jupyter.widget-view+json": {
       "model_id": "ed5cd0da731a4944a4fd4b5d94e4ab4b",
       "version_major": 2,
       "version_minor": 0
      },
      "text/plain": [
       "Resizing images (rxrx3):   0%|          | 0/100 [00:00<?, ?it/s]"
      ]
     },
     "metadata": {},
     "output_type": "display_data"
    },
    {
     "name": "stdout",
     "output_type": "stream",
     "text": [
      "Processing batch 431/1554\n"
     ]
    },
    {
     "data": {
      "application/vnd.jupyter.widget-view+json": {
       "model_id": "b86a5d9740344e1f82c6ad7ab42cce3c",
       "version_major": 2,
       "version_minor": 0
      },
      "text/plain": [
       "Resizing images (rxrx3):   0%|          | 0/100 [00:00<?, ?it/s]"
      ]
     },
     "metadata": {},
     "output_type": "display_data"
    },
    {
     "name": "stdout",
     "output_type": "stream",
     "text": [
      "Processing batch 432/1554\n"
     ]
    },
    {
     "data": {
      "application/vnd.jupyter.widget-view+json": {
       "model_id": "d5df12bab7584c1d96a9425d73aff203",
       "version_major": 2,
       "version_minor": 0
      },
      "text/plain": [
       "Resizing images (rxrx3):   0%|          | 0/100 [00:00<?, ?it/s]"
      ]
     },
     "metadata": {},
     "output_type": "display_data"
    },
    {
     "name": "stdout",
     "output_type": "stream",
     "text": [
      "Processing batch 433/1554\n"
     ]
    },
    {
     "data": {
      "application/vnd.jupyter.widget-view+json": {
       "model_id": "d7496fc323974d1e9f4ebbc3711c5c10",
       "version_major": 2,
       "version_minor": 0
      },
      "text/plain": [
       "Resizing images (rxrx3):   0%|          | 0/100 [00:00<?, ?it/s]"
      ]
     },
     "metadata": {},
     "output_type": "display_data"
    },
    {
     "name": "stdout",
     "output_type": "stream",
     "text": [
      "Processing batch 434/1554\n"
     ]
    },
    {
     "data": {
      "application/vnd.jupyter.widget-view+json": {
       "model_id": "6aaeecb8fff84aaea16a579c2e9ccd3a",
       "version_major": 2,
       "version_minor": 0
      },
      "text/plain": [
       "Resizing images (rxrx3):   0%|          | 0/100 [00:00<?, ?it/s]"
      ]
     },
     "metadata": {},
     "output_type": "display_data"
    },
    {
     "name": "stdout",
     "output_type": "stream",
     "text": [
      "Processing batch 435/1554\n"
     ]
    },
    {
     "data": {
      "application/vnd.jupyter.widget-view+json": {
       "model_id": "5f72c61585b54a95b7b16db6a6937c22",
       "version_major": 2,
       "version_minor": 0
      },
      "text/plain": [
       "Resizing images (rxrx3):   0%|          | 0/100 [00:00<?, ?it/s]"
      ]
     },
     "metadata": {},
     "output_type": "display_data"
    },
    {
     "name": "stdout",
     "output_type": "stream",
     "text": [
      "Processing batch 436/1554\n"
     ]
    },
    {
     "data": {
      "application/vnd.jupyter.widget-view+json": {
       "model_id": "d080d476abc0406a9dc8df6b4fe51afc",
       "version_major": 2,
       "version_minor": 0
      },
      "text/plain": [
       "Resizing images (rxrx3):   0%|          | 0/100 [00:00<?, ?it/s]"
      ]
     },
     "metadata": {},
     "output_type": "display_data"
    },
    {
     "name": "stdout",
     "output_type": "stream",
     "text": [
      "Processing batch 437/1554\n"
     ]
    },
    {
     "data": {
      "application/vnd.jupyter.widget-view+json": {
       "model_id": "2f383a99f70e46adb63308ecd8699251",
       "version_major": 2,
       "version_minor": 0
      },
      "text/plain": [
       "Resizing images (rxrx3):   0%|          | 0/100 [00:00<?, ?it/s]"
      ]
     },
     "metadata": {},
     "output_type": "display_data"
    },
    {
     "name": "stdout",
     "output_type": "stream",
     "text": [
      "Processing batch 438/1554\n"
     ]
    },
    {
     "data": {
      "application/vnd.jupyter.widget-view+json": {
       "model_id": "841f358aaaa149359c112127b335728b",
       "version_major": 2,
       "version_minor": 0
      },
      "text/plain": [
       "Resizing images (rxrx3):   0%|          | 0/100 [00:00<?, ?it/s]"
      ]
     },
     "metadata": {},
     "output_type": "display_data"
    },
    {
     "name": "stdout",
     "output_type": "stream",
     "text": [
      "Processing batch 439/1554\n"
     ]
    },
    {
     "data": {
      "application/vnd.jupyter.widget-view+json": {
       "model_id": "49889cd83e364e97b5bbc5871b834514",
       "version_major": 2,
       "version_minor": 0
      },
      "text/plain": [
       "Resizing images (rxrx3):   0%|          | 0/100 [00:00<?, ?it/s]"
      ]
     },
     "metadata": {},
     "output_type": "display_data"
    },
    {
     "name": "stdout",
     "output_type": "stream",
     "text": [
      "Processing batch 440/1554\n"
     ]
    },
    {
     "data": {
      "application/vnd.jupyter.widget-view+json": {
       "model_id": "34173426ed06493f96793a50fa176165",
       "version_major": 2,
       "version_minor": 0
      },
      "text/plain": [
       "Resizing images (rxrx3):   0%|          | 0/100 [00:00<?, ?it/s]"
      ]
     },
     "metadata": {},
     "output_type": "display_data"
    },
    {
     "name": "stdout",
     "output_type": "stream",
     "text": [
      "Processing batch 441/1554\n"
     ]
    },
    {
     "data": {
      "application/vnd.jupyter.widget-view+json": {
       "model_id": "1adb7ddc2b5843a8a0c2f48d9686c875",
       "version_major": 2,
       "version_minor": 0
      },
      "text/plain": [
       "Resizing images (rxrx3):   0%|          | 0/100 [00:00<?, ?it/s]"
      ]
     },
     "metadata": {},
     "output_type": "display_data"
    },
    {
     "name": "stdout",
     "output_type": "stream",
     "text": [
      "Processing batch 442/1554\n"
     ]
    },
    {
     "data": {
      "application/vnd.jupyter.widget-view+json": {
       "model_id": "681a474340a54c8897b40e7169a101b2",
       "version_major": 2,
       "version_minor": 0
      },
      "text/plain": [
       "Resizing images (rxrx3):   0%|          | 0/100 [00:00<?, ?it/s]"
      ]
     },
     "metadata": {},
     "output_type": "display_data"
    },
    {
     "name": "stdout",
     "output_type": "stream",
     "text": [
      "Processing batch 443/1554\n"
     ]
    },
    {
     "data": {
      "application/vnd.jupyter.widget-view+json": {
       "model_id": "24383e6d4a9f42c494a6bf8ba229f713",
       "version_major": 2,
       "version_minor": 0
      },
      "text/plain": [
       "Resizing images (rxrx3):   0%|          | 0/100 [00:00<?, ?it/s]"
      ]
     },
     "metadata": {},
     "output_type": "display_data"
    },
    {
     "name": "stdout",
     "output_type": "stream",
     "text": [
      "Processing batch 444/1554\n"
     ]
    },
    {
     "data": {
      "application/vnd.jupyter.widget-view+json": {
       "model_id": "23c203b87eac4cb3be9b0ac5448daac8",
       "version_major": 2,
       "version_minor": 0
      },
      "text/plain": [
       "Resizing images (rxrx3):   0%|          | 0/100 [00:00<?, ?it/s]"
      ]
     },
     "metadata": {},
     "output_type": "display_data"
    },
    {
     "name": "stdout",
     "output_type": "stream",
     "text": [
      "Processing batch 445/1554\n"
     ]
    },
    {
     "data": {
      "application/vnd.jupyter.widget-view+json": {
       "model_id": "c06e755c83d34dfa8a00ae5846313e25",
       "version_major": 2,
       "version_minor": 0
      },
      "text/plain": [
       "Resizing images (rxrx3):   0%|          | 0/100 [00:00<?, ?it/s]"
      ]
     },
     "metadata": {},
     "output_type": "display_data"
    },
    {
     "name": "stdout",
     "output_type": "stream",
     "text": [
      "Processing batch 446/1554\n"
     ]
    },
    {
     "data": {
      "application/vnd.jupyter.widget-view+json": {
       "model_id": "fdda551f2e80482c9eaa059647665756",
       "version_major": 2,
       "version_minor": 0
      },
      "text/plain": [
       "Resizing images (rxrx3):   0%|          | 0/100 [00:00<?, ?it/s]"
      ]
     },
     "metadata": {},
     "output_type": "display_data"
    },
    {
     "name": "stdout",
     "output_type": "stream",
     "text": [
      "Processing batch 447/1554\n"
     ]
    },
    {
     "data": {
      "application/vnd.jupyter.widget-view+json": {
       "model_id": "76ae94a8e6f3417db68a0bbda737568f",
       "version_major": 2,
       "version_minor": 0
      },
      "text/plain": [
       "Resizing images (rxrx3):   0%|          | 0/100 [00:00<?, ?it/s]"
      ]
     },
     "metadata": {},
     "output_type": "display_data"
    },
    {
     "name": "stdout",
     "output_type": "stream",
     "text": [
      "Processing batch 448/1554\n"
     ]
    },
    {
     "data": {
      "application/vnd.jupyter.widget-view+json": {
       "model_id": "7a06740dd10b40be9591c24c238f7728",
       "version_major": 2,
       "version_minor": 0
      },
      "text/plain": [
       "Resizing images (rxrx3):   0%|          | 0/100 [00:00<?, ?it/s]"
      ]
     },
     "metadata": {},
     "output_type": "display_data"
    },
    {
     "name": "stdout",
     "output_type": "stream",
     "text": [
      "Processing batch 449/1554\n"
     ]
    },
    {
     "data": {
      "application/vnd.jupyter.widget-view+json": {
       "model_id": "1373b8e0f81a43309011571d96c4d237",
       "version_major": 2,
       "version_minor": 0
      },
      "text/plain": [
       "Resizing images (rxrx3):   0%|          | 0/100 [00:00<?, ?it/s]"
      ]
     },
     "metadata": {},
     "output_type": "display_data"
    },
    {
     "name": "stdout",
     "output_type": "stream",
     "text": [
      "Processing batch 450/1554\n"
     ]
    },
    {
     "data": {
      "application/vnd.jupyter.widget-view+json": {
       "model_id": "20e586705f4540e984f2533fda0ce8f3",
       "version_major": 2,
       "version_minor": 0
      },
      "text/plain": [
       "Resizing images (rxrx3):   0%|          | 0/100 [00:00<?, ?it/s]"
      ]
     },
     "metadata": {},
     "output_type": "display_data"
    },
    {
     "name": "stdout",
     "output_type": "stream",
     "text": [
      "Processing batch 451/1554\n"
     ]
    },
    {
     "data": {
      "application/vnd.jupyter.widget-view+json": {
       "model_id": "7f8a1a4339c84cf08ab3d3570ba82d32",
       "version_major": 2,
       "version_minor": 0
      },
      "text/plain": [
       "Resizing images (rxrx3):   0%|          | 0/100 [00:00<?, ?it/s]"
      ]
     },
     "metadata": {},
     "output_type": "display_data"
    },
    {
     "name": "stdout",
     "output_type": "stream",
     "text": [
      "Processing batch 452/1554\n"
     ]
    },
    {
     "data": {
      "application/vnd.jupyter.widget-view+json": {
       "model_id": "8749d126b05d43558280ae0de2552be8",
       "version_major": 2,
       "version_minor": 0
      },
      "text/plain": [
       "Resizing images (rxrx3):   0%|          | 0/100 [00:00<?, ?it/s]"
      ]
     },
     "metadata": {},
     "output_type": "display_data"
    },
    {
     "name": "stdout",
     "output_type": "stream",
     "text": [
      "Processing batch 453/1554\n"
     ]
    },
    {
     "data": {
      "application/vnd.jupyter.widget-view+json": {
       "model_id": "6c188baea0d54b269a93ffb704cdbdf7",
       "version_major": 2,
       "version_minor": 0
      },
      "text/plain": [
       "Resizing images (rxrx3):   0%|          | 0/100 [00:00<?, ?it/s]"
      ]
     },
     "metadata": {},
     "output_type": "display_data"
    },
    {
     "name": "stdout",
     "output_type": "stream",
     "text": [
      "Processing batch 454/1554\n"
     ]
    },
    {
     "data": {
      "application/vnd.jupyter.widget-view+json": {
       "model_id": "59059d9bebb946a389fa02984d9b511b",
       "version_major": 2,
       "version_minor": 0
      },
      "text/plain": [
       "Resizing images (rxrx3):   0%|          | 0/100 [00:00<?, ?it/s]"
      ]
     },
     "metadata": {},
     "output_type": "display_data"
    },
    {
     "name": "stdout",
     "output_type": "stream",
     "text": [
      "Processing batch 455/1554\n"
     ]
    },
    {
     "data": {
      "application/vnd.jupyter.widget-view+json": {
       "model_id": "fa12dd7474024566a8e7a7a865a8b5fa",
       "version_major": 2,
       "version_minor": 0
      },
      "text/plain": [
       "Resizing images (rxrx3):   0%|          | 0/100 [00:00<?, ?it/s]"
      ]
     },
     "metadata": {},
     "output_type": "display_data"
    },
    {
     "name": "stdout",
     "output_type": "stream",
     "text": [
      "Processing batch 456/1554\n"
     ]
    },
    {
     "data": {
      "application/vnd.jupyter.widget-view+json": {
       "model_id": "83e4bddbe8384c91a1b653d8c0f4855d",
       "version_major": 2,
       "version_minor": 0
      },
      "text/plain": [
       "Resizing images (rxrx3):   0%|          | 0/100 [00:00<?, ?it/s]"
      ]
     },
     "metadata": {},
     "output_type": "display_data"
    },
    {
     "name": "stdout",
     "output_type": "stream",
     "text": [
      "Processing batch 457/1554\n"
     ]
    },
    {
     "data": {
      "application/vnd.jupyter.widget-view+json": {
       "model_id": "2e307d499be8433b91a0ab830801acd3",
       "version_major": 2,
       "version_minor": 0
      },
      "text/plain": [
       "Resizing images (rxrx3):   0%|          | 0/100 [00:00<?, ?it/s]"
      ]
     },
     "metadata": {},
     "output_type": "display_data"
    },
    {
     "name": "stdout",
     "output_type": "stream",
     "text": [
      "Processing batch 458/1554\n"
     ]
    },
    {
     "data": {
      "application/vnd.jupyter.widget-view+json": {
       "model_id": "042fe44f4ce64455a85cee50d7489182",
       "version_major": 2,
       "version_minor": 0
      },
      "text/plain": [
       "Resizing images (rxrx3):   0%|          | 0/100 [00:00<?, ?it/s]"
      ]
     },
     "metadata": {},
     "output_type": "display_data"
    },
    {
     "name": "stdout",
     "output_type": "stream",
     "text": [
      "Processing batch 459/1554\n"
     ]
    },
    {
     "data": {
      "application/vnd.jupyter.widget-view+json": {
       "model_id": "e836461da3c14c999db31bd03e662c48",
       "version_major": 2,
       "version_minor": 0
      },
      "text/plain": [
       "Resizing images (rxrx3):   0%|          | 0/100 [00:00<?, ?it/s]"
      ]
     },
     "metadata": {},
     "output_type": "display_data"
    },
    {
     "name": "stdout",
     "output_type": "stream",
     "text": [
      "Processing batch 460/1554\n"
     ]
    },
    {
     "data": {
      "application/vnd.jupyter.widget-view+json": {
       "model_id": "80cf9d5ed6ec4e6bab97ce3ff0ebf51d",
       "version_major": 2,
       "version_minor": 0
      },
      "text/plain": [
       "Resizing images (rxrx3):   0%|          | 0/100 [00:00<?, ?it/s]"
      ]
     },
     "metadata": {},
     "output_type": "display_data"
    },
    {
     "name": "stdout",
     "output_type": "stream",
     "text": [
      "Processing batch 461/1554\n"
     ]
    },
    {
     "data": {
      "application/vnd.jupyter.widget-view+json": {
       "model_id": "9b2bfc152fd94105a9cd5c5117cda2c4",
       "version_major": 2,
       "version_minor": 0
      },
      "text/plain": [
       "Resizing images (rxrx3):   0%|          | 0/100 [00:00<?, ?it/s]"
      ]
     },
     "metadata": {},
     "output_type": "display_data"
    },
    {
     "name": "stdout",
     "output_type": "stream",
     "text": [
      "Processing batch 462/1554\n"
     ]
    },
    {
     "data": {
      "application/vnd.jupyter.widget-view+json": {
       "model_id": "df231b6881df4ba0a4f2e4612d87b3d8",
       "version_major": 2,
       "version_minor": 0
      },
      "text/plain": [
       "Resizing images (rxrx3):   0%|          | 0/100 [00:00<?, ?it/s]"
      ]
     },
     "metadata": {},
     "output_type": "display_data"
    },
    {
     "name": "stdout",
     "output_type": "stream",
     "text": [
      "Processing batch 463/1554\n"
     ]
    },
    {
     "data": {
      "application/vnd.jupyter.widget-view+json": {
       "model_id": "67256172266e4e32bab0db2063223ddb",
       "version_major": 2,
       "version_minor": 0
      },
      "text/plain": [
       "Resizing images (rxrx3):   0%|          | 0/100 [00:00<?, ?it/s]"
      ]
     },
     "metadata": {},
     "output_type": "display_data"
    },
    {
     "name": "stdout",
     "output_type": "stream",
     "text": [
      "Processing batch 464/1554\n"
     ]
    },
    {
     "data": {
      "application/vnd.jupyter.widget-view+json": {
       "model_id": "d696d750ae344601b4e3a873de933fa6",
       "version_major": 2,
       "version_minor": 0
      },
      "text/plain": [
       "Resizing images (rxrx3):   0%|          | 0/100 [00:00<?, ?it/s]"
      ]
     },
     "metadata": {},
     "output_type": "display_data"
    },
    {
     "name": "stdout",
     "output_type": "stream",
     "text": [
      "Processing batch 465/1554\n"
     ]
    },
    {
     "data": {
      "application/vnd.jupyter.widget-view+json": {
       "model_id": "0d0da38f882b42d1be6901a952575d0e",
       "version_major": 2,
       "version_minor": 0
      },
      "text/plain": [
       "Resizing images (rxrx3):   0%|          | 0/100 [00:00<?, ?it/s]"
      ]
     },
     "metadata": {},
     "output_type": "display_data"
    },
    {
     "name": "stdout",
     "output_type": "stream",
     "text": [
      "Processing batch 466/1554\n"
     ]
    },
    {
     "data": {
      "application/vnd.jupyter.widget-view+json": {
       "model_id": "2bb6a2aa58d744f4891f3cb37904fefc",
       "version_major": 2,
       "version_minor": 0
      },
      "text/plain": [
       "Resizing images (rxrx3):   0%|          | 0/100 [00:00<?, ?it/s]"
      ]
     },
     "metadata": {},
     "output_type": "display_data"
    },
    {
     "name": "stdout",
     "output_type": "stream",
     "text": [
      "Processing batch 467/1554\n"
     ]
    },
    {
     "data": {
      "application/vnd.jupyter.widget-view+json": {
       "model_id": "48c4d52ab71748b7ae904ecad767708c",
       "version_major": 2,
       "version_minor": 0
      },
      "text/plain": [
       "Resizing images (rxrx3):   0%|          | 0/100 [00:00<?, ?it/s]"
      ]
     },
     "metadata": {},
     "output_type": "display_data"
    },
    {
     "name": "stdout",
     "output_type": "stream",
     "text": [
      "Processing batch 468/1554\n"
     ]
    },
    {
     "data": {
      "application/vnd.jupyter.widget-view+json": {
       "model_id": "a85f2e3115e446b18d54ae79883d72c5",
       "version_major": 2,
       "version_minor": 0
      },
      "text/plain": [
       "Resizing images (rxrx3):   0%|          | 0/100 [00:00<?, ?it/s]"
      ]
     },
     "metadata": {},
     "output_type": "display_data"
    },
    {
     "name": "stdout",
     "output_type": "stream",
     "text": [
      "Processing batch 469/1554\n"
     ]
    },
    {
     "data": {
      "application/vnd.jupyter.widget-view+json": {
       "model_id": "f5f40128cc384215bb236e108c2bd703",
       "version_major": 2,
       "version_minor": 0
      },
      "text/plain": [
       "Resizing images (rxrx3):   0%|          | 0/100 [00:00<?, ?it/s]"
      ]
     },
     "metadata": {},
     "output_type": "display_data"
    },
    {
     "name": "stdout",
     "output_type": "stream",
     "text": [
      "Processing batch 470/1554\n"
     ]
    },
    {
     "data": {
      "application/vnd.jupyter.widget-view+json": {
       "model_id": "c6a19e525bf5461993c616597b054ecc",
       "version_major": 2,
       "version_minor": 0
      },
      "text/plain": [
       "Resizing images (rxrx3):   0%|          | 0/100 [00:00<?, ?it/s]"
      ]
     },
     "metadata": {},
     "output_type": "display_data"
    },
    {
     "name": "stdout",
     "output_type": "stream",
     "text": [
      "Processing batch 471/1554\n"
     ]
    },
    {
     "data": {
      "application/vnd.jupyter.widget-view+json": {
       "model_id": "a87bbc4d7b2f468284baf33814309bb9",
       "version_major": 2,
       "version_minor": 0
      },
      "text/plain": [
       "Resizing images (rxrx3):   0%|          | 0/100 [00:00<?, ?it/s]"
      ]
     },
     "metadata": {},
     "output_type": "display_data"
    },
    {
     "name": "stdout",
     "output_type": "stream",
     "text": [
      "Processing batch 472/1554\n"
     ]
    },
    {
     "data": {
      "application/vnd.jupyter.widget-view+json": {
       "model_id": "a5aaee7c637a407aa954541437c3a16a",
       "version_major": 2,
       "version_minor": 0
      },
      "text/plain": [
       "Resizing images (rxrx3):   0%|          | 0/100 [00:00<?, ?it/s]"
      ]
     },
     "metadata": {},
     "output_type": "display_data"
    },
    {
     "name": "stdout",
     "output_type": "stream",
     "text": [
      "Processing batch 473/1554\n"
     ]
    },
    {
     "data": {
      "application/vnd.jupyter.widget-view+json": {
       "model_id": "1f57e68f5b4f470db8df69924d353cdf",
       "version_major": 2,
       "version_minor": 0
      },
      "text/plain": [
       "Resizing images (rxrx3):   0%|          | 0/100 [00:00<?, ?it/s]"
      ]
     },
     "metadata": {},
     "output_type": "display_data"
    },
    {
     "name": "stdout",
     "output_type": "stream",
     "text": [
      "Processing batch 474/1554\n"
     ]
    },
    {
     "data": {
      "application/vnd.jupyter.widget-view+json": {
       "model_id": "ef675ef4cdff4b6b998364eac06d13d3",
       "version_major": 2,
       "version_minor": 0
      },
      "text/plain": [
       "Resizing images (rxrx3):   0%|          | 0/100 [00:00<?, ?it/s]"
      ]
     },
     "metadata": {},
     "output_type": "display_data"
    },
    {
     "name": "stdout",
     "output_type": "stream",
     "text": [
      "Processing batch 475/1554\n"
     ]
    },
    {
     "data": {
      "application/vnd.jupyter.widget-view+json": {
       "model_id": "24e0e141345c49b09c1120ec1add85f9",
       "version_major": 2,
       "version_minor": 0
      },
      "text/plain": [
       "Resizing images (rxrx3):   0%|          | 0/100 [00:00<?, ?it/s]"
      ]
     },
     "metadata": {},
     "output_type": "display_data"
    },
    {
     "name": "stdout",
     "output_type": "stream",
     "text": [
      "Processing batch 476/1554\n"
     ]
    },
    {
     "data": {
      "application/vnd.jupyter.widget-view+json": {
       "model_id": "dae45e5ef1024167907cf4b32e635b3c",
       "version_major": 2,
       "version_minor": 0
      },
      "text/plain": [
       "Resizing images (rxrx3):   0%|          | 0/100 [00:00<?, ?it/s]"
      ]
     },
     "metadata": {},
     "output_type": "display_data"
    },
    {
     "name": "stdout",
     "output_type": "stream",
     "text": [
      "Processing batch 477/1554\n"
     ]
    },
    {
     "data": {
      "application/vnd.jupyter.widget-view+json": {
       "model_id": "357177877749489d8c26adde3d079582",
       "version_major": 2,
       "version_minor": 0
      },
      "text/plain": [
       "Resizing images (rxrx3):   0%|          | 0/100 [00:00<?, ?it/s]"
      ]
     },
     "metadata": {},
     "output_type": "display_data"
    },
    {
     "name": "stdout",
     "output_type": "stream",
     "text": [
      "Processing batch 478/1554\n"
     ]
    },
    {
     "data": {
      "application/vnd.jupyter.widget-view+json": {
       "model_id": "f0508c1f8329466f8a943a942eae65ca",
       "version_major": 2,
       "version_minor": 0
      },
      "text/plain": [
       "Resizing images (rxrx3):   0%|          | 0/100 [00:00<?, ?it/s]"
      ]
     },
     "metadata": {},
     "output_type": "display_data"
    },
    {
     "name": "stdout",
     "output_type": "stream",
     "text": [
      "Processing batch 479/1554\n"
     ]
    },
    {
     "data": {
      "application/vnd.jupyter.widget-view+json": {
       "model_id": "db69ec5c032647028cb4c436ba83b913",
       "version_major": 2,
       "version_minor": 0
      },
      "text/plain": [
       "Resizing images (rxrx3):   0%|          | 0/100 [00:00<?, ?it/s]"
      ]
     },
     "metadata": {},
     "output_type": "display_data"
    },
    {
     "name": "stdout",
     "output_type": "stream",
     "text": [
      "Processing batch 480/1554\n"
     ]
    },
    {
     "data": {
      "application/vnd.jupyter.widget-view+json": {
       "model_id": "90f42fcc969745b69af4a77dbbe86ae7",
       "version_major": 2,
       "version_minor": 0
      },
      "text/plain": [
       "Resizing images (rxrx3):   0%|          | 0/100 [00:00<?, ?it/s]"
      ]
     },
     "metadata": {},
     "output_type": "display_data"
    },
    {
     "name": "stdout",
     "output_type": "stream",
     "text": [
      "Processing batch 481/1554\n"
     ]
    },
    {
     "data": {
      "application/vnd.jupyter.widget-view+json": {
       "model_id": "7c718ba0c7fc442bad7074dfa70c1cfe",
       "version_major": 2,
       "version_minor": 0
      },
      "text/plain": [
       "Resizing images (rxrx3):   0%|          | 0/100 [00:00<?, ?it/s]"
      ]
     },
     "metadata": {},
     "output_type": "display_data"
    },
    {
     "name": "stdout",
     "output_type": "stream",
     "text": [
      "Processing batch 482/1554\n"
     ]
    },
    {
     "data": {
      "application/vnd.jupyter.widget-view+json": {
       "model_id": "385c66e3b2bf42b0b284df526e4ddc0d",
       "version_major": 2,
       "version_minor": 0
      },
      "text/plain": [
       "Resizing images (rxrx3):   0%|          | 0/100 [00:00<?, ?it/s]"
      ]
     },
     "metadata": {},
     "output_type": "display_data"
    },
    {
     "name": "stdout",
     "output_type": "stream",
     "text": [
      "Processing batch 483/1554\n"
     ]
    },
    {
     "data": {
      "application/vnd.jupyter.widget-view+json": {
       "model_id": "4cbef7b8148a4a3fac99a214b4d6a78f",
       "version_major": 2,
       "version_minor": 0
      },
      "text/plain": [
       "Resizing images (rxrx3):   0%|          | 0/100 [00:00<?, ?it/s]"
      ]
     },
     "metadata": {},
     "output_type": "display_data"
    },
    {
     "name": "stdout",
     "output_type": "stream",
     "text": [
      "Processing batch 484/1554\n"
     ]
    },
    {
     "data": {
      "application/vnd.jupyter.widget-view+json": {
       "model_id": "7aaed67f88414deea9a4efe8f57b35af",
       "version_major": 2,
       "version_minor": 0
      },
      "text/plain": [
       "Resizing images (rxrx3):   0%|          | 0/100 [00:00<?, ?it/s]"
      ]
     },
     "metadata": {},
     "output_type": "display_data"
    },
    {
     "name": "stdout",
     "output_type": "stream",
     "text": [
      "Processing batch 485/1554\n"
     ]
    },
    {
     "data": {
      "application/vnd.jupyter.widget-view+json": {
       "model_id": "a108541f78ec4969809f2d2760394e5f",
       "version_major": 2,
       "version_minor": 0
      },
      "text/plain": [
       "Resizing images (rxrx3):   0%|          | 0/100 [00:00<?, ?it/s]"
      ]
     },
     "metadata": {},
     "output_type": "display_data"
    },
    {
     "name": "stdout",
     "output_type": "stream",
     "text": [
      "Processing batch 486/1554\n"
     ]
    },
    {
     "data": {
      "application/vnd.jupyter.widget-view+json": {
       "model_id": "43129cd6395645ccaf7c68294ddf9489",
       "version_major": 2,
       "version_minor": 0
      },
      "text/plain": [
       "Resizing images (rxrx3):   0%|          | 0/100 [00:00<?, ?it/s]"
      ]
     },
     "metadata": {},
     "output_type": "display_data"
    },
    {
     "name": "stdout",
     "output_type": "stream",
     "text": [
      "Processing batch 487/1554\n"
     ]
    },
    {
     "data": {
      "application/vnd.jupyter.widget-view+json": {
       "model_id": "ae939b0f601e4b49aea7aba2f58d8ff0",
       "version_major": 2,
       "version_minor": 0
      },
      "text/plain": [
       "Resizing images (rxrx3):   0%|          | 0/100 [00:00<?, ?it/s]"
      ]
     },
     "metadata": {},
     "output_type": "display_data"
    },
    {
     "name": "stdout",
     "output_type": "stream",
     "text": [
      "Processing batch 488/1554\n"
     ]
    },
    {
     "data": {
      "application/vnd.jupyter.widget-view+json": {
       "model_id": "32381661dc6d4fc0a44c56a3f630f3a6",
       "version_major": 2,
       "version_minor": 0
      },
      "text/plain": [
       "Resizing images (rxrx3):   0%|          | 0/100 [00:00<?, ?it/s]"
      ]
     },
     "metadata": {},
     "output_type": "display_data"
    },
    {
     "name": "stdout",
     "output_type": "stream",
     "text": [
      "Processing batch 489/1554\n"
     ]
    },
    {
     "data": {
      "application/vnd.jupyter.widget-view+json": {
       "model_id": "8c9ade909fb44b0db57566439b3e80de",
       "version_major": 2,
       "version_minor": 0
      },
      "text/plain": [
       "Resizing images (rxrx3):   0%|          | 0/100 [00:00<?, ?it/s]"
      ]
     },
     "metadata": {},
     "output_type": "display_data"
    },
    {
     "name": "stdout",
     "output_type": "stream",
     "text": [
      "Processing batch 490/1554\n"
     ]
    },
    {
     "data": {
      "application/vnd.jupyter.widget-view+json": {
       "model_id": "e913e8740b284b20884689be3fb80c9e",
       "version_major": 2,
       "version_minor": 0
      },
      "text/plain": [
       "Resizing images (rxrx3):   0%|          | 0/100 [00:00<?, ?it/s]"
      ]
     },
     "metadata": {},
     "output_type": "display_data"
    },
    {
     "name": "stdout",
     "output_type": "stream",
     "text": [
      "Processing batch 491/1554\n"
     ]
    },
    {
     "data": {
      "application/vnd.jupyter.widget-view+json": {
       "model_id": "0b81045e48ed4b118bca9c522d6b8f95",
       "version_major": 2,
       "version_minor": 0
      },
      "text/plain": [
       "Resizing images (rxrx3):   0%|          | 0/100 [00:00<?, ?it/s]"
      ]
     },
     "metadata": {},
     "output_type": "display_data"
    },
    {
     "name": "stdout",
     "output_type": "stream",
     "text": [
      "Processing batch 492/1554\n"
     ]
    },
    {
     "data": {
      "application/vnd.jupyter.widget-view+json": {
       "model_id": "2f2d1913466a41b58b57524bf4c33538",
       "version_major": 2,
       "version_minor": 0
      },
      "text/plain": [
       "Resizing images (rxrx3):   0%|          | 0/100 [00:00<?, ?it/s]"
      ]
     },
     "metadata": {},
     "output_type": "display_data"
    },
    {
     "name": "stdout",
     "output_type": "stream",
     "text": [
      "Processing batch 493/1554\n"
     ]
    },
    {
     "data": {
      "application/vnd.jupyter.widget-view+json": {
       "model_id": "32ee9e1cf5504458bdfb3ff431c2be53",
       "version_major": 2,
       "version_minor": 0
      },
      "text/plain": [
       "Resizing images (rxrx3):   0%|          | 0/100 [00:00<?, ?it/s]"
      ]
     },
     "metadata": {},
     "output_type": "display_data"
    },
    {
     "name": "stdout",
     "output_type": "stream",
     "text": [
      "Processing batch 494/1554\n"
     ]
    },
    {
     "data": {
      "application/vnd.jupyter.widget-view+json": {
       "model_id": "832319f640b241a8bb9c9380b8897198",
       "version_major": 2,
       "version_minor": 0
      },
      "text/plain": [
       "Resizing images (rxrx3):   0%|          | 0/100 [00:00<?, ?it/s]"
      ]
     },
     "metadata": {},
     "output_type": "display_data"
    },
    {
     "name": "stdout",
     "output_type": "stream",
     "text": [
      "Processing batch 495/1554\n"
     ]
    },
    {
     "data": {
      "application/vnd.jupyter.widget-view+json": {
       "model_id": "dd74bb1b5a644fe4a82bdcae15e202b5",
       "version_major": 2,
       "version_minor": 0
      },
      "text/plain": [
       "Resizing images (rxrx3):   0%|          | 0/100 [00:00<?, ?it/s]"
      ]
     },
     "metadata": {},
     "output_type": "display_data"
    },
    {
     "name": "stdout",
     "output_type": "stream",
     "text": [
      "Processing batch 496/1554\n"
     ]
    },
    {
     "data": {
      "application/vnd.jupyter.widget-view+json": {
       "model_id": "d54f48e9cb8448c69515c9cbded31eb6",
       "version_major": 2,
       "version_minor": 0
      },
      "text/plain": [
       "Resizing images (rxrx3):   0%|          | 0/100 [00:00<?, ?it/s]"
      ]
     },
     "metadata": {},
     "output_type": "display_data"
    },
    {
     "name": "stdout",
     "output_type": "stream",
     "text": [
      "Processing batch 497/1554\n"
     ]
    },
    {
     "data": {
      "application/vnd.jupyter.widget-view+json": {
       "model_id": "1c03aa449a5641e3a1bb377403ae99dd",
       "version_major": 2,
       "version_minor": 0
      },
      "text/plain": [
       "Resizing images (rxrx3):   0%|          | 0/100 [00:00<?, ?it/s]"
      ]
     },
     "metadata": {},
     "output_type": "display_data"
    },
    {
     "name": "stdout",
     "output_type": "stream",
     "text": [
      "Processing batch 498/1554\n"
     ]
    },
    {
     "data": {
      "application/vnd.jupyter.widget-view+json": {
       "model_id": "e534516290b14182a21d5ca803be4b2e",
       "version_major": 2,
       "version_minor": 0
      },
      "text/plain": [
       "Resizing images (rxrx3):   0%|          | 0/100 [00:00<?, ?it/s]"
      ]
     },
     "metadata": {},
     "output_type": "display_data"
    },
    {
     "name": "stdout",
     "output_type": "stream",
     "text": [
      "Processing batch 499/1554\n"
     ]
    },
    {
     "data": {
      "application/vnd.jupyter.widget-view+json": {
       "model_id": "ddf19587d14e4ab2b3ea0f7b4d74a5c1",
       "version_major": 2,
       "version_minor": 0
      },
      "text/plain": [
       "Resizing images (rxrx3):   0%|          | 0/100 [00:00<?, ?it/s]"
      ]
     },
     "metadata": {},
     "output_type": "display_data"
    },
    {
     "name": "stdout",
     "output_type": "stream",
     "text": [
      "Processing batch 500/1554\n"
     ]
    },
    {
     "data": {
      "application/vnd.jupyter.widget-view+json": {
       "model_id": "a113a47c81dd4176ba7742d69f35c02c",
       "version_major": 2,
       "version_minor": 0
      },
      "text/plain": [
       "Resizing images (rxrx3):   0%|          | 0/100 [00:00<?, ?it/s]"
      ]
     },
     "metadata": {},
     "output_type": "display_data"
    },
    {
     "name": "stdout",
     "output_type": "stream",
     "text": [
      "Processing batch 501/1554\n"
     ]
    },
    {
     "data": {
      "application/vnd.jupyter.widget-view+json": {
       "model_id": "c03e627cccbd410c91baa46fa05db208",
       "version_major": 2,
       "version_minor": 0
      },
      "text/plain": [
       "Resizing images (rxrx3):   0%|          | 0/100 [00:00<?, ?it/s]"
      ]
     },
     "metadata": {},
     "output_type": "display_data"
    },
    {
     "name": "stdout",
     "output_type": "stream",
     "text": [
      "Processing batch 502/1554\n"
     ]
    },
    {
     "data": {
      "application/vnd.jupyter.widget-view+json": {
       "model_id": "2b488284462948a6a79e5d798752ad48",
       "version_major": 2,
       "version_minor": 0
      },
      "text/plain": [
       "Resizing images (rxrx3):   0%|          | 0/100 [00:00<?, ?it/s]"
      ]
     },
     "metadata": {},
     "output_type": "display_data"
    },
    {
     "name": "stdout",
     "output_type": "stream",
     "text": [
      "Processing batch 503/1554\n"
     ]
    },
    {
     "data": {
      "application/vnd.jupyter.widget-view+json": {
       "model_id": "5734a6ba822c4f03a609411998c30aaa",
       "version_major": 2,
       "version_minor": 0
      },
      "text/plain": [
       "Resizing images (rxrx3):   0%|          | 0/100 [00:00<?, ?it/s]"
      ]
     },
     "metadata": {},
     "output_type": "display_data"
    },
    {
     "name": "stdout",
     "output_type": "stream",
     "text": [
      "Processing batch 504/1554\n"
     ]
    },
    {
     "data": {
      "application/vnd.jupyter.widget-view+json": {
       "model_id": "38d5d12604fd428f8f373ae3d9a6e3c1",
       "version_major": 2,
       "version_minor": 0
      },
      "text/plain": [
       "Resizing images (rxrx3):   0%|          | 0/100 [00:00<?, ?it/s]"
      ]
     },
     "metadata": {},
     "output_type": "display_data"
    },
    {
     "name": "stdout",
     "output_type": "stream",
     "text": [
      "Processing batch 505/1554\n"
     ]
    },
    {
     "data": {
      "application/vnd.jupyter.widget-view+json": {
       "model_id": "c9122242e846486d960c907273b1d41d",
       "version_major": 2,
       "version_minor": 0
      },
      "text/plain": [
       "Resizing images (rxrx3):   0%|          | 0/100 [00:00<?, ?it/s]"
      ]
     },
     "metadata": {},
     "output_type": "display_data"
    },
    {
     "name": "stdout",
     "output_type": "stream",
     "text": [
      "Processing batch 506/1554\n"
     ]
    },
    {
     "data": {
      "application/vnd.jupyter.widget-view+json": {
       "model_id": "d96e080f44ac47ee9910ec36efba6544",
       "version_major": 2,
       "version_minor": 0
      },
      "text/plain": [
       "Resizing images (rxrx3):   0%|          | 0/100 [00:00<?, ?it/s]"
      ]
     },
     "metadata": {},
     "output_type": "display_data"
    },
    {
     "name": "stdout",
     "output_type": "stream",
     "text": [
      "Processing batch 507/1554\n"
     ]
    },
    {
     "data": {
      "application/vnd.jupyter.widget-view+json": {
       "model_id": "35160a9126f54ea6a8a0288d878fb01f",
       "version_major": 2,
       "version_minor": 0
      },
      "text/plain": [
       "Resizing images (rxrx3):   0%|          | 0/100 [00:00<?, ?it/s]"
      ]
     },
     "metadata": {},
     "output_type": "display_data"
    },
    {
     "name": "stdout",
     "output_type": "stream",
     "text": [
      "Processing batch 508/1554\n"
     ]
    },
    {
     "data": {
      "application/vnd.jupyter.widget-view+json": {
       "model_id": "80c71fec80b24d2fb1bc34c02609f490",
       "version_major": 2,
       "version_minor": 0
      },
      "text/plain": [
       "Resizing images (rxrx3):   0%|          | 0/100 [00:00<?, ?it/s]"
      ]
     },
     "metadata": {},
     "output_type": "display_data"
    },
    {
     "name": "stdout",
     "output_type": "stream",
     "text": [
      "Processing batch 509/1554\n"
     ]
    },
    {
     "data": {
      "application/vnd.jupyter.widget-view+json": {
       "model_id": "da21ebb8feb44780a3d5ff1411a3bcfb",
       "version_major": 2,
       "version_minor": 0
      },
      "text/plain": [
       "Resizing images (rxrx3):   0%|          | 0/100 [00:00<?, ?it/s]"
      ]
     },
     "metadata": {},
     "output_type": "display_data"
    },
    {
     "name": "stdout",
     "output_type": "stream",
     "text": [
      "Processing batch 510/1554\n"
     ]
    },
    {
     "data": {
      "application/vnd.jupyter.widget-view+json": {
       "model_id": "f213989e6cf5493a83632b81aa82567c",
       "version_major": 2,
       "version_minor": 0
      },
      "text/plain": [
       "Resizing images (rxrx3):   0%|          | 0/100 [00:00<?, ?it/s]"
      ]
     },
     "metadata": {},
     "output_type": "display_data"
    },
    {
     "name": "stdout",
     "output_type": "stream",
     "text": [
      "Processing batch 511/1554\n"
     ]
    },
    {
     "data": {
      "application/vnd.jupyter.widget-view+json": {
       "model_id": "6822d0e963cd46fca7703adc697abaab",
       "version_major": 2,
       "version_minor": 0
      },
      "text/plain": [
       "Resizing images (rxrx3):   0%|          | 0/100 [00:00<?, ?it/s]"
      ]
     },
     "metadata": {},
     "output_type": "display_data"
    },
    {
     "name": "stdout",
     "output_type": "stream",
     "text": [
      "Processing batch 512/1554\n"
     ]
    },
    {
     "data": {
      "application/vnd.jupyter.widget-view+json": {
       "model_id": "c15e923b0d994d81a4123ed90f619f91",
       "version_major": 2,
       "version_minor": 0
      },
      "text/plain": [
       "Resizing images (rxrx3):   0%|          | 0/100 [00:00<?, ?it/s]"
      ]
     },
     "metadata": {},
     "output_type": "display_data"
    },
    {
     "name": "stdout",
     "output_type": "stream",
     "text": [
      "Processing batch 513/1554\n"
     ]
    },
    {
     "data": {
      "application/vnd.jupyter.widget-view+json": {
       "model_id": "9d959d61ab664fa0bc7cea9f86dc0eb8",
       "version_major": 2,
       "version_minor": 0
      },
      "text/plain": [
       "Resizing images (rxrx3):   0%|          | 0/100 [00:00<?, ?it/s]"
      ]
     },
     "metadata": {},
     "output_type": "display_data"
    },
    {
     "name": "stdout",
     "output_type": "stream",
     "text": [
      "Processing batch 514/1554\n"
     ]
    },
    {
     "data": {
      "application/vnd.jupyter.widget-view+json": {
       "model_id": "381acba21260436e928dc7cc786d9eb8",
       "version_major": 2,
       "version_minor": 0
      },
      "text/plain": [
       "Resizing images (rxrx3):   0%|          | 0/100 [00:00<?, ?it/s]"
      ]
     },
     "metadata": {},
     "output_type": "display_data"
    },
    {
     "name": "stdout",
     "output_type": "stream",
     "text": [
      "Processing batch 515/1554\n"
     ]
    },
    {
     "data": {
      "application/vnd.jupyter.widget-view+json": {
       "model_id": "32e1585a6b6249309d789773a42640b6",
       "version_major": 2,
       "version_minor": 0
      },
      "text/plain": [
       "Resizing images (rxrx3):   0%|          | 0/100 [00:00<?, ?it/s]"
      ]
     },
     "metadata": {},
     "output_type": "display_data"
    },
    {
     "name": "stdout",
     "output_type": "stream",
     "text": [
      "Processing batch 516/1554\n"
     ]
    },
    {
     "data": {
      "application/vnd.jupyter.widget-view+json": {
       "model_id": "e6ade26096444965918b62fb4035d2ba",
       "version_major": 2,
       "version_minor": 0
      },
      "text/plain": [
       "Resizing images (rxrx3):   0%|          | 0/100 [00:00<?, ?it/s]"
      ]
     },
     "metadata": {},
     "output_type": "display_data"
    },
    {
     "name": "stdout",
     "output_type": "stream",
     "text": [
      "Processing batch 517/1554\n"
     ]
    },
    {
     "data": {
      "application/vnd.jupyter.widget-view+json": {
       "model_id": "c56057c968f443e8a3302f83f7dc0d4b",
       "version_major": 2,
       "version_minor": 0
      },
      "text/plain": [
       "Resizing images (rxrx3):   0%|          | 0/100 [00:00<?, ?it/s]"
      ]
     },
     "metadata": {},
     "output_type": "display_data"
    },
    {
     "name": "stdout",
     "output_type": "stream",
     "text": [
      "Processing batch 518/1554\n"
     ]
    },
    {
     "data": {
      "application/vnd.jupyter.widget-view+json": {
       "model_id": "810bd7fcfae042d8a9151bfa278f6b01",
       "version_major": 2,
       "version_minor": 0
      },
      "text/plain": [
       "Resizing images (rxrx3):   0%|          | 0/100 [00:00<?, ?it/s]"
      ]
     },
     "metadata": {},
     "output_type": "display_data"
    },
    {
     "name": "stdout",
     "output_type": "stream",
     "text": [
      "Processing batch 519/1554\n"
     ]
    },
    {
     "data": {
      "application/vnd.jupyter.widget-view+json": {
       "model_id": "96e657c359c445f6b81c4327bb18a2ef",
       "version_major": 2,
       "version_minor": 0
      },
      "text/plain": [
       "Resizing images (rxrx3):   0%|          | 0/100 [00:00<?, ?it/s]"
      ]
     },
     "metadata": {},
     "output_type": "display_data"
    },
    {
     "name": "stdout",
     "output_type": "stream",
     "text": [
      "Processing batch 520/1554\n"
     ]
    },
    {
     "data": {
      "application/vnd.jupyter.widget-view+json": {
       "model_id": "75af495e1af04619a2e2076a62f4734a",
       "version_major": 2,
       "version_minor": 0
      },
      "text/plain": [
       "Resizing images (rxrx3):   0%|          | 0/100 [00:00<?, ?it/s]"
      ]
     },
     "metadata": {},
     "output_type": "display_data"
    },
    {
     "name": "stdout",
     "output_type": "stream",
     "text": [
      "Processing batch 521/1554\n"
     ]
    },
    {
     "data": {
      "application/vnd.jupyter.widget-view+json": {
       "model_id": "32f786c2a4644c7182aaa87436721679",
       "version_major": 2,
       "version_minor": 0
      },
      "text/plain": [
       "Resizing images (rxrx3):   0%|          | 0/100 [00:00<?, ?it/s]"
      ]
     },
     "metadata": {},
     "output_type": "display_data"
    },
    {
     "name": "stdout",
     "output_type": "stream",
     "text": [
      "Processing batch 522/1554\n"
     ]
    },
    {
     "data": {
      "application/vnd.jupyter.widget-view+json": {
       "model_id": "de88c9e6ff76412ea378775849d4241f",
       "version_major": 2,
       "version_minor": 0
      },
      "text/plain": [
       "Resizing images (rxrx3):   0%|          | 0/100 [00:00<?, ?it/s]"
      ]
     },
     "metadata": {},
     "output_type": "display_data"
    },
    {
     "name": "stdout",
     "output_type": "stream",
     "text": [
      "Processing batch 523/1554\n"
     ]
    },
    {
     "data": {
      "application/vnd.jupyter.widget-view+json": {
       "model_id": "9ffb4abc6e394585b215998863629b4c",
       "version_major": 2,
       "version_minor": 0
      },
      "text/plain": [
       "Resizing images (rxrx3):   0%|          | 0/100 [00:00<?, ?it/s]"
      ]
     },
     "metadata": {},
     "output_type": "display_data"
    },
    {
     "name": "stdout",
     "output_type": "stream",
     "text": [
      "Processing batch 524/1554\n"
     ]
    },
    {
     "data": {
      "application/vnd.jupyter.widget-view+json": {
       "model_id": "b908780de35e4ab6a046f5fe1bfbf325",
       "version_major": 2,
       "version_minor": 0
      },
      "text/plain": [
       "Resizing images (rxrx3):   0%|          | 0/100 [00:00<?, ?it/s]"
      ]
     },
     "metadata": {},
     "output_type": "display_data"
    },
    {
     "name": "stdout",
     "output_type": "stream",
     "text": [
      "Processing batch 525/1554\n"
     ]
    },
    {
     "data": {
      "application/vnd.jupyter.widget-view+json": {
       "model_id": "d0a42e6ceda346fab1b3a5f9b64191ad",
       "version_major": 2,
       "version_minor": 0
      },
      "text/plain": [
       "Resizing images (rxrx3):   0%|          | 0/100 [00:00<?, ?it/s]"
      ]
     },
     "metadata": {},
     "output_type": "display_data"
    },
    {
     "name": "stdout",
     "output_type": "stream",
     "text": [
      "Processing batch 526/1554\n"
     ]
    },
    {
     "data": {
      "application/vnd.jupyter.widget-view+json": {
       "model_id": "373d2695b6f64281935902ad5d82fd82",
       "version_major": 2,
       "version_minor": 0
      },
      "text/plain": [
       "Resizing images (rxrx3):   0%|          | 0/100 [00:00<?, ?it/s]"
      ]
     },
     "metadata": {},
     "output_type": "display_data"
    },
    {
     "name": "stdout",
     "output_type": "stream",
     "text": [
      "Processing batch 527/1554\n"
     ]
    },
    {
     "data": {
      "application/vnd.jupyter.widget-view+json": {
       "model_id": "f92c5ade53824067bb08f7592289f66c",
       "version_major": 2,
       "version_minor": 0
      },
      "text/plain": [
       "Resizing images (rxrx3):   0%|          | 0/100 [00:00<?, ?it/s]"
      ]
     },
     "metadata": {},
     "output_type": "display_data"
    },
    {
     "name": "stdout",
     "output_type": "stream",
     "text": [
      "Processing batch 528/1554\n"
     ]
    },
    {
     "data": {
      "application/vnd.jupyter.widget-view+json": {
       "model_id": "69053f24b0004da1801a6eee944e72d0",
       "version_major": 2,
       "version_minor": 0
      },
      "text/plain": [
       "Resizing images (rxrx3):   0%|          | 0/100 [00:00<?, ?it/s]"
      ]
     },
     "metadata": {},
     "output_type": "display_data"
    },
    {
     "name": "stdout",
     "output_type": "stream",
     "text": [
      "Processing batch 529/1554\n"
     ]
    },
    {
     "data": {
      "application/vnd.jupyter.widget-view+json": {
       "model_id": "6d51b00145c34d84ac2b8662cc222228",
       "version_major": 2,
       "version_minor": 0
      },
      "text/plain": [
       "Resizing images (rxrx3):   0%|          | 0/100 [00:00<?, ?it/s]"
      ]
     },
     "metadata": {},
     "output_type": "display_data"
    },
    {
     "name": "stdout",
     "output_type": "stream",
     "text": [
      "Processing batch 530/1554\n"
     ]
    },
    {
     "data": {
      "application/vnd.jupyter.widget-view+json": {
       "model_id": "64654e0f534e42deb8e7e633c70460b4",
       "version_major": 2,
       "version_minor": 0
      },
      "text/plain": [
       "Resizing images (rxrx3):   0%|          | 0/100 [00:00<?, ?it/s]"
      ]
     },
     "metadata": {},
     "output_type": "display_data"
    },
    {
     "name": "stdout",
     "output_type": "stream",
     "text": [
      "Processing batch 531/1554\n"
     ]
    },
    {
     "data": {
      "application/vnd.jupyter.widget-view+json": {
       "model_id": "49dfc6e37aa445deaac38a9bb69004dd",
       "version_major": 2,
       "version_minor": 0
      },
      "text/plain": [
       "Resizing images (rxrx3):   0%|          | 0/100 [00:00<?, ?it/s]"
      ]
     },
     "metadata": {},
     "output_type": "display_data"
    },
    {
     "name": "stdout",
     "output_type": "stream",
     "text": [
      "Processing batch 532/1554\n"
     ]
    },
    {
     "data": {
      "application/vnd.jupyter.widget-view+json": {
       "model_id": "ca2f21383e834b8297acec9d5d34b903",
       "version_major": 2,
       "version_minor": 0
      },
      "text/plain": [
       "Resizing images (rxrx3):   0%|          | 0/100 [00:00<?, ?it/s]"
      ]
     },
     "metadata": {},
     "output_type": "display_data"
    },
    {
     "name": "stdout",
     "output_type": "stream",
     "text": [
      "Processing batch 533/1554\n"
     ]
    },
    {
     "data": {
      "application/vnd.jupyter.widget-view+json": {
       "model_id": "4ae40e1eb62e412ca80b555891664ca4",
       "version_major": 2,
       "version_minor": 0
      },
      "text/plain": [
       "Resizing images (rxrx3):   0%|          | 0/100 [00:00<?, ?it/s]"
      ]
     },
     "metadata": {},
     "output_type": "display_data"
    },
    {
     "name": "stdout",
     "output_type": "stream",
     "text": [
      "Processing batch 534/1554\n"
     ]
    },
    {
     "data": {
      "application/vnd.jupyter.widget-view+json": {
       "model_id": "dea3e0444c6840b28a9945f7e1780227",
       "version_major": 2,
       "version_minor": 0
      },
      "text/plain": [
       "Resizing images (rxrx3):   0%|          | 0/100 [00:00<?, ?it/s]"
      ]
     },
     "metadata": {},
     "output_type": "display_data"
    },
    {
     "name": "stdout",
     "output_type": "stream",
     "text": [
      "Processing batch 535/1554\n"
     ]
    },
    {
     "data": {
      "application/vnd.jupyter.widget-view+json": {
       "model_id": "b1c43a6b0f39430fae082c614df3b488",
       "version_major": 2,
       "version_minor": 0
      },
      "text/plain": [
       "Resizing images (rxrx3):   0%|          | 0/100 [00:00<?, ?it/s]"
      ]
     },
     "metadata": {},
     "output_type": "display_data"
    },
    {
     "name": "stdout",
     "output_type": "stream",
     "text": [
      "Processing batch 536/1554\n"
     ]
    },
    {
     "data": {
      "application/vnd.jupyter.widget-view+json": {
       "model_id": "128d4b06703e45828a9dc4364f17e33c",
       "version_major": 2,
       "version_minor": 0
      },
      "text/plain": [
       "Resizing images (rxrx3):   0%|          | 0/100 [00:00<?, ?it/s]"
      ]
     },
     "metadata": {},
     "output_type": "display_data"
    },
    {
     "name": "stdout",
     "output_type": "stream",
     "text": [
      "Processing batch 537/1554\n"
     ]
    },
    {
     "data": {
      "application/vnd.jupyter.widget-view+json": {
       "model_id": "73808757045d4697b819719b4b2f24d9",
       "version_major": 2,
       "version_minor": 0
      },
      "text/plain": [
       "Resizing images (rxrx3):   0%|          | 0/100 [00:00<?, ?it/s]"
      ]
     },
     "metadata": {},
     "output_type": "display_data"
    },
    {
     "name": "stdout",
     "output_type": "stream",
     "text": [
      "Processing batch 538/1554\n"
     ]
    },
    {
     "data": {
      "application/vnd.jupyter.widget-view+json": {
       "model_id": "6d4e6be531eb42cb8c4b14aa406ef583",
       "version_major": 2,
       "version_minor": 0
      },
      "text/plain": [
       "Resizing images (rxrx3):   0%|          | 0/100 [00:00<?, ?it/s]"
      ]
     },
     "metadata": {},
     "output_type": "display_data"
    },
    {
     "name": "stdout",
     "output_type": "stream",
     "text": [
      "Processing batch 539/1554\n"
     ]
    },
    {
     "data": {
      "application/vnd.jupyter.widget-view+json": {
       "model_id": "e11525c242de4f5e94f5beac731b0638",
       "version_major": 2,
       "version_minor": 0
      },
      "text/plain": [
       "Resizing images (rxrx3):   0%|          | 0/100 [00:00<?, ?it/s]"
      ]
     },
     "metadata": {},
     "output_type": "display_data"
    },
    {
     "name": "stdout",
     "output_type": "stream",
     "text": [
      "Processing batch 540/1554\n"
     ]
    },
    {
     "data": {
      "application/vnd.jupyter.widget-view+json": {
       "model_id": "e21fbdfa04e34e0991bfb2542ef8b85a",
       "version_major": 2,
       "version_minor": 0
      },
      "text/plain": [
       "Resizing images (rxrx3):   0%|          | 0/100 [00:00<?, ?it/s]"
      ]
     },
     "metadata": {},
     "output_type": "display_data"
    },
    {
     "name": "stdout",
     "output_type": "stream",
     "text": [
      "Processing batch 541/1554\n"
     ]
    },
    {
     "data": {
      "application/vnd.jupyter.widget-view+json": {
       "model_id": "2abc0da21dec4d319ccc81c2e690eb8b",
       "version_major": 2,
       "version_minor": 0
      },
      "text/plain": [
       "Resizing images (rxrx3):   0%|          | 0/100 [00:00<?, ?it/s]"
      ]
     },
     "metadata": {},
     "output_type": "display_data"
    },
    {
     "name": "stdout",
     "output_type": "stream",
     "text": [
      "Processing batch 542/1554\n"
     ]
    },
    {
     "data": {
      "application/vnd.jupyter.widget-view+json": {
       "model_id": "7c39e0bad98940f8bddf1196400a2ac1",
       "version_major": 2,
       "version_minor": 0
      },
      "text/plain": [
       "Resizing images (rxrx3):   0%|          | 0/100 [00:00<?, ?it/s]"
      ]
     },
     "metadata": {},
     "output_type": "display_data"
    },
    {
     "name": "stdout",
     "output_type": "stream",
     "text": [
      "Processing batch 543/1554\n"
     ]
    },
    {
     "data": {
      "application/vnd.jupyter.widget-view+json": {
       "model_id": "f835d0c0672e499abd5cb6ea2d7881fb",
       "version_major": 2,
       "version_minor": 0
      },
      "text/plain": [
       "Resizing images (rxrx3):   0%|          | 0/100 [00:00<?, ?it/s]"
      ]
     },
     "metadata": {},
     "output_type": "display_data"
    },
    {
     "name": "stdout",
     "output_type": "stream",
     "text": [
      "Processing batch 544/1554\n"
     ]
    },
    {
     "data": {
      "application/vnd.jupyter.widget-view+json": {
       "model_id": "88a3aa3f299041f3bafd9bc302f9f61c",
       "version_major": 2,
       "version_minor": 0
      },
      "text/plain": [
       "Resizing images (rxrx3):   0%|          | 0/100 [00:00<?, ?it/s]"
      ]
     },
     "metadata": {},
     "output_type": "display_data"
    },
    {
     "name": "stdout",
     "output_type": "stream",
     "text": [
      "Processing batch 545/1554\n"
     ]
    },
    {
     "data": {
      "application/vnd.jupyter.widget-view+json": {
       "model_id": "77508c0eb5ba4b3092be93a6f13635e1",
       "version_major": 2,
       "version_minor": 0
      },
      "text/plain": [
       "Resizing images (rxrx3):   0%|          | 0/100 [00:00<?, ?it/s]"
      ]
     },
     "metadata": {},
     "output_type": "display_data"
    },
    {
     "name": "stdout",
     "output_type": "stream",
     "text": [
      "Processing batch 546/1554\n"
     ]
    },
    {
     "data": {
      "application/vnd.jupyter.widget-view+json": {
       "model_id": "8892bc0909a9474dabfdddf14e1bb844",
       "version_major": 2,
       "version_minor": 0
      },
      "text/plain": [
       "Resizing images (rxrx3):   0%|          | 0/100 [00:00<?, ?it/s]"
      ]
     },
     "metadata": {},
     "output_type": "display_data"
    },
    {
     "name": "stdout",
     "output_type": "stream",
     "text": [
      "Processing batch 547/1554\n"
     ]
    },
    {
     "data": {
      "application/vnd.jupyter.widget-view+json": {
       "model_id": "500e9a22ea1e4a3d83dc778e0ae64b32",
       "version_major": 2,
       "version_minor": 0
      },
      "text/plain": [
       "Resizing images (rxrx3):   0%|          | 0/100 [00:00<?, ?it/s]"
      ]
     },
     "metadata": {},
     "output_type": "display_data"
    },
    {
     "name": "stdout",
     "output_type": "stream",
     "text": [
      "Processing batch 548/1554\n"
     ]
    },
    {
     "data": {
      "application/vnd.jupyter.widget-view+json": {
       "model_id": "f91db88395894721a69540a7b27aa0e4",
       "version_major": 2,
       "version_minor": 0
      },
      "text/plain": [
       "Resizing images (rxrx3):   0%|          | 0/100 [00:00<?, ?it/s]"
      ]
     },
     "metadata": {},
     "output_type": "display_data"
    },
    {
     "name": "stdout",
     "output_type": "stream",
     "text": [
      "Processing batch 549/1554\n"
     ]
    },
    {
     "data": {
      "application/vnd.jupyter.widget-view+json": {
       "model_id": "f3683cc45ece4705ab9b542c1d96fd80",
       "version_major": 2,
       "version_minor": 0
      },
      "text/plain": [
       "Resizing images (rxrx3):   0%|          | 0/100 [00:00<?, ?it/s]"
      ]
     },
     "metadata": {},
     "output_type": "display_data"
    },
    {
     "name": "stdout",
     "output_type": "stream",
     "text": [
      "Processing batch 550/1554\n"
     ]
    },
    {
     "data": {
      "application/vnd.jupyter.widget-view+json": {
       "model_id": "ea0613c310c44bc5b8fca4acb5c7b4be",
       "version_major": 2,
       "version_minor": 0
      },
      "text/plain": [
       "Resizing images (rxrx3):   0%|          | 0/100 [00:00<?, ?it/s]"
      ]
     },
     "metadata": {},
     "output_type": "display_data"
    },
    {
     "name": "stdout",
     "output_type": "stream",
     "text": [
      "Processing batch 551/1554\n"
     ]
    },
    {
     "data": {
      "application/vnd.jupyter.widget-view+json": {
       "model_id": "32a7f5ad814b4151bb200676aa185d05",
       "version_major": 2,
       "version_minor": 0
      },
      "text/plain": [
       "Resizing images (rxrx3):   0%|          | 0/100 [00:00<?, ?it/s]"
      ]
     },
     "metadata": {},
     "output_type": "display_data"
    },
    {
     "name": "stdout",
     "output_type": "stream",
     "text": [
      "Processing batch 552/1554\n"
     ]
    },
    {
     "data": {
      "application/vnd.jupyter.widget-view+json": {
       "model_id": "8092bac0684941af87aae44814eb0874",
       "version_major": 2,
       "version_minor": 0
      },
      "text/plain": [
       "Resizing images (rxrx3):   0%|          | 0/100 [00:00<?, ?it/s]"
      ]
     },
     "metadata": {},
     "output_type": "display_data"
    },
    {
     "name": "stdout",
     "output_type": "stream",
     "text": [
      "Processing batch 553/1554\n"
     ]
    },
    {
     "data": {
      "application/vnd.jupyter.widget-view+json": {
       "model_id": "2f4dc46cd9234c28bdc4e6ce7c86e481",
       "version_major": 2,
       "version_minor": 0
      },
      "text/plain": [
       "Resizing images (rxrx3):   0%|          | 0/100 [00:00<?, ?it/s]"
      ]
     },
     "metadata": {},
     "output_type": "display_data"
    },
    {
     "name": "stdout",
     "output_type": "stream",
     "text": [
      "Processing batch 554/1554\n"
     ]
    },
    {
     "data": {
      "application/vnd.jupyter.widget-view+json": {
       "model_id": "7f61516bdb0548ad9653c64a0ffbea5b",
       "version_major": 2,
       "version_minor": 0
      },
      "text/plain": [
       "Resizing images (rxrx3):   0%|          | 0/100 [00:00<?, ?it/s]"
      ]
     },
     "metadata": {},
     "output_type": "display_data"
    },
    {
     "name": "stdout",
     "output_type": "stream",
     "text": [
      "Processing batch 555/1554\n"
     ]
    },
    {
     "data": {
      "application/vnd.jupyter.widget-view+json": {
       "model_id": "08502f7eb8344973b04a7875adab03d8",
       "version_major": 2,
       "version_minor": 0
      },
      "text/plain": [
       "Resizing images (rxrx3):   0%|          | 0/100 [00:00<?, ?it/s]"
      ]
     },
     "metadata": {},
     "output_type": "display_data"
    },
    {
     "name": "stdout",
     "output_type": "stream",
     "text": [
      "Processing batch 556/1554\n"
     ]
    },
    {
     "data": {
      "application/vnd.jupyter.widget-view+json": {
       "model_id": "b29e352539944db589d51f55fbbbc2b3",
       "version_major": 2,
       "version_minor": 0
      },
      "text/plain": [
       "Resizing images (rxrx3):   0%|          | 0/100 [00:00<?, ?it/s]"
      ]
     },
     "metadata": {},
     "output_type": "display_data"
    },
    {
     "name": "stdout",
     "output_type": "stream",
     "text": [
      "Processing batch 557/1554\n"
     ]
    },
    {
     "data": {
      "application/vnd.jupyter.widget-view+json": {
       "model_id": "3247f3c511c049ec836d0e9772a96ccd",
       "version_major": 2,
       "version_minor": 0
      },
      "text/plain": [
       "Resizing images (rxrx3):   0%|          | 0/100 [00:00<?, ?it/s]"
      ]
     },
     "metadata": {},
     "output_type": "display_data"
    },
    {
     "name": "stdout",
     "output_type": "stream",
     "text": [
      "Processing batch 558/1554\n"
     ]
    },
    {
     "data": {
      "application/vnd.jupyter.widget-view+json": {
       "model_id": "86071722b9fc42c89b07b24b461f6c4c",
       "version_major": 2,
       "version_minor": 0
      },
      "text/plain": [
       "Resizing images (rxrx3):   0%|          | 0/100 [00:00<?, ?it/s]"
      ]
     },
     "metadata": {},
     "output_type": "display_data"
    },
    {
     "name": "stdout",
     "output_type": "stream",
     "text": [
      "Processing batch 559/1554\n"
     ]
    },
    {
     "data": {
      "application/vnd.jupyter.widget-view+json": {
       "model_id": "d99bd6ba993943d4a6ce9edb87f040e4",
       "version_major": 2,
       "version_minor": 0
      },
      "text/plain": [
       "Resizing images (rxrx3):   0%|          | 0/100 [00:00<?, ?it/s]"
      ]
     },
     "metadata": {},
     "output_type": "display_data"
    },
    {
     "name": "stdout",
     "output_type": "stream",
     "text": [
      "Processing batch 560/1554\n"
     ]
    },
    {
     "data": {
      "application/vnd.jupyter.widget-view+json": {
       "model_id": "33bb50c19b524975afb54083ac30aa5d",
       "version_major": 2,
       "version_minor": 0
      },
      "text/plain": [
       "Resizing images (rxrx3):   0%|          | 0/100 [00:00<?, ?it/s]"
      ]
     },
     "metadata": {},
     "output_type": "display_data"
    },
    {
     "name": "stdout",
     "output_type": "stream",
     "text": [
      "Processing batch 561/1554\n"
     ]
    },
    {
     "data": {
      "application/vnd.jupyter.widget-view+json": {
       "model_id": "62faf69294274d8aadd446166503c980",
       "version_major": 2,
       "version_minor": 0
      },
      "text/plain": [
       "Resizing images (rxrx3):   0%|          | 0/100 [00:00<?, ?it/s]"
      ]
     },
     "metadata": {},
     "output_type": "display_data"
    },
    {
     "name": "stdout",
     "output_type": "stream",
     "text": [
      "Processing batch 562/1554\n"
     ]
    },
    {
     "data": {
      "application/vnd.jupyter.widget-view+json": {
       "model_id": "28b052ec5fd1404f828f1600c7e015ca",
       "version_major": 2,
       "version_minor": 0
      },
      "text/plain": [
       "Resizing images (rxrx3):   0%|          | 0/100 [00:00<?, ?it/s]"
      ]
     },
     "metadata": {},
     "output_type": "display_data"
    },
    {
     "name": "stdout",
     "output_type": "stream",
     "text": [
      "Processing batch 563/1554\n"
     ]
    },
    {
     "data": {
      "application/vnd.jupyter.widget-view+json": {
       "model_id": "b4a0329ce0cf4afba29bac5e13396a07",
       "version_major": 2,
       "version_minor": 0
      },
      "text/plain": [
       "Resizing images (rxrx3):   0%|          | 0/100 [00:00<?, ?it/s]"
      ]
     },
     "metadata": {},
     "output_type": "display_data"
    },
    {
     "name": "stdout",
     "output_type": "stream",
     "text": [
      "Processing batch 564/1554\n"
     ]
    },
    {
     "data": {
      "application/vnd.jupyter.widget-view+json": {
       "model_id": "37f47e7d629d4d14be935b4d0bf1ba54",
       "version_major": 2,
       "version_minor": 0
      },
      "text/plain": [
       "Resizing images (rxrx3):   0%|          | 0/100 [00:00<?, ?it/s]"
      ]
     },
     "metadata": {},
     "output_type": "display_data"
    },
    {
     "name": "stdout",
     "output_type": "stream",
     "text": [
      "Processing batch 565/1554\n"
     ]
    },
    {
     "data": {
      "application/vnd.jupyter.widget-view+json": {
       "model_id": "3cbe322f07a146eab98728e679e08228",
       "version_major": 2,
       "version_minor": 0
      },
      "text/plain": [
       "Resizing images (rxrx3):   0%|          | 0/100 [00:00<?, ?it/s]"
      ]
     },
     "metadata": {},
     "output_type": "display_data"
    },
    {
     "name": "stdout",
     "output_type": "stream",
     "text": [
      "Processing batch 566/1554\n"
     ]
    },
    {
     "data": {
      "application/vnd.jupyter.widget-view+json": {
       "model_id": "800dc34ddd294940877b0bffd69d6685",
       "version_major": 2,
       "version_minor": 0
      },
      "text/plain": [
       "Resizing images (rxrx3):   0%|          | 0/100 [00:00<?, ?it/s]"
      ]
     },
     "metadata": {},
     "output_type": "display_data"
    },
    {
     "name": "stdout",
     "output_type": "stream",
     "text": [
      "Processing batch 567/1554\n"
     ]
    },
    {
     "data": {
      "application/vnd.jupyter.widget-view+json": {
       "model_id": "da194241f1f04255846e756864fd9891",
       "version_major": 2,
       "version_minor": 0
      },
      "text/plain": [
       "Resizing images (rxrx3):   0%|          | 0/100 [00:00<?, ?it/s]"
      ]
     },
     "metadata": {},
     "output_type": "display_data"
    },
    {
     "name": "stdout",
     "output_type": "stream",
     "text": [
      "Processing batch 568/1554\n"
     ]
    },
    {
     "data": {
      "application/vnd.jupyter.widget-view+json": {
       "model_id": "c169b664b3c84f80b537991212a88bab",
       "version_major": 2,
       "version_minor": 0
      },
      "text/plain": [
       "Resizing images (rxrx3):   0%|          | 0/100 [00:00<?, ?it/s]"
      ]
     },
     "metadata": {},
     "output_type": "display_data"
    },
    {
     "name": "stdout",
     "output_type": "stream",
     "text": [
      "Processing batch 569/1554\n"
     ]
    },
    {
     "data": {
      "application/vnd.jupyter.widget-view+json": {
       "model_id": "5e19ed95e4814b098f29a35e0223d2ec",
       "version_major": 2,
       "version_minor": 0
      },
      "text/plain": [
       "Resizing images (rxrx3):   0%|          | 0/100 [00:00<?, ?it/s]"
      ]
     },
     "metadata": {},
     "output_type": "display_data"
    },
    {
     "name": "stdout",
     "output_type": "stream",
     "text": [
      "Processing batch 570/1554\n"
     ]
    },
    {
     "data": {
      "application/vnd.jupyter.widget-view+json": {
       "model_id": "c296ffbeb38f40afb12995068f01bd42",
       "version_major": 2,
       "version_minor": 0
      },
      "text/plain": [
       "Resizing images (rxrx3):   0%|          | 0/100 [00:00<?, ?it/s]"
      ]
     },
     "metadata": {},
     "output_type": "display_data"
    },
    {
     "name": "stdout",
     "output_type": "stream",
     "text": [
      "Processing batch 571/1554\n"
     ]
    },
    {
     "data": {
      "application/vnd.jupyter.widget-view+json": {
       "model_id": "6dd485f21f4949efb12337648bcc69d3",
       "version_major": 2,
       "version_minor": 0
      },
      "text/plain": [
       "Resizing images (rxrx3):   0%|          | 0/100 [00:00<?, ?it/s]"
      ]
     },
     "metadata": {},
     "output_type": "display_data"
    },
    {
     "name": "stdout",
     "output_type": "stream",
     "text": [
      "Processing batch 572/1554\n"
     ]
    },
    {
     "data": {
      "application/vnd.jupyter.widget-view+json": {
       "model_id": "5bb6a0cc30aa481fafa09ef4b4d92b38",
       "version_major": 2,
       "version_minor": 0
      },
      "text/plain": [
       "Resizing images (rxrx3):   0%|          | 0/100 [00:00<?, ?it/s]"
      ]
     },
     "metadata": {},
     "output_type": "display_data"
    },
    {
     "name": "stdout",
     "output_type": "stream",
     "text": [
      "Processing batch 573/1554\n"
     ]
    },
    {
     "data": {
      "application/vnd.jupyter.widget-view+json": {
       "model_id": "21bee1ccfbf7412ea4efbb32f0caf822",
       "version_major": 2,
       "version_minor": 0
      },
      "text/plain": [
       "Resizing images (rxrx3):   0%|          | 0/100 [00:00<?, ?it/s]"
      ]
     },
     "metadata": {},
     "output_type": "display_data"
    },
    {
     "name": "stdout",
     "output_type": "stream",
     "text": [
      "Processing batch 574/1554\n"
     ]
    },
    {
     "data": {
      "application/vnd.jupyter.widget-view+json": {
       "model_id": "f35cc7a060b54cfd916499ed671a670d",
       "version_major": 2,
       "version_minor": 0
      },
      "text/plain": [
       "Resizing images (rxrx3):   0%|          | 0/100 [00:00<?, ?it/s]"
      ]
     },
     "metadata": {},
     "output_type": "display_data"
    },
    {
     "name": "stdout",
     "output_type": "stream",
     "text": [
      "Processing batch 575/1554\n"
     ]
    },
    {
     "data": {
      "application/vnd.jupyter.widget-view+json": {
       "model_id": "21db939729d24a98ad79626fe74331f9",
       "version_major": 2,
       "version_minor": 0
      },
      "text/plain": [
       "Resizing images (rxrx3):   0%|          | 0/100 [00:00<?, ?it/s]"
      ]
     },
     "metadata": {},
     "output_type": "display_data"
    },
    {
     "name": "stdout",
     "output_type": "stream",
     "text": [
      "Processing batch 576/1554\n"
     ]
    },
    {
     "data": {
      "application/vnd.jupyter.widget-view+json": {
       "model_id": "3e733ef100574a18bb531a971c3dc5ae",
       "version_major": 2,
       "version_minor": 0
      },
      "text/plain": [
       "Resizing images (rxrx3):   0%|          | 0/100 [00:00<?, ?it/s]"
      ]
     },
     "metadata": {},
     "output_type": "display_data"
    },
    {
     "name": "stdout",
     "output_type": "stream",
     "text": [
      "Processing batch 577/1554\n"
     ]
    },
    {
     "data": {
      "application/vnd.jupyter.widget-view+json": {
       "model_id": "9c22421569154f0eb2d7a3f44df6c85c",
       "version_major": 2,
       "version_minor": 0
      },
      "text/plain": [
       "Resizing images (rxrx3):   0%|          | 0/100 [00:00<?, ?it/s]"
      ]
     },
     "metadata": {},
     "output_type": "display_data"
    },
    {
     "name": "stdout",
     "output_type": "stream",
     "text": [
      "Processing batch 578/1554\n"
     ]
    },
    {
     "data": {
      "application/vnd.jupyter.widget-view+json": {
       "model_id": "943c1cef194f4c16b1a49d97d5942d3b",
       "version_major": 2,
       "version_minor": 0
      },
      "text/plain": [
       "Resizing images (rxrx3):   0%|          | 0/100 [00:00<?, ?it/s]"
      ]
     },
     "metadata": {},
     "output_type": "display_data"
    },
    {
     "name": "stdout",
     "output_type": "stream",
     "text": [
      "Processing batch 579/1554\n"
     ]
    },
    {
     "data": {
      "application/vnd.jupyter.widget-view+json": {
       "model_id": "7edca78711474e51978f0f1e323e0e23",
       "version_major": 2,
       "version_minor": 0
      },
      "text/plain": [
       "Resizing images (rxrx3):   0%|          | 0/100 [00:00<?, ?it/s]"
      ]
     },
     "metadata": {},
     "output_type": "display_data"
    },
    {
     "name": "stdout",
     "output_type": "stream",
     "text": [
      "Processing batch 580/1554\n"
     ]
    },
    {
     "data": {
      "application/vnd.jupyter.widget-view+json": {
       "model_id": "41abfcb9fee9449c88ae4f8ebfc54108",
       "version_major": 2,
       "version_minor": 0
      },
      "text/plain": [
       "Resizing images (rxrx3):   0%|          | 0/100 [00:00<?, ?it/s]"
      ]
     },
     "metadata": {},
     "output_type": "display_data"
    },
    {
     "name": "stdout",
     "output_type": "stream",
     "text": [
      "Processing batch 581/1554\n"
     ]
    },
    {
     "data": {
      "application/vnd.jupyter.widget-view+json": {
       "model_id": "4e86a83d7e5143f9a603e17960910201",
       "version_major": 2,
       "version_minor": 0
      },
      "text/plain": [
       "Resizing images (rxrx3):   0%|          | 0/100 [00:00<?, ?it/s]"
      ]
     },
     "metadata": {},
     "output_type": "display_data"
    },
    {
     "name": "stdout",
     "output_type": "stream",
     "text": [
      "Processing batch 582/1554\n"
     ]
    },
    {
     "data": {
      "application/vnd.jupyter.widget-view+json": {
       "model_id": "b8f3524621fa4a908bd2dc9ed6c9695c",
       "version_major": 2,
       "version_minor": 0
      },
      "text/plain": [
       "Resizing images (rxrx3):   0%|          | 0/100 [00:00<?, ?it/s]"
      ]
     },
     "metadata": {},
     "output_type": "display_data"
    },
    {
     "name": "stdout",
     "output_type": "stream",
     "text": [
      "Processing batch 583/1554\n"
     ]
    },
    {
     "data": {
      "application/vnd.jupyter.widget-view+json": {
       "model_id": "7f14c146d2ae4a0e8190a052b3bc120c",
       "version_major": 2,
       "version_minor": 0
      },
      "text/plain": [
       "Resizing images (rxrx3):   0%|          | 0/100 [00:00<?, ?it/s]"
      ]
     },
     "metadata": {},
     "output_type": "display_data"
    },
    {
     "name": "stdout",
     "output_type": "stream",
     "text": [
      "Processing batch 584/1554\n"
     ]
    },
    {
     "data": {
      "application/vnd.jupyter.widget-view+json": {
       "model_id": "1bbed55058194894a14a38b825b4de5f",
       "version_major": 2,
       "version_minor": 0
      },
      "text/plain": [
       "Resizing images (rxrx3):   0%|          | 0/100 [00:00<?, ?it/s]"
      ]
     },
     "metadata": {},
     "output_type": "display_data"
    },
    {
     "name": "stdout",
     "output_type": "stream",
     "text": [
      "Processing batch 585/1554\n"
     ]
    },
    {
     "data": {
      "application/vnd.jupyter.widget-view+json": {
       "model_id": "8fe66ab06d7d46078532d9c38783ab6f",
       "version_major": 2,
       "version_minor": 0
      },
      "text/plain": [
       "Resizing images (rxrx3):   0%|          | 0/100 [00:00<?, ?it/s]"
      ]
     },
     "metadata": {},
     "output_type": "display_data"
    },
    {
     "name": "stdout",
     "output_type": "stream",
     "text": [
      "Processing batch 586/1554\n"
     ]
    },
    {
     "data": {
      "application/vnd.jupyter.widget-view+json": {
       "model_id": "709db14d93974b938c36ea9c0e4fcddb",
       "version_major": 2,
       "version_minor": 0
      },
      "text/plain": [
       "Resizing images (rxrx3):   0%|          | 0/100 [00:00<?, ?it/s]"
      ]
     },
     "metadata": {},
     "output_type": "display_data"
    },
    {
     "name": "stdout",
     "output_type": "stream",
     "text": [
      "Processing batch 587/1554\n"
     ]
    },
    {
     "data": {
      "application/vnd.jupyter.widget-view+json": {
       "model_id": "f0c959cfd45b40418b577e419e680fa8",
       "version_major": 2,
       "version_minor": 0
      },
      "text/plain": [
       "Resizing images (rxrx3):   0%|          | 0/100 [00:00<?, ?it/s]"
      ]
     },
     "metadata": {},
     "output_type": "display_data"
    },
    {
     "name": "stdout",
     "output_type": "stream",
     "text": [
      "Processing batch 588/1554\n"
     ]
    },
    {
     "data": {
      "application/vnd.jupyter.widget-view+json": {
       "model_id": "919d87a0f29e406688c49a04d6fc0f8a",
       "version_major": 2,
       "version_minor": 0
      },
      "text/plain": [
       "Resizing images (rxrx3):   0%|          | 0/100 [00:00<?, ?it/s]"
      ]
     },
     "metadata": {},
     "output_type": "display_data"
    },
    {
     "name": "stdout",
     "output_type": "stream",
     "text": [
      "Processing batch 589/1554\n"
     ]
    },
    {
     "data": {
      "application/vnd.jupyter.widget-view+json": {
       "model_id": "29757c99c4f8406a80bf6f11ed6382c5",
       "version_major": 2,
       "version_minor": 0
      },
      "text/plain": [
       "Resizing images (rxrx3):   0%|          | 0/100 [00:00<?, ?it/s]"
      ]
     },
     "metadata": {},
     "output_type": "display_data"
    },
    {
     "name": "stdout",
     "output_type": "stream",
     "text": [
      "Processing batch 590/1554\n"
     ]
    },
    {
     "data": {
      "application/vnd.jupyter.widget-view+json": {
       "model_id": "1810dfa2b8b647fab75defe7f1726534",
       "version_major": 2,
       "version_minor": 0
      },
      "text/plain": [
       "Resizing images (rxrx3):   0%|          | 0/100 [00:00<?, ?it/s]"
      ]
     },
     "metadata": {},
     "output_type": "display_data"
    },
    {
     "name": "stdout",
     "output_type": "stream",
     "text": [
      "Processing batch 591/1554\n"
     ]
    },
    {
     "data": {
      "application/vnd.jupyter.widget-view+json": {
       "model_id": "1fb7bbe7188e462084e8e54bfc4fc93b",
       "version_major": 2,
       "version_minor": 0
      },
      "text/plain": [
       "Resizing images (rxrx3):   0%|          | 0/100 [00:00<?, ?it/s]"
      ]
     },
     "metadata": {},
     "output_type": "display_data"
    },
    {
     "name": "stdout",
     "output_type": "stream",
     "text": [
      "Processing batch 592/1554\n"
     ]
    },
    {
     "data": {
      "application/vnd.jupyter.widget-view+json": {
       "model_id": "c45d3b9f796e40b2a33e3bd18ad8697f",
       "version_major": 2,
       "version_minor": 0
      },
      "text/plain": [
       "Resizing images (rxrx3):   0%|          | 0/100 [00:00<?, ?it/s]"
      ]
     },
     "metadata": {},
     "output_type": "display_data"
    },
    {
     "name": "stdout",
     "output_type": "stream",
     "text": [
      "Processing batch 593/1554\n"
     ]
    },
    {
     "data": {
      "application/vnd.jupyter.widget-view+json": {
       "model_id": "b852b5b3a0f749929ef1c62a07b03dcc",
       "version_major": 2,
       "version_minor": 0
      },
      "text/plain": [
       "Resizing images (rxrx3):   0%|          | 0/100 [00:00<?, ?it/s]"
      ]
     },
     "metadata": {},
     "output_type": "display_data"
    },
    {
     "name": "stdout",
     "output_type": "stream",
     "text": [
      "Processing batch 594/1554\n"
     ]
    },
    {
     "data": {
      "application/vnd.jupyter.widget-view+json": {
       "model_id": "31ef2c704e1843108ef262e7f6fa96b7",
       "version_major": 2,
       "version_minor": 0
      },
      "text/plain": [
       "Resizing images (rxrx3):   0%|          | 0/100 [00:00<?, ?it/s]"
      ]
     },
     "metadata": {},
     "output_type": "display_data"
    },
    {
     "name": "stdout",
     "output_type": "stream",
     "text": [
      "Processing batch 595/1554\n"
     ]
    },
    {
     "data": {
      "application/vnd.jupyter.widget-view+json": {
       "model_id": "391cf58e07bf41ddac3a80f15ffb5d1e",
       "version_major": 2,
       "version_minor": 0
      },
      "text/plain": [
       "Resizing images (rxrx3):   0%|          | 0/100 [00:00<?, ?it/s]"
      ]
     },
     "metadata": {},
     "output_type": "display_data"
    },
    {
     "name": "stdout",
     "output_type": "stream",
     "text": [
      "Processing batch 596/1554\n"
     ]
    },
    {
     "data": {
      "application/vnd.jupyter.widget-view+json": {
       "model_id": "9c2c3198eec145ce9492a0b77586ecc6",
       "version_major": 2,
       "version_minor": 0
      },
      "text/plain": [
       "Resizing images (rxrx3):   0%|          | 0/100 [00:00<?, ?it/s]"
      ]
     },
     "metadata": {},
     "output_type": "display_data"
    },
    {
     "name": "stdout",
     "output_type": "stream",
     "text": [
      "Processing batch 597/1554\n"
     ]
    },
    {
     "data": {
      "application/vnd.jupyter.widget-view+json": {
       "model_id": "b4ad1455ccf84c129a785aa03517684a",
       "version_major": 2,
       "version_minor": 0
      },
      "text/plain": [
       "Resizing images (rxrx3):   0%|          | 0/100 [00:00<?, ?it/s]"
      ]
     },
     "metadata": {},
     "output_type": "display_data"
    },
    {
     "name": "stdout",
     "output_type": "stream",
     "text": [
      "Processing batch 598/1554\n"
     ]
    },
    {
     "data": {
      "application/vnd.jupyter.widget-view+json": {
       "model_id": "f6bc16f4cdeb4e65a3bdb18834fbc0d3",
       "version_major": 2,
       "version_minor": 0
      },
      "text/plain": [
       "Resizing images (rxrx3):   0%|          | 0/100 [00:00<?, ?it/s]"
      ]
     },
     "metadata": {},
     "output_type": "display_data"
    },
    {
     "name": "stdout",
     "output_type": "stream",
     "text": [
      "Processing batch 599/1554\n"
     ]
    },
    {
     "data": {
      "application/vnd.jupyter.widget-view+json": {
       "model_id": "c8ceee4dc21d4b088381415d3cd533f8",
       "version_major": 2,
       "version_minor": 0
      },
      "text/plain": [
       "Resizing images (rxrx3):   0%|          | 0/100 [00:00<?, ?it/s]"
      ]
     },
     "metadata": {},
     "output_type": "display_data"
    },
    {
     "name": "stdout",
     "output_type": "stream",
     "text": [
      "Processing batch 600/1554\n"
     ]
    },
    {
     "data": {
      "application/vnd.jupyter.widget-view+json": {
       "model_id": "104a042a12f7467397db235c49bbeec7",
       "version_major": 2,
       "version_minor": 0
      },
      "text/plain": [
       "Resizing images (rxrx3):   0%|          | 0/100 [00:00<?, ?it/s]"
      ]
     },
     "metadata": {},
     "output_type": "display_data"
    },
    {
     "name": "stdout",
     "output_type": "stream",
     "text": [
      "Processing batch 601/1554\n"
     ]
    },
    {
     "data": {
      "application/vnd.jupyter.widget-view+json": {
       "model_id": "4dbb61577b01452193ab714502b1464c",
       "version_major": 2,
       "version_minor": 0
      },
      "text/plain": [
       "Resizing images (rxrx3):   0%|          | 0/100 [00:00<?, ?it/s]"
      ]
     },
     "metadata": {},
     "output_type": "display_data"
    },
    {
     "name": "stdout",
     "output_type": "stream",
     "text": [
      "Processing batch 602/1554\n"
     ]
    },
    {
     "data": {
      "application/vnd.jupyter.widget-view+json": {
       "model_id": "8804f8d64b824195a510c46f41d1c35f",
       "version_major": 2,
       "version_minor": 0
      },
      "text/plain": [
       "Resizing images (rxrx3):   0%|          | 0/100 [00:00<?, ?it/s]"
      ]
     },
     "metadata": {},
     "output_type": "display_data"
    },
    {
     "name": "stdout",
     "output_type": "stream",
     "text": [
      "Processing batch 603/1554\n"
     ]
    },
    {
     "data": {
      "application/vnd.jupyter.widget-view+json": {
       "model_id": "671d7cc8e6a94a5bb837f4fb5dbfcae2",
       "version_major": 2,
       "version_minor": 0
      },
      "text/plain": [
       "Resizing images (rxrx3):   0%|          | 0/100 [00:00<?, ?it/s]"
      ]
     },
     "metadata": {},
     "output_type": "display_data"
    },
    {
     "name": "stdout",
     "output_type": "stream",
     "text": [
      "Processing batch 604/1554\n"
     ]
    },
    {
     "data": {
      "application/vnd.jupyter.widget-view+json": {
       "model_id": "1cc3927f44a04c6580a94d81a1c0321b",
       "version_major": 2,
       "version_minor": 0
      },
      "text/plain": [
       "Resizing images (rxrx3):   0%|          | 0/100 [00:00<?, ?it/s]"
      ]
     },
     "metadata": {},
     "output_type": "display_data"
    },
    {
     "name": "stdout",
     "output_type": "stream",
     "text": [
      "Processing batch 605/1554\n"
     ]
    },
    {
     "data": {
      "application/vnd.jupyter.widget-view+json": {
       "model_id": "c073debdad1a41a588daba580c8dca20",
       "version_major": 2,
       "version_minor": 0
      },
      "text/plain": [
       "Resizing images (rxrx3):   0%|          | 0/100 [00:00<?, ?it/s]"
      ]
     },
     "metadata": {},
     "output_type": "display_data"
    },
    {
     "name": "stdout",
     "output_type": "stream",
     "text": [
      "Processing batch 606/1554\n"
     ]
    },
    {
     "data": {
      "application/vnd.jupyter.widget-view+json": {
       "model_id": "e8a5414648724f448b3e3c2e771e5109",
       "version_major": 2,
       "version_minor": 0
      },
      "text/plain": [
       "Resizing images (rxrx3):   0%|          | 0/100 [00:00<?, ?it/s]"
      ]
     },
     "metadata": {},
     "output_type": "display_data"
    },
    {
     "name": "stdout",
     "output_type": "stream",
     "text": [
      "Processing batch 607/1554\n"
     ]
    },
    {
     "data": {
      "application/vnd.jupyter.widget-view+json": {
       "model_id": "16d993a5eb4341019579197463fcd67a",
       "version_major": 2,
       "version_minor": 0
      },
      "text/plain": [
       "Resizing images (rxrx3):   0%|          | 0/100 [00:00<?, ?it/s]"
      ]
     },
     "metadata": {},
     "output_type": "display_data"
    },
    {
     "name": "stdout",
     "output_type": "stream",
     "text": [
      "Processing batch 608/1554\n"
     ]
    },
    {
     "data": {
      "application/vnd.jupyter.widget-view+json": {
       "model_id": "70c37de71153478aa8694f83853c7ba0",
       "version_major": 2,
       "version_minor": 0
      },
      "text/plain": [
       "Resizing images (rxrx3):   0%|          | 0/100 [00:00<?, ?it/s]"
      ]
     },
     "metadata": {},
     "output_type": "display_data"
    },
    {
     "name": "stdout",
     "output_type": "stream",
     "text": [
      "Processing batch 609/1554\n"
     ]
    },
    {
     "data": {
      "application/vnd.jupyter.widget-view+json": {
       "model_id": "3362c94c0d714ebebe9e079c12cff8f4",
       "version_major": 2,
       "version_minor": 0
      },
      "text/plain": [
       "Resizing images (rxrx3):   0%|          | 0/100 [00:00<?, ?it/s]"
      ]
     },
     "metadata": {},
     "output_type": "display_data"
    },
    {
     "name": "stdout",
     "output_type": "stream",
     "text": [
      "Processing batch 610/1554\n"
     ]
    },
    {
     "data": {
      "application/vnd.jupyter.widget-view+json": {
       "model_id": "aabf5ab1af444bd6b20a939d318b3700",
       "version_major": 2,
       "version_minor": 0
      },
      "text/plain": [
       "Resizing images (rxrx3):   0%|          | 0/100 [00:00<?, ?it/s]"
      ]
     },
     "metadata": {},
     "output_type": "display_data"
    },
    {
     "name": "stdout",
     "output_type": "stream",
     "text": [
      "Processing batch 611/1554\n"
     ]
    },
    {
     "data": {
      "application/vnd.jupyter.widget-view+json": {
       "model_id": "f611472df7ed4f999094064168a1f4c3",
       "version_major": 2,
       "version_minor": 0
      },
      "text/plain": [
       "Resizing images (rxrx3):   0%|          | 0/100 [00:00<?, ?it/s]"
      ]
     },
     "metadata": {},
     "output_type": "display_data"
    },
    {
     "name": "stdout",
     "output_type": "stream",
     "text": [
      "Processing batch 612/1554\n"
     ]
    },
    {
     "data": {
      "application/vnd.jupyter.widget-view+json": {
       "model_id": "44db3ff4042f462e823249fed30945c0",
       "version_major": 2,
       "version_minor": 0
      },
      "text/plain": [
       "Resizing images (rxrx3):   0%|          | 0/100 [00:00<?, ?it/s]"
      ]
     },
     "metadata": {},
     "output_type": "display_data"
    },
    {
     "name": "stdout",
     "output_type": "stream",
     "text": [
      "Processing batch 613/1554\n"
     ]
    },
    {
     "data": {
      "application/vnd.jupyter.widget-view+json": {
       "model_id": "258c324442d349e8997f7feeec4fdef5",
       "version_major": 2,
       "version_minor": 0
      },
      "text/plain": [
       "Resizing images (rxrx3):   0%|          | 0/100 [00:00<?, ?it/s]"
      ]
     },
     "metadata": {},
     "output_type": "display_data"
    },
    {
     "name": "stdout",
     "output_type": "stream",
     "text": [
      "Processing batch 614/1554\n"
     ]
    },
    {
     "data": {
      "application/vnd.jupyter.widget-view+json": {
       "model_id": "22f65d6ddd6c4fb29cb4d769a32a27fd",
       "version_major": 2,
       "version_minor": 0
      },
      "text/plain": [
       "Resizing images (rxrx3):   0%|          | 0/100 [00:00<?, ?it/s]"
      ]
     },
     "metadata": {},
     "output_type": "display_data"
    },
    {
     "name": "stdout",
     "output_type": "stream",
     "text": [
      "Processing batch 615/1554\n"
     ]
    },
    {
     "data": {
      "application/vnd.jupyter.widget-view+json": {
       "model_id": "f06a547606114901a27fd1a912fb40bc",
       "version_major": 2,
       "version_minor": 0
      },
      "text/plain": [
       "Resizing images (rxrx3):   0%|          | 0/100 [00:00<?, ?it/s]"
      ]
     },
     "metadata": {},
     "output_type": "display_data"
    },
    {
     "name": "stdout",
     "output_type": "stream",
     "text": [
      "Processing batch 616/1554\n"
     ]
    },
    {
     "data": {
      "application/vnd.jupyter.widget-view+json": {
       "model_id": "594c47427c3949f48be48dc911e8be46",
       "version_major": 2,
       "version_minor": 0
      },
      "text/plain": [
       "Resizing images (rxrx3):   0%|          | 0/100 [00:00<?, ?it/s]"
      ]
     },
     "metadata": {},
     "output_type": "display_data"
    },
    {
     "name": "stdout",
     "output_type": "stream",
     "text": [
      "Processing batch 617/1554\n"
     ]
    },
    {
     "data": {
      "application/vnd.jupyter.widget-view+json": {
       "model_id": "36dc3d6b8db449598f53a0247c25c5bd",
       "version_major": 2,
       "version_minor": 0
      },
      "text/plain": [
       "Resizing images (rxrx3):   0%|          | 0/100 [00:00<?, ?it/s]"
      ]
     },
     "metadata": {},
     "output_type": "display_data"
    },
    {
     "name": "stdout",
     "output_type": "stream",
     "text": [
      "Processing batch 618/1554\n"
     ]
    },
    {
     "data": {
      "application/vnd.jupyter.widget-view+json": {
       "model_id": "14406e8a3a1e485cad06807fd3c3c5e3",
       "version_major": 2,
       "version_minor": 0
      },
      "text/plain": [
       "Resizing images (rxrx3):   0%|          | 0/100 [00:00<?, ?it/s]"
      ]
     },
     "metadata": {},
     "output_type": "display_data"
    },
    {
     "name": "stdout",
     "output_type": "stream",
     "text": [
      "Processing batch 619/1554\n"
     ]
    },
    {
     "data": {
      "application/vnd.jupyter.widget-view+json": {
       "model_id": "febfca0a814e47a6a5b912c9699a3e46",
       "version_major": 2,
       "version_minor": 0
      },
      "text/plain": [
       "Resizing images (rxrx3):   0%|          | 0/100 [00:00<?, ?it/s]"
      ]
     },
     "metadata": {},
     "output_type": "display_data"
    },
    {
     "name": "stdout",
     "output_type": "stream",
     "text": [
      "Processing batch 620/1554\n"
     ]
    },
    {
     "data": {
      "application/vnd.jupyter.widget-view+json": {
       "model_id": "9f027d42bc5a4bd6abcd31f8428d82ec",
       "version_major": 2,
       "version_minor": 0
      },
      "text/plain": [
       "Resizing images (rxrx3):   0%|          | 0/100 [00:00<?, ?it/s]"
      ]
     },
     "metadata": {},
     "output_type": "display_data"
    },
    {
     "name": "stdout",
     "output_type": "stream",
     "text": [
      "Processing batch 621/1554\n"
     ]
    },
    {
     "data": {
      "application/vnd.jupyter.widget-view+json": {
       "model_id": "fdf679c5f2694c93905ef343794d0453",
       "version_major": 2,
       "version_minor": 0
      },
      "text/plain": [
       "Resizing images (rxrx3):   0%|          | 0/100 [00:00<?, ?it/s]"
      ]
     },
     "metadata": {},
     "output_type": "display_data"
    },
    {
     "name": "stdout",
     "output_type": "stream",
     "text": [
      "Processing batch 622/1554\n"
     ]
    },
    {
     "data": {
      "application/vnd.jupyter.widget-view+json": {
       "model_id": "d2ae5f63fb1e479b92644447e1f773bd",
       "version_major": 2,
       "version_minor": 0
      },
      "text/plain": [
       "Resizing images (rxrx3):   0%|          | 0/100 [00:00<?, ?it/s]"
      ]
     },
     "metadata": {},
     "output_type": "display_data"
    },
    {
     "name": "stdout",
     "output_type": "stream",
     "text": [
      "Processing batch 623/1554\n"
     ]
    },
    {
     "data": {
      "application/vnd.jupyter.widget-view+json": {
       "model_id": "ea06b817f6d64678889ec614eaa80879",
       "version_major": 2,
       "version_minor": 0
      },
      "text/plain": [
       "Resizing images (rxrx3):   0%|          | 0/100 [00:00<?, ?it/s]"
      ]
     },
     "metadata": {},
     "output_type": "display_data"
    },
    {
     "name": "stdout",
     "output_type": "stream",
     "text": [
      "Processing batch 624/1554\n"
     ]
    },
    {
     "data": {
      "application/vnd.jupyter.widget-view+json": {
       "model_id": "538f6ee6c0b94c8da09277fa83c4dce0",
       "version_major": 2,
       "version_minor": 0
      },
      "text/plain": [
       "Resizing images (rxrx3):   0%|          | 0/100 [00:00<?, ?it/s]"
      ]
     },
     "metadata": {},
     "output_type": "display_data"
    },
    {
     "name": "stdout",
     "output_type": "stream",
     "text": [
      "Processing batch 625/1554\n"
     ]
    },
    {
     "data": {
      "application/vnd.jupyter.widget-view+json": {
       "model_id": "da3acbbfb7d546918e715c064b846c27",
       "version_major": 2,
       "version_minor": 0
      },
      "text/plain": [
       "Resizing images (rxrx3):   0%|          | 0/100 [00:00<?, ?it/s]"
      ]
     },
     "metadata": {},
     "output_type": "display_data"
    },
    {
     "name": "stdout",
     "output_type": "stream",
     "text": [
      "Processing batch 626/1554\n"
     ]
    },
    {
     "data": {
      "application/vnd.jupyter.widget-view+json": {
       "model_id": "a2f30e3870af46e8b101d691ae1bbfea",
       "version_major": 2,
       "version_minor": 0
      },
      "text/plain": [
       "Resizing images (rxrx3):   0%|          | 0/100 [00:00<?, ?it/s]"
      ]
     },
     "metadata": {},
     "output_type": "display_data"
    },
    {
     "name": "stdout",
     "output_type": "stream",
     "text": [
      "Processing batch 627/1554\n"
     ]
    },
    {
     "data": {
      "application/vnd.jupyter.widget-view+json": {
       "model_id": "4593c5f204a64349aedb53fd8978a908",
       "version_major": 2,
       "version_minor": 0
      },
      "text/plain": [
       "Resizing images (rxrx3):   0%|          | 0/100 [00:00<?, ?it/s]"
      ]
     },
     "metadata": {},
     "output_type": "display_data"
    },
    {
     "name": "stdout",
     "output_type": "stream",
     "text": [
      "Processing batch 628/1554\n"
     ]
    },
    {
     "data": {
      "application/vnd.jupyter.widget-view+json": {
       "model_id": "90e3382dc17c4e5298f15b1450d7fec6",
       "version_major": 2,
       "version_minor": 0
      },
      "text/plain": [
       "Resizing images (rxrx3):   0%|          | 0/100 [00:00<?, ?it/s]"
      ]
     },
     "metadata": {},
     "output_type": "display_data"
    },
    {
     "name": "stdout",
     "output_type": "stream",
     "text": [
      "Processing batch 629/1554\n"
     ]
    },
    {
     "data": {
      "application/vnd.jupyter.widget-view+json": {
       "model_id": "6e4c406e0eb344f89873b7a6d6dfd78d",
       "version_major": 2,
       "version_minor": 0
      },
      "text/plain": [
       "Resizing images (rxrx3):   0%|          | 0/100 [00:00<?, ?it/s]"
      ]
     },
     "metadata": {},
     "output_type": "display_data"
    },
    {
     "name": "stdout",
     "output_type": "stream",
     "text": [
      "Processing batch 630/1554\n"
     ]
    },
    {
     "data": {
      "application/vnd.jupyter.widget-view+json": {
       "model_id": "20ff273d8db84e76bcc5b7abeb1a5f71",
       "version_major": 2,
       "version_minor": 0
      },
      "text/plain": [
       "Resizing images (rxrx3):   0%|          | 0/100 [00:00<?, ?it/s]"
      ]
     },
     "metadata": {},
     "output_type": "display_data"
    },
    {
     "name": "stdout",
     "output_type": "stream",
     "text": [
      "Processing batch 631/1554\n"
     ]
    },
    {
     "data": {
      "application/vnd.jupyter.widget-view+json": {
       "model_id": "d515fec834a449088556ba71957162e0",
       "version_major": 2,
       "version_minor": 0
      },
      "text/plain": [
       "Resizing images (rxrx3):   0%|          | 0/100 [00:00<?, ?it/s]"
      ]
     },
     "metadata": {},
     "output_type": "display_data"
    },
    {
     "name": "stdout",
     "output_type": "stream",
     "text": [
      "Processing batch 632/1554\n"
     ]
    },
    {
     "data": {
      "application/vnd.jupyter.widget-view+json": {
       "model_id": "8f0b2e3b149946d2882f3393e64578f8",
       "version_major": 2,
       "version_minor": 0
      },
      "text/plain": [
       "Resizing images (rxrx3):   0%|          | 0/100 [00:00<?, ?it/s]"
      ]
     },
     "metadata": {},
     "output_type": "display_data"
    },
    {
     "name": "stdout",
     "output_type": "stream",
     "text": [
      "Processing batch 633/1554\n"
     ]
    },
    {
     "data": {
      "application/vnd.jupyter.widget-view+json": {
       "model_id": "c2939c4bc48945e99eaf0d7c056be336",
       "version_major": 2,
       "version_minor": 0
      },
      "text/plain": [
       "Resizing images (rxrx3):   0%|          | 0/100 [00:00<?, ?it/s]"
      ]
     },
     "metadata": {},
     "output_type": "display_data"
    },
    {
     "name": "stdout",
     "output_type": "stream",
     "text": [
      "Processing batch 634/1554\n"
     ]
    },
    {
     "data": {
      "application/vnd.jupyter.widget-view+json": {
       "model_id": "d64f7c52c5c949edba2e02b65902ade6",
       "version_major": 2,
       "version_minor": 0
      },
      "text/plain": [
       "Resizing images (rxrx3):   0%|          | 0/100 [00:00<?, ?it/s]"
      ]
     },
     "metadata": {},
     "output_type": "display_data"
    },
    {
     "name": "stdout",
     "output_type": "stream",
     "text": [
      "Processing batch 635/1554\n"
     ]
    },
    {
     "data": {
      "application/vnd.jupyter.widget-view+json": {
       "model_id": "578b65f63fb643d59eb866eba7d6f529",
       "version_major": 2,
       "version_minor": 0
      },
      "text/plain": [
       "Resizing images (rxrx3):   0%|          | 0/100 [00:00<?, ?it/s]"
      ]
     },
     "metadata": {},
     "output_type": "display_data"
    },
    {
     "name": "stdout",
     "output_type": "stream",
     "text": [
      "Processing batch 636/1554\n"
     ]
    },
    {
     "data": {
      "application/vnd.jupyter.widget-view+json": {
       "model_id": "d2baeed853f6478cac7c31a3ffe3d6d1",
       "version_major": 2,
       "version_minor": 0
      },
      "text/plain": [
       "Resizing images (rxrx3):   0%|          | 0/100 [00:00<?, ?it/s]"
      ]
     },
     "metadata": {},
     "output_type": "display_data"
    },
    {
     "name": "stdout",
     "output_type": "stream",
     "text": [
      "Processing batch 637/1554\n"
     ]
    },
    {
     "data": {
      "application/vnd.jupyter.widget-view+json": {
       "model_id": "46fbdb215e444bb8870f19935db73c3b",
       "version_major": 2,
       "version_minor": 0
      },
      "text/plain": [
       "Resizing images (rxrx3):   0%|          | 0/100 [00:00<?, ?it/s]"
      ]
     },
     "metadata": {},
     "output_type": "display_data"
    },
    {
     "name": "stdout",
     "output_type": "stream",
     "text": [
      "Processing batch 638/1554\n"
     ]
    },
    {
     "data": {
      "application/vnd.jupyter.widget-view+json": {
       "model_id": "b1d3954f11dd4bc7be16f1dcbd63e2b7",
       "version_major": 2,
       "version_minor": 0
      },
      "text/plain": [
       "Resizing images (rxrx3):   0%|          | 0/100 [00:00<?, ?it/s]"
      ]
     },
     "metadata": {},
     "output_type": "display_data"
    },
    {
     "name": "stdout",
     "output_type": "stream",
     "text": [
      "Processing batch 639/1554\n"
     ]
    },
    {
     "data": {
      "application/vnd.jupyter.widget-view+json": {
       "model_id": "ed6112ced13c496f8df5f98a89dc3ab3",
       "version_major": 2,
       "version_minor": 0
      },
      "text/plain": [
       "Resizing images (rxrx3):   0%|          | 0/100 [00:00<?, ?it/s]"
      ]
     },
     "metadata": {},
     "output_type": "display_data"
    },
    {
     "name": "stdout",
     "output_type": "stream",
     "text": [
      "Processing batch 640/1554\n"
     ]
    },
    {
     "data": {
      "application/vnd.jupyter.widget-view+json": {
       "model_id": "7d21ec1089514857a1074a6247e3fe06",
       "version_major": 2,
       "version_minor": 0
      },
      "text/plain": [
       "Resizing images (rxrx3):   0%|          | 0/100 [00:00<?, ?it/s]"
      ]
     },
     "metadata": {},
     "output_type": "display_data"
    },
    {
     "name": "stdout",
     "output_type": "stream",
     "text": [
      "Processing batch 641/1554\n"
     ]
    },
    {
     "data": {
      "application/vnd.jupyter.widget-view+json": {
       "model_id": "cf2b16779f8946c38ba1dbbff27e2011",
       "version_major": 2,
       "version_minor": 0
      },
      "text/plain": [
       "Resizing images (rxrx3):   0%|          | 0/100 [00:00<?, ?it/s]"
      ]
     },
     "metadata": {},
     "output_type": "display_data"
    },
    {
     "name": "stdout",
     "output_type": "stream",
     "text": [
      "Processing batch 642/1554\n"
     ]
    },
    {
     "data": {
      "application/vnd.jupyter.widget-view+json": {
       "model_id": "41ac0ffdae6f40819b7fa191a9d28ddd",
       "version_major": 2,
       "version_minor": 0
      },
      "text/plain": [
       "Resizing images (rxrx3):   0%|          | 0/100 [00:00<?, ?it/s]"
      ]
     },
     "metadata": {},
     "output_type": "display_data"
    },
    {
     "name": "stdout",
     "output_type": "stream",
     "text": [
      "Processing batch 643/1554\n"
     ]
    },
    {
     "data": {
      "application/vnd.jupyter.widget-view+json": {
       "model_id": "5fc3b0593517495da22d15aee890ce04",
       "version_major": 2,
       "version_minor": 0
      },
      "text/plain": [
       "Resizing images (rxrx3):   0%|          | 0/100 [00:00<?, ?it/s]"
      ]
     },
     "metadata": {},
     "output_type": "display_data"
    },
    {
     "name": "stdout",
     "output_type": "stream",
     "text": [
      "Processing batch 644/1554\n"
     ]
    },
    {
     "data": {
      "application/vnd.jupyter.widget-view+json": {
       "model_id": "7bd3e27d6278487aa1032f7006b085a5",
       "version_major": 2,
       "version_minor": 0
      },
      "text/plain": [
       "Resizing images (rxrx3):   0%|          | 0/100 [00:00<?, ?it/s]"
      ]
     },
     "metadata": {},
     "output_type": "display_data"
    },
    {
     "name": "stdout",
     "output_type": "stream",
     "text": [
      "Processing batch 645/1554\n"
     ]
    },
    {
     "data": {
      "application/vnd.jupyter.widget-view+json": {
       "model_id": "35dd32519c3b439e84338b1de49486da",
       "version_major": 2,
       "version_minor": 0
      },
      "text/plain": [
       "Resizing images (rxrx3):   0%|          | 0/100 [00:00<?, ?it/s]"
      ]
     },
     "metadata": {},
     "output_type": "display_data"
    },
    {
     "name": "stdout",
     "output_type": "stream",
     "text": [
      "Processing batch 646/1554\n"
     ]
    },
    {
     "data": {
      "application/vnd.jupyter.widget-view+json": {
       "model_id": "61e3049021b54a53ab4cefca7cd8da38",
       "version_major": 2,
       "version_minor": 0
      },
      "text/plain": [
       "Resizing images (rxrx3):   0%|          | 0/100 [00:00<?, ?it/s]"
      ]
     },
     "metadata": {},
     "output_type": "display_data"
    },
    {
     "name": "stdout",
     "output_type": "stream",
     "text": [
      "Processing batch 647/1554\n"
     ]
    },
    {
     "data": {
      "application/vnd.jupyter.widget-view+json": {
       "model_id": "8491b27fe18c43f4a117128038af9171",
       "version_major": 2,
       "version_minor": 0
      },
      "text/plain": [
       "Resizing images (rxrx3):   0%|          | 0/100 [00:00<?, ?it/s]"
      ]
     },
     "metadata": {},
     "output_type": "display_data"
    },
    {
     "name": "stdout",
     "output_type": "stream",
     "text": [
      "Processing batch 648/1554\n"
     ]
    },
    {
     "data": {
      "application/vnd.jupyter.widget-view+json": {
       "model_id": "e3caa572d2c94d8eb67315a686ae4015",
       "version_major": 2,
       "version_minor": 0
      },
      "text/plain": [
       "Resizing images (rxrx3):   0%|          | 0/100 [00:00<?, ?it/s]"
      ]
     },
     "metadata": {},
     "output_type": "display_data"
    },
    {
     "name": "stdout",
     "output_type": "stream",
     "text": [
      "Processing batch 649/1554\n"
     ]
    },
    {
     "data": {
      "application/vnd.jupyter.widget-view+json": {
       "model_id": "b99416dbf28b4ffcae8229bec25992d5",
       "version_major": 2,
       "version_minor": 0
      },
      "text/plain": [
       "Resizing images (rxrx3):   0%|          | 0/100 [00:00<?, ?it/s]"
      ]
     },
     "metadata": {},
     "output_type": "display_data"
    },
    {
     "name": "stdout",
     "output_type": "stream",
     "text": [
      "Processing batch 650/1554\n"
     ]
    },
    {
     "data": {
      "application/vnd.jupyter.widget-view+json": {
       "model_id": "4ebeed44cfe4422781a5a1156681b4cb",
       "version_major": 2,
       "version_minor": 0
      },
      "text/plain": [
       "Resizing images (rxrx3):   0%|          | 0/100 [00:00<?, ?it/s]"
      ]
     },
     "metadata": {},
     "output_type": "display_data"
    },
    {
     "name": "stdout",
     "output_type": "stream",
     "text": [
      "Processing batch 651/1554\n"
     ]
    },
    {
     "data": {
      "application/vnd.jupyter.widget-view+json": {
       "model_id": "00920c8992f740f39d0f156ae1d3182e",
       "version_major": 2,
       "version_minor": 0
      },
      "text/plain": [
       "Resizing images (rxrx3):   0%|          | 0/100 [00:00<?, ?it/s]"
      ]
     },
     "metadata": {},
     "output_type": "display_data"
    },
    {
     "name": "stdout",
     "output_type": "stream",
     "text": [
      "Processing batch 652/1554\n"
     ]
    },
    {
     "data": {
      "application/vnd.jupyter.widget-view+json": {
       "model_id": "c11bc239240c4b238b9123ab6b799e38",
       "version_major": 2,
       "version_minor": 0
      },
      "text/plain": [
       "Resizing images (rxrx3):   0%|          | 0/100 [00:00<?, ?it/s]"
      ]
     },
     "metadata": {},
     "output_type": "display_data"
    },
    {
     "name": "stdout",
     "output_type": "stream",
     "text": [
      "Processing batch 653/1554\n"
     ]
    },
    {
     "data": {
      "application/vnd.jupyter.widget-view+json": {
       "model_id": "a12524cf391945aa8e5934a063596b11",
       "version_major": 2,
       "version_minor": 0
      },
      "text/plain": [
       "Resizing images (rxrx3):   0%|          | 0/100 [00:00<?, ?it/s]"
      ]
     },
     "metadata": {},
     "output_type": "display_data"
    },
    {
     "name": "stdout",
     "output_type": "stream",
     "text": [
      "Processing batch 654/1554\n"
     ]
    },
    {
     "data": {
      "application/vnd.jupyter.widget-view+json": {
       "model_id": "0617888010224769bf02bf386f1c13db",
       "version_major": 2,
       "version_minor": 0
      },
      "text/plain": [
       "Resizing images (rxrx3):   0%|          | 0/100 [00:00<?, ?it/s]"
      ]
     },
     "metadata": {},
     "output_type": "display_data"
    },
    {
     "name": "stdout",
     "output_type": "stream",
     "text": [
      "Processing batch 655/1554\n"
     ]
    },
    {
     "data": {
      "application/vnd.jupyter.widget-view+json": {
       "model_id": "625c8d51e7c84b0c9cbbd9f5d401e6e2",
       "version_major": 2,
       "version_minor": 0
      },
      "text/plain": [
       "Resizing images (rxrx3):   0%|          | 0/100 [00:00<?, ?it/s]"
      ]
     },
     "metadata": {},
     "output_type": "display_data"
    },
    {
     "name": "stdout",
     "output_type": "stream",
     "text": [
      "Processing batch 656/1554\n"
     ]
    },
    {
     "data": {
      "application/vnd.jupyter.widget-view+json": {
       "model_id": "c9f7329e4d77499f988385389879eab4",
       "version_major": 2,
       "version_minor": 0
      },
      "text/plain": [
       "Resizing images (rxrx3):   0%|          | 0/100 [00:00<?, ?it/s]"
      ]
     },
     "metadata": {},
     "output_type": "display_data"
    },
    {
     "name": "stdout",
     "output_type": "stream",
     "text": [
      "Processing batch 657/1554\n"
     ]
    },
    {
     "data": {
      "application/vnd.jupyter.widget-view+json": {
       "model_id": "0bf5f72e4e49435fb5e9a76d14798082",
       "version_major": 2,
       "version_minor": 0
      },
      "text/plain": [
       "Resizing images (rxrx3):   0%|          | 0/100 [00:00<?, ?it/s]"
      ]
     },
     "metadata": {},
     "output_type": "display_data"
    },
    {
     "name": "stdout",
     "output_type": "stream",
     "text": [
      "Processing batch 658/1554\n"
     ]
    },
    {
     "data": {
      "application/vnd.jupyter.widget-view+json": {
       "model_id": "dbdb1a3587a44d98bf594f048f405ad4",
       "version_major": 2,
       "version_minor": 0
      },
      "text/plain": [
       "Resizing images (rxrx3):   0%|          | 0/100 [00:00<?, ?it/s]"
      ]
     },
     "metadata": {},
     "output_type": "display_data"
    },
    {
     "name": "stdout",
     "output_type": "stream",
     "text": [
      "Processing batch 659/1554\n"
     ]
    },
    {
     "data": {
      "application/vnd.jupyter.widget-view+json": {
       "model_id": "c41949adb92847eaa838665801cf54fb",
       "version_major": 2,
       "version_minor": 0
      },
      "text/plain": [
       "Resizing images (rxrx3):   0%|          | 0/100 [00:00<?, ?it/s]"
      ]
     },
     "metadata": {},
     "output_type": "display_data"
    },
    {
     "name": "stdout",
     "output_type": "stream",
     "text": [
      "Processing batch 660/1554\n"
     ]
    },
    {
     "data": {
      "application/vnd.jupyter.widget-view+json": {
       "model_id": "930a8969a2ea4486b13dbe4661cc2841",
       "version_major": 2,
       "version_minor": 0
      },
      "text/plain": [
       "Resizing images (rxrx3):   0%|          | 0/100 [00:00<?, ?it/s]"
      ]
     },
     "metadata": {},
     "output_type": "display_data"
    },
    {
     "name": "stdout",
     "output_type": "stream",
     "text": [
      "Processing batch 661/1554\n"
     ]
    },
    {
     "data": {
      "application/vnd.jupyter.widget-view+json": {
       "model_id": "a8abc7b9f8314cedbc7e45171ff2723c",
       "version_major": 2,
       "version_minor": 0
      },
      "text/plain": [
       "Resizing images (rxrx3):   0%|          | 0/100 [00:00<?, ?it/s]"
      ]
     },
     "metadata": {},
     "output_type": "display_data"
    },
    {
     "name": "stdout",
     "output_type": "stream",
     "text": [
      "Processing batch 662/1554\n"
     ]
    },
    {
     "data": {
      "application/vnd.jupyter.widget-view+json": {
       "model_id": "7e06281fca994d72929ab58c5fc218dc",
       "version_major": 2,
       "version_minor": 0
      },
      "text/plain": [
       "Resizing images (rxrx3):   0%|          | 0/100 [00:00<?, ?it/s]"
      ]
     },
     "metadata": {},
     "output_type": "display_data"
    },
    {
     "name": "stdout",
     "output_type": "stream",
     "text": [
      "Processing batch 663/1554\n"
     ]
    },
    {
     "data": {
      "application/vnd.jupyter.widget-view+json": {
       "model_id": "80f4794a95364951a326c9aa3d83a5a3",
       "version_major": 2,
       "version_minor": 0
      },
      "text/plain": [
       "Resizing images (rxrx3):   0%|          | 0/100 [00:00<?, ?it/s]"
      ]
     },
     "metadata": {},
     "output_type": "display_data"
    },
    {
     "name": "stdout",
     "output_type": "stream",
     "text": [
      "Processing batch 664/1554\n"
     ]
    },
    {
     "data": {
      "application/vnd.jupyter.widget-view+json": {
       "model_id": "48337d5c736747f3bc18fa0ebada1365",
       "version_major": 2,
       "version_minor": 0
      },
      "text/plain": [
       "Resizing images (rxrx3):   0%|          | 0/100 [00:00<?, ?it/s]"
      ]
     },
     "metadata": {},
     "output_type": "display_data"
    },
    {
     "name": "stdout",
     "output_type": "stream",
     "text": [
      "Processing batch 665/1554\n"
     ]
    },
    {
     "data": {
      "application/vnd.jupyter.widget-view+json": {
       "model_id": "2cdf08ef0eb3424986b3630b03689a84",
       "version_major": 2,
       "version_minor": 0
      },
      "text/plain": [
       "Resizing images (rxrx3):   0%|          | 0/100 [00:00<?, ?it/s]"
      ]
     },
     "metadata": {},
     "output_type": "display_data"
    },
    {
     "name": "stdout",
     "output_type": "stream",
     "text": [
      "Processing batch 666/1554\n"
     ]
    },
    {
     "data": {
      "application/vnd.jupyter.widget-view+json": {
       "model_id": "0111e165b88d4ad285f92a27ad39fe5a",
       "version_major": 2,
       "version_minor": 0
      },
      "text/plain": [
       "Resizing images (rxrx3):   0%|          | 0/100 [00:00<?, ?it/s]"
      ]
     },
     "metadata": {},
     "output_type": "display_data"
    },
    {
     "name": "stdout",
     "output_type": "stream",
     "text": [
      "Processing batch 667/1554\n"
     ]
    },
    {
     "data": {
      "application/vnd.jupyter.widget-view+json": {
       "model_id": "463d66a6e3604db68dd454a15851fc5f",
       "version_major": 2,
       "version_minor": 0
      },
      "text/plain": [
       "Resizing images (rxrx3):   0%|          | 0/100 [00:00<?, ?it/s]"
      ]
     },
     "metadata": {},
     "output_type": "display_data"
    },
    {
     "name": "stdout",
     "output_type": "stream",
     "text": [
      "Processing batch 668/1554\n"
     ]
    },
    {
     "data": {
      "application/vnd.jupyter.widget-view+json": {
       "model_id": "ea2e24a99d1e44ea875297aea7a4ffbb",
       "version_major": 2,
       "version_minor": 0
      },
      "text/plain": [
       "Resizing images (rxrx3):   0%|          | 0/100 [00:00<?, ?it/s]"
      ]
     },
     "metadata": {},
     "output_type": "display_data"
    },
    {
     "name": "stdout",
     "output_type": "stream",
     "text": [
      "Processing batch 669/1554\n"
     ]
    },
    {
     "data": {
      "application/vnd.jupyter.widget-view+json": {
       "model_id": "c4043a13ca3e4ca981b50a8e7cc74d8d",
       "version_major": 2,
       "version_minor": 0
      },
      "text/plain": [
       "Resizing images (rxrx3):   0%|          | 0/100 [00:00<?, ?it/s]"
      ]
     },
     "metadata": {},
     "output_type": "display_data"
    },
    {
     "name": "stdout",
     "output_type": "stream",
     "text": [
      "Processing batch 670/1554\n"
     ]
    },
    {
     "data": {
      "application/vnd.jupyter.widget-view+json": {
       "model_id": "200164c7e12f4913b5a9c15c0a47f76d",
       "version_major": 2,
       "version_minor": 0
      },
      "text/plain": [
       "Resizing images (rxrx3):   0%|          | 0/100 [00:00<?, ?it/s]"
      ]
     },
     "metadata": {},
     "output_type": "display_data"
    },
    {
     "name": "stdout",
     "output_type": "stream",
     "text": [
      "Processing batch 671/1554\n"
     ]
    },
    {
     "data": {
      "application/vnd.jupyter.widget-view+json": {
       "model_id": "df638bb1273b47d69066398f6630dad1",
       "version_major": 2,
       "version_minor": 0
      },
      "text/plain": [
       "Resizing images (rxrx3):   0%|          | 0/100 [00:00<?, ?it/s]"
      ]
     },
     "metadata": {},
     "output_type": "display_data"
    },
    {
     "name": "stdout",
     "output_type": "stream",
     "text": [
      "Processing batch 672/1554\n"
     ]
    },
    {
     "data": {
      "application/vnd.jupyter.widget-view+json": {
       "model_id": "8317fa5593b547ee81ea5094bb27ef11",
       "version_major": 2,
       "version_minor": 0
      },
      "text/plain": [
       "Resizing images (rxrx3):   0%|          | 0/100 [00:00<?, ?it/s]"
      ]
     },
     "metadata": {},
     "output_type": "display_data"
    },
    {
     "name": "stdout",
     "output_type": "stream",
     "text": [
      "Processing batch 673/1554\n"
     ]
    },
    {
     "data": {
      "application/vnd.jupyter.widget-view+json": {
       "model_id": "6f4bc2241ce5426cb518c7963a8c2a8e",
       "version_major": 2,
       "version_minor": 0
      },
      "text/plain": [
       "Resizing images (rxrx3):   0%|          | 0/100 [00:00<?, ?it/s]"
      ]
     },
     "metadata": {},
     "output_type": "display_data"
    },
    {
     "name": "stdout",
     "output_type": "stream",
     "text": [
      "Processing batch 674/1554\n"
     ]
    },
    {
     "data": {
      "application/vnd.jupyter.widget-view+json": {
       "model_id": "3a616dc9e0284f039686bc718b456b0d",
       "version_major": 2,
       "version_minor": 0
      },
      "text/plain": [
       "Resizing images (rxrx3):   0%|          | 0/100 [00:00<?, ?it/s]"
      ]
     },
     "metadata": {},
     "output_type": "display_data"
    },
    {
     "name": "stdout",
     "output_type": "stream",
     "text": [
      "Processing batch 675/1554\n"
     ]
    },
    {
     "data": {
      "application/vnd.jupyter.widget-view+json": {
       "model_id": "ad34c4bc0e6e491eaaf5bea509b47cbc",
       "version_major": 2,
       "version_minor": 0
      },
      "text/plain": [
       "Resizing images (rxrx3):   0%|          | 0/100 [00:00<?, ?it/s]"
      ]
     },
     "metadata": {},
     "output_type": "display_data"
    },
    {
     "name": "stdout",
     "output_type": "stream",
     "text": [
      "Processing batch 676/1554\n"
     ]
    },
    {
     "data": {
      "application/vnd.jupyter.widget-view+json": {
       "model_id": "6d704c800b3c49239e6c9c3f3986408f",
       "version_major": 2,
       "version_minor": 0
      },
      "text/plain": [
       "Resizing images (rxrx3):   0%|          | 0/100 [00:00<?, ?it/s]"
      ]
     },
     "metadata": {},
     "output_type": "display_data"
    },
    {
     "name": "stdout",
     "output_type": "stream",
     "text": [
      "Processing batch 677/1554\n"
     ]
    },
    {
     "data": {
      "application/vnd.jupyter.widget-view+json": {
       "model_id": "1602fd3825d54b26ab6430a1539156b0",
       "version_major": 2,
       "version_minor": 0
      },
      "text/plain": [
       "Resizing images (rxrx3):   0%|          | 0/100 [00:00<?, ?it/s]"
      ]
     },
     "metadata": {},
     "output_type": "display_data"
    },
    {
     "name": "stdout",
     "output_type": "stream",
     "text": [
      "Processing batch 678/1554\n"
     ]
    },
    {
     "data": {
      "application/vnd.jupyter.widget-view+json": {
       "model_id": "13f790f76f054360bfba276e7d869511",
       "version_major": 2,
       "version_minor": 0
      },
      "text/plain": [
       "Resizing images (rxrx3):   0%|          | 0/100 [00:00<?, ?it/s]"
      ]
     },
     "metadata": {},
     "output_type": "display_data"
    },
    {
     "name": "stdout",
     "output_type": "stream",
     "text": [
      "Processing batch 679/1554\n"
     ]
    },
    {
     "data": {
      "application/vnd.jupyter.widget-view+json": {
       "model_id": "4648eb996e3b4a18a1377784164571f5",
       "version_major": 2,
       "version_minor": 0
      },
      "text/plain": [
       "Resizing images (rxrx3):   0%|          | 0/100 [00:00<?, ?it/s]"
      ]
     },
     "metadata": {},
     "output_type": "display_data"
    },
    {
     "name": "stdout",
     "output_type": "stream",
     "text": [
      "Processing batch 680/1554\n"
     ]
    },
    {
     "data": {
      "application/vnd.jupyter.widget-view+json": {
       "model_id": "085be8d2a8714360891adb4aa51bb666",
       "version_major": 2,
       "version_minor": 0
      },
      "text/plain": [
       "Resizing images (rxrx3):   0%|          | 0/100 [00:00<?, ?it/s]"
      ]
     },
     "metadata": {},
     "output_type": "display_data"
    },
    {
     "name": "stdout",
     "output_type": "stream",
     "text": [
      "Processing batch 681/1554\n"
     ]
    },
    {
     "data": {
      "application/vnd.jupyter.widget-view+json": {
       "model_id": "fe3ca303672d4ac0a29d957485b6c663",
       "version_major": 2,
       "version_minor": 0
      },
      "text/plain": [
       "Resizing images (rxrx3):   0%|          | 0/100 [00:00<?, ?it/s]"
      ]
     },
     "metadata": {},
     "output_type": "display_data"
    },
    {
     "name": "stdout",
     "output_type": "stream",
     "text": [
      "Processing batch 682/1554\n"
     ]
    },
    {
     "data": {
      "application/vnd.jupyter.widget-view+json": {
       "model_id": "023d88ed1fb54032854e7229f437f48e",
       "version_major": 2,
       "version_minor": 0
      },
      "text/plain": [
       "Resizing images (rxrx3):   0%|          | 0/100 [00:00<?, ?it/s]"
      ]
     },
     "metadata": {},
     "output_type": "display_data"
    },
    {
     "name": "stdout",
     "output_type": "stream",
     "text": [
      "Processing batch 683/1554\n"
     ]
    },
    {
     "data": {
      "application/vnd.jupyter.widget-view+json": {
       "model_id": "4ff89a8498a94d05b362309a82135f83",
       "version_major": 2,
       "version_minor": 0
      },
      "text/plain": [
       "Resizing images (rxrx3):   0%|          | 0/100 [00:00<?, ?it/s]"
      ]
     },
     "metadata": {},
     "output_type": "display_data"
    },
    {
     "name": "stdout",
     "output_type": "stream",
     "text": [
      "Processing batch 684/1554\n"
     ]
    },
    {
     "data": {
      "application/vnd.jupyter.widget-view+json": {
       "model_id": "7d9bcd7d5d084d4ab3458bee295b0dae",
       "version_major": 2,
       "version_minor": 0
      },
      "text/plain": [
       "Resizing images (rxrx3):   0%|          | 0/100 [00:00<?, ?it/s]"
      ]
     },
     "metadata": {},
     "output_type": "display_data"
    },
    {
     "name": "stdout",
     "output_type": "stream",
     "text": [
      "Processing batch 685/1554\n"
     ]
    },
    {
     "data": {
      "application/vnd.jupyter.widget-view+json": {
       "model_id": "6dde1f7f93a14830902d3b3ce672f1c5",
       "version_major": 2,
       "version_minor": 0
      },
      "text/plain": [
       "Resizing images (rxrx3):   0%|          | 0/100 [00:00<?, ?it/s]"
      ]
     },
     "metadata": {},
     "output_type": "display_data"
    },
    {
     "name": "stdout",
     "output_type": "stream",
     "text": [
      "Processing batch 686/1554\n"
     ]
    },
    {
     "data": {
      "application/vnd.jupyter.widget-view+json": {
       "model_id": "13b355c2f3c94fd2864d1a1a5f5e60ff",
       "version_major": 2,
       "version_minor": 0
      },
      "text/plain": [
       "Resizing images (rxrx3):   0%|          | 0/100 [00:00<?, ?it/s]"
      ]
     },
     "metadata": {},
     "output_type": "display_data"
    },
    {
     "name": "stdout",
     "output_type": "stream",
     "text": [
      "Processing batch 687/1554\n"
     ]
    },
    {
     "data": {
      "application/vnd.jupyter.widget-view+json": {
       "model_id": "b9bbe179575744d6b534ccbac7c37429",
       "version_major": 2,
       "version_minor": 0
      },
      "text/plain": [
       "Resizing images (rxrx3):   0%|          | 0/100 [00:00<?, ?it/s]"
      ]
     },
     "metadata": {},
     "output_type": "display_data"
    },
    {
     "name": "stdout",
     "output_type": "stream",
     "text": [
      "Processing batch 688/1554\n"
     ]
    },
    {
     "data": {
      "application/vnd.jupyter.widget-view+json": {
       "model_id": "808a9e237cc24b869fd5efef8ed48c86",
       "version_major": 2,
       "version_minor": 0
      },
      "text/plain": [
       "Resizing images (rxrx3):   0%|          | 0/100 [00:00<?, ?it/s]"
      ]
     },
     "metadata": {},
     "output_type": "display_data"
    },
    {
     "name": "stdout",
     "output_type": "stream",
     "text": [
      "Processing batch 689/1554\n"
     ]
    },
    {
     "data": {
      "application/vnd.jupyter.widget-view+json": {
       "model_id": "b37bc16f9939471383d79cb5d28bbb70",
       "version_major": 2,
       "version_minor": 0
      },
      "text/plain": [
       "Resizing images (rxrx3):   0%|          | 0/100 [00:00<?, ?it/s]"
      ]
     },
     "metadata": {},
     "output_type": "display_data"
    },
    {
     "name": "stdout",
     "output_type": "stream",
     "text": [
      "Processing batch 690/1554\n"
     ]
    },
    {
     "data": {
      "application/vnd.jupyter.widget-view+json": {
       "model_id": "d58032cab78b4b5abca05a85e1a28fba",
       "version_major": 2,
       "version_minor": 0
      },
      "text/plain": [
       "Resizing images (rxrx3):   0%|          | 0/100 [00:00<?, ?it/s]"
      ]
     },
     "metadata": {},
     "output_type": "display_data"
    },
    {
     "name": "stdout",
     "output_type": "stream",
     "text": [
      "Processing batch 691/1554\n"
     ]
    },
    {
     "data": {
      "application/vnd.jupyter.widget-view+json": {
       "model_id": "615b18c0f5004bb48110a582f4acefae",
       "version_major": 2,
       "version_minor": 0
      },
      "text/plain": [
       "Resizing images (rxrx3):   0%|          | 0/100 [00:00<?, ?it/s]"
      ]
     },
     "metadata": {},
     "output_type": "display_data"
    },
    {
     "name": "stdout",
     "output_type": "stream",
     "text": [
      "Processing batch 692/1554\n"
     ]
    },
    {
     "data": {
      "application/vnd.jupyter.widget-view+json": {
       "model_id": "af2a7cff34ed441488a25fe3f72141b5",
       "version_major": 2,
       "version_minor": 0
      },
      "text/plain": [
       "Resizing images (rxrx3):   0%|          | 0/100 [00:00<?, ?it/s]"
      ]
     },
     "metadata": {},
     "output_type": "display_data"
    },
    {
     "name": "stdout",
     "output_type": "stream",
     "text": [
      "Processing batch 693/1554\n"
     ]
    },
    {
     "data": {
      "application/vnd.jupyter.widget-view+json": {
       "model_id": "a0d6967a66cd43ed8e34eceda71c4e02",
       "version_major": 2,
       "version_minor": 0
      },
      "text/plain": [
       "Resizing images (rxrx3):   0%|          | 0/100 [00:00<?, ?it/s]"
      ]
     },
     "metadata": {},
     "output_type": "display_data"
    },
    {
     "name": "stdout",
     "output_type": "stream",
     "text": [
      "Processing batch 694/1554\n"
     ]
    },
    {
     "data": {
      "application/vnd.jupyter.widget-view+json": {
       "model_id": "a0cf100f978f4d8783864d34020f6331",
       "version_major": 2,
       "version_minor": 0
      },
      "text/plain": [
       "Resizing images (rxrx3):   0%|          | 0/100 [00:00<?, ?it/s]"
      ]
     },
     "metadata": {},
     "output_type": "display_data"
    },
    {
     "name": "stdout",
     "output_type": "stream",
     "text": [
      "Processing batch 695/1554\n"
     ]
    },
    {
     "data": {
      "application/vnd.jupyter.widget-view+json": {
       "model_id": "8ce9c9e8a1d34f32816a2e47cba651a8",
       "version_major": 2,
       "version_minor": 0
      },
      "text/plain": [
       "Resizing images (rxrx3):   0%|          | 0/100 [00:00<?, ?it/s]"
      ]
     },
     "metadata": {},
     "output_type": "display_data"
    },
    {
     "name": "stdout",
     "output_type": "stream",
     "text": [
      "Processing batch 696/1554\n"
     ]
    },
    {
     "data": {
      "application/vnd.jupyter.widget-view+json": {
       "model_id": "5e7231a2bb7e491b8011f5896d26b2f9",
       "version_major": 2,
       "version_minor": 0
      },
      "text/plain": [
       "Resizing images (rxrx3):   0%|          | 0/100 [00:00<?, ?it/s]"
      ]
     },
     "metadata": {},
     "output_type": "display_data"
    },
    {
     "name": "stdout",
     "output_type": "stream",
     "text": [
      "Processing batch 697/1554\n"
     ]
    },
    {
     "data": {
      "application/vnd.jupyter.widget-view+json": {
       "model_id": "c2dcabe2df6748a5ab887e7fa2565b4c",
       "version_major": 2,
       "version_minor": 0
      },
      "text/plain": [
       "Resizing images (rxrx3):   0%|          | 0/100 [00:00<?, ?it/s]"
      ]
     },
     "metadata": {},
     "output_type": "display_data"
    },
    {
     "name": "stdout",
     "output_type": "stream",
     "text": [
      "Processing batch 698/1554\n"
     ]
    },
    {
     "data": {
      "application/vnd.jupyter.widget-view+json": {
       "model_id": "dc7527b5d1294504ba5f2976c5d9ec67",
       "version_major": 2,
       "version_minor": 0
      },
      "text/plain": [
       "Resizing images (rxrx3):   0%|          | 0/100 [00:00<?, ?it/s]"
      ]
     },
     "metadata": {},
     "output_type": "display_data"
    },
    {
     "name": "stdout",
     "output_type": "stream",
     "text": [
      "Processing batch 699/1554\n"
     ]
    },
    {
     "data": {
      "application/vnd.jupyter.widget-view+json": {
       "model_id": "18cb78004c174363a4f75c1622aa8472",
       "version_major": 2,
       "version_minor": 0
      },
      "text/plain": [
       "Resizing images (rxrx3):   0%|          | 0/100 [00:00<?, ?it/s]"
      ]
     },
     "metadata": {},
     "output_type": "display_data"
    },
    {
     "name": "stdout",
     "output_type": "stream",
     "text": [
      "Processing batch 700/1554\n"
     ]
    },
    {
     "data": {
      "application/vnd.jupyter.widget-view+json": {
       "model_id": "f9a3b1719a5a43a690b5a138e00be599",
       "version_major": 2,
       "version_minor": 0
      },
      "text/plain": [
       "Resizing images (rxrx3):   0%|          | 0/100 [00:00<?, ?it/s]"
      ]
     },
     "metadata": {},
     "output_type": "display_data"
    },
    {
     "name": "stdout",
     "output_type": "stream",
     "text": [
      "Processing batch 701/1554\n"
     ]
    },
    {
     "data": {
      "application/vnd.jupyter.widget-view+json": {
       "model_id": "04356dcdb75749f8991fc05453f239d2",
       "version_major": 2,
       "version_minor": 0
      },
      "text/plain": [
       "Resizing images (rxrx3):   0%|          | 0/100 [00:00<?, ?it/s]"
      ]
     },
     "metadata": {},
     "output_type": "display_data"
    },
    {
     "name": "stdout",
     "output_type": "stream",
     "text": [
      "Processing batch 702/1554\n"
     ]
    },
    {
     "data": {
      "application/vnd.jupyter.widget-view+json": {
       "model_id": "6d17f6d82fa943b99b330846875e749d",
       "version_major": 2,
       "version_minor": 0
      },
      "text/plain": [
       "Resizing images (rxrx3):   0%|          | 0/100 [00:00<?, ?it/s]"
      ]
     },
     "metadata": {},
     "output_type": "display_data"
    },
    {
     "name": "stdout",
     "output_type": "stream",
     "text": [
      "Processing batch 703/1554\n"
     ]
    },
    {
     "data": {
      "application/vnd.jupyter.widget-view+json": {
       "model_id": "ce12f8afb43f4975b120e9ddd9eae640",
       "version_major": 2,
       "version_minor": 0
      },
      "text/plain": [
       "Resizing images (rxrx3):   0%|          | 0/100 [00:00<?, ?it/s]"
      ]
     },
     "metadata": {},
     "output_type": "display_data"
    },
    {
     "name": "stdout",
     "output_type": "stream",
     "text": [
      "Processing batch 704/1554\n"
     ]
    },
    {
     "data": {
      "application/vnd.jupyter.widget-view+json": {
       "model_id": "3b1d7b2e57aa472485641035f341368b",
       "version_major": 2,
       "version_minor": 0
      },
      "text/plain": [
       "Resizing images (rxrx3):   0%|          | 0/100 [00:00<?, ?it/s]"
      ]
     },
     "metadata": {},
     "output_type": "display_data"
    },
    {
     "name": "stdout",
     "output_type": "stream",
     "text": [
      "Processing batch 705/1554\n"
     ]
    },
    {
     "data": {
      "application/vnd.jupyter.widget-view+json": {
       "model_id": "c9f7b5ebb7d44ab1ae5e76277035134a",
       "version_major": 2,
       "version_minor": 0
      },
      "text/plain": [
       "Resizing images (rxrx3):   0%|          | 0/100 [00:00<?, ?it/s]"
      ]
     },
     "metadata": {},
     "output_type": "display_data"
    },
    {
     "name": "stdout",
     "output_type": "stream",
     "text": [
      "Processing batch 706/1554\n"
     ]
    },
    {
     "data": {
      "application/vnd.jupyter.widget-view+json": {
       "model_id": "af1e1ddfa78840e3b555330ffb39f80b",
       "version_major": 2,
       "version_minor": 0
      },
      "text/plain": [
       "Resizing images (rxrx3):   0%|          | 0/100 [00:00<?, ?it/s]"
      ]
     },
     "metadata": {},
     "output_type": "display_data"
    },
    {
     "name": "stdout",
     "output_type": "stream",
     "text": [
      "Processing batch 707/1554\n"
     ]
    },
    {
     "data": {
      "application/vnd.jupyter.widget-view+json": {
       "model_id": "98b8839b0b864cbcbb0c22a1cb036733",
       "version_major": 2,
       "version_minor": 0
      },
      "text/plain": [
       "Resizing images (rxrx3):   0%|          | 0/100 [00:00<?, ?it/s]"
      ]
     },
     "metadata": {},
     "output_type": "display_data"
    },
    {
     "name": "stdout",
     "output_type": "stream",
     "text": [
      "Processing batch 708/1554\n"
     ]
    },
    {
     "data": {
      "application/vnd.jupyter.widget-view+json": {
       "model_id": "ae747f19079e4d6b81c5e903ba200568",
       "version_major": 2,
       "version_minor": 0
      },
      "text/plain": [
       "Resizing images (rxrx3):   0%|          | 0/100 [00:00<?, ?it/s]"
      ]
     },
     "metadata": {},
     "output_type": "display_data"
    },
    {
     "name": "stdout",
     "output_type": "stream",
     "text": [
      "Processing batch 709/1554\n"
     ]
    },
    {
     "data": {
      "application/vnd.jupyter.widget-view+json": {
       "model_id": "bb29899af6774871ae3dcca2b954105a",
       "version_major": 2,
       "version_minor": 0
      },
      "text/plain": [
       "Resizing images (rxrx3):   0%|          | 0/100 [00:00<?, ?it/s]"
      ]
     },
     "metadata": {},
     "output_type": "display_data"
    },
    {
     "name": "stdout",
     "output_type": "stream",
     "text": [
      "Processing batch 710/1554\n"
     ]
    },
    {
     "data": {
      "application/vnd.jupyter.widget-view+json": {
       "model_id": "55c66b468cca4c39a1296a099c07a075",
       "version_major": 2,
       "version_minor": 0
      },
      "text/plain": [
       "Resizing images (rxrx3):   0%|          | 0/100 [00:00<?, ?it/s]"
      ]
     },
     "metadata": {},
     "output_type": "display_data"
    },
    {
     "name": "stdout",
     "output_type": "stream",
     "text": [
      "Processing batch 711/1554\n"
     ]
    },
    {
     "data": {
      "application/vnd.jupyter.widget-view+json": {
       "model_id": "6678962374d142e394fefd96d68b1c1c",
       "version_major": 2,
       "version_minor": 0
      },
      "text/plain": [
       "Resizing images (rxrx3):   0%|          | 0/100 [00:00<?, ?it/s]"
      ]
     },
     "metadata": {},
     "output_type": "display_data"
    },
    {
     "name": "stdout",
     "output_type": "stream",
     "text": [
      "Processing batch 712/1554\n"
     ]
    },
    {
     "data": {
      "application/vnd.jupyter.widget-view+json": {
       "model_id": "99da2d2fcef84ee5840cf7164812eab0",
       "version_major": 2,
       "version_minor": 0
      },
      "text/plain": [
       "Resizing images (rxrx3):   0%|          | 0/100 [00:00<?, ?it/s]"
      ]
     },
     "metadata": {},
     "output_type": "display_data"
    },
    {
     "name": "stdout",
     "output_type": "stream",
     "text": [
      "Processing batch 713/1554\n"
     ]
    },
    {
     "data": {
      "application/vnd.jupyter.widget-view+json": {
       "model_id": "9e18ccb6fd3e4f04b2447d759509eebc",
       "version_major": 2,
       "version_minor": 0
      },
      "text/plain": [
       "Resizing images (rxrx3):   0%|          | 0/100 [00:00<?, ?it/s]"
      ]
     },
     "metadata": {},
     "output_type": "display_data"
    },
    {
     "name": "stdout",
     "output_type": "stream",
     "text": [
      "Processing batch 714/1554\n"
     ]
    },
    {
     "data": {
      "application/vnd.jupyter.widget-view+json": {
       "model_id": "3307ef7a869c488ba0733e2e7459a481",
       "version_major": 2,
       "version_minor": 0
      },
      "text/plain": [
       "Resizing images (rxrx3):   0%|          | 0/100 [00:00<?, ?it/s]"
      ]
     },
     "metadata": {},
     "output_type": "display_data"
    },
    {
     "name": "stdout",
     "output_type": "stream",
     "text": [
      "Processing batch 715/1554\n"
     ]
    },
    {
     "data": {
      "application/vnd.jupyter.widget-view+json": {
       "model_id": "1b8a115d914340a39a11c406d87e741d",
       "version_major": 2,
       "version_minor": 0
      },
      "text/plain": [
       "Resizing images (rxrx3):   0%|          | 0/100 [00:00<?, ?it/s]"
      ]
     },
     "metadata": {},
     "output_type": "display_data"
    },
    {
     "name": "stdout",
     "output_type": "stream",
     "text": [
      "Processing batch 716/1554\n"
     ]
    },
    {
     "data": {
      "application/vnd.jupyter.widget-view+json": {
       "model_id": "90920995d2e44e0ab95d01d65820afde",
       "version_major": 2,
       "version_minor": 0
      },
      "text/plain": [
       "Resizing images (rxrx3):   0%|          | 0/100 [00:00<?, ?it/s]"
      ]
     },
     "metadata": {},
     "output_type": "display_data"
    },
    {
     "name": "stdout",
     "output_type": "stream",
     "text": [
      "Processing batch 717/1554\n"
     ]
    },
    {
     "data": {
      "application/vnd.jupyter.widget-view+json": {
       "model_id": "61a7fd6767df4e25818f874946c0e5c9",
       "version_major": 2,
       "version_minor": 0
      },
      "text/plain": [
       "Resizing images (rxrx3):   0%|          | 0/100 [00:00<?, ?it/s]"
      ]
     },
     "metadata": {},
     "output_type": "display_data"
    },
    {
     "name": "stdout",
     "output_type": "stream",
     "text": [
      "Processing batch 718/1554\n"
     ]
    },
    {
     "data": {
      "application/vnd.jupyter.widget-view+json": {
       "model_id": "3c11c7f6a56447b2b3058dc1443fcb3f",
       "version_major": 2,
       "version_minor": 0
      },
      "text/plain": [
       "Resizing images (rxrx3):   0%|          | 0/100 [00:00<?, ?it/s]"
      ]
     },
     "metadata": {},
     "output_type": "display_data"
    },
    {
     "name": "stdout",
     "output_type": "stream",
     "text": [
      "Processing batch 719/1554\n"
     ]
    },
    {
     "data": {
      "application/vnd.jupyter.widget-view+json": {
       "model_id": "fcc605bd55a74611a29f07ae2c925af4",
       "version_major": 2,
       "version_minor": 0
      },
      "text/plain": [
       "Resizing images (rxrx3):   0%|          | 0/100 [00:00<?, ?it/s]"
      ]
     },
     "metadata": {},
     "output_type": "display_data"
    },
    {
     "name": "stdout",
     "output_type": "stream",
     "text": [
      "Processing batch 720/1554\n"
     ]
    },
    {
     "data": {
      "application/vnd.jupyter.widget-view+json": {
       "model_id": "91b6380ac1c344ffafbfc2eb365fa480",
       "version_major": 2,
       "version_minor": 0
      },
      "text/plain": [
       "Resizing images (rxrx3):   0%|          | 0/100 [00:00<?, ?it/s]"
      ]
     },
     "metadata": {},
     "output_type": "display_data"
    },
    {
     "name": "stdout",
     "output_type": "stream",
     "text": [
      "Processing batch 721/1554\n"
     ]
    },
    {
     "data": {
      "application/vnd.jupyter.widget-view+json": {
       "model_id": "f8167c972d3f4d1e9bf0e49fe86dc84f",
       "version_major": 2,
       "version_minor": 0
      },
      "text/plain": [
       "Resizing images (rxrx3):   0%|          | 0/100 [00:00<?, ?it/s]"
      ]
     },
     "metadata": {},
     "output_type": "display_data"
    },
    {
     "name": "stdout",
     "output_type": "stream",
     "text": [
      "Processing batch 722/1554\n"
     ]
    },
    {
     "data": {
      "application/vnd.jupyter.widget-view+json": {
       "model_id": "c1f949dee9214b4c858256132eaf687f",
       "version_major": 2,
       "version_minor": 0
      },
      "text/plain": [
       "Resizing images (rxrx3):   0%|          | 0/100 [00:00<?, ?it/s]"
      ]
     },
     "metadata": {},
     "output_type": "display_data"
    },
    {
     "name": "stdout",
     "output_type": "stream",
     "text": [
      "Processing batch 723/1554\n"
     ]
    },
    {
     "data": {
      "application/vnd.jupyter.widget-view+json": {
       "model_id": "ed92a7b6689d482d99e2a067bd31aaf9",
       "version_major": 2,
       "version_minor": 0
      },
      "text/plain": [
       "Resizing images (rxrx3):   0%|          | 0/100 [00:00<?, ?it/s]"
      ]
     },
     "metadata": {},
     "output_type": "display_data"
    },
    {
     "name": "stdout",
     "output_type": "stream",
     "text": [
      "Processing batch 724/1554\n"
     ]
    },
    {
     "data": {
      "application/vnd.jupyter.widget-view+json": {
       "model_id": "6799572f8b0d42e1a5628682afce9877",
       "version_major": 2,
       "version_minor": 0
      },
      "text/plain": [
       "Resizing images (rxrx3):   0%|          | 0/100 [00:00<?, ?it/s]"
      ]
     },
     "metadata": {},
     "output_type": "display_data"
    },
    {
     "name": "stdout",
     "output_type": "stream",
     "text": [
      "Processing batch 725/1554\n"
     ]
    },
    {
     "data": {
      "application/vnd.jupyter.widget-view+json": {
       "model_id": "fd4ead26974d4ddd9a245257d6e511f5",
       "version_major": 2,
       "version_minor": 0
      },
      "text/plain": [
       "Resizing images (rxrx3):   0%|          | 0/100 [00:00<?, ?it/s]"
      ]
     },
     "metadata": {},
     "output_type": "display_data"
    },
    {
     "name": "stdout",
     "output_type": "stream",
     "text": [
      "Processing batch 726/1554\n"
     ]
    },
    {
     "data": {
      "application/vnd.jupyter.widget-view+json": {
       "model_id": "bf88013ff56a41ce8fdac9cfe1797483",
       "version_major": 2,
       "version_minor": 0
      },
      "text/plain": [
       "Resizing images (rxrx3):   0%|          | 0/100 [00:00<?, ?it/s]"
      ]
     },
     "metadata": {},
     "output_type": "display_data"
    },
    {
     "name": "stdout",
     "output_type": "stream",
     "text": [
      "Processing batch 727/1554\n"
     ]
    },
    {
     "data": {
      "application/vnd.jupyter.widget-view+json": {
       "model_id": "06730bda98e04811a15b83e924f01238",
       "version_major": 2,
       "version_minor": 0
      },
      "text/plain": [
       "Resizing images (rxrx3):   0%|          | 0/100 [00:00<?, ?it/s]"
      ]
     },
     "metadata": {},
     "output_type": "display_data"
    },
    {
     "name": "stdout",
     "output_type": "stream",
     "text": [
      "Processing batch 728/1554\n"
     ]
    },
    {
     "data": {
      "application/vnd.jupyter.widget-view+json": {
       "model_id": "80cc2f18e083429c815040413573429b",
       "version_major": 2,
       "version_minor": 0
      },
      "text/plain": [
       "Resizing images (rxrx3):   0%|          | 0/100 [00:00<?, ?it/s]"
      ]
     },
     "metadata": {},
     "output_type": "display_data"
    },
    {
     "name": "stdout",
     "output_type": "stream",
     "text": [
      "Processing batch 729/1554\n"
     ]
    },
    {
     "data": {
      "application/vnd.jupyter.widget-view+json": {
       "model_id": "d15b92856d0b4b7b977b12b6cbfc949e",
       "version_major": 2,
       "version_minor": 0
      },
      "text/plain": [
       "Resizing images (rxrx3):   0%|          | 0/100 [00:00<?, ?it/s]"
      ]
     },
     "metadata": {},
     "output_type": "display_data"
    },
    {
     "name": "stdout",
     "output_type": "stream",
     "text": [
      "Processing batch 730/1554\n"
     ]
    },
    {
     "data": {
      "application/vnd.jupyter.widget-view+json": {
       "model_id": "056149ad435a4a879e9d3259c871d53c",
       "version_major": 2,
       "version_minor": 0
      },
      "text/plain": [
       "Resizing images (rxrx3):   0%|          | 0/100 [00:00<?, ?it/s]"
      ]
     },
     "metadata": {},
     "output_type": "display_data"
    },
    {
     "name": "stdout",
     "output_type": "stream",
     "text": [
      "Processing batch 731/1554\n"
     ]
    },
    {
     "data": {
      "application/vnd.jupyter.widget-view+json": {
       "model_id": "50ee982a484d48a0a681376dec3349d1",
       "version_major": 2,
       "version_minor": 0
      },
      "text/plain": [
       "Resizing images (rxrx3):   0%|          | 0/100 [00:00<?, ?it/s]"
      ]
     },
     "metadata": {},
     "output_type": "display_data"
    },
    {
     "name": "stdout",
     "output_type": "stream",
     "text": [
      "Processing batch 732/1554\n"
     ]
    },
    {
     "data": {
      "application/vnd.jupyter.widget-view+json": {
       "model_id": "d938e1714c7843bfb15cb77566198430",
       "version_major": 2,
       "version_minor": 0
      },
      "text/plain": [
       "Resizing images (rxrx3):   0%|          | 0/100 [00:00<?, ?it/s]"
      ]
     },
     "metadata": {},
     "output_type": "display_data"
    },
    {
     "name": "stdout",
     "output_type": "stream",
     "text": [
      "Processing batch 733/1554\n"
     ]
    },
    {
     "data": {
      "application/vnd.jupyter.widget-view+json": {
       "model_id": "0972c89be308497ea0e8c7a6e7df55a1",
       "version_major": 2,
       "version_minor": 0
      },
      "text/plain": [
       "Resizing images (rxrx3):   0%|          | 0/100 [00:00<?, ?it/s]"
      ]
     },
     "metadata": {},
     "output_type": "display_data"
    },
    {
     "name": "stdout",
     "output_type": "stream",
     "text": [
      "Processing batch 734/1554\n"
     ]
    },
    {
     "data": {
      "application/vnd.jupyter.widget-view+json": {
       "model_id": "7185d18ea48346d8af9ef43d29fdd30a",
       "version_major": 2,
       "version_minor": 0
      },
      "text/plain": [
       "Resizing images (rxrx3):   0%|          | 0/100 [00:00<?, ?it/s]"
      ]
     },
     "metadata": {},
     "output_type": "display_data"
    },
    {
     "name": "stdout",
     "output_type": "stream",
     "text": [
      "Processing batch 735/1554\n"
     ]
    },
    {
     "data": {
      "application/vnd.jupyter.widget-view+json": {
       "model_id": "55b1f8ce3fd6469daba2ad2f0b6fc264",
       "version_major": 2,
       "version_minor": 0
      },
      "text/plain": [
       "Resizing images (rxrx3):   0%|          | 0/100 [00:00<?, ?it/s]"
      ]
     },
     "metadata": {},
     "output_type": "display_data"
    },
    {
     "name": "stdout",
     "output_type": "stream",
     "text": [
      "Processing batch 736/1554\n"
     ]
    },
    {
     "data": {
      "application/vnd.jupyter.widget-view+json": {
       "model_id": "ca20f8f4cb234adea748ff916e82a688",
       "version_major": 2,
       "version_minor": 0
      },
      "text/plain": [
       "Resizing images (rxrx3):   0%|          | 0/100 [00:00<?, ?it/s]"
      ]
     },
     "metadata": {},
     "output_type": "display_data"
    },
    {
     "name": "stdout",
     "output_type": "stream",
     "text": [
      "Processing batch 737/1554\n"
     ]
    },
    {
     "data": {
      "application/vnd.jupyter.widget-view+json": {
       "model_id": "bf85d79679f142e5bda78bc36759667e",
       "version_major": 2,
       "version_minor": 0
      },
      "text/plain": [
       "Resizing images (rxrx3):   0%|          | 0/100 [00:00<?, ?it/s]"
      ]
     },
     "metadata": {},
     "output_type": "display_data"
    },
    {
     "name": "stdout",
     "output_type": "stream",
     "text": [
      "Processing batch 738/1554\n"
     ]
    },
    {
     "data": {
      "application/vnd.jupyter.widget-view+json": {
       "model_id": "fddd55067c59412c8f66e412749c25d4",
       "version_major": 2,
       "version_minor": 0
      },
      "text/plain": [
       "Resizing images (rxrx3):   0%|          | 0/100 [00:00<?, ?it/s]"
      ]
     },
     "metadata": {},
     "output_type": "display_data"
    },
    {
     "name": "stdout",
     "output_type": "stream",
     "text": [
      "Processing batch 739/1554\n"
     ]
    },
    {
     "data": {
      "application/vnd.jupyter.widget-view+json": {
       "model_id": "bf5855efe40546d18f7459d2304f475b",
       "version_major": 2,
       "version_minor": 0
      },
      "text/plain": [
       "Resizing images (rxrx3):   0%|          | 0/100 [00:00<?, ?it/s]"
      ]
     },
     "metadata": {},
     "output_type": "display_data"
    },
    {
     "name": "stdout",
     "output_type": "stream",
     "text": [
      "Processing batch 740/1554\n"
     ]
    },
    {
     "data": {
      "application/vnd.jupyter.widget-view+json": {
       "model_id": "4f1973a91e9945b39455ec4c2c21614a",
       "version_major": 2,
       "version_minor": 0
      },
      "text/plain": [
       "Resizing images (rxrx3):   0%|          | 0/100 [00:00<?, ?it/s]"
      ]
     },
     "metadata": {},
     "output_type": "display_data"
    },
    {
     "name": "stdout",
     "output_type": "stream",
     "text": [
      "Processing batch 741/1554\n"
     ]
    },
    {
     "data": {
      "application/vnd.jupyter.widget-view+json": {
       "model_id": "39ae1c7bf8dc4d47a1fe980e6cd906e2",
       "version_major": 2,
       "version_minor": 0
      },
      "text/plain": [
       "Resizing images (rxrx3):   0%|          | 0/100 [00:00<?, ?it/s]"
      ]
     },
     "metadata": {},
     "output_type": "display_data"
    },
    {
     "name": "stdout",
     "output_type": "stream",
     "text": [
      "Processing batch 742/1554\n"
     ]
    },
    {
     "data": {
      "application/vnd.jupyter.widget-view+json": {
       "model_id": "192e8d86b5b04aefa12334ef72b2668d",
       "version_major": 2,
       "version_minor": 0
      },
      "text/plain": [
       "Resizing images (rxrx3):   0%|          | 0/100 [00:00<?, ?it/s]"
      ]
     },
     "metadata": {},
     "output_type": "display_data"
    },
    {
     "name": "stdout",
     "output_type": "stream",
     "text": [
      "Processing batch 743/1554\n"
     ]
    },
    {
     "data": {
      "application/vnd.jupyter.widget-view+json": {
       "model_id": "b9122ba39bd0412fa709c09c6329e1ad",
       "version_major": 2,
       "version_minor": 0
      },
      "text/plain": [
       "Resizing images (rxrx3):   0%|          | 0/100 [00:00<?, ?it/s]"
      ]
     },
     "metadata": {},
     "output_type": "display_data"
    },
    {
     "name": "stdout",
     "output_type": "stream",
     "text": [
      "Processing batch 744/1554\n"
     ]
    },
    {
     "data": {
      "application/vnd.jupyter.widget-view+json": {
       "model_id": "ed433fc214c04169a574d83badb1403b",
       "version_major": 2,
       "version_minor": 0
      },
      "text/plain": [
       "Resizing images (rxrx3):   0%|          | 0/100 [00:00<?, ?it/s]"
      ]
     },
     "metadata": {},
     "output_type": "display_data"
    },
    {
     "name": "stdout",
     "output_type": "stream",
     "text": [
      "Processing batch 745/1554\n"
     ]
    },
    {
     "data": {
      "application/vnd.jupyter.widget-view+json": {
       "model_id": "cfad1ded86ea4d34ace176c0fd6c8995",
       "version_major": 2,
       "version_minor": 0
      },
      "text/plain": [
       "Resizing images (rxrx3):   0%|          | 0/100 [00:00<?, ?it/s]"
      ]
     },
     "metadata": {},
     "output_type": "display_data"
    },
    {
     "name": "stdout",
     "output_type": "stream",
     "text": [
      "Processing batch 746/1554\n"
     ]
    },
    {
     "data": {
      "application/vnd.jupyter.widget-view+json": {
       "model_id": "cc1efaec4a2544a0b2b3a7654f013dc3",
       "version_major": 2,
       "version_minor": 0
      },
      "text/plain": [
       "Resizing images (rxrx3):   0%|          | 0/100 [00:00<?, ?it/s]"
      ]
     },
     "metadata": {},
     "output_type": "display_data"
    },
    {
     "name": "stdout",
     "output_type": "stream",
     "text": [
      "Processing batch 747/1554\n"
     ]
    },
    {
     "data": {
      "application/vnd.jupyter.widget-view+json": {
       "model_id": "bf86a32282f74eedad47c0043f1e90cc",
       "version_major": 2,
       "version_minor": 0
      },
      "text/plain": [
       "Resizing images (rxrx3):   0%|          | 0/100 [00:00<?, ?it/s]"
      ]
     },
     "metadata": {},
     "output_type": "display_data"
    },
    {
     "name": "stdout",
     "output_type": "stream",
     "text": [
      "Processing batch 748/1554\n"
     ]
    },
    {
     "data": {
      "application/vnd.jupyter.widget-view+json": {
       "model_id": "2119320f687e446e832e77e4bd7a04e6",
       "version_major": 2,
       "version_minor": 0
      },
      "text/plain": [
       "Resizing images (rxrx3):   0%|          | 0/100 [00:00<?, ?it/s]"
      ]
     },
     "metadata": {},
     "output_type": "display_data"
    },
    {
     "name": "stdout",
     "output_type": "stream",
     "text": [
      "Processing batch 749/1554\n"
     ]
    },
    {
     "data": {
      "application/vnd.jupyter.widget-view+json": {
       "model_id": "a98601caad2f44b5b0ec70bd1d595818",
       "version_major": 2,
       "version_minor": 0
      },
      "text/plain": [
       "Resizing images (rxrx3):   0%|          | 0/100 [00:00<?, ?it/s]"
      ]
     },
     "metadata": {},
     "output_type": "display_data"
    },
    {
     "name": "stdout",
     "output_type": "stream",
     "text": [
      "Processing batch 750/1554\n"
     ]
    },
    {
     "data": {
      "application/vnd.jupyter.widget-view+json": {
       "model_id": "f08c52e2dd26428fbdecb000ba0f6ae4",
       "version_major": 2,
       "version_minor": 0
      },
      "text/plain": [
       "Resizing images (rxrx3):   0%|          | 0/100 [00:00<?, ?it/s]"
      ]
     },
     "metadata": {},
     "output_type": "display_data"
    },
    {
     "name": "stdout",
     "output_type": "stream",
     "text": [
      "Processing batch 751/1554\n"
     ]
    },
    {
     "data": {
      "application/vnd.jupyter.widget-view+json": {
       "model_id": "1bf3e7c38870405bbd38af68ac2762d5",
       "version_major": 2,
       "version_minor": 0
      },
      "text/plain": [
       "Resizing images (rxrx3):   0%|          | 0/100 [00:00<?, ?it/s]"
      ]
     },
     "metadata": {},
     "output_type": "display_data"
    },
    {
     "name": "stdout",
     "output_type": "stream",
     "text": [
      "Processing batch 752/1554\n"
     ]
    },
    {
     "data": {
      "application/vnd.jupyter.widget-view+json": {
       "model_id": "9d0f5b278c354f43b37a7529eafb58f5",
       "version_major": 2,
       "version_minor": 0
      },
      "text/plain": [
       "Resizing images (rxrx3):   0%|          | 0/100 [00:00<?, ?it/s]"
      ]
     },
     "metadata": {},
     "output_type": "display_data"
    },
    {
     "name": "stdout",
     "output_type": "stream",
     "text": [
      "Processing batch 753/1554\n"
     ]
    },
    {
     "data": {
      "application/vnd.jupyter.widget-view+json": {
       "model_id": "aa30a78742a1403aa3bdb8c1db1746ca",
       "version_major": 2,
       "version_minor": 0
      },
      "text/plain": [
       "Resizing images (rxrx3):   0%|          | 0/100 [00:00<?, ?it/s]"
      ]
     },
     "metadata": {},
     "output_type": "display_data"
    },
    {
     "name": "stdout",
     "output_type": "stream",
     "text": [
      "Processing batch 754/1554\n"
     ]
    },
    {
     "data": {
      "application/vnd.jupyter.widget-view+json": {
       "model_id": "b4fdd86b2787472595c4119694af88b4",
       "version_major": 2,
       "version_minor": 0
      },
      "text/plain": [
       "Resizing images (rxrx3):   0%|          | 0/100 [00:00<?, ?it/s]"
      ]
     },
     "metadata": {},
     "output_type": "display_data"
    },
    {
     "name": "stdout",
     "output_type": "stream",
     "text": [
      "Processing batch 755/1554\n"
     ]
    },
    {
     "data": {
      "application/vnd.jupyter.widget-view+json": {
       "model_id": "72f6fcbe11ae4c7f9ad0a7dd64b5b41f",
       "version_major": 2,
       "version_minor": 0
      },
      "text/plain": [
       "Resizing images (rxrx3):   0%|          | 0/100 [00:00<?, ?it/s]"
      ]
     },
     "metadata": {},
     "output_type": "display_data"
    },
    {
     "name": "stdout",
     "output_type": "stream",
     "text": [
      "Processing batch 756/1554\n"
     ]
    },
    {
     "data": {
      "application/vnd.jupyter.widget-view+json": {
       "model_id": "38d2d84f56ea4beab2af36131b3040b8",
       "version_major": 2,
       "version_minor": 0
      },
      "text/plain": [
       "Resizing images (rxrx3):   0%|          | 0/100 [00:00<?, ?it/s]"
      ]
     },
     "metadata": {},
     "output_type": "display_data"
    },
    {
     "name": "stdout",
     "output_type": "stream",
     "text": [
      "Processing batch 757/1554\n"
     ]
    },
    {
     "data": {
      "application/vnd.jupyter.widget-view+json": {
       "model_id": "421ed996c2eb434d9118f43ef0b09504",
       "version_major": 2,
       "version_minor": 0
      },
      "text/plain": [
       "Resizing images (rxrx3):   0%|          | 0/100 [00:00<?, ?it/s]"
      ]
     },
     "metadata": {},
     "output_type": "display_data"
    },
    {
     "name": "stdout",
     "output_type": "stream",
     "text": [
      "Processing batch 758/1554\n"
     ]
    },
    {
     "data": {
      "application/vnd.jupyter.widget-view+json": {
       "model_id": "93d2f7a99a4f43f9a486550aef3e20a0",
       "version_major": 2,
       "version_minor": 0
      },
      "text/plain": [
       "Resizing images (rxrx3):   0%|          | 0/100 [00:00<?, ?it/s]"
      ]
     },
     "metadata": {},
     "output_type": "display_data"
    },
    {
     "name": "stdout",
     "output_type": "stream",
     "text": [
      "Processing batch 759/1554\n"
     ]
    },
    {
     "data": {
      "application/vnd.jupyter.widget-view+json": {
       "model_id": "c017f6609fe94bd2afd49adeabc7f221",
       "version_major": 2,
       "version_minor": 0
      },
      "text/plain": [
       "Resizing images (rxrx3):   0%|          | 0/100 [00:00<?, ?it/s]"
      ]
     },
     "metadata": {},
     "output_type": "display_data"
    },
    {
     "name": "stdout",
     "output_type": "stream",
     "text": [
      "Processing batch 760/1554\n"
     ]
    },
    {
     "data": {
      "application/vnd.jupyter.widget-view+json": {
       "model_id": "41dfd935b25c48afbd28741c758ca23e",
       "version_major": 2,
       "version_minor": 0
      },
      "text/plain": [
       "Resizing images (rxrx3):   0%|          | 0/100 [00:00<?, ?it/s]"
      ]
     },
     "metadata": {},
     "output_type": "display_data"
    },
    {
     "name": "stdout",
     "output_type": "stream",
     "text": [
      "Processing batch 761/1554\n"
     ]
    },
    {
     "data": {
      "application/vnd.jupyter.widget-view+json": {
       "model_id": "0200331f26f04a2c9aa845c1d2b1a904",
       "version_major": 2,
       "version_minor": 0
      },
      "text/plain": [
       "Resizing images (rxrx3):   0%|          | 0/100 [00:00<?, ?it/s]"
      ]
     },
     "metadata": {},
     "output_type": "display_data"
    },
    {
     "name": "stdout",
     "output_type": "stream",
     "text": [
      "Processing batch 762/1554\n"
     ]
    },
    {
     "data": {
      "application/vnd.jupyter.widget-view+json": {
       "model_id": "ddeabcc6e079405780e4ce0f8349cfad",
       "version_major": 2,
       "version_minor": 0
      },
      "text/plain": [
       "Resizing images (rxrx3):   0%|          | 0/100 [00:00<?, ?it/s]"
      ]
     },
     "metadata": {},
     "output_type": "display_data"
    },
    {
     "name": "stdout",
     "output_type": "stream",
     "text": [
      "Processing batch 763/1554\n"
     ]
    },
    {
     "data": {
      "application/vnd.jupyter.widget-view+json": {
       "model_id": "ef6bfeb2928945bcb7866fa3ddee213a",
       "version_major": 2,
       "version_minor": 0
      },
      "text/plain": [
       "Resizing images (rxrx3):   0%|          | 0/100 [00:00<?, ?it/s]"
      ]
     },
     "metadata": {},
     "output_type": "display_data"
    },
    {
     "name": "stdout",
     "output_type": "stream",
     "text": [
      "Processing batch 764/1554\n"
     ]
    },
    {
     "data": {
      "application/vnd.jupyter.widget-view+json": {
       "model_id": "c6651a2dff7d4458a7211bd7a409c9f2",
       "version_major": 2,
       "version_minor": 0
      },
      "text/plain": [
       "Resizing images (rxrx3):   0%|          | 0/100 [00:00<?, ?it/s]"
      ]
     },
     "metadata": {},
     "output_type": "display_data"
    },
    {
     "name": "stdout",
     "output_type": "stream",
     "text": [
      "Processing batch 765/1554\n"
     ]
    },
    {
     "data": {
      "application/vnd.jupyter.widget-view+json": {
       "model_id": "4c56fca1b3854798bce56d8058139c37",
       "version_major": 2,
       "version_minor": 0
      },
      "text/plain": [
       "Resizing images (rxrx3):   0%|          | 0/100 [00:00<?, ?it/s]"
      ]
     },
     "metadata": {},
     "output_type": "display_data"
    },
    {
     "name": "stdout",
     "output_type": "stream",
     "text": [
      "Processing batch 766/1554\n"
     ]
    },
    {
     "data": {
      "application/vnd.jupyter.widget-view+json": {
       "model_id": "89add4c0719445c581fdb4ca2c37891c",
       "version_major": 2,
       "version_minor": 0
      },
      "text/plain": [
       "Resizing images (rxrx3):   0%|          | 0/100 [00:00<?, ?it/s]"
      ]
     },
     "metadata": {},
     "output_type": "display_data"
    },
    {
     "name": "stdout",
     "output_type": "stream",
     "text": [
      "Processing batch 767/1554\n"
     ]
    },
    {
     "data": {
      "application/vnd.jupyter.widget-view+json": {
       "model_id": "a0ebca63eec349e8ace39928cc67dc5b",
       "version_major": 2,
       "version_minor": 0
      },
      "text/plain": [
       "Resizing images (rxrx3):   0%|          | 0/100 [00:00<?, ?it/s]"
      ]
     },
     "metadata": {},
     "output_type": "display_data"
    },
    {
     "name": "stdout",
     "output_type": "stream",
     "text": [
      "Processing batch 768/1554\n"
     ]
    },
    {
     "data": {
      "application/vnd.jupyter.widget-view+json": {
       "model_id": "8b01750037b9404ebd6fc74129d9bde7",
       "version_major": 2,
       "version_minor": 0
      },
      "text/plain": [
       "Resizing images (rxrx3):   0%|          | 0/100 [00:00<?, ?it/s]"
      ]
     },
     "metadata": {},
     "output_type": "display_data"
    },
    {
     "name": "stdout",
     "output_type": "stream",
     "text": [
      "Processing batch 769/1554\n"
     ]
    },
    {
     "data": {
      "application/vnd.jupyter.widget-view+json": {
       "model_id": "52b773d2c42f49ca813fe4dcf8972c95",
       "version_major": 2,
       "version_minor": 0
      },
      "text/plain": [
       "Resizing images (rxrx3):   0%|          | 0/100 [00:00<?, ?it/s]"
      ]
     },
     "metadata": {},
     "output_type": "display_data"
    },
    {
     "name": "stdout",
     "output_type": "stream",
     "text": [
      "Processing batch 770/1554\n"
     ]
    },
    {
     "data": {
      "application/vnd.jupyter.widget-view+json": {
       "model_id": "d8c1198493434b9da03f074639b4f4c7",
       "version_major": 2,
       "version_minor": 0
      },
      "text/plain": [
       "Resizing images (rxrx3):   0%|          | 0/100 [00:00<?, ?it/s]"
      ]
     },
     "metadata": {},
     "output_type": "display_data"
    },
    {
     "name": "stdout",
     "output_type": "stream",
     "text": [
      "Processing batch 771/1554\n"
     ]
    },
    {
     "data": {
      "application/vnd.jupyter.widget-view+json": {
       "model_id": "782c00347436413fb7c6c5b113a5162d",
       "version_major": 2,
       "version_minor": 0
      },
      "text/plain": [
       "Resizing images (rxrx3):   0%|          | 0/100 [00:00<?, ?it/s]"
      ]
     },
     "metadata": {},
     "output_type": "display_data"
    },
    {
     "name": "stdout",
     "output_type": "stream",
     "text": [
      "Processing batch 772/1554\n"
     ]
    },
    {
     "data": {
      "application/vnd.jupyter.widget-view+json": {
       "model_id": "c3584599674248e0a52e3721565c9c65",
       "version_major": 2,
       "version_minor": 0
      },
      "text/plain": [
       "Resizing images (rxrx3):   0%|          | 0/100 [00:00<?, ?it/s]"
      ]
     },
     "metadata": {},
     "output_type": "display_data"
    },
    {
     "name": "stdout",
     "output_type": "stream",
     "text": [
      "Processing batch 773/1554\n"
     ]
    },
    {
     "data": {
      "application/vnd.jupyter.widget-view+json": {
       "model_id": "bef658d6950a471c922bfaf3000cfbf1",
       "version_major": 2,
       "version_minor": 0
      },
      "text/plain": [
       "Resizing images (rxrx3):   0%|          | 0/100 [00:00<?, ?it/s]"
      ]
     },
     "metadata": {},
     "output_type": "display_data"
    },
    {
     "name": "stdout",
     "output_type": "stream",
     "text": [
      "Processing batch 774/1554\n"
     ]
    },
    {
     "data": {
      "application/vnd.jupyter.widget-view+json": {
       "model_id": "603503ad45894a48873eea5765fa729b",
       "version_major": 2,
       "version_minor": 0
      },
      "text/plain": [
       "Resizing images (rxrx3):   0%|          | 0/100 [00:00<?, ?it/s]"
      ]
     },
     "metadata": {},
     "output_type": "display_data"
    },
    {
     "name": "stdout",
     "output_type": "stream",
     "text": [
      "Processing batch 775/1554\n"
     ]
    },
    {
     "data": {
      "application/vnd.jupyter.widget-view+json": {
       "model_id": "adb728b2b31b4976ada0d399d664034a",
       "version_major": 2,
       "version_minor": 0
      },
      "text/plain": [
       "Resizing images (rxrx3):   0%|          | 0/100 [00:00<?, ?it/s]"
      ]
     },
     "metadata": {},
     "output_type": "display_data"
    },
    {
     "name": "stdout",
     "output_type": "stream",
     "text": [
      "Processing batch 776/1554\n"
     ]
    },
    {
     "data": {
      "application/vnd.jupyter.widget-view+json": {
       "model_id": "e493dccaba4142708bf2f0f203b68578",
       "version_major": 2,
       "version_minor": 0
      },
      "text/plain": [
       "Resizing images (rxrx3):   0%|          | 0/100 [00:00<?, ?it/s]"
      ]
     },
     "metadata": {},
     "output_type": "display_data"
    },
    {
     "name": "stdout",
     "output_type": "stream",
     "text": [
      "Processing batch 777/1554\n"
     ]
    },
    {
     "data": {
      "application/vnd.jupyter.widget-view+json": {
       "model_id": "6b275d88c436447c99ae44e751224b3c",
       "version_major": 2,
       "version_minor": 0
      },
      "text/plain": [
       "Resizing images (rxrx3):   0%|          | 0/100 [00:00<?, ?it/s]"
      ]
     },
     "metadata": {},
     "output_type": "display_data"
    },
    {
     "name": "stdout",
     "output_type": "stream",
     "text": [
      "Processing batch 778/1554\n"
     ]
    },
    {
     "data": {
      "application/vnd.jupyter.widget-view+json": {
       "model_id": "335d3ffe15c548e58372b59bd83bb076",
       "version_major": 2,
       "version_minor": 0
      },
      "text/plain": [
       "Resizing images (rxrx3):   0%|          | 0/100 [00:00<?, ?it/s]"
      ]
     },
     "metadata": {},
     "output_type": "display_data"
    },
    {
     "name": "stdout",
     "output_type": "stream",
     "text": [
      "Processing batch 779/1554\n"
     ]
    },
    {
     "data": {
      "application/vnd.jupyter.widget-view+json": {
       "model_id": "f1865a87b9ac4882ba760b5aca0b2e4a",
       "version_major": 2,
       "version_minor": 0
      },
      "text/plain": [
       "Resizing images (rxrx3):   0%|          | 0/100 [00:00<?, ?it/s]"
      ]
     },
     "metadata": {},
     "output_type": "display_data"
    },
    {
     "name": "stdout",
     "output_type": "stream",
     "text": [
      "Processing batch 780/1554\n"
     ]
    },
    {
     "data": {
      "application/vnd.jupyter.widget-view+json": {
       "model_id": "a22f8be992cf4ee89ad7de77713c86a6",
       "version_major": 2,
       "version_minor": 0
      },
      "text/plain": [
       "Resizing images (rxrx3):   0%|          | 0/100 [00:00<?, ?it/s]"
      ]
     },
     "metadata": {},
     "output_type": "display_data"
    },
    {
     "name": "stdout",
     "output_type": "stream",
     "text": [
      "Processing batch 781/1554\n"
     ]
    },
    {
     "data": {
      "application/vnd.jupyter.widget-view+json": {
       "model_id": "bb034eb8ae4a49aea95438029ec66661",
       "version_major": 2,
       "version_minor": 0
      },
      "text/plain": [
       "Resizing images (rxrx3):   0%|          | 0/100 [00:00<?, ?it/s]"
      ]
     },
     "metadata": {},
     "output_type": "display_data"
    },
    {
     "name": "stdout",
     "output_type": "stream",
     "text": [
      "Processing batch 782/1554\n"
     ]
    },
    {
     "data": {
      "application/vnd.jupyter.widget-view+json": {
       "model_id": "058bbf9ee183438e958abb85489f284c",
       "version_major": 2,
       "version_minor": 0
      },
      "text/plain": [
       "Resizing images (rxrx3):   0%|          | 0/100 [00:00<?, ?it/s]"
      ]
     },
     "metadata": {},
     "output_type": "display_data"
    },
    {
     "name": "stdout",
     "output_type": "stream",
     "text": [
      "Processing batch 783/1554\n"
     ]
    },
    {
     "data": {
      "application/vnd.jupyter.widget-view+json": {
       "model_id": "80ca5785d9d5495b9d2b60a645b87978",
       "version_major": 2,
       "version_minor": 0
      },
      "text/plain": [
       "Resizing images (rxrx3):   0%|          | 0/100 [00:00<?, ?it/s]"
      ]
     },
     "metadata": {},
     "output_type": "display_data"
    },
    {
     "name": "stdout",
     "output_type": "stream",
     "text": [
      "Processing batch 784/1554\n"
     ]
    },
    {
     "data": {
      "application/vnd.jupyter.widget-view+json": {
       "model_id": "5c4b32b937cd479b9f6a86794df1c6b6",
       "version_major": 2,
       "version_minor": 0
      },
      "text/plain": [
       "Resizing images (rxrx3):   0%|          | 0/100 [00:00<?, ?it/s]"
      ]
     },
     "metadata": {},
     "output_type": "display_data"
    },
    {
     "name": "stdout",
     "output_type": "stream",
     "text": [
      "Processing batch 785/1554\n"
     ]
    },
    {
     "data": {
      "application/vnd.jupyter.widget-view+json": {
       "model_id": "cb3a744130324a26836ae84b9223bf3d",
       "version_major": 2,
       "version_minor": 0
      },
      "text/plain": [
       "Resizing images (rxrx3):   0%|          | 0/100 [00:00<?, ?it/s]"
      ]
     },
     "metadata": {},
     "output_type": "display_data"
    },
    {
     "name": "stdout",
     "output_type": "stream",
     "text": [
      "Processing batch 786/1554\n"
     ]
    },
    {
     "data": {
      "application/vnd.jupyter.widget-view+json": {
       "model_id": "21495f692ec342cdb2ad75ebc74c6c38",
       "version_major": 2,
       "version_minor": 0
      },
      "text/plain": [
       "Resizing images (rxrx3):   0%|          | 0/100 [00:00<?, ?it/s]"
      ]
     },
     "metadata": {},
     "output_type": "display_data"
    },
    {
     "name": "stdout",
     "output_type": "stream",
     "text": [
      "Processing batch 787/1554\n"
     ]
    },
    {
     "data": {
      "application/vnd.jupyter.widget-view+json": {
       "model_id": "85a9fd6379a34a1baa0e24e123bfff63",
       "version_major": 2,
       "version_minor": 0
      },
      "text/plain": [
       "Resizing images (rxrx3):   0%|          | 0/100 [00:00<?, ?it/s]"
      ]
     },
     "metadata": {},
     "output_type": "display_data"
    },
    {
     "name": "stdout",
     "output_type": "stream",
     "text": [
      "Processing batch 788/1554\n"
     ]
    },
    {
     "data": {
      "application/vnd.jupyter.widget-view+json": {
       "model_id": "866ad8d05135459081f9452759200f8c",
       "version_major": 2,
       "version_minor": 0
      },
      "text/plain": [
       "Resizing images (rxrx3):   0%|          | 0/100 [00:00<?, ?it/s]"
      ]
     },
     "metadata": {},
     "output_type": "display_data"
    },
    {
     "name": "stdout",
     "output_type": "stream",
     "text": [
      "Processing batch 789/1554\n"
     ]
    },
    {
     "data": {
      "application/vnd.jupyter.widget-view+json": {
       "model_id": "d8a7cc6e2df24411a81bec34217ecdde",
       "version_major": 2,
       "version_minor": 0
      },
      "text/plain": [
       "Resizing images (rxrx3):   0%|          | 0/100 [00:00<?, ?it/s]"
      ]
     },
     "metadata": {},
     "output_type": "display_data"
    },
    {
     "name": "stdout",
     "output_type": "stream",
     "text": [
      "Processing batch 790/1554\n"
     ]
    },
    {
     "data": {
      "application/vnd.jupyter.widget-view+json": {
       "model_id": "103bb773115b4c198ffd9c09027bc3bc",
       "version_major": 2,
       "version_minor": 0
      },
      "text/plain": [
       "Resizing images (rxrx3):   0%|          | 0/100 [00:00<?, ?it/s]"
      ]
     },
     "metadata": {},
     "output_type": "display_data"
    },
    {
     "name": "stdout",
     "output_type": "stream",
     "text": [
      "Processing batch 791/1554\n"
     ]
    },
    {
     "data": {
      "application/vnd.jupyter.widget-view+json": {
       "model_id": "c61bfe759df54ce6a24dd8d54ccbf81a",
       "version_major": 2,
       "version_minor": 0
      },
      "text/plain": [
       "Resizing images (rxrx3):   0%|          | 0/100 [00:00<?, ?it/s]"
      ]
     },
     "metadata": {},
     "output_type": "display_data"
    },
    {
     "name": "stdout",
     "output_type": "stream",
     "text": [
      "Processing batch 792/1554\n"
     ]
    },
    {
     "data": {
      "application/vnd.jupyter.widget-view+json": {
       "model_id": "0f9cc9488548431f9a8c3ccacf76661a",
       "version_major": 2,
       "version_minor": 0
      },
      "text/plain": [
       "Resizing images (rxrx3):   0%|          | 0/100 [00:00<?, ?it/s]"
      ]
     },
     "metadata": {},
     "output_type": "display_data"
    },
    {
     "name": "stdout",
     "output_type": "stream",
     "text": [
      "Processing batch 793/1554\n"
     ]
    },
    {
     "data": {
      "application/vnd.jupyter.widget-view+json": {
       "model_id": "a3bf92841acd4f54b70b609bcb907319",
       "version_major": 2,
       "version_minor": 0
      },
      "text/plain": [
       "Resizing images (rxrx3):   0%|          | 0/100 [00:00<?, ?it/s]"
      ]
     },
     "metadata": {},
     "output_type": "display_data"
    },
    {
     "name": "stdout",
     "output_type": "stream",
     "text": [
      "Processing batch 794/1554\n"
     ]
    },
    {
     "data": {
      "application/vnd.jupyter.widget-view+json": {
       "model_id": "a33a28e826d84a13bd9cc489dd994258",
       "version_major": 2,
       "version_minor": 0
      },
      "text/plain": [
       "Resizing images (rxrx3):   0%|          | 0/100 [00:00<?, ?it/s]"
      ]
     },
     "metadata": {},
     "output_type": "display_data"
    },
    {
     "name": "stdout",
     "output_type": "stream",
     "text": [
      "Processing batch 795/1554\n"
     ]
    },
    {
     "data": {
      "application/vnd.jupyter.widget-view+json": {
       "model_id": "adff9c5236c7428e8ddbc545babfa9bc",
       "version_major": 2,
       "version_minor": 0
      },
      "text/plain": [
       "Resizing images (rxrx3):   0%|          | 0/100 [00:00<?, ?it/s]"
      ]
     },
     "metadata": {},
     "output_type": "display_data"
    },
    {
     "name": "stdout",
     "output_type": "stream",
     "text": [
      "Processing batch 796/1554\n"
     ]
    },
    {
     "data": {
      "application/vnd.jupyter.widget-view+json": {
       "model_id": "99b07dcaf5c44580b35bb58089e7a3b0",
       "version_major": 2,
       "version_minor": 0
      },
      "text/plain": [
       "Resizing images (rxrx3):   0%|          | 0/100 [00:00<?, ?it/s]"
      ]
     },
     "metadata": {},
     "output_type": "display_data"
    },
    {
     "name": "stdout",
     "output_type": "stream",
     "text": [
      "Processing batch 797/1554\n"
     ]
    },
    {
     "data": {
      "application/vnd.jupyter.widget-view+json": {
       "model_id": "6be0fa8985224e479b5b77df1c40b4a8",
       "version_major": 2,
       "version_minor": 0
      },
      "text/plain": [
       "Resizing images (rxrx3):   0%|          | 0/100 [00:00<?, ?it/s]"
      ]
     },
     "metadata": {},
     "output_type": "display_data"
    },
    {
     "name": "stdout",
     "output_type": "stream",
     "text": [
      "Processing batch 798/1554\n"
     ]
    },
    {
     "data": {
      "application/vnd.jupyter.widget-view+json": {
       "model_id": "2a300a5209084e4c8322c94d95d5d82e",
       "version_major": 2,
       "version_minor": 0
      },
      "text/plain": [
       "Resizing images (rxrx3):   0%|          | 0/100 [00:00<?, ?it/s]"
      ]
     },
     "metadata": {},
     "output_type": "display_data"
    },
    {
     "name": "stdout",
     "output_type": "stream",
     "text": [
      "Processing batch 799/1554\n"
     ]
    },
    {
     "data": {
      "application/vnd.jupyter.widget-view+json": {
       "model_id": "7ef234a2878042b9830d5c48ac852ce9",
       "version_major": 2,
       "version_minor": 0
      },
      "text/plain": [
       "Resizing images (rxrx3):   0%|          | 0/100 [00:00<?, ?it/s]"
      ]
     },
     "metadata": {},
     "output_type": "display_data"
    },
    {
     "name": "stdout",
     "output_type": "stream",
     "text": [
      "Processing batch 800/1554\n"
     ]
    },
    {
     "data": {
      "application/vnd.jupyter.widget-view+json": {
       "model_id": "9909b479274743a58a86075d9c68b985",
       "version_major": 2,
       "version_minor": 0
      },
      "text/plain": [
       "Resizing images (rxrx3):   0%|          | 0/100 [00:00<?, ?it/s]"
      ]
     },
     "metadata": {},
     "output_type": "display_data"
    },
    {
     "name": "stdout",
     "output_type": "stream",
     "text": [
      "Processing batch 801/1554\n"
     ]
    },
    {
     "data": {
      "application/vnd.jupyter.widget-view+json": {
       "model_id": "81f5f9a89cf748db9a9105c79d9ff3d8",
       "version_major": 2,
       "version_minor": 0
      },
      "text/plain": [
       "Resizing images (rxrx3):   0%|          | 0/100 [00:00<?, ?it/s]"
      ]
     },
     "metadata": {},
     "output_type": "display_data"
    },
    {
     "name": "stdout",
     "output_type": "stream",
     "text": [
      "Processing batch 802/1554\n"
     ]
    },
    {
     "data": {
      "application/vnd.jupyter.widget-view+json": {
       "model_id": "b8bd99fa652342a59f890a85816a4142",
       "version_major": 2,
       "version_minor": 0
      },
      "text/plain": [
       "Resizing images (rxrx3):   0%|          | 0/100 [00:00<?, ?it/s]"
      ]
     },
     "metadata": {},
     "output_type": "display_data"
    },
    {
     "name": "stdout",
     "output_type": "stream",
     "text": [
      "Processing batch 803/1554\n"
     ]
    },
    {
     "data": {
      "application/vnd.jupyter.widget-view+json": {
       "model_id": "c33e38db853f40eaa8dd054733d5df31",
       "version_major": 2,
       "version_minor": 0
      },
      "text/plain": [
       "Resizing images (rxrx3):   0%|          | 0/100 [00:00<?, ?it/s]"
      ]
     },
     "metadata": {},
     "output_type": "display_data"
    },
    {
     "name": "stdout",
     "output_type": "stream",
     "text": [
      "Processing batch 804/1554\n"
     ]
    },
    {
     "data": {
      "application/vnd.jupyter.widget-view+json": {
       "model_id": "9a874a16e05a45d6b43b0f6ec4ec3554",
       "version_major": 2,
       "version_minor": 0
      },
      "text/plain": [
       "Resizing images (rxrx3):   0%|          | 0/100 [00:00<?, ?it/s]"
      ]
     },
     "metadata": {},
     "output_type": "display_data"
    },
    {
     "name": "stdout",
     "output_type": "stream",
     "text": [
      "Processing batch 805/1554\n"
     ]
    },
    {
     "data": {
      "application/vnd.jupyter.widget-view+json": {
       "model_id": "7c1d30a7d89d4b748e62bc60d3e7c6dd",
       "version_major": 2,
       "version_minor": 0
      },
      "text/plain": [
       "Resizing images (rxrx3):   0%|          | 0/100 [00:00<?, ?it/s]"
      ]
     },
     "metadata": {},
     "output_type": "display_data"
    },
    {
     "name": "stdout",
     "output_type": "stream",
     "text": [
      "Processing batch 806/1554\n"
     ]
    },
    {
     "data": {
      "application/vnd.jupyter.widget-view+json": {
       "model_id": "7a5ba8da92c84ecb967849382e03db29",
       "version_major": 2,
       "version_minor": 0
      },
      "text/plain": [
       "Resizing images (rxrx3):   0%|          | 0/100 [00:00<?, ?it/s]"
      ]
     },
     "metadata": {},
     "output_type": "display_data"
    },
    {
     "name": "stdout",
     "output_type": "stream",
     "text": [
      "Processing batch 807/1554\n"
     ]
    },
    {
     "data": {
      "application/vnd.jupyter.widget-view+json": {
       "model_id": "f74602ad96934b168c34673710a15dbb",
       "version_major": 2,
       "version_minor": 0
      },
      "text/plain": [
       "Resizing images (rxrx3):   0%|          | 0/100 [00:00<?, ?it/s]"
      ]
     },
     "metadata": {},
     "output_type": "display_data"
    },
    {
     "name": "stdout",
     "output_type": "stream",
     "text": [
      "Processing batch 808/1554\n"
     ]
    },
    {
     "data": {
      "application/vnd.jupyter.widget-view+json": {
       "model_id": "a3214cc13ad447aeb2e777513effd19a",
       "version_major": 2,
       "version_minor": 0
      },
      "text/plain": [
       "Resizing images (rxrx3):   0%|          | 0/100 [00:00<?, ?it/s]"
      ]
     },
     "metadata": {},
     "output_type": "display_data"
    },
    {
     "name": "stdout",
     "output_type": "stream",
     "text": [
      "Processing batch 809/1554\n"
     ]
    },
    {
     "data": {
      "application/vnd.jupyter.widget-view+json": {
       "model_id": "3b95ab8360284e7d82c41bf67955a3cb",
       "version_major": 2,
       "version_minor": 0
      },
      "text/plain": [
       "Resizing images (rxrx3):   0%|          | 0/100 [00:00<?, ?it/s]"
      ]
     },
     "metadata": {},
     "output_type": "display_data"
    },
    {
     "name": "stdout",
     "output_type": "stream",
     "text": [
      "Processing batch 810/1554\n"
     ]
    },
    {
     "data": {
      "application/vnd.jupyter.widget-view+json": {
       "model_id": "b3f293d07ed1475692f0a87f5c5ef284",
       "version_major": 2,
       "version_minor": 0
      },
      "text/plain": [
       "Resizing images (rxrx3):   0%|          | 0/100 [00:00<?, ?it/s]"
      ]
     },
     "metadata": {},
     "output_type": "display_data"
    },
    {
     "name": "stdout",
     "output_type": "stream",
     "text": [
      "Processing batch 811/1554\n"
     ]
    },
    {
     "data": {
      "application/vnd.jupyter.widget-view+json": {
       "model_id": "7d3f3b0c4d664838aec97ce13bb49db4",
       "version_major": 2,
       "version_minor": 0
      },
      "text/plain": [
       "Resizing images (rxrx3):   0%|          | 0/100 [00:00<?, ?it/s]"
      ]
     },
     "metadata": {},
     "output_type": "display_data"
    },
    {
     "name": "stdout",
     "output_type": "stream",
     "text": [
      "Processing batch 812/1554\n"
     ]
    },
    {
     "data": {
      "application/vnd.jupyter.widget-view+json": {
       "model_id": "4eaf1f21bd76407e83bf7909d732eaec",
       "version_major": 2,
       "version_minor": 0
      },
      "text/plain": [
       "Resizing images (rxrx3):   0%|          | 0/100 [00:00<?, ?it/s]"
      ]
     },
     "metadata": {},
     "output_type": "display_data"
    },
    {
     "name": "stdout",
     "output_type": "stream",
     "text": [
      "Processing batch 813/1554\n"
     ]
    },
    {
     "data": {
      "application/vnd.jupyter.widget-view+json": {
       "model_id": "fcf3577121ae4a6087679840bd1a6e59",
       "version_major": 2,
       "version_minor": 0
      },
      "text/plain": [
       "Resizing images (rxrx3):   0%|          | 0/100 [00:00<?, ?it/s]"
      ]
     },
     "metadata": {},
     "output_type": "display_data"
    },
    {
     "name": "stdout",
     "output_type": "stream",
     "text": [
      "Processing batch 814/1554\n"
     ]
    },
    {
     "data": {
      "application/vnd.jupyter.widget-view+json": {
       "model_id": "185e9dd0dcf94c388da77fc57410f958",
       "version_major": 2,
       "version_minor": 0
      },
      "text/plain": [
       "Resizing images (rxrx3):   0%|          | 0/100 [00:00<?, ?it/s]"
      ]
     },
     "metadata": {},
     "output_type": "display_data"
    },
    {
     "name": "stdout",
     "output_type": "stream",
     "text": [
      "Processing batch 815/1554\n"
     ]
    },
    {
     "data": {
      "application/vnd.jupyter.widget-view+json": {
       "model_id": "77682983861c425bb1a7c5ca88e32fca",
       "version_major": 2,
       "version_minor": 0
      },
      "text/plain": [
       "Resizing images (rxrx3):   0%|          | 0/100 [00:00<?, ?it/s]"
      ]
     },
     "metadata": {},
     "output_type": "display_data"
    },
    {
     "name": "stdout",
     "output_type": "stream",
     "text": [
      "Processing batch 816/1554\n"
     ]
    },
    {
     "data": {
      "application/vnd.jupyter.widget-view+json": {
       "model_id": "0823d5e44445475f97df92f8088e02b5",
       "version_major": 2,
       "version_minor": 0
      },
      "text/plain": [
       "Resizing images (rxrx3):   0%|          | 0/100 [00:00<?, ?it/s]"
      ]
     },
     "metadata": {},
     "output_type": "display_data"
    },
    {
     "name": "stdout",
     "output_type": "stream",
     "text": [
      "Processing batch 817/1554\n"
     ]
    },
    {
     "data": {
      "application/vnd.jupyter.widget-view+json": {
       "model_id": "9772fd4a005849f689b55e52f04ca84b",
       "version_major": 2,
       "version_minor": 0
      },
      "text/plain": [
       "Resizing images (rxrx3):   0%|          | 0/100 [00:00<?, ?it/s]"
      ]
     },
     "metadata": {},
     "output_type": "display_data"
    },
    {
     "name": "stdout",
     "output_type": "stream",
     "text": [
      "Processing batch 818/1554\n"
     ]
    },
    {
     "data": {
      "application/vnd.jupyter.widget-view+json": {
       "model_id": "627f7815a117443bb0628d97e1594799",
       "version_major": 2,
       "version_minor": 0
      },
      "text/plain": [
       "Resizing images (rxrx3):   0%|          | 0/100 [00:00<?, ?it/s]"
      ]
     },
     "metadata": {},
     "output_type": "display_data"
    },
    {
     "name": "stdout",
     "output_type": "stream",
     "text": [
      "Processing batch 819/1554\n"
     ]
    },
    {
     "data": {
      "application/vnd.jupyter.widget-view+json": {
       "model_id": "b88c1c0381d040908fdd9509d59d0e03",
       "version_major": 2,
       "version_minor": 0
      },
      "text/plain": [
       "Resizing images (rxrx3):   0%|          | 0/100 [00:00<?, ?it/s]"
      ]
     },
     "metadata": {},
     "output_type": "display_data"
    },
    {
     "name": "stdout",
     "output_type": "stream",
     "text": [
      "Processing batch 820/1554\n"
     ]
    },
    {
     "data": {
      "application/vnd.jupyter.widget-view+json": {
       "model_id": "e4c16706d75b49fbb4a8831d6b077bf0",
       "version_major": 2,
       "version_minor": 0
      },
      "text/plain": [
       "Resizing images (rxrx3):   0%|          | 0/100 [00:00<?, ?it/s]"
      ]
     },
     "metadata": {},
     "output_type": "display_data"
    },
    {
     "name": "stdout",
     "output_type": "stream",
     "text": [
      "Processing batch 821/1554\n"
     ]
    },
    {
     "data": {
      "application/vnd.jupyter.widget-view+json": {
       "model_id": "acc79684147140bb88c20bf4ba8a449b",
       "version_major": 2,
       "version_minor": 0
      },
      "text/plain": [
       "Resizing images (rxrx3):   0%|          | 0/100 [00:00<?, ?it/s]"
      ]
     },
     "metadata": {},
     "output_type": "display_data"
    },
    {
     "name": "stdout",
     "output_type": "stream",
     "text": [
      "Processing batch 822/1554\n"
     ]
    },
    {
     "data": {
      "application/vnd.jupyter.widget-view+json": {
       "model_id": "15b4c2f6a8d8408283e23d7ac47042f1",
       "version_major": 2,
       "version_minor": 0
      },
      "text/plain": [
       "Resizing images (rxrx3):   0%|          | 0/100 [00:00<?, ?it/s]"
      ]
     },
     "metadata": {},
     "output_type": "display_data"
    },
    {
     "name": "stdout",
     "output_type": "stream",
     "text": [
      "Processing batch 823/1554\n"
     ]
    },
    {
     "data": {
      "application/vnd.jupyter.widget-view+json": {
       "model_id": "487d321d705f44bba0c7b99b92667812",
       "version_major": 2,
       "version_minor": 0
      },
      "text/plain": [
       "Resizing images (rxrx3):   0%|          | 0/100 [00:00<?, ?it/s]"
      ]
     },
     "metadata": {},
     "output_type": "display_data"
    },
    {
     "name": "stdout",
     "output_type": "stream",
     "text": [
      "Processing batch 824/1554\n"
     ]
    },
    {
     "data": {
      "application/vnd.jupyter.widget-view+json": {
       "model_id": "8377d35037bf4b368182ec7a2e4062f5",
       "version_major": 2,
       "version_minor": 0
      },
      "text/plain": [
       "Resizing images (rxrx3):   0%|          | 0/100 [00:00<?, ?it/s]"
      ]
     },
     "metadata": {},
     "output_type": "display_data"
    },
    {
     "name": "stdout",
     "output_type": "stream",
     "text": [
      "Processing batch 825/1554\n"
     ]
    },
    {
     "data": {
      "application/vnd.jupyter.widget-view+json": {
       "model_id": "d1d28e7d25e9491781de87d51c749cb5",
       "version_major": 2,
       "version_minor": 0
      },
      "text/plain": [
       "Resizing images (rxrx3):   0%|          | 0/100 [00:00<?, ?it/s]"
      ]
     },
     "metadata": {},
     "output_type": "display_data"
    },
    {
     "name": "stdout",
     "output_type": "stream",
     "text": [
      "Processing batch 826/1554\n"
     ]
    },
    {
     "data": {
      "application/vnd.jupyter.widget-view+json": {
       "model_id": "4f6bebb105924076afc447b188f45181",
       "version_major": 2,
       "version_minor": 0
      },
      "text/plain": [
       "Resizing images (rxrx3):   0%|          | 0/100 [00:00<?, ?it/s]"
      ]
     },
     "metadata": {},
     "output_type": "display_data"
    },
    {
     "name": "stdout",
     "output_type": "stream",
     "text": [
      "Processing batch 827/1554\n"
     ]
    },
    {
     "data": {
      "application/vnd.jupyter.widget-view+json": {
       "model_id": "9eab5c91809a4fd1b11aadd6405bd158",
       "version_major": 2,
       "version_minor": 0
      },
      "text/plain": [
       "Resizing images (rxrx3):   0%|          | 0/100 [00:00<?, ?it/s]"
      ]
     },
     "metadata": {},
     "output_type": "display_data"
    },
    {
     "name": "stdout",
     "output_type": "stream",
     "text": [
      "Processing batch 828/1554\n"
     ]
    },
    {
     "data": {
      "application/vnd.jupyter.widget-view+json": {
       "model_id": "cb44417b8ea34f4eafa6065415a1d3f6",
       "version_major": 2,
       "version_minor": 0
      },
      "text/plain": [
       "Resizing images (rxrx3):   0%|          | 0/100 [00:00<?, ?it/s]"
      ]
     },
     "metadata": {},
     "output_type": "display_data"
    },
    {
     "name": "stdout",
     "output_type": "stream",
     "text": [
      "Processing batch 829/1554\n"
     ]
    },
    {
     "data": {
      "application/vnd.jupyter.widget-view+json": {
       "model_id": "d41853956d874ff8a52d3ddf07c654b6",
       "version_major": 2,
       "version_minor": 0
      },
      "text/plain": [
       "Resizing images (rxrx3):   0%|          | 0/100 [00:00<?, ?it/s]"
      ]
     },
     "metadata": {},
     "output_type": "display_data"
    },
    {
     "name": "stdout",
     "output_type": "stream",
     "text": [
      "Processing batch 830/1554\n"
     ]
    },
    {
     "data": {
      "application/vnd.jupyter.widget-view+json": {
       "model_id": "208daee0726a468b92116de456081f26",
       "version_major": 2,
       "version_minor": 0
      },
      "text/plain": [
       "Resizing images (rxrx3):   0%|          | 0/100 [00:00<?, ?it/s]"
      ]
     },
     "metadata": {},
     "output_type": "display_data"
    },
    {
     "name": "stdout",
     "output_type": "stream",
     "text": [
      "Processing batch 831/1554\n"
     ]
    },
    {
     "data": {
      "application/vnd.jupyter.widget-view+json": {
       "model_id": "67110019f858489ea245dbc01a9cf67b",
       "version_major": 2,
       "version_minor": 0
      },
      "text/plain": [
       "Resizing images (rxrx3):   0%|          | 0/100 [00:00<?, ?it/s]"
      ]
     },
     "metadata": {},
     "output_type": "display_data"
    },
    {
     "name": "stdout",
     "output_type": "stream",
     "text": [
      "Processing batch 832/1554\n"
     ]
    },
    {
     "data": {
      "application/vnd.jupyter.widget-view+json": {
       "model_id": "f857447bd9234b799a4f6d985a911acf",
       "version_major": 2,
       "version_minor": 0
      },
      "text/plain": [
       "Resizing images (rxrx3):   0%|          | 0/100 [00:00<?, ?it/s]"
      ]
     },
     "metadata": {},
     "output_type": "display_data"
    },
    {
     "name": "stdout",
     "output_type": "stream",
     "text": [
      "Processing batch 833/1554\n"
     ]
    },
    {
     "data": {
      "application/vnd.jupyter.widget-view+json": {
       "model_id": "d603d4e72caa4932b811569f927ec9f8",
       "version_major": 2,
       "version_minor": 0
      },
      "text/plain": [
       "Resizing images (rxrx3):   0%|          | 0/100 [00:00<?, ?it/s]"
      ]
     },
     "metadata": {},
     "output_type": "display_data"
    },
    {
     "name": "stdout",
     "output_type": "stream",
     "text": [
      "Processing batch 834/1554\n"
     ]
    },
    {
     "data": {
      "application/vnd.jupyter.widget-view+json": {
       "model_id": "e68175b22d33433ea40204477d3fe88b",
       "version_major": 2,
       "version_minor": 0
      },
      "text/plain": [
       "Resizing images (rxrx3):   0%|          | 0/100 [00:00<?, ?it/s]"
      ]
     },
     "metadata": {},
     "output_type": "display_data"
    },
    {
     "name": "stdout",
     "output_type": "stream",
     "text": [
      "Processing batch 835/1554\n"
     ]
    },
    {
     "data": {
      "application/vnd.jupyter.widget-view+json": {
       "model_id": "c1a36d9f86f1410e9c7eecae8cb63216",
       "version_major": 2,
       "version_minor": 0
      },
      "text/plain": [
       "Resizing images (rxrx3):   0%|          | 0/100 [00:00<?, ?it/s]"
      ]
     },
     "metadata": {},
     "output_type": "display_data"
    },
    {
     "name": "stdout",
     "output_type": "stream",
     "text": [
      "Processing batch 836/1554\n"
     ]
    },
    {
     "data": {
      "application/vnd.jupyter.widget-view+json": {
       "model_id": "c8c2016bed3a45c9bd912c66d9bc738d",
       "version_major": 2,
       "version_minor": 0
      },
      "text/plain": [
       "Resizing images (rxrx3):   0%|          | 0/100 [00:00<?, ?it/s]"
      ]
     },
     "metadata": {},
     "output_type": "display_data"
    },
    {
     "name": "stdout",
     "output_type": "stream",
     "text": [
      "Processing batch 837/1554\n"
     ]
    },
    {
     "data": {
      "application/vnd.jupyter.widget-view+json": {
       "model_id": "e54f0a6f5bfd434fba8f0a0d90d7911f",
       "version_major": 2,
       "version_minor": 0
      },
      "text/plain": [
       "Resizing images (rxrx3):   0%|          | 0/100 [00:00<?, ?it/s]"
      ]
     },
     "metadata": {},
     "output_type": "display_data"
    },
    {
     "name": "stdout",
     "output_type": "stream",
     "text": [
      "Processing batch 838/1554\n"
     ]
    },
    {
     "data": {
      "application/vnd.jupyter.widget-view+json": {
       "model_id": "14562aef126f498293b8c123e70d218d",
       "version_major": 2,
       "version_minor": 0
      },
      "text/plain": [
       "Resizing images (rxrx3):   0%|          | 0/100 [00:00<?, ?it/s]"
      ]
     },
     "metadata": {},
     "output_type": "display_data"
    },
    {
     "name": "stdout",
     "output_type": "stream",
     "text": [
      "Processing batch 839/1554\n"
     ]
    },
    {
     "data": {
      "application/vnd.jupyter.widget-view+json": {
       "model_id": "7dc49f7ad2c74f1bba3a89ec18af7777",
       "version_major": 2,
       "version_minor": 0
      },
      "text/plain": [
       "Resizing images (rxrx3):   0%|          | 0/100 [00:00<?, ?it/s]"
      ]
     },
     "metadata": {},
     "output_type": "display_data"
    },
    {
     "name": "stdout",
     "output_type": "stream",
     "text": [
      "Processing batch 840/1554\n"
     ]
    },
    {
     "data": {
      "application/vnd.jupyter.widget-view+json": {
       "model_id": "e14a2869a32343218782957a81fa061c",
       "version_major": 2,
       "version_minor": 0
      },
      "text/plain": [
       "Resizing images (rxrx3):   0%|          | 0/100 [00:00<?, ?it/s]"
      ]
     },
     "metadata": {},
     "output_type": "display_data"
    },
    {
     "name": "stdout",
     "output_type": "stream",
     "text": [
      "Processing batch 841/1554\n"
     ]
    },
    {
     "data": {
      "application/vnd.jupyter.widget-view+json": {
       "model_id": "4044b3c68a7a4f3994892cc9e3119caf",
       "version_major": 2,
       "version_minor": 0
      },
      "text/plain": [
       "Resizing images (rxrx3):   0%|          | 0/100 [00:00<?, ?it/s]"
      ]
     },
     "metadata": {},
     "output_type": "display_data"
    },
    {
     "name": "stdout",
     "output_type": "stream",
     "text": [
      "Processing batch 842/1554\n"
     ]
    },
    {
     "data": {
      "application/vnd.jupyter.widget-view+json": {
       "model_id": "ff938abd4f99499d8f678da7eda88eab",
       "version_major": 2,
       "version_minor": 0
      },
      "text/plain": [
       "Resizing images (rxrx3):   0%|          | 0/100 [00:00<?, ?it/s]"
      ]
     },
     "metadata": {},
     "output_type": "display_data"
    },
    {
     "name": "stdout",
     "output_type": "stream",
     "text": [
      "Processing batch 843/1554\n"
     ]
    },
    {
     "data": {
      "application/vnd.jupyter.widget-view+json": {
       "model_id": "160ddb8ba2484d129904dc02947d930f",
       "version_major": 2,
       "version_minor": 0
      },
      "text/plain": [
       "Resizing images (rxrx3):   0%|          | 0/100 [00:00<?, ?it/s]"
      ]
     },
     "metadata": {},
     "output_type": "display_data"
    },
    {
     "name": "stdout",
     "output_type": "stream",
     "text": [
      "Processing batch 844/1554\n"
     ]
    },
    {
     "data": {
      "application/vnd.jupyter.widget-view+json": {
       "model_id": "7f0b8fdcdaae4ed8ae4104af20c9474c",
       "version_major": 2,
       "version_minor": 0
      },
      "text/plain": [
       "Resizing images (rxrx3):   0%|          | 0/100 [00:00<?, ?it/s]"
      ]
     },
     "metadata": {},
     "output_type": "display_data"
    },
    {
     "name": "stdout",
     "output_type": "stream",
     "text": [
      "Processing batch 845/1554\n"
     ]
    },
    {
     "data": {
      "application/vnd.jupyter.widget-view+json": {
       "model_id": "1287a052b73a46d08320155f79104542",
       "version_major": 2,
       "version_minor": 0
      },
      "text/plain": [
       "Resizing images (rxrx3):   0%|          | 0/100 [00:00<?, ?it/s]"
      ]
     },
     "metadata": {},
     "output_type": "display_data"
    },
    {
     "name": "stdout",
     "output_type": "stream",
     "text": [
      "Processing batch 846/1554\n"
     ]
    },
    {
     "data": {
      "application/vnd.jupyter.widget-view+json": {
       "model_id": "050e2665c6684710bc1d89bba46a6929",
       "version_major": 2,
       "version_minor": 0
      },
      "text/plain": [
       "Resizing images (rxrx3):   0%|          | 0/100 [00:00<?, ?it/s]"
      ]
     },
     "metadata": {},
     "output_type": "display_data"
    },
    {
     "name": "stdout",
     "output_type": "stream",
     "text": [
      "Processing batch 847/1554\n"
     ]
    },
    {
     "data": {
      "application/vnd.jupyter.widget-view+json": {
       "model_id": "408079b8e57a4fe1bb99ff3224860c1e",
       "version_major": 2,
       "version_minor": 0
      },
      "text/plain": [
       "Resizing images (rxrx3):   0%|          | 0/100 [00:00<?, ?it/s]"
      ]
     },
     "metadata": {},
     "output_type": "display_data"
    },
    {
     "name": "stdout",
     "output_type": "stream",
     "text": [
      "Processing batch 848/1554\n"
     ]
    },
    {
     "data": {
      "application/vnd.jupyter.widget-view+json": {
       "model_id": "d4f2bb740b9d43c586ee8dc34574b448",
       "version_major": 2,
       "version_minor": 0
      },
      "text/plain": [
       "Resizing images (rxrx3):   0%|          | 0/100 [00:00<?, ?it/s]"
      ]
     },
     "metadata": {},
     "output_type": "display_data"
    },
    {
     "name": "stdout",
     "output_type": "stream",
     "text": [
      "Processing batch 849/1554\n"
     ]
    },
    {
     "data": {
      "application/vnd.jupyter.widget-view+json": {
       "model_id": "891773c602e742889e8a5a4ae6bff19d",
       "version_major": 2,
       "version_minor": 0
      },
      "text/plain": [
       "Resizing images (rxrx3):   0%|          | 0/100 [00:00<?, ?it/s]"
      ]
     },
     "metadata": {},
     "output_type": "display_data"
    },
    {
     "name": "stdout",
     "output_type": "stream",
     "text": [
      "Processing batch 850/1554\n"
     ]
    },
    {
     "data": {
      "application/vnd.jupyter.widget-view+json": {
       "model_id": "f8423ca7ff0541f6bfb5a2c96fdaa7e0",
       "version_major": 2,
       "version_minor": 0
      },
      "text/plain": [
       "Resizing images (rxrx3):   0%|          | 0/100 [00:00<?, ?it/s]"
      ]
     },
     "metadata": {},
     "output_type": "display_data"
    },
    {
     "name": "stdout",
     "output_type": "stream",
     "text": [
      "Processing batch 851/1554\n"
     ]
    },
    {
     "data": {
      "application/vnd.jupyter.widget-view+json": {
       "model_id": "cdc52630dc914aa0926453bde3afe77c",
       "version_major": 2,
       "version_minor": 0
      },
      "text/plain": [
       "Resizing images (rxrx3):   0%|          | 0/100 [00:00<?, ?it/s]"
      ]
     },
     "metadata": {},
     "output_type": "display_data"
    },
    {
     "name": "stdout",
     "output_type": "stream",
     "text": [
      "Processing batch 852/1554\n"
     ]
    },
    {
     "data": {
      "application/vnd.jupyter.widget-view+json": {
       "model_id": "25db9ca4b8f546e995edc4759a77eba8",
       "version_major": 2,
       "version_minor": 0
      },
      "text/plain": [
       "Resizing images (rxrx3):   0%|          | 0/100 [00:00<?, ?it/s]"
      ]
     },
     "metadata": {},
     "output_type": "display_data"
    },
    {
     "name": "stdout",
     "output_type": "stream",
     "text": [
      "Processing batch 853/1554\n"
     ]
    },
    {
     "data": {
      "application/vnd.jupyter.widget-view+json": {
       "model_id": "bec55ac2c5f3490297bee864be6e5d85",
       "version_major": 2,
       "version_minor": 0
      },
      "text/plain": [
       "Resizing images (rxrx3):   0%|          | 0/100 [00:00<?, ?it/s]"
      ]
     },
     "metadata": {},
     "output_type": "display_data"
    },
    {
     "name": "stdout",
     "output_type": "stream",
     "text": [
      "Processing batch 854/1554\n"
     ]
    },
    {
     "data": {
      "application/vnd.jupyter.widget-view+json": {
       "model_id": "0b301dd16b6c4d00b3f587544e023895",
       "version_major": 2,
       "version_minor": 0
      },
      "text/plain": [
       "Resizing images (rxrx3):   0%|          | 0/100 [00:00<?, ?it/s]"
      ]
     },
     "metadata": {},
     "output_type": "display_data"
    },
    {
     "name": "stdout",
     "output_type": "stream",
     "text": [
      "Processing batch 855/1554\n"
     ]
    },
    {
     "data": {
      "application/vnd.jupyter.widget-view+json": {
       "model_id": "f61900c4f78f48508f7fdfefda437da2",
       "version_major": 2,
       "version_minor": 0
      },
      "text/plain": [
       "Resizing images (rxrx3):   0%|          | 0/100 [00:00<?, ?it/s]"
      ]
     },
     "metadata": {},
     "output_type": "display_data"
    },
    {
     "name": "stdout",
     "output_type": "stream",
     "text": [
      "Processing batch 856/1554\n"
     ]
    },
    {
     "data": {
      "application/vnd.jupyter.widget-view+json": {
       "model_id": "cbcd01ede3214d9f8020fa637cc13272",
       "version_major": 2,
       "version_minor": 0
      },
      "text/plain": [
       "Resizing images (rxrx3):   0%|          | 0/100 [00:00<?, ?it/s]"
      ]
     },
     "metadata": {},
     "output_type": "display_data"
    },
    {
     "name": "stdout",
     "output_type": "stream",
     "text": [
      "Processing batch 857/1554\n"
     ]
    },
    {
     "data": {
      "application/vnd.jupyter.widget-view+json": {
       "model_id": "d64d604545f4486a8d220f61ac343163",
       "version_major": 2,
       "version_minor": 0
      },
      "text/plain": [
       "Resizing images (rxrx3):   0%|          | 0/100 [00:00<?, ?it/s]"
      ]
     },
     "metadata": {},
     "output_type": "display_data"
    },
    {
     "name": "stdout",
     "output_type": "stream",
     "text": [
      "Processing batch 858/1554\n"
     ]
    },
    {
     "data": {
      "application/vnd.jupyter.widget-view+json": {
       "model_id": "4a13abe29f144f29931da0a3da0556e8",
       "version_major": 2,
       "version_minor": 0
      },
      "text/plain": [
       "Resizing images (rxrx3):   0%|          | 0/100 [00:00<?, ?it/s]"
      ]
     },
     "metadata": {},
     "output_type": "display_data"
    },
    {
     "name": "stdout",
     "output_type": "stream",
     "text": [
      "Processing batch 859/1554\n"
     ]
    },
    {
     "data": {
      "application/vnd.jupyter.widget-view+json": {
       "model_id": "7aca53365fd744759233579ee0d8ce81",
       "version_major": 2,
       "version_minor": 0
      },
      "text/plain": [
       "Resizing images (rxrx3):   0%|          | 0/100 [00:00<?, ?it/s]"
      ]
     },
     "metadata": {},
     "output_type": "display_data"
    },
    {
     "name": "stdout",
     "output_type": "stream",
     "text": [
      "Processing batch 860/1554\n"
     ]
    },
    {
     "data": {
      "application/vnd.jupyter.widget-view+json": {
       "model_id": "89702a3ee8264c2d99eb17e609a9427d",
       "version_major": 2,
       "version_minor": 0
      },
      "text/plain": [
       "Resizing images (rxrx3):   0%|          | 0/100 [00:00<?, ?it/s]"
      ]
     },
     "metadata": {},
     "output_type": "display_data"
    },
    {
     "name": "stdout",
     "output_type": "stream",
     "text": [
      "Processing batch 861/1554\n"
     ]
    },
    {
     "data": {
      "application/vnd.jupyter.widget-view+json": {
       "model_id": "6891f771955d4f1f9d83ed118fe1b3e2",
       "version_major": 2,
       "version_minor": 0
      },
      "text/plain": [
       "Resizing images (rxrx3):   0%|          | 0/100 [00:00<?, ?it/s]"
      ]
     },
     "metadata": {},
     "output_type": "display_data"
    },
    {
     "name": "stdout",
     "output_type": "stream",
     "text": [
      "Processing batch 862/1554\n"
     ]
    },
    {
     "data": {
      "application/vnd.jupyter.widget-view+json": {
       "model_id": "b482e80b65184630b92db0551c069a92",
       "version_major": 2,
       "version_minor": 0
      },
      "text/plain": [
       "Resizing images (rxrx3):   0%|          | 0/100 [00:00<?, ?it/s]"
      ]
     },
     "metadata": {},
     "output_type": "display_data"
    },
    {
     "name": "stdout",
     "output_type": "stream",
     "text": [
      "Processing batch 863/1554\n"
     ]
    },
    {
     "data": {
      "application/vnd.jupyter.widget-view+json": {
       "model_id": "fb390c7887a448d2a7d2f676ff192e78",
       "version_major": 2,
       "version_minor": 0
      },
      "text/plain": [
       "Resizing images (rxrx3):   0%|          | 0/100 [00:00<?, ?it/s]"
      ]
     },
     "metadata": {},
     "output_type": "display_data"
    },
    {
     "name": "stdout",
     "output_type": "stream",
     "text": [
      "Processing batch 864/1554\n"
     ]
    },
    {
     "data": {
      "application/vnd.jupyter.widget-view+json": {
       "model_id": "137b88f3925443bd987d3efdec1f3f9e",
       "version_major": 2,
       "version_minor": 0
      },
      "text/plain": [
       "Resizing images (rxrx3):   0%|          | 0/100 [00:00<?, ?it/s]"
      ]
     },
     "metadata": {},
     "output_type": "display_data"
    },
    {
     "name": "stdout",
     "output_type": "stream",
     "text": [
      "Processing batch 865/1554\n"
     ]
    },
    {
     "data": {
      "application/vnd.jupyter.widget-view+json": {
       "model_id": "d6fde89d903043698a0bdf58431225be",
       "version_major": 2,
       "version_minor": 0
      },
      "text/plain": [
       "Resizing images (rxrx3):   0%|          | 0/100 [00:00<?, ?it/s]"
      ]
     },
     "metadata": {},
     "output_type": "display_data"
    },
    {
     "name": "stdout",
     "output_type": "stream",
     "text": [
      "Processing batch 866/1554\n"
     ]
    },
    {
     "data": {
      "application/vnd.jupyter.widget-view+json": {
       "model_id": "03ca7026b1e34b7a8f5856b211439fe1",
       "version_major": 2,
       "version_minor": 0
      },
      "text/plain": [
       "Resizing images (rxrx3):   0%|          | 0/100 [00:00<?, ?it/s]"
      ]
     },
     "metadata": {},
     "output_type": "display_data"
    },
    {
     "name": "stdout",
     "output_type": "stream",
     "text": [
      "Processing batch 867/1554\n"
     ]
    },
    {
     "data": {
      "application/vnd.jupyter.widget-view+json": {
       "model_id": "b6a71236bbd5459a95415c92361fcbb2",
       "version_major": 2,
       "version_minor": 0
      },
      "text/plain": [
       "Resizing images (rxrx3):   0%|          | 0/100 [00:00<?, ?it/s]"
      ]
     },
     "metadata": {},
     "output_type": "display_data"
    },
    {
     "name": "stdout",
     "output_type": "stream",
     "text": [
      "Processing batch 868/1554\n"
     ]
    },
    {
     "data": {
      "application/vnd.jupyter.widget-view+json": {
       "model_id": "5fc6ec678b4548c68da1814b25ce8cac",
       "version_major": 2,
       "version_minor": 0
      },
      "text/plain": [
       "Resizing images (rxrx3):   0%|          | 0/100 [00:00<?, ?it/s]"
      ]
     },
     "metadata": {},
     "output_type": "display_data"
    },
    {
     "name": "stdout",
     "output_type": "stream",
     "text": [
      "Processing batch 869/1554\n"
     ]
    },
    {
     "data": {
      "application/vnd.jupyter.widget-view+json": {
       "model_id": "c69b9f8615fd4e5d85569f5c529abd94",
       "version_major": 2,
       "version_minor": 0
      },
      "text/plain": [
       "Resizing images (rxrx3):   0%|          | 0/100 [00:00<?, ?it/s]"
      ]
     },
     "metadata": {},
     "output_type": "display_data"
    },
    {
     "name": "stdout",
     "output_type": "stream",
     "text": [
      "Processing batch 870/1554\n"
     ]
    },
    {
     "data": {
      "application/vnd.jupyter.widget-view+json": {
       "model_id": "eca4a43e57094326b78bcd85e746ec9a",
       "version_major": 2,
       "version_minor": 0
      },
      "text/plain": [
       "Resizing images (rxrx3):   0%|          | 0/100 [00:00<?, ?it/s]"
      ]
     },
     "metadata": {},
     "output_type": "display_data"
    },
    {
     "name": "stdout",
     "output_type": "stream",
     "text": [
      "Processing batch 871/1554\n"
     ]
    },
    {
     "data": {
      "application/vnd.jupyter.widget-view+json": {
       "model_id": "a59a19f3a1a547a7b131c823e6185c30",
       "version_major": 2,
       "version_minor": 0
      },
      "text/plain": [
       "Resizing images (rxrx3):   0%|          | 0/100 [00:00<?, ?it/s]"
      ]
     },
     "metadata": {},
     "output_type": "display_data"
    },
    {
     "name": "stdout",
     "output_type": "stream",
     "text": [
      "Processing batch 872/1554\n"
     ]
    },
    {
     "data": {
      "application/vnd.jupyter.widget-view+json": {
       "model_id": "a31f48c8ee974d68a89c5b9e7c811c72",
       "version_major": 2,
       "version_minor": 0
      },
      "text/plain": [
       "Resizing images (rxrx3):   0%|          | 0/100 [00:00<?, ?it/s]"
      ]
     },
     "metadata": {},
     "output_type": "display_data"
    },
    {
     "name": "stdout",
     "output_type": "stream",
     "text": [
      "Processing batch 873/1554\n"
     ]
    },
    {
     "data": {
      "application/vnd.jupyter.widget-view+json": {
       "model_id": "11aca73aa5494af3a6253e8f2d75809e",
       "version_major": 2,
       "version_minor": 0
      },
      "text/plain": [
       "Resizing images (rxrx3):   0%|          | 0/100 [00:00<?, ?it/s]"
      ]
     },
     "metadata": {},
     "output_type": "display_data"
    },
    {
     "name": "stdout",
     "output_type": "stream",
     "text": [
      "Processing batch 874/1554\n"
     ]
    },
    {
     "data": {
      "application/vnd.jupyter.widget-view+json": {
       "model_id": "717375d556a240af89c3d963f416bbde",
       "version_major": 2,
       "version_minor": 0
      },
      "text/plain": [
       "Resizing images (rxrx3):   0%|          | 0/100 [00:00<?, ?it/s]"
      ]
     },
     "metadata": {},
     "output_type": "display_data"
    },
    {
     "name": "stdout",
     "output_type": "stream",
     "text": [
      "Processing batch 875/1554\n"
     ]
    },
    {
     "data": {
      "application/vnd.jupyter.widget-view+json": {
       "model_id": "cdcf1f75701e4cea90147faa1b2f9e7d",
       "version_major": 2,
       "version_minor": 0
      },
      "text/plain": [
       "Resizing images (rxrx3):   0%|          | 0/100 [00:00<?, ?it/s]"
      ]
     },
     "metadata": {},
     "output_type": "display_data"
    },
    {
     "name": "stdout",
     "output_type": "stream",
     "text": [
      "Processing batch 876/1554\n"
     ]
    },
    {
     "data": {
      "application/vnd.jupyter.widget-view+json": {
       "model_id": "7af24a04a7b44101bbfc9e75b50b0efe",
       "version_major": 2,
       "version_minor": 0
      },
      "text/plain": [
       "Resizing images (rxrx3):   0%|          | 0/100 [00:00<?, ?it/s]"
      ]
     },
     "metadata": {},
     "output_type": "display_data"
    },
    {
     "name": "stdout",
     "output_type": "stream",
     "text": [
      "Processing batch 877/1554\n"
     ]
    },
    {
     "data": {
      "application/vnd.jupyter.widget-view+json": {
       "model_id": "22527beaabfb4790998d57f29c27019f",
       "version_major": 2,
       "version_minor": 0
      },
      "text/plain": [
       "Resizing images (rxrx3):   0%|          | 0/100 [00:00<?, ?it/s]"
      ]
     },
     "metadata": {},
     "output_type": "display_data"
    },
    {
     "name": "stdout",
     "output_type": "stream",
     "text": [
      "Processing batch 878/1554\n"
     ]
    },
    {
     "data": {
      "application/vnd.jupyter.widget-view+json": {
       "model_id": "e160e90776c2479abf29195710a559ba",
       "version_major": 2,
       "version_minor": 0
      },
      "text/plain": [
       "Resizing images (rxrx3):   0%|          | 0/100 [00:00<?, ?it/s]"
      ]
     },
     "metadata": {},
     "output_type": "display_data"
    },
    {
     "name": "stdout",
     "output_type": "stream",
     "text": [
      "Processing batch 879/1554\n"
     ]
    },
    {
     "data": {
      "application/vnd.jupyter.widget-view+json": {
       "model_id": "c1f0bfb03ed24485bdf67cd51083eb82",
       "version_major": 2,
       "version_minor": 0
      },
      "text/plain": [
       "Resizing images (rxrx3):   0%|          | 0/100 [00:00<?, ?it/s]"
      ]
     },
     "metadata": {},
     "output_type": "display_data"
    },
    {
     "name": "stdout",
     "output_type": "stream",
     "text": [
      "Processing batch 880/1554\n"
     ]
    },
    {
     "data": {
      "application/vnd.jupyter.widget-view+json": {
       "model_id": "8ef76deeabf8463ca8a4224519063630",
       "version_major": 2,
       "version_minor": 0
      },
      "text/plain": [
       "Resizing images (rxrx3):   0%|          | 0/100 [00:00<?, ?it/s]"
      ]
     },
     "metadata": {},
     "output_type": "display_data"
    },
    {
     "name": "stdout",
     "output_type": "stream",
     "text": [
      "Processing batch 881/1554\n"
     ]
    },
    {
     "data": {
      "application/vnd.jupyter.widget-view+json": {
       "model_id": "30644b6510cc48e7af9e7d3dac714824",
       "version_major": 2,
       "version_minor": 0
      },
      "text/plain": [
       "Resizing images (rxrx3):   0%|          | 0/100 [00:00<?, ?it/s]"
      ]
     },
     "metadata": {},
     "output_type": "display_data"
    },
    {
     "name": "stdout",
     "output_type": "stream",
     "text": [
      "Processing batch 882/1554\n"
     ]
    },
    {
     "data": {
      "application/vnd.jupyter.widget-view+json": {
       "model_id": "e406c6772602443db0b7ef62c48a93b0",
       "version_major": 2,
       "version_minor": 0
      },
      "text/plain": [
       "Resizing images (rxrx3):   0%|          | 0/100 [00:00<?, ?it/s]"
      ]
     },
     "metadata": {},
     "output_type": "display_data"
    },
    {
     "name": "stdout",
     "output_type": "stream",
     "text": [
      "Processing batch 883/1554\n"
     ]
    },
    {
     "data": {
      "application/vnd.jupyter.widget-view+json": {
       "model_id": "41409ad41e4a42119fe0c17576c18c0e",
       "version_major": 2,
       "version_minor": 0
      },
      "text/plain": [
       "Resizing images (rxrx3):   0%|          | 0/100 [00:00<?, ?it/s]"
      ]
     },
     "metadata": {},
     "output_type": "display_data"
    },
    {
     "name": "stdout",
     "output_type": "stream",
     "text": [
      "Processing batch 884/1554\n"
     ]
    },
    {
     "data": {
      "application/vnd.jupyter.widget-view+json": {
       "model_id": "b874724f1954490eb850db9ebea1a44f",
       "version_major": 2,
       "version_minor": 0
      },
      "text/plain": [
       "Resizing images (rxrx3):   0%|          | 0/100 [00:00<?, ?it/s]"
      ]
     },
     "metadata": {},
     "output_type": "display_data"
    },
    {
     "name": "stdout",
     "output_type": "stream",
     "text": [
      "Processing batch 885/1554\n"
     ]
    },
    {
     "data": {
      "application/vnd.jupyter.widget-view+json": {
       "model_id": "86c2a4d1c7e94b0cb12ecb20205673e7",
       "version_major": 2,
       "version_minor": 0
      },
      "text/plain": [
       "Resizing images (rxrx3):   0%|          | 0/100 [00:00<?, ?it/s]"
      ]
     },
     "metadata": {},
     "output_type": "display_data"
    },
    {
     "name": "stdout",
     "output_type": "stream",
     "text": [
      "Processing batch 886/1554\n"
     ]
    },
    {
     "data": {
      "application/vnd.jupyter.widget-view+json": {
       "model_id": "082385bd20da46058df75e26f7524991",
       "version_major": 2,
       "version_minor": 0
      },
      "text/plain": [
       "Resizing images (rxrx3):   0%|          | 0/100 [00:00<?, ?it/s]"
      ]
     },
     "metadata": {},
     "output_type": "display_data"
    },
    {
     "name": "stdout",
     "output_type": "stream",
     "text": [
      "Processing batch 887/1554\n"
     ]
    },
    {
     "data": {
      "application/vnd.jupyter.widget-view+json": {
       "model_id": "c041c1e4f3f643e3a69f2d944447803c",
       "version_major": 2,
       "version_minor": 0
      },
      "text/plain": [
       "Resizing images (rxrx3):   0%|          | 0/100 [00:00<?, ?it/s]"
      ]
     },
     "metadata": {},
     "output_type": "display_data"
    },
    {
     "name": "stdout",
     "output_type": "stream",
     "text": [
      "Processing batch 888/1554\n"
     ]
    },
    {
     "data": {
      "application/vnd.jupyter.widget-view+json": {
       "model_id": "21bad99d7adf4ddfb1513995f1ff4d2a",
       "version_major": 2,
       "version_minor": 0
      },
      "text/plain": [
       "Resizing images (rxrx3):   0%|          | 0/100 [00:00<?, ?it/s]"
      ]
     },
     "metadata": {},
     "output_type": "display_data"
    },
    {
     "name": "stdout",
     "output_type": "stream",
     "text": [
      "Processing batch 889/1554\n"
     ]
    },
    {
     "data": {
      "application/vnd.jupyter.widget-view+json": {
       "model_id": "6018aae163584c44af2cc7d8d4b36c5a",
       "version_major": 2,
       "version_minor": 0
      },
      "text/plain": [
       "Resizing images (rxrx3):   0%|          | 0/100 [00:00<?, ?it/s]"
      ]
     },
     "metadata": {},
     "output_type": "display_data"
    },
    {
     "name": "stdout",
     "output_type": "stream",
     "text": [
      "Processing batch 890/1554\n"
     ]
    },
    {
     "data": {
      "application/vnd.jupyter.widget-view+json": {
       "model_id": "170dba313e354f5bb78e7eee6fd88852",
       "version_major": 2,
       "version_minor": 0
      },
      "text/plain": [
       "Resizing images (rxrx3):   0%|          | 0/100 [00:00<?, ?it/s]"
      ]
     },
     "metadata": {},
     "output_type": "display_data"
    },
    {
     "name": "stdout",
     "output_type": "stream",
     "text": [
      "Processing batch 891/1554\n"
     ]
    },
    {
     "data": {
      "application/vnd.jupyter.widget-view+json": {
       "model_id": "854b1c974cdb4b21b8156671f9923fb3",
       "version_major": 2,
       "version_minor": 0
      },
      "text/plain": [
       "Resizing images (rxrx3):   0%|          | 0/100 [00:00<?, ?it/s]"
      ]
     },
     "metadata": {},
     "output_type": "display_data"
    },
    {
     "name": "stdout",
     "output_type": "stream",
     "text": [
      "Processing batch 892/1554\n"
     ]
    },
    {
     "data": {
      "application/vnd.jupyter.widget-view+json": {
       "model_id": "3427741b9091486ebd9a8a805ffbe811",
       "version_major": 2,
       "version_minor": 0
      },
      "text/plain": [
       "Resizing images (rxrx3):   0%|          | 0/100 [00:00<?, ?it/s]"
      ]
     },
     "metadata": {},
     "output_type": "display_data"
    },
    {
     "name": "stdout",
     "output_type": "stream",
     "text": [
      "Processing batch 893/1554\n"
     ]
    },
    {
     "data": {
      "application/vnd.jupyter.widget-view+json": {
       "model_id": "a505da69fd60421893db63c7957c2298",
       "version_major": 2,
       "version_minor": 0
      },
      "text/plain": [
       "Resizing images (rxrx3):   0%|          | 0/100 [00:00<?, ?it/s]"
      ]
     },
     "metadata": {},
     "output_type": "display_data"
    },
    {
     "name": "stdout",
     "output_type": "stream",
     "text": [
      "Processing batch 894/1554\n"
     ]
    },
    {
     "data": {
      "application/vnd.jupyter.widget-view+json": {
       "model_id": "ae9d03defe6446ef81206888bf5114bc",
       "version_major": 2,
       "version_minor": 0
      },
      "text/plain": [
       "Resizing images (rxrx3):   0%|          | 0/100 [00:00<?, ?it/s]"
      ]
     },
     "metadata": {},
     "output_type": "display_data"
    },
    {
     "name": "stdout",
     "output_type": "stream",
     "text": [
      "Processing batch 895/1554\n"
     ]
    },
    {
     "data": {
      "application/vnd.jupyter.widget-view+json": {
       "model_id": "cf4ceca8b27541a9a6578e4026eb654a",
       "version_major": 2,
       "version_minor": 0
      },
      "text/plain": [
       "Resizing images (rxrx3):   0%|          | 0/100 [00:00<?, ?it/s]"
      ]
     },
     "metadata": {},
     "output_type": "display_data"
    },
    {
     "name": "stdout",
     "output_type": "stream",
     "text": [
      "Processing batch 896/1554\n"
     ]
    },
    {
     "data": {
      "application/vnd.jupyter.widget-view+json": {
       "model_id": "c7b23f896f6947458560a5a4c958225a",
       "version_major": 2,
       "version_minor": 0
      },
      "text/plain": [
       "Resizing images (rxrx3):   0%|          | 0/100 [00:00<?, ?it/s]"
      ]
     },
     "metadata": {},
     "output_type": "display_data"
    },
    {
     "name": "stdout",
     "output_type": "stream",
     "text": [
      "Processing batch 897/1554\n"
     ]
    },
    {
     "data": {
      "application/vnd.jupyter.widget-view+json": {
       "model_id": "f03f42cccf784e03b1bb917cc2153e10",
       "version_major": 2,
       "version_minor": 0
      },
      "text/plain": [
       "Resizing images (rxrx3):   0%|          | 0/100 [00:00<?, ?it/s]"
      ]
     },
     "metadata": {},
     "output_type": "display_data"
    },
    {
     "name": "stdout",
     "output_type": "stream",
     "text": [
      "Processing batch 898/1554\n"
     ]
    },
    {
     "data": {
      "application/vnd.jupyter.widget-view+json": {
       "model_id": "55756940bb4b439b904a0e3d90594c4c",
       "version_major": 2,
       "version_minor": 0
      },
      "text/plain": [
       "Resizing images (rxrx3):   0%|          | 0/100 [00:00<?, ?it/s]"
      ]
     },
     "metadata": {},
     "output_type": "display_data"
    },
    {
     "name": "stdout",
     "output_type": "stream",
     "text": [
      "Processing batch 899/1554\n"
     ]
    },
    {
     "data": {
      "application/vnd.jupyter.widget-view+json": {
       "model_id": "3917828d4a5740dfbff4c3363e38593e",
       "version_major": 2,
       "version_minor": 0
      },
      "text/plain": [
       "Resizing images (rxrx3):   0%|          | 0/100 [00:00<?, ?it/s]"
      ]
     },
     "metadata": {},
     "output_type": "display_data"
    },
    {
     "name": "stdout",
     "output_type": "stream",
     "text": [
      "Processing batch 900/1554\n"
     ]
    },
    {
     "data": {
      "application/vnd.jupyter.widget-view+json": {
       "model_id": "4b55356df8d943d9aa7722d45d312519",
       "version_major": 2,
       "version_minor": 0
      },
      "text/plain": [
       "Resizing images (rxrx3):   0%|          | 0/100 [00:00<?, ?it/s]"
      ]
     },
     "metadata": {},
     "output_type": "display_data"
    },
    {
     "name": "stdout",
     "output_type": "stream",
     "text": [
      "Processing batch 901/1554\n"
     ]
    },
    {
     "data": {
      "application/vnd.jupyter.widget-view+json": {
       "model_id": "d2edfe7049ae44d1b7917ffda9fee47e",
       "version_major": 2,
       "version_minor": 0
      },
      "text/plain": [
       "Resizing images (rxrx3):   0%|          | 0/100 [00:00<?, ?it/s]"
      ]
     },
     "metadata": {},
     "output_type": "display_data"
    },
    {
     "name": "stdout",
     "output_type": "stream",
     "text": [
      "Processing batch 902/1554\n"
     ]
    },
    {
     "data": {
      "application/vnd.jupyter.widget-view+json": {
       "model_id": "dc003a3dba614c99a7a0d3df2af36e0c",
       "version_major": 2,
       "version_minor": 0
      },
      "text/plain": [
       "Resizing images (rxrx3):   0%|          | 0/100 [00:00<?, ?it/s]"
      ]
     },
     "metadata": {},
     "output_type": "display_data"
    },
    {
     "name": "stdout",
     "output_type": "stream",
     "text": [
      "Processing batch 903/1554\n"
     ]
    },
    {
     "data": {
      "application/vnd.jupyter.widget-view+json": {
       "model_id": "b92d58c6eff44b00aadfc6a0abb91d30",
       "version_major": 2,
       "version_minor": 0
      },
      "text/plain": [
       "Resizing images (rxrx3):   0%|          | 0/100 [00:00<?, ?it/s]"
      ]
     },
     "metadata": {},
     "output_type": "display_data"
    },
    {
     "name": "stdout",
     "output_type": "stream",
     "text": [
      "Processing batch 904/1554\n"
     ]
    },
    {
     "data": {
      "application/vnd.jupyter.widget-view+json": {
       "model_id": "7225e232e87d46c5bf702fd6b0a0c22f",
       "version_major": 2,
       "version_minor": 0
      },
      "text/plain": [
       "Resizing images (rxrx3):   0%|          | 0/100 [00:00<?, ?it/s]"
      ]
     },
     "metadata": {},
     "output_type": "display_data"
    },
    {
     "name": "stdout",
     "output_type": "stream",
     "text": [
      "Processing batch 905/1554\n"
     ]
    },
    {
     "data": {
      "application/vnd.jupyter.widget-view+json": {
       "model_id": "0816d259431845459eb81aea1d0d4ebc",
       "version_major": 2,
       "version_minor": 0
      },
      "text/plain": [
       "Resizing images (rxrx3):   0%|          | 0/100 [00:00<?, ?it/s]"
      ]
     },
     "metadata": {},
     "output_type": "display_data"
    },
    {
     "name": "stdout",
     "output_type": "stream",
     "text": [
      "Processing batch 906/1554\n"
     ]
    },
    {
     "data": {
      "application/vnd.jupyter.widget-view+json": {
       "model_id": "0164298be0004be9914aa2d042b8d8f7",
       "version_major": 2,
       "version_minor": 0
      },
      "text/plain": [
       "Resizing images (rxrx3):   0%|          | 0/100 [00:00<?, ?it/s]"
      ]
     },
     "metadata": {},
     "output_type": "display_data"
    },
    {
     "name": "stdout",
     "output_type": "stream",
     "text": [
      "Processing batch 907/1554\n"
     ]
    },
    {
     "data": {
      "application/vnd.jupyter.widget-view+json": {
       "model_id": "26b4c2a870c94860b86d3bc2f2e762e4",
       "version_major": 2,
       "version_minor": 0
      },
      "text/plain": [
       "Resizing images (rxrx3):   0%|          | 0/100 [00:00<?, ?it/s]"
      ]
     },
     "metadata": {},
     "output_type": "display_data"
    },
    {
     "name": "stdout",
     "output_type": "stream",
     "text": [
      "Processing batch 908/1554\n"
     ]
    },
    {
     "data": {
      "application/vnd.jupyter.widget-view+json": {
       "model_id": "186c8b6789784f8babbd54001eabb83a",
       "version_major": 2,
       "version_minor": 0
      },
      "text/plain": [
       "Resizing images (rxrx3):   0%|          | 0/100 [00:00<?, ?it/s]"
      ]
     },
     "metadata": {},
     "output_type": "display_data"
    },
    {
     "name": "stdout",
     "output_type": "stream",
     "text": [
      "Processing batch 909/1554\n"
     ]
    },
    {
     "data": {
      "application/vnd.jupyter.widget-view+json": {
       "model_id": "7d3b473fd95d4b2298024f2b611839ba",
       "version_major": 2,
       "version_minor": 0
      },
      "text/plain": [
       "Resizing images (rxrx3):   0%|          | 0/100 [00:00<?, ?it/s]"
      ]
     },
     "metadata": {},
     "output_type": "display_data"
    },
    {
     "name": "stdout",
     "output_type": "stream",
     "text": [
      "Processing batch 910/1554\n"
     ]
    },
    {
     "data": {
      "application/vnd.jupyter.widget-view+json": {
       "model_id": "da5de883342f4fb6bdcc9621a64fb7f5",
       "version_major": 2,
       "version_minor": 0
      },
      "text/plain": [
       "Resizing images (rxrx3):   0%|          | 0/100 [00:00<?, ?it/s]"
      ]
     },
     "metadata": {},
     "output_type": "display_data"
    },
    {
     "name": "stdout",
     "output_type": "stream",
     "text": [
      "Processing batch 911/1554\n"
     ]
    },
    {
     "data": {
      "application/vnd.jupyter.widget-view+json": {
       "model_id": "4a9e3539ff0d469aada7182febf4bebe",
       "version_major": 2,
       "version_minor": 0
      },
      "text/plain": [
       "Resizing images (rxrx3):   0%|          | 0/100 [00:00<?, ?it/s]"
      ]
     },
     "metadata": {},
     "output_type": "display_data"
    },
    {
     "name": "stdout",
     "output_type": "stream",
     "text": [
      "Processing batch 912/1554\n"
     ]
    },
    {
     "data": {
      "application/vnd.jupyter.widget-view+json": {
       "model_id": "5212d7a8c9d64571a52b01ef05d0e5c7",
       "version_major": 2,
       "version_minor": 0
      },
      "text/plain": [
       "Resizing images (rxrx3):   0%|          | 0/100 [00:00<?, ?it/s]"
      ]
     },
     "metadata": {},
     "output_type": "display_data"
    },
    {
     "name": "stdout",
     "output_type": "stream",
     "text": [
      "Processing batch 913/1554\n"
     ]
    },
    {
     "data": {
      "application/vnd.jupyter.widget-view+json": {
       "model_id": "624bf2f956954f3e943336a251bed437",
       "version_major": 2,
       "version_minor": 0
      },
      "text/plain": [
       "Resizing images (rxrx3):   0%|          | 0/100 [00:00<?, ?it/s]"
      ]
     },
     "metadata": {},
     "output_type": "display_data"
    },
    {
     "name": "stdout",
     "output_type": "stream",
     "text": [
      "Processing batch 914/1554\n"
     ]
    },
    {
     "data": {
      "application/vnd.jupyter.widget-view+json": {
       "model_id": "bd2b65c428354d309aace025f1e0cf71",
       "version_major": 2,
       "version_minor": 0
      },
      "text/plain": [
       "Resizing images (rxrx3):   0%|          | 0/100 [00:00<?, ?it/s]"
      ]
     },
     "metadata": {},
     "output_type": "display_data"
    },
    {
     "name": "stdout",
     "output_type": "stream",
     "text": [
      "Processing batch 915/1554\n"
     ]
    },
    {
     "data": {
      "application/vnd.jupyter.widget-view+json": {
       "model_id": "68a0594a30f844308733b9edf875b638",
       "version_major": 2,
       "version_minor": 0
      },
      "text/plain": [
       "Resizing images (rxrx3):   0%|          | 0/100 [00:00<?, ?it/s]"
      ]
     },
     "metadata": {},
     "output_type": "display_data"
    },
    {
     "name": "stdout",
     "output_type": "stream",
     "text": [
      "Processing batch 916/1554\n"
     ]
    },
    {
     "data": {
      "application/vnd.jupyter.widget-view+json": {
       "model_id": "27ca8f2f67dc4ef5906f9f5116a7d17d",
       "version_major": 2,
       "version_minor": 0
      },
      "text/plain": [
       "Resizing images (rxrx3):   0%|          | 0/100 [00:00<?, ?it/s]"
      ]
     },
     "metadata": {},
     "output_type": "display_data"
    },
    {
     "name": "stdout",
     "output_type": "stream",
     "text": [
      "Processing batch 917/1554\n"
     ]
    },
    {
     "data": {
      "application/vnd.jupyter.widget-view+json": {
       "model_id": "b61d9fe8d46040caa0e16390dd2a5c3d",
       "version_major": 2,
       "version_minor": 0
      },
      "text/plain": [
       "Resizing images (rxrx3):   0%|          | 0/100 [00:00<?, ?it/s]"
      ]
     },
     "metadata": {},
     "output_type": "display_data"
    },
    {
     "name": "stdout",
     "output_type": "stream",
     "text": [
      "Processing batch 918/1554\n"
     ]
    },
    {
     "data": {
      "application/vnd.jupyter.widget-view+json": {
       "model_id": "1a93680ca9634772b5ff8c9296be7f01",
       "version_major": 2,
       "version_minor": 0
      },
      "text/plain": [
       "Resizing images (rxrx3):   0%|          | 0/100 [00:00<?, ?it/s]"
      ]
     },
     "metadata": {},
     "output_type": "display_data"
    },
    {
     "name": "stdout",
     "output_type": "stream",
     "text": [
      "Processing batch 919/1554\n"
     ]
    },
    {
     "data": {
      "application/vnd.jupyter.widget-view+json": {
       "model_id": "fc5a03b026ee455eb2b48154df748441",
       "version_major": 2,
       "version_minor": 0
      },
      "text/plain": [
       "Resizing images (rxrx3):   0%|          | 0/100 [00:00<?, ?it/s]"
      ]
     },
     "metadata": {},
     "output_type": "display_data"
    },
    {
     "name": "stdout",
     "output_type": "stream",
     "text": [
      "Processing batch 920/1554\n"
     ]
    },
    {
     "data": {
      "application/vnd.jupyter.widget-view+json": {
       "model_id": "6b846ef30190420c9c12cfa9bb47e703",
       "version_major": 2,
       "version_minor": 0
      },
      "text/plain": [
       "Resizing images (rxrx3):   0%|          | 0/100 [00:00<?, ?it/s]"
      ]
     },
     "metadata": {},
     "output_type": "display_data"
    },
    {
     "name": "stdout",
     "output_type": "stream",
     "text": [
      "Processing batch 921/1554\n"
     ]
    },
    {
     "data": {
      "application/vnd.jupyter.widget-view+json": {
       "model_id": "93eb5ea8c94c4a4ebda61032d1fa547b",
       "version_major": 2,
       "version_minor": 0
      },
      "text/plain": [
       "Resizing images (rxrx3):   0%|          | 0/100 [00:00<?, ?it/s]"
      ]
     },
     "metadata": {},
     "output_type": "display_data"
    },
    {
     "name": "stdout",
     "output_type": "stream",
     "text": [
      "Processing batch 922/1554\n"
     ]
    },
    {
     "data": {
      "application/vnd.jupyter.widget-view+json": {
       "model_id": "2de54d48096a400a824ee1ca4d4424de",
       "version_major": 2,
       "version_minor": 0
      },
      "text/plain": [
       "Resizing images (rxrx3):   0%|          | 0/100 [00:00<?, ?it/s]"
      ]
     },
     "metadata": {},
     "output_type": "display_data"
    },
    {
     "name": "stdout",
     "output_type": "stream",
     "text": [
      "Processing batch 923/1554\n"
     ]
    },
    {
     "data": {
      "application/vnd.jupyter.widget-view+json": {
       "model_id": "ca90645dd997458e9456d221adb71656",
       "version_major": 2,
       "version_minor": 0
      },
      "text/plain": [
       "Resizing images (rxrx3):   0%|          | 0/100 [00:00<?, ?it/s]"
      ]
     },
     "metadata": {},
     "output_type": "display_data"
    },
    {
     "name": "stdout",
     "output_type": "stream",
     "text": [
      "Processing batch 924/1554\n"
     ]
    },
    {
     "data": {
      "application/vnd.jupyter.widget-view+json": {
       "model_id": "13482ea719d2494299e173f606fc814e",
       "version_major": 2,
       "version_minor": 0
      },
      "text/plain": [
       "Resizing images (rxrx3):   0%|          | 0/100 [00:00<?, ?it/s]"
      ]
     },
     "metadata": {},
     "output_type": "display_data"
    },
    {
     "name": "stdout",
     "output_type": "stream",
     "text": [
      "Processing batch 925/1554\n"
     ]
    },
    {
     "data": {
      "application/vnd.jupyter.widget-view+json": {
       "model_id": "ba84774afd4c43cc98e574cd7b81e922",
       "version_major": 2,
       "version_minor": 0
      },
      "text/plain": [
       "Resizing images (rxrx3):   0%|          | 0/100 [00:00<?, ?it/s]"
      ]
     },
     "metadata": {},
     "output_type": "display_data"
    },
    {
     "name": "stdout",
     "output_type": "stream",
     "text": [
      "Processing batch 926/1554\n"
     ]
    },
    {
     "data": {
      "application/vnd.jupyter.widget-view+json": {
       "model_id": "a74954cf8fa8444aa868a884e43fe2bf",
       "version_major": 2,
       "version_minor": 0
      },
      "text/plain": [
       "Resizing images (rxrx3):   0%|          | 0/100 [00:00<?, ?it/s]"
      ]
     },
     "metadata": {},
     "output_type": "display_data"
    },
    {
     "name": "stdout",
     "output_type": "stream",
     "text": [
      "Processing batch 927/1554\n"
     ]
    },
    {
     "data": {
      "application/vnd.jupyter.widget-view+json": {
       "model_id": "0e6aef572b4948398f4f7379cf356228",
       "version_major": 2,
       "version_minor": 0
      },
      "text/plain": [
       "Resizing images (rxrx3):   0%|          | 0/100 [00:00<?, ?it/s]"
      ]
     },
     "metadata": {},
     "output_type": "display_data"
    },
    {
     "name": "stdout",
     "output_type": "stream",
     "text": [
      "Processing batch 928/1554\n"
     ]
    },
    {
     "data": {
      "application/vnd.jupyter.widget-view+json": {
       "model_id": "468a2467c2834d8d9ed1ab90b0fef16b",
       "version_major": 2,
       "version_minor": 0
      },
      "text/plain": [
       "Resizing images (rxrx3):   0%|          | 0/100 [00:00<?, ?it/s]"
      ]
     },
     "metadata": {},
     "output_type": "display_data"
    },
    {
     "name": "stdout",
     "output_type": "stream",
     "text": [
      "Processing batch 929/1554\n"
     ]
    },
    {
     "data": {
      "application/vnd.jupyter.widget-view+json": {
       "model_id": "58bcca1fefaf445492302ebafa6b699b",
       "version_major": 2,
       "version_minor": 0
      },
      "text/plain": [
       "Resizing images (rxrx3):   0%|          | 0/100 [00:00<?, ?it/s]"
      ]
     },
     "metadata": {},
     "output_type": "display_data"
    },
    {
     "name": "stdout",
     "output_type": "stream",
     "text": [
      "Processing batch 930/1554\n"
     ]
    },
    {
     "data": {
      "application/vnd.jupyter.widget-view+json": {
       "model_id": "ac34fa010e714ebeb73d869c93402be5",
       "version_major": 2,
       "version_minor": 0
      },
      "text/plain": [
       "Resizing images (rxrx3):   0%|          | 0/100 [00:00<?, ?it/s]"
      ]
     },
     "metadata": {},
     "output_type": "display_data"
    },
    {
     "name": "stdout",
     "output_type": "stream",
     "text": [
      "Processing batch 931/1554\n"
     ]
    },
    {
     "data": {
      "application/vnd.jupyter.widget-view+json": {
       "model_id": "99ccc93c44a24c93a0e888f11446c4e2",
       "version_major": 2,
       "version_minor": 0
      },
      "text/plain": [
       "Resizing images (rxrx3):   0%|          | 0/100 [00:00<?, ?it/s]"
      ]
     },
     "metadata": {},
     "output_type": "display_data"
    },
    {
     "name": "stdout",
     "output_type": "stream",
     "text": [
      "Processing batch 932/1554\n"
     ]
    },
    {
     "data": {
      "application/vnd.jupyter.widget-view+json": {
       "model_id": "610cd0d46a174f98ac96e3ebe42780ac",
       "version_major": 2,
       "version_minor": 0
      },
      "text/plain": [
       "Resizing images (rxrx3):   0%|          | 0/100 [00:00<?, ?it/s]"
      ]
     },
     "metadata": {},
     "output_type": "display_data"
    },
    {
     "name": "stdout",
     "output_type": "stream",
     "text": [
      "Processing batch 933/1554\n"
     ]
    },
    {
     "data": {
      "application/vnd.jupyter.widget-view+json": {
       "model_id": "13011e2b4e0049a6a28501c6c709ee11",
       "version_major": 2,
       "version_minor": 0
      },
      "text/plain": [
       "Resizing images (rxrx3):   0%|          | 0/100 [00:00<?, ?it/s]"
      ]
     },
     "metadata": {},
     "output_type": "display_data"
    },
    {
     "name": "stdout",
     "output_type": "stream",
     "text": [
      "Processing batch 934/1554\n"
     ]
    },
    {
     "data": {
      "application/vnd.jupyter.widget-view+json": {
       "model_id": "dadc4bea14df49b8bd05aafe06d00be7",
       "version_major": 2,
       "version_minor": 0
      },
      "text/plain": [
       "Resizing images (rxrx3):   0%|          | 0/100 [00:00<?, ?it/s]"
      ]
     },
     "metadata": {},
     "output_type": "display_data"
    },
    {
     "name": "stdout",
     "output_type": "stream",
     "text": [
      "Processing batch 935/1554\n"
     ]
    },
    {
     "data": {
      "application/vnd.jupyter.widget-view+json": {
       "model_id": "f9c5c828faab4b6dba7d8105b8d60ded",
       "version_major": 2,
       "version_minor": 0
      },
      "text/plain": [
       "Resizing images (rxrx3):   0%|          | 0/100 [00:00<?, ?it/s]"
      ]
     },
     "metadata": {},
     "output_type": "display_data"
    },
    {
     "name": "stdout",
     "output_type": "stream",
     "text": [
      "Processing batch 936/1554\n"
     ]
    },
    {
     "data": {
      "application/vnd.jupyter.widget-view+json": {
       "model_id": "db55f83535fa4b999e2b65f4d913269d",
       "version_major": 2,
       "version_minor": 0
      },
      "text/plain": [
       "Resizing images (rxrx3):   0%|          | 0/100 [00:00<?, ?it/s]"
      ]
     },
     "metadata": {},
     "output_type": "display_data"
    },
    {
     "name": "stdout",
     "output_type": "stream",
     "text": [
      "Processing batch 937/1554\n"
     ]
    },
    {
     "data": {
      "application/vnd.jupyter.widget-view+json": {
       "model_id": "82fa9fd522be4f0d9f919f7e6426a487",
       "version_major": 2,
       "version_minor": 0
      },
      "text/plain": [
       "Resizing images (rxrx3):   0%|          | 0/100 [00:00<?, ?it/s]"
      ]
     },
     "metadata": {},
     "output_type": "display_data"
    },
    {
     "name": "stdout",
     "output_type": "stream",
     "text": [
      "Processing batch 938/1554\n"
     ]
    },
    {
     "data": {
      "application/vnd.jupyter.widget-view+json": {
       "model_id": "c213d79568674520a28e98891e416761",
       "version_major": 2,
       "version_minor": 0
      },
      "text/plain": [
       "Resizing images (rxrx3):   0%|          | 0/100 [00:00<?, ?it/s]"
      ]
     },
     "metadata": {},
     "output_type": "display_data"
    },
    {
     "name": "stdout",
     "output_type": "stream",
     "text": [
      "Processing batch 939/1554\n"
     ]
    },
    {
     "data": {
      "application/vnd.jupyter.widget-view+json": {
       "model_id": "af01af6988ed44998558c761b94a84b4",
       "version_major": 2,
       "version_minor": 0
      },
      "text/plain": [
       "Resizing images (rxrx3):   0%|          | 0/100 [00:00<?, ?it/s]"
      ]
     },
     "metadata": {},
     "output_type": "display_data"
    },
    {
     "name": "stdout",
     "output_type": "stream",
     "text": [
      "Processing batch 940/1554\n"
     ]
    },
    {
     "data": {
      "application/vnd.jupyter.widget-view+json": {
       "model_id": "d526be6673564ac6860b0f630ce4f723",
       "version_major": 2,
       "version_minor": 0
      },
      "text/plain": [
       "Resizing images (rxrx3):   0%|          | 0/100 [00:00<?, ?it/s]"
      ]
     },
     "metadata": {},
     "output_type": "display_data"
    },
    {
     "name": "stdout",
     "output_type": "stream",
     "text": [
      "Processing batch 941/1554\n"
     ]
    },
    {
     "data": {
      "application/vnd.jupyter.widget-view+json": {
       "model_id": "66780594c4fc488fa1136eb70eef54d8",
       "version_major": 2,
       "version_minor": 0
      },
      "text/plain": [
       "Resizing images (rxrx3):   0%|          | 0/100 [00:00<?, ?it/s]"
      ]
     },
     "metadata": {},
     "output_type": "display_data"
    },
    {
     "name": "stdout",
     "output_type": "stream",
     "text": [
      "Processing batch 942/1554\n"
     ]
    },
    {
     "data": {
      "application/vnd.jupyter.widget-view+json": {
       "model_id": "6b393e8873d2451a8c95c4981927807c",
       "version_major": 2,
       "version_minor": 0
      },
      "text/plain": [
       "Resizing images (rxrx3):   0%|          | 0/100 [00:00<?, ?it/s]"
      ]
     },
     "metadata": {},
     "output_type": "display_data"
    },
    {
     "name": "stdout",
     "output_type": "stream",
     "text": [
      "Processing batch 943/1554\n"
     ]
    },
    {
     "data": {
      "application/vnd.jupyter.widget-view+json": {
       "model_id": "6f5a0fd300404c8caac6a1c9a8d51478",
       "version_major": 2,
       "version_minor": 0
      },
      "text/plain": [
       "Resizing images (rxrx3):   0%|          | 0/100 [00:00<?, ?it/s]"
      ]
     },
     "metadata": {},
     "output_type": "display_data"
    },
    {
     "name": "stdout",
     "output_type": "stream",
     "text": [
      "Processing batch 944/1554\n"
     ]
    },
    {
     "data": {
      "application/vnd.jupyter.widget-view+json": {
       "model_id": "83a3cbbecd674acb8008036c448d579a",
       "version_major": 2,
       "version_minor": 0
      },
      "text/plain": [
       "Resizing images (rxrx3):   0%|          | 0/100 [00:00<?, ?it/s]"
      ]
     },
     "metadata": {},
     "output_type": "display_data"
    },
    {
     "name": "stdout",
     "output_type": "stream",
     "text": [
      "Processing batch 945/1554\n"
     ]
    },
    {
     "data": {
      "application/vnd.jupyter.widget-view+json": {
       "model_id": "41b9e98145ce434b82837eca3658ea22",
       "version_major": 2,
       "version_minor": 0
      },
      "text/plain": [
       "Resizing images (rxrx3):   0%|          | 0/100 [00:00<?, ?it/s]"
      ]
     },
     "metadata": {},
     "output_type": "display_data"
    },
    {
     "name": "stdout",
     "output_type": "stream",
     "text": [
      "Processing batch 946/1554\n"
     ]
    },
    {
     "data": {
      "application/vnd.jupyter.widget-view+json": {
       "model_id": "01f06401b78e45ce9209192991849d74",
       "version_major": 2,
       "version_minor": 0
      },
      "text/plain": [
       "Resizing images (rxrx3):   0%|          | 0/100 [00:00<?, ?it/s]"
      ]
     },
     "metadata": {},
     "output_type": "display_data"
    },
    {
     "name": "stdout",
     "output_type": "stream",
     "text": [
      "Processing batch 947/1554\n"
     ]
    },
    {
     "data": {
      "application/vnd.jupyter.widget-view+json": {
       "model_id": "2b574516a4a74e18a2175a98018e5bac",
       "version_major": 2,
       "version_minor": 0
      },
      "text/plain": [
       "Resizing images (rxrx3):   0%|          | 0/100 [00:00<?, ?it/s]"
      ]
     },
     "metadata": {},
     "output_type": "display_data"
    },
    {
     "name": "stdout",
     "output_type": "stream",
     "text": [
      "Processing batch 948/1554\n"
     ]
    },
    {
     "data": {
      "application/vnd.jupyter.widget-view+json": {
       "model_id": "be5d716e6fd64bd490c72a71ed83320f",
       "version_major": 2,
       "version_minor": 0
      },
      "text/plain": [
       "Resizing images (rxrx3):   0%|          | 0/100 [00:00<?, ?it/s]"
      ]
     },
     "metadata": {},
     "output_type": "display_data"
    },
    {
     "name": "stdout",
     "output_type": "stream",
     "text": [
      "Processing batch 949/1554\n"
     ]
    },
    {
     "data": {
      "application/vnd.jupyter.widget-view+json": {
       "model_id": "ddbd06e818fc45bfa85eb3d3332f59b6",
       "version_major": 2,
       "version_minor": 0
      },
      "text/plain": [
       "Resizing images (rxrx3):   0%|          | 0/100 [00:00<?, ?it/s]"
      ]
     },
     "metadata": {},
     "output_type": "display_data"
    },
    {
     "name": "stdout",
     "output_type": "stream",
     "text": [
      "Processing batch 950/1554\n"
     ]
    },
    {
     "data": {
      "application/vnd.jupyter.widget-view+json": {
       "model_id": "fafccb100b294db9bed516cdfd8ade83",
       "version_major": 2,
       "version_minor": 0
      },
      "text/plain": [
       "Resizing images (rxrx3):   0%|          | 0/100 [00:00<?, ?it/s]"
      ]
     },
     "metadata": {},
     "output_type": "display_data"
    },
    {
     "name": "stdout",
     "output_type": "stream",
     "text": [
      "Processing batch 951/1554\n"
     ]
    },
    {
     "data": {
      "application/vnd.jupyter.widget-view+json": {
       "model_id": "6c74c93254964afc9f28abbc64d6b8ae",
       "version_major": 2,
       "version_minor": 0
      },
      "text/plain": [
       "Resizing images (rxrx3):   0%|          | 0/100 [00:00<?, ?it/s]"
      ]
     },
     "metadata": {},
     "output_type": "display_data"
    },
    {
     "name": "stdout",
     "output_type": "stream",
     "text": [
      "Processing batch 952/1554\n"
     ]
    },
    {
     "data": {
      "application/vnd.jupyter.widget-view+json": {
       "model_id": "ec54d165e81c40bd86b5ad5deba11eae",
       "version_major": 2,
       "version_minor": 0
      },
      "text/plain": [
       "Resizing images (rxrx3):   0%|          | 0/100 [00:00<?, ?it/s]"
      ]
     },
     "metadata": {},
     "output_type": "display_data"
    },
    {
     "name": "stdout",
     "output_type": "stream",
     "text": [
      "Processing batch 953/1554\n"
     ]
    },
    {
     "data": {
      "application/vnd.jupyter.widget-view+json": {
       "model_id": "7f7b172c97964593b807ce75c008de48",
       "version_major": 2,
       "version_minor": 0
      },
      "text/plain": [
       "Resizing images (rxrx3):   0%|          | 0/100 [00:00<?, ?it/s]"
      ]
     },
     "metadata": {},
     "output_type": "display_data"
    },
    {
     "name": "stdout",
     "output_type": "stream",
     "text": [
      "Processing batch 954/1554\n"
     ]
    },
    {
     "data": {
      "application/vnd.jupyter.widget-view+json": {
       "model_id": "8d6252401d094b27b90550aadcb66fb3",
       "version_major": 2,
       "version_minor": 0
      },
      "text/plain": [
       "Resizing images (rxrx3):   0%|          | 0/100 [00:00<?, ?it/s]"
      ]
     },
     "metadata": {},
     "output_type": "display_data"
    },
    {
     "name": "stdout",
     "output_type": "stream",
     "text": [
      "Processing batch 955/1554\n"
     ]
    },
    {
     "data": {
      "application/vnd.jupyter.widget-view+json": {
       "model_id": "3f5fb2bd576341878c498e46b762aa7f",
       "version_major": 2,
       "version_minor": 0
      },
      "text/plain": [
       "Resizing images (rxrx3):   0%|          | 0/100 [00:00<?, ?it/s]"
      ]
     },
     "metadata": {},
     "output_type": "display_data"
    },
    {
     "name": "stdout",
     "output_type": "stream",
     "text": [
      "Processing batch 956/1554\n"
     ]
    },
    {
     "data": {
      "application/vnd.jupyter.widget-view+json": {
       "model_id": "c84050958a8e465c8faf6ebc6533981e",
       "version_major": 2,
       "version_minor": 0
      },
      "text/plain": [
       "Resizing images (rxrx3):   0%|          | 0/100 [00:00<?, ?it/s]"
      ]
     },
     "metadata": {},
     "output_type": "display_data"
    },
    {
     "name": "stdout",
     "output_type": "stream",
     "text": [
      "Processing batch 957/1554\n"
     ]
    },
    {
     "data": {
      "application/vnd.jupyter.widget-view+json": {
       "model_id": "545bbf4ceecb446591b714e17c073c79",
       "version_major": 2,
       "version_minor": 0
      },
      "text/plain": [
       "Resizing images (rxrx3):   0%|          | 0/100 [00:00<?, ?it/s]"
      ]
     },
     "metadata": {},
     "output_type": "display_data"
    },
    {
     "name": "stdout",
     "output_type": "stream",
     "text": [
      "Processing batch 958/1554\n"
     ]
    },
    {
     "data": {
      "application/vnd.jupyter.widget-view+json": {
       "model_id": "58dc79ac469f48f9a61746778278ac15",
       "version_major": 2,
       "version_minor": 0
      },
      "text/plain": [
       "Resizing images (rxrx3):   0%|          | 0/100 [00:00<?, ?it/s]"
      ]
     },
     "metadata": {},
     "output_type": "display_data"
    },
    {
     "name": "stdout",
     "output_type": "stream",
     "text": [
      "Processing batch 959/1554\n"
     ]
    },
    {
     "data": {
      "application/vnd.jupyter.widget-view+json": {
       "model_id": "beaed78072a24c96bea28cbde563cfa2",
       "version_major": 2,
       "version_minor": 0
      },
      "text/plain": [
       "Resizing images (rxrx3):   0%|          | 0/100 [00:00<?, ?it/s]"
      ]
     },
     "metadata": {},
     "output_type": "display_data"
    },
    {
     "name": "stdout",
     "output_type": "stream",
     "text": [
      "Processing batch 960/1554\n"
     ]
    },
    {
     "data": {
      "application/vnd.jupyter.widget-view+json": {
       "model_id": "15feb304f6734e7cab3ce33bda6876df",
       "version_major": 2,
       "version_minor": 0
      },
      "text/plain": [
       "Resizing images (rxrx3):   0%|          | 0/100 [00:00<?, ?it/s]"
      ]
     },
     "metadata": {},
     "output_type": "display_data"
    },
    {
     "name": "stdout",
     "output_type": "stream",
     "text": [
      "Processing batch 961/1554\n"
     ]
    },
    {
     "data": {
      "application/vnd.jupyter.widget-view+json": {
       "model_id": "c320fe3a5af9486f95cccd4b64a8556f",
       "version_major": 2,
       "version_minor": 0
      },
      "text/plain": [
       "Resizing images (rxrx3):   0%|          | 0/100 [00:00<?, ?it/s]"
      ]
     },
     "metadata": {},
     "output_type": "display_data"
    },
    {
     "name": "stdout",
     "output_type": "stream",
     "text": [
      "Processing batch 962/1554\n"
     ]
    },
    {
     "data": {
      "application/vnd.jupyter.widget-view+json": {
       "model_id": "ffb6a48387ba475cb9fe3d48d4ceadd6",
       "version_major": 2,
       "version_minor": 0
      },
      "text/plain": [
       "Resizing images (rxrx3):   0%|          | 0/100 [00:00<?, ?it/s]"
      ]
     },
     "metadata": {},
     "output_type": "display_data"
    },
    {
     "name": "stdout",
     "output_type": "stream",
     "text": [
      "Processing batch 963/1554\n"
     ]
    },
    {
     "data": {
      "application/vnd.jupyter.widget-view+json": {
       "model_id": "508fca9eafaf4d09a463e4435d408431",
       "version_major": 2,
       "version_minor": 0
      },
      "text/plain": [
       "Resizing images (rxrx3):   0%|          | 0/100 [00:00<?, ?it/s]"
      ]
     },
     "metadata": {},
     "output_type": "display_data"
    },
    {
     "name": "stdout",
     "output_type": "stream",
     "text": [
      "Processing batch 964/1554\n"
     ]
    },
    {
     "data": {
      "application/vnd.jupyter.widget-view+json": {
       "model_id": "c8fca80cbb4243b6a423ce8f11db2088",
       "version_major": 2,
       "version_minor": 0
      },
      "text/plain": [
       "Resizing images (rxrx3):   0%|          | 0/100 [00:00<?, ?it/s]"
      ]
     },
     "metadata": {},
     "output_type": "display_data"
    },
    {
     "name": "stdout",
     "output_type": "stream",
     "text": [
      "Processing batch 965/1554\n"
     ]
    },
    {
     "data": {
      "application/vnd.jupyter.widget-view+json": {
       "model_id": "b2aa9d6c88e64e7fb864e20fa45ca0c1",
       "version_major": 2,
       "version_minor": 0
      },
      "text/plain": [
       "Resizing images (rxrx3):   0%|          | 0/100 [00:00<?, ?it/s]"
      ]
     },
     "metadata": {},
     "output_type": "display_data"
    },
    {
     "name": "stdout",
     "output_type": "stream",
     "text": [
      "Processing batch 966/1554\n"
     ]
    },
    {
     "data": {
      "application/vnd.jupyter.widget-view+json": {
       "model_id": "cc5b2672903f413bb0c772278477d3d7",
       "version_major": 2,
       "version_minor": 0
      },
      "text/plain": [
       "Resizing images (rxrx3):   0%|          | 0/100 [00:00<?, ?it/s]"
      ]
     },
     "metadata": {},
     "output_type": "display_data"
    },
    {
     "name": "stdout",
     "output_type": "stream",
     "text": [
      "Processing batch 967/1554\n"
     ]
    },
    {
     "data": {
      "application/vnd.jupyter.widget-view+json": {
       "model_id": "9687079db72344eea9831994a539497f",
       "version_major": 2,
       "version_minor": 0
      },
      "text/plain": [
       "Resizing images (rxrx3):   0%|          | 0/100 [00:00<?, ?it/s]"
      ]
     },
     "metadata": {},
     "output_type": "display_data"
    },
    {
     "name": "stdout",
     "output_type": "stream",
     "text": [
      "Processing batch 968/1554\n"
     ]
    },
    {
     "data": {
      "application/vnd.jupyter.widget-view+json": {
       "model_id": "47874bde90cb4ea9915948e4596922e4",
       "version_major": 2,
       "version_minor": 0
      },
      "text/plain": [
       "Resizing images (rxrx3):   0%|          | 0/100 [00:00<?, ?it/s]"
      ]
     },
     "metadata": {},
     "output_type": "display_data"
    },
    {
     "name": "stdout",
     "output_type": "stream",
     "text": [
      "Processing batch 969/1554\n"
     ]
    },
    {
     "data": {
      "application/vnd.jupyter.widget-view+json": {
       "model_id": "a4234db1c5a64426bc4c03e1cc76a64e",
       "version_major": 2,
       "version_minor": 0
      },
      "text/plain": [
       "Resizing images (rxrx3):   0%|          | 0/100 [00:00<?, ?it/s]"
      ]
     },
     "metadata": {},
     "output_type": "display_data"
    },
    {
     "name": "stdout",
     "output_type": "stream",
     "text": [
      "Processing batch 970/1554\n"
     ]
    },
    {
     "data": {
      "application/vnd.jupyter.widget-view+json": {
       "model_id": "452eff2740834f4da9e1e7b297ec02d4",
       "version_major": 2,
       "version_minor": 0
      },
      "text/plain": [
       "Resizing images (rxrx3):   0%|          | 0/100 [00:00<?, ?it/s]"
      ]
     },
     "metadata": {},
     "output_type": "display_data"
    },
    {
     "name": "stdout",
     "output_type": "stream",
     "text": [
      "Processing batch 971/1554\n"
     ]
    },
    {
     "data": {
      "application/vnd.jupyter.widget-view+json": {
       "model_id": "8d59c44819f8484ba2a2e8271de159cc",
       "version_major": 2,
       "version_minor": 0
      },
      "text/plain": [
       "Resizing images (rxrx3):   0%|          | 0/100 [00:00<?, ?it/s]"
      ]
     },
     "metadata": {},
     "output_type": "display_data"
    },
    {
     "name": "stdout",
     "output_type": "stream",
     "text": [
      "Processing batch 972/1554\n"
     ]
    },
    {
     "data": {
      "application/vnd.jupyter.widget-view+json": {
       "model_id": "ac9ddc2b87924b988ffb0f2b98845e22",
       "version_major": 2,
       "version_minor": 0
      },
      "text/plain": [
       "Resizing images (rxrx3):   0%|          | 0/100 [00:00<?, ?it/s]"
      ]
     },
     "metadata": {},
     "output_type": "display_data"
    },
    {
     "name": "stdout",
     "output_type": "stream",
     "text": [
      "Processing batch 973/1554\n"
     ]
    },
    {
     "data": {
      "application/vnd.jupyter.widget-view+json": {
       "model_id": "3ec3d26f988542f886e32ae1a0a62417",
       "version_major": 2,
       "version_minor": 0
      },
      "text/plain": [
       "Resizing images (rxrx3):   0%|          | 0/100 [00:00<?, ?it/s]"
      ]
     },
     "metadata": {},
     "output_type": "display_data"
    },
    {
     "name": "stdout",
     "output_type": "stream",
     "text": [
      "Processing batch 974/1554\n"
     ]
    },
    {
     "data": {
      "application/vnd.jupyter.widget-view+json": {
       "model_id": "0f99911745114b4eb1075299f0dd2f78",
       "version_major": 2,
       "version_minor": 0
      },
      "text/plain": [
       "Resizing images (rxrx3):   0%|          | 0/100 [00:00<?, ?it/s]"
      ]
     },
     "metadata": {},
     "output_type": "display_data"
    },
    {
     "name": "stdout",
     "output_type": "stream",
     "text": [
      "Processing batch 975/1554\n"
     ]
    },
    {
     "data": {
      "application/vnd.jupyter.widget-view+json": {
       "model_id": "fc56b8dbd0b741caab518e2519182d52",
       "version_major": 2,
       "version_minor": 0
      },
      "text/plain": [
       "Resizing images (rxrx3):   0%|          | 0/100 [00:00<?, ?it/s]"
      ]
     },
     "metadata": {},
     "output_type": "display_data"
    },
    {
     "name": "stdout",
     "output_type": "stream",
     "text": [
      "Processing batch 976/1554\n"
     ]
    },
    {
     "data": {
      "application/vnd.jupyter.widget-view+json": {
       "model_id": "0c1220c0756a4d2ca45c91df270ddbbe",
       "version_major": 2,
       "version_minor": 0
      },
      "text/plain": [
       "Resizing images (rxrx3):   0%|          | 0/100 [00:00<?, ?it/s]"
      ]
     },
     "metadata": {},
     "output_type": "display_data"
    },
    {
     "name": "stdout",
     "output_type": "stream",
     "text": [
      "Processing batch 977/1554\n"
     ]
    },
    {
     "data": {
      "application/vnd.jupyter.widget-view+json": {
       "model_id": "c6255d69f4cd4b04aa782e800ca58b2a",
       "version_major": 2,
       "version_minor": 0
      },
      "text/plain": [
       "Resizing images (rxrx3):   0%|          | 0/100 [00:00<?, ?it/s]"
      ]
     },
     "metadata": {},
     "output_type": "display_data"
    },
    {
     "name": "stdout",
     "output_type": "stream",
     "text": [
      "Processing batch 978/1554\n"
     ]
    },
    {
     "data": {
      "application/vnd.jupyter.widget-view+json": {
       "model_id": "4d176db1f58047cfac43ae62cb5b3b71",
       "version_major": 2,
       "version_minor": 0
      },
      "text/plain": [
       "Resizing images (rxrx3):   0%|          | 0/100 [00:00<?, ?it/s]"
      ]
     },
     "metadata": {},
     "output_type": "display_data"
    },
    {
     "name": "stdout",
     "output_type": "stream",
     "text": [
      "Processing batch 979/1554\n"
     ]
    },
    {
     "data": {
      "application/vnd.jupyter.widget-view+json": {
       "model_id": "4cf4360b78f541ada6b3201cd366bb54",
       "version_major": 2,
       "version_minor": 0
      },
      "text/plain": [
       "Resizing images (rxrx3):   0%|          | 0/100 [00:00<?, ?it/s]"
      ]
     },
     "metadata": {},
     "output_type": "display_data"
    },
    {
     "name": "stdout",
     "output_type": "stream",
     "text": [
      "Processing batch 980/1554\n"
     ]
    },
    {
     "data": {
      "application/vnd.jupyter.widget-view+json": {
       "model_id": "b011d870c61c422fa5a8015a9f667100",
       "version_major": 2,
       "version_minor": 0
      },
      "text/plain": [
       "Resizing images (rxrx3):   0%|          | 0/100 [00:00<?, ?it/s]"
      ]
     },
     "metadata": {},
     "output_type": "display_data"
    },
    {
     "name": "stdout",
     "output_type": "stream",
     "text": [
      "Processing batch 981/1554\n"
     ]
    },
    {
     "data": {
      "application/vnd.jupyter.widget-view+json": {
       "model_id": "74fdff0a18e4477a9ec0051521dce2cc",
       "version_major": 2,
       "version_minor": 0
      },
      "text/plain": [
       "Resizing images (rxrx3):   0%|          | 0/100 [00:00<?, ?it/s]"
      ]
     },
     "metadata": {},
     "output_type": "display_data"
    },
    {
     "name": "stdout",
     "output_type": "stream",
     "text": [
      "Processing batch 982/1554\n"
     ]
    },
    {
     "data": {
      "application/vnd.jupyter.widget-view+json": {
       "model_id": "d012ba5472f8406fa433a3fb62ddf290",
       "version_major": 2,
       "version_minor": 0
      },
      "text/plain": [
       "Resizing images (rxrx3):   0%|          | 0/100 [00:00<?, ?it/s]"
      ]
     },
     "metadata": {},
     "output_type": "display_data"
    },
    {
     "name": "stdout",
     "output_type": "stream",
     "text": [
      "Processing batch 983/1554\n"
     ]
    },
    {
     "data": {
      "application/vnd.jupyter.widget-view+json": {
       "model_id": "f7f0a238551e4b5cb1eae9b213c5e733",
       "version_major": 2,
       "version_minor": 0
      },
      "text/plain": [
       "Resizing images (rxrx3):   0%|          | 0/100 [00:00<?, ?it/s]"
      ]
     },
     "metadata": {},
     "output_type": "display_data"
    },
    {
     "name": "stdout",
     "output_type": "stream",
     "text": [
      "Processing batch 984/1554\n"
     ]
    },
    {
     "data": {
      "application/vnd.jupyter.widget-view+json": {
       "model_id": "e407e0921a734b62be44a1182ac3f3b0",
       "version_major": 2,
       "version_minor": 0
      },
      "text/plain": [
       "Resizing images (rxrx3):   0%|          | 0/100 [00:00<?, ?it/s]"
      ]
     },
     "metadata": {},
     "output_type": "display_data"
    },
    {
     "name": "stdout",
     "output_type": "stream",
     "text": [
      "Processing batch 985/1554\n"
     ]
    },
    {
     "data": {
      "application/vnd.jupyter.widget-view+json": {
       "model_id": "c2103ba28e414aeb91b7576c34d4e0d0",
       "version_major": 2,
       "version_minor": 0
      },
      "text/plain": [
       "Resizing images (rxrx3):   0%|          | 0/100 [00:00<?, ?it/s]"
      ]
     },
     "metadata": {},
     "output_type": "display_data"
    },
    {
     "name": "stdout",
     "output_type": "stream",
     "text": [
      "Processing batch 986/1554\n"
     ]
    },
    {
     "data": {
      "application/vnd.jupyter.widget-view+json": {
       "model_id": "50bb82d0df644ea6bef76c1181dd75e5",
       "version_major": 2,
       "version_minor": 0
      },
      "text/plain": [
       "Resizing images (rxrx3):   0%|          | 0/100 [00:00<?, ?it/s]"
      ]
     },
     "metadata": {},
     "output_type": "display_data"
    },
    {
     "name": "stdout",
     "output_type": "stream",
     "text": [
      "Processing batch 987/1554\n"
     ]
    },
    {
     "data": {
      "application/vnd.jupyter.widget-view+json": {
       "model_id": "5bf52e4448dd4aa4aa426d86cfce5daa",
       "version_major": 2,
       "version_minor": 0
      },
      "text/plain": [
       "Resizing images (rxrx3):   0%|          | 0/100 [00:00<?, ?it/s]"
      ]
     },
     "metadata": {},
     "output_type": "display_data"
    },
    {
     "name": "stdout",
     "output_type": "stream",
     "text": [
      "Processing batch 988/1554\n"
     ]
    },
    {
     "data": {
      "application/vnd.jupyter.widget-view+json": {
       "model_id": "4a545db990e8478babbfa761c864624d",
       "version_major": 2,
       "version_minor": 0
      },
      "text/plain": [
       "Resizing images (rxrx3):   0%|          | 0/100 [00:00<?, ?it/s]"
      ]
     },
     "metadata": {},
     "output_type": "display_data"
    },
    {
     "name": "stdout",
     "output_type": "stream",
     "text": [
      "Processing batch 989/1554\n"
     ]
    },
    {
     "data": {
      "application/vnd.jupyter.widget-view+json": {
       "model_id": "ae7587810a024455bf7f6e76f53e6a4e",
       "version_major": 2,
       "version_minor": 0
      },
      "text/plain": [
       "Resizing images (rxrx3):   0%|          | 0/100 [00:00<?, ?it/s]"
      ]
     },
     "metadata": {},
     "output_type": "display_data"
    },
    {
     "name": "stdout",
     "output_type": "stream",
     "text": [
      "Processing batch 990/1554\n"
     ]
    },
    {
     "data": {
      "application/vnd.jupyter.widget-view+json": {
       "model_id": "3a638651fa244ee68666551391ee428b",
       "version_major": 2,
       "version_minor": 0
      },
      "text/plain": [
       "Resizing images (rxrx3):   0%|          | 0/100 [00:00<?, ?it/s]"
      ]
     },
     "metadata": {},
     "output_type": "display_data"
    },
    {
     "name": "stdout",
     "output_type": "stream",
     "text": [
      "Processing batch 991/1554\n"
     ]
    },
    {
     "data": {
      "application/vnd.jupyter.widget-view+json": {
       "model_id": "24fe2d3bb671493992120f2500769949",
       "version_major": 2,
       "version_minor": 0
      },
      "text/plain": [
       "Resizing images (rxrx3):   0%|          | 0/100 [00:00<?, ?it/s]"
      ]
     },
     "metadata": {},
     "output_type": "display_data"
    },
    {
     "name": "stdout",
     "output_type": "stream",
     "text": [
      "Processing batch 992/1554\n"
     ]
    },
    {
     "data": {
      "application/vnd.jupyter.widget-view+json": {
       "model_id": "fdc093b3955448f2a1dde689a87cc00a",
       "version_major": 2,
       "version_minor": 0
      },
      "text/plain": [
       "Resizing images (rxrx3):   0%|          | 0/100 [00:00<?, ?it/s]"
      ]
     },
     "metadata": {},
     "output_type": "display_data"
    },
    {
     "name": "stdout",
     "output_type": "stream",
     "text": [
      "Processing batch 993/1554\n"
     ]
    },
    {
     "data": {
      "application/vnd.jupyter.widget-view+json": {
       "model_id": "5554a89020b841e5beead389143a31d4",
       "version_major": 2,
       "version_minor": 0
      },
      "text/plain": [
       "Resizing images (rxrx3):   0%|          | 0/100 [00:00<?, ?it/s]"
      ]
     },
     "metadata": {},
     "output_type": "display_data"
    },
    {
     "name": "stdout",
     "output_type": "stream",
     "text": [
      "Processing batch 994/1554\n"
     ]
    },
    {
     "data": {
      "application/vnd.jupyter.widget-view+json": {
       "model_id": "e7d55fa1c5e440bfa69b5ef415d2bad4",
       "version_major": 2,
       "version_minor": 0
      },
      "text/plain": [
       "Resizing images (rxrx3):   0%|          | 0/100 [00:00<?, ?it/s]"
      ]
     },
     "metadata": {},
     "output_type": "display_data"
    },
    {
     "name": "stdout",
     "output_type": "stream",
     "text": [
      "Processing batch 995/1554\n"
     ]
    },
    {
     "data": {
      "application/vnd.jupyter.widget-view+json": {
       "model_id": "5ee7fb7bcd654cc289a17fee81d11329",
       "version_major": 2,
       "version_minor": 0
      },
      "text/plain": [
       "Resizing images (rxrx3):   0%|          | 0/100 [00:00<?, ?it/s]"
      ]
     },
     "metadata": {},
     "output_type": "display_data"
    },
    {
     "name": "stdout",
     "output_type": "stream",
     "text": [
      "Processing batch 996/1554\n"
     ]
    },
    {
     "data": {
      "application/vnd.jupyter.widget-view+json": {
       "model_id": "bf771bdd0bda497cac4878d332c43e06",
       "version_major": 2,
       "version_minor": 0
      },
      "text/plain": [
       "Resizing images (rxrx3):   0%|          | 0/100 [00:00<?, ?it/s]"
      ]
     },
     "metadata": {},
     "output_type": "display_data"
    },
    {
     "name": "stdout",
     "output_type": "stream",
     "text": [
      "Processing batch 997/1554\n"
     ]
    },
    {
     "data": {
      "application/vnd.jupyter.widget-view+json": {
       "model_id": "5a16cb304cf849ae96bbf8c701e3f729",
       "version_major": 2,
       "version_minor": 0
      },
      "text/plain": [
       "Resizing images (rxrx3):   0%|          | 0/100 [00:00<?, ?it/s]"
      ]
     },
     "metadata": {},
     "output_type": "display_data"
    },
    {
     "name": "stdout",
     "output_type": "stream",
     "text": [
      "Processing batch 998/1554\n"
     ]
    },
    {
     "data": {
      "application/vnd.jupyter.widget-view+json": {
       "model_id": "686e4d925ccc4ccaaca8842291a6b387",
       "version_major": 2,
       "version_minor": 0
      },
      "text/plain": [
       "Resizing images (rxrx3):   0%|          | 0/100 [00:00<?, ?it/s]"
      ]
     },
     "metadata": {},
     "output_type": "display_data"
    },
    {
     "name": "stdout",
     "output_type": "stream",
     "text": [
      "Processing batch 999/1554\n"
     ]
    },
    {
     "data": {
      "application/vnd.jupyter.widget-view+json": {
       "model_id": "a4c7a5d882d348e5a54a2891318d4640",
       "version_major": 2,
       "version_minor": 0
      },
      "text/plain": [
       "Resizing images (rxrx3):   0%|          | 0/100 [00:00<?, ?it/s]"
      ]
     },
     "metadata": {},
     "output_type": "display_data"
    },
    {
     "name": "stdout",
     "output_type": "stream",
     "text": [
      "Processing batch 1000/1554\n"
     ]
    },
    {
     "data": {
      "application/vnd.jupyter.widget-view+json": {
       "model_id": "c50d69a7567e4a29a1cae0df34224f06",
       "version_major": 2,
       "version_minor": 0
      },
      "text/plain": [
       "Resizing images (rxrx3):   0%|          | 0/100 [00:00<?, ?it/s]"
      ]
     },
     "metadata": {},
     "output_type": "display_data"
    },
    {
     "name": "stdout",
     "output_type": "stream",
     "text": [
      "Processing batch 1001/1554\n"
     ]
    },
    {
     "data": {
      "application/vnd.jupyter.widget-view+json": {
       "model_id": "5ab69f9a1fed430380ff6bd120707511",
       "version_major": 2,
       "version_minor": 0
      },
      "text/plain": [
       "Resizing images (rxrx3):   0%|          | 0/100 [00:00<?, ?it/s]"
      ]
     },
     "metadata": {},
     "output_type": "display_data"
    },
    {
     "name": "stdout",
     "output_type": "stream",
     "text": [
      "Processing batch 1002/1554\n"
     ]
    },
    {
     "data": {
      "application/vnd.jupyter.widget-view+json": {
       "model_id": "07e2df63d13d423e9cd334c622e63222",
       "version_major": 2,
       "version_minor": 0
      },
      "text/plain": [
       "Resizing images (rxrx3):   0%|          | 0/100 [00:00<?, ?it/s]"
      ]
     },
     "metadata": {},
     "output_type": "display_data"
    },
    {
     "name": "stdout",
     "output_type": "stream",
     "text": [
      "Processing batch 1003/1554\n"
     ]
    },
    {
     "data": {
      "application/vnd.jupyter.widget-view+json": {
       "model_id": "1d62ccdc5fd748a584a675f864fd6b58",
       "version_major": 2,
       "version_minor": 0
      },
      "text/plain": [
       "Resizing images (rxrx3):   0%|          | 0/100 [00:00<?, ?it/s]"
      ]
     },
     "metadata": {},
     "output_type": "display_data"
    },
    {
     "name": "stdout",
     "output_type": "stream",
     "text": [
      "Processing batch 1004/1554\n"
     ]
    },
    {
     "data": {
      "application/vnd.jupyter.widget-view+json": {
       "model_id": "1f4e9acb4fb6465297adce9bda17758d",
       "version_major": 2,
       "version_minor": 0
      },
      "text/plain": [
       "Resizing images (rxrx3):   0%|          | 0/100 [00:00<?, ?it/s]"
      ]
     },
     "metadata": {},
     "output_type": "display_data"
    },
    {
     "name": "stdout",
     "output_type": "stream",
     "text": [
      "Processing batch 1005/1554\n"
     ]
    },
    {
     "data": {
      "application/vnd.jupyter.widget-view+json": {
       "model_id": "ece208eba57d4ac3befcbb1be87b32af",
       "version_major": 2,
       "version_minor": 0
      },
      "text/plain": [
       "Resizing images (rxrx3):   0%|          | 0/100 [00:00<?, ?it/s]"
      ]
     },
     "metadata": {},
     "output_type": "display_data"
    },
    {
     "name": "stdout",
     "output_type": "stream",
     "text": [
      "Processing batch 1006/1554\n"
     ]
    },
    {
     "data": {
      "application/vnd.jupyter.widget-view+json": {
       "model_id": "6a9976b1e5e64d93aa8c19dc06b91057",
       "version_major": 2,
       "version_minor": 0
      },
      "text/plain": [
       "Resizing images (rxrx3):   0%|          | 0/100 [00:00<?, ?it/s]"
      ]
     },
     "metadata": {},
     "output_type": "display_data"
    },
    {
     "name": "stdout",
     "output_type": "stream",
     "text": [
      "Processing batch 1007/1554\n"
     ]
    },
    {
     "data": {
      "application/vnd.jupyter.widget-view+json": {
       "model_id": "1c5f5319dd034bc1af974ce26c6e0d5e",
       "version_major": 2,
       "version_minor": 0
      },
      "text/plain": [
       "Resizing images (rxrx3):   0%|          | 0/100 [00:00<?, ?it/s]"
      ]
     },
     "metadata": {},
     "output_type": "display_data"
    },
    {
     "name": "stdout",
     "output_type": "stream",
     "text": [
      "Processing batch 1008/1554\n"
     ]
    },
    {
     "data": {
      "application/vnd.jupyter.widget-view+json": {
       "model_id": "c534f258f79149f895737c076079f30d",
       "version_major": 2,
       "version_minor": 0
      },
      "text/plain": [
       "Resizing images (rxrx3):   0%|          | 0/100 [00:00<?, ?it/s]"
      ]
     },
     "metadata": {},
     "output_type": "display_data"
    },
    {
     "name": "stdout",
     "output_type": "stream",
     "text": [
      "Processing batch 1009/1554\n"
     ]
    },
    {
     "data": {
      "application/vnd.jupyter.widget-view+json": {
       "model_id": "99b0f914749340a288a6505631662ecb",
       "version_major": 2,
       "version_minor": 0
      },
      "text/plain": [
       "Resizing images (rxrx3):   0%|          | 0/100 [00:00<?, ?it/s]"
      ]
     },
     "metadata": {},
     "output_type": "display_data"
    },
    {
     "name": "stdout",
     "output_type": "stream",
     "text": [
      "Processing batch 1010/1554\n"
     ]
    },
    {
     "data": {
      "application/vnd.jupyter.widget-view+json": {
       "model_id": "5f72be409cd54d2aa2aa6489587cade5",
       "version_major": 2,
       "version_minor": 0
      },
      "text/plain": [
       "Resizing images (rxrx3):   0%|          | 0/100 [00:00<?, ?it/s]"
      ]
     },
     "metadata": {},
     "output_type": "display_data"
    },
    {
     "name": "stdout",
     "output_type": "stream",
     "text": [
      "Processing batch 1011/1554\n"
     ]
    },
    {
     "data": {
      "application/vnd.jupyter.widget-view+json": {
       "model_id": "66bd60441dd54d6db67b907ab4c6119b",
       "version_major": 2,
       "version_minor": 0
      },
      "text/plain": [
       "Resizing images (rxrx3):   0%|          | 0/100 [00:00<?, ?it/s]"
      ]
     },
     "metadata": {},
     "output_type": "display_data"
    },
    {
     "name": "stdout",
     "output_type": "stream",
     "text": [
      "Processing batch 1012/1554\n"
     ]
    },
    {
     "data": {
      "application/vnd.jupyter.widget-view+json": {
       "model_id": "06939bf95259456cb389358525f914b2",
       "version_major": 2,
       "version_minor": 0
      },
      "text/plain": [
       "Resizing images (rxrx3):   0%|          | 0/100 [00:00<?, ?it/s]"
      ]
     },
     "metadata": {},
     "output_type": "display_data"
    },
    {
     "name": "stdout",
     "output_type": "stream",
     "text": [
      "Processing batch 1013/1554\n"
     ]
    },
    {
     "data": {
      "application/vnd.jupyter.widget-view+json": {
       "model_id": "e619819ca26144d1a2bec6b2aa3ad34b",
       "version_major": 2,
       "version_minor": 0
      },
      "text/plain": [
       "Resizing images (rxrx3):   0%|          | 0/100 [00:00<?, ?it/s]"
      ]
     },
     "metadata": {},
     "output_type": "display_data"
    },
    {
     "name": "stdout",
     "output_type": "stream",
     "text": [
      "Processing batch 1014/1554\n"
     ]
    },
    {
     "data": {
      "application/vnd.jupyter.widget-view+json": {
       "model_id": "f9cc4728550a4329a8873de0372484c0",
       "version_major": 2,
       "version_minor": 0
      },
      "text/plain": [
       "Resizing images (rxrx3):   0%|          | 0/100 [00:00<?, ?it/s]"
      ]
     },
     "metadata": {},
     "output_type": "display_data"
    },
    {
     "name": "stdout",
     "output_type": "stream",
     "text": [
      "Processing batch 1015/1554\n"
     ]
    },
    {
     "data": {
      "application/vnd.jupyter.widget-view+json": {
       "model_id": "3ccdfd371a594d3096db306d0bec1505",
       "version_major": 2,
       "version_minor": 0
      },
      "text/plain": [
       "Resizing images (rxrx3):   0%|          | 0/100 [00:00<?, ?it/s]"
      ]
     },
     "metadata": {},
     "output_type": "display_data"
    },
    {
     "name": "stdout",
     "output_type": "stream",
     "text": [
      "Processing batch 1016/1554\n"
     ]
    },
    {
     "data": {
      "application/vnd.jupyter.widget-view+json": {
       "model_id": "27c527f6aba247cb98da51abae4f1292",
       "version_major": 2,
       "version_minor": 0
      },
      "text/plain": [
       "Resizing images (rxrx3):   0%|          | 0/100 [00:00<?, ?it/s]"
      ]
     },
     "metadata": {},
     "output_type": "display_data"
    },
    {
     "name": "stdout",
     "output_type": "stream",
     "text": [
      "Processing batch 1017/1554\n"
     ]
    },
    {
     "data": {
      "application/vnd.jupyter.widget-view+json": {
       "model_id": "a1c234a3fd8e482cbdf2ced1f13a56c0",
       "version_major": 2,
       "version_minor": 0
      },
      "text/plain": [
       "Resizing images (rxrx3):   0%|          | 0/100 [00:00<?, ?it/s]"
      ]
     },
     "metadata": {},
     "output_type": "display_data"
    },
    {
     "name": "stdout",
     "output_type": "stream",
     "text": [
      "Processing batch 1018/1554\n"
     ]
    },
    {
     "data": {
      "application/vnd.jupyter.widget-view+json": {
       "model_id": "edc89452e27644cdb3dad90c4d2c2ef1",
       "version_major": 2,
       "version_minor": 0
      },
      "text/plain": [
       "Resizing images (rxrx3):   0%|          | 0/100 [00:00<?, ?it/s]"
      ]
     },
     "metadata": {},
     "output_type": "display_data"
    },
    {
     "name": "stdout",
     "output_type": "stream",
     "text": [
      "Processing batch 1019/1554\n"
     ]
    },
    {
     "data": {
      "application/vnd.jupyter.widget-view+json": {
       "model_id": "96c0566054bf460abee0422465e69661",
       "version_major": 2,
       "version_minor": 0
      },
      "text/plain": [
       "Resizing images (rxrx3):   0%|          | 0/100 [00:00<?, ?it/s]"
      ]
     },
     "metadata": {},
     "output_type": "display_data"
    },
    {
     "name": "stdout",
     "output_type": "stream",
     "text": [
      "Processing batch 1020/1554\n"
     ]
    },
    {
     "data": {
      "application/vnd.jupyter.widget-view+json": {
       "model_id": "eccc83474a8d4e6ebbcc0fb449852ccf",
       "version_major": 2,
       "version_minor": 0
      },
      "text/plain": [
       "Resizing images (rxrx3):   0%|          | 0/100 [00:00<?, ?it/s]"
      ]
     },
     "metadata": {},
     "output_type": "display_data"
    },
    {
     "name": "stdout",
     "output_type": "stream",
     "text": [
      "Processing batch 1021/1554\n"
     ]
    },
    {
     "data": {
      "application/vnd.jupyter.widget-view+json": {
       "model_id": "df683b146a08476aa64b54f6a6869855",
       "version_major": 2,
       "version_minor": 0
      },
      "text/plain": [
       "Resizing images (rxrx3):   0%|          | 0/100 [00:00<?, ?it/s]"
      ]
     },
     "metadata": {},
     "output_type": "display_data"
    },
    {
     "name": "stdout",
     "output_type": "stream",
     "text": [
      "Processing batch 1022/1554\n"
     ]
    },
    {
     "data": {
      "application/vnd.jupyter.widget-view+json": {
       "model_id": "7bb62daab29140e29f7a1643521c385b",
       "version_major": 2,
       "version_minor": 0
      },
      "text/plain": [
       "Resizing images (rxrx3):   0%|          | 0/100 [00:00<?, ?it/s]"
      ]
     },
     "metadata": {},
     "output_type": "display_data"
    },
    {
     "name": "stdout",
     "output_type": "stream",
     "text": [
      "Processing batch 1023/1554\n"
     ]
    },
    {
     "data": {
      "application/vnd.jupyter.widget-view+json": {
       "model_id": "f51494d31baf488fa4e58c99b1893ccb",
       "version_major": 2,
       "version_minor": 0
      },
      "text/plain": [
       "Resizing images (rxrx3):   0%|          | 0/100 [00:00<?, ?it/s]"
      ]
     },
     "metadata": {},
     "output_type": "display_data"
    },
    {
     "name": "stdout",
     "output_type": "stream",
     "text": [
      "Processing batch 1024/1554\n"
     ]
    },
    {
     "data": {
      "application/vnd.jupyter.widget-view+json": {
       "model_id": "a8a0a9096289465f9fe7c2c4b30c58c5",
       "version_major": 2,
       "version_minor": 0
      },
      "text/plain": [
       "Resizing images (rxrx3):   0%|          | 0/100 [00:00<?, ?it/s]"
      ]
     },
     "metadata": {},
     "output_type": "display_data"
    },
    {
     "name": "stdout",
     "output_type": "stream",
     "text": [
      "Processing batch 1025/1554\n"
     ]
    },
    {
     "data": {
      "application/vnd.jupyter.widget-view+json": {
       "model_id": "1f28cd4173ea41e8b11c661c11f151a6",
       "version_major": 2,
       "version_minor": 0
      },
      "text/plain": [
       "Resizing images (rxrx3):   0%|          | 0/100 [00:00<?, ?it/s]"
      ]
     },
     "metadata": {},
     "output_type": "display_data"
    },
    {
     "name": "stdout",
     "output_type": "stream",
     "text": [
      "Processing batch 1026/1554\n"
     ]
    },
    {
     "data": {
      "application/vnd.jupyter.widget-view+json": {
       "model_id": "e50a0f0af3a244dba42debfbc45f93a4",
       "version_major": 2,
       "version_minor": 0
      },
      "text/plain": [
       "Resizing images (rxrx3):   0%|          | 0/100 [00:00<?, ?it/s]"
      ]
     },
     "metadata": {},
     "output_type": "display_data"
    },
    {
     "name": "stdout",
     "output_type": "stream",
     "text": [
      "Processing batch 1027/1554\n"
     ]
    },
    {
     "data": {
      "application/vnd.jupyter.widget-view+json": {
       "model_id": "6268cf75c2094c759bdf10ae736c99cf",
       "version_major": 2,
       "version_minor": 0
      },
      "text/plain": [
       "Resizing images (rxrx3):   0%|          | 0/100 [00:00<?, ?it/s]"
      ]
     },
     "metadata": {},
     "output_type": "display_data"
    },
    {
     "name": "stdout",
     "output_type": "stream",
     "text": [
      "Processing batch 1028/1554\n"
     ]
    },
    {
     "data": {
      "application/vnd.jupyter.widget-view+json": {
       "model_id": "b2daee88ad784579bebcc73d5124db29",
       "version_major": 2,
       "version_minor": 0
      },
      "text/plain": [
       "Resizing images (rxrx3):   0%|          | 0/100 [00:00<?, ?it/s]"
      ]
     },
     "metadata": {},
     "output_type": "display_data"
    },
    {
     "name": "stdout",
     "output_type": "stream",
     "text": [
      "Processing batch 1029/1554\n"
     ]
    },
    {
     "data": {
      "application/vnd.jupyter.widget-view+json": {
       "model_id": "5c9d5d4d11504c618c9a3457c3b1c704",
       "version_major": 2,
       "version_minor": 0
      },
      "text/plain": [
       "Resizing images (rxrx3):   0%|          | 0/100 [00:00<?, ?it/s]"
      ]
     },
     "metadata": {},
     "output_type": "display_data"
    },
    {
     "name": "stdout",
     "output_type": "stream",
     "text": [
      "Processing batch 1030/1554\n"
     ]
    },
    {
     "data": {
      "application/vnd.jupyter.widget-view+json": {
       "model_id": "5b9cdb335b994539aa3883d961442690",
       "version_major": 2,
       "version_minor": 0
      },
      "text/plain": [
       "Resizing images (rxrx3):   0%|          | 0/100 [00:00<?, ?it/s]"
      ]
     },
     "metadata": {},
     "output_type": "display_data"
    },
    {
     "name": "stdout",
     "output_type": "stream",
     "text": [
      "Processing batch 1031/1554\n"
     ]
    },
    {
     "data": {
      "application/vnd.jupyter.widget-view+json": {
       "model_id": "5bc51d74ea834cfe86a5adca7e222e60",
       "version_major": 2,
       "version_minor": 0
      },
      "text/plain": [
       "Resizing images (rxrx3):   0%|          | 0/100 [00:00<?, ?it/s]"
      ]
     },
     "metadata": {},
     "output_type": "display_data"
    },
    {
     "name": "stdout",
     "output_type": "stream",
     "text": [
      "Processing batch 1032/1554\n"
     ]
    },
    {
     "data": {
      "application/vnd.jupyter.widget-view+json": {
       "model_id": "7dde347e036440c19944dd089b08c036",
       "version_major": 2,
       "version_minor": 0
      },
      "text/plain": [
       "Resizing images (rxrx3):   0%|          | 0/100 [00:00<?, ?it/s]"
      ]
     },
     "metadata": {},
     "output_type": "display_data"
    },
    {
     "name": "stdout",
     "output_type": "stream",
     "text": [
      "Processing batch 1033/1554\n"
     ]
    },
    {
     "data": {
      "application/vnd.jupyter.widget-view+json": {
       "model_id": "8f989f5fab1f43ad8a4d46358d3282c9",
       "version_major": 2,
       "version_minor": 0
      },
      "text/plain": [
       "Resizing images (rxrx3):   0%|          | 0/100 [00:00<?, ?it/s]"
      ]
     },
     "metadata": {},
     "output_type": "display_data"
    },
    {
     "name": "stdout",
     "output_type": "stream",
     "text": [
      "Processing batch 1034/1554\n"
     ]
    },
    {
     "data": {
      "application/vnd.jupyter.widget-view+json": {
       "model_id": "d9c04bf6418344ec8fbf95151dd972db",
       "version_major": 2,
       "version_minor": 0
      },
      "text/plain": [
       "Resizing images (rxrx3):   0%|          | 0/100 [00:00<?, ?it/s]"
      ]
     },
     "metadata": {},
     "output_type": "display_data"
    },
    {
     "name": "stdout",
     "output_type": "stream",
     "text": [
      "Processing batch 1035/1554\n"
     ]
    },
    {
     "data": {
      "application/vnd.jupyter.widget-view+json": {
       "model_id": "c60b54273b5948ffbebf53fa01829a5c",
       "version_major": 2,
       "version_minor": 0
      },
      "text/plain": [
       "Resizing images (rxrx3):   0%|          | 0/100 [00:00<?, ?it/s]"
      ]
     },
     "metadata": {},
     "output_type": "display_data"
    },
    {
     "name": "stdout",
     "output_type": "stream",
     "text": [
      "Processing batch 1036/1554\n"
     ]
    },
    {
     "data": {
      "application/vnd.jupyter.widget-view+json": {
       "model_id": "1bef473ab3dd49a181710a4236972749",
       "version_major": 2,
       "version_minor": 0
      },
      "text/plain": [
       "Resizing images (rxrx3):   0%|          | 0/100 [00:00<?, ?it/s]"
      ]
     },
     "metadata": {},
     "output_type": "display_data"
    },
    {
     "name": "stdout",
     "output_type": "stream",
     "text": [
      "Processing batch 1037/1554\n"
     ]
    },
    {
     "data": {
      "application/vnd.jupyter.widget-view+json": {
       "model_id": "2b0fff83890146e6ae8df47607d94612",
       "version_major": 2,
       "version_minor": 0
      },
      "text/plain": [
       "Resizing images (rxrx3):   0%|          | 0/100 [00:00<?, ?it/s]"
      ]
     },
     "metadata": {},
     "output_type": "display_data"
    },
    {
     "name": "stdout",
     "output_type": "stream",
     "text": [
      "Processing batch 1038/1554\n"
     ]
    },
    {
     "data": {
      "application/vnd.jupyter.widget-view+json": {
       "model_id": "be6e6acdbbba4ca7947838ae6b561545",
       "version_major": 2,
       "version_minor": 0
      },
      "text/plain": [
       "Resizing images (rxrx3):   0%|          | 0/100 [00:00<?, ?it/s]"
      ]
     },
     "metadata": {},
     "output_type": "display_data"
    },
    {
     "name": "stdout",
     "output_type": "stream",
     "text": [
      "Processing batch 1039/1554\n"
     ]
    },
    {
     "data": {
      "application/vnd.jupyter.widget-view+json": {
       "model_id": "a9f27d596c5844e6ae5335eb9ce2d9b4",
       "version_major": 2,
       "version_minor": 0
      },
      "text/plain": [
       "Resizing images (rxrx3):   0%|          | 0/100 [00:00<?, ?it/s]"
      ]
     },
     "metadata": {},
     "output_type": "display_data"
    },
    {
     "name": "stdout",
     "output_type": "stream",
     "text": [
      "Processing batch 1040/1554\n"
     ]
    },
    {
     "data": {
      "application/vnd.jupyter.widget-view+json": {
       "model_id": "09c1bd7f8c374538a60311f074f80728",
       "version_major": 2,
       "version_minor": 0
      },
      "text/plain": [
       "Resizing images (rxrx3):   0%|          | 0/100 [00:00<?, ?it/s]"
      ]
     },
     "metadata": {},
     "output_type": "display_data"
    },
    {
     "name": "stdout",
     "output_type": "stream",
     "text": [
      "Processing batch 1041/1554\n"
     ]
    },
    {
     "data": {
      "application/vnd.jupyter.widget-view+json": {
       "model_id": "42c6d3ea9adb4995bf7e332516cc262c",
       "version_major": 2,
       "version_minor": 0
      },
      "text/plain": [
       "Resizing images (rxrx3):   0%|          | 0/100 [00:00<?, ?it/s]"
      ]
     },
     "metadata": {},
     "output_type": "display_data"
    },
    {
     "name": "stdout",
     "output_type": "stream",
     "text": [
      "Processing batch 1042/1554\n"
     ]
    },
    {
     "data": {
      "application/vnd.jupyter.widget-view+json": {
       "model_id": "fc7d6c32a1424c449b7f6cee193dcb40",
       "version_major": 2,
       "version_minor": 0
      },
      "text/plain": [
       "Resizing images (rxrx3):   0%|          | 0/100 [00:00<?, ?it/s]"
      ]
     },
     "metadata": {},
     "output_type": "display_data"
    },
    {
     "name": "stdout",
     "output_type": "stream",
     "text": [
      "Processing batch 1043/1554\n"
     ]
    },
    {
     "data": {
      "application/vnd.jupyter.widget-view+json": {
       "model_id": "b7bd4925acb74a8ab0394c9622ed07c6",
       "version_major": 2,
       "version_minor": 0
      },
      "text/plain": [
       "Resizing images (rxrx3):   0%|          | 0/100 [00:00<?, ?it/s]"
      ]
     },
     "metadata": {},
     "output_type": "display_data"
    },
    {
     "name": "stdout",
     "output_type": "stream",
     "text": [
      "Processing batch 1044/1554\n"
     ]
    },
    {
     "data": {
      "application/vnd.jupyter.widget-view+json": {
       "model_id": "634a21272a8145a9b13dab2efe530aca",
       "version_major": 2,
       "version_minor": 0
      },
      "text/plain": [
       "Resizing images (rxrx3):   0%|          | 0/100 [00:00<?, ?it/s]"
      ]
     },
     "metadata": {},
     "output_type": "display_data"
    },
    {
     "name": "stdout",
     "output_type": "stream",
     "text": [
      "Processing batch 1045/1554\n"
     ]
    },
    {
     "data": {
      "application/vnd.jupyter.widget-view+json": {
       "model_id": "099d1f691cd7442b945d13c4ae0c6a20",
       "version_major": 2,
       "version_minor": 0
      },
      "text/plain": [
       "Resizing images (rxrx3):   0%|          | 0/100 [00:00<?, ?it/s]"
      ]
     },
     "metadata": {},
     "output_type": "display_data"
    },
    {
     "name": "stdout",
     "output_type": "stream",
     "text": [
      "Processing batch 1046/1554\n"
     ]
    },
    {
     "data": {
      "application/vnd.jupyter.widget-view+json": {
       "model_id": "ff22539b6a04488091a9047aff72f720",
       "version_major": 2,
       "version_minor": 0
      },
      "text/plain": [
       "Resizing images (rxrx3):   0%|          | 0/100 [00:00<?, ?it/s]"
      ]
     },
     "metadata": {},
     "output_type": "display_data"
    },
    {
     "name": "stdout",
     "output_type": "stream",
     "text": [
      "Processing batch 1047/1554\n"
     ]
    },
    {
     "data": {
      "application/vnd.jupyter.widget-view+json": {
       "model_id": "5260d5af78d24297a06137e8a7b074cd",
       "version_major": 2,
       "version_minor": 0
      },
      "text/plain": [
       "Resizing images (rxrx3):   0%|          | 0/100 [00:00<?, ?it/s]"
      ]
     },
     "metadata": {},
     "output_type": "display_data"
    },
    {
     "name": "stdout",
     "output_type": "stream",
     "text": [
      "Processing batch 1048/1554\n"
     ]
    },
    {
     "data": {
      "application/vnd.jupyter.widget-view+json": {
       "model_id": "aedc4c6355514cb2985e2db567d28c97",
       "version_major": 2,
       "version_minor": 0
      },
      "text/plain": [
       "Resizing images (rxrx3):   0%|          | 0/100 [00:00<?, ?it/s]"
      ]
     },
     "metadata": {},
     "output_type": "display_data"
    },
    {
     "name": "stdout",
     "output_type": "stream",
     "text": [
      "Processing batch 1049/1554\n"
     ]
    },
    {
     "data": {
      "application/vnd.jupyter.widget-view+json": {
       "model_id": "13ee3aa806444bd6b9fd9733b54b4152",
       "version_major": 2,
       "version_minor": 0
      },
      "text/plain": [
       "Resizing images (rxrx3):   0%|          | 0/100 [00:00<?, ?it/s]"
      ]
     },
     "metadata": {},
     "output_type": "display_data"
    },
    {
     "name": "stdout",
     "output_type": "stream",
     "text": [
      "Processing batch 1050/1554\n"
     ]
    },
    {
     "data": {
      "application/vnd.jupyter.widget-view+json": {
       "model_id": "b089bbcd16904ba48073955ceac68969",
       "version_major": 2,
       "version_minor": 0
      },
      "text/plain": [
       "Resizing images (rxrx3):   0%|          | 0/100 [00:00<?, ?it/s]"
      ]
     },
     "metadata": {},
     "output_type": "display_data"
    },
    {
     "name": "stdout",
     "output_type": "stream",
     "text": [
      "Processing batch 1051/1554\n"
     ]
    },
    {
     "data": {
      "application/vnd.jupyter.widget-view+json": {
       "model_id": "0368b7a9d0da47129bb5883fe6fe4bc2",
       "version_major": 2,
       "version_minor": 0
      },
      "text/plain": [
       "Resizing images (rxrx3):   0%|          | 0/100 [00:00<?, ?it/s]"
      ]
     },
     "metadata": {},
     "output_type": "display_data"
    },
    {
     "name": "stdout",
     "output_type": "stream",
     "text": [
      "Processing batch 1052/1554\n"
     ]
    },
    {
     "data": {
      "application/vnd.jupyter.widget-view+json": {
       "model_id": "b2646a4186a04cccae52e365c8b27c37",
       "version_major": 2,
       "version_minor": 0
      },
      "text/plain": [
       "Resizing images (rxrx3):   0%|          | 0/100 [00:00<?, ?it/s]"
      ]
     },
     "metadata": {},
     "output_type": "display_data"
    },
    {
     "name": "stdout",
     "output_type": "stream",
     "text": [
      "Processing batch 1053/1554\n"
     ]
    },
    {
     "data": {
      "application/vnd.jupyter.widget-view+json": {
       "model_id": "1a1171b8333649ce9f9f208990eae003",
       "version_major": 2,
       "version_minor": 0
      },
      "text/plain": [
       "Resizing images (rxrx3):   0%|          | 0/100 [00:00<?, ?it/s]"
      ]
     },
     "metadata": {},
     "output_type": "display_data"
    },
    {
     "name": "stdout",
     "output_type": "stream",
     "text": [
      "Processing batch 1054/1554\n"
     ]
    },
    {
     "data": {
      "application/vnd.jupyter.widget-view+json": {
       "model_id": "7fb73485f8d747a38126deb1ecf4de71",
       "version_major": 2,
       "version_minor": 0
      },
      "text/plain": [
       "Resizing images (rxrx3):   0%|          | 0/100 [00:00<?, ?it/s]"
      ]
     },
     "metadata": {},
     "output_type": "display_data"
    },
    {
     "name": "stdout",
     "output_type": "stream",
     "text": [
      "Processing batch 1055/1554\n"
     ]
    },
    {
     "data": {
      "application/vnd.jupyter.widget-view+json": {
       "model_id": "532b74761335400bac9c8c003ea0c8fa",
       "version_major": 2,
       "version_minor": 0
      },
      "text/plain": [
       "Resizing images (rxrx3):   0%|          | 0/100 [00:00<?, ?it/s]"
      ]
     },
     "metadata": {},
     "output_type": "display_data"
    },
    {
     "name": "stdout",
     "output_type": "stream",
     "text": [
      "Processing batch 1056/1554\n"
     ]
    },
    {
     "data": {
      "application/vnd.jupyter.widget-view+json": {
       "model_id": "a52d177b391349e693566dfa3478aaf1",
       "version_major": 2,
       "version_minor": 0
      },
      "text/plain": [
       "Resizing images (rxrx3):   0%|          | 0/100 [00:00<?, ?it/s]"
      ]
     },
     "metadata": {},
     "output_type": "display_data"
    },
    {
     "name": "stdout",
     "output_type": "stream",
     "text": [
      "Processing batch 1057/1554\n"
     ]
    },
    {
     "data": {
      "application/vnd.jupyter.widget-view+json": {
       "model_id": "cb42035f90454a608208e06d3e5ed38c",
       "version_major": 2,
       "version_minor": 0
      },
      "text/plain": [
       "Resizing images (rxrx3):   0%|          | 0/100 [00:00<?, ?it/s]"
      ]
     },
     "metadata": {},
     "output_type": "display_data"
    },
    {
     "name": "stdout",
     "output_type": "stream",
     "text": [
      "Processing batch 1058/1554\n"
     ]
    },
    {
     "data": {
      "application/vnd.jupyter.widget-view+json": {
       "model_id": "a2757cfe9aee4a08921a2a30c749bd4c",
       "version_major": 2,
       "version_minor": 0
      },
      "text/plain": [
       "Resizing images (rxrx3):   0%|          | 0/100 [00:00<?, ?it/s]"
      ]
     },
     "metadata": {},
     "output_type": "display_data"
    },
    {
     "name": "stdout",
     "output_type": "stream",
     "text": [
      "Processing batch 1059/1554\n"
     ]
    },
    {
     "data": {
      "application/vnd.jupyter.widget-view+json": {
       "model_id": "b98c38f5fe8f4c0994e1a5cc283ec6bc",
       "version_major": 2,
       "version_minor": 0
      },
      "text/plain": [
       "Resizing images (rxrx3):   0%|          | 0/100 [00:00<?, ?it/s]"
      ]
     },
     "metadata": {},
     "output_type": "display_data"
    },
    {
     "name": "stdout",
     "output_type": "stream",
     "text": [
      "Processing batch 1060/1554\n"
     ]
    },
    {
     "data": {
      "application/vnd.jupyter.widget-view+json": {
       "model_id": "ed5ec36507ef40c991550f6bbd0eb3df",
       "version_major": 2,
       "version_minor": 0
      },
      "text/plain": [
       "Resizing images (rxrx3):   0%|          | 0/100 [00:00<?, ?it/s]"
      ]
     },
     "metadata": {},
     "output_type": "display_data"
    },
    {
     "name": "stdout",
     "output_type": "stream",
     "text": [
      "Processing batch 1061/1554\n"
     ]
    },
    {
     "data": {
      "application/vnd.jupyter.widget-view+json": {
       "model_id": "57644ccee25c4928b79e6b3b7be4ab53",
       "version_major": 2,
       "version_minor": 0
      },
      "text/plain": [
       "Resizing images (rxrx3):   0%|          | 0/100 [00:00<?, ?it/s]"
      ]
     },
     "metadata": {},
     "output_type": "display_data"
    },
    {
     "name": "stdout",
     "output_type": "stream",
     "text": [
      "Processing batch 1062/1554\n"
     ]
    },
    {
     "data": {
      "application/vnd.jupyter.widget-view+json": {
       "model_id": "f221c5f759894d8a9d963a523d5e4d2f",
       "version_major": 2,
       "version_minor": 0
      },
      "text/plain": [
       "Resizing images (rxrx3):   0%|          | 0/100 [00:00<?, ?it/s]"
      ]
     },
     "metadata": {},
     "output_type": "display_data"
    },
    {
     "name": "stdout",
     "output_type": "stream",
     "text": [
      "Processing batch 1063/1554\n"
     ]
    },
    {
     "data": {
      "application/vnd.jupyter.widget-view+json": {
       "model_id": "d701587348e9449f9a70811878385b39",
       "version_major": 2,
       "version_minor": 0
      },
      "text/plain": [
       "Resizing images (rxrx3):   0%|          | 0/100 [00:00<?, ?it/s]"
      ]
     },
     "metadata": {},
     "output_type": "display_data"
    },
    {
     "name": "stdout",
     "output_type": "stream",
     "text": [
      "Processing batch 1064/1554\n"
     ]
    },
    {
     "data": {
      "application/vnd.jupyter.widget-view+json": {
       "model_id": "21a2395a1e594e6bb4aa223843a429de",
       "version_major": 2,
       "version_minor": 0
      },
      "text/plain": [
       "Resizing images (rxrx3):   0%|          | 0/100 [00:00<?, ?it/s]"
      ]
     },
     "metadata": {},
     "output_type": "display_data"
    },
    {
     "name": "stdout",
     "output_type": "stream",
     "text": [
      "Processing batch 1065/1554\n"
     ]
    },
    {
     "data": {
      "application/vnd.jupyter.widget-view+json": {
       "model_id": "5643677350914c24a9900ee1d838df61",
       "version_major": 2,
       "version_minor": 0
      },
      "text/plain": [
       "Resizing images (rxrx3):   0%|          | 0/100 [00:00<?, ?it/s]"
      ]
     },
     "metadata": {},
     "output_type": "display_data"
    },
    {
     "name": "stdout",
     "output_type": "stream",
     "text": [
      "Processing batch 1066/1554\n"
     ]
    },
    {
     "data": {
      "application/vnd.jupyter.widget-view+json": {
       "model_id": "0ec8140c52814dba81348b7c793ae5de",
       "version_major": 2,
       "version_minor": 0
      },
      "text/plain": [
       "Resizing images (rxrx3):   0%|          | 0/100 [00:00<?, ?it/s]"
      ]
     },
     "metadata": {},
     "output_type": "display_data"
    },
    {
     "name": "stdout",
     "output_type": "stream",
     "text": [
      "Processing batch 1067/1554\n"
     ]
    },
    {
     "data": {
      "application/vnd.jupyter.widget-view+json": {
       "model_id": "cffb8294ced04cb79f46a284d1d32d6e",
       "version_major": 2,
       "version_minor": 0
      },
      "text/plain": [
       "Resizing images (rxrx3):   0%|          | 0/100 [00:00<?, ?it/s]"
      ]
     },
     "metadata": {},
     "output_type": "display_data"
    },
    {
     "name": "stdout",
     "output_type": "stream",
     "text": [
      "Processing batch 1068/1554\n"
     ]
    },
    {
     "data": {
      "application/vnd.jupyter.widget-view+json": {
       "model_id": "c8e24c98684c48b4817fee0c1bcca629",
       "version_major": 2,
       "version_minor": 0
      },
      "text/plain": [
       "Resizing images (rxrx3):   0%|          | 0/100 [00:00<?, ?it/s]"
      ]
     },
     "metadata": {},
     "output_type": "display_data"
    },
    {
     "name": "stdout",
     "output_type": "stream",
     "text": [
      "Processing batch 1069/1554\n"
     ]
    },
    {
     "data": {
      "application/vnd.jupyter.widget-view+json": {
       "model_id": "0feb7a713d704132867fe884603d9464",
       "version_major": 2,
       "version_minor": 0
      },
      "text/plain": [
       "Resizing images (rxrx3):   0%|          | 0/100 [00:00<?, ?it/s]"
      ]
     },
     "metadata": {},
     "output_type": "display_data"
    },
    {
     "name": "stdout",
     "output_type": "stream",
     "text": [
      "Processing batch 1070/1554\n"
     ]
    },
    {
     "data": {
      "application/vnd.jupyter.widget-view+json": {
       "model_id": "e2f555b3a1304d108e55264c4b224872",
       "version_major": 2,
       "version_minor": 0
      },
      "text/plain": [
       "Resizing images (rxrx3):   0%|          | 0/100 [00:00<?, ?it/s]"
      ]
     },
     "metadata": {},
     "output_type": "display_data"
    },
    {
     "name": "stdout",
     "output_type": "stream",
     "text": [
      "Processing batch 1071/1554\n"
     ]
    },
    {
     "data": {
      "application/vnd.jupyter.widget-view+json": {
       "model_id": "83525c76d15a47be8a3876ec82f35f3c",
       "version_major": 2,
       "version_minor": 0
      },
      "text/plain": [
       "Resizing images (rxrx3):   0%|          | 0/100 [00:00<?, ?it/s]"
      ]
     },
     "metadata": {},
     "output_type": "display_data"
    },
    {
     "name": "stdout",
     "output_type": "stream",
     "text": [
      "Processing batch 1072/1554\n"
     ]
    },
    {
     "data": {
      "application/vnd.jupyter.widget-view+json": {
       "model_id": "6f154bb129f34f61a74e247a3a1e771d",
       "version_major": 2,
       "version_minor": 0
      },
      "text/plain": [
       "Resizing images (rxrx3):   0%|          | 0/100 [00:00<?, ?it/s]"
      ]
     },
     "metadata": {},
     "output_type": "display_data"
    },
    {
     "name": "stdout",
     "output_type": "stream",
     "text": [
      "Processing batch 1073/1554\n"
     ]
    },
    {
     "data": {
      "application/vnd.jupyter.widget-view+json": {
       "model_id": "b4f0fa99b2bd4fa9b941cb22dbf27805",
       "version_major": 2,
       "version_minor": 0
      },
      "text/plain": [
       "Resizing images (rxrx3):   0%|          | 0/100 [00:00<?, ?it/s]"
      ]
     },
     "metadata": {},
     "output_type": "display_data"
    },
    {
     "name": "stdout",
     "output_type": "stream",
     "text": [
      "Processing batch 1074/1554\n"
     ]
    },
    {
     "data": {
      "application/vnd.jupyter.widget-view+json": {
       "model_id": "cb83daa2af27478988b97ba5057f775d",
       "version_major": 2,
       "version_minor": 0
      },
      "text/plain": [
       "Resizing images (rxrx3):   0%|          | 0/100 [00:00<?, ?it/s]"
      ]
     },
     "metadata": {},
     "output_type": "display_data"
    },
    {
     "name": "stdout",
     "output_type": "stream",
     "text": [
      "Processing batch 1075/1554\n"
     ]
    },
    {
     "data": {
      "application/vnd.jupyter.widget-view+json": {
       "model_id": "b7a6bad348be4524aed6701c211cb5cc",
       "version_major": 2,
       "version_minor": 0
      },
      "text/plain": [
       "Resizing images (rxrx3):   0%|          | 0/100 [00:00<?, ?it/s]"
      ]
     },
     "metadata": {},
     "output_type": "display_data"
    },
    {
     "name": "stdout",
     "output_type": "stream",
     "text": [
      "Processing batch 1076/1554\n"
     ]
    },
    {
     "data": {
      "application/vnd.jupyter.widget-view+json": {
       "model_id": "a085ab4b5eb644d8b0d2e4bd3664e455",
       "version_major": 2,
       "version_minor": 0
      },
      "text/plain": [
       "Resizing images (rxrx3):   0%|          | 0/100 [00:00<?, ?it/s]"
      ]
     },
     "metadata": {},
     "output_type": "display_data"
    },
    {
     "name": "stdout",
     "output_type": "stream",
     "text": [
      "Processing batch 1077/1554\n"
     ]
    },
    {
     "data": {
      "application/vnd.jupyter.widget-view+json": {
       "model_id": "66b15ba516344f9293147859b5a7f85f",
       "version_major": 2,
       "version_minor": 0
      },
      "text/plain": [
       "Resizing images (rxrx3):   0%|          | 0/100 [00:00<?, ?it/s]"
      ]
     },
     "metadata": {},
     "output_type": "display_data"
    },
    {
     "name": "stdout",
     "output_type": "stream",
     "text": [
      "Processing batch 1078/1554\n"
     ]
    },
    {
     "data": {
      "application/vnd.jupyter.widget-view+json": {
       "model_id": "5e14342710864c8f986c1d20d2f4e921",
       "version_major": 2,
       "version_minor": 0
      },
      "text/plain": [
       "Resizing images (rxrx3):   0%|          | 0/100 [00:00<?, ?it/s]"
      ]
     },
     "metadata": {},
     "output_type": "display_data"
    },
    {
     "name": "stdout",
     "output_type": "stream",
     "text": [
      "Processing batch 1079/1554\n"
     ]
    },
    {
     "data": {
      "application/vnd.jupyter.widget-view+json": {
       "model_id": "4b0276404b9d4573912a8a9ecb239790",
       "version_major": 2,
       "version_minor": 0
      },
      "text/plain": [
       "Resizing images (rxrx3):   0%|          | 0/100 [00:00<?, ?it/s]"
      ]
     },
     "metadata": {},
     "output_type": "display_data"
    },
    {
     "name": "stdout",
     "output_type": "stream",
     "text": [
      "Processing batch 1080/1554\n"
     ]
    },
    {
     "data": {
      "application/vnd.jupyter.widget-view+json": {
       "model_id": "eab53ac7d2a84e6eba8a1c5e7ec0dc5c",
       "version_major": 2,
       "version_minor": 0
      },
      "text/plain": [
       "Resizing images (rxrx3):   0%|          | 0/100 [00:00<?, ?it/s]"
      ]
     },
     "metadata": {},
     "output_type": "display_data"
    },
    {
     "name": "stdout",
     "output_type": "stream",
     "text": [
      "Processing batch 1081/1554\n"
     ]
    },
    {
     "data": {
      "application/vnd.jupyter.widget-view+json": {
       "model_id": "4cb2e98dbaa74e15b114243572c549fc",
       "version_major": 2,
       "version_minor": 0
      },
      "text/plain": [
       "Resizing images (rxrx3):   0%|          | 0/100 [00:00<?, ?it/s]"
      ]
     },
     "metadata": {},
     "output_type": "display_data"
    },
    {
     "name": "stdout",
     "output_type": "stream",
     "text": [
      "Processing batch 1082/1554\n"
     ]
    },
    {
     "data": {
      "application/vnd.jupyter.widget-view+json": {
       "model_id": "1fa089f44e1f478b90db6cc968a1abc0",
       "version_major": 2,
       "version_minor": 0
      },
      "text/plain": [
       "Resizing images (rxrx3):   0%|          | 0/100 [00:00<?, ?it/s]"
      ]
     },
     "metadata": {},
     "output_type": "display_data"
    },
    {
     "name": "stdout",
     "output_type": "stream",
     "text": [
      "Processing batch 1083/1554\n"
     ]
    },
    {
     "data": {
      "application/vnd.jupyter.widget-view+json": {
       "model_id": "c6e97b63c6ef48ce985428b0e33e260f",
       "version_major": 2,
       "version_minor": 0
      },
      "text/plain": [
       "Resizing images (rxrx3):   0%|          | 0/100 [00:00<?, ?it/s]"
      ]
     },
     "metadata": {},
     "output_type": "display_data"
    },
    {
     "name": "stdout",
     "output_type": "stream",
     "text": [
      "Processing batch 1084/1554\n"
     ]
    },
    {
     "data": {
      "application/vnd.jupyter.widget-view+json": {
       "model_id": "b8c3ef26a5b949ada1f60f36b2527503",
       "version_major": 2,
       "version_minor": 0
      },
      "text/plain": [
       "Resizing images (rxrx3):   0%|          | 0/100 [00:00<?, ?it/s]"
      ]
     },
     "metadata": {},
     "output_type": "display_data"
    },
    {
     "name": "stdout",
     "output_type": "stream",
     "text": [
      "Processing batch 1085/1554\n"
     ]
    },
    {
     "data": {
      "application/vnd.jupyter.widget-view+json": {
       "model_id": "aca94a708a9b48458522677bf365ba01",
       "version_major": 2,
       "version_minor": 0
      },
      "text/plain": [
       "Resizing images (rxrx3):   0%|          | 0/100 [00:00<?, ?it/s]"
      ]
     },
     "metadata": {},
     "output_type": "display_data"
    },
    {
     "name": "stdout",
     "output_type": "stream",
     "text": [
      "Processing batch 1086/1554\n"
     ]
    },
    {
     "data": {
      "application/vnd.jupyter.widget-view+json": {
       "model_id": "a8e5fd57e8c94d2faa2a90237200395e",
       "version_major": 2,
       "version_minor": 0
      },
      "text/plain": [
       "Resizing images (rxrx3):   0%|          | 0/100 [00:00<?, ?it/s]"
      ]
     },
     "metadata": {},
     "output_type": "display_data"
    },
    {
     "name": "stdout",
     "output_type": "stream",
     "text": [
      "Processing batch 1087/1554\n"
     ]
    },
    {
     "data": {
      "application/vnd.jupyter.widget-view+json": {
       "model_id": "0947935a46ff49d3a7fff113ef9cf46f",
       "version_major": 2,
       "version_minor": 0
      },
      "text/plain": [
       "Resizing images (rxrx3):   0%|          | 0/100 [00:00<?, ?it/s]"
      ]
     },
     "metadata": {},
     "output_type": "display_data"
    },
    {
     "name": "stdout",
     "output_type": "stream",
     "text": [
      "Processing batch 1088/1554\n"
     ]
    },
    {
     "data": {
      "application/vnd.jupyter.widget-view+json": {
       "model_id": "b1afc34c7ca54035a79c19bd1cbc8790",
       "version_major": 2,
       "version_minor": 0
      },
      "text/plain": [
       "Resizing images (rxrx3):   0%|          | 0/100 [00:00<?, ?it/s]"
      ]
     },
     "metadata": {},
     "output_type": "display_data"
    },
    {
     "name": "stdout",
     "output_type": "stream",
     "text": [
      "Processing batch 1089/1554\n"
     ]
    },
    {
     "data": {
      "application/vnd.jupyter.widget-view+json": {
       "model_id": "f06f685cffe14d9cab352874094b51b5",
       "version_major": 2,
       "version_minor": 0
      },
      "text/plain": [
       "Resizing images (rxrx3):   0%|          | 0/100 [00:00<?, ?it/s]"
      ]
     },
     "metadata": {},
     "output_type": "display_data"
    },
    {
     "name": "stdout",
     "output_type": "stream",
     "text": [
      "Processing batch 1090/1554\n"
     ]
    },
    {
     "data": {
      "application/vnd.jupyter.widget-view+json": {
       "model_id": "4de73ab1a6914cdcafa9fb46384dd64f",
       "version_major": 2,
       "version_minor": 0
      },
      "text/plain": [
       "Resizing images (rxrx3):   0%|          | 0/100 [00:00<?, ?it/s]"
      ]
     },
     "metadata": {},
     "output_type": "display_data"
    },
    {
     "name": "stdout",
     "output_type": "stream",
     "text": [
      "Processing batch 1091/1554\n"
     ]
    },
    {
     "data": {
      "application/vnd.jupyter.widget-view+json": {
       "model_id": "cf91d48f82964fbf9daad37938f93742",
       "version_major": 2,
       "version_minor": 0
      },
      "text/plain": [
       "Resizing images (rxrx3):   0%|          | 0/100 [00:00<?, ?it/s]"
      ]
     },
     "metadata": {},
     "output_type": "display_data"
    },
    {
     "name": "stdout",
     "output_type": "stream",
     "text": [
      "Processing batch 1092/1554\n"
     ]
    },
    {
     "data": {
      "application/vnd.jupyter.widget-view+json": {
       "model_id": "6e5ac1f37e0f4cc4a91efbb3ec271ec3",
       "version_major": 2,
       "version_minor": 0
      },
      "text/plain": [
       "Resizing images (rxrx3):   0%|          | 0/100 [00:00<?, ?it/s]"
      ]
     },
     "metadata": {},
     "output_type": "display_data"
    },
    {
     "name": "stdout",
     "output_type": "stream",
     "text": [
      "Processing batch 1093/1554\n"
     ]
    },
    {
     "data": {
      "application/vnd.jupyter.widget-view+json": {
       "model_id": "45d56e706e6f477ebb54db5da54613ba",
       "version_major": 2,
       "version_minor": 0
      },
      "text/plain": [
       "Resizing images (rxrx3):   0%|          | 0/100 [00:00<?, ?it/s]"
      ]
     },
     "metadata": {},
     "output_type": "display_data"
    },
    {
     "name": "stdout",
     "output_type": "stream",
     "text": [
      "Processing batch 1094/1554\n"
     ]
    },
    {
     "data": {
      "application/vnd.jupyter.widget-view+json": {
       "model_id": "07467384f7794c36a4b3e1095784b2a5",
       "version_major": 2,
       "version_minor": 0
      },
      "text/plain": [
       "Resizing images (rxrx3):   0%|          | 0/100 [00:00<?, ?it/s]"
      ]
     },
     "metadata": {},
     "output_type": "display_data"
    },
    {
     "name": "stdout",
     "output_type": "stream",
     "text": [
      "Processing batch 1095/1554\n"
     ]
    },
    {
     "data": {
      "application/vnd.jupyter.widget-view+json": {
       "model_id": "eda708ffb4ab4fda90ce43d09dcc3d42",
       "version_major": 2,
       "version_minor": 0
      },
      "text/plain": [
       "Resizing images (rxrx3):   0%|          | 0/100 [00:00<?, ?it/s]"
      ]
     },
     "metadata": {},
     "output_type": "display_data"
    },
    {
     "name": "stdout",
     "output_type": "stream",
     "text": [
      "Processing batch 1096/1554\n"
     ]
    },
    {
     "data": {
      "application/vnd.jupyter.widget-view+json": {
       "model_id": "321aea529ce44d67b44d2b5d6dfaf702",
       "version_major": 2,
       "version_minor": 0
      },
      "text/plain": [
       "Resizing images (rxrx3):   0%|          | 0/100 [00:00<?, ?it/s]"
      ]
     },
     "metadata": {},
     "output_type": "display_data"
    },
    {
     "name": "stdout",
     "output_type": "stream",
     "text": [
      "Processing batch 1097/1554\n"
     ]
    },
    {
     "data": {
      "application/vnd.jupyter.widget-view+json": {
       "model_id": "59346dc4962a4741b696963b641046dd",
       "version_major": 2,
       "version_minor": 0
      },
      "text/plain": [
       "Resizing images (rxrx3):   0%|          | 0/100 [00:00<?, ?it/s]"
      ]
     },
     "metadata": {},
     "output_type": "display_data"
    },
    {
     "name": "stdout",
     "output_type": "stream",
     "text": [
      "Processing batch 1098/1554\n"
     ]
    },
    {
     "data": {
      "application/vnd.jupyter.widget-view+json": {
       "model_id": "f45706ffc9ee435fa3296aeb6c29dfdc",
       "version_major": 2,
       "version_minor": 0
      },
      "text/plain": [
       "Resizing images (rxrx3):   0%|          | 0/100 [00:00<?, ?it/s]"
      ]
     },
     "metadata": {},
     "output_type": "display_data"
    },
    {
     "name": "stdout",
     "output_type": "stream",
     "text": [
      "Processing batch 1099/1554\n"
     ]
    },
    {
     "data": {
      "application/vnd.jupyter.widget-view+json": {
       "model_id": "efac88ee330849d3b7c9877e9d72b8fb",
       "version_major": 2,
       "version_minor": 0
      },
      "text/plain": [
       "Resizing images (rxrx3):   0%|          | 0/100 [00:00<?, ?it/s]"
      ]
     },
     "metadata": {},
     "output_type": "display_data"
    },
    {
     "name": "stdout",
     "output_type": "stream",
     "text": [
      "Processing batch 1100/1554\n"
     ]
    },
    {
     "data": {
      "application/vnd.jupyter.widget-view+json": {
       "model_id": "771dff8a98f34a43a1e40c75087b6c0a",
       "version_major": 2,
       "version_minor": 0
      },
      "text/plain": [
       "Resizing images (rxrx3):   0%|          | 0/100 [00:00<?, ?it/s]"
      ]
     },
     "metadata": {},
     "output_type": "display_data"
    },
    {
     "name": "stdout",
     "output_type": "stream",
     "text": [
      "Processing batch 1101/1554\n"
     ]
    },
    {
     "data": {
      "application/vnd.jupyter.widget-view+json": {
       "model_id": "dcc0469a124440529ab0839afc5549e9",
       "version_major": 2,
       "version_minor": 0
      },
      "text/plain": [
       "Resizing images (rxrx3):   0%|          | 0/100 [00:00<?, ?it/s]"
      ]
     },
     "metadata": {},
     "output_type": "display_data"
    },
    {
     "name": "stdout",
     "output_type": "stream",
     "text": [
      "Processing batch 1102/1554\n"
     ]
    },
    {
     "data": {
      "application/vnd.jupyter.widget-view+json": {
       "model_id": "113a7eab023d4fc98b883c3393fe78a5",
       "version_major": 2,
       "version_minor": 0
      },
      "text/plain": [
       "Resizing images (rxrx3):   0%|          | 0/100 [00:00<?, ?it/s]"
      ]
     },
     "metadata": {},
     "output_type": "display_data"
    },
    {
     "name": "stdout",
     "output_type": "stream",
     "text": [
      "Processing batch 1103/1554\n"
     ]
    },
    {
     "data": {
      "application/vnd.jupyter.widget-view+json": {
       "model_id": "0f8c1c5227ec4e8f875e9506ebf8ea66",
       "version_major": 2,
       "version_minor": 0
      },
      "text/plain": [
       "Resizing images (rxrx3):   0%|          | 0/100 [00:00<?, ?it/s]"
      ]
     },
     "metadata": {},
     "output_type": "display_data"
    },
    {
     "name": "stdout",
     "output_type": "stream",
     "text": [
      "Processing batch 1104/1554\n"
     ]
    },
    {
     "data": {
      "application/vnd.jupyter.widget-view+json": {
       "model_id": "d4b12326e53045c2a19f5b369352b156",
       "version_major": 2,
       "version_minor": 0
      },
      "text/plain": [
       "Resizing images (rxrx3):   0%|          | 0/100 [00:00<?, ?it/s]"
      ]
     },
     "metadata": {},
     "output_type": "display_data"
    },
    {
     "name": "stdout",
     "output_type": "stream",
     "text": [
      "Processing batch 1105/1554\n"
     ]
    },
    {
     "data": {
      "application/vnd.jupyter.widget-view+json": {
       "model_id": "8522195bead14c1da4c20104566b8832",
       "version_major": 2,
       "version_minor": 0
      },
      "text/plain": [
       "Resizing images (rxrx3):   0%|          | 0/100 [00:00<?, ?it/s]"
      ]
     },
     "metadata": {},
     "output_type": "display_data"
    },
    {
     "name": "stdout",
     "output_type": "stream",
     "text": [
      "Processing batch 1106/1554\n"
     ]
    },
    {
     "data": {
      "application/vnd.jupyter.widget-view+json": {
       "model_id": "6a90230667b84587acd8506ecf16bdad",
       "version_major": 2,
       "version_minor": 0
      },
      "text/plain": [
       "Resizing images (rxrx3):   0%|          | 0/100 [00:00<?, ?it/s]"
      ]
     },
     "metadata": {},
     "output_type": "display_data"
    },
    {
     "name": "stdout",
     "output_type": "stream",
     "text": [
      "Processing batch 1107/1554\n"
     ]
    },
    {
     "data": {
      "application/vnd.jupyter.widget-view+json": {
       "model_id": "23ccfb41ca7a4344b928dd3f7d5efcb2",
       "version_major": 2,
       "version_minor": 0
      },
      "text/plain": [
       "Resizing images (rxrx3):   0%|          | 0/100 [00:00<?, ?it/s]"
      ]
     },
     "metadata": {},
     "output_type": "display_data"
    },
    {
     "name": "stdout",
     "output_type": "stream",
     "text": [
      "Processing batch 1108/1554\n"
     ]
    },
    {
     "data": {
      "application/vnd.jupyter.widget-view+json": {
       "model_id": "123d4de5519a4275bcf0e61a5d75ec4d",
       "version_major": 2,
       "version_minor": 0
      },
      "text/plain": [
       "Resizing images (rxrx3):   0%|          | 0/100 [00:00<?, ?it/s]"
      ]
     },
     "metadata": {},
     "output_type": "display_data"
    },
    {
     "name": "stdout",
     "output_type": "stream",
     "text": [
      "Processing batch 1109/1554\n"
     ]
    },
    {
     "data": {
      "application/vnd.jupyter.widget-view+json": {
       "model_id": "e231c118d2b645ed90cbbf076df36173",
       "version_major": 2,
       "version_minor": 0
      },
      "text/plain": [
       "Resizing images (rxrx3):   0%|          | 0/100 [00:00<?, ?it/s]"
      ]
     },
     "metadata": {},
     "output_type": "display_data"
    },
    {
     "name": "stdout",
     "output_type": "stream",
     "text": [
      "Processing batch 1110/1554\n"
     ]
    },
    {
     "data": {
      "application/vnd.jupyter.widget-view+json": {
       "model_id": "a76f389b905247c49f1308a21a3fe93a",
       "version_major": 2,
       "version_minor": 0
      },
      "text/plain": [
       "Resizing images (rxrx3):   0%|          | 0/100 [00:00<?, ?it/s]"
      ]
     },
     "metadata": {},
     "output_type": "display_data"
    },
    {
     "name": "stdout",
     "output_type": "stream",
     "text": [
      "Processing batch 1111/1554\n"
     ]
    },
    {
     "data": {
      "application/vnd.jupyter.widget-view+json": {
       "model_id": "fa202abf1f514915a448a1ca956f41cd",
       "version_major": 2,
       "version_minor": 0
      },
      "text/plain": [
       "Resizing images (rxrx3):   0%|          | 0/100 [00:00<?, ?it/s]"
      ]
     },
     "metadata": {},
     "output_type": "display_data"
    },
    {
     "name": "stdout",
     "output_type": "stream",
     "text": [
      "Processing batch 1112/1554\n"
     ]
    },
    {
     "data": {
      "application/vnd.jupyter.widget-view+json": {
       "model_id": "8dcc336fe05849e8820aa2e79a60ebed",
       "version_major": 2,
       "version_minor": 0
      },
      "text/plain": [
       "Resizing images (rxrx3):   0%|          | 0/100 [00:00<?, ?it/s]"
      ]
     },
     "metadata": {},
     "output_type": "display_data"
    },
    {
     "name": "stdout",
     "output_type": "stream",
     "text": [
      "Processing batch 1113/1554\n"
     ]
    },
    {
     "data": {
      "application/vnd.jupyter.widget-view+json": {
       "model_id": "456b22864f4e4fc88c7eb30e47bb334d",
       "version_major": 2,
       "version_minor": 0
      },
      "text/plain": [
       "Resizing images (rxrx3):   0%|          | 0/100 [00:00<?, ?it/s]"
      ]
     },
     "metadata": {},
     "output_type": "display_data"
    },
    {
     "name": "stdout",
     "output_type": "stream",
     "text": [
      "Processing batch 1114/1554\n"
     ]
    },
    {
     "data": {
      "application/vnd.jupyter.widget-view+json": {
       "model_id": "5aa6e5fa98f5467ebae2a545edf4ab88",
       "version_major": 2,
       "version_minor": 0
      },
      "text/plain": [
       "Resizing images (rxrx3):   0%|          | 0/100 [00:00<?, ?it/s]"
      ]
     },
     "metadata": {},
     "output_type": "display_data"
    },
    {
     "name": "stdout",
     "output_type": "stream",
     "text": [
      "Processing batch 1115/1554\n"
     ]
    },
    {
     "data": {
      "application/vnd.jupyter.widget-view+json": {
       "model_id": "38ad99c39276498aaea644dad02293c1",
       "version_major": 2,
       "version_minor": 0
      },
      "text/plain": [
       "Resizing images (rxrx3):   0%|          | 0/100 [00:00<?, ?it/s]"
      ]
     },
     "metadata": {},
     "output_type": "display_data"
    },
    {
     "name": "stdout",
     "output_type": "stream",
     "text": [
      "Processing batch 1116/1554\n"
     ]
    },
    {
     "data": {
      "application/vnd.jupyter.widget-view+json": {
       "model_id": "929fa3556220467eac3411f3d15fc6ac",
       "version_major": 2,
       "version_minor": 0
      },
      "text/plain": [
       "Resizing images (rxrx3):   0%|          | 0/100 [00:00<?, ?it/s]"
      ]
     },
     "metadata": {},
     "output_type": "display_data"
    },
    {
     "name": "stdout",
     "output_type": "stream",
     "text": [
      "Processing batch 1117/1554\n"
     ]
    },
    {
     "data": {
      "application/vnd.jupyter.widget-view+json": {
       "model_id": "5f69ec062020432a8735800f19d025f6",
       "version_major": 2,
       "version_minor": 0
      },
      "text/plain": [
       "Resizing images (rxrx3):   0%|          | 0/100 [00:00<?, ?it/s]"
      ]
     },
     "metadata": {},
     "output_type": "display_data"
    },
    {
     "name": "stdout",
     "output_type": "stream",
     "text": [
      "Processing batch 1118/1554\n"
     ]
    },
    {
     "data": {
      "application/vnd.jupyter.widget-view+json": {
       "model_id": "98bf497570c241758d0222212a30b0ce",
       "version_major": 2,
       "version_minor": 0
      },
      "text/plain": [
       "Resizing images (rxrx3):   0%|          | 0/100 [00:00<?, ?it/s]"
      ]
     },
     "metadata": {},
     "output_type": "display_data"
    },
    {
     "name": "stdout",
     "output_type": "stream",
     "text": [
      "Processing batch 1119/1554\n"
     ]
    },
    {
     "data": {
      "application/vnd.jupyter.widget-view+json": {
       "model_id": "4a8fad6390c54a5a9b3123ff3e406a13",
       "version_major": 2,
       "version_minor": 0
      },
      "text/plain": [
       "Resizing images (rxrx3):   0%|          | 0/100 [00:00<?, ?it/s]"
      ]
     },
     "metadata": {},
     "output_type": "display_data"
    },
    {
     "name": "stdout",
     "output_type": "stream",
     "text": [
      "Processing batch 1120/1554\n"
     ]
    },
    {
     "data": {
      "application/vnd.jupyter.widget-view+json": {
       "model_id": "37d2c8eb9b3e431a942ff151992fd35e",
       "version_major": 2,
       "version_minor": 0
      },
      "text/plain": [
       "Resizing images (rxrx3):   0%|          | 0/100 [00:00<?, ?it/s]"
      ]
     },
     "metadata": {},
     "output_type": "display_data"
    },
    {
     "name": "stdout",
     "output_type": "stream",
     "text": [
      "Processing batch 1121/1554\n"
     ]
    },
    {
     "data": {
      "application/vnd.jupyter.widget-view+json": {
       "model_id": "a5f414a4e63c4531b9d23347a14ed87e",
       "version_major": 2,
       "version_minor": 0
      },
      "text/plain": [
       "Resizing images (rxrx3):   0%|          | 0/100 [00:00<?, ?it/s]"
      ]
     },
     "metadata": {},
     "output_type": "display_data"
    },
    {
     "name": "stdout",
     "output_type": "stream",
     "text": [
      "Processing batch 1122/1554\n"
     ]
    },
    {
     "data": {
      "application/vnd.jupyter.widget-view+json": {
       "model_id": "07173152ca1740f6b893ed970da9a184",
       "version_major": 2,
       "version_minor": 0
      },
      "text/plain": [
       "Resizing images (rxrx3):   0%|          | 0/100 [00:00<?, ?it/s]"
      ]
     },
     "metadata": {},
     "output_type": "display_data"
    },
    {
     "name": "stdout",
     "output_type": "stream",
     "text": [
      "Processing batch 1123/1554\n"
     ]
    },
    {
     "data": {
      "application/vnd.jupyter.widget-view+json": {
       "model_id": "5fd470a0fd9744908917bdc874c8a518",
       "version_major": 2,
       "version_minor": 0
      },
      "text/plain": [
       "Resizing images (rxrx3):   0%|          | 0/100 [00:00<?, ?it/s]"
      ]
     },
     "metadata": {},
     "output_type": "display_data"
    },
    {
     "name": "stdout",
     "output_type": "stream",
     "text": [
      "Processing batch 1124/1554\n"
     ]
    },
    {
     "data": {
      "application/vnd.jupyter.widget-view+json": {
       "model_id": "c2b3972094f54daeb9e6e1872f431974",
       "version_major": 2,
       "version_minor": 0
      },
      "text/plain": [
       "Resizing images (rxrx3):   0%|          | 0/100 [00:00<?, ?it/s]"
      ]
     },
     "metadata": {},
     "output_type": "display_data"
    },
    {
     "name": "stdout",
     "output_type": "stream",
     "text": [
      "Processing batch 1125/1554\n"
     ]
    },
    {
     "data": {
      "application/vnd.jupyter.widget-view+json": {
       "model_id": "2ba3e9f05c4f47baa06fa80fe36b804c",
       "version_major": 2,
       "version_minor": 0
      },
      "text/plain": [
       "Resizing images (rxrx3):   0%|          | 0/100 [00:00<?, ?it/s]"
      ]
     },
     "metadata": {},
     "output_type": "display_data"
    },
    {
     "name": "stdout",
     "output_type": "stream",
     "text": [
      "Processing batch 1126/1554\n"
     ]
    },
    {
     "data": {
      "application/vnd.jupyter.widget-view+json": {
       "model_id": "cab77663520c4487a2363dd5608f149d",
       "version_major": 2,
       "version_minor": 0
      },
      "text/plain": [
       "Resizing images (rxrx3):   0%|          | 0/100 [00:00<?, ?it/s]"
      ]
     },
     "metadata": {},
     "output_type": "display_data"
    },
    {
     "name": "stdout",
     "output_type": "stream",
     "text": [
      "Processing batch 1127/1554\n"
     ]
    },
    {
     "data": {
      "application/vnd.jupyter.widget-view+json": {
       "model_id": "e96a44b08f564294a9c3eef594f6e033",
       "version_major": 2,
       "version_minor": 0
      },
      "text/plain": [
       "Resizing images (rxrx3):   0%|          | 0/100 [00:00<?, ?it/s]"
      ]
     },
     "metadata": {},
     "output_type": "display_data"
    },
    {
     "name": "stdout",
     "output_type": "stream",
     "text": [
      "Processing batch 1128/1554\n"
     ]
    },
    {
     "data": {
      "application/vnd.jupyter.widget-view+json": {
       "model_id": "3bbb6b36c9f2415d9b8cbbedffd60830",
       "version_major": 2,
       "version_minor": 0
      },
      "text/plain": [
       "Resizing images (rxrx3):   0%|          | 0/100 [00:00<?, ?it/s]"
      ]
     },
     "metadata": {},
     "output_type": "display_data"
    },
    {
     "name": "stdout",
     "output_type": "stream",
     "text": [
      "Processing batch 1129/1554\n"
     ]
    },
    {
     "data": {
      "application/vnd.jupyter.widget-view+json": {
       "model_id": "016fd3c370bb4a13a7d36a4fc67b307e",
       "version_major": 2,
       "version_minor": 0
      },
      "text/plain": [
       "Resizing images (rxrx3):   0%|          | 0/100 [00:00<?, ?it/s]"
      ]
     },
     "metadata": {},
     "output_type": "display_data"
    },
    {
     "name": "stdout",
     "output_type": "stream",
     "text": [
      "Processing batch 1130/1554\n"
     ]
    },
    {
     "data": {
      "application/vnd.jupyter.widget-view+json": {
       "model_id": "69dbc7a943ee462c90fd0e188428a7bb",
       "version_major": 2,
       "version_minor": 0
      },
      "text/plain": [
       "Resizing images (rxrx3):   0%|          | 0/100 [00:00<?, ?it/s]"
      ]
     },
     "metadata": {},
     "output_type": "display_data"
    },
    {
     "name": "stdout",
     "output_type": "stream",
     "text": [
      "Processing batch 1131/1554\n"
     ]
    },
    {
     "data": {
      "application/vnd.jupyter.widget-view+json": {
       "model_id": "7f37b7d1157c4fa1b1eb47f41ced3e9d",
       "version_major": 2,
       "version_minor": 0
      },
      "text/plain": [
       "Resizing images (rxrx3):   0%|          | 0/100 [00:00<?, ?it/s]"
      ]
     },
     "metadata": {},
     "output_type": "display_data"
    },
    {
     "name": "stdout",
     "output_type": "stream",
     "text": [
      "Processing batch 1132/1554\n"
     ]
    },
    {
     "data": {
      "application/vnd.jupyter.widget-view+json": {
       "model_id": "1295ca96ef994a6091abb7ca3ef28d4b",
       "version_major": 2,
       "version_minor": 0
      },
      "text/plain": [
       "Resizing images (rxrx3):   0%|          | 0/100 [00:00<?, ?it/s]"
      ]
     },
     "metadata": {},
     "output_type": "display_data"
    },
    {
     "name": "stdout",
     "output_type": "stream",
     "text": [
      "Processing batch 1133/1554\n"
     ]
    },
    {
     "data": {
      "application/vnd.jupyter.widget-view+json": {
       "model_id": "de8a2befd9914697aed4daeb4a6215ef",
       "version_major": 2,
       "version_minor": 0
      },
      "text/plain": [
       "Resizing images (rxrx3):   0%|          | 0/100 [00:00<?, ?it/s]"
      ]
     },
     "metadata": {},
     "output_type": "display_data"
    },
    {
     "name": "stdout",
     "output_type": "stream",
     "text": [
      "Processing batch 1134/1554\n"
     ]
    },
    {
     "data": {
      "application/vnd.jupyter.widget-view+json": {
       "model_id": "99b10d0f374c4e7a8362b42de97acdb0",
       "version_major": 2,
       "version_minor": 0
      },
      "text/plain": [
       "Resizing images (rxrx3):   0%|          | 0/100 [00:00<?, ?it/s]"
      ]
     },
     "metadata": {},
     "output_type": "display_data"
    },
    {
     "name": "stdout",
     "output_type": "stream",
     "text": [
      "Processing batch 1135/1554\n"
     ]
    },
    {
     "data": {
      "application/vnd.jupyter.widget-view+json": {
       "model_id": "79366c26abb44481aeedfee3c4de4378",
       "version_major": 2,
       "version_minor": 0
      },
      "text/plain": [
       "Resizing images (rxrx3):   0%|          | 0/100 [00:00<?, ?it/s]"
      ]
     },
     "metadata": {},
     "output_type": "display_data"
    },
    {
     "name": "stdout",
     "output_type": "stream",
     "text": [
      "Processing batch 1136/1554\n"
     ]
    },
    {
     "data": {
      "application/vnd.jupyter.widget-view+json": {
       "model_id": "dd98a9de105a4c16b8e0ab78e880a0e2",
       "version_major": 2,
       "version_minor": 0
      },
      "text/plain": [
       "Resizing images (rxrx3):   0%|          | 0/100 [00:00<?, ?it/s]"
      ]
     },
     "metadata": {},
     "output_type": "display_data"
    },
    {
     "name": "stdout",
     "output_type": "stream",
     "text": [
      "Processing batch 1137/1554\n"
     ]
    },
    {
     "data": {
      "application/vnd.jupyter.widget-view+json": {
       "model_id": "ca1a850c6ea049b686abdbbeaacaa382",
       "version_major": 2,
       "version_minor": 0
      },
      "text/plain": [
       "Resizing images (rxrx3):   0%|          | 0/100 [00:00<?, ?it/s]"
      ]
     },
     "metadata": {},
     "output_type": "display_data"
    },
    {
     "name": "stdout",
     "output_type": "stream",
     "text": [
      "Processing batch 1138/1554\n"
     ]
    },
    {
     "data": {
      "application/vnd.jupyter.widget-view+json": {
       "model_id": "5f44a88c688247c48648e2ca66c7a0a6",
       "version_major": 2,
       "version_minor": 0
      },
      "text/plain": [
       "Resizing images (rxrx3):   0%|          | 0/100 [00:00<?, ?it/s]"
      ]
     },
     "metadata": {},
     "output_type": "display_data"
    },
    {
     "name": "stdout",
     "output_type": "stream",
     "text": [
      "Processing batch 1139/1554\n"
     ]
    },
    {
     "data": {
      "application/vnd.jupyter.widget-view+json": {
       "model_id": "1d5b31ccb19a436eb1baa77b40a92783",
       "version_major": 2,
       "version_minor": 0
      },
      "text/plain": [
       "Resizing images (rxrx3):   0%|          | 0/100 [00:00<?, ?it/s]"
      ]
     },
     "metadata": {},
     "output_type": "display_data"
    },
    {
     "name": "stdout",
     "output_type": "stream",
     "text": [
      "Processing batch 1140/1554\n"
     ]
    },
    {
     "data": {
      "application/vnd.jupyter.widget-view+json": {
       "model_id": "d519729470dd4b3ab2f379cdf18a715e",
       "version_major": 2,
       "version_minor": 0
      },
      "text/plain": [
       "Resizing images (rxrx3):   0%|          | 0/100 [00:00<?, ?it/s]"
      ]
     },
     "metadata": {},
     "output_type": "display_data"
    },
    {
     "name": "stdout",
     "output_type": "stream",
     "text": [
      "Processing batch 1141/1554\n"
     ]
    },
    {
     "data": {
      "application/vnd.jupyter.widget-view+json": {
       "model_id": "bff5fd112afa4ffebcbd683d4783857a",
       "version_major": 2,
       "version_minor": 0
      },
      "text/plain": [
       "Resizing images (rxrx3):   0%|          | 0/100 [00:00<?, ?it/s]"
      ]
     },
     "metadata": {},
     "output_type": "display_data"
    },
    {
     "name": "stdout",
     "output_type": "stream",
     "text": [
      "Processing batch 1142/1554\n"
     ]
    },
    {
     "data": {
      "application/vnd.jupyter.widget-view+json": {
       "model_id": "dc19cab246144cab9f32b68e417da74d",
       "version_major": 2,
       "version_minor": 0
      },
      "text/plain": [
       "Resizing images (rxrx3):   0%|          | 0/100 [00:00<?, ?it/s]"
      ]
     },
     "metadata": {},
     "output_type": "display_data"
    },
    {
     "name": "stdout",
     "output_type": "stream",
     "text": [
      "Processing batch 1143/1554\n"
     ]
    },
    {
     "data": {
      "application/vnd.jupyter.widget-view+json": {
       "model_id": "2d07f3ae65ea4fcc8a740648851f5c0f",
       "version_major": 2,
       "version_minor": 0
      },
      "text/plain": [
       "Resizing images (rxrx3):   0%|          | 0/100 [00:00<?, ?it/s]"
      ]
     },
     "metadata": {},
     "output_type": "display_data"
    },
    {
     "name": "stdout",
     "output_type": "stream",
     "text": [
      "Processing batch 1144/1554\n"
     ]
    },
    {
     "data": {
      "application/vnd.jupyter.widget-view+json": {
       "model_id": "bf874e2ada2e4a079c4706938bb19dd6",
       "version_major": 2,
       "version_minor": 0
      },
      "text/plain": [
       "Resizing images (rxrx3):   0%|          | 0/100 [00:00<?, ?it/s]"
      ]
     },
     "metadata": {},
     "output_type": "display_data"
    },
    {
     "name": "stdout",
     "output_type": "stream",
     "text": [
      "Processing batch 1145/1554\n"
     ]
    },
    {
     "data": {
      "application/vnd.jupyter.widget-view+json": {
       "model_id": "7646bc432e6049738f1a84351fdd3ab5",
       "version_major": 2,
       "version_minor": 0
      },
      "text/plain": [
       "Resizing images (rxrx3):   0%|          | 0/100 [00:00<?, ?it/s]"
      ]
     },
     "metadata": {},
     "output_type": "display_data"
    },
    {
     "name": "stdout",
     "output_type": "stream",
     "text": [
      "Processing batch 1146/1554\n"
     ]
    },
    {
     "data": {
      "application/vnd.jupyter.widget-view+json": {
       "model_id": "0fb441c24a4f4d0b82a2017cb4b4dcd7",
       "version_major": 2,
       "version_minor": 0
      },
      "text/plain": [
       "Resizing images (rxrx3):   0%|          | 0/100 [00:00<?, ?it/s]"
      ]
     },
     "metadata": {},
     "output_type": "display_data"
    },
    {
     "name": "stdout",
     "output_type": "stream",
     "text": [
      "Processing batch 1147/1554\n"
     ]
    },
    {
     "data": {
      "application/vnd.jupyter.widget-view+json": {
       "model_id": "d8addd5ca7d148d6bbe3f49a0e9922be",
       "version_major": 2,
       "version_minor": 0
      },
      "text/plain": [
       "Resizing images (rxrx3):   0%|          | 0/100 [00:00<?, ?it/s]"
      ]
     },
     "metadata": {},
     "output_type": "display_data"
    },
    {
     "name": "stdout",
     "output_type": "stream",
     "text": [
      "Processing batch 1148/1554\n"
     ]
    },
    {
     "data": {
      "application/vnd.jupyter.widget-view+json": {
       "model_id": "4d240e79cbef48d181d775d6111780ec",
       "version_major": 2,
       "version_minor": 0
      },
      "text/plain": [
       "Resizing images (rxrx3):   0%|          | 0/100 [00:00<?, ?it/s]"
      ]
     },
     "metadata": {},
     "output_type": "display_data"
    },
    {
     "name": "stdout",
     "output_type": "stream",
     "text": [
      "Processing batch 1149/1554\n"
     ]
    },
    {
     "data": {
      "application/vnd.jupyter.widget-view+json": {
       "model_id": "f1aa0f30df8843809590d4c92cd13f08",
       "version_major": 2,
       "version_minor": 0
      },
      "text/plain": [
       "Resizing images (rxrx3):   0%|          | 0/100 [00:00<?, ?it/s]"
      ]
     },
     "metadata": {},
     "output_type": "display_data"
    },
    {
     "name": "stdout",
     "output_type": "stream",
     "text": [
      "Processing batch 1150/1554\n"
     ]
    },
    {
     "data": {
      "application/vnd.jupyter.widget-view+json": {
       "model_id": "392d965550854fb4b6d4056aa250e083",
       "version_major": 2,
       "version_minor": 0
      },
      "text/plain": [
       "Resizing images (rxrx3):   0%|          | 0/100 [00:00<?, ?it/s]"
      ]
     },
     "metadata": {},
     "output_type": "display_data"
    },
    {
     "name": "stdout",
     "output_type": "stream",
     "text": [
      "Processing batch 1151/1554\n"
     ]
    },
    {
     "data": {
      "application/vnd.jupyter.widget-view+json": {
       "model_id": "2cfb5e229f20454c8b2c00405f1ef2da",
       "version_major": 2,
       "version_minor": 0
      },
      "text/plain": [
       "Resizing images (rxrx3):   0%|          | 0/100 [00:00<?, ?it/s]"
      ]
     },
     "metadata": {},
     "output_type": "display_data"
    },
    {
     "name": "stdout",
     "output_type": "stream",
     "text": [
      "Processing batch 1152/1554\n"
     ]
    },
    {
     "data": {
      "application/vnd.jupyter.widget-view+json": {
       "model_id": "963e6c61cbaa4b919f444e8cc00a0a08",
       "version_major": 2,
       "version_minor": 0
      },
      "text/plain": [
       "Resizing images (rxrx3):   0%|          | 0/100 [00:00<?, ?it/s]"
      ]
     },
     "metadata": {},
     "output_type": "display_data"
    },
    {
     "name": "stdout",
     "output_type": "stream",
     "text": [
      "Processing batch 1153/1554\n"
     ]
    },
    {
     "data": {
      "application/vnd.jupyter.widget-view+json": {
       "model_id": "7e475ecdbfb744c2b7706a1574a2ec4e",
       "version_major": 2,
       "version_minor": 0
      },
      "text/plain": [
       "Resizing images (rxrx3):   0%|          | 0/100 [00:00<?, ?it/s]"
      ]
     },
     "metadata": {},
     "output_type": "display_data"
    },
    {
     "name": "stdout",
     "output_type": "stream",
     "text": [
      "Processing batch 1154/1554\n"
     ]
    },
    {
     "data": {
      "application/vnd.jupyter.widget-view+json": {
       "model_id": "e1598b1fa9b74c40b635fa0bb5a7bfca",
       "version_major": 2,
       "version_minor": 0
      },
      "text/plain": [
       "Resizing images (rxrx3):   0%|          | 0/100 [00:00<?, ?it/s]"
      ]
     },
     "metadata": {},
     "output_type": "display_data"
    },
    {
     "name": "stdout",
     "output_type": "stream",
     "text": [
      "Processing batch 1155/1554\n"
     ]
    },
    {
     "data": {
      "application/vnd.jupyter.widget-view+json": {
       "model_id": "490eabe98cc445faa752246f311cd1ea",
       "version_major": 2,
       "version_minor": 0
      },
      "text/plain": [
       "Resizing images (rxrx3):   0%|          | 0/100 [00:00<?, ?it/s]"
      ]
     },
     "metadata": {},
     "output_type": "display_data"
    },
    {
     "name": "stdout",
     "output_type": "stream",
     "text": [
      "Processing batch 1156/1554\n"
     ]
    },
    {
     "data": {
      "application/vnd.jupyter.widget-view+json": {
       "model_id": "9045d0ca611049c4a5fdcf23807bcf63",
       "version_major": 2,
       "version_minor": 0
      },
      "text/plain": [
       "Resizing images (rxrx3):   0%|          | 0/100 [00:00<?, ?it/s]"
      ]
     },
     "metadata": {},
     "output_type": "display_data"
    },
    {
     "name": "stdout",
     "output_type": "stream",
     "text": [
      "Processing batch 1157/1554\n"
     ]
    },
    {
     "data": {
      "application/vnd.jupyter.widget-view+json": {
       "model_id": "728091dc4b5c4dd8a1a8e540426a8e73",
       "version_major": 2,
       "version_minor": 0
      },
      "text/plain": [
       "Resizing images (rxrx3):   0%|          | 0/100 [00:00<?, ?it/s]"
      ]
     },
     "metadata": {},
     "output_type": "display_data"
    },
    {
     "name": "stdout",
     "output_type": "stream",
     "text": [
      "Processing batch 1158/1554\n"
     ]
    },
    {
     "data": {
      "application/vnd.jupyter.widget-view+json": {
       "model_id": "994068cde2934a14ac4f41af2812d819",
       "version_major": 2,
       "version_minor": 0
      },
      "text/plain": [
       "Resizing images (rxrx3):   0%|          | 0/100 [00:00<?, ?it/s]"
      ]
     },
     "metadata": {},
     "output_type": "display_data"
    },
    {
     "name": "stdout",
     "output_type": "stream",
     "text": [
      "Processing batch 1159/1554\n"
     ]
    },
    {
     "data": {
      "application/vnd.jupyter.widget-view+json": {
       "model_id": "033711db41874a22bc7b30fcd62b1a52",
       "version_major": 2,
       "version_minor": 0
      },
      "text/plain": [
       "Resizing images (rxrx3):   0%|          | 0/100 [00:00<?, ?it/s]"
      ]
     },
     "metadata": {},
     "output_type": "display_data"
    },
    {
     "name": "stdout",
     "output_type": "stream",
     "text": [
      "Processing batch 1160/1554\n"
     ]
    },
    {
     "data": {
      "application/vnd.jupyter.widget-view+json": {
       "model_id": "e32b2b5a1c3345b88a7cff1573dca6a4",
       "version_major": 2,
       "version_minor": 0
      },
      "text/plain": [
       "Resizing images (rxrx3):   0%|          | 0/100 [00:00<?, ?it/s]"
      ]
     },
     "metadata": {},
     "output_type": "display_data"
    },
    {
     "name": "stdout",
     "output_type": "stream",
     "text": [
      "Processing batch 1161/1554\n"
     ]
    },
    {
     "data": {
      "application/vnd.jupyter.widget-view+json": {
       "model_id": "8ad661459bbb46a4b21f9723e298f1b1",
       "version_major": 2,
       "version_minor": 0
      },
      "text/plain": [
       "Resizing images (rxrx3):   0%|          | 0/100 [00:00<?, ?it/s]"
      ]
     },
     "metadata": {},
     "output_type": "display_data"
    },
    {
     "name": "stdout",
     "output_type": "stream",
     "text": [
      "Processing batch 1162/1554\n"
     ]
    },
    {
     "data": {
      "application/vnd.jupyter.widget-view+json": {
       "model_id": "e539112395f7413793b0506559e5217f",
       "version_major": 2,
       "version_minor": 0
      },
      "text/plain": [
       "Resizing images (rxrx3):   0%|          | 0/100 [00:00<?, ?it/s]"
      ]
     },
     "metadata": {},
     "output_type": "display_data"
    },
    {
     "name": "stdout",
     "output_type": "stream",
     "text": [
      "Processing batch 1163/1554\n"
     ]
    },
    {
     "data": {
      "application/vnd.jupyter.widget-view+json": {
       "model_id": "44676e70049e4ba8afdea4d8e98c79d6",
       "version_major": 2,
       "version_minor": 0
      },
      "text/plain": [
       "Resizing images (rxrx3):   0%|          | 0/100 [00:00<?, ?it/s]"
      ]
     },
     "metadata": {},
     "output_type": "display_data"
    },
    {
     "name": "stdout",
     "output_type": "stream",
     "text": [
      "Processing batch 1164/1554\n"
     ]
    },
    {
     "data": {
      "application/vnd.jupyter.widget-view+json": {
       "model_id": "b990475868d84cf8b2dfc89b61ed6404",
       "version_major": 2,
       "version_minor": 0
      },
      "text/plain": [
       "Resizing images (rxrx3):   0%|          | 0/100 [00:00<?, ?it/s]"
      ]
     },
     "metadata": {},
     "output_type": "display_data"
    },
    {
     "name": "stdout",
     "output_type": "stream",
     "text": [
      "Processing batch 1165/1554\n"
     ]
    },
    {
     "data": {
      "application/vnd.jupyter.widget-view+json": {
       "model_id": "c6b0da076d9a43dbba8e3e7a21f93a12",
       "version_major": 2,
       "version_minor": 0
      },
      "text/plain": [
       "Resizing images (rxrx3):   0%|          | 0/100 [00:00<?, ?it/s]"
      ]
     },
     "metadata": {},
     "output_type": "display_data"
    },
    {
     "name": "stdout",
     "output_type": "stream",
     "text": [
      "Processing batch 1166/1554\n"
     ]
    },
    {
     "data": {
      "application/vnd.jupyter.widget-view+json": {
       "model_id": "d08f0755e1d74354b6a769770debc90f",
       "version_major": 2,
       "version_minor": 0
      },
      "text/plain": [
       "Resizing images (rxrx3):   0%|          | 0/100 [00:00<?, ?it/s]"
      ]
     },
     "metadata": {},
     "output_type": "display_data"
    },
    {
     "name": "stdout",
     "output_type": "stream",
     "text": [
      "Processing batch 1167/1554\n"
     ]
    },
    {
     "data": {
      "application/vnd.jupyter.widget-view+json": {
       "model_id": "c60ace2eb95b4001a0233f10b0314e15",
       "version_major": 2,
       "version_minor": 0
      },
      "text/plain": [
       "Resizing images (rxrx3):   0%|          | 0/100 [00:00<?, ?it/s]"
      ]
     },
     "metadata": {},
     "output_type": "display_data"
    },
    {
     "name": "stdout",
     "output_type": "stream",
     "text": [
      "Processing batch 1168/1554\n"
     ]
    },
    {
     "data": {
      "application/vnd.jupyter.widget-view+json": {
       "model_id": "b67789aadf0c40479e8c47c3727436e5",
       "version_major": 2,
       "version_minor": 0
      },
      "text/plain": [
       "Resizing images (rxrx3):   0%|          | 0/100 [00:00<?, ?it/s]"
      ]
     },
     "metadata": {},
     "output_type": "display_data"
    },
    {
     "name": "stdout",
     "output_type": "stream",
     "text": [
      "Processing batch 1169/1554\n"
     ]
    },
    {
     "data": {
      "application/vnd.jupyter.widget-view+json": {
       "model_id": "cf91473903ec4463ae3af9472ecc0b32",
       "version_major": 2,
       "version_minor": 0
      },
      "text/plain": [
       "Resizing images (rxrx3):   0%|          | 0/100 [00:00<?, ?it/s]"
      ]
     },
     "metadata": {},
     "output_type": "display_data"
    },
    {
     "name": "stdout",
     "output_type": "stream",
     "text": [
      "Processing batch 1170/1554\n"
     ]
    },
    {
     "data": {
      "application/vnd.jupyter.widget-view+json": {
       "model_id": "9d9f62c8f2db498fa28186fe441ff15d",
       "version_major": 2,
       "version_minor": 0
      },
      "text/plain": [
       "Resizing images (rxrx3):   0%|          | 0/100 [00:00<?, ?it/s]"
      ]
     },
     "metadata": {},
     "output_type": "display_data"
    },
    {
     "name": "stdout",
     "output_type": "stream",
     "text": [
      "Processing batch 1171/1554\n"
     ]
    },
    {
     "data": {
      "application/vnd.jupyter.widget-view+json": {
       "model_id": "a7b6ec5f60c84817b2773ab5805dcc01",
       "version_major": 2,
       "version_minor": 0
      },
      "text/plain": [
       "Resizing images (rxrx3):   0%|          | 0/100 [00:00<?, ?it/s]"
      ]
     },
     "metadata": {},
     "output_type": "display_data"
    },
    {
     "name": "stdout",
     "output_type": "stream",
     "text": [
      "Processing batch 1172/1554\n"
     ]
    },
    {
     "data": {
      "application/vnd.jupyter.widget-view+json": {
       "model_id": "8a93b4aa09544038921c0e3872f7475a",
       "version_major": 2,
       "version_minor": 0
      },
      "text/plain": [
       "Resizing images (rxrx3):   0%|          | 0/100 [00:00<?, ?it/s]"
      ]
     },
     "metadata": {},
     "output_type": "display_data"
    },
    {
     "name": "stdout",
     "output_type": "stream",
     "text": [
      "Processing batch 1173/1554\n"
     ]
    },
    {
     "data": {
      "application/vnd.jupyter.widget-view+json": {
       "model_id": "bb77f4395e2a4b21b1fca16e1840fde4",
       "version_major": 2,
       "version_minor": 0
      },
      "text/plain": [
       "Resizing images (rxrx3):   0%|          | 0/100 [00:00<?, ?it/s]"
      ]
     },
     "metadata": {},
     "output_type": "display_data"
    },
    {
     "name": "stdout",
     "output_type": "stream",
     "text": [
      "Processing batch 1174/1554\n"
     ]
    },
    {
     "data": {
      "application/vnd.jupyter.widget-view+json": {
       "model_id": "fdf9ae6f0a5d49478afc675fcf96a637",
       "version_major": 2,
       "version_minor": 0
      },
      "text/plain": [
       "Resizing images (rxrx3):   0%|          | 0/100 [00:00<?, ?it/s]"
      ]
     },
     "metadata": {},
     "output_type": "display_data"
    },
    {
     "name": "stdout",
     "output_type": "stream",
     "text": [
      "Processing batch 1175/1554\n"
     ]
    },
    {
     "data": {
      "application/vnd.jupyter.widget-view+json": {
       "model_id": "98a017f2993948cfb853a1ca7504aa05",
       "version_major": 2,
       "version_minor": 0
      },
      "text/plain": [
       "Resizing images (rxrx3):   0%|          | 0/100 [00:00<?, ?it/s]"
      ]
     },
     "metadata": {},
     "output_type": "display_data"
    },
    {
     "name": "stdout",
     "output_type": "stream",
     "text": [
      "Processing batch 1176/1554\n"
     ]
    },
    {
     "data": {
      "application/vnd.jupyter.widget-view+json": {
       "model_id": "3b1537c04a4344bf807ebc0f34251fa0",
       "version_major": 2,
       "version_minor": 0
      },
      "text/plain": [
       "Resizing images (rxrx3):   0%|          | 0/100 [00:00<?, ?it/s]"
      ]
     },
     "metadata": {},
     "output_type": "display_data"
    },
    {
     "name": "stdout",
     "output_type": "stream",
     "text": [
      "Processing batch 1177/1554\n"
     ]
    },
    {
     "data": {
      "application/vnd.jupyter.widget-view+json": {
       "model_id": "9bd63beab6524e78a4438d4f04fefeb1",
       "version_major": 2,
       "version_minor": 0
      },
      "text/plain": [
       "Resizing images (rxrx3):   0%|          | 0/100 [00:00<?, ?it/s]"
      ]
     },
     "metadata": {},
     "output_type": "display_data"
    },
    {
     "name": "stdout",
     "output_type": "stream",
     "text": [
      "Processing batch 1178/1554\n"
     ]
    },
    {
     "data": {
      "application/vnd.jupyter.widget-view+json": {
       "model_id": "67b2417909e14506bce04d7fa13e819b",
       "version_major": 2,
       "version_minor": 0
      },
      "text/plain": [
       "Resizing images (rxrx3):   0%|          | 0/100 [00:00<?, ?it/s]"
      ]
     },
     "metadata": {},
     "output_type": "display_data"
    },
    {
     "name": "stdout",
     "output_type": "stream",
     "text": [
      "Processing batch 1179/1554\n"
     ]
    },
    {
     "data": {
      "application/vnd.jupyter.widget-view+json": {
       "model_id": "537f52ac9c7d415ea1c61bb15be5f88d",
       "version_major": 2,
       "version_minor": 0
      },
      "text/plain": [
       "Resizing images (rxrx3):   0%|          | 0/100 [00:00<?, ?it/s]"
      ]
     },
     "metadata": {},
     "output_type": "display_data"
    },
    {
     "name": "stdout",
     "output_type": "stream",
     "text": [
      "Processing batch 1180/1554\n"
     ]
    },
    {
     "data": {
      "application/vnd.jupyter.widget-view+json": {
       "model_id": "da4b0b7a1c0647a9a2ae991fed754a80",
       "version_major": 2,
       "version_minor": 0
      },
      "text/plain": [
       "Resizing images (rxrx3):   0%|          | 0/100 [00:00<?, ?it/s]"
      ]
     },
     "metadata": {},
     "output_type": "display_data"
    },
    {
     "name": "stdout",
     "output_type": "stream",
     "text": [
      "Processing batch 1181/1554\n"
     ]
    },
    {
     "data": {
      "application/vnd.jupyter.widget-view+json": {
       "model_id": "25047b907852454c972a927564f02b3e",
       "version_major": 2,
       "version_minor": 0
      },
      "text/plain": [
       "Resizing images (rxrx3):   0%|          | 0/100 [00:00<?, ?it/s]"
      ]
     },
     "metadata": {},
     "output_type": "display_data"
    },
    {
     "name": "stdout",
     "output_type": "stream",
     "text": [
      "Processing batch 1182/1554\n"
     ]
    },
    {
     "data": {
      "application/vnd.jupyter.widget-view+json": {
       "model_id": "c6a682fcd84e484495b1441b413a89ca",
       "version_major": 2,
       "version_minor": 0
      },
      "text/plain": [
       "Resizing images (rxrx3):   0%|          | 0/100 [00:00<?, ?it/s]"
      ]
     },
     "metadata": {},
     "output_type": "display_data"
    },
    {
     "name": "stdout",
     "output_type": "stream",
     "text": [
      "Processing batch 1183/1554\n"
     ]
    },
    {
     "data": {
      "application/vnd.jupyter.widget-view+json": {
       "model_id": "ed3962f9e9d44957b26d77ac56bdf593",
       "version_major": 2,
       "version_minor": 0
      },
      "text/plain": [
       "Resizing images (rxrx3):   0%|          | 0/100 [00:00<?, ?it/s]"
      ]
     },
     "metadata": {},
     "output_type": "display_data"
    },
    {
     "name": "stdout",
     "output_type": "stream",
     "text": [
      "Processing batch 1184/1554\n"
     ]
    },
    {
     "data": {
      "application/vnd.jupyter.widget-view+json": {
       "model_id": "a02dcb4dc66b4cbeaa33bc78a28e98fa",
       "version_major": 2,
       "version_minor": 0
      },
      "text/plain": [
       "Resizing images (rxrx3):   0%|          | 0/100 [00:00<?, ?it/s]"
      ]
     },
     "metadata": {},
     "output_type": "display_data"
    },
    {
     "name": "stdout",
     "output_type": "stream",
     "text": [
      "Processing batch 1185/1554\n"
     ]
    },
    {
     "data": {
      "application/vnd.jupyter.widget-view+json": {
       "model_id": "120f18246ea041bca2b2dbface6a2352",
       "version_major": 2,
       "version_minor": 0
      },
      "text/plain": [
       "Resizing images (rxrx3):   0%|          | 0/100 [00:00<?, ?it/s]"
      ]
     },
     "metadata": {},
     "output_type": "display_data"
    },
    {
     "name": "stdout",
     "output_type": "stream",
     "text": [
      "Processing batch 1186/1554\n"
     ]
    },
    {
     "data": {
      "application/vnd.jupyter.widget-view+json": {
       "model_id": "788d2c875a0d4b60a5bcf98adf000a21",
       "version_major": 2,
       "version_minor": 0
      },
      "text/plain": [
       "Resizing images (rxrx3):   0%|          | 0/100 [00:00<?, ?it/s]"
      ]
     },
     "metadata": {},
     "output_type": "display_data"
    },
    {
     "name": "stdout",
     "output_type": "stream",
     "text": [
      "Processing batch 1187/1554\n"
     ]
    },
    {
     "data": {
      "application/vnd.jupyter.widget-view+json": {
       "model_id": "70008e05dd4042fd8dfd97678ded1604",
       "version_major": 2,
       "version_minor": 0
      },
      "text/plain": [
       "Resizing images (rxrx3):   0%|          | 0/100 [00:00<?, ?it/s]"
      ]
     },
     "metadata": {},
     "output_type": "display_data"
    },
    {
     "name": "stdout",
     "output_type": "stream",
     "text": [
      "Processing batch 1188/1554\n"
     ]
    },
    {
     "data": {
      "application/vnd.jupyter.widget-view+json": {
       "model_id": "b82bbc1c3a5446668b29eaeefb22edad",
       "version_major": 2,
       "version_minor": 0
      },
      "text/plain": [
       "Resizing images (rxrx3):   0%|          | 0/100 [00:00<?, ?it/s]"
      ]
     },
     "metadata": {},
     "output_type": "display_data"
    },
    {
     "name": "stdout",
     "output_type": "stream",
     "text": [
      "Processing batch 1189/1554\n"
     ]
    },
    {
     "data": {
      "application/vnd.jupyter.widget-view+json": {
       "model_id": "8c126ef2857d42f19d4290f0f3ae5010",
       "version_major": 2,
       "version_minor": 0
      },
      "text/plain": [
       "Resizing images (rxrx3):   0%|          | 0/100 [00:00<?, ?it/s]"
      ]
     },
     "metadata": {},
     "output_type": "display_data"
    },
    {
     "name": "stdout",
     "output_type": "stream",
     "text": [
      "Processing batch 1190/1554\n"
     ]
    },
    {
     "data": {
      "application/vnd.jupyter.widget-view+json": {
       "model_id": "b8a6776e103949278f108ed2cbb227df",
       "version_major": 2,
       "version_minor": 0
      },
      "text/plain": [
       "Resizing images (rxrx3):   0%|          | 0/100 [00:00<?, ?it/s]"
      ]
     },
     "metadata": {},
     "output_type": "display_data"
    },
    {
     "name": "stdout",
     "output_type": "stream",
     "text": [
      "Processing batch 1191/1554\n"
     ]
    },
    {
     "data": {
      "application/vnd.jupyter.widget-view+json": {
       "model_id": "8a731de5bde14b999b9ba7ca55af1262",
       "version_major": 2,
       "version_minor": 0
      },
      "text/plain": [
       "Resizing images (rxrx3):   0%|          | 0/100 [00:00<?, ?it/s]"
      ]
     },
     "metadata": {},
     "output_type": "display_data"
    },
    {
     "name": "stdout",
     "output_type": "stream",
     "text": [
      "Processing batch 1192/1554\n"
     ]
    },
    {
     "data": {
      "application/vnd.jupyter.widget-view+json": {
       "model_id": "155f1c38cdf34209899fc1e3dbcb54e9",
       "version_major": 2,
       "version_minor": 0
      },
      "text/plain": [
       "Resizing images (rxrx3):   0%|          | 0/100 [00:00<?, ?it/s]"
      ]
     },
     "metadata": {},
     "output_type": "display_data"
    },
    {
     "name": "stdout",
     "output_type": "stream",
     "text": [
      "Processing batch 1193/1554\n"
     ]
    },
    {
     "data": {
      "application/vnd.jupyter.widget-view+json": {
       "model_id": "9ad17d4a2f48430a8a5e6b2477e40a15",
       "version_major": 2,
       "version_minor": 0
      },
      "text/plain": [
       "Resizing images (rxrx3):   0%|          | 0/100 [00:00<?, ?it/s]"
      ]
     },
     "metadata": {},
     "output_type": "display_data"
    },
    {
     "name": "stdout",
     "output_type": "stream",
     "text": [
      "Processing batch 1194/1554\n"
     ]
    },
    {
     "data": {
      "application/vnd.jupyter.widget-view+json": {
       "model_id": "e1a4d4bde03244ce85590ce910b21f02",
       "version_major": 2,
       "version_minor": 0
      },
      "text/plain": [
       "Resizing images (rxrx3):   0%|          | 0/100 [00:00<?, ?it/s]"
      ]
     },
     "metadata": {},
     "output_type": "display_data"
    },
    {
     "name": "stdout",
     "output_type": "stream",
     "text": [
      "Processing batch 1195/1554\n"
     ]
    },
    {
     "data": {
      "application/vnd.jupyter.widget-view+json": {
       "model_id": "5f8623fbe8bd440dbc0382f1934ba874",
       "version_major": 2,
       "version_minor": 0
      },
      "text/plain": [
       "Resizing images (rxrx3):   0%|          | 0/100 [00:00<?, ?it/s]"
      ]
     },
     "metadata": {},
     "output_type": "display_data"
    },
    {
     "name": "stdout",
     "output_type": "stream",
     "text": [
      "Processing batch 1196/1554\n"
     ]
    },
    {
     "data": {
      "application/vnd.jupyter.widget-view+json": {
       "model_id": "72bfdcc2d8544b308347f85c86a91d4d",
       "version_major": 2,
       "version_minor": 0
      },
      "text/plain": [
       "Resizing images (rxrx3):   0%|          | 0/100 [00:00<?, ?it/s]"
      ]
     },
     "metadata": {},
     "output_type": "display_data"
    },
    {
     "name": "stdout",
     "output_type": "stream",
     "text": [
      "Processing batch 1197/1554\n"
     ]
    },
    {
     "data": {
      "application/vnd.jupyter.widget-view+json": {
       "model_id": "ec621340e0694b049e9d86377e4cf125",
       "version_major": 2,
       "version_minor": 0
      },
      "text/plain": [
       "Resizing images (rxrx3):   0%|          | 0/100 [00:00<?, ?it/s]"
      ]
     },
     "metadata": {},
     "output_type": "display_data"
    },
    {
     "name": "stdout",
     "output_type": "stream",
     "text": [
      "Processing batch 1198/1554\n"
     ]
    },
    {
     "data": {
      "application/vnd.jupyter.widget-view+json": {
       "model_id": "967f317fd03746619616f603f0b467cd",
       "version_major": 2,
       "version_minor": 0
      },
      "text/plain": [
       "Resizing images (rxrx3):   0%|          | 0/100 [00:00<?, ?it/s]"
      ]
     },
     "metadata": {},
     "output_type": "display_data"
    },
    {
     "name": "stdout",
     "output_type": "stream",
     "text": [
      "Processing batch 1199/1554\n"
     ]
    },
    {
     "data": {
      "application/vnd.jupyter.widget-view+json": {
       "model_id": "83bf0f50752a41beac2e1016b472e7b9",
       "version_major": 2,
       "version_minor": 0
      },
      "text/plain": [
       "Resizing images (rxrx3):   0%|          | 0/100 [00:00<?, ?it/s]"
      ]
     },
     "metadata": {},
     "output_type": "display_data"
    },
    {
     "name": "stdout",
     "output_type": "stream",
     "text": [
      "Processing batch 1200/1554\n"
     ]
    },
    {
     "data": {
      "application/vnd.jupyter.widget-view+json": {
       "model_id": "bb3d2bbb470a4a6fac3ff877527f0b1c",
       "version_major": 2,
       "version_minor": 0
      },
      "text/plain": [
       "Resizing images (rxrx3):   0%|          | 0/100 [00:00<?, ?it/s]"
      ]
     },
     "metadata": {},
     "output_type": "display_data"
    },
    {
     "name": "stdout",
     "output_type": "stream",
     "text": [
      "Processing batch 1201/1554\n"
     ]
    },
    {
     "data": {
      "application/vnd.jupyter.widget-view+json": {
       "model_id": "bdb1f9e683834233ac8de1ee2f4f1b24",
       "version_major": 2,
       "version_minor": 0
      },
      "text/plain": [
       "Resizing images (rxrx3):   0%|          | 0/100 [00:00<?, ?it/s]"
      ]
     },
     "metadata": {},
     "output_type": "display_data"
    },
    {
     "name": "stdout",
     "output_type": "stream",
     "text": [
      "Processing batch 1202/1554\n"
     ]
    },
    {
     "data": {
      "application/vnd.jupyter.widget-view+json": {
       "model_id": "8932418834344b128e0e60d025aefc3c",
       "version_major": 2,
       "version_minor": 0
      },
      "text/plain": [
       "Resizing images (rxrx3):   0%|          | 0/100 [00:00<?, ?it/s]"
      ]
     },
     "metadata": {},
     "output_type": "display_data"
    },
    {
     "name": "stdout",
     "output_type": "stream",
     "text": [
      "Processing batch 1203/1554\n"
     ]
    },
    {
     "data": {
      "application/vnd.jupyter.widget-view+json": {
       "model_id": "201cffabe0c74be7910cb9548dce82e3",
       "version_major": 2,
       "version_minor": 0
      },
      "text/plain": [
       "Resizing images (rxrx3):   0%|          | 0/100 [00:00<?, ?it/s]"
      ]
     },
     "metadata": {},
     "output_type": "display_data"
    },
    {
     "name": "stdout",
     "output_type": "stream",
     "text": [
      "Processing batch 1204/1554\n"
     ]
    },
    {
     "data": {
      "application/vnd.jupyter.widget-view+json": {
       "model_id": "332e7736a9594f39b2399daa714dd777",
       "version_major": 2,
       "version_minor": 0
      },
      "text/plain": [
       "Resizing images (rxrx3):   0%|          | 0/100 [00:00<?, ?it/s]"
      ]
     },
     "metadata": {},
     "output_type": "display_data"
    },
    {
     "name": "stdout",
     "output_type": "stream",
     "text": [
      "Processing batch 1205/1554\n"
     ]
    },
    {
     "data": {
      "application/vnd.jupyter.widget-view+json": {
       "model_id": "b9164af355ef4f6892cbac7a6c00008f",
       "version_major": 2,
       "version_minor": 0
      },
      "text/plain": [
       "Resizing images (rxrx3):   0%|          | 0/100 [00:00<?, ?it/s]"
      ]
     },
     "metadata": {},
     "output_type": "display_data"
    },
    {
     "name": "stdout",
     "output_type": "stream",
     "text": [
      "Processing batch 1206/1554\n"
     ]
    },
    {
     "data": {
      "application/vnd.jupyter.widget-view+json": {
       "model_id": "627abc4df86a4023b6c8df11ff272b3a",
       "version_major": 2,
       "version_minor": 0
      },
      "text/plain": [
       "Resizing images (rxrx3):   0%|          | 0/100 [00:00<?, ?it/s]"
      ]
     },
     "metadata": {},
     "output_type": "display_data"
    },
    {
     "name": "stdout",
     "output_type": "stream",
     "text": [
      "Processing batch 1207/1554\n"
     ]
    },
    {
     "data": {
      "application/vnd.jupyter.widget-view+json": {
       "model_id": "3e3aa5370dad4baeaa2c93ab6abb5499",
       "version_major": 2,
       "version_minor": 0
      },
      "text/plain": [
       "Resizing images (rxrx3):   0%|          | 0/100 [00:00<?, ?it/s]"
      ]
     },
     "metadata": {},
     "output_type": "display_data"
    },
    {
     "name": "stdout",
     "output_type": "stream",
     "text": [
      "Processing batch 1208/1554\n"
     ]
    },
    {
     "data": {
      "application/vnd.jupyter.widget-view+json": {
       "model_id": "6cda619ff6b7461491d2116290f565ac",
       "version_major": 2,
       "version_minor": 0
      },
      "text/plain": [
       "Resizing images (rxrx3):   0%|          | 0/100 [00:00<?, ?it/s]"
      ]
     },
     "metadata": {},
     "output_type": "display_data"
    },
    {
     "name": "stdout",
     "output_type": "stream",
     "text": [
      "Processing batch 1209/1554\n"
     ]
    },
    {
     "data": {
      "application/vnd.jupyter.widget-view+json": {
       "model_id": "c4805c05b6704363aab713dc04c9f6e7",
       "version_major": 2,
       "version_minor": 0
      },
      "text/plain": [
       "Resizing images (rxrx3):   0%|          | 0/100 [00:00<?, ?it/s]"
      ]
     },
     "metadata": {},
     "output_type": "display_data"
    },
    {
     "name": "stdout",
     "output_type": "stream",
     "text": [
      "Processing batch 1210/1554\n"
     ]
    },
    {
     "data": {
      "application/vnd.jupyter.widget-view+json": {
       "model_id": "adcec2e017854b82a2b1e1aa1fec1eef",
       "version_major": 2,
       "version_minor": 0
      },
      "text/plain": [
       "Resizing images (rxrx3):   0%|          | 0/100 [00:00<?, ?it/s]"
      ]
     },
     "metadata": {},
     "output_type": "display_data"
    },
    {
     "name": "stdout",
     "output_type": "stream",
     "text": [
      "Processing batch 1211/1554\n"
     ]
    },
    {
     "data": {
      "application/vnd.jupyter.widget-view+json": {
       "model_id": "9169adc275564115a802ad81cd252179",
       "version_major": 2,
       "version_minor": 0
      },
      "text/plain": [
       "Resizing images (rxrx3):   0%|          | 0/100 [00:00<?, ?it/s]"
      ]
     },
     "metadata": {},
     "output_type": "display_data"
    },
    {
     "name": "stdout",
     "output_type": "stream",
     "text": [
      "Processing batch 1212/1554\n"
     ]
    },
    {
     "data": {
      "application/vnd.jupyter.widget-view+json": {
       "model_id": "d9ca7bcb6756486480a4dd28831d26d4",
       "version_major": 2,
       "version_minor": 0
      },
      "text/plain": [
       "Resizing images (rxrx3):   0%|          | 0/100 [00:00<?, ?it/s]"
      ]
     },
     "metadata": {},
     "output_type": "display_data"
    },
    {
     "name": "stdout",
     "output_type": "stream",
     "text": [
      "Processing batch 1213/1554\n"
     ]
    },
    {
     "data": {
      "application/vnd.jupyter.widget-view+json": {
       "model_id": "01e76ad9698f483394359c29fb3071f1",
       "version_major": 2,
       "version_minor": 0
      },
      "text/plain": [
       "Resizing images (rxrx3):   0%|          | 0/100 [00:00<?, ?it/s]"
      ]
     },
     "metadata": {},
     "output_type": "display_data"
    },
    {
     "name": "stdout",
     "output_type": "stream",
     "text": [
      "Processing batch 1214/1554\n"
     ]
    },
    {
     "data": {
      "application/vnd.jupyter.widget-view+json": {
       "model_id": "7e15273e91ed4269864ea02c501a4520",
       "version_major": 2,
       "version_minor": 0
      },
      "text/plain": [
       "Resizing images (rxrx3):   0%|          | 0/100 [00:00<?, ?it/s]"
      ]
     },
     "metadata": {},
     "output_type": "display_data"
    },
    {
     "name": "stdout",
     "output_type": "stream",
     "text": [
      "Processing batch 1215/1554\n"
     ]
    },
    {
     "data": {
      "application/vnd.jupyter.widget-view+json": {
       "model_id": "e2c4714f4ad248f7a79c970a4f9fdd1a",
       "version_major": 2,
       "version_minor": 0
      },
      "text/plain": [
       "Resizing images (rxrx3):   0%|          | 0/100 [00:00<?, ?it/s]"
      ]
     },
     "metadata": {},
     "output_type": "display_data"
    },
    {
     "name": "stdout",
     "output_type": "stream",
     "text": [
      "Processing batch 1216/1554\n"
     ]
    },
    {
     "data": {
      "application/vnd.jupyter.widget-view+json": {
       "model_id": "c033057fcdaa4da5a8a37520ada2fdaa",
       "version_major": 2,
       "version_minor": 0
      },
      "text/plain": [
       "Resizing images (rxrx3):   0%|          | 0/100 [00:00<?, ?it/s]"
      ]
     },
     "metadata": {},
     "output_type": "display_data"
    },
    {
     "name": "stdout",
     "output_type": "stream",
     "text": [
      "Processing batch 1217/1554\n"
     ]
    },
    {
     "data": {
      "application/vnd.jupyter.widget-view+json": {
       "model_id": "1102ed9787544597b60e5a34e42edd34",
       "version_major": 2,
       "version_minor": 0
      },
      "text/plain": [
       "Resizing images (rxrx3):   0%|          | 0/100 [00:00<?, ?it/s]"
      ]
     },
     "metadata": {},
     "output_type": "display_data"
    },
    {
     "name": "stdout",
     "output_type": "stream",
     "text": [
      "Processing batch 1218/1554\n"
     ]
    },
    {
     "data": {
      "application/vnd.jupyter.widget-view+json": {
       "model_id": "1e987d4c840140d693e25bc8382d3934",
       "version_major": 2,
       "version_minor": 0
      },
      "text/plain": [
       "Resizing images (rxrx3):   0%|          | 0/100 [00:00<?, ?it/s]"
      ]
     },
     "metadata": {},
     "output_type": "display_data"
    },
    {
     "name": "stdout",
     "output_type": "stream",
     "text": [
      "Processing batch 1219/1554\n"
     ]
    },
    {
     "data": {
      "application/vnd.jupyter.widget-view+json": {
       "model_id": "c2f8a4c1556e4a32bb8156160adce7ae",
       "version_major": 2,
       "version_minor": 0
      },
      "text/plain": [
       "Resizing images (rxrx3):   0%|          | 0/100 [00:00<?, ?it/s]"
      ]
     },
     "metadata": {},
     "output_type": "display_data"
    },
    {
     "name": "stdout",
     "output_type": "stream",
     "text": [
      "Processing batch 1220/1554\n"
     ]
    },
    {
     "data": {
      "application/vnd.jupyter.widget-view+json": {
       "model_id": "bdf4604c7c7645cd9b35b2f9d3d4fc6b",
       "version_major": 2,
       "version_minor": 0
      },
      "text/plain": [
       "Resizing images (rxrx3):   0%|          | 0/100 [00:00<?, ?it/s]"
      ]
     },
     "metadata": {},
     "output_type": "display_data"
    },
    {
     "name": "stdout",
     "output_type": "stream",
     "text": [
      "Processing batch 1221/1554\n"
     ]
    },
    {
     "data": {
      "application/vnd.jupyter.widget-view+json": {
       "model_id": "5f1869c19c4c487fa27eb09257680a6f",
       "version_major": 2,
       "version_minor": 0
      },
      "text/plain": [
       "Resizing images (rxrx3):   0%|          | 0/100 [00:00<?, ?it/s]"
      ]
     },
     "metadata": {},
     "output_type": "display_data"
    },
    {
     "name": "stdout",
     "output_type": "stream",
     "text": [
      "Processing batch 1222/1554\n"
     ]
    },
    {
     "data": {
      "application/vnd.jupyter.widget-view+json": {
       "model_id": "08e5f49f82164ac7a4c1d367f8ffa6ac",
       "version_major": 2,
       "version_minor": 0
      },
      "text/plain": [
       "Resizing images (rxrx3):   0%|          | 0/100 [00:00<?, ?it/s]"
      ]
     },
     "metadata": {},
     "output_type": "display_data"
    },
    {
     "name": "stdout",
     "output_type": "stream",
     "text": [
      "Processing batch 1223/1554\n"
     ]
    },
    {
     "data": {
      "application/vnd.jupyter.widget-view+json": {
       "model_id": "dbfee480c3ea4f559642866787eeb6b8",
       "version_major": 2,
       "version_minor": 0
      },
      "text/plain": [
       "Resizing images (rxrx3):   0%|          | 0/100 [00:00<?, ?it/s]"
      ]
     },
     "metadata": {},
     "output_type": "display_data"
    },
    {
     "name": "stdout",
     "output_type": "stream",
     "text": [
      "Processing batch 1224/1554\n"
     ]
    },
    {
     "data": {
      "application/vnd.jupyter.widget-view+json": {
       "model_id": "91690255a2834157bfd4635ce6a3f8af",
       "version_major": 2,
       "version_minor": 0
      },
      "text/plain": [
       "Resizing images (rxrx3):   0%|          | 0/100 [00:00<?, ?it/s]"
      ]
     },
     "metadata": {},
     "output_type": "display_data"
    },
    {
     "name": "stdout",
     "output_type": "stream",
     "text": [
      "Processing batch 1225/1554\n"
     ]
    },
    {
     "data": {
      "application/vnd.jupyter.widget-view+json": {
       "model_id": "fd4bf068a91944eeabaa1cb356b8dcc2",
       "version_major": 2,
       "version_minor": 0
      },
      "text/plain": [
       "Resizing images (rxrx3):   0%|          | 0/100 [00:00<?, ?it/s]"
      ]
     },
     "metadata": {},
     "output_type": "display_data"
    },
    {
     "name": "stdout",
     "output_type": "stream",
     "text": [
      "Processing batch 1226/1554\n"
     ]
    },
    {
     "data": {
      "application/vnd.jupyter.widget-view+json": {
       "model_id": "88207886f96c40e3944ca1ccfbcf3d13",
       "version_major": 2,
       "version_minor": 0
      },
      "text/plain": [
       "Resizing images (rxrx3):   0%|          | 0/100 [00:00<?, ?it/s]"
      ]
     },
     "metadata": {},
     "output_type": "display_data"
    },
    {
     "name": "stdout",
     "output_type": "stream",
     "text": [
      "Processing batch 1227/1554\n"
     ]
    },
    {
     "data": {
      "application/vnd.jupyter.widget-view+json": {
       "model_id": "a186365642a64700a023f3781255a092",
       "version_major": 2,
       "version_minor": 0
      },
      "text/plain": [
       "Resizing images (rxrx3):   0%|          | 0/100 [00:00<?, ?it/s]"
      ]
     },
     "metadata": {},
     "output_type": "display_data"
    },
    {
     "name": "stdout",
     "output_type": "stream",
     "text": [
      "Processing batch 1228/1554\n"
     ]
    },
    {
     "data": {
      "application/vnd.jupyter.widget-view+json": {
       "model_id": "2b6eb906619e4f5bb20dfb07d78e0bed",
       "version_major": 2,
       "version_minor": 0
      },
      "text/plain": [
       "Resizing images (rxrx3):   0%|          | 0/100 [00:00<?, ?it/s]"
      ]
     },
     "metadata": {},
     "output_type": "display_data"
    },
    {
     "name": "stdout",
     "output_type": "stream",
     "text": [
      "Processing batch 1229/1554\n"
     ]
    },
    {
     "data": {
      "application/vnd.jupyter.widget-view+json": {
       "model_id": "79ffcd1acb574e96ba7fb8101cf126bb",
       "version_major": 2,
       "version_minor": 0
      },
      "text/plain": [
       "Resizing images (rxrx3):   0%|          | 0/100 [00:00<?, ?it/s]"
      ]
     },
     "metadata": {},
     "output_type": "display_data"
    },
    {
     "name": "stdout",
     "output_type": "stream",
     "text": [
      "Processing batch 1230/1554\n"
     ]
    },
    {
     "data": {
      "application/vnd.jupyter.widget-view+json": {
       "model_id": "750b184c688943638dfe0021b65dc2ad",
       "version_major": 2,
       "version_minor": 0
      },
      "text/plain": [
       "Resizing images (rxrx3):   0%|          | 0/100 [00:00<?, ?it/s]"
      ]
     },
     "metadata": {},
     "output_type": "display_data"
    },
    {
     "name": "stdout",
     "output_type": "stream",
     "text": [
      "Processing batch 1231/1554\n"
     ]
    },
    {
     "data": {
      "application/vnd.jupyter.widget-view+json": {
       "model_id": "53b67d11fb7647189d83f6213a58c24b",
       "version_major": 2,
       "version_minor": 0
      },
      "text/plain": [
       "Resizing images (rxrx3):   0%|          | 0/100 [00:00<?, ?it/s]"
      ]
     },
     "metadata": {},
     "output_type": "display_data"
    },
    {
     "name": "stdout",
     "output_type": "stream",
     "text": [
      "Processing batch 1232/1554\n"
     ]
    },
    {
     "data": {
      "application/vnd.jupyter.widget-view+json": {
       "model_id": "4c377128276e4fed8e98002952a1e653",
       "version_major": 2,
       "version_minor": 0
      },
      "text/plain": [
       "Resizing images (rxrx3):   0%|          | 0/100 [00:00<?, ?it/s]"
      ]
     },
     "metadata": {},
     "output_type": "display_data"
    },
    {
     "name": "stdout",
     "output_type": "stream",
     "text": [
      "Processing batch 1233/1554\n"
     ]
    },
    {
     "data": {
      "application/vnd.jupyter.widget-view+json": {
       "model_id": "4038ad1862e54db3be5d3125860d2e28",
       "version_major": 2,
       "version_minor": 0
      },
      "text/plain": [
       "Resizing images (rxrx3):   0%|          | 0/100 [00:00<?, ?it/s]"
      ]
     },
     "metadata": {},
     "output_type": "display_data"
    },
    {
     "name": "stdout",
     "output_type": "stream",
     "text": [
      "Processing batch 1234/1554\n"
     ]
    },
    {
     "data": {
      "application/vnd.jupyter.widget-view+json": {
       "model_id": "b8e5c8d26e7b4c13b97d3d81c6d238fe",
       "version_major": 2,
       "version_minor": 0
      },
      "text/plain": [
       "Resizing images (rxrx3):   0%|          | 0/100 [00:00<?, ?it/s]"
      ]
     },
     "metadata": {},
     "output_type": "display_data"
    },
    {
     "name": "stdout",
     "output_type": "stream",
     "text": [
      "Processing batch 1235/1554\n"
     ]
    },
    {
     "data": {
      "application/vnd.jupyter.widget-view+json": {
       "model_id": "47aa3b5250b04c0894e5539c7d31b7db",
       "version_major": 2,
       "version_minor": 0
      },
      "text/plain": [
       "Resizing images (rxrx3):   0%|          | 0/100 [00:00<?, ?it/s]"
      ]
     },
     "metadata": {},
     "output_type": "display_data"
    },
    {
     "name": "stdout",
     "output_type": "stream",
     "text": [
      "Processing batch 1236/1554\n"
     ]
    },
    {
     "data": {
      "application/vnd.jupyter.widget-view+json": {
       "model_id": "bddfdf0241b14d499912ee0dbce01e3c",
       "version_major": 2,
       "version_minor": 0
      },
      "text/plain": [
       "Resizing images (rxrx3):   0%|          | 0/100 [00:00<?, ?it/s]"
      ]
     },
     "metadata": {},
     "output_type": "display_data"
    },
    {
     "name": "stdout",
     "output_type": "stream",
     "text": [
      "Processing batch 1237/1554\n"
     ]
    },
    {
     "data": {
      "application/vnd.jupyter.widget-view+json": {
       "model_id": "4a837329a7aa49f5bfd5f811ce6688db",
       "version_major": 2,
       "version_minor": 0
      },
      "text/plain": [
       "Resizing images (rxrx3):   0%|          | 0/100 [00:00<?, ?it/s]"
      ]
     },
     "metadata": {},
     "output_type": "display_data"
    },
    {
     "name": "stdout",
     "output_type": "stream",
     "text": [
      "Processing batch 1238/1554\n"
     ]
    },
    {
     "data": {
      "application/vnd.jupyter.widget-view+json": {
       "model_id": "434ddbd7d2af457fb7182610db76d62d",
       "version_major": 2,
       "version_minor": 0
      },
      "text/plain": [
       "Resizing images (rxrx3):   0%|          | 0/100 [00:00<?, ?it/s]"
      ]
     },
     "metadata": {},
     "output_type": "display_data"
    },
    {
     "name": "stdout",
     "output_type": "stream",
     "text": [
      "Processing batch 1239/1554\n"
     ]
    },
    {
     "data": {
      "application/vnd.jupyter.widget-view+json": {
       "model_id": "ed6872ea21334e2096a8c0ff7ae33b9e",
       "version_major": 2,
       "version_minor": 0
      },
      "text/plain": [
       "Resizing images (rxrx3):   0%|          | 0/100 [00:00<?, ?it/s]"
      ]
     },
     "metadata": {},
     "output_type": "display_data"
    },
    {
     "name": "stdout",
     "output_type": "stream",
     "text": [
      "Processing batch 1240/1554\n"
     ]
    },
    {
     "data": {
      "application/vnd.jupyter.widget-view+json": {
       "model_id": "66619c8d340c40f7b3ff564fb36687f6",
       "version_major": 2,
       "version_minor": 0
      },
      "text/plain": [
       "Resizing images (rxrx3):   0%|          | 0/100 [00:00<?, ?it/s]"
      ]
     },
     "metadata": {},
     "output_type": "display_data"
    },
    {
     "name": "stdout",
     "output_type": "stream",
     "text": [
      "Processing batch 1241/1554\n"
     ]
    },
    {
     "data": {
      "application/vnd.jupyter.widget-view+json": {
       "model_id": "548c6490b5024c68aa674b3efa6d5078",
       "version_major": 2,
       "version_minor": 0
      },
      "text/plain": [
       "Resizing images (rxrx3):   0%|          | 0/100 [00:00<?, ?it/s]"
      ]
     },
     "metadata": {},
     "output_type": "display_data"
    },
    {
     "name": "stdout",
     "output_type": "stream",
     "text": [
      "Processing batch 1242/1554\n"
     ]
    },
    {
     "data": {
      "application/vnd.jupyter.widget-view+json": {
       "model_id": "bb4cf7014c894cdbb872bc8821de9244",
       "version_major": 2,
       "version_minor": 0
      },
      "text/plain": [
       "Resizing images (rxrx3):   0%|          | 0/100 [00:00<?, ?it/s]"
      ]
     },
     "metadata": {},
     "output_type": "display_data"
    },
    {
     "name": "stdout",
     "output_type": "stream",
     "text": [
      "Processing batch 1243/1554\n"
     ]
    },
    {
     "data": {
      "application/vnd.jupyter.widget-view+json": {
       "model_id": "811ecc84c9fa4931825038ca4d8c344f",
       "version_major": 2,
       "version_minor": 0
      },
      "text/plain": [
       "Resizing images (rxrx3):   0%|          | 0/100 [00:00<?, ?it/s]"
      ]
     },
     "metadata": {},
     "output_type": "display_data"
    },
    {
     "name": "stdout",
     "output_type": "stream",
     "text": [
      "Processing batch 1244/1554\n"
     ]
    },
    {
     "data": {
      "application/vnd.jupyter.widget-view+json": {
       "model_id": "b3d94677f4054707a53dbd4a7b46b925",
       "version_major": 2,
       "version_minor": 0
      },
      "text/plain": [
       "Resizing images (rxrx3):   0%|          | 0/100 [00:00<?, ?it/s]"
      ]
     },
     "metadata": {},
     "output_type": "display_data"
    },
    {
     "name": "stdout",
     "output_type": "stream",
     "text": [
      "Processing batch 1245/1554\n"
     ]
    },
    {
     "data": {
      "application/vnd.jupyter.widget-view+json": {
       "model_id": "07fc8a9470074608a40a8568f1ee4c01",
       "version_major": 2,
       "version_minor": 0
      },
      "text/plain": [
       "Resizing images (rxrx3):   0%|          | 0/100 [00:00<?, ?it/s]"
      ]
     },
     "metadata": {},
     "output_type": "display_data"
    },
    {
     "name": "stdout",
     "output_type": "stream",
     "text": [
      "Processing batch 1246/1554\n"
     ]
    },
    {
     "data": {
      "application/vnd.jupyter.widget-view+json": {
       "model_id": "c104b5f9a301465ebb18dea460616686",
       "version_major": 2,
       "version_minor": 0
      },
      "text/plain": [
       "Resizing images (rxrx3):   0%|          | 0/100 [00:00<?, ?it/s]"
      ]
     },
     "metadata": {},
     "output_type": "display_data"
    },
    {
     "name": "stdout",
     "output_type": "stream",
     "text": [
      "Processing batch 1247/1554\n"
     ]
    },
    {
     "data": {
      "application/vnd.jupyter.widget-view+json": {
       "model_id": "e901525328924d66a675f65c0ea09a61",
       "version_major": 2,
       "version_minor": 0
      },
      "text/plain": [
       "Resizing images (rxrx3):   0%|          | 0/100 [00:00<?, ?it/s]"
      ]
     },
     "metadata": {},
     "output_type": "display_data"
    },
    {
     "name": "stdout",
     "output_type": "stream",
     "text": [
      "Processing batch 1248/1554\n"
     ]
    },
    {
     "data": {
      "application/vnd.jupyter.widget-view+json": {
       "model_id": "ff289005a56844f0a2d457e8df469acb",
       "version_major": 2,
       "version_minor": 0
      },
      "text/plain": [
       "Resizing images (rxrx3):   0%|          | 0/100 [00:00<?, ?it/s]"
      ]
     },
     "metadata": {},
     "output_type": "display_data"
    },
    {
     "name": "stdout",
     "output_type": "stream",
     "text": [
      "Processing batch 1249/1554\n"
     ]
    },
    {
     "data": {
      "application/vnd.jupyter.widget-view+json": {
       "model_id": "c8cbd21633ee423bb5b68b68556954b2",
       "version_major": 2,
       "version_minor": 0
      },
      "text/plain": [
       "Resizing images (rxrx3):   0%|          | 0/100 [00:00<?, ?it/s]"
      ]
     },
     "metadata": {},
     "output_type": "display_data"
    },
    {
     "name": "stdout",
     "output_type": "stream",
     "text": [
      "Processing batch 1250/1554\n"
     ]
    },
    {
     "data": {
      "application/vnd.jupyter.widget-view+json": {
       "model_id": "75d59409d61b43ce98c652c2e11c2cda",
       "version_major": 2,
       "version_minor": 0
      },
      "text/plain": [
       "Resizing images (rxrx3):   0%|          | 0/100 [00:00<?, ?it/s]"
      ]
     },
     "metadata": {},
     "output_type": "display_data"
    },
    {
     "name": "stdout",
     "output_type": "stream",
     "text": [
      "Processing batch 1251/1554\n"
     ]
    },
    {
     "data": {
      "application/vnd.jupyter.widget-view+json": {
       "model_id": "3c76b833c88a47f5b508237e2f2bf168",
       "version_major": 2,
       "version_minor": 0
      },
      "text/plain": [
       "Resizing images (rxrx3):   0%|          | 0/100 [00:00<?, ?it/s]"
      ]
     },
     "metadata": {},
     "output_type": "display_data"
    },
    {
     "name": "stdout",
     "output_type": "stream",
     "text": [
      "Processing batch 1252/1554\n"
     ]
    },
    {
     "data": {
      "application/vnd.jupyter.widget-view+json": {
       "model_id": "e54f6f6775de48268300f36e0933d9cd",
       "version_major": 2,
       "version_minor": 0
      },
      "text/plain": [
       "Resizing images (rxrx3):   0%|          | 0/100 [00:00<?, ?it/s]"
      ]
     },
     "metadata": {},
     "output_type": "display_data"
    },
    {
     "name": "stdout",
     "output_type": "stream",
     "text": [
      "Processing batch 1253/1554\n"
     ]
    },
    {
     "data": {
      "application/vnd.jupyter.widget-view+json": {
       "model_id": "0334ec0f04e94876a6a6b74e445d1e0d",
       "version_major": 2,
       "version_minor": 0
      },
      "text/plain": [
       "Resizing images (rxrx3):   0%|          | 0/100 [00:00<?, ?it/s]"
      ]
     },
     "metadata": {},
     "output_type": "display_data"
    },
    {
     "name": "stdout",
     "output_type": "stream",
     "text": [
      "Processing batch 1254/1554\n"
     ]
    },
    {
     "data": {
      "application/vnd.jupyter.widget-view+json": {
       "model_id": "f0c5d35282604e2a8935be9fb553a0e4",
       "version_major": 2,
       "version_minor": 0
      },
      "text/plain": [
       "Resizing images (rxrx3):   0%|          | 0/100 [00:00<?, ?it/s]"
      ]
     },
     "metadata": {},
     "output_type": "display_data"
    },
    {
     "name": "stdout",
     "output_type": "stream",
     "text": [
      "Processing batch 1255/1554\n"
     ]
    },
    {
     "data": {
      "application/vnd.jupyter.widget-view+json": {
       "model_id": "af52e68b10b7400aa4e3ea7c86d23af4",
       "version_major": 2,
       "version_minor": 0
      },
      "text/plain": [
       "Resizing images (rxrx3):   0%|          | 0/100 [00:00<?, ?it/s]"
      ]
     },
     "metadata": {},
     "output_type": "display_data"
    },
    {
     "name": "stdout",
     "output_type": "stream",
     "text": [
      "Processing batch 1256/1554\n"
     ]
    },
    {
     "data": {
      "application/vnd.jupyter.widget-view+json": {
       "model_id": "f97d8349aa7745deafc13625f7f761a7",
       "version_major": 2,
       "version_minor": 0
      },
      "text/plain": [
       "Resizing images (rxrx3):   0%|          | 0/100 [00:00<?, ?it/s]"
      ]
     },
     "metadata": {},
     "output_type": "display_data"
    },
    {
     "name": "stdout",
     "output_type": "stream",
     "text": [
      "Processing batch 1257/1554\n"
     ]
    },
    {
     "data": {
      "application/vnd.jupyter.widget-view+json": {
       "model_id": "8da45c80f1fe4d819dc30920efb1ace2",
       "version_major": 2,
       "version_minor": 0
      },
      "text/plain": [
       "Resizing images (rxrx3):   0%|          | 0/100 [00:00<?, ?it/s]"
      ]
     },
     "metadata": {},
     "output_type": "display_data"
    },
    {
     "name": "stdout",
     "output_type": "stream",
     "text": [
      "Processing batch 1258/1554\n"
     ]
    },
    {
     "data": {
      "application/vnd.jupyter.widget-view+json": {
       "model_id": "b8c6841f44ff4ca49977defc2c8c9047",
       "version_major": 2,
       "version_minor": 0
      },
      "text/plain": [
       "Resizing images (rxrx3):   0%|          | 0/100 [00:00<?, ?it/s]"
      ]
     },
     "metadata": {},
     "output_type": "display_data"
    },
    {
     "name": "stdout",
     "output_type": "stream",
     "text": [
      "Processing batch 1259/1554\n"
     ]
    },
    {
     "data": {
      "application/vnd.jupyter.widget-view+json": {
       "model_id": "c9ab29216d844226ad7795e6afbea84f",
       "version_major": 2,
       "version_minor": 0
      },
      "text/plain": [
       "Resizing images (rxrx3):   0%|          | 0/100 [00:00<?, ?it/s]"
      ]
     },
     "metadata": {},
     "output_type": "display_data"
    },
    {
     "name": "stdout",
     "output_type": "stream",
     "text": [
      "Processing batch 1260/1554\n"
     ]
    },
    {
     "data": {
      "application/vnd.jupyter.widget-view+json": {
       "model_id": "40eaec03d11b4dedbfb5302fd726af20",
       "version_major": 2,
       "version_minor": 0
      },
      "text/plain": [
       "Resizing images (rxrx3):   0%|          | 0/100 [00:00<?, ?it/s]"
      ]
     },
     "metadata": {},
     "output_type": "display_data"
    },
    {
     "name": "stdout",
     "output_type": "stream",
     "text": [
      "Processing batch 1261/1554\n"
     ]
    },
    {
     "data": {
      "application/vnd.jupyter.widget-view+json": {
       "model_id": "c0dfe72ab9874c05b7da840bf165b27f",
       "version_major": 2,
       "version_minor": 0
      },
      "text/plain": [
       "Resizing images (rxrx3):   0%|          | 0/100 [00:00<?, ?it/s]"
      ]
     },
     "metadata": {},
     "output_type": "display_data"
    },
    {
     "name": "stdout",
     "output_type": "stream",
     "text": [
      "Processing batch 1262/1554\n"
     ]
    },
    {
     "data": {
      "application/vnd.jupyter.widget-view+json": {
       "model_id": "d1537b3681ce41a789c37cacce30bc21",
       "version_major": 2,
       "version_minor": 0
      },
      "text/plain": [
       "Resizing images (rxrx3):   0%|          | 0/100 [00:00<?, ?it/s]"
      ]
     },
     "metadata": {},
     "output_type": "display_data"
    },
    {
     "name": "stdout",
     "output_type": "stream",
     "text": [
      "Processing batch 1263/1554\n"
     ]
    },
    {
     "data": {
      "application/vnd.jupyter.widget-view+json": {
       "model_id": "31fc0085627f4e4e991ad208a284e98c",
       "version_major": 2,
       "version_minor": 0
      },
      "text/plain": [
       "Resizing images (rxrx3):   0%|          | 0/100 [00:00<?, ?it/s]"
      ]
     },
     "metadata": {},
     "output_type": "display_data"
    },
    {
     "name": "stdout",
     "output_type": "stream",
     "text": [
      "Processing batch 1264/1554\n"
     ]
    },
    {
     "data": {
      "application/vnd.jupyter.widget-view+json": {
       "model_id": "9e234d9dbcfb46af98d4fcdc3334183b",
       "version_major": 2,
       "version_minor": 0
      },
      "text/plain": [
       "Resizing images (rxrx3):   0%|          | 0/100 [00:00<?, ?it/s]"
      ]
     },
     "metadata": {},
     "output_type": "display_data"
    },
    {
     "name": "stdout",
     "output_type": "stream",
     "text": [
      "Processing batch 1265/1554\n"
     ]
    },
    {
     "data": {
      "application/vnd.jupyter.widget-view+json": {
       "model_id": "38e69fd6d0384a9c9f2c7e488cac502f",
       "version_major": 2,
       "version_minor": 0
      },
      "text/plain": [
       "Resizing images (rxrx3):   0%|          | 0/100 [00:00<?, ?it/s]"
      ]
     },
     "metadata": {},
     "output_type": "display_data"
    },
    {
     "name": "stdout",
     "output_type": "stream",
     "text": [
      "Processing batch 1266/1554\n"
     ]
    },
    {
     "data": {
      "application/vnd.jupyter.widget-view+json": {
       "model_id": "577aa7312bc54f09804f38142ae7d9de",
       "version_major": 2,
       "version_minor": 0
      },
      "text/plain": [
       "Resizing images (rxrx3):   0%|          | 0/100 [00:00<?, ?it/s]"
      ]
     },
     "metadata": {},
     "output_type": "display_data"
    },
    {
     "name": "stdout",
     "output_type": "stream",
     "text": [
      "Processing batch 1267/1554\n"
     ]
    },
    {
     "data": {
      "application/vnd.jupyter.widget-view+json": {
       "model_id": "66a0b3827efd40ebb64435f4d55551cf",
       "version_major": 2,
       "version_minor": 0
      },
      "text/plain": [
       "Resizing images (rxrx3):   0%|          | 0/100 [00:00<?, ?it/s]"
      ]
     },
     "metadata": {},
     "output_type": "display_data"
    },
    {
     "name": "stdout",
     "output_type": "stream",
     "text": [
      "Processing batch 1268/1554\n"
     ]
    },
    {
     "data": {
      "application/vnd.jupyter.widget-view+json": {
       "model_id": "b625abfa39544b17b67dd69b9d835c69",
       "version_major": 2,
       "version_minor": 0
      },
      "text/plain": [
       "Resizing images (rxrx3):   0%|          | 0/100 [00:00<?, ?it/s]"
      ]
     },
     "metadata": {},
     "output_type": "display_data"
    },
    {
     "name": "stdout",
     "output_type": "stream",
     "text": [
      "Processing batch 1269/1554\n"
     ]
    },
    {
     "data": {
      "application/vnd.jupyter.widget-view+json": {
       "model_id": "82ed12acfcdf455fa7c8894527abc00e",
       "version_major": 2,
       "version_minor": 0
      },
      "text/plain": [
       "Resizing images (rxrx3):   0%|          | 0/100 [00:00<?, ?it/s]"
      ]
     },
     "metadata": {},
     "output_type": "display_data"
    },
    {
     "name": "stdout",
     "output_type": "stream",
     "text": [
      "Processing batch 1270/1554\n"
     ]
    },
    {
     "data": {
      "application/vnd.jupyter.widget-view+json": {
       "model_id": "5bf0bfa7487b4fa1acbd0b7a6290555e",
       "version_major": 2,
       "version_minor": 0
      },
      "text/plain": [
       "Resizing images (rxrx3):   0%|          | 0/100 [00:00<?, ?it/s]"
      ]
     },
     "metadata": {},
     "output_type": "display_data"
    },
    {
     "name": "stdout",
     "output_type": "stream",
     "text": [
      "Processing batch 1271/1554\n"
     ]
    },
    {
     "data": {
      "application/vnd.jupyter.widget-view+json": {
       "model_id": "3aa6970b2edd4015b5777d3279e010cb",
       "version_major": 2,
       "version_minor": 0
      },
      "text/plain": [
       "Resizing images (rxrx3):   0%|          | 0/100 [00:00<?, ?it/s]"
      ]
     },
     "metadata": {},
     "output_type": "display_data"
    },
    {
     "name": "stdout",
     "output_type": "stream",
     "text": [
      "Processing batch 1272/1554\n"
     ]
    },
    {
     "data": {
      "application/vnd.jupyter.widget-view+json": {
       "model_id": "2c0dc0bd8de74ab289b604526b6b24eb",
       "version_major": 2,
       "version_minor": 0
      },
      "text/plain": [
       "Resizing images (rxrx3):   0%|          | 0/100 [00:00<?, ?it/s]"
      ]
     },
     "metadata": {},
     "output_type": "display_data"
    },
    {
     "name": "stdout",
     "output_type": "stream",
     "text": [
      "Processing batch 1273/1554\n"
     ]
    },
    {
     "data": {
      "application/vnd.jupyter.widget-view+json": {
       "model_id": "3f67bad112c94508a35fd4fbc3114adb",
       "version_major": 2,
       "version_minor": 0
      },
      "text/plain": [
       "Resizing images (rxrx3):   0%|          | 0/100 [00:00<?, ?it/s]"
      ]
     },
     "metadata": {},
     "output_type": "display_data"
    },
    {
     "name": "stdout",
     "output_type": "stream",
     "text": [
      "Processing batch 1274/1554\n"
     ]
    },
    {
     "data": {
      "application/vnd.jupyter.widget-view+json": {
       "model_id": "b98083073fc942cfbb64ef4d9e9c301c",
       "version_major": 2,
       "version_minor": 0
      },
      "text/plain": [
       "Resizing images (rxrx3):   0%|          | 0/100 [00:00<?, ?it/s]"
      ]
     },
     "metadata": {},
     "output_type": "display_data"
    },
    {
     "name": "stdout",
     "output_type": "stream",
     "text": [
      "Processing batch 1275/1554\n"
     ]
    },
    {
     "data": {
      "application/vnd.jupyter.widget-view+json": {
       "model_id": "48868a2a30bb42bdb1f1d3faffe8d9a0",
       "version_major": 2,
       "version_minor": 0
      },
      "text/plain": [
       "Resizing images (rxrx3):   0%|          | 0/100 [00:00<?, ?it/s]"
      ]
     },
     "metadata": {},
     "output_type": "display_data"
    },
    {
     "name": "stdout",
     "output_type": "stream",
     "text": [
      "Processing batch 1276/1554\n"
     ]
    },
    {
     "data": {
      "application/vnd.jupyter.widget-view+json": {
       "model_id": "6aa7c405a0484471a11a83e0d61f98b3",
       "version_major": 2,
       "version_minor": 0
      },
      "text/plain": [
       "Resizing images (rxrx3):   0%|          | 0/100 [00:00<?, ?it/s]"
      ]
     },
     "metadata": {},
     "output_type": "display_data"
    },
    {
     "name": "stdout",
     "output_type": "stream",
     "text": [
      "Processing batch 1277/1554\n"
     ]
    },
    {
     "data": {
      "application/vnd.jupyter.widget-view+json": {
       "model_id": "0093efe103044e028a85f6f6a4bd2935",
       "version_major": 2,
       "version_minor": 0
      },
      "text/plain": [
       "Resizing images (rxrx3):   0%|          | 0/100 [00:00<?, ?it/s]"
      ]
     },
     "metadata": {},
     "output_type": "display_data"
    },
    {
     "name": "stdout",
     "output_type": "stream",
     "text": [
      "Processing batch 1278/1554\n"
     ]
    },
    {
     "data": {
      "application/vnd.jupyter.widget-view+json": {
       "model_id": "cc0f27207818497c8d1f60829574c1dd",
       "version_major": 2,
       "version_minor": 0
      },
      "text/plain": [
       "Resizing images (rxrx3):   0%|          | 0/100 [00:00<?, ?it/s]"
      ]
     },
     "metadata": {},
     "output_type": "display_data"
    },
    {
     "name": "stdout",
     "output_type": "stream",
     "text": [
      "Processing batch 1279/1554\n"
     ]
    },
    {
     "data": {
      "application/vnd.jupyter.widget-view+json": {
       "model_id": "c9ba55abc6af4454b9825b1d4e9c26a0",
       "version_major": 2,
       "version_minor": 0
      },
      "text/plain": [
       "Resizing images (rxrx3):   0%|          | 0/100 [00:00<?, ?it/s]"
      ]
     },
     "metadata": {},
     "output_type": "display_data"
    },
    {
     "name": "stdout",
     "output_type": "stream",
     "text": [
      "Processing batch 1280/1554\n"
     ]
    },
    {
     "data": {
      "application/vnd.jupyter.widget-view+json": {
       "model_id": "05bb40923a584544ae547eeebb5ea25a",
       "version_major": 2,
       "version_minor": 0
      },
      "text/plain": [
       "Resizing images (rxrx3):   0%|          | 0/100 [00:00<?, ?it/s]"
      ]
     },
     "metadata": {},
     "output_type": "display_data"
    },
    {
     "name": "stdout",
     "output_type": "stream",
     "text": [
      "Processing batch 1281/1554\n"
     ]
    },
    {
     "data": {
      "application/vnd.jupyter.widget-view+json": {
       "model_id": "49ceff2b8a814bc8a39a612d2c76cd9a",
       "version_major": 2,
       "version_minor": 0
      },
      "text/plain": [
       "Resizing images (rxrx3):   0%|          | 0/100 [00:00<?, ?it/s]"
      ]
     },
     "metadata": {},
     "output_type": "display_data"
    },
    {
     "name": "stdout",
     "output_type": "stream",
     "text": [
      "Processing batch 1282/1554\n"
     ]
    },
    {
     "data": {
      "application/vnd.jupyter.widget-view+json": {
       "model_id": "75f69b3a0a23450da4750ccd548e470a",
       "version_major": 2,
       "version_minor": 0
      },
      "text/plain": [
       "Resizing images (rxrx3):   0%|          | 0/100 [00:00<?, ?it/s]"
      ]
     },
     "metadata": {},
     "output_type": "display_data"
    },
    {
     "name": "stdout",
     "output_type": "stream",
     "text": [
      "Processing batch 1283/1554\n"
     ]
    },
    {
     "data": {
      "application/vnd.jupyter.widget-view+json": {
       "model_id": "28a9fc8dc27a427b8e51c20c110ea768",
       "version_major": 2,
       "version_minor": 0
      },
      "text/plain": [
       "Resizing images (rxrx3):   0%|          | 0/100 [00:00<?, ?it/s]"
      ]
     },
     "metadata": {},
     "output_type": "display_data"
    },
    {
     "name": "stdout",
     "output_type": "stream",
     "text": [
      "Processing batch 1284/1554\n"
     ]
    },
    {
     "data": {
      "application/vnd.jupyter.widget-view+json": {
       "model_id": "1f56fd0136824fb79d4b5b96490edf48",
       "version_major": 2,
       "version_minor": 0
      },
      "text/plain": [
       "Resizing images (rxrx3):   0%|          | 0/100 [00:00<?, ?it/s]"
      ]
     },
     "metadata": {},
     "output_type": "display_data"
    },
    {
     "name": "stdout",
     "output_type": "stream",
     "text": [
      "Processing batch 1285/1554\n"
     ]
    },
    {
     "data": {
      "application/vnd.jupyter.widget-view+json": {
       "model_id": "51434b0b428e4d59a59793298a398d77",
       "version_major": 2,
       "version_minor": 0
      },
      "text/plain": [
       "Resizing images (rxrx3):   0%|          | 0/100 [00:00<?, ?it/s]"
      ]
     },
     "metadata": {},
     "output_type": "display_data"
    },
    {
     "name": "stdout",
     "output_type": "stream",
     "text": [
      "Processing batch 1286/1554\n"
     ]
    },
    {
     "data": {
      "application/vnd.jupyter.widget-view+json": {
       "model_id": "02e2718bc70742c2bb730a6ac2eee66b",
       "version_major": 2,
       "version_minor": 0
      },
      "text/plain": [
       "Resizing images (rxrx3):   0%|          | 0/100 [00:00<?, ?it/s]"
      ]
     },
     "metadata": {},
     "output_type": "display_data"
    },
    {
     "name": "stdout",
     "output_type": "stream",
     "text": [
      "Processing batch 1287/1554\n"
     ]
    },
    {
     "data": {
      "application/vnd.jupyter.widget-view+json": {
       "model_id": "9b68111427344cd18024dc649e62a486",
       "version_major": 2,
       "version_minor": 0
      },
      "text/plain": [
       "Resizing images (rxrx3):   0%|          | 0/100 [00:00<?, ?it/s]"
      ]
     },
     "metadata": {},
     "output_type": "display_data"
    },
    {
     "name": "stdout",
     "output_type": "stream",
     "text": [
      "Processing batch 1288/1554\n"
     ]
    },
    {
     "data": {
      "application/vnd.jupyter.widget-view+json": {
       "model_id": "c8afa633c6b040ebae32a1c4277be901",
       "version_major": 2,
       "version_minor": 0
      },
      "text/plain": [
       "Resizing images (rxrx3):   0%|          | 0/100 [00:00<?, ?it/s]"
      ]
     },
     "metadata": {},
     "output_type": "display_data"
    },
    {
     "name": "stdout",
     "output_type": "stream",
     "text": [
      "Processing batch 1289/1554\n"
     ]
    },
    {
     "data": {
      "application/vnd.jupyter.widget-view+json": {
       "model_id": "2f31f3420eb14e6f8d7087c1edc9c90c",
       "version_major": 2,
       "version_minor": 0
      },
      "text/plain": [
       "Resizing images (rxrx3):   0%|          | 0/100 [00:00<?, ?it/s]"
      ]
     },
     "metadata": {},
     "output_type": "display_data"
    },
    {
     "name": "stdout",
     "output_type": "stream",
     "text": [
      "Processing batch 1290/1554\n"
     ]
    },
    {
     "data": {
      "application/vnd.jupyter.widget-view+json": {
       "model_id": "6c367524985140718268712131d8f027",
       "version_major": 2,
       "version_minor": 0
      },
      "text/plain": [
       "Resizing images (rxrx3):   0%|          | 0/100 [00:00<?, ?it/s]"
      ]
     },
     "metadata": {},
     "output_type": "display_data"
    },
    {
     "name": "stdout",
     "output_type": "stream",
     "text": [
      "Processing batch 1291/1554\n"
     ]
    },
    {
     "data": {
      "application/vnd.jupyter.widget-view+json": {
       "model_id": "c38f7451716e438d922e391abed4b198",
       "version_major": 2,
       "version_minor": 0
      },
      "text/plain": [
       "Resizing images (rxrx3):   0%|          | 0/100 [00:00<?, ?it/s]"
      ]
     },
     "metadata": {},
     "output_type": "display_data"
    },
    {
     "name": "stdout",
     "output_type": "stream",
     "text": [
      "Processing batch 1292/1554\n"
     ]
    },
    {
     "data": {
      "application/vnd.jupyter.widget-view+json": {
       "model_id": "2902eab671ec42f6b6bf509c5d1e701c",
       "version_major": 2,
       "version_minor": 0
      },
      "text/plain": [
       "Resizing images (rxrx3):   0%|          | 0/100 [00:00<?, ?it/s]"
      ]
     },
     "metadata": {},
     "output_type": "display_data"
    },
    {
     "name": "stdout",
     "output_type": "stream",
     "text": [
      "Processing batch 1293/1554\n"
     ]
    },
    {
     "data": {
      "application/vnd.jupyter.widget-view+json": {
       "model_id": "ceb2b6f713684de78f7cad729f153475",
       "version_major": 2,
       "version_minor": 0
      },
      "text/plain": [
       "Resizing images (rxrx3):   0%|          | 0/100 [00:00<?, ?it/s]"
      ]
     },
     "metadata": {},
     "output_type": "display_data"
    },
    {
     "name": "stdout",
     "output_type": "stream",
     "text": [
      "Processing batch 1294/1554\n"
     ]
    },
    {
     "data": {
      "application/vnd.jupyter.widget-view+json": {
       "model_id": "b96d155f78d54d2aa716782027489595",
       "version_major": 2,
       "version_minor": 0
      },
      "text/plain": [
       "Resizing images (rxrx3):   0%|          | 0/100 [00:00<?, ?it/s]"
      ]
     },
     "metadata": {},
     "output_type": "display_data"
    },
    {
     "name": "stdout",
     "output_type": "stream",
     "text": [
      "Processing batch 1295/1554\n"
     ]
    },
    {
     "data": {
      "application/vnd.jupyter.widget-view+json": {
       "model_id": "25a1cbef167b4e49a53f78783e29f3b3",
       "version_major": 2,
       "version_minor": 0
      },
      "text/plain": [
       "Resizing images (rxrx3):   0%|          | 0/100 [00:00<?, ?it/s]"
      ]
     },
     "metadata": {},
     "output_type": "display_data"
    },
    {
     "name": "stdout",
     "output_type": "stream",
     "text": [
      "Processing batch 1296/1554\n"
     ]
    },
    {
     "data": {
      "application/vnd.jupyter.widget-view+json": {
       "model_id": "f4d8bb850e274d44a9e21f066e8c820a",
       "version_major": 2,
       "version_minor": 0
      },
      "text/plain": [
       "Resizing images (rxrx3):   0%|          | 0/100 [00:00<?, ?it/s]"
      ]
     },
     "metadata": {},
     "output_type": "display_data"
    },
    {
     "name": "stdout",
     "output_type": "stream",
     "text": [
      "Processing batch 1297/1554\n"
     ]
    },
    {
     "data": {
      "application/vnd.jupyter.widget-view+json": {
       "model_id": "5012f9edad444dafa6d534afc5eaca07",
       "version_major": 2,
       "version_minor": 0
      },
      "text/plain": [
       "Resizing images (rxrx3):   0%|          | 0/100 [00:00<?, ?it/s]"
      ]
     },
     "metadata": {},
     "output_type": "display_data"
    },
    {
     "name": "stdout",
     "output_type": "stream",
     "text": [
      "Processing batch 1298/1554\n"
     ]
    },
    {
     "data": {
      "application/vnd.jupyter.widget-view+json": {
       "model_id": "e1e236503d134a3aa31c6dd332f683be",
       "version_major": 2,
       "version_minor": 0
      },
      "text/plain": [
       "Resizing images (rxrx3):   0%|          | 0/100 [00:00<?, ?it/s]"
      ]
     },
     "metadata": {},
     "output_type": "display_data"
    },
    {
     "name": "stdout",
     "output_type": "stream",
     "text": [
      "Processing batch 1299/1554\n"
     ]
    },
    {
     "data": {
      "application/vnd.jupyter.widget-view+json": {
       "model_id": "c88015cd8fdd4c16a8f5d4554fedb444",
       "version_major": 2,
       "version_minor": 0
      },
      "text/plain": [
       "Resizing images (rxrx3):   0%|          | 0/100 [00:00<?, ?it/s]"
      ]
     },
     "metadata": {},
     "output_type": "display_data"
    },
    {
     "name": "stdout",
     "output_type": "stream",
     "text": [
      "Processing batch 1300/1554\n"
     ]
    },
    {
     "data": {
      "application/vnd.jupyter.widget-view+json": {
       "model_id": "995064136c8c4258878f3fe95b0e195e",
       "version_major": 2,
       "version_minor": 0
      },
      "text/plain": [
       "Resizing images (rxrx3):   0%|          | 0/100 [00:00<?, ?it/s]"
      ]
     },
     "metadata": {},
     "output_type": "display_data"
    },
    {
     "name": "stdout",
     "output_type": "stream",
     "text": [
      "Processing batch 1301/1554\n"
     ]
    },
    {
     "data": {
      "application/vnd.jupyter.widget-view+json": {
       "model_id": "9afc1cb9bcf84f68b655836e26ae639f",
       "version_major": 2,
       "version_minor": 0
      },
      "text/plain": [
       "Resizing images (rxrx3):   0%|          | 0/100 [00:00<?, ?it/s]"
      ]
     },
     "metadata": {},
     "output_type": "display_data"
    },
    {
     "name": "stdout",
     "output_type": "stream",
     "text": [
      "Processing batch 1302/1554\n"
     ]
    },
    {
     "data": {
      "application/vnd.jupyter.widget-view+json": {
       "model_id": "664af3569a444041988f791a79949a48",
       "version_major": 2,
       "version_minor": 0
      },
      "text/plain": [
       "Resizing images (rxrx3):   0%|          | 0/100 [00:00<?, ?it/s]"
      ]
     },
     "metadata": {},
     "output_type": "display_data"
    },
    {
     "name": "stdout",
     "output_type": "stream",
     "text": [
      "Processing batch 1303/1554\n"
     ]
    },
    {
     "data": {
      "application/vnd.jupyter.widget-view+json": {
       "model_id": "f2f0c8ae6b24415db519d68871f7cb59",
       "version_major": 2,
       "version_minor": 0
      },
      "text/plain": [
       "Resizing images (rxrx3):   0%|          | 0/100 [00:00<?, ?it/s]"
      ]
     },
     "metadata": {},
     "output_type": "display_data"
    },
    {
     "name": "stdout",
     "output_type": "stream",
     "text": [
      "Processing batch 1304/1554\n"
     ]
    },
    {
     "data": {
      "application/vnd.jupyter.widget-view+json": {
       "model_id": "e9d60c7404b64b62a08d2e5c5273b120",
       "version_major": 2,
       "version_minor": 0
      },
      "text/plain": [
       "Resizing images (rxrx3):   0%|          | 0/100 [00:00<?, ?it/s]"
      ]
     },
     "metadata": {},
     "output_type": "display_data"
    },
    {
     "name": "stdout",
     "output_type": "stream",
     "text": [
      "Processing batch 1305/1554\n"
     ]
    },
    {
     "data": {
      "application/vnd.jupyter.widget-view+json": {
       "model_id": "f5d0a047d8a549e7b0c5584c4e4141fa",
       "version_major": 2,
       "version_minor": 0
      },
      "text/plain": [
       "Resizing images (rxrx3):   0%|          | 0/100 [00:00<?, ?it/s]"
      ]
     },
     "metadata": {},
     "output_type": "display_data"
    },
    {
     "name": "stdout",
     "output_type": "stream",
     "text": [
      "Processing batch 1306/1554\n"
     ]
    },
    {
     "data": {
      "application/vnd.jupyter.widget-view+json": {
       "model_id": "c5a27682eb6641a5baeba1d6b5a4dc84",
       "version_major": 2,
       "version_minor": 0
      },
      "text/plain": [
       "Resizing images (rxrx3):   0%|          | 0/100 [00:00<?, ?it/s]"
      ]
     },
     "metadata": {},
     "output_type": "display_data"
    },
    {
     "name": "stdout",
     "output_type": "stream",
     "text": [
      "Processing batch 1307/1554\n"
     ]
    },
    {
     "data": {
      "application/vnd.jupyter.widget-view+json": {
       "model_id": "250ddef21bc84cb7b52f6a2c93697c8e",
       "version_major": 2,
       "version_minor": 0
      },
      "text/plain": [
       "Resizing images (rxrx3):   0%|          | 0/100 [00:00<?, ?it/s]"
      ]
     },
     "metadata": {},
     "output_type": "display_data"
    },
    {
     "name": "stdout",
     "output_type": "stream",
     "text": [
      "Processing batch 1308/1554\n"
     ]
    },
    {
     "data": {
      "application/vnd.jupyter.widget-view+json": {
       "model_id": "081c3109df6e41a4804e0c8cef67f699",
       "version_major": 2,
       "version_minor": 0
      },
      "text/plain": [
       "Resizing images (rxrx3):   0%|          | 0/100 [00:00<?, ?it/s]"
      ]
     },
     "metadata": {},
     "output_type": "display_data"
    },
    {
     "name": "stdout",
     "output_type": "stream",
     "text": [
      "Processing batch 1309/1554\n"
     ]
    },
    {
     "data": {
      "application/vnd.jupyter.widget-view+json": {
       "model_id": "fc866c8c88f24a8aa099d7531cf12355",
       "version_major": 2,
       "version_minor": 0
      },
      "text/plain": [
       "Resizing images (rxrx3):   0%|          | 0/100 [00:00<?, ?it/s]"
      ]
     },
     "metadata": {},
     "output_type": "display_data"
    },
    {
     "name": "stdout",
     "output_type": "stream",
     "text": [
      "Processing batch 1310/1554\n"
     ]
    },
    {
     "data": {
      "application/vnd.jupyter.widget-view+json": {
       "model_id": "96850544d2e64704a36f3f0f579785ca",
       "version_major": 2,
       "version_minor": 0
      },
      "text/plain": [
       "Resizing images (rxrx3):   0%|          | 0/100 [00:00<?, ?it/s]"
      ]
     },
     "metadata": {},
     "output_type": "display_data"
    },
    {
     "name": "stdout",
     "output_type": "stream",
     "text": [
      "Processing batch 1311/1554\n"
     ]
    },
    {
     "data": {
      "application/vnd.jupyter.widget-view+json": {
       "model_id": "4c561a0d34dd4fd08d561c878c732334",
       "version_major": 2,
       "version_minor": 0
      },
      "text/plain": [
       "Resizing images (rxrx3):   0%|          | 0/100 [00:00<?, ?it/s]"
      ]
     },
     "metadata": {},
     "output_type": "display_data"
    },
    {
     "name": "stdout",
     "output_type": "stream",
     "text": [
      "Processing batch 1312/1554\n"
     ]
    },
    {
     "data": {
      "application/vnd.jupyter.widget-view+json": {
       "model_id": "77c18f687cb24b04ae678794a01eddfe",
       "version_major": 2,
       "version_minor": 0
      },
      "text/plain": [
       "Resizing images (rxrx3):   0%|          | 0/100 [00:00<?, ?it/s]"
      ]
     },
     "metadata": {},
     "output_type": "display_data"
    },
    {
     "name": "stdout",
     "output_type": "stream",
     "text": [
      "Processing batch 1313/1554\n"
     ]
    },
    {
     "data": {
      "application/vnd.jupyter.widget-view+json": {
       "model_id": "e0facd1d246544f09c2dd8499586138f",
       "version_major": 2,
       "version_minor": 0
      },
      "text/plain": [
       "Resizing images (rxrx3):   0%|          | 0/100 [00:00<?, ?it/s]"
      ]
     },
     "metadata": {},
     "output_type": "display_data"
    },
    {
     "name": "stdout",
     "output_type": "stream",
     "text": [
      "Processing batch 1314/1554\n"
     ]
    },
    {
     "data": {
      "application/vnd.jupyter.widget-view+json": {
       "model_id": "d88663a2ef354677a6d17f04929ac1ec",
       "version_major": 2,
       "version_minor": 0
      },
      "text/plain": [
       "Resizing images (rxrx3):   0%|          | 0/100 [00:00<?, ?it/s]"
      ]
     },
     "metadata": {},
     "output_type": "display_data"
    },
    {
     "name": "stdout",
     "output_type": "stream",
     "text": [
      "Processing batch 1315/1554\n"
     ]
    },
    {
     "data": {
      "application/vnd.jupyter.widget-view+json": {
       "model_id": "5681be05c333414991d7f15641c6b054",
       "version_major": 2,
       "version_minor": 0
      },
      "text/plain": [
       "Resizing images (rxrx3):   0%|          | 0/100 [00:00<?, ?it/s]"
      ]
     },
     "metadata": {},
     "output_type": "display_data"
    },
    {
     "name": "stdout",
     "output_type": "stream",
     "text": [
      "Processing batch 1316/1554\n"
     ]
    },
    {
     "data": {
      "application/vnd.jupyter.widget-view+json": {
       "model_id": "5bc66510731f42af992ccc48c7982e3a",
       "version_major": 2,
       "version_minor": 0
      },
      "text/plain": [
       "Resizing images (rxrx3):   0%|          | 0/100 [00:00<?, ?it/s]"
      ]
     },
     "metadata": {},
     "output_type": "display_data"
    },
    {
     "name": "stdout",
     "output_type": "stream",
     "text": [
      "Processing batch 1317/1554\n"
     ]
    },
    {
     "data": {
      "application/vnd.jupyter.widget-view+json": {
       "model_id": "cb15afc240734cb5bb02f94d64ba6cfa",
       "version_major": 2,
       "version_minor": 0
      },
      "text/plain": [
       "Resizing images (rxrx3):   0%|          | 0/100 [00:00<?, ?it/s]"
      ]
     },
     "metadata": {},
     "output_type": "display_data"
    },
    {
     "name": "stdout",
     "output_type": "stream",
     "text": [
      "Processing batch 1318/1554\n"
     ]
    },
    {
     "data": {
      "application/vnd.jupyter.widget-view+json": {
       "model_id": "13f75a7604c4484daaf1c6098ab5dd4a",
       "version_major": 2,
       "version_minor": 0
      },
      "text/plain": [
       "Resizing images (rxrx3):   0%|          | 0/100 [00:00<?, ?it/s]"
      ]
     },
     "metadata": {},
     "output_type": "display_data"
    },
    {
     "name": "stdout",
     "output_type": "stream",
     "text": [
      "Processing batch 1319/1554\n"
     ]
    },
    {
     "data": {
      "application/vnd.jupyter.widget-view+json": {
       "model_id": "912ed294c1f7420eb7d73df9abdb4019",
       "version_major": 2,
       "version_minor": 0
      },
      "text/plain": [
       "Resizing images (rxrx3):   0%|          | 0/100 [00:00<?, ?it/s]"
      ]
     },
     "metadata": {},
     "output_type": "display_data"
    },
    {
     "name": "stdout",
     "output_type": "stream",
     "text": [
      "Processing batch 1320/1554\n"
     ]
    },
    {
     "data": {
      "application/vnd.jupyter.widget-view+json": {
       "model_id": "8c4a33883ced4f27bdd91d05be63b78f",
       "version_major": 2,
       "version_minor": 0
      },
      "text/plain": [
       "Resizing images (rxrx3):   0%|          | 0/100 [00:00<?, ?it/s]"
      ]
     },
     "metadata": {},
     "output_type": "display_data"
    },
    {
     "name": "stdout",
     "output_type": "stream",
     "text": [
      "Processing batch 1321/1554\n"
     ]
    },
    {
     "data": {
      "application/vnd.jupyter.widget-view+json": {
       "model_id": "543146b0f7e4457991f8ea97d64ce164",
       "version_major": 2,
       "version_minor": 0
      },
      "text/plain": [
       "Resizing images (rxrx3):   0%|          | 0/100 [00:00<?, ?it/s]"
      ]
     },
     "metadata": {},
     "output_type": "display_data"
    },
    {
     "name": "stdout",
     "output_type": "stream",
     "text": [
      "Processing batch 1322/1554\n"
     ]
    },
    {
     "data": {
      "application/vnd.jupyter.widget-view+json": {
       "model_id": "3d8aedd32c7e4dd5bd2085c59abd4d5b",
       "version_major": 2,
       "version_minor": 0
      },
      "text/plain": [
       "Resizing images (rxrx3):   0%|          | 0/100 [00:00<?, ?it/s]"
      ]
     },
     "metadata": {},
     "output_type": "display_data"
    },
    {
     "name": "stdout",
     "output_type": "stream",
     "text": [
      "Processing batch 1323/1554\n"
     ]
    },
    {
     "data": {
      "application/vnd.jupyter.widget-view+json": {
       "model_id": "823bb422eb7d433d9f034480f2d01693",
       "version_major": 2,
       "version_minor": 0
      },
      "text/plain": [
       "Resizing images (rxrx3):   0%|          | 0/100 [00:00<?, ?it/s]"
      ]
     },
     "metadata": {},
     "output_type": "display_data"
    },
    {
     "name": "stdout",
     "output_type": "stream",
     "text": [
      "Processing batch 1324/1554\n"
     ]
    },
    {
     "data": {
      "application/vnd.jupyter.widget-view+json": {
       "model_id": "e01140e4556542139f2ab5a3d4206214",
       "version_major": 2,
       "version_minor": 0
      },
      "text/plain": [
       "Resizing images (rxrx3):   0%|          | 0/100 [00:00<?, ?it/s]"
      ]
     },
     "metadata": {},
     "output_type": "display_data"
    },
    {
     "name": "stdout",
     "output_type": "stream",
     "text": [
      "Processing batch 1325/1554\n"
     ]
    },
    {
     "data": {
      "application/vnd.jupyter.widget-view+json": {
       "model_id": "4d7f112077f945f58240bdac347fc9fd",
       "version_major": 2,
       "version_minor": 0
      },
      "text/plain": [
       "Resizing images (rxrx3):   0%|          | 0/100 [00:00<?, ?it/s]"
      ]
     },
     "metadata": {},
     "output_type": "display_data"
    },
    {
     "name": "stdout",
     "output_type": "stream",
     "text": [
      "Processing batch 1326/1554\n"
     ]
    },
    {
     "data": {
      "application/vnd.jupyter.widget-view+json": {
       "model_id": "ca175f5359c14a798bb709dde08f4c47",
       "version_major": 2,
       "version_minor": 0
      },
      "text/plain": [
       "Resizing images (rxrx3):   0%|          | 0/100 [00:00<?, ?it/s]"
      ]
     },
     "metadata": {},
     "output_type": "display_data"
    },
    {
     "name": "stdout",
     "output_type": "stream",
     "text": [
      "Processing batch 1327/1554\n"
     ]
    },
    {
     "data": {
      "application/vnd.jupyter.widget-view+json": {
       "model_id": "9430d77cbbaa46eda536782cd25eea68",
       "version_major": 2,
       "version_minor": 0
      },
      "text/plain": [
       "Resizing images (rxrx3):   0%|          | 0/100 [00:00<?, ?it/s]"
      ]
     },
     "metadata": {},
     "output_type": "display_data"
    },
    {
     "name": "stdout",
     "output_type": "stream",
     "text": [
      "Processing batch 1328/1554\n"
     ]
    },
    {
     "data": {
      "application/vnd.jupyter.widget-view+json": {
       "model_id": "16cc6abbdc6f4597aca5160fcf7d07a4",
       "version_major": 2,
       "version_minor": 0
      },
      "text/plain": [
       "Resizing images (rxrx3):   0%|          | 0/100 [00:00<?, ?it/s]"
      ]
     },
     "metadata": {},
     "output_type": "display_data"
    },
    {
     "name": "stdout",
     "output_type": "stream",
     "text": [
      "Processing batch 1329/1554\n"
     ]
    },
    {
     "data": {
      "application/vnd.jupyter.widget-view+json": {
       "model_id": "13bdb80e88ac4855845cb3442862f244",
       "version_major": 2,
       "version_minor": 0
      },
      "text/plain": [
       "Resizing images (rxrx3):   0%|          | 0/100 [00:00<?, ?it/s]"
      ]
     },
     "metadata": {},
     "output_type": "display_data"
    },
    {
     "name": "stdout",
     "output_type": "stream",
     "text": [
      "Processing batch 1330/1554\n"
     ]
    },
    {
     "data": {
      "application/vnd.jupyter.widget-view+json": {
       "model_id": "5b6205ea68014d6698096d82c480fdb2",
       "version_major": 2,
       "version_minor": 0
      },
      "text/plain": [
       "Resizing images (rxrx3):   0%|          | 0/100 [00:00<?, ?it/s]"
      ]
     },
     "metadata": {},
     "output_type": "display_data"
    },
    {
     "name": "stdout",
     "output_type": "stream",
     "text": [
      "Processing batch 1331/1554\n"
     ]
    },
    {
     "data": {
      "application/vnd.jupyter.widget-view+json": {
       "model_id": "ec2f0dffe0ab4a4886e6d1a3e6384931",
       "version_major": 2,
       "version_minor": 0
      },
      "text/plain": [
       "Resizing images (rxrx3):   0%|          | 0/100 [00:00<?, ?it/s]"
      ]
     },
     "metadata": {},
     "output_type": "display_data"
    },
    {
     "name": "stdout",
     "output_type": "stream",
     "text": [
      "Processing batch 1332/1554\n"
     ]
    },
    {
     "data": {
      "application/vnd.jupyter.widget-view+json": {
       "model_id": "87ae28cffbec42bd9819d38fdbafb65f",
       "version_major": 2,
       "version_minor": 0
      },
      "text/plain": [
       "Resizing images (rxrx3):   0%|          | 0/100 [00:00<?, ?it/s]"
      ]
     },
     "metadata": {},
     "output_type": "display_data"
    },
    {
     "name": "stdout",
     "output_type": "stream",
     "text": [
      "Processing batch 1333/1554\n"
     ]
    },
    {
     "data": {
      "application/vnd.jupyter.widget-view+json": {
       "model_id": "d9a78dc51b504c62b5ce5bfec86cfce7",
       "version_major": 2,
       "version_minor": 0
      },
      "text/plain": [
       "Resizing images (rxrx3):   0%|          | 0/100 [00:00<?, ?it/s]"
      ]
     },
     "metadata": {},
     "output_type": "display_data"
    },
    {
     "name": "stdout",
     "output_type": "stream",
     "text": [
      "Processing batch 1334/1554\n"
     ]
    },
    {
     "data": {
      "application/vnd.jupyter.widget-view+json": {
       "model_id": "4b30374381a94924ab949346424d67d0",
       "version_major": 2,
       "version_minor": 0
      },
      "text/plain": [
       "Resizing images (rxrx3):   0%|          | 0/100 [00:00<?, ?it/s]"
      ]
     },
     "metadata": {},
     "output_type": "display_data"
    },
    {
     "name": "stdout",
     "output_type": "stream",
     "text": [
      "Processing batch 1335/1554\n"
     ]
    },
    {
     "data": {
      "application/vnd.jupyter.widget-view+json": {
       "model_id": "b230bd2120e1423fa089124de7556caf",
       "version_major": 2,
       "version_minor": 0
      },
      "text/plain": [
       "Resizing images (rxrx3):   0%|          | 0/100 [00:00<?, ?it/s]"
      ]
     },
     "metadata": {},
     "output_type": "display_data"
    },
    {
     "name": "stdout",
     "output_type": "stream",
     "text": [
      "Processing batch 1336/1554\n"
     ]
    },
    {
     "data": {
      "application/vnd.jupyter.widget-view+json": {
       "model_id": "a78d17c726e54f00831f95ac113b4c4b",
       "version_major": 2,
       "version_minor": 0
      },
      "text/plain": [
       "Resizing images (rxrx3):   0%|          | 0/100 [00:00<?, ?it/s]"
      ]
     },
     "metadata": {},
     "output_type": "display_data"
    },
    {
     "name": "stdout",
     "output_type": "stream",
     "text": [
      "Processing batch 1337/1554\n"
     ]
    },
    {
     "data": {
      "application/vnd.jupyter.widget-view+json": {
       "model_id": "cb0a348cd21a4cd19ee050c209c32239",
       "version_major": 2,
       "version_minor": 0
      },
      "text/plain": [
       "Resizing images (rxrx3):   0%|          | 0/100 [00:00<?, ?it/s]"
      ]
     },
     "metadata": {},
     "output_type": "display_data"
    },
    {
     "name": "stdout",
     "output_type": "stream",
     "text": [
      "Processing batch 1338/1554\n"
     ]
    },
    {
     "data": {
      "application/vnd.jupyter.widget-view+json": {
       "model_id": "0e1f906f77ba4cbca4c04498e1c1b0dd",
       "version_major": 2,
       "version_minor": 0
      },
      "text/plain": [
       "Resizing images (rxrx3):   0%|          | 0/100 [00:00<?, ?it/s]"
      ]
     },
     "metadata": {},
     "output_type": "display_data"
    },
    {
     "name": "stdout",
     "output_type": "stream",
     "text": [
      "Processing batch 1339/1554\n"
     ]
    },
    {
     "data": {
      "application/vnd.jupyter.widget-view+json": {
       "model_id": "e5feaf0d8f91491ea1b4c79fd6de2c4f",
       "version_major": 2,
       "version_minor": 0
      },
      "text/plain": [
       "Resizing images (rxrx3):   0%|          | 0/100 [00:00<?, ?it/s]"
      ]
     },
     "metadata": {},
     "output_type": "display_data"
    },
    {
     "name": "stdout",
     "output_type": "stream",
     "text": [
      "Processing batch 1340/1554\n"
     ]
    },
    {
     "data": {
      "application/vnd.jupyter.widget-view+json": {
       "model_id": "1905976e6c2d41de86b645e9c395face",
       "version_major": 2,
       "version_minor": 0
      },
      "text/plain": [
       "Resizing images (rxrx3):   0%|          | 0/100 [00:00<?, ?it/s]"
      ]
     },
     "metadata": {},
     "output_type": "display_data"
    },
    {
     "name": "stdout",
     "output_type": "stream",
     "text": [
      "Processing batch 1341/1554\n"
     ]
    },
    {
     "data": {
      "application/vnd.jupyter.widget-view+json": {
       "model_id": "3016c057bb924ff38f65f9cd2d6e6f00",
       "version_major": 2,
       "version_minor": 0
      },
      "text/plain": [
       "Resizing images (rxrx3):   0%|          | 0/100 [00:00<?, ?it/s]"
      ]
     },
     "metadata": {},
     "output_type": "display_data"
    },
    {
     "name": "stdout",
     "output_type": "stream",
     "text": [
      "Processing batch 1342/1554\n"
     ]
    },
    {
     "data": {
      "application/vnd.jupyter.widget-view+json": {
       "model_id": "da789def040b481e9b61de5cdaed3e0e",
       "version_major": 2,
       "version_minor": 0
      },
      "text/plain": [
       "Resizing images (rxrx3):   0%|          | 0/100 [00:00<?, ?it/s]"
      ]
     },
     "metadata": {},
     "output_type": "display_data"
    },
    {
     "name": "stdout",
     "output_type": "stream",
     "text": [
      "Processing batch 1343/1554\n"
     ]
    },
    {
     "data": {
      "application/vnd.jupyter.widget-view+json": {
       "model_id": "e24ca8e594114adeb5edbfc93d6df2ce",
       "version_major": 2,
       "version_minor": 0
      },
      "text/plain": [
       "Resizing images (rxrx3):   0%|          | 0/100 [00:00<?, ?it/s]"
      ]
     },
     "metadata": {},
     "output_type": "display_data"
    },
    {
     "name": "stdout",
     "output_type": "stream",
     "text": [
      "Processing batch 1344/1554\n"
     ]
    },
    {
     "data": {
      "application/vnd.jupyter.widget-view+json": {
       "model_id": "a37bcdc325da412cbf0a9bdf084d8c7c",
       "version_major": 2,
       "version_minor": 0
      },
      "text/plain": [
       "Resizing images (rxrx3):   0%|          | 0/100 [00:00<?, ?it/s]"
      ]
     },
     "metadata": {},
     "output_type": "display_data"
    },
    {
     "name": "stdout",
     "output_type": "stream",
     "text": [
      "Processing batch 1345/1554\n"
     ]
    },
    {
     "data": {
      "application/vnd.jupyter.widget-view+json": {
       "model_id": "0bfb2ab82f634d949d6b5c1e905a1b8f",
       "version_major": 2,
       "version_minor": 0
      },
      "text/plain": [
       "Resizing images (rxrx3):   0%|          | 0/100 [00:00<?, ?it/s]"
      ]
     },
     "metadata": {},
     "output_type": "display_data"
    },
    {
     "name": "stdout",
     "output_type": "stream",
     "text": [
      "Processing batch 1346/1554\n"
     ]
    },
    {
     "data": {
      "application/vnd.jupyter.widget-view+json": {
       "model_id": "68ab7022e5f84ed890de827c138b6652",
       "version_major": 2,
       "version_minor": 0
      },
      "text/plain": [
       "Resizing images (rxrx3):   0%|          | 0/100 [00:00<?, ?it/s]"
      ]
     },
     "metadata": {},
     "output_type": "display_data"
    },
    {
     "name": "stdout",
     "output_type": "stream",
     "text": [
      "Processing batch 1347/1554\n"
     ]
    },
    {
     "data": {
      "application/vnd.jupyter.widget-view+json": {
       "model_id": "633e6117d65640139d741d631aadad98",
       "version_major": 2,
       "version_minor": 0
      },
      "text/plain": [
       "Resizing images (rxrx3):   0%|          | 0/100 [00:00<?, ?it/s]"
      ]
     },
     "metadata": {},
     "output_type": "display_data"
    },
    {
     "name": "stdout",
     "output_type": "stream",
     "text": [
      "Processing batch 1348/1554\n"
     ]
    },
    {
     "data": {
      "application/vnd.jupyter.widget-view+json": {
       "model_id": "f41f9671569e4f2ea7d64282fba0c9ca",
       "version_major": 2,
       "version_minor": 0
      },
      "text/plain": [
       "Resizing images (rxrx3):   0%|          | 0/100 [00:00<?, ?it/s]"
      ]
     },
     "metadata": {},
     "output_type": "display_data"
    },
    {
     "name": "stdout",
     "output_type": "stream",
     "text": [
      "Processing batch 1349/1554\n"
     ]
    },
    {
     "data": {
      "application/vnd.jupyter.widget-view+json": {
       "model_id": "15afb15989904336b95bae7eb7109be8",
       "version_major": 2,
       "version_minor": 0
      },
      "text/plain": [
       "Resizing images (rxrx3):   0%|          | 0/100 [00:00<?, ?it/s]"
      ]
     },
     "metadata": {},
     "output_type": "display_data"
    },
    {
     "name": "stdout",
     "output_type": "stream",
     "text": [
      "Processing batch 1350/1554\n"
     ]
    },
    {
     "data": {
      "application/vnd.jupyter.widget-view+json": {
       "model_id": "1a83971d460e441482095d3b141ddde2",
       "version_major": 2,
       "version_minor": 0
      },
      "text/plain": [
       "Resizing images (rxrx3):   0%|          | 0/100 [00:00<?, ?it/s]"
      ]
     },
     "metadata": {},
     "output_type": "display_data"
    },
    {
     "name": "stdout",
     "output_type": "stream",
     "text": [
      "Processing batch 1351/1554\n"
     ]
    },
    {
     "data": {
      "application/vnd.jupyter.widget-view+json": {
       "model_id": "eb63b20ae2ca4193ba6ac43291ef12b2",
       "version_major": 2,
       "version_minor": 0
      },
      "text/plain": [
       "Resizing images (rxrx3):   0%|          | 0/100 [00:00<?, ?it/s]"
      ]
     },
     "metadata": {},
     "output_type": "display_data"
    },
    {
     "name": "stdout",
     "output_type": "stream",
     "text": [
      "Processing batch 1352/1554\n"
     ]
    },
    {
     "data": {
      "application/vnd.jupyter.widget-view+json": {
       "model_id": "8a93e51b401049109d58a94421c9e28f",
       "version_major": 2,
       "version_minor": 0
      },
      "text/plain": [
       "Resizing images (rxrx3):   0%|          | 0/100 [00:00<?, ?it/s]"
      ]
     },
     "metadata": {},
     "output_type": "display_data"
    },
    {
     "name": "stdout",
     "output_type": "stream",
     "text": [
      "Processing batch 1353/1554\n"
     ]
    },
    {
     "data": {
      "application/vnd.jupyter.widget-view+json": {
       "model_id": "d7958b84a0d84dcdb2a263638b6edef8",
       "version_major": 2,
       "version_minor": 0
      },
      "text/plain": [
       "Resizing images (rxrx3):   0%|          | 0/100 [00:00<?, ?it/s]"
      ]
     },
     "metadata": {},
     "output_type": "display_data"
    },
    {
     "name": "stdout",
     "output_type": "stream",
     "text": [
      "Processing batch 1354/1554\n"
     ]
    },
    {
     "data": {
      "application/vnd.jupyter.widget-view+json": {
       "model_id": "1736d333282b4a4b9d3a7c7493cbba94",
       "version_major": 2,
       "version_minor": 0
      },
      "text/plain": [
       "Resizing images (rxrx3):   0%|          | 0/100 [00:00<?, ?it/s]"
      ]
     },
     "metadata": {},
     "output_type": "display_data"
    },
    {
     "name": "stdout",
     "output_type": "stream",
     "text": [
      "Processing batch 1355/1554\n"
     ]
    },
    {
     "data": {
      "application/vnd.jupyter.widget-view+json": {
       "model_id": "544098cabd124082832acb0723ced6ca",
       "version_major": 2,
       "version_minor": 0
      },
      "text/plain": [
       "Resizing images (rxrx3):   0%|          | 0/100 [00:00<?, ?it/s]"
      ]
     },
     "metadata": {},
     "output_type": "display_data"
    },
    {
     "name": "stdout",
     "output_type": "stream",
     "text": [
      "Processing batch 1356/1554\n"
     ]
    },
    {
     "data": {
      "application/vnd.jupyter.widget-view+json": {
       "model_id": "20cd074fdaa140b5bfdd3aeb27c7fe63",
       "version_major": 2,
       "version_minor": 0
      },
      "text/plain": [
       "Resizing images (rxrx3):   0%|          | 0/100 [00:00<?, ?it/s]"
      ]
     },
     "metadata": {},
     "output_type": "display_data"
    },
    {
     "name": "stdout",
     "output_type": "stream",
     "text": [
      "Processing batch 1357/1554\n"
     ]
    },
    {
     "data": {
      "application/vnd.jupyter.widget-view+json": {
       "model_id": "813b5fe0b16445309d6966c0c6b3d770",
       "version_major": 2,
       "version_minor": 0
      },
      "text/plain": [
       "Resizing images (rxrx3):   0%|          | 0/100 [00:00<?, ?it/s]"
      ]
     },
     "metadata": {},
     "output_type": "display_data"
    },
    {
     "name": "stdout",
     "output_type": "stream",
     "text": [
      "Processing batch 1358/1554\n"
     ]
    },
    {
     "data": {
      "application/vnd.jupyter.widget-view+json": {
       "model_id": "9620726876d547a99595d9c2c099597b",
       "version_major": 2,
       "version_minor": 0
      },
      "text/plain": [
       "Resizing images (rxrx3):   0%|          | 0/100 [00:00<?, ?it/s]"
      ]
     },
     "metadata": {},
     "output_type": "display_data"
    },
    {
     "name": "stdout",
     "output_type": "stream",
     "text": [
      "Processing batch 1359/1554\n"
     ]
    },
    {
     "data": {
      "application/vnd.jupyter.widget-view+json": {
       "model_id": "6a8c9e4e417b424f866f9e421a58b703",
       "version_major": 2,
       "version_minor": 0
      },
      "text/plain": [
       "Resizing images (rxrx3):   0%|          | 0/100 [00:00<?, ?it/s]"
      ]
     },
     "metadata": {},
     "output_type": "display_data"
    },
    {
     "name": "stdout",
     "output_type": "stream",
     "text": [
      "Processing batch 1360/1554\n"
     ]
    },
    {
     "data": {
      "application/vnd.jupyter.widget-view+json": {
       "model_id": "caa153988c1c483db6d69aceea75ea22",
       "version_major": 2,
       "version_minor": 0
      },
      "text/plain": [
       "Resizing images (rxrx3):   0%|          | 0/100 [00:00<?, ?it/s]"
      ]
     },
     "metadata": {},
     "output_type": "display_data"
    },
    {
     "name": "stdout",
     "output_type": "stream",
     "text": [
      "Processing batch 1361/1554\n"
     ]
    },
    {
     "data": {
      "application/vnd.jupyter.widget-view+json": {
       "model_id": "6e2657e8254f41d4ac19a621bb3d2da8",
       "version_major": 2,
       "version_minor": 0
      },
      "text/plain": [
       "Resizing images (rxrx3):   0%|          | 0/100 [00:00<?, ?it/s]"
      ]
     },
     "metadata": {},
     "output_type": "display_data"
    },
    {
     "name": "stdout",
     "output_type": "stream",
     "text": [
      "Processing batch 1362/1554\n"
     ]
    },
    {
     "data": {
      "application/vnd.jupyter.widget-view+json": {
       "model_id": "bac9ca46fa1f4370b9daca20d76e7d6b",
       "version_major": 2,
       "version_minor": 0
      },
      "text/plain": [
       "Resizing images (rxrx3):   0%|          | 0/100 [00:00<?, ?it/s]"
      ]
     },
     "metadata": {},
     "output_type": "display_data"
    },
    {
     "name": "stdout",
     "output_type": "stream",
     "text": [
      "Processing batch 1363/1554\n"
     ]
    },
    {
     "data": {
      "application/vnd.jupyter.widget-view+json": {
       "model_id": "955c87890a6f4c7fae4a836ff5a89186",
       "version_major": 2,
       "version_minor": 0
      },
      "text/plain": [
       "Resizing images (rxrx3):   0%|          | 0/100 [00:00<?, ?it/s]"
      ]
     },
     "metadata": {},
     "output_type": "display_data"
    },
    {
     "name": "stdout",
     "output_type": "stream",
     "text": [
      "Processing batch 1364/1554\n"
     ]
    },
    {
     "data": {
      "application/vnd.jupyter.widget-view+json": {
       "model_id": "ab78a6285e854e2a8e43165141e621ca",
       "version_major": 2,
       "version_minor": 0
      },
      "text/plain": [
       "Resizing images (rxrx3):   0%|          | 0/100 [00:00<?, ?it/s]"
      ]
     },
     "metadata": {},
     "output_type": "display_data"
    },
    {
     "name": "stdout",
     "output_type": "stream",
     "text": [
      "Processing batch 1365/1554\n"
     ]
    },
    {
     "data": {
      "application/vnd.jupyter.widget-view+json": {
       "model_id": "a1f2579692464b04b979eb584060bc58",
       "version_major": 2,
       "version_minor": 0
      },
      "text/plain": [
       "Resizing images (rxrx3):   0%|          | 0/100 [00:00<?, ?it/s]"
      ]
     },
     "metadata": {},
     "output_type": "display_data"
    },
    {
     "name": "stdout",
     "output_type": "stream",
     "text": [
      "Processing batch 1366/1554\n"
     ]
    },
    {
     "data": {
      "application/vnd.jupyter.widget-view+json": {
       "model_id": "725a553b0bf549998382584cd6e2710e",
       "version_major": 2,
       "version_minor": 0
      },
      "text/plain": [
       "Resizing images (rxrx3):   0%|          | 0/100 [00:00<?, ?it/s]"
      ]
     },
     "metadata": {},
     "output_type": "display_data"
    },
    {
     "name": "stdout",
     "output_type": "stream",
     "text": [
      "Processing batch 1367/1554\n"
     ]
    },
    {
     "data": {
      "application/vnd.jupyter.widget-view+json": {
       "model_id": "bf2e1ff2aa2148b098b89f3a1ad4fe71",
       "version_major": 2,
       "version_minor": 0
      },
      "text/plain": [
       "Resizing images (rxrx3):   0%|          | 0/100 [00:00<?, ?it/s]"
      ]
     },
     "metadata": {},
     "output_type": "display_data"
    },
    {
     "name": "stdout",
     "output_type": "stream",
     "text": [
      "Processing batch 1368/1554\n"
     ]
    },
    {
     "data": {
      "application/vnd.jupyter.widget-view+json": {
       "model_id": "39362b8e7c524e4b8bb3ff04945de5e2",
       "version_major": 2,
       "version_minor": 0
      },
      "text/plain": [
       "Resizing images (rxrx3):   0%|          | 0/100 [00:00<?, ?it/s]"
      ]
     },
     "metadata": {},
     "output_type": "display_data"
    },
    {
     "name": "stdout",
     "output_type": "stream",
     "text": [
      "Processing batch 1369/1554\n"
     ]
    },
    {
     "data": {
      "application/vnd.jupyter.widget-view+json": {
       "model_id": "401edad5db514903b8e1b9d5acdeabb2",
       "version_major": 2,
       "version_minor": 0
      },
      "text/plain": [
       "Resizing images (rxrx3):   0%|          | 0/100 [00:00<?, ?it/s]"
      ]
     },
     "metadata": {},
     "output_type": "display_data"
    },
    {
     "name": "stdout",
     "output_type": "stream",
     "text": [
      "Processing batch 1370/1554\n"
     ]
    },
    {
     "data": {
      "application/vnd.jupyter.widget-view+json": {
       "model_id": "256c79f0268d46d8b82b37e906c48d8f",
       "version_major": 2,
       "version_minor": 0
      },
      "text/plain": [
       "Resizing images (rxrx3):   0%|          | 0/100 [00:00<?, ?it/s]"
      ]
     },
     "metadata": {},
     "output_type": "display_data"
    },
    {
     "name": "stdout",
     "output_type": "stream",
     "text": [
      "Processing batch 1371/1554\n"
     ]
    },
    {
     "data": {
      "application/vnd.jupyter.widget-view+json": {
       "model_id": "334803c38a7c44f7bb4c4ecf08038aaf",
       "version_major": 2,
       "version_minor": 0
      },
      "text/plain": [
       "Resizing images (rxrx3):   0%|          | 0/100 [00:00<?, ?it/s]"
      ]
     },
     "metadata": {},
     "output_type": "display_data"
    },
    {
     "name": "stdout",
     "output_type": "stream",
     "text": [
      "Processing batch 1372/1554\n"
     ]
    },
    {
     "data": {
      "application/vnd.jupyter.widget-view+json": {
       "model_id": "d7fe6ef411894428a2e2ac59d5f4d041",
       "version_major": 2,
       "version_minor": 0
      },
      "text/plain": [
       "Resizing images (rxrx3):   0%|          | 0/100 [00:00<?, ?it/s]"
      ]
     },
     "metadata": {},
     "output_type": "display_data"
    },
    {
     "name": "stdout",
     "output_type": "stream",
     "text": [
      "Processing batch 1373/1554\n"
     ]
    },
    {
     "data": {
      "application/vnd.jupyter.widget-view+json": {
       "model_id": "fd6b3db6b9b2468caa86863ca903edcf",
       "version_major": 2,
       "version_minor": 0
      },
      "text/plain": [
       "Resizing images (rxrx3):   0%|          | 0/100 [00:00<?, ?it/s]"
      ]
     },
     "metadata": {},
     "output_type": "display_data"
    },
    {
     "name": "stdout",
     "output_type": "stream",
     "text": [
      "Processing batch 1374/1554\n"
     ]
    },
    {
     "data": {
      "application/vnd.jupyter.widget-view+json": {
       "model_id": "fc5d60892bd04841a647f1e69271d981",
       "version_major": 2,
       "version_minor": 0
      },
      "text/plain": [
       "Resizing images (rxrx3):   0%|          | 0/100 [00:00<?, ?it/s]"
      ]
     },
     "metadata": {},
     "output_type": "display_data"
    },
    {
     "name": "stdout",
     "output_type": "stream",
     "text": [
      "Processing batch 1375/1554\n"
     ]
    },
    {
     "data": {
      "application/vnd.jupyter.widget-view+json": {
       "model_id": "9910d4b3a01f478b9df29caa3c4bf954",
       "version_major": 2,
       "version_minor": 0
      },
      "text/plain": [
       "Resizing images (rxrx3):   0%|          | 0/100 [00:00<?, ?it/s]"
      ]
     },
     "metadata": {},
     "output_type": "display_data"
    },
    {
     "name": "stdout",
     "output_type": "stream",
     "text": [
      "Processing batch 1376/1554\n"
     ]
    },
    {
     "data": {
      "application/vnd.jupyter.widget-view+json": {
       "model_id": "660bd3577d7f473abf774814b2b4f5cb",
       "version_major": 2,
       "version_minor": 0
      },
      "text/plain": [
       "Resizing images (rxrx3):   0%|          | 0/100 [00:00<?, ?it/s]"
      ]
     },
     "metadata": {},
     "output_type": "display_data"
    },
    {
     "name": "stdout",
     "output_type": "stream",
     "text": [
      "Processing batch 1377/1554\n"
     ]
    },
    {
     "data": {
      "application/vnd.jupyter.widget-view+json": {
       "model_id": "cec8c43d764f4a39aa0cd375d1639d3a",
       "version_major": 2,
       "version_minor": 0
      },
      "text/plain": [
       "Resizing images (rxrx3):   0%|          | 0/100 [00:00<?, ?it/s]"
      ]
     },
     "metadata": {},
     "output_type": "display_data"
    },
    {
     "name": "stdout",
     "output_type": "stream",
     "text": [
      "Processing batch 1378/1554\n"
     ]
    },
    {
     "data": {
      "application/vnd.jupyter.widget-view+json": {
       "model_id": "70fb4024a6ca41238990cc5bf5faebec",
       "version_major": 2,
       "version_minor": 0
      },
      "text/plain": [
       "Resizing images (rxrx3):   0%|          | 0/100 [00:00<?, ?it/s]"
      ]
     },
     "metadata": {},
     "output_type": "display_data"
    },
    {
     "name": "stdout",
     "output_type": "stream",
     "text": [
      "Processing batch 1379/1554\n"
     ]
    },
    {
     "data": {
      "application/vnd.jupyter.widget-view+json": {
       "model_id": "ff7643cc2be541c0b8eed2ff6b8030dc",
       "version_major": 2,
       "version_minor": 0
      },
      "text/plain": [
       "Resizing images (rxrx3):   0%|          | 0/100 [00:00<?, ?it/s]"
      ]
     },
     "metadata": {},
     "output_type": "display_data"
    },
    {
     "name": "stdout",
     "output_type": "stream",
     "text": [
      "Processing batch 1380/1554\n"
     ]
    },
    {
     "data": {
      "application/vnd.jupyter.widget-view+json": {
       "model_id": "daaeba881599465ca64a107c85e3615a",
       "version_major": 2,
       "version_minor": 0
      },
      "text/plain": [
       "Resizing images (rxrx3):   0%|          | 0/100 [00:00<?, ?it/s]"
      ]
     },
     "metadata": {},
     "output_type": "display_data"
    },
    {
     "name": "stdout",
     "output_type": "stream",
     "text": [
      "Processing batch 1381/1554\n"
     ]
    },
    {
     "data": {
      "application/vnd.jupyter.widget-view+json": {
       "model_id": "8016f2b8ebc041e5930bdeb612541745",
       "version_major": 2,
       "version_minor": 0
      },
      "text/plain": [
       "Resizing images (rxrx3):   0%|          | 0/100 [00:00<?, ?it/s]"
      ]
     },
     "metadata": {},
     "output_type": "display_data"
    },
    {
     "name": "stdout",
     "output_type": "stream",
     "text": [
      "Processing batch 1382/1554\n"
     ]
    },
    {
     "data": {
      "application/vnd.jupyter.widget-view+json": {
       "model_id": "9f513dbca1b24238ab9a5281d2137d03",
       "version_major": 2,
       "version_minor": 0
      },
      "text/plain": [
       "Resizing images (rxrx3):   0%|          | 0/100 [00:00<?, ?it/s]"
      ]
     },
     "metadata": {},
     "output_type": "display_data"
    },
    {
     "name": "stdout",
     "output_type": "stream",
     "text": [
      "Processing batch 1383/1554\n"
     ]
    },
    {
     "data": {
      "application/vnd.jupyter.widget-view+json": {
       "model_id": "2b40c75da4d947648f5ed30e78a8d632",
       "version_major": 2,
       "version_minor": 0
      },
      "text/plain": [
       "Resizing images (rxrx3):   0%|          | 0/100 [00:00<?, ?it/s]"
      ]
     },
     "metadata": {},
     "output_type": "display_data"
    },
    {
     "name": "stdout",
     "output_type": "stream",
     "text": [
      "Processing batch 1384/1554\n"
     ]
    },
    {
     "data": {
      "application/vnd.jupyter.widget-view+json": {
       "model_id": "bbade07f5c214d599e81dd9e8d0b58dd",
       "version_major": 2,
       "version_minor": 0
      },
      "text/plain": [
       "Resizing images (rxrx3):   0%|          | 0/100 [00:00<?, ?it/s]"
      ]
     },
     "metadata": {},
     "output_type": "display_data"
    },
    {
     "name": "stdout",
     "output_type": "stream",
     "text": [
      "Processing batch 1385/1554\n"
     ]
    },
    {
     "data": {
      "application/vnd.jupyter.widget-view+json": {
       "model_id": "a97bb719cbc44ac78988341b46d9df0d",
       "version_major": 2,
       "version_minor": 0
      },
      "text/plain": [
       "Resizing images (rxrx3):   0%|          | 0/100 [00:00<?, ?it/s]"
      ]
     },
     "metadata": {},
     "output_type": "display_data"
    },
    {
     "name": "stdout",
     "output_type": "stream",
     "text": [
      "Processing batch 1386/1554\n"
     ]
    },
    {
     "data": {
      "application/vnd.jupyter.widget-view+json": {
       "model_id": "e93c5a4a6373454bb27e1db1aa5c25b8",
       "version_major": 2,
       "version_minor": 0
      },
      "text/plain": [
       "Resizing images (rxrx3):   0%|          | 0/100 [00:00<?, ?it/s]"
      ]
     },
     "metadata": {},
     "output_type": "display_data"
    },
    {
     "name": "stdout",
     "output_type": "stream",
     "text": [
      "Processing batch 1387/1554\n"
     ]
    },
    {
     "data": {
      "application/vnd.jupyter.widget-view+json": {
       "model_id": "586292aa2c4f4516ba742b0c92b8f635",
       "version_major": 2,
       "version_minor": 0
      },
      "text/plain": [
       "Resizing images (rxrx3):   0%|          | 0/100 [00:00<?, ?it/s]"
      ]
     },
     "metadata": {},
     "output_type": "display_data"
    },
    {
     "name": "stdout",
     "output_type": "stream",
     "text": [
      "Processing batch 1388/1554\n"
     ]
    },
    {
     "data": {
      "application/vnd.jupyter.widget-view+json": {
       "model_id": "813150fec08d40b5bc70b3cdb7c5d341",
       "version_major": 2,
       "version_minor": 0
      },
      "text/plain": [
       "Resizing images (rxrx3):   0%|          | 0/100 [00:00<?, ?it/s]"
      ]
     },
     "metadata": {},
     "output_type": "display_data"
    },
    {
     "name": "stdout",
     "output_type": "stream",
     "text": [
      "Processing batch 1389/1554\n"
     ]
    },
    {
     "data": {
      "application/vnd.jupyter.widget-view+json": {
       "model_id": "6561708f0bf44133ae4f21f3f88ac1a2",
       "version_major": 2,
       "version_minor": 0
      },
      "text/plain": [
       "Resizing images (rxrx3):   0%|          | 0/100 [00:00<?, ?it/s]"
      ]
     },
     "metadata": {},
     "output_type": "display_data"
    },
    {
     "name": "stdout",
     "output_type": "stream",
     "text": [
      "Processing batch 1390/1554\n"
     ]
    },
    {
     "data": {
      "application/vnd.jupyter.widget-view+json": {
       "model_id": "4c2a0752550145b39153785e84e0a3a9",
       "version_major": 2,
       "version_minor": 0
      },
      "text/plain": [
       "Resizing images (rxrx3):   0%|          | 0/100 [00:00<?, ?it/s]"
      ]
     },
     "metadata": {},
     "output_type": "display_data"
    },
    {
     "name": "stdout",
     "output_type": "stream",
     "text": [
      "Processing batch 1391/1554\n"
     ]
    },
    {
     "data": {
      "application/vnd.jupyter.widget-view+json": {
       "model_id": "b91cdbb0e5344bceb4648298beb11a47",
       "version_major": 2,
       "version_minor": 0
      },
      "text/plain": [
       "Resizing images (rxrx3):   0%|          | 0/100 [00:00<?, ?it/s]"
      ]
     },
     "metadata": {},
     "output_type": "display_data"
    },
    {
     "name": "stdout",
     "output_type": "stream",
     "text": [
      "Processing batch 1392/1554\n"
     ]
    },
    {
     "data": {
      "application/vnd.jupyter.widget-view+json": {
       "model_id": "981542c13f4d4f8898845169ee2f9cba",
       "version_major": 2,
       "version_minor": 0
      },
      "text/plain": [
       "Resizing images (rxrx3):   0%|          | 0/100 [00:00<?, ?it/s]"
      ]
     },
     "metadata": {},
     "output_type": "display_data"
    },
    {
     "name": "stdout",
     "output_type": "stream",
     "text": [
      "Processing batch 1393/1554\n"
     ]
    },
    {
     "data": {
      "application/vnd.jupyter.widget-view+json": {
       "model_id": "16afb8b022d8436f9dc21f59816569ac",
       "version_major": 2,
       "version_minor": 0
      },
      "text/plain": [
       "Resizing images (rxrx3):   0%|          | 0/100 [00:00<?, ?it/s]"
      ]
     },
     "metadata": {},
     "output_type": "display_data"
    },
    {
     "name": "stdout",
     "output_type": "stream",
     "text": [
      "Processing batch 1394/1554\n"
     ]
    },
    {
     "data": {
      "application/vnd.jupyter.widget-view+json": {
       "model_id": "e9d912e8f9d54ef58eaee3194d658f3e",
       "version_major": 2,
       "version_minor": 0
      },
      "text/plain": [
       "Resizing images (rxrx3):   0%|          | 0/100 [00:00<?, ?it/s]"
      ]
     },
     "metadata": {},
     "output_type": "display_data"
    },
    {
     "name": "stdout",
     "output_type": "stream",
     "text": [
      "Processing batch 1395/1554\n"
     ]
    },
    {
     "data": {
      "application/vnd.jupyter.widget-view+json": {
       "model_id": "03dfbcdd275b4a5ba4fa216977e8b63a",
       "version_major": 2,
       "version_minor": 0
      },
      "text/plain": [
       "Resizing images (rxrx3):   0%|          | 0/100 [00:00<?, ?it/s]"
      ]
     },
     "metadata": {},
     "output_type": "display_data"
    },
    {
     "name": "stdout",
     "output_type": "stream",
     "text": [
      "Processing batch 1396/1554\n"
     ]
    },
    {
     "data": {
      "application/vnd.jupyter.widget-view+json": {
       "model_id": "70fd10b978ae4ec788d26b488c806068",
       "version_major": 2,
       "version_minor": 0
      },
      "text/plain": [
       "Resizing images (rxrx3):   0%|          | 0/100 [00:00<?, ?it/s]"
      ]
     },
     "metadata": {},
     "output_type": "display_data"
    },
    {
     "name": "stdout",
     "output_type": "stream",
     "text": [
      "Processing batch 1397/1554\n"
     ]
    },
    {
     "data": {
      "application/vnd.jupyter.widget-view+json": {
       "model_id": "8faff9d0928146c1bc33d9ab59c784b8",
       "version_major": 2,
       "version_minor": 0
      },
      "text/plain": [
       "Resizing images (rxrx3):   0%|          | 0/100 [00:00<?, ?it/s]"
      ]
     },
     "metadata": {},
     "output_type": "display_data"
    },
    {
     "name": "stdout",
     "output_type": "stream",
     "text": [
      "Processing batch 1398/1554\n"
     ]
    },
    {
     "data": {
      "application/vnd.jupyter.widget-view+json": {
       "model_id": "51bf89e5d0af448ca113164e98d357cd",
       "version_major": 2,
       "version_minor": 0
      },
      "text/plain": [
       "Resizing images (rxrx3):   0%|          | 0/100 [00:00<?, ?it/s]"
      ]
     },
     "metadata": {},
     "output_type": "display_data"
    },
    {
     "name": "stdout",
     "output_type": "stream",
     "text": [
      "Processing batch 1399/1554\n"
     ]
    },
    {
     "data": {
      "application/vnd.jupyter.widget-view+json": {
       "model_id": "dba5a6636a27468698a3b80a6fd86757",
       "version_major": 2,
       "version_minor": 0
      },
      "text/plain": [
       "Resizing images (rxrx3):   0%|          | 0/100 [00:00<?, ?it/s]"
      ]
     },
     "metadata": {},
     "output_type": "display_data"
    },
    {
     "name": "stdout",
     "output_type": "stream",
     "text": [
      "Processing batch 1400/1554\n"
     ]
    },
    {
     "data": {
      "application/vnd.jupyter.widget-view+json": {
       "model_id": "e63186c0642f47dd9ba34bcd3abff619",
       "version_major": 2,
       "version_minor": 0
      },
      "text/plain": [
       "Resizing images (rxrx3):   0%|          | 0/100 [00:00<?, ?it/s]"
      ]
     },
     "metadata": {},
     "output_type": "display_data"
    },
    {
     "name": "stdout",
     "output_type": "stream",
     "text": [
      "Processing batch 1401/1554\n"
     ]
    },
    {
     "data": {
      "application/vnd.jupyter.widget-view+json": {
       "model_id": "78718e9294f140ad81289e60781779c5",
       "version_major": 2,
       "version_minor": 0
      },
      "text/plain": [
       "Resizing images (rxrx3):   0%|          | 0/100 [00:00<?, ?it/s]"
      ]
     },
     "metadata": {},
     "output_type": "display_data"
    },
    {
     "name": "stdout",
     "output_type": "stream",
     "text": [
      "Processing batch 1402/1554\n"
     ]
    },
    {
     "data": {
      "application/vnd.jupyter.widget-view+json": {
       "model_id": "6293d904efea4523a839e9f87b6988dc",
       "version_major": 2,
       "version_minor": 0
      },
      "text/plain": [
       "Resizing images (rxrx3):   0%|          | 0/100 [00:00<?, ?it/s]"
      ]
     },
     "metadata": {},
     "output_type": "display_data"
    },
    {
     "name": "stdout",
     "output_type": "stream",
     "text": [
      "Processing batch 1403/1554\n"
     ]
    },
    {
     "data": {
      "application/vnd.jupyter.widget-view+json": {
       "model_id": "be3302e92e98403dbeb23394448f81a6",
       "version_major": 2,
       "version_minor": 0
      },
      "text/plain": [
       "Resizing images (rxrx3):   0%|          | 0/100 [00:00<?, ?it/s]"
      ]
     },
     "metadata": {},
     "output_type": "display_data"
    },
    {
     "name": "stdout",
     "output_type": "stream",
     "text": [
      "Processing batch 1404/1554\n"
     ]
    },
    {
     "data": {
      "application/vnd.jupyter.widget-view+json": {
       "model_id": "82e642cb18574af29f2f930982a80379",
       "version_major": 2,
       "version_minor": 0
      },
      "text/plain": [
       "Resizing images (rxrx3):   0%|          | 0/100 [00:00<?, ?it/s]"
      ]
     },
     "metadata": {},
     "output_type": "display_data"
    },
    {
     "name": "stdout",
     "output_type": "stream",
     "text": [
      "Processing batch 1405/1554\n"
     ]
    },
    {
     "data": {
      "application/vnd.jupyter.widget-view+json": {
       "model_id": "30dcadb557f547e9b972fe9168778e0d",
       "version_major": 2,
       "version_minor": 0
      },
      "text/plain": [
       "Resizing images (rxrx3):   0%|          | 0/100 [00:00<?, ?it/s]"
      ]
     },
     "metadata": {},
     "output_type": "display_data"
    },
    {
     "name": "stdout",
     "output_type": "stream",
     "text": [
      "Processing batch 1406/1554\n"
     ]
    },
    {
     "data": {
      "application/vnd.jupyter.widget-view+json": {
       "model_id": "a2871ff6d61d487b986f85c2cf1a6e69",
       "version_major": 2,
       "version_minor": 0
      },
      "text/plain": [
       "Resizing images (rxrx3):   0%|          | 0/100 [00:00<?, ?it/s]"
      ]
     },
     "metadata": {},
     "output_type": "display_data"
    },
    {
     "name": "stdout",
     "output_type": "stream",
     "text": [
      "Processing batch 1407/1554\n"
     ]
    },
    {
     "data": {
      "application/vnd.jupyter.widget-view+json": {
       "model_id": "de037002a9594c5eb42ef4c2d417e915",
       "version_major": 2,
       "version_minor": 0
      },
      "text/plain": [
       "Resizing images (rxrx3):   0%|          | 0/100 [00:00<?, ?it/s]"
      ]
     },
     "metadata": {},
     "output_type": "display_data"
    },
    {
     "name": "stdout",
     "output_type": "stream",
     "text": [
      "Processing batch 1408/1554\n"
     ]
    },
    {
     "data": {
      "application/vnd.jupyter.widget-view+json": {
       "model_id": "d5180906a69648aba2b378a647d34261",
       "version_major": 2,
       "version_minor": 0
      },
      "text/plain": [
       "Resizing images (rxrx3):   0%|          | 0/100 [00:00<?, ?it/s]"
      ]
     },
     "metadata": {},
     "output_type": "display_data"
    },
    {
     "name": "stdout",
     "output_type": "stream",
     "text": [
      "Processing batch 1409/1554\n"
     ]
    },
    {
     "data": {
      "application/vnd.jupyter.widget-view+json": {
       "model_id": "2f5c55a5dbb74d62acb8efe521049373",
       "version_major": 2,
       "version_minor": 0
      },
      "text/plain": [
       "Resizing images (rxrx3):   0%|          | 0/100 [00:00<?, ?it/s]"
      ]
     },
     "metadata": {},
     "output_type": "display_data"
    },
    {
     "name": "stdout",
     "output_type": "stream",
     "text": [
      "Processing batch 1410/1554\n"
     ]
    },
    {
     "data": {
      "application/vnd.jupyter.widget-view+json": {
       "model_id": "42b371564ce2476eb2fdbd8e68bd7f2c",
       "version_major": 2,
       "version_minor": 0
      },
      "text/plain": [
       "Resizing images (rxrx3):   0%|          | 0/100 [00:00<?, ?it/s]"
      ]
     },
     "metadata": {},
     "output_type": "display_data"
    },
    {
     "name": "stdout",
     "output_type": "stream",
     "text": [
      "Processing batch 1411/1554\n"
     ]
    },
    {
     "data": {
      "application/vnd.jupyter.widget-view+json": {
       "model_id": "17529721c5e94069a74571812958a9b1",
       "version_major": 2,
       "version_minor": 0
      },
      "text/plain": [
       "Resizing images (rxrx3):   0%|          | 0/100 [00:00<?, ?it/s]"
      ]
     },
     "metadata": {},
     "output_type": "display_data"
    },
    {
     "name": "stdout",
     "output_type": "stream",
     "text": [
      "Processing batch 1412/1554\n"
     ]
    },
    {
     "data": {
      "application/vnd.jupyter.widget-view+json": {
       "model_id": "4d54b7fc2f9e44c5b07757b469bd82bd",
       "version_major": 2,
       "version_minor": 0
      },
      "text/plain": [
       "Resizing images (rxrx3):   0%|          | 0/100 [00:00<?, ?it/s]"
      ]
     },
     "metadata": {},
     "output_type": "display_data"
    },
    {
     "name": "stdout",
     "output_type": "stream",
     "text": [
      "Processing batch 1413/1554\n"
     ]
    },
    {
     "data": {
      "application/vnd.jupyter.widget-view+json": {
       "model_id": "5ec8fca314704472ae70560493f61ae9",
       "version_major": 2,
       "version_minor": 0
      },
      "text/plain": [
       "Resizing images (rxrx3):   0%|          | 0/100 [00:00<?, ?it/s]"
      ]
     },
     "metadata": {},
     "output_type": "display_data"
    },
    {
     "name": "stdout",
     "output_type": "stream",
     "text": [
      "Processing batch 1414/1554\n"
     ]
    },
    {
     "data": {
      "application/vnd.jupyter.widget-view+json": {
       "model_id": "c3428d3405dc466e86d620fd6f8d554e",
       "version_major": 2,
       "version_minor": 0
      },
      "text/plain": [
       "Resizing images (rxrx3):   0%|          | 0/100 [00:00<?, ?it/s]"
      ]
     },
     "metadata": {},
     "output_type": "display_data"
    },
    {
     "name": "stdout",
     "output_type": "stream",
     "text": [
      "Processing batch 1415/1554\n"
     ]
    },
    {
     "data": {
      "application/vnd.jupyter.widget-view+json": {
       "model_id": "0830e648f0284ab69d4772ac177f3900",
       "version_major": 2,
       "version_minor": 0
      },
      "text/plain": [
       "Resizing images (rxrx3):   0%|          | 0/100 [00:00<?, ?it/s]"
      ]
     },
     "metadata": {},
     "output_type": "display_data"
    },
    {
     "name": "stdout",
     "output_type": "stream",
     "text": [
      "Processing batch 1416/1554\n"
     ]
    },
    {
     "data": {
      "application/vnd.jupyter.widget-view+json": {
       "model_id": "70dc09edd51d4c309aca563f40cafda3",
       "version_major": 2,
       "version_minor": 0
      },
      "text/plain": [
       "Resizing images (rxrx3):   0%|          | 0/100 [00:00<?, ?it/s]"
      ]
     },
     "metadata": {},
     "output_type": "display_data"
    },
    {
     "name": "stdout",
     "output_type": "stream",
     "text": [
      "Processing batch 1417/1554\n"
     ]
    },
    {
     "data": {
      "application/vnd.jupyter.widget-view+json": {
       "model_id": "eb3cd76b17104ad19a668d1414bc6768",
       "version_major": 2,
       "version_minor": 0
      },
      "text/plain": [
       "Resizing images (rxrx3):   0%|          | 0/100 [00:00<?, ?it/s]"
      ]
     },
     "metadata": {},
     "output_type": "display_data"
    },
    {
     "name": "stdout",
     "output_type": "stream",
     "text": [
      "Processing batch 1418/1554\n"
     ]
    },
    {
     "data": {
      "application/vnd.jupyter.widget-view+json": {
       "model_id": "8046cbc833fd4ea9895ec166ff8ad691",
       "version_major": 2,
       "version_minor": 0
      },
      "text/plain": [
       "Resizing images (rxrx3):   0%|          | 0/100 [00:00<?, ?it/s]"
      ]
     },
     "metadata": {},
     "output_type": "display_data"
    },
    {
     "name": "stdout",
     "output_type": "stream",
     "text": [
      "Processing batch 1419/1554\n"
     ]
    },
    {
     "data": {
      "application/vnd.jupyter.widget-view+json": {
       "model_id": "80dd1db8ebdd4b97a80276e855c86509",
       "version_major": 2,
       "version_minor": 0
      },
      "text/plain": [
       "Resizing images (rxrx3):   0%|          | 0/100 [00:00<?, ?it/s]"
      ]
     },
     "metadata": {},
     "output_type": "display_data"
    },
    {
     "name": "stdout",
     "output_type": "stream",
     "text": [
      "Processing batch 1420/1554\n"
     ]
    },
    {
     "data": {
      "application/vnd.jupyter.widget-view+json": {
       "model_id": "7dc9701eae0a4317a8f64025551ac375",
       "version_major": 2,
       "version_minor": 0
      },
      "text/plain": [
       "Resizing images (rxrx3):   0%|          | 0/100 [00:00<?, ?it/s]"
      ]
     },
     "metadata": {},
     "output_type": "display_data"
    },
    {
     "name": "stdout",
     "output_type": "stream",
     "text": [
      "Processing batch 1421/1554\n"
     ]
    },
    {
     "data": {
      "application/vnd.jupyter.widget-view+json": {
       "model_id": "ababf52788db471294b3ed34683d3f75",
       "version_major": 2,
       "version_minor": 0
      },
      "text/plain": [
       "Resizing images (rxrx3):   0%|          | 0/100 [00:00<?, ?it/s]"
      ]
     },
     "metadata": {},
     "output_type": "display_data"
    },
    {
     "name": "stdout",
     "output_type": "stream",
     "text": [
      "Processing batch 1422/1554\n"
     ]
    },
    {
     "data": {
      "application/vnd.jupyter.widget-view+json": {
       "model_id": "5ba42c16d717468594c1f4f0b64351d0",
       "version_major": 2,
       "version_minor": 0
      },
      "text/plain": [
       "Resizing images (rxrx3):   0%|          | 0/100 [00:00<?, ?it/s]"
      ]
     },
     "metadata": {},
     "output_type": "display_data"
    },
    {
     "name": "stdout",
     "output_type": "stream",
     "text": [
      "Processing batch 1423/1554\n"
     ]
    },
    {
     "data": {
      "application/vnd.jupyter.widget-view+json": {
       "model_id": "a537260bbc6a4a41b12ee8c12ba4d7e5",
       "version_major": 2,
       "version_minor": 0
      },
      "text/plain": [
       "Resizing images (rxrx3):   0%|          | 0/100 [00:00<?, ?it/s]"
      ]
     },
     "metadata": {},
     "output_type": "display_data"
    },
    {
     "name": "stdout",
     "output_type": "stream",
     "text": [
      "Processing batch 1424/1554\n"
     ]
    },
    {
     "data": {
      "application/vnd.jupyter.widget-view+json": {
       "model_id": "035d4049abf6421782d38023400f5f40",
       "version_major": 2,
       "version_minor": 0
      },
      "text/plain": [
       "Resizing images (rxrx3):   0%|          | 0/100 [00:00<?, ?it/s]"
      ]
     },
     "metadata": {},
     "output_type": "display_data"
    },
    {
     "name": "stdout",
     "output_type": "stream",
     "text": [
      "Processing batch 1425/1554\n"
     ]
    },
    {
     "data": {
      "application/vnd.jupyter.widget-view+json": {
       "model_id": "9b228d1766554e068b92d80164bb493f",
       "version_major": 2,
       "version_minor": 0
      },
      "text/plain": [
       "Resizing images (rxrx3):   0%|          | 0/100 [00:00<?, ?it/s]"
      ]
     },
     "metadata": {},
     "output_type": "display_data"
    },
    {
     "name": "stdout",
     "output_type": "stream",
     "text": [
      "Processing batch 1426/1554\n"
     ]
    },
    {
     "data": {
      "application/vnd.jupyter.widget-view+json": {
       "model_id": "989a3b77618145cfbe66ed97c448e717",
       "version_major": 2,
       "version_minor": 0
      },
      "text/plain": [
       "Resizing images (rxrx3):   0%|          | 0/100 [00:00<?, ?it/s]"
      ]
     },
     "metadata": {},
     "output_type": "display_data"
    },
    {
     "name": "stdout",
     "output_type": "stream",
     "text": [
      "Processing batch 1427/1554\n"
     ]
    },
    {
     "data": {
      "application/vnd.jupyter.widget-view+json": {
       "model_id": "55991eeeb0ef4306bf93d3934a872517",
       "version_major": 2,
       "version_minor": 0
      },
      "text/plain": [
       "Resizing images (rxrx3):   0%|          | 0/100 [00:00<?, ?it/s]"
      ]
     },
     "metadata": {},
     "output_type": "display_data"
    },
    {
     "name": "stdout",
     "output_type": "stream",
     "text": [
      "Processing batch 1428/1554\n"
     ]
    },
    {
     "data": {
      "application/vnd.jupyter.widget-view+json": {
       "model_id": "7936cbb3a86a4e42a775f3f169daa019",
       "version_major": 2,
       "version_minor": 0
      },
      "text/plain": [
       "Resizing images (rxrx3):   0%|          | 0/100 [00:00<?, ?it/s]"
      ]
     },
     "metadata": {},
     "output_type": "display_data"
    },
    {
     "name": "stdout",
     "output_type": "stream",
     "text": [
      "Processing batch 1429/1554\n"
     ]
    },
    {
     "data": {
      "application/vnd.jupyter.widget-view+json": {
       "model_id": "74b33c07c91645aa8a5c5d3573a2c35b",
       "version_major": 2,
       "version_minor": 0
      },
      "text/plain": [
       "Resizing images (rxrx3):   0%|          | 0/100 [00:00<?, ?it/s]"
      ]
     },
     "metadata": {},
     "output_type": "display_data"
    },
    {
     "name": "stdout",
     "output_type": "stream",
     "text": [
      "Processing batch 1430/1554\n"
     ]
    },
    {
     "data": {
      "application/vnd.jupyter.widget-view+json": {
       "model_id": "6052f7e5c32e4fe2920aa93dcbcaa718",
       "version_major": 2,
       "version_minor": 0
      },
      "text/plain": [
       "Resizing images (rxrx3):   0%|          | 0/100 [00:00<?, ?it/s]"
      ]
     },
     "metadata": {},
     "output_type": "display_data"
    },
    {
     "name": "stdout",
     "output_type": "stream",
     "text": [
      "Processing batch 1431/1554\n"
     ]
    },
    {
     "data": {
      "application/vnd.jupyter.widget-view+json": {
       "model_id": "2ab0e811844741d7a3bb7d16c8981057",
       "version_major": 2,
       "version_minor": 0
      },
      "text/plain": [
       "Resizing images (rxrx3):   0%|          | 0/100 [00:00<?, ?it/s]"
      ]
     },
     "metadata": {},
     "output_type": "display_data"
    },
    {
     "name": "stdout",
     "output_type": "stream",
     "text": [
      "Processing batch 1432/1554\n"
     ]
    },
    {
     "data": {
      "application/vnd.jupyter.widget-view+json": {
       "model_id": "f8177f54432848219eac13e9cc20df6e",
       "version_major": 2,
       "version_minor": 0
      },
      "text/plain": [
       "Resizing images (rxrx3):   0%|          | 0/100 [00:00<?, ?it/s]"
      ]
     },
     "metadata": {},
     "output_type": "display_data"
    },
    {
     "name": "stdout",
     "output_type": "stream",
     "text": [
      "Processing batch 1433/1554\n"
     ]
    },
    {
     "data": {
      "application/vnd.jupyter.widget-view+json": {
       "model_id": "1af918f28145420cb1c68a4ce92122c5",
       "version_major": 2,
       "version_minor": 0
      },
      "text/plain": [
       "Resizing images (rxrx3):   0%|          | 0/100 [00:00<?, ?it/s]"
      ]
     },
     "metadata": {},
     "output_type": "display_data"
    },
    {
     "name": "stdout",
     "output_type": "stream",
     "text": [
      "Processing batch 1434/1554\n"
     ]
    },
    {
     "data": {
      "application/vnd.jupyter.widget-view+json": {
       "model_id": "6287d2f7958a4ffeac5463aa53efdd75",
       "version_major": 2,
       "version_minor": 0
      },
      "text/plain": [
       "Resizing images (rxrx3):   0%|          | 0/100 [00:00<?, ?it/s]"
      ]
     },
     "metadata": {},
     "output_type": "display_data"
    },
    {
     "name": "stdout",
     "output_type": "stream",
     "text": [
      "Processing batch 1435/1554\n"
     ]
    },
    {
     "data": {
      "application/vnd.jupyter.widget-view+json": {
       "model_id": "a660b2aa15384b35909f60becb956bd7",
       "version_major": 2,
       "version_minor": 0
      },
      "text/plain": [
       "Resizing images (rxrx3):   0%|          | 0/100 [00:00<?, ?it/s]"
      ]
     },
     "metadata": {},
     "output_type": "display_data"
    },
    {
     "name": "stdout",
     "output_type": "stream",
     "text": [
      "Processing batch 1436/1554\n"
     ]
    },
    {
     "data": {
      "application/vnd.jupyter.widget-view+json": {
       "model_id": "aefd0fcd22674bd09bbc6274c4e9daeb",
       "version_major": 2,
       "version_minor": 0
      },
      "text/plain": [
       "Resizing images (rxrx3):   0%|          | 0/100 [00:00<?, ?it/s]"
      ]
     },
     "metadata": {},
     "output_type": "display_data"
    },
    {
     "name": "stdout",
     "output_type": "stream",
     "text": [
      "Processing batch 1437/1554\n"
     ]
    },
    {
     "data": {
      "application/vnd.jupyter.widget-view+json": {
       "model_id": "6992f4d47b14430092561ab81e99f2b0",
       "version_major": 2,
       "version_minor": 0
      },
      "text/plain": [
       "Resizing images (rxrx3):   0%|          | 0/100 [00:00<?, ?it/s]"
      ]
     },
     "metadata": {},
     "output_type": "display_data"
    },
    {
     "name": "stdout",
     "output_type": "stream",
     "text": [
      "Processing batch 1438/1554\n"
     ]
    },
    {
     "data": {
      "application/vnd.jupyter.widget-view+json": {
       "model_id": "e78d4ec52c6b4988900b29405685b30c",
       "version_major": 2,
       "version_minor": 0
      },
      "text/plain": [
       "Resizing images (rxrx3):   0%|          | 0/100 [00:00<?, ?it/s]"
      ]
     },
     "metadata": {},
     "output_type": "display_data"
    },
    {
     "name": "stdout",
     "output_type": "stream",
     "text": [
      "Processing batch 1439/1554\n"
     ]
    },
    {
     "data": {
      "application/vnd.jupyter.widget-view+json": {
       "model_id": "142145770e30432fb94af18ad87d799e",
       "version_major": 2,
       "version_minor": 0
      },
      "text/plain": [
       "Resizing images (rxrx3):   0%|          | 0/100 [00:00<?, ?it/s]"
      ]
     },
     "metadata": {},
     "output_type": "display_data"
    },
    {
     "name": "stdout",
     "output_type": "stream",
     "text": [
      "Processing batch 1440/1554\n"
     ]
    },
    {
     "data": {
      "application/vnd.jupyter.widget-view+json": {
       "model_id": "77a3f443bc63435284ccf818412e89f3",
       "version_major": 2,
       "version_minor": 0
      },
      "text/plain": [
       "Resizing images (rxrx3):   0%|          | 0/100 [00:00<?, ?it/s]"
      ]
     },
     "metadata": {},
     "output_type": "display_data"
    },
    {
     "name": "stdout",
     "output_type": "stream",
     "text": [
      "Processing batch 1441/1554\n"
     ]
    },
    {
     "data": {
      "application/vnd.jupyter.widget-view+json": {
       "model_id": "9fbbc8418467470f9a18c77182aa2a74",
       "version_major": 2,
       "version_minor": 0
      },
      "text/plain": [
       "Resizing images (rxrx3):   0%|          | 0/100 [00:00<?, ?it/s]"
      ]
     },
     "metadata": {},
     "output_type": "display_data"
    },
    {
     "name": "stdout",
     "output_type": "stream",
     "text": [
      "Processing batch 1442/1554\n"
     ]
    },
    {
     "data": {
      "application/vnd.jupyter.widget-view+json": {
       "model_id": "a986615bbf5342c4a464e78b90b1eb90",
       "version_major": 2,
       "version_minor": 0
      },
      "text/plain": [
       "Resizing images (rxrx3):   0%|          | 0/100 [00:00<?, ?it/s]"
      ]
     },
     "metadata": {},
     "output_type": "display_data"
    },
    {
     "name": "stdout",
     "output_type": "stream",
     "text": [
      "Processing batch 1443/1554\n"
     ]
    },
    {
     "data": {
      "application/vnd.jupyter.widget-view+json": {
       "model_id": "5b62da1a0fd84e27bf71a9e7844f4cb5",
       "version_major": 2,
       "version_minor": 0
      },
      "text/plain": [
       "Resizing images (rxrx3):   0%|          | 0/100 [00:00<?, ?it/s]"
      ]
     },
     "metadata": {},
     "output_type": "display_data"
    },
    {
     "name": "stdout",
     "output_type": "stream",
     "text": [
      "Processing batch 1444/1554\n"
     ]
    },
    {
     "data": {
      "application/vnd.jupyter.widget-view+json": {
       "model_id": "2187c3ed6302471bb7f8db8f32d6ceac",
       "version_major": 2,
       "version_minor": 0
      },
      "text/plain": [
       "Resizing images (rxrx3):   0%|          | 0/100 [00:00<?, ?it/s]"
      ]
     },
     "metadata": {},
     "output_type": "display_data"
    },
    {
     "name": "stdout",
     "output_type": "stream",
     "text": [
      "Processing batch 1445/1554\n"
     ]
    },
    {
     "data": {
      "application/vnd.jupyter.widget-view+json": {
       "model_id": "58acefc1e8f0412eb80cfae29efd1ebb",
       "version_major": 2,
       "version_minor": 0
      },
      "text/plain": [
       "Resizing images (rxrx3):   0%|          | 0/100 [00:00<?, ?it/s]"
      ]
     },
     "metadata": {},
     "output_type": "display_data"
    },
    {
     "name": "stdout",
     "output_type": "stream",
     "text": [
      "Processing batch 1446/1554\n"
     ]
    },
    {
     "data": {
      "application/vnd.jupyter.widget-view+json": {
       "model_id": "93331afca8654d438d58590d1f158e59",
       "version_major": 2,
       "version_minor": 0
      },
      "text/plain": [
       "Resizing images (rxrx3):   0%|          | 0/100 [00:00<?, ?it/s]"
      ]
     },
     "metadata": {},
     "output_type": "display_data"
    },
    {
     "name": "stdout",
     "output_type": "stream",
     "text": [
      "Processing batch 1447/1554\n"
     ]
    },
    {
     "data": {
      "application/vnd.jupyter.widget-view+json": {
       "model_id": "c830198893cd4ff8aeed33872f4a9848",
       "version_major": 2,
       "version_minor": 0
      },
      "text/plain": [
       "Resizing images (rxrx3):   0%|          | 0/100 [00:00<?, ?it/s]"
      ]
     },
     "metadata": {},
     "output_type": "display_data"
    },
    {
     "name": "stdout",
     "output_type": "stream",
     "text": [
      "Processing batch 1448/1554\n"
     ]
    },
    {
     "data": {
      "application/vnd.jupyter.widget-view+json": {
       "model_id": "216cc7c1780047bfbeafc481978b7eb0",
       "version_major": 2,
       "version_minor": 0
      },
      "text/plain": [
       "Resizing images (rxrx3):   0%|          | 0/100 [00:00<?, ?it/s]"
      ]
     },
     "metadata": {},
     "output_type": "display_data"
    },
    {
     "name": "stdout",
     "output_type": "stream",
     "text": [
      "Processing batch 1449/1554\n"
     ]
    },
    {
     "data": {
      "application/vnd.jupyter.widget-view+json": {
       "model_id": "b99e734dd96e4ca696dc3366e6d7c3fb",
       "version_major": 2,
       "version_minor": 0
      },
      "text/plain": [
       "Resizing images (rxrx3):   0%|          | 0/100 [00:00<?, ?it/s]"
      ]
     },
     "metadata": {},
     "output_type": "display_data"
    },
    {
     "name": "stdout",
     "output_type": "stream",
     "text": [
      "Processing batch 1450/1554\n"
     ]
    },
    {
     "data": {
      "application/vnd.jupyter.widget-view+json": {
       "model_id": "51818bcf438740c9b7f92eff14804212",
       "version_major": 2,
       "version_minor": 0
      },
      "text/plain": [
       "Resizing images (rxrx3):   0%|          | 0/100 [00:00<?, ?it/s]"
      ]
     },
     "metadata": {},
     "output_type": "display_data"
    },
    {
     "name": "stdout",
     "output_type": "stream",
     "text": [
      "Processing batch 1451/1554\n"
     ]
    },
    {
     "data": {
      "application/vnd.jupyter.widget-view+json": {
       "model_id": "7f866cdb05b84de39a46a2d119f49890",
       "version_major": 2,
       "version_minor": 0
      },
      "text/plain": [
       "Resizing images (rxrx3):   0%|          | 0/100 [00:00<?, ?it/s]"
      ]
     },
     "metadata": {},
     "output_type": "display_data"
    },
    {
     "name": "stdout",
     "output_type": "stream",
     "text": [
      "Processing batch 1452/1554\n"
     ]
    },
    {
     "data": {
      "application/vnd.jupyter.widget-view+json": {
       "model_id": "382f5c6a3f704b4a9aa5a6129483d06d",
       "version_major": 2,
       "version_minor": 0
      },
      "text/plain": [
       "Resizing images (rxrx3):   0%|          | 0/100 [00:00<?, ?it/s]"
      ]
     },
     "metadata": {},
     "output_type": "display_data"
    },
    {
     "name": "stdout",
     "output_type": "stream",
     "text": [
      "Processing batch 1453/1554\n"
     ]
    },
    {
     "data": {
      "application/vnd.jupyter.widget-view+json": {
       "model_id": "5c79d09e83f8438d8b721d97a4fb53d4",
       "version_major": 2,
       "version_minor": 0
      },
      "text/plain": [
       "Resizing images (rxrx3):   0%|          | 0/100 [00:00<?, ?it/s]"
      ]
     },
     "metadata": {},
     "output_type": "display_data"
    },
    {
     "name": "stdout",
     "output_type": "stream",
     "text": [
      "Processing batch 1454/1554\n"
     ]
    },
    {
     "data": {
      "application/vnd.jupyter.widget-view+json": {
       "model_id": "01348fa95d674beeb2f9671fe81b9d69",
       "version_major": 2,
       "version_minor": 0
      },
      "text/plain": [
       "Resizing images (rxrx3):   0%|          | 0/100 [00:00<?, ?it/s]"
      ]
     },
     "metadata": {},
     "output_type": "display_data"
    },
    {
     "name": "stdout",
     "output_type": "stream",
     "text": [
      "Processing batch 1455/1554\n"
     ]
    },
    {
     "data": {
      "application/vnd.jupyter.widget-view+json": {
       "model_id": "54bbf0ceaa1b41c48092f0bf188978de",
       "version_major": 2,
       "version_minor": 0
      },
      "text/plain": [
       "Resizing images (rxrx3):   0%|          | 0/100 [00:00<?, ?it/s]"
      ]
     },
     "metadata": {},
     "output_type": "display_data"
    },
    {
     "name": "stdout",
     "output_type": "stream",
     "text": [
      "Processing batch 1456/1554\n"
     ]
    },
    {
     "data": {
      "application/vnd.jupyter.widget-view+json": {
       "model_id": "31edf40a28c745debd7377a57ca4c755",
       "version_major": 2,
       "version_minor": 0
      },
      "text/plain": [
       "Resizing images (rxrx3):   0%|          | 0/100 [00:00<?, ?it/s]"
      ]
     },
     "metadata": {},
     "output_type": "display_data"
    },
    {
     "name": "stdout",
     "output_type": "stream",
     "text": [
      "Processing batch 1457/1554\n"
     ]
    },
    {
     "data": {
      "application/vnd.jupyter.widget-view+json": {
       "model_id": "9d98335950a74747a43cbd20aa8d18fd",
       "version_major": 2,
       "version_minor": 0
      },
      "text/plain": [
       "Resizing images (rxrx3):   0%|          | 0/100 [00:00<?, ?it/s]"
      ]
     },
     "metadata": {},
     "output_type": "display_data"
    },
    {
     "name": "stdout",
     "output_type": "stream",
     "text": [
      "Processing batch 1458/1554\n"
     ]
    },
    {
     "data": {
      "application/vnd.jupyter.widget-view+json": {
       "model_id": "ea224266d7a24f49ab349bab2dd993f8",
       "version_major": 2,
       "version_minor": 0
      },
      "text/plain": [
       "Resizing images (rxrx3):   0%|          | 0/100 [00:00<?, ?it/s]"
      ]
     },
     "metadata": {},
     "output_type": "display_data"
    },
    {
     "name": "stdout",
     "output_type": "stream",
     "text": [
      "Processing batch 1459/1554\n"
     ]
    },
    {
     "data": {
      "application/vnd.jupyter.widget-view+json": {
       "model_id": "ae1b7d6fcb0f4016b280c2253f6a20a2",
       "version_major": 2,
       "version_minor": 0
      },
      "text/plain": [
       "Resizing images (rxrx3):   0%|          | 0/100 [00:00<?, ?it/s]"
      ]
     },
     "metadata": {},
     "output_type": "display_data"
    },
    {
     "name": "stdout",
     "output_type": "stream",
     "text": [
      "Processing batch 1460/1554\n"
     ]
    },
    {
     "data": {
      "application/vnd.jupyter.widget-view+json": {
       "model_id": "c5d66d5c05234a56818bdf5b5e4ce79b",
       "version_major": 2,
       "version_minor": 0
      },
      "text/plain": [
       "Resizing images (rxrx3):   0%|          | 0/100 [00:00<?, ?it/s]"
      ]
     },
     "metadata": {},
     "output_type": "display_data"
    },
    {
     "name": "stdout",
     "output_type": "stream",
     "text": [
      "Processing batch 1461/1554\n"
     ]
    },
    {
     "data": {
      "application/vnd.jupyter.widget-view+json": {
       "model_id": "cd0bd41739924b4692d8d1be20dcea2a",
       "version_major": 2,
       "version_minor": 0
      },
      "text/plain": [
       "Resizing images (rxrx3):   0%|          | 0/100 [00:00<?, ?it/s]"
      ]
     },
     "metadata": {},
     "output_type": "display_data"
    },
    {
     "name": "stdout",
     "output_type": "stream",
     "text": [
      "Processing batch 1462/1554\n"
     ]
    },
    {
     "data": {
      "application/vnd.jupyter.widget-view+json": {
       "model_id": "7b2f0c92081d4ca2a2ae47f4f28e83c4",
       "version_major": 2,
       "version_minor": 0
      },
      "text/plain": [
       "Resizing images (rxrx3):   0%|          | 0/100 [00:00<?, ?it/s]"
      ]
     },
     "metadata": {},
     "output_type": "display_data"
    },
    {
     "name": "stdout",
     "output_type": "stream",
     "text": [
      "Processing batch 1463/1554\n"
     ]
    },
    {
     "data": {
      "application/vnd.jupyter.widget-view+json": {
       "model_id": "1795fc26d49246b489b4cc5c395e57b3",
       "version_major": 2,
       "version_minor": 0
      },
      "text/plain": [
       "Resizing images (rxrx3):   0%|          | 0/100 [00:00<?, ?it/s]"
      ]
     },
     "metadata": {},
     "output_type": "display_data"
    },
    {
     "name": "stdout",
     "output_type": "stream",
     "text": [
      "Processing batch 1464/1554\n"
     ]
    },
    {
     "data": {
      "application/vnd.jupyter.widget-view+json": {
       "model_id": "71a2dc9c95984b00ad724c2902846f88",
       "version_major": 2,
       "version_minor": 0
      },
      "text/plain": [
       "Resizing images (rxrx3):   0%|          | 0/100 [00:00<?, ?it/s]"
      ]
     },
     "metadata": {},
     "output_type": "display_data"
    },
    {
     "name": "stdout",
     "output_type": "stream",
     "text": [
      "Processing batch 1465/1554\n"
     ]
    },
    {
     "data": {
      "application/vnd.jupyter.widget-view+json": {
       "model_id": "096aac582eac40d682d1bdb89c59d513",
       "version_major": 2,
       "version_minor": 0
      },
      "text/plain": [
       "Resizing images (rxrx3):   0%|          | 0/100 [00:00<?, ?it/s]"
      ]
     },
     "metadata": {},
     "output_type": "display_data"
    },
    {
     "name": "stdout",
     "output_type": "stream",
     "text": [
      "Processing batch 1466/1554\n"
     ]
    },
    {
     "data": {
      "application/vnd.jupyter.widget-view+json": {
       "model_id": "c1583ee29eee46e4b5ee7f1ab37ff524",
       "version_major": 2,
       "version_minor": 0
      },
      "text/plain": [
       "Resizing images (rxrx3):   0%|          | 0/100 [00:00<?, ?it/s]"
      ]
     },
     "metadata": {},
     "output_type": "display_data"
    },
    {
     "name": "stdout",
     "output_type": "stream",
     "text": [
      "Processing batch 1467/1554\n"
     ]
    },
    {
     "data": {
      "application/vnd.jupyter.widget-view+json": {
       "model_id": "87e7b392d31e44caa092569ea3e6c2e5",
       "version_major": 2,
       "version_minor": 0
      },
      "text/plain": [
       "Resizing images (rxrx3):   0%|          | 0/100 [00:00<?, ?it/s]"
      ]
     },
     "metadata": {},
     "output_type": "display_data"
    },
    {
     "name": "stdout",
     "output_type": "stream",
     "text": [
      "Processing batch 1468/1554\n"
     ]
    },
    {
     "data": {
      "application/vnd.jupyter.widget-view+json": {
       "model_id": "373fddec94cd4c86a73f65ff023cef6e",
       "version_major": 2,
       "version_minor": 0
      },
      "text/plain": [
       "Resizing images (rxrx3):   0%|          | 0/100 [00:00<?, ?it/s]"
      ]
     },
     "metadata": {},
     "output_type": "display_data"
    },
    {
     "name": "stdout",
     "output_type": "stream",
     "text": [
      "Processing batch 1469/1554\n"
     ]
    },
    {
     "data": {
      "application/vnd.jupyter.widget-view+json": {
       "model_id": "32c26a94af4c402e981dfc27a519f694",
       "version_major": 2,
       "version_minor": 0
      },
      "text/plain": [
       "Resizing images (rxrx3):   0%|          | 0/100 [00:00<?, ?it/s]"
      ]
     },
     "metadata": {},
     "output_type": "display_data"
    },
    {
     "name": "stdout",
     "output_type": "stream",
     "text": [
      "Processing batch 1470/1554\n"
     ]
    },
    {
     "data": {
      "application/vnd.jupyter.widget-view+json": {
       "model_id": "24533326574e4d51a99543e92c2430a6",
       "version_major": 2,
       "version_minor": 0
      },
      "text/plain": [
       "Resizing images (rxrx3):   0%|          | 0/100 [00:00<?, ?it/s]"
      ]
     },
     "metadata": {},
     "output_type": "display_data"
    },
    {
     "name": "stdout",
     "output_type": "stream",
     "text": [
      "Processing batch 1471/1554\n"
     ]
    },
    {
     "data": {
      "application/vnd.jupyter.widget-view+json": {
       "model_id": "ff832e3721e24118bd0114ebf17d49db",
       "version_major": 2,
       "version_minor": 0
      },
      "text/plain": [
       "Resizing images (rxrx3):   0%|          | 0/100 [00:00<?, ?it/s]"
      ]
     },
     "metadata": {},
     "output_type": "display_data"
    },
    {
     "name": "stdout",
     "output_type": "stream",
     "text": [
      "Processing batch 1472/1554\n"
     ]
    },
    {
     "data": {
      "application/vnd.jupyter.widget-view+json": {
       "model_id": "d9c228cc026b4f23a8cbde5d67c1b86c",
       "version_major": 2,
       "version_minor": 0
      },
      "text/plain": [
       "Resizing images (rxrx3):   0%|          | 0/100 [00:00<?, ?it/s]"
      ]
     },
     "metadata": {},
     "output_type": "display_data"
    },
    {
     "name": "stdout",
     "output_type": "stream",
     "text": [
      "Processing batch 1473/1554\n"
     ]
    },
    {
     "data": {
      "application/vnd.jupyter.widget-view+json": {
       "model_id": "09517e8337834064aae2095b9d768690",
       "version_major": 2,
       "version_minor": 0
      },
      "text/plain": [
       "Resizing images (rxrx3):   0%|          | 0/100 [00:00<?, ?it/s]"
      ]
     },
     "metadata": {},
     "output_type": "display_data"
    },
    {
     "name": "stdout",
     "output_type": "stream",
     "text": [
      "Processing batch 1474/1554\n"
     ]
    },
    {
     "data": {
      "application/vnd.jupyter.widget-view+json": {
       "model_id": "9b833216a4ef4a8caac4f8d8ea3a2477",
       "version_major": 2,
       "version_minor": 0
      },
      "text/plain": [
       "Resizing images (rxrx3):   0%|          | 0/100 [00:00<?, ?it/s]"
      ]
     },
     "metadata": {},
     "output_type": "display_data"
    },
    {
     "name": "stdout",
     "output_type": "stream",
     "text": [
      "Processing batch 1475/1554\n"
     ]
    },
    {
     "data": {
      "application/vnd.jupyter.widget-view+json": {
       "model_id": "b702fa6f101b41468284608c5dfd010a",
       "version_major": 2,
       "version_minor": 0
      },
      "text/plain": [
       "Resizing images (rxrx3):   0%|          | 0/100 [00:00<?, ?it/s]"
      ]
     },
     "metadata": {},
     "output_type": "display_data"
    },
    {
     "name": "stdout",
     "output_type": "stream",
     "text": [
      "Processing batch 1476/1554\n"
     ]
    },
    {
     "data": {
      "application/vnd.jupyter.widget-view+json": {
       "model_id": "c425a07079c942c0b5c36993910161ba",
       "version_major": 2,
       "version_minor": 0
      },
      "text/plain": [
       "Resizing images (rxrx3):   0%|          | 0/100 [00:00<?, ?it/s]"
      ]
     },
     "metadata": {},
     "output_type": "display_data"
    },
    {
     "name": "stdout",
     "output_type": "stream",
     "text": [
      "Processing batch 1477/1554\n"
     ]
    },
    {
     "data": {
      "application/vnd.jupyter.widget-view+json": {
       "model_id": "dc78a57f0f5e4e2daa0d9b52e7fba9cd",
       "version_major": 2,
       "version_minor": 0
      },
      "text/plain": [
       "Resizing images (rxrx3):   0%|          | 0/100 [00:00<?, ?it/s]"
      ]
     },
     "metadata": {},
     "output_type": "display_data"
    },
    {
     "name": "stdout",
     "output_type": "stream",
     "text": [
      "Processing batch 1478/1554\n"
     ]
    },
    {
     "data": {
      "application/vnd.jupyter.widget-view+json": {
       "model_id": "4a5348c9ec6d4e2f92eccf97b52e918b",
       "version_major": 2,
       "version_minor": 0
      },
      "text/plain": [
       "Resizing images (rxrx3):   0%|          | 0/100 [00:00<?, ?it/s]"
      ]
     },
     "metadata": {},
     "output_type": "display_data"
    },
    {
     "name": "stdout",
     "output_type": "stream",
     "text": [
      "Processing batch 1479/1554\n"
     ]
    },
    {
     "data": {
      "application/vnd.jupyter.widget-view+json": {
       "model_id": "d87daa8dd09941e39ce02773c6f13894",
       "version_major": 2,
       "version_minor": 0
      },
      "text/plain": [
       "Resizing images (rxrx3):   0%|          | 0/100 [00:00<?, ?it/s]"
      ]
     },
     "metadata": {},
     "output_type": "display_data"
    },
    {
     "name": "stdout",
     "output_type": "stream",
     "text": [
      "Processing batch 1480/1554\n"
     ]
    },
    {
     "data": {
      "application/vnd.jupyter.widget-view+json": {
       "model_id": "666add5f36a744ab83139e23ab2ccfab",
       "version_major": 2,
       "version_minor": 0
      },
      "text/plain": [
       "Resizing images (rxrx3):   0%|          | 0/100 [00:00<?, ?it/s]"
      ]
     },
     "metadata": {},
     "output_type": "display_data"
    },
    {
     "name": "stdout",
     "output_type": "stream",
     "text": [
      "Processing batch 1481/1554\n"
     ]
    },
    {
     "data": {
      "application/vnd.jupyter.widget-view+json": {
       "model_id": "3a337e595aef4c6aac660414fea593c4",
       "version_major": 2,
       "version_minor": 0
      },
      "text/plain": [
       "Resizing images (rxrx3):   0%|          | 0/100 [00:00<?, ?it/s]"
      ]
     },
     "metadata": {},
     "output_type": "display_data"
    },
    {
     "name": "stdout",
     "output_type": "stream",
     "text": [
      "Processing batch 1482/1554\n"
     ]
    },
    {
     "data": {
      "application/vnd.jupyter.widget-view+json": {
       "model_id": "c086dfa1d70c410781e6fd3756796e49",
       "version_major": 2,
       "version_minor": 0
      },
      "text/plain": [
       "Resizing images (rxrx3):   0%|          | 0/100 [00:00<?, ?it/s]"
      ]
     },
     "metadata": {},
     "output_type": "display_data"
    },
    {
     "name": "stdout",
     "output_type": "stream",
     "text": [
      "Processing batch 1483/1554\n"
     ]
    },
    {
     "data": {
      "application/vnd.jupyter.widget-view+json": {
       "model_id": "9137196fbddc4eb7b46fc22143e75c0e",
       "version_major": 2,
       "version_minor": 0
      },
      "text/plain": [
       "Resizing images (rxrx3):   0%|          | 0/100 [00:00<?, ?it/s]"
      ]
     },
     "metadata": {},
     "output_type": "display_data"
    },
    {
     "name": "stdout",
     "output_type": "stream",
     "text": [
      "Processing batch 1484/1554\n"
     ]
    },
    {
     "data": {
      "application/vnd.jupyter.widget-view+json": {
       "model_id": "5e2c5f8da4a34e76b40bec1113a737c4",
       "version_major": 2,
       "version_minor": 0
      },
      "text/plain": [
       "Resizing images (rxrx3):   0%|          | 0/100 [00:00<?, ?it/s]"
      ]
     },
     "metadata": {},
     "output_type": "display_data"
    },
    {
     "name": "stdout",
     "output_type": "stream",
     "text": [
      "Processing batch 1485/1554\n"
     ]
    },
    {
     "data": {
      "application/vnd.jupyter.widget-view+json": {
       "model_id": "b459713a42024bfeb51964fbf440f142",
       "version_major": 2,
       "version_minor": 0
      },
      "text/plain": [
       "Resizing images (rxrx3):   0%|          | 0/100 [00:00<?, ?it/s]"
      ]
     },
     "metadata": {},
     "output_type": "display_data"
    },
    {
     "name": "stdout",
     "output_type": "stream",
     "text": [
      "Processing batch 1486/1554\n"
     ]
    },
    {
     "data": {
      "application/vnd.jupyter.widget-view+json": {
       "model_id": "16258d1f0bc14ee3bbf1ceaedd3505e9",
       "version_major": 2,
       "version_minor": 0
      },
      "text/plain": [
       "Resizing images (rxrx3):   0%|          | 0/100 [00:00<?, ?it/s]"
      ]
     },
     "metadata": {},
     "output_type": "display_data"
    },
    {
     "name": "stdout",
     "output_type": "stream",
     "text": [
      "Processing batch 1487/1554\n"
     ]
    },
    {
     "data": {
      "application/vnd.jupyter.widget-view+json": {
       "model_id": "cc4c7a9a52d64936a11b82a46da28344",
       "version_major": 2,
       "version_minor": 0
      },
      "text/plain": [
       "Resizing images (rxrx3):   0%|          | 0/100 [00:00<?, ?it/s]"
      ]
     },
     "metadata": {},
     "output_type": "display_data"
    },
    {
     "name": "stdout",
     "output_type": "stream",
     "text": [
      "Processing batch 1488/1554\n"
     ]
    },
    {
     "data": {
      "application/vnd.jupyter.widget-view+json": {
       "model_id": "aec2babeb15e4feda7e1cee8cfc0e211",
       "version_major": 2,
       "version_minor": 0
      },
      "text/plain": [
       "Resizing images (rxrx3):   0%|          | 0/100 [00:00<?, ?it/s]"
      ]
     },
     "metadata": {},
     "output_type": "display_data"
    },
    {
     "name": "stdout",
     "output_type": "stream",
     "text": [
      "Processing batch 1489/1554\n"
     ]
    },
    {
     "data": {
      "application/vnd.jupyter.widget-view+json": {
       "model_id": "25fc29c7edd340999f3c9c6b3dc051c4",
       "version_major": 2,
       "version_minor": 0
      },
      "text/plain": [
       "Resizing images (rxrx3):   0%|          | 0/100 [00:00<?, ?it/s]"
      ]
     },
     "metadata": {},
     "output_type": "display_data"
    },
    {
     "name": "stdout",
     "output_type": "stream",
     "text": [
      "Processing batch 1490/1554\n"
     ]
    },
    {
     "data": {
      "application/vnd.jupyter.widget-view+json": {
       "model_id": "f053ff21c7194721b9b1f764f989338d",
       "version_major": 2,
       "version_minor": 0
      },
      "text/plain": [
       "Resizing images (rxrx3):   0%|          | 0/100 [00:00<?, ?it/s]"
      ]
     },
     "metadata": {},
     "output_type": "display_data"
    },
    {
     "name": "stdout",
     "output_type": "stream",
     "text": [
      "Processing batch 1491/1554\n"
     ]
    },
    {
     "data": {
      "application/vnd.jupyter.widget-view+json": {
       "model_id": "66f1d0d7dc4745c79187570739d4970a",
       "version_major": 2,
       "version_minor": 0
      },
      "text/plain": [
       "Resizing images (rxrx3):   0%|          | 0/100 [00:00<?, ?it/s]"
      ]
     },
     "metadata": {},
     "output_type": "display_data"
    },
    {
     "name": "stdout",
     "output_type": "stream",
     "text": [
      "Processing batch 1492/1554\n"
     ]
    },
    {
     "data": {
      "application/vnd.jupyter.widget-view+json": {
       "model_id": "78311194e8ba44a98627f587b7de1e68",
       "version_major": 2,
       "version_minor": 0
      },
      "text/plain": [
       "Resizing images (rxrx3):   0%|          | 0/100 [00:00<?, ?it/s]"
      ]
     },
     "metadata": {},
     "output_type": "display_data"
    },
    {
     "name": "stdout",
     "output_type": "stream",
     "text": [
      "Processing batch 1493/1554\n"
     ]
    },
    {
     "data": {
      "application/vnd.jupyter.widget-view+json": {
       "model_id": "e3ea38dcb82f42e1baac8b2f7e75e2db",
       "version_major": 2,
       "version_minor": 0
      },
      "text/plain": [
       "Resizing images (rxrx3):   0%|          | 0/100 [00:00<?, ?it/s]"
      ]
     },
     "metadata": {},
     "output_type": "display_data"
    },
    {
     "name": "stdout",
     "output_type": "stream",
     "text": [
      "Processing batch 1494/1554\n"
     ]
    },
    {
     "data": {
      "application/vnd.jupyter.widget-view+json": {
       "model_id": "9d73c2d1da6549329a286aef379908a3",
       "version_major": 2,
       "version_minor": 0
      },
      "text/plain": [
       "Resizing images (rxrx3):   0%|          | 0/100 [00:00<?, ?it/s]"
      ]
     },
     "metadata": {},
     "output_type": "display_data"
    },
    {
     "name": "stdout",
     "output_type": "stream",
     "text": [
      "Processing batch 1495/1554\n"
     ]
    },
    {
     "data": {
      "application/vnd.jupyter.widget-view+json": {
       "model_id": "ae91e8d79db74da6a768700498d4fafb",
       "version_major": 2,
       "version_minor": 0
      },
      "text/plain": [
       "Resizing images (rxrx3):   0%|          | 0/100 [00:00<?, ?it/s]"
      ]
     },
     "metadata": {},
     "output_type": "display_data"
    },
    {
     "name": "stdout",
     "output_type": "stream",
     "text": [
      "Processing batch 1496/1554\n"
     ]
    },
    {
     "data": {
      "application/vnd.jupyter.widget-view+json": {
       "model_id": "3473f050d6f942a9b0cd675677fa5391",
       "version_major": 2,
       "version_minor": 0
      },
      "text/plain": [
       "Resizing images (rxrx3):   0%|          | 0/100 [00:00<?, ?it/s]"
      ]
     },
     "metadata": {},
     "output_type": "display_data"
    },
    {
     "name": "stdout",
     "output_type": "stream",
     "text": [
      "Processing batch 1497/1554\n"
     ]
    },
    {
     "data": {
      "application/vnd.jupyter.widget-view+json": {
       "model_id": "de5549968fdf4d98b22b3a8e1acf5d9d",
       "version_major": 2,
       "version_minor": 0
      },
      "text/plain": [
       "Resizing images (rxrx3):   0%|          | 0/100 [00:00<?, ?it/s]"
      ]
     },
     "metadata": {},
     "output_type": "display_data"
    },
    {
     "name": "stdout",
     "output_type": "stream",
     "text": [
      "Processing batch 1498/1554\n"
     ]
    },
    {
     "data": {
      "application/vnd.jupyter.widget-view+json": {
       "model_id": "8a46cabac3b8464da1a74acffe50ded8",
       "version_major": 2,
       "version_minor": 0
      },
      "text/plain": [
       "Resizing images (rxrx3):   0%|          | 0/100 [00:00<?, ?it/s]"
      ]
     },
     "metadata": {},
     "output_type": "display_data"
    },
    {
     "name": "stdout",
     "output_type": "stream",
     "text": [
      "Processing batch 1499/1554\n"
     ]
    },
    {
     "data": {
      "application/vnd.jupyter.widget-view+json": {
       "model_id": "86f5fb50fb3242a68d257d905c5f270f",
       "version_major": 2,
       "version_minor": 0
      },
      "text/plain": [
       "Resizing images (rxrx3):   0%|          | 0/100 [00:00<?, ?it/s]"
      ]
     },
     "metadata": {},
     "output_type": "display_data"
    },
    {
     "name": "stdout",
     "output_type": "stream",
     "text": [
      "Processing batch 1500/1554\n"
     ]
    },
    {
     "data": {
      "application/vnd.jupyter.widget-view+json": {
       "model_id": "ce0e5df4937845aa9db0892c796d080e",
       "version_major": 2,
       "version_minor": 0
      },
      "text/plain": [
       "Resizing images (rxrx3):   0%|          | 0/100 [00:00<?, ?it/s]"
      ]
     },
     "metadata": {},
     "output_type": "display_data"
    },
    {
     "name": "stdout",
     "output_type": "stream",
     "text": [
      "Processing batch 1501/1554\n"
     ]
    },
    {
     "data": {
      "application/vnd.jupyter.widget-view+json": {
       "model_id": "4a59185921e94a12a1a956f3c8ddec22",
       "version_major": 2,
       "version_minor": 0
      },
      "text/plain": [
       "Resizing images (rxrx3):   0%|          | 0/100 [00:00<?, ?it/s]"
      ]
     },
     "metadata": {},
     "output_type": "display_data"
    },
    {
     "name": "stdout",
     "output_type": "stream",
     "text": [
      "Processing batch 1502/1554\n"
     ]
    },
    {
     "data": {
      "application/vnd.jupyter.widget-view+json": {
       "model_id": "667061aab34b48628e3bb2212e01ed39",
       "version_major": 2,
       "version_minor": 0
      },
      "text/plain": [
       "Resizing images (rxrx3):   0%|          | 0/100 [00:00<?, ?it/s]"
      ]
     },
     "metadata": {},
     "output_type": "display_data"
    },
    {
     "name": "stdout",
     "output_type": "stream",
     "text": [
      "Processing batch 1503/1554\n"
     ]
    },
    {
     "data": {
      "application/vnd.jupyter.widget-view+json": {
       "model_id": "3cc3b83c91c84a34978910c2f15d2155",
       "version_major": 2,
       "version_minor": 0
      },
      "text/plain": [
       "Resizing images (rxrx3):   0%|          | 0/100 [00:00<?, ?it/s]"
      ]
     },
     "metadata": {},
     "output_type": "display_data"
    },
    {
     "name": "stdout",
     "output_type": "stream",
     "text": [
      "Processing batch 1504/1554\n"
     ]
    },
    {
     "data": {
      "application/vnd.jupyter.widget-view+json": {
       "model_id": "0146716d2ae04263a6eb9ed46e187782",
       "version_major": 2,
       "version_minor": 0
      },
      "text/plain": [
       "Resizing images (rxrx3):   0%|          | 0/100 [00:00<?, ?it/s]"
      ]
     },
     "metadata": {},
     "output_type": "display_data"
    },
    {
     "name": "stdout",
     "output_type": "stream",
     "text": [
      "Processing batch 1505/1554\n"
     ]
    },
    {
     "data": {
      "application/vnd.jupyter.widget-view+json": {
       "model_id": "9e97d71645e0415c8fc3f79d6e065760",
       "version_major": 2,
       "version_minor": 0
      },
      "text/plain": [
       "Resizing images (rxrx3):   0%|          | 0/100 [00:00<?, ?it/s]"
      ]
     },
     "metadata": {},
     "output_type": "display_data"
    },
    {
     "name": "stdout",
     "output_type": "stream",
     "text": [
      "Processing batch 1506/1554\n"
     ]
    },
    {
     "data": {
      "application/vnd.jupyter.widget-view+json": {
       "model_id": "c6c52a2c7b0441d394fe19d7e05b1ec6",
       "version_major": 2,
       "version_minor": 0
      },
      "text/plain": [
       "Resizing images (rxrx3):   0%|          | 0/100 [00:00<?, ?it/s]"
      ]
     },
     "metadata": {},
     "output_type": "display_data"
    },
    {
     "name": "stdout",
     "output_type": "stream",
     "text": [
      "Processing batch 1507/1554\n"
     ]
    },
    {
     "data": {
      "application/vnd.jupyter.widget-view+json": {
       "model_id": "db640e82eee74b1fa25a6227922b3fa5",
       "version_major": 2,
       "version_minor": 0
      },
      "text/plain": [
       "Resizing images (rxrx3):   0%|          | 0/100 [00:00<?, ?it/s]"
      ]
     },
     "metadata": {},
     "output_type": "display_data"
    },
    {
     "name": "stdout",
     "output_type": "stream",
     "text": [
      "Processing batch 1508/1554\n"
     ]
    },
    {
     "data": {
      "application/vnd.jupyter.widget-view+json": {
       "model_id": "468d544fb6e24150bd6a52f04b77ac87",
       "version_major": 2,
       "version_minor": 0
      },
      "text/plain": [
       "Resizing images (rxrx3):   0%|          | 0/100 [00:00<?, ?it/s]"
      ]
     },
     "metadata": {},
     "output_type": "display_data"
    },
    {
     "name": "stdout",
     "output_type": "stream",
     "text": [
      "Processing batch 1509/1554\n"
     ]
    },
    {
     "data": {
      "application/vnd.jupyter.widget-view+json": {
       "model_id": "0e637079a00e4bb599822288f9e3e1e6",
       "version_major": 2,
       "version_minor": 0
      },
      "text/plain": [
       "Resizing images (rxrx3):   0%|          | 0/100 [00:00<?, ?it/s]"
      ]
     },
     "metadata": {},
     "output_type": "display_data"
    },
    {
     "name": "stdout",
     "output_type": "stream",
     "text": [
      "Processing batch 1510/1554\n"
     ]
    },
    {
     "data": {
      "application/vnd.jupyter.widget-view+json": {
       "model_id": "1f1588c9a6524ea1be98c040836f1982",
       "version_major": 2,
       "version_minor": 0
      },
      "text/plain": [
       "Resizing images (rxrx3):   0%|          | 0/100 [00:00<?, ?it/s]"
      ]
     },
     "metadata": {},
     "output_type": "display_data"
    },
    {
     "name": "stdout",
     "output_type": "stream",
     "text": [
      "Processing batch 1511/1554\n"
     ]
    },
    {
     "data": {
      "application/vnd.jupyter.widget-view+json": {
       "model_id": "8ce8bfa118ba42509ffe67982f3b26b2",
       "version_major": 2,
       "version_minor": 0
      },
      "text/plain": [
       "Resizing images (rxrx3):   0%|          | 0/100 [00:00<?, ?it/s]"
      ]
     },
     "metadata": {},
     "output_type": "display_data"
    },
    {
     "name": "stdout",
     "output_type": "stream",
     "text": [
      "Processing batch 1512/1554\n"
     ]
    },
    {
     "data": {
      "application/vnd.jupyter.widget-view+json": {
       "model_id": "9598487a09e8419399ec1f7b4fcdeee3",
       "version_major": 2,
       "version_minor": 0
      },
      "text/plain": [
       "Resizing images (rxrx3):   0%|          | 0/100 [00:00<?, ?it/s]"
      ]
     },
     "metadata": {},
     "output_type": "display_data"
    },
    {
     "name": "stdout",
     "output_type": "stream",
     "text": [
      "Processing batch 1513/1554\n"
     ]
    },
    {
     "data": {
      "application/vnd.jupyter.widget-view+json": {
       "model_id": "cd223f897deb4f2fab0b9c9bc2f6ae7f",
       "version_major": 2,
       "version_minor": 0
      },
      "text/plain": [
       "Resizing images (rxrx3):   0%|          | 0/100 [00:00<?, ?it/s]"
      ]
     },
     "metadata": {},
     "output_type": "display_data"
    },
    {
     "name": "stdout",
     "output_type": "stream",
     "text": [
      "Processing batch 1514/1554\n"
     ]
    },
    {
     "data": {
      "application/vnd.jupyter.widget-view+json": {
       "model_id": "176c8b20705249c0bcba8a1673a93d25",
       "version_major": 2,
       "version_minor": 0
      },
      "text/plain": [
       "Resizing images (rxrx3):   0%|          | 0/100 [00:00<?, ?it/s]"
      ]
     },
     "metadata": {},
     "output_type": "display_data"
    },
    {
     "name": "stdout",
     "output_type": "stream",
     "text": [
      "Processing batch 1515/1554\n"
     ]
    },
    {
     "data": {
      "application/vnd.jupyter.widget-view+json": {
       "model_id": "1803ffdbfb61416db12b149e2e85c740",
       "version_major": 2,
       "version_minor": 0
      },
      "text/plain": [
       "Resizing images (rxrx3):   0%|          | 0/100 [00:00<?, ?it/s]"
      ]
     },
     "metadata": {},
     "output_type": "display_data"
    },
    {
     "name": "stdout",
     "output_type": "stream",
     "text": [
      "Processing batch 1516/1554\n"
     ]
    },
    {
     "data": {
      "application/vnd.jupyter.widget-view+json": {
       "model_id": "7a94a331cdaa4cd985d55c47e8ab39de",
       "version_major": 2,
       "version_minor": 0
      },
      "text/plain": [
       "Resizing images (rxrx3):   0%|          | 0/100 [00:00<?, ?it/s]"
      ]
     },
     "metadata": {},
     "output_type": "display_data"
    },
    {
     "name": "stdout",
     "output_type": "stream",
     "text": [
      "Processing batch 1517/1554\n"
     ]
    },
    {
     "data": {
      "application/vnd.jupyter.widget-view+json": {
       "model_id": "b4bb3d4ac0d744ee9b13ab1c06c05ad2",
       "version_major": 2,
       "version_minor": 0
      },
      "text/plain": [
       "Resizing images (rxrx3):   0%|          | 0/100 [00:00<?, ?it/s]"
      ]
     },
     "metadata": {},
     "output_type": "display_data"
    },
    {
     "name": "stdout",
     "output_type": "stream",
     "text": [
      "Processing batch 1518/1554\n"
     ]
    },
    {
     "data": {
      "application/vnd.jupyter.widget-view+json": {
       "model_id": "73319108a051486b9f042f0b1c580785",
       "version_major": 2,
       "version_minor": 0
      },
      "text/plain": [
       "Resizing images (rxrx3):   0%|          | 0/100 [00:00<?, ?it/s]"
      ]
     },
     "metadata": {},
     "output_type": "display_data"
    },
    {
     "name": "stdout",
     "output_type": "stream",
     "text": [
      "Processing batch 1519/1554\n"
     ]
    },
    {
     "data": {
      "application/vnd.jupyter.widget-view+json": {
       "model_id": "91cc843973c641e1a65f41c815be4248",
       "version_major": 2,
       "version_minor": 0
      },
      "text/plain": [
       "Resizing images (rxrx3):   0%|          | 0/100 [00:00<?, ?it/s]"
      ]
     },
     "metadata": {},
     "output_type": "display_data"
    },
    {
     "name": "stdout",
     "output_type": "stream",
     "text": [
      "Processing batch 1520/1554\n"
     ]
    },
    {
     "data": {
      "application/vnd.jupyter.widget-view+json": {
       "model_id": "bb8a12e18e2d43b8aa582fbcc9d5ca79",
       "version_major": 2,
       "version_minor": 0
      },
      "text/plain": [
       "Resizing images (rxrx3):   0%|          | 0/100 [00:00<?, ?it/s]"
      ]
     },
     "metadata": {},
     "output_type": "display_data"
    },
    {
     "name": "stdout",
     "output_type": "stream",
     "text": [
      "Processing batch 1521/1554\n"
     ]
    },
    {
     "data": {
      "application/vnd.jupyter.widget-view+json": {
       "model_id": "b550197135274016883804805a226416",
       "version_major": 2,
       "version_minor": 0
      },
      "text/plain": [
       "Resizing images (rxrx3):   0%|          | 0/100 [00:00<?, ?it/s]"
      ]
     },
     "metadata": {},
     "output_type": "display_data"
    },
    {
     "name": "stdout",
     "output_type": "stream",
     "text": [
      "Processing batch 1522/1554\n"
     ]
    },
    {
     "data": {
      "application/vnd.jupyter.widget-view+json": {
       "model_id": "7abcf902acf743199c8af2ccfec45676",
       "version_major": 2,
       "version_minor": 0
      },
      "text/plain": [
       "Resizing images (rxrx3):   0%|          | 0/100 [00:00<?, ?it/s]"
      ]
     },
     "metadata": {},
     "output_type": "display_data"
    },
    {
     "name": "stdout",
     "output_type": "stream",
     "text": [
      "Processing batch 1523/1554\n"
     ]
    },
    {
     "data": {
      "application/vnd.jupyter.widget-view+json": {
       "model_id": "4257922d649f47dd9e614639c55a7285",
       "version_major": 2,
       "version_minor": 0
      },
      "text/plain": [
       "Resizing images (rxrx3):   0%|          | 0/100 [00:00<?, ?it/s]"
      ]
     },
     "metadata": {},
     "output_type": "display_data"
    },
    {
     "name": "stdout",
     "output_type": "stream",
     "text": [
      "Processing batch 1524/1554\n"
     ]
    },
    {
     "data": {
      "application/vnd.jupyter.widget-view+json": {
       "model_id": "d5938074efc24a3e8e65348cffdbbe14",
       "version_major": 2,
       "version_minor": 0
      },
      "text/plain": [
       "Resizing images (rxrx3):   0%|          | 0/100 [00:00<?, ?it/s]"
      ]
     },
     "metadata": {},
     "output_type": "display_data"
    },
    {
     "name": "stdout",
     "output_type": "stream",
     "text": [
      "Processing batch 1525/1554\n"
     ]
    },
    {
     "data": {
      "application/vnd.jupyter.widget-view+json": {
       "model_id": "36e89bca2dda4c79bc8933df11cf71ea",
       "version_major": 2,
       "version_minor": 0
      },
      "text/plain": [
       "Resizing images (rxrx3):   0%|          | 0/100 [00:00<?, ?it/s]"
      ]
     },
     "metadata": {},
     "output_type": "display_data"
    },
    {
     "name": "stdout",
     "output_type": "stream",
     "text": [
      "Processing batch 1526/1554\n"
     ]
    },
    {
     "data": {
      "application/vnd.jupyter.widget-view+json": {
       "model_id": "06c99be8f3e24d9aaeb204f91da1c062",
       "version_major": 2,
       "version_minor": 0
      },
      "text/plain": [
       "Resizing images (rxrx3):   0%|          | 0/100 [00:00<?, ?it/s]"
      ]
     },
     "metadata": {},
     "output_type": "display_data"
    },
    {
     "name": "stdout",
     "output_type": "stream",
     "text": [
      "Processing batch 1527/1554\n"
     ]
    },
    {
     "data": {
      "application/vnd.jupyter.widget-view+json": {
       "model_id": "ef88b11f525a4667b3dab711b01c5f28",
       "version_major": 2,
       "version_minor": 0
      },
      "text/plain": [
       "Resizing images (rxrx3):   0%|          | 0/100 [00:00<?, ?it/s]"
      ]
     },
     "metadata": {},
     "output_type": "display_data"
    },
    {
     "name": "stdout",
     "output_type": "stream",
     "text": [
      "Processing batch 1528/1554\n"
     ]
    },
    {
     "data": {
      "application/vnd.jupyter.widget-view+json": {
       "model_id": "c87badb0a64a4864aebd577aba126145",
       "version_major": 2,
       "version_minor": 0
      },
      "text/plain": [
       "Resizing images (rxrx3):   0%|          | 0/100 [00:00<?, ?it/s]"
      ]
     },
     "metadata": {},
     "output_type": "display_data"
    },
    {
     "name": "stdout",
     "output_type": "stream",
     "text": [
      "Processing batch 1529/1554\n"
     ]
    },
    {
     "data": {
      "application/vnd.jupyter.widget-view+json": {
       "model_id": "009dfe27d347494b920d2fc21b7da128",
       "version_major": 2,
       "version_minor": 0
      },
      "text/plain": [
       "Resizing images (rxrx3):   0%|          | 0/100 [00:00<?, ?it/s]"
      ]
     },
     "metadata": {},
     "output_type": "display_data"
    },
    {
     "name": "stdout",
     "output_type": "stream",
     "text": [
      "Processing batch 1530/1554\n"
     ]
    },
    {
     "data": {
      "application/vnd.jupyter.widget-view+json": {
       "model_id": "a578fb7d918d421d80d46836406f6ef3",
       "version_major": 2,
       "version_minor": 0
      },
      "text/plain": [
       "Resizing images (rxrx3):   0%|          | 0/100 [00:00<?, ?it/s]"
      ]
     },
     "metadata": {},
     "output_type": "display_data"
    },
    {
     "name": "stdout",
     "output_type": "stream",
     "text": [
      "Processing batch 1531/1554\n"
     ]
    },
    {
     "data": {
      "application/vnd.jupyter.widget-view+json": {
       "model_id": "c11583074d9f4dbb87c22215003356bf",
       "version_major": 2,
       "version_minor": 0
      },
      "text/plain": [
       "Resizing images (rxrx3):   0%|          | 0/100 [00:00<?, ?it/s]"
      ]
     },
     "metadata": {},
     "output_type": "display_data"
    },
    {
     "name": "stdout",
     "output_type": "stream",
     "text": [
      "Processing batch 1532/1554\n"
     ]
    },
    {
     "data": {
      "application/vnd.jupyter.widget-view+json": {
       "model_id": "e64ad980f7b44c819c240c01fdcb2eeb",
       "version_major": 2,
       "version_minor": 0
      },
      "text/plain": [
       "Resizing images (rxrx3):   0%|          | 0/100 [00:00<?, ?it/s]"
      ]
     },
     "metadata": {},
     "output_type": "display_data"
    },
    {
     "name": "stdout",
     "output_type": "stream",
     "text": [
      "Processing batch 1533/1554\n"
     ]
    },
    {
     "data": {
      "application/vnd.jupyter.widget-view+json": {
       "model_id": "a55ab3922d60430fa5dc0f37090c5a4d",
       "version_major": 2,
       "version_minor": 0
      },
      "text/plain": [
       "Resizing images (rxrx3):   0%|          | 0/100 [00:00<?, ?it/s]"
      ]
     },
     "metadata": {},
     "output_type": "display_data"
    },
    {
     "name": "stdout",
     "output_type": "stream",
     "text": [
      "Processing batch 1534/1554\n"
     ]
    },
    {
     "data": {
      "application/vnd.jupyter.widget-view+json": {
       "model_id": "062e1e8b71134131b675afe10df03b4d",
       "version_major": 2,
       "version_minor": 0
      },
      "text/plain": [
       "Resizing images (rxrx3):   0%|          | 0/100 [00:00<?, ?it/s]"
      ]
     },
     "metadata": {},
     "output_type": "display_data"
    },
    {
     "name": "stdout",
     "output_type": "stream",
     "text": [
      "Processing batch 1535/1554\n"
     ]
    },
    {
     "data": {
      "application/vnd.jupyter.widget-view+json": {
       "model_id": "8e85c8d57f5f42589599d99ac0d96e78",
       "version_major": 2,
       "version_minor": 0
      },
      "text/plain": [
       "Resizing images (rxrx3):   0%|          | 0/100 [00:00<?, ?it/s]"
      ]
     },
     "metadata": {},
     "output_type": "display_data"
    },
    {
     "name": "stdout",
     "output_type": "stream",
     "text": [
      "Processing batch 1536/1554\n"
     ]
    },
    {
     "data": {
      "application/vnd.jupyter.widget-view+json": {
       "model_id": "7c43215590894cbdb78863761a1a0501",
       "version_major": 2,
       "version_minor": 0
      },
      "text/plain": [
       "Resizing images (rxrx3):   0%|          | 0/100 [00:00<?, ?it/s]"
      ]
     },
     "metadata": {},
     "output_type": "display_data"
    },
    {
     "name": "stdout",
     "output_type": "stream",
     "text": [
      "Processing batch 1537/1554\n"
     ]
    },
    {
     "data": {
      "application/vnd.jupyter.widget-view+json": {
       "model_id": "efd948c5018f4f519a8074fb1f672e61",
       "version_major": 2,
       "version_minor": 0
      },
      "text/plain": [
       "Resizing images (rxrx3):   0%|          | 0/100 [00:00<?, ?it/s]"
      ]
     },
     "metadata": {},
     "output_type": "display_data"
    },
    {
     "name": "stdout",
     "output_type": "stream",
     "text": [
      "Processing batch 1538/1554\n"
     ]
    },
    {
     "data": {
      "application/vnd.jupyter.widget-view+json": {
       "model_id": "ffa72e05964d4d4586a6e270e210acc0",
       "version_major": 2,
       "version_minor": 0
      },
      "text/plain": [
       "Resizing images (rxrx3):   0%|          | 0/100 [00:00<?, ?it/s]"
      ]
     },
     "metadata": {},
     "output_type": "display_data"
    },
    {
     "name": "stdout",
     "output_type": "stream",
     "text": [
      "Processing batch 1539/1554\n"
     ]
    },
    {
     "data": {
      "application/vnd.jupyter.widget-view+json": {
       "model_id": "b8dd47ae51724c3e83902c49036d959e",
       "version_major": 2,
       "version_minor": 0
      },
      "text/plain": [
       "Resizing images (rxrx3):   0%|          | 0/100 [00:00<?, ?it/s]"
      ]
     },
     "metadata": {},
     "output_type": "display_data"
    },
    {
     "name": "stdout",
     "output_type": "stream",
     "text": [
      "Processing batch 1540/1554\n"
     ]
    },
    {
     "data": {
      "application/vnd.jupyter.widget-view+json": {
       "model_id": "d4f4ce59362b428997eaa700e89ee6f2",
       "version_major": 2,
       "version_minor": 0
      },
      "text/plain": [
       "Resizing images (rxrx3):   0%|          | 0/100 [00:00<?, ?it/s]"
      ]
     },
     "metadata": {},
     "output_type": "display_data"
    },
    {
     "name": "stdout",
     "output_type": "stream",
     "text": [
      "Processing batch 1541/1554\n"
     ]
    },
    {
     "data": {
      "application/vnd.jupyter.widget-view+json": {
       "model_id": "facecbefed614644a0248af42e6a8a6e",
       "version_major": 2,
       "version_minor": 0
      },
      "text/plain": [
       "Resizing images (rxrx3):   0%|          | 0/100 [00:00<?, ?it/s]"
      ]
     },
     "metadata": {},
     "output_type": "display_data"
    },
    {
     "name": "stdout",
     "output_type": "stream",
     "text": [
      "Processing batch 1542/1554\n"
     ]
    },
    {
     "data": {
      "application/vnd.jupyter.widget-view+json": {
       "model_id": "a9d46d143207418e8fd3a0452c66101b",
       "version_major": 2,
       "version_minor": 0
      },
      "text/plain": [
       "Resizing images (rxrx3):   0%|          | 0/100 [00:00<?, ?it/s]"
      ]
     },
     "metadata": {},
     "output_type": "display_data"
    },
    {
     "name": "stdout",
     "output_type": "stream",
     "text": [
      "Processing batch 1543/1554\n"
     ]
    },
    {
     "data": {
      "application/vnd.jupyter.widget-view+json": {
       "model_id": "f9dd6a73d85b4db683e1ddb967212d04",
       "version_major": 2,
       "version_minor": 0
      },
      "text/plain": [
       "Resizing images (rxrx3):   0%|          | 0/100 [00:00<?, ?it/s]"
      ]
     },
     "metadata": {},
     "output_type": "display_data"
    },
    {
     "name": "stdout",
     "output_type": "stream",
     "text": [
      "Processing batch 1544/1554\n"
     ]
    },
    {
     "data": {
      "application/vnd.jupyter.widget-view+json": {
       "model_id": "31e4e31e69b448268df60124b3dbbc90",
       "version_major": 2,
       "version_minor": 0
      },
      "text/plain": [
       "Resizing images (rxrx3):   0%|          | 0/100 [00:00<?, ?it/s]"
      ]
     },
     "metadata": {},
     "output_type": "display_data"
    },
    {
     "name": "stdout",
     "output_type": "stream",
     "text": [
      "Processing batch 1545/1554\n"
     ]
    },
    {
     "data": {
      "application/vnd.jupyter.widget-view+json": {
       "model_id": "a06c20484f1d469db3c3d91327cfcfdb",
       "version_major": 2,
       "version_minor": 0
      },
      "text/plain": [
       "Resizing images (rxrx3):   0%|          | 0/100 [00:00<?, ?it/s]"
      ]
     },
     "metadata": {},
     "output_type": "display_data"
    },
    {
     "name": "stdout",
     "output_type": "stream",
     "text": [
      "Processing batch 1546/1554\n"
     ]
    },
    {
     "data": {
      "application/vnd.jupyter.widget-view+json": {
       "model_id": "e275e2fb97fe41e581bcae2c6fd6d913",
       "version_major": 2,
       "version_minor": 0
      },
      "text/plain": [
       "Resizing images (rxrx3):   0%|          | 0/100 [00:00<?, ?it/s]"
      ]
     },
     "metadata": {},
     "output_type": "display_data"
    },
    {
     "name": "stdout",
     "output_type": "stream",
     "text": [
      "Processing batch 1547/1554\n"
     ]
    },
    {
     "data": {
      "application/vnd.jupyter.widget-view+json": {
       "model_id": "959d4d61cedd484b90ac6f31d3bf0b00",
       "version_major": 2,
       "version_minor": 0
      },
      "text/plain": [
       "Resizing images (rxrx3):   0%|          | 0/100 [00:00<?, ?it/s]"
      ]
     },
     "metadata": {},
     "output_type": "display_data"
    },
    {
     "name": "stdout",
     "output_type": "stream",
     "text": [
      "Processing batch 1548/1554\n"
     ]
    },
    {
     "data": {
      "application/vnd.jupyter.widget-view+json": {
       "model_id": "d1bb5fad9f7e4e98bb12a262607a1cf9",
       "version_major": 2,
       "version_minor": 0
      },
      "text/plain": [
       "Resizing images (rxrx3):   0%|          | 0/100 [00:00<?, ?it/s]"
      ]
     },
     "metadata": {},
     "output_type": "display_data"
    },
    {
     "name": "stdout",
     "output_type": "stream",
     "text": [
      "Processing batch 1549/1554\n"
     ]
    },
    {
     "data": {
      "application/vnd.jupyter.widget-view+json": {
       "model_id": "3330ec500267497e9484f2a8962a4dc3",
       "version_major": 2,
       "version_minor": 0
      },
      "text/plain": [
       "Resizing images (rxrx3):   0%|          | 0/100 [00:00<?, ?it/s]"
      ]
     },
     "metadata": {},
     "output_type": "display_data"
    },
    {
     "name": "stdout",
     "output_type": "stream",
     "text": [
      "Processing batch 1550/1554\n"
     ]
    },
    {
     "data": {
      "application/vnd.jupyter.widget-view+json": {
       "model_id": "41bab82fb43e44229828acac6c4dd169",
       "version_major": 2,
       "version_minor": 0
      },
      "text/plain": [
       "Resizing images (rxrx3):   0%|          | 0/100 [00:00<?, ?it/s]"
      ]
     },
     "metadata": {},
     "output_type": "display_data"
    },
    {
     "name": "stdout",
     "output_type": "stream",
     "text": [
      "Processing batch 1551/1554\n"
     ]
    },
    {
     "data": {
      "application/vnd.jupyter.widget-view+json": {
       "model_id": "bcd5a83b424c480a868d30cd7990b43b",
       "version_major": 2,
       "version_minor": 0
      },
      "text/plain": [
       "Resizing images (rxrx3):   0%|          | 0/100 [00:00<?, ?it/s]"
      ]
     },
     "metadata": {},
     "output_type": "display_data"
    },
    {
     "name": "stdout",
     "output_type": "stream",
     "text": [
      "Processing batch 1552/1554\n"
     ]
    },
    {
     "data": {
      "application/vnd.jupyter.widget-view+json": {
       "model_id": "da8f983ca05f4d0495d2d48a1e22769f",
       "version_major": 2,
       "version_minor": 0
      },
      "text/plain": [
       "Resizing images (rxrx3):   0%|          | 0/100 [00:00<?, ?it/s]"
      ]
     },
     "metadata": {},
     "output_type": "display_data"
    },
    {
     "name": "stdout",
     "output_type": "stream",
     "text": [
      "Processing batch 1553/1554\n"
     ]
    },
    {
     "data": {
      "application/vnd.jupyter.widget-view+json": {
       "model_id": "0f2a0ec5022647f3b4fc7e41b5327aae",
       "version_major": 2,
       "version_minor": 0
      },
      "text/plain": [
       "Resizing images (rxrx3):   0%|          | 0/100 [00:00<?, ?it/s]"
      ]
     },
     "metadata": {},
     "output_type": "display_data"
    },
    {
     "name": "stdout",
     "output_type": "stream",
     "text": [
      "Processing batch 1554/1554\n"
     ]
    },
    {
     "data": {
      "application/vnd.jupyter.widget-view+json": {
       "model_id": "05781d49431142e38c0c92b805793107",
       "version_major": 2,
       "version_minor": 0
      },
      "text/plain": [
       "Resizing images (rxrx3):   0%|          | 0/4 [00:00<?, ?it/s]"
      ]
     },
     "metadata": {},
     "output_type": "display_data"
    },
    {
     "name": "stdout",
     "output_type": "stream",
     "text": [
      "\n",
      "Resizing complete for rxrx3!\n",
      "Successfully resized: 155304/155304 images\n",
      "\n",
      "Processing directory: rxrx3_temp\n",
      "Output directory: /Volumes/External SSD/rxrx3_resized/rxrx3_temp_512\n"
     ]
    },
    {
     "data": {
      "application/vnd.jupyter.widget-view+json": {
       "model_id": "f1f37010631e4ed7af438ef273e33af7",
       "version_major": 2,
       "version_minor": 0
      },
      "text/plain": [
       "Scanning directories:   0%|          | 0/2 [00:00<?, ?it/s]"
      ]
     },
     "metadata": {},
     "output_type": "display_data"
    },
    {
     "name": "stdout",
     "output_type": "stream",
     "text": [
      "Found 2829 images to resize\n",
      "Using 12 workers\n",
      "Processing batch 1/29\n"
     ]
    },
    {
     "data": {
      "application/vnd.jupyter.widget-view+json": {
       "model_id": "dca0c0dfd5dc48059010c3575f93a160",
       "version_major": 2,
       "version_minor": 0
      },
      "text/plain": [
       "Resizing images (rxrx3_temp):   0%|          | 0/100 [00:00<?, ?it/s]"
      ]
     },
     "metadata": {},
     "output_type": "display_data"
    },
    {
     "name": "stdout",
     "output_type": "stream",
     "text": [
      "Processing batch 2/29\n"
     ]
    },
    {
     "data": {
      "application/vnd.jupyter.widget-view+json": {
       "model_id": "e03bbb48ba9b48d29f98553d0e6ee20a",
       "version_major": 2,
       "version_minor": 0
      },
      "text/plain": [
       "Resizing images (rxrx3_temp):   0%|          | 0/100 [00:00<?, ?it/s]"
      ]
     },
     "metadata": {},
     "output_type": "display_data"
    },
    {
     "name": "stdout",
     "output_type": "stream",
     "text": [
      "Processing batch 3/29\n"
     ]
    },
    {
     "data": {
      "application/vnd.jupyter.widget-view+json": {
       "model_id": "536ecf98faca48e1a55964b268512fe8",
       "version_major": 2,
       "version_minor": 0
      },
      "text/plain": [
       "Resizing images (rxrx3_temp):   0%|          | 0/100 [00:00<?, ?it/s]"
      ]
     },
     "metadata": {},
     "output_type": "display_data"
    },
    {
     "name": "stdout",
     "output_type": "stream",
     "text": [
      "Processing batch 4/29\n"
     ]
    },
    {
     "data": {
      "application/vnd.jupyter.widget-view+json": {
       "model_id": "2b58ea36457d4411a1b9612d1cf2eec7",
       "version_major": 2,
       "version_minor": 0
      },
      "text/plain": [
       "Resizing images (rxrx3_temp):   0%|          | 0/100 [00:00<?, ?it/s]"
      ]
     },
     "metadata": {},
     "output_type": "display_data"
    },
    {
     "name": "stdout",
     "output_type": "stream",
     "text": [
      "Processing batch 5/29\n"
     ]
    },
    {
     "data": {
      "application/vnd.jupyter.widget-view+json": {
       "model_id": "19e173ee4b464ac78ef98888b926bb6d",
       "version_major": 2,
       "version_minor": 0
      },
      "text/plain": [
       "Resizing images (rxrx3_temp):   0%|          | 0/100 [00:00<?, ?it/s]"
      ]
     },
     "metadata": {},
     "output_type": "display_data"
    },
    {
     "name": "stdout",
     "output_type": "stream",
     "text": [
      "Processing batch 6/29\n"
     ]
    },
    {
     "data": {
      "application/vnd.jupyter.widget-view+json": {
       "model_id": "341edb322d7445eb8470b015d3e5f6d9",
       "version_major": 2,
       "version_minor": 0
      },
      "text/plain": [
       "Resizing images (rxrx3_temp):   0%|          | 0/100 [00:00<?, ?it/s]"
      ]
     },
     "metadata": {},
     "output_type": "display_data"
    },
    {
     "name": "stdout",
     "output_type": "stream",
     "text": [
      "Processing batch 7/29\n"
     ]
    },
    {
     "data": {
      "application/vnd.jupyter.widget-view+json": {
       "model_id": "d8d9e2a134e441a3acac1c785d56f621",
       "version_major": 2,
       "version_minor": 0
      },
      "text/plain": [
       "Resizing images (rxrx3_temp):   0%|          | 0/100 [00:00<?, ?it/s]"
      ]
     },
     "metadata": {},
     "output_type": "display_data"
    },
    {
     "name": "stdout",
     "output_type": "stream",
     "text": [
      "Processing batch 8/29\n"
     ]
    },
    {
     "data": {
      "application/vnd.jupyter.widget-view+json": {
       "model_id": "f953c6eb29cd4574b6cb680d496b2d02",
       "version_major": 2,
       "version_minor": 0
      },
      "text/plain": [
       "Resizing images (rxrx3_temp):   0%|          | 0/100 [00:00<?, ?it/s]"
      ]
     },
     "metadata": {},
     "output_type": "display_data"
    },
    {
     "name": "stdout",
     "output_type": "stream",
     "text": [
      "Processing batch 9/29\n"
     ]
    },
    {
     "data": {
      "application/vnd.jupyter.widget-view+json": {
       "model_id": "1936160725704770a710817d91d878d7",
       "version_major": 2,
       "version_minor": 0
      },
      "text/plain": [
       "Resizing images (rxrx3_temp):   0%|          | 0/100 [00:00<?, ?it/s]"
      ]
     },
     "metadata": {},
     "output_type": "display_data"
    },
    {
     "name": "stdout",
     "output_type": "stream",
     "text": [
      "Processing batch 10/29\n"
     ]
    },
    {
     "data": {
      "application/vnd.jupyter.widget-view+json": {
       "model_id": "0dd1ceef572f48b090bb4e23481d19a1",
       "version_major": 2,
       "version_minor": 0
      },
      "text/plain": [
       "Resizing images (rxrx3_temp):   0%|          | 0/100 [00:00<?, ?it/s]"
      ]
     },
     "metadata": {},
     "output_type": "display_data"
    },
    {
     "name": "stdout",
     "output_type": "stream",
     "text": [
      "Processing batch 11/29\n"
     ]
    },
    {
     "data": {
      "application/vnd.jupyter.widget-view+json": {
       "model_id": "6d6908f1495d4ca68ea2889676be8b48",
       "version_major": 2,
       "version_minor": 0
      },
      "text/plain": [
       "Resizing images (rxrx3_temp):   0%|          | 0/100 [00:00<?, ?it/s]"
      ]
     },
     "metadata": {},
     "output_type": "display_data"
    },
    {
     "name": "stdout",
     "output_type": "stream",
     "text": [
      "Processing batch 12/29\n"
     ]
    },
    {
     "data": {
      "application/vnd.jupyter.widget-view+json": {
       "model_id": "3d2a34792e8c43e897e803bd9695a0a5",
       "version_major": 2,
       "version_minor": 0
      },
      "text/plain": [
       "Resizing images (rxrx3_temp):   0%|          | 0/100 [00:00<?, ?it/s]"
      ]
     },
     "metadata": {},
     "output_type": "display_data"
    },
    {
     "name": "stdout",
     "output_type": "stream",
     "text": [
      "Processing batch 13/29\n"
     ]
    },
    {
     "data": {
      "application/vnd.jupyter.widget-view+json": {
       "model_id": "0e134adb97ba47019df6376685bef6e1",
       "version_major": 2,
       "version_minor": 0
      },
      "text/plain": [
       "Resizing images (rxrx3_temp):   0%|          | 0/100 [00:00<?, ?it/s]"
      ]
     },
     "metadata": {},
     "output_type": "display_data"
    },
    {
     "name": "stdout",
     "output_type": "stream",
     "text": [
      "Processing batch 14/29\n"
     ]
    },
    {
     "data": {
      "application/vnd.jupyter.widget-view+json": {
       "model_id": "94cf509dad6a43028b49d2ad394e6cae",
       "version_major": 2,
       "version_minor": 0
      },
      "text/plain": [
       "Resizing images (rxrx3_temp):   0%|          | 0/100 [00:00<?, ?it/s]"
      ]
     },
     "metadata": {},
     "output_type": "display_data"
    },
    {
     "name": "stdout",
     "output_type": "stream",
     "text": [
      "Processing batch 15/29\n"
     ]
    },
    {
     "data": {
      "application/vnd.jupyter.widget-view+json": {
       "model_id": "a834806e50434c8aa936e9b44fb2ba60",
       "version_major": 2,
       "version_minor": 0
      },
      "text/plain": [
       "Resizing images (rxrx3_temp):   0%|          | 0/100 [00:00<?, ?it/s]"
      ]
     },
     "metadata": {},
     "output_type": "display_data"
    },
    {
     "name": "stdout",
     "output_type": "stream",
     "text": [
      "Processing batch 16/29\n"
     ]
    },
    {
     "data": {
      "application/vnd.jupyter.widget-view+json": {
       "model_id": "b5b04858daa7488fa1a96e57df919ddb",
       "version_major": 2,
       "version_minor": 0
      },
      "text/plain": [
       "Resizing images (rxrx3_temp):   0%|          | 0/100 [00:00<?, ?it/s]"
      ]
     },
     "metadata": {},
     "output_type": "display_data"
    },
    {
     "name": "stdout",
     "output_type": "stream",
     "text": [
      "Processing batch 17/29\n"
     ]
    },
    {
     "data": {
      "application/vnd.jupyter.widget-view+json": {
       "model_id": "e2c731db8db143cd8dcc7cf7ca076e52",
       "version_major": 2,
       "version_minor": 0
      },
      "text/plain": [
       "Resizing images (rxrx3_temp):   0%|          | 0/100 [00:00<?, ?it/s]"
      ]
     },
     "metadata": {},
     "output_type": "display_data"
    },
    {
     "name": "stdout",
     "output_type": "stream",
     "text": [
      "Processing batch 18/29\n"
     ]
    },
    {
     "data": {
      "application/vnd.jupyter.widget-view+json": {
       "model_id": "53382f897ec742e2a244c082e165011c",
       "version_major": 2,
       "version_minor": 0
      },
      "text/plain": [
       "Resizing images (rxrx3_temp):   0%|          | 0/100 [00:00<?, ?it/s]"
      ]
     },
     "metadata": {},
     "output_type": "display_data"
    },
    {
     "name": "stdout",
     "output_type": "stream",
     "text": [
      "Processing batch 19/29\n"
     ]
    },
    {
     "data": {
      "application/vnd.jupyter.widget-view+json": {
       "model_id": "3b9d5a1c84de48adb8ff1bd2cc73040f",
       "version_major": 2,
       "version_minor": 0
      },
      "text/plain": [
       "Resizing images (rxrx3_temp):   0%|          | 0/100 [00:00<?, ?it/s]"
      ]
     },
     "metadata": {},
     "output_type": "display_data"
    },
    {
     "name": "stdout",
     "output_type": "stream",
     "text": [
      "Processing batch 20/29\n"
     ]
    },
    {
     "data": {
      "application/vnd.jupyter.widget-view+json": {
       "model_id": "d4eae9caafce4c219da5235a4fa932ff",
       "version_major": 2,
       "version_minor": 0
      },
      "text/plain": [
       "Resizing images (rxrx3_temp):   0%|          | 0/100 [00:00<?, ?it/s]"
      ]
     },
     "metadata": {},
     "output_type": "display_data"
    },
    {
     "name": "stdout",
     "output_type": "stream",
     "text": [
      "Processing batch 21/29\n"
     ]
    },
    {
     "data": {
      "application/vnd.jupyter.widget-view+json": {
       "model_id": "c95e8f25be7a4163933ee619a755fe2c",
       "version_major": 2,
       "version_minor": 0
      },
      "text/plain": [
       "Resizing images (rxrx3_temp):   0%|          | 0/100 [00:00<?, ?it/s]"
      ]
     },
     "metadata": {},
     "output_type": "display_data"
    },
    {
     "name": "stdout",
     "output_type": "stream",
     "text": [
      "Processing batch 22/29\n"
     ]
    },
    {
     "data": {
      "application/vnd.jupyter.widget-view+json": {
       "model_id": "9bf6924cd744400794c24393c3ddec13",
       "version_major": 2,
       "version_minor": 0
      },
      "text/plain": [
       "Resizing images (rxrx3_temp):   0%|          | 0/100 [00:00<?, ?it/s]"
      ]
     },
     "metadata": {},
     "output_type": "display_data"
    },
    {
     "name": "stdout",
     "output_type": "stream",
     "text": [
      "Processing batch 23/29\n"
     ]
    },
    {
     "data": {
      "application/vnd.jupyter.widget-view+json": {
       "model_id": "0c5dcba6973c4d2c9876a3718908e1e7",
       "version_major": 2,
       "version_minor": 0
      },
      "text/plain": [
       "Resizing images (rxrx3_temp):   0%|          | 0/100 [00:00<?, ?it/s]"
      ]
     },
     "metadata": {},
     "output_type": "display_data"
    },
    {
     "name": "stdout",
     "output_type": "stream",
     "text": [
      "Processing batch 24/29\n"
     ]
    },
    {
     "data": {
      "application/vnd.jupyter.widget-view+json": {
       "model_id": "771ec8f41eb94e3faf6529a2f04f66ad",
       "version_major": 2,
       "version_minor": 0
      },
      "text/plain": [
       "Resizing images (rxrx3_temp):   0%|          | 0/100 [00:00<?, ?it/s]"
      ]
     },
     "metadata": {},
     "output_type": "display_data"
    },
    {
     "name": "stdout",
     "output_type": "stream",
     "text": [
      "Processing batch 25/29\n"
     ]
    },
    {
     "data": {
      "application/vnd.jupyter.widget-view+json": {
       "model_id": "f3b6f3c0e66b44f985ce20d081125d33",
       "version_major": 2,
       "version_minor": 0
      },
      "text/plain": [
       "Resizing images (rxrx3_temp):   0%|          | 0/100 [00:00<?, ?it/s]"
      ]
     },
     "metadata": {},
     "output_type": "display_data"
    },
    {
     "name": "stdout",
     "output_type": "stream",
     "text": [
      "Processing batch 26/29\n"
     ]
    },
    {
     "data": {
      "application/vnd.jupyter.widget-view+json": {
       "model_id": "23b5e23857eb42dc9f269737c26de880",
       "version_major": 2,
       "version_minor": 0
      },
      "text/plain": [
       "Resizing images (rxrx3_temp):   0%|          | 0/100 [00:00<?, ?it/s]"
      ]
     },
     "metadata": {},
     "output_type": "display_data"
    },
    {
     "name": "stdout",
     "output_type": "stream",
     "text": [
      "Processing batch 27/29\n"
     ]
    },
    {
     "data": {
      "application/vnd.jupyter.widget-view+json": {
       "model_id": "0d4074a7ad4449d5b10254f6204a8b13",
       "version_major": 2,
       "version_minor": 0
      },
      "text/plain": [
       "Resizing images (rxrx3_temp):   0%|          | 0/100 [00:00<?, ?it/s]"
      ]
     },
     "metadata": {},
     "output_type": "display_data"
    },
    {
     "name": "stdout",
     "output_type": "stream",
     "text": [
      "Processing batch 28/29\n"
     ]
    },
    {
     "data": {
      "application/vnd.jupyter.widget-view+json": {
       "model_id": "8775339f9c2d472caa35a31ae38f388d",
       "version_major": 2,
       "version_minor": 0
      },
      "text/plain": [
       "Resizing images (rxrx3_temp):   0%|          | 0/100 [00:00<?, ?it/s]"
      ]
     },
     "metadata": {},
     "output_type": "display_data"
    },
    {
     "name": "stdout",
     "output_type": "stream",
     "text": [
      "Processing batch 29/29\n"
     ]
    },
    {
     "data": {
      "application/vnd.jupyter.widget-view+json": {
       "model_id": "54c8465a5f744426b91988a86ee73bfb",
       "version_major": 2,
       "version_minor": 0
      },
      "text/plain": [
       "Resizing images (rxrx3_temp):   0%|          | 0/29 [00:00<?, ?it/s]"
      ]
     },
     "metadata": {},
     "output_type": "display_data"
    },
    {
     "name": "stdout",
     "output_type": "stream",
     "text": [
      "\n",
      "Resizing complete for rxrx3_temp!\n",
      "Successfully resized: 2829/2829 images\n",
      "\n",
      "==================================================\n",
      "OVERALL STATISTICS:\n",
      "Processed 2 directories\n",
      "Successfully resized: 158133 images\n",
      "Failed: 0 images\n",
      "==================================================\n"
     ]
    }
   ],
   "source": [
    "import os\n",
    "import pathlib\n",
    "from PIL import Image\n",
    "import multiprocessing\n",
    "from functools import partial\n",
    "import concurrent.futures\n",
    "from tqdm.notebook import tqdm  # Using notebook version of tqdm\n",
    "\n",
    "# Set these variables to your desired paths and size\n",
    "parent_dir = '/Volumes/External SSD/rxrx3/'\n",
    "output_dir = '/Volumes/External SSD/rxrx3_resized/'\n",
    "target_size = (512, 512)  # Change this if you want a different size\n",
    "\n",
    "# Function to resize a single image\n",
    "def resize_image(src_path, dst_path):\n",
    "    try:\n",
    "        # Create destination directory if needed\n",
    "        os.makedirs(os.path.dirname(dst_path), exist_ok=True)\n",
    "\n",
    "        # Open, resize and save the image\n",
    "        with Image.open(src_path) as img:\n",
    "            # Resize with antialiasing\n",
    "            resized_img = img.resize(target_size, Image.LANCZOS)\n",
    "            # Save the resized image\n",
    "            resized_img.save(dst_path)\n",
    "        return True\n",
    "    except Exception as e:\n",
    "        return (src_path, str(e))\n",
    "\n",
    "# Get all image paths from a directory\n",
    "def get_image_paths(source_dir, dest_dir):\n",
    "    image_paths = []\n",
    "\n",
    "    # Get all directories first\n",
    "    all_dirs = list(os.walk(source_dir))\n",
    "\n",
    "    # Display progress for directory scanning\n",
    "    for root, _, files in tqdm(all_dirs, desc=\"Scanning directories\"):\n",
    "        rel_path = os.path.relpath(root, source_dir)\n",
    "\n",
    "        for file in files:\n",
    "            if file.lower().endswith((\".png\", \".jpg\", \".jpeg\", \".tif\", \".tiff\")):\n",
    "                src_path = os.path.join(root, file)\n",
    "\n",
    "                # Construct destination path\n",
    "                if rel_path == \".\":\n",
    "                    dst_path = os.path.join(dest_dir, file)\n",
    "                else:\n",
    "                    dst_path = os.path.join(dest_dir, rel_path, file)\n",
    "\n",
    "                image_paths.append((src_path, dst_path))\n",
    "\n",
    "    return image_paths\n",
    "\n",
    "# Process a single directory\n",
    "def process_directory(input_dir, output_base_dir):\n",
    "    \"\"\"Process a single directory of images\"\"\"\n",
    "    \n",
    "    # Get directory name and create output dir name with _512 suffix\n",
    "    dir_name = os.path.basename(input_dir)\n",
    "    output_dir = os.path.join(output_base_dir, f\"{dir_name}_512\")\n",
    "    \n",
    "    # Create output directory\n",
    "    os.makedirs(output_dir, exist_ok=True)\n",
    "    \n",
    "    print(f\"\\nProcessing directory: {dir_name}\")\n",
    "    print(f\"Output directory: {output_dir}\")\n",
    "    \n",
    "    # Get all image paths\n",
    "    image_paths = get_image_paths(input_dir, output_dir)\n",
    "    print(f\"Found {len(image_paths)} images to resize\")\n",
    "    \n",
    "    if not image_paths:\n",
    "        print(f\"No images found in {input_dir}. Skipping...\")\n",
    "        return (0, 0)\n",
    "    \n",
    "    # Get number of CPU cores\n",
    "    num_cores = multiprocessing.cpu_count()\n",
    "    # Use 80% of available cores to avoid overloading the system\n",
    "    num_workers = max(1, int(num_cores * 0.8))\n",
    "    print(f\"Using {num_workers} workers\")\n",
    "    \n",
    "    # Process images in parallel\n",
    "    results = []\n",
    "    failures = []\n",
    "\n",
    "    # Process in batches to show progress\n",
    "    batch_size = 100  # Adjust based on memory constraints\n",
    "    total_batches = (len(image_paths) + batch_size - 1) // batch_size\n",
    "\n",
    "    for i in range(0, len(image_paths), batch_size):\n",
    "        batch = image_paths[i:i + batch_size]\n",
    "        batch_num = i // batch_size + 1\n",
    "        print(f\"Processing batch {batch_num}/{total_batches}\")\n",
    "\n",
    "        # Process current batch\n",
    "        with concurrent.futures.ThreadPoolExecutor(max_workers=num_workers) as executor:\n",
    "            # Map function directly to all items in batch\n",
    "            batch_src_paths, batch_dst_paths = zip(*batch)\n",
    "            for idx, result in enumerate(\n",
    "                tqdm(\n",
    "                    executor.map(resize_image, batch_src_paths, batch_dst_paths),\n",
    "                    total=len(batch),\n",
    "                    desc=f\"Resizing images ({dir_name})\"\n",
    "                )\n",
    "            ):\n",
    "                if result is True:\n",
    "                    results.append(result)\n",
    "                else:\n",
    "                    failures.append(result)\n",
    "    \n",
    "    print(f\"\\nResizing complete for {dir_name}!\")\n",
    "    print(f\"Successfully resized: {len(results)}/{len(image_paths)} images\")\n",
    "    \n",
    "    if failures:\n",
    "        print(f\"Failed to resize: {len(failures)} images\")\n",
    "        print(\"First few errors:\")\n",
    "        for src_path, error in failures[:5]:\n",
    "            print(f\"- {src_path}: {error}\")\n",
    "\n",
    "        if len(failures) > 5:\n",
    "            print(f\"... and {len(failures) - 5} more errors\")\n",
    "            \n",
    "    return (len(results), len(failures))\n",
    "\n",
    "# Main execution code\n",
    "# Create output directory if it doesn't exist\n",
    "os.makedirs(output_dir, exist_ok=True)\n",
    "\n",
    "# Get subdirectories\n",
    "subdirs = [os.path.join(parent_dir, d) for d in os.listdir(parent_dir) \n",
    "          if os.path.isdir(os.path.join(parent_dir, d))]\n",
    "\n",
    "if not subdirs:\n",
    "    print(f\"No subdirectories found in {parent_dir}\")\n",
    "else:\n",
    "    print(f\"Found {len(subdirs)} subdirectories to process:\")\n",
    "    for d in subdirs:\n",
    "        print(f\"- {os.path.basename(d)}\")\n",
    "    print(\"-\" * 50)\n",
    "    \n",
    "    # Process each subdirectory\n",
    "    total_success = 0\n",
    "    total_failures = 0\n",
    "    \n",
    "    for subdir in subdirs:\n",
    "        success, failures = process_directory(subdir, output_dir)\n",
    "        total_success += success\n",
    "        total_failures += failures\n",
    "    \n",
    "    # Final statistics\n",
    "    print(\"\\n\" + \"=\"*50)\n",
    "    print(\"OVERALL STATISTICS:\")\n",
    "    print(f\"Processed {len(subdirs)} directories\")\n",
    "    print(f\"Successfully resized: {total_success} images\")\n",
    "    print(f\"Failed: {total_failures} images\")\n",
    "    print(\"=\"*50)"
   ]
  },
  {
   "cell_type": "code",
   "execution_count": 18,
   "metadata": {},
   "outputs": [
    {
     "name": "stdout",
     "output_type": "stream",
     "text": [
      "Found 22 subdirectories to process.\n",
      "Processing directory: compound-001_plate10\n",
      "Copied 100 files so far...\n",
      "Copied 200 files so far...\n",
      "Copied 300 files so far...\n",
      "Copied 400 files so far...\n",
      "Copied 500 files so far...\n",
      "Copied 600 files so far...\n",
      "Copied 700 files so far...\n",
      "Copied 800 files so far...\n",
      "Copied 900 files so far...\n",
      "Copied 1000 files so far...\n",
      "Copied 1100 files so far...\n",
      "Copied 1200 files so far...\n",
      "Copied 1300 files so far...\n",
      "Copied 1400 files so far...\n",
      "Copied 1500 files so far...\n",
      "Copied 1600 files so far...\n",
      "Copied 1700 files so far...\n",
      "Copied 1800 files so far...\n",
      "Copied 1900 files so far...\n",
      "Copied 2000 files so far...\n",
      "Copied 2100 files so far...\n",
      "Copied 2200 files so far...\n",
      "Copied 2300 files so far...\n",
      "Copied 2400 files so far...\n",
      "Copied 2500 files so far...\n",
      "Copied 2600 files so far...\n",
      "Copied 2700 files so far...\n",
      "Copied 2800 files so far...\n",
      "Copied 2900 files so far...\n",
      "Copied 3000 files so far...\n",
      "Copied 3100 files so far...\n",
      "Copied 3200 files so far...\n",
      "Copied 3300 files so far...\n",
      "Copied 3400 files so far...\n",
      "Copied 3500 files so far...\n",
      "Copied 3600 files so far...\n",
      "Copied 3700 files so far...\n",
      "Processing directory: compound-001_plate11\n",
      "Copied 3800 files so far...\n",
      "Copied 3900 files so far...\n",
      "Copied 4000 files so far...\n",
      "Copied 4100 files so far...\n",
      "Copied 4200 files so far...\n",
      "Copied 4300 files so far...\n",
      "Copied 4400 files so far...\n",
      "Copied 4500 files so far...\n",
      "Copied 4600 files so far...\n",
      "Copied 4700 files so far...\n",
      "Copied 4800 files so far...\n",
      "Copied 4900 files so far...\n",
      "Copied 5000 files so far...\n",
      "Copied 5100 files so far...\n",
      "Copied 5200 files so far...\n",
      "Copied 5300 files so far...\n",
      "Copied 5400 files so far...\n",
      "Copied 5500 files so far...\n",
      "Copied 5600 files so far...\n",
      "Copied 5700 files so far...\n",
      "Copied 5800 files so far...\n",
      "Copied 5900 files so far...\n",
      "Copied 6000 files so far...\n",
      "Copied 6100 files so far...\n",
      "Copied 6200 files so far...\n",
      "Copied 6300 files so far...\n",
      "Copied 6400 files so far...\n",
      "Copied 6500 files so far...\n",
      "Copied 6600 files so far...\n",
      "Copied 6700 files so far...\n",
      "Copied 6800 files so far...\n",
      "Copied 6900 files so far...\n",
      "Copied 7000 files so far...\n",
      "Copied 7100 files so far...\n",
      "Copied 7200 files so far...\n",
      "Copied 7300 files so far...\n",
      "Copied 7400 files so far...\n",
      "Copied 7500 files so far...\n",
      "Copied 7600 files so far...\n",
      "Copied 7700 files so far...\n",
      "Copied 7800 files so far...\n",
      "Copied 7900 files so far...\n",
      "Copied 8000 files so far...\n",
      "Copied 8100 files so far...\n",
      "Copied 8200 files so far...\n",
      "Processing directory: compound-001_plate12\n",
      "Copied 8300 files so far...\n",
      "Copied 8400 files so far...\n",
      "Copied 8500 files so far...\n",
      "Copied 8600 files so far...\n",
      "Copied 8700 files so far...\n",
      "Copied 8800 files so far...\n",
      "Copied 8900 files so far...\n",
      "Copied 9000 files so far...\n",
      "Copied 9100 files so far...\n",
      "Copied 9200 files so far...\n",
      "Copied 9300 files so far...\n",
      "Copied 9400 files so far...\n",
      "Copied 9500 files so far...\n",
      "Copied 9600 files so far...\n",
      "Copied 9700 files so far...\n",
      "Copied 9800 files so far...\n",
      "Copied 9900 files so far...\n",
      "Copied 10000 files so far...\n",
      "Copied 10100 files so far...\n",
      "Copied 10200 files so far...\n",
      "Copied 10300 files so far...\n",
      "Copied 10400 files so far...\n",
      "Copied 10500 files so far...\n",
      "Copied 10600 files so far...\n",
      "Copied 10700 files so far...\n",
      "Copied 10800 files so far...\n",
      "Copied 10900 files so far...\n",
      "Copied 11000 files so far...\n",
      "Copied 11100 files so far...\n",
      "Copied 11200 files so far...\n",
      "Copied 11300 files so far...\n",
      "Copied 11400 files so far...\n",
      "Copied 11500 files so far...\n",
      "Copied 11600 files so far...\n",
      "Copied 11700 files so far...\n",
      "Copied 11800 files so far...\n",
      "Copied 11900 files so far...\n",
      "Copied 12000 files so far...\n",
      "Copied 12100 files so far...\n",
      "Copied 12200 files so far...\n",
      "Copied 12300 files so far...\n",
      "Copied 12400 files so far...\n",
      "Processing directory: compound-001_plate13\n",
      "Copied 12500 files so far...\n",
      "Copied 12600 files so far...\n",
      "Copied 12700 files so far...\n",
      "Copied 12800 files so far...\n",
      "Copied 12900 files so far...\n",
      "Copied 13000 files so far...\n",
      "Copied 13100 files so far...\n",
      "Copied 13200 files so far...\n",
      "Copied 13300 files so far...\n",
      "Copied 13400 files so far...\n",
      "Copied 13500 files so far...\n",
      "Copied 13600 files so far...\n",
      "Copied 13700 files so far...\n",
      "Copied 13800 files so far...\n",
      "Copied 13900 files so far...\n",
      "Copied 14000 files so far...\n",
      "Copied 14100 files so far...\n",
      "Copied 14200 files so far...\n",
      "Copied 14300 files so far...\n",
      "Copied 14400 files so far...\n",
      "Copied 14500 files so far...\n",
      "Copied 14600 files so far...\n",
      "Copied 14700 files so far...\n",
      "Copied 14800 files so far...\n",
      "Copied 14900 files so far...\n",
      "Copied 15000 files so far...\n",
      "Copied 15100 files so far...\n",
      "Copied 15200 files so far...\n",
      "Copied 15300 files so far...\n",
      "Copied 15400 files so far...\n",
      "Copied 15500 files so far...\n",
      "Copied 15600 files so far...\n",
      "Copied 15700 files so far...\n",
      "Copied 15800 files so far...\n",
      "Copied 15900 files so far...\n",
      "Copied 16000 files so far...\n",
      "Copied 16100 files so far...\n",
      "Copied 16200 files so far...\n",
      "Copied 16300 files so far...\n",
      "Copied 16400 files so far...\n",
      "Copied 16500 files so far...\n",
      "Copied 16600 files so far...\n",
      "Copied 16700 files so far...\n",
      "Copied 16800 files so far...\n",
      "Copied 16900 files so far...\n",
      "Copied 17000 files so far...\n",
      "Copied 17100 files so far...\n",
      "Copied 17200 files so far...\n",
      "Copied 17300 files so far...\n",
      "Copied 17400 files so far...\n",
      "Copied 17500 files so far...\n",
      "Copied 17600 files so far...\n",
      "Copied 17700 files so far...\n",
      "Copied 17800 files so far...\n",
      "Copied 17900 files so far...\n",
      "Copied 18000 files so far...\n",
      "Copied 18100 files so far...\n",
      "Copied 18200 files so far...\n",
      "Copied 18300 files so far...\n",
      "Copied 18400 files so far...\n",
      "Copied 18500 files so far...\n",
      "Copied 18600 files so far...\n",
      "Copied 18700 files so far...\n",
      "Copied 18800 files so far...\n",
      "Copied 18900 files so far...\n",
      "Copied 19000 files so far...\n",
      "Copied 19100 files so far...\n",
      "Copied 19200 files so far...\n",
      "Copied 19300 files so far...\n",
      "Copied 19400 files so far...\n",
      "Copied 19500 files so far...\n",
      "Copied 19600 files so far...\n",
      "Copied 19700 files so far...\n",
      "Copied 19800 files so far...\n",
      "Copied 19900 files so far...\n",
      "Copied 20000 files so far...\n",
      "Copied 20100 files so far...\n",
      "Copied 20200 files so far...\n",
      "Copied 20300 files so far...\n",
      "Copied 20400 files so far...\n",
      "Copied 20500 files so far...\n",
      "Copied 20600 files so far...\n",
      "Copied 20700 files so far...\n",
      "Processing directory: compound-001_plate14\n",
      "Copied 20800 files so far...\n",
      "Copied 20900 files so far...\n",
      "Copied 21000 files so far...\n",
      "Copied 21100 files so far...\n",
      "Copied 21200 files so far...\n",
      "Copied 21300 files so far...\n",
      "Copied 21400 files so far...\n",
      "Copied 21500 files so far...\n",
      "Copied 21600 files so far...\n",
      "Copied 21700 files so far...\n",
      "Copied 21800 files so far...\n",
      "Copied 21900 files so far...\n",
      "Copied 22000 files so far...\n",
      "Copied 22100 files so far...\n",
      "Copied 22200 files so far...\n",
      "Copied 22300 files so far...\n",
      "Copied 22400 files so far...\n",
      "Copied 22500 files so far...\n",
      "Copied 22600 files so far...\n",
      "Copied 22700 files so far...\n",
      "Copied 22800 files so far...\n",
      "Copied 22900 files so far...\n",
      "Copied 23000 files so far...\n",
      "Copied 23100 files so far...\n",
      "Copied 23200 files so far...\n",
      "Copied 23300 files so far...\n",
      "Copied 23400 files so far...\n",
      "Copied 23500 files so far...\n",
      "Copied 23600 files so far...\n",
      "Copied 23700 files so far...\n",
      "Copied 23800 files so far...\n",
      "Copied 23900 files so far...\n",
      "Copied 24000 files so far...\n",
      "Copied 24100 files so far...\n",
      "Copied 24200 files so far...\n",
      "Copied 24300 files so far...\n",
      "Copied 24400 files so far...\n",
      "Copied 24500 files so far...\n",
      "Copied 24600 files so far...\n",
      "Copied 24700 files so far...\n",
      "Copied 24800 files so far...\n",
      "Copied 24900 files so far...\n",
      "Copied 25000 files so far...\n",
      "Copied 25100 files so far...\n",
      "Copied 25200 files so far...\n",
      "Copied 25300 files so far...\n",
      "Copied 25400 files so far...\n",
      "Copied 25500 files so far...\n",
      "Copied 25600 files so far...\n",
      "Copied 25700 files so far...\n",
      "Copied 25800 files so far...\n",
      "Copied 25900 files so far...\n",
      "Copied 26000 files so far...\n",
      "Copied 26100 files so far...\n",
      "Copied 26200 files so far...\n",
      "Copied 26300 files so far...\n",
      "Copied 26400 files so far...\n",
      "Copied 26500 files so far...\n",
      "Copied 26600 files so far...\n",
      "Copied 26700 files so far...\n",
      "Copied 26800 files so far...\n",
      "Copied 26900 files so far...\n",
      "Copied 27000 files so far...\n",
      "Copied 27100 files so far...\n",
      "Copied 27200 files so far...\n",
      "Copied 27300 files so far...\n",
      "Copied 27400 files so far...\n",
      "Copied 27500 files so far...\n",
      "Copied 27600 files so far...\n",
      "Copied 27700 files so far...\n",
      "Copied 27800 files so far...\n",
      "Copied 27900 files so far...\n",
      "Copied 28000 files so far...\n",
      "Copied 28100 files so far...\n",
      "Copied 28200 files so far...\n",
      "Copied 28300 files so far...\n",
      "Copied 28400 files so far...\n",
      "Copied 28500 files so far...\n",
      "Copied 28600 files so far...\n",
      "Copied 28700 files so far...\n",
      "Copied 28800 files so far...\n",
      "Copied 28900 files so far...\n",
      "Processing directory: compound-001_plate15\n",
      "Copied 29000 files so far...\n",
      "Copied 29100 files so far...\n",
      "Copied 29200 files so far...\n",
      "Copied 29300 files so far...\n",
      "Copied 29400 files so far...\n",
      "Copied 29500 files so far...\n",
      "Copied 29600 files so far...\n",
      "Copied 29700 files so far...\n",
      "Copied 29800 files so far...\n",
      "Copied 29900 files so far...\n",
      "Copied 30000 files so far...\n",
      "Copied 30100 files so far...\n",
      "Copied 30200 files so far...\n",
      "Copied 30300 files so far...\n",
      "Copied 30400 files so far...\n",
      "Copied 30500 files so far...\n",
      "Copied 30600 files so far...\n",
      "Copied 30700 files so far...\n",
      "Copied 30800 files so far...\n",
      "Copied 30900 files so far...\n",
      "Copied 31000 files so far...\n",
      "Copied 31100 files so far...\n",
      "Copied 31200 files so far...\n",
      "Copied 31300 files so far...\n",
      "Copied 31400 files so far...\n",
      "Copied 31500 files so far...\n",
      "Copied 31600 files so far...\n",
      "Copied 31700 files so far...\n",
      "Copied 31800 files so far...\n",
      "Copied 31900 files so far...\n",
      "Copied 32000 files so far...\n",
      "Copied 32100 files so far...\n",
      "Copied 32200 files so far...\n",
      "Copied 32300 files so far...\n",
      "Copied 32400 files so far...\n",
      "Copied 32500 files so far...\n",
      "Copied 32600 files so far...\n",
      "Copied 32700 files so far...\n",
      "Copied 32800 files so far...\n",
      "Copied 32900 files so far...\n",
      "Copied 33000 files so far...\n",
      "Copied 33100 files so far...\n",
      "Copied 33200 files so far...\n",
      "Copied 33300 files so far...\n",
      "Copied 33400 files so far...\n",
      "Copied 33500 files so far...\n",
      "Copied 33600 files so far...\n",
      "Copied 33700 files so far...\n",
      "Copied 33800 files so far...\n",
      "Copied 33900 files so far...\n",
      "Copied 34000 files so far...\n",
      "Copied 34100 files so far...\n",
      "Copied 34200 files so far...\n",
      "Copied 34300 files so far...\n",
      "Copied 34400 files so far...\n",
      "Copied 34500 files so far...\n",
      "Copied 34600 files so far...\n",
      "Copied 34700 files so far...\n",
      "Copied 34800 files so far...\n",
      "Copied 34900 files so far...\n",
      "Copied 35000 files so far...\n",
      "Copied 35100 files so far...\n",
      "Copied 35200 files so far...\n",
      "Copied 35300 files so far...\n",
      "Copied 35400 files so far...\n",
      "Copied 35500 files so far...\n",
      "Copied 35600 files so far...\n",
      "Copied 35700 files so far...\n",
      "Copied 35800 files so far...\n",
      "Copied 35900 files so far...\n",
      "Copied 36000 files so far...\n",
      "Copied 36100 files so far...\n",
      "Copied 36200 files so far...\n",
      "Copied 36300 files so far...\n",
      "Copied 36400 files so far...\n",
      "Copied 36500 files so far...\n",
      "Copied 36600 files so far...\n",
      "Copied 36700 files so far...\n",
      "Copied 36800 files so far...\n",
      "Copied 36900 files so far...\n",
      "Copied 37000 files so far...\n",
      "Copied 37100 files so far...\n",
      "Copied 37200 files so far...\n",
      "Copied 37300 files so far...\n",
      "Copied 37400 files so far...\n",
      "Copied 37500 files so far...\n",
      "Copied 37600 files so far...\n",
      "Copied 37700 files so far...\n",
      "Copied 37800 files so far...\n",
      "Copied 37900 files so far...\n",
      "Processing directory: compound-001_plate16\n",
      "Copied 38000 files so far...\n",
      "Copied 38100 files so far...\n",
      "Copied 38200 files so far...\n",
      "Copied 38300 files so far...\n",
      "Copied 38400 files so far...\n",
      "Copied 38500 files so far...\n",
      "Copied 38600 files so far...\n",
      "Copied 38700 files so far...\n",
      "Copied 38800 files so far...\n",
      "Copied 38900 files so far...\n",
      "Copied 39000 files so far...\n",
      "Copied 39100 files so far...\n",
      "Copied 39200 files so far...\n",
      "Copied 39300 files so far...\n",
      "Copied 39400 files so far...\n",
      "Copied 39500 files so far...\n",
      "Copied 39600 files so far...\n",
      "Copied 39700 files so far...\n",
      "Copied 39800 files so far...\n",
      "Copied 39900 files so far...\n",
      "Copied 40000 files so far...\n",
      "Copied 40100 files so far...\n",
      "Copied 40200 files so far...\n",
      "Copied 40300 files so far...\n",
      "Copied 40400 files so far...\n",
      "Copied 40500 files so far...\n",
      "Copied 40600 files so far...\n",
      "Copied 40700 files so far...\n",
      "Copied 40800 files so far...\n",
      "Copied 40900 files so far...\n",
      "Copied 41000 files so far...\n",
      "Copied 41100 files so far...\n",
      "Copied 41200 files so far...\n",
      "Copied 41300 files so far...\n",
      "Copied 41400 files so far...\n",
      "Copied 41500 files so far...\n",
      "Copied 41600 files so far...\n",
      "Copied 41700 files so far...\n",
      "Copied 41800 files so far...\n",
      "Copied 41900 files so far...\n",
      "Copied 42000 files so far...\n",
      "Copied 42100 files so far...\n",
      "Copied 42200 files so far...\n",
      "Copied 42300 files so far...\n",
      "Copied 42400 files so far...\n",
      "Copied 42500 files so far...\n",
      "Copied 42600 files so far...\n",
      "Copied 42700 files so far...\n",
      "Copied 42800 files so far...\n",
      "Copied 42900 files so far...\n",
      "Copied 43000 files so far...\n",
      "Copied 43100 files so far...\n",
      "Copied 43200 files so far...\n",
      "Copied 43300 files so far...\n",
      "Copied 43400 files so far...\n",
      "Copied 43500 files so far...\n",
      "Copied 43600 files so far...\n",
      "Copied 43700 files so far...\n",
      "Copied 43800 files so far...\n",
      "Copied 43900 files so far...\n",
      "Copied 44000 files so far...\n",
      "Copied 44100 files so far...\n",
      "Copied 44200 files so far...\n",
      "Copied 44300 files so far...\n",
      "Copied 44400 files so far...\n",
      "Copied 44500 files so far...\n",
      "Copied 44600 files so far...\n",
      "Copied 44700 files so far...\n",
      "Copied 44800 files so far...\n",
      "Copied 44900 files so far...\n",
      "Copied 45000 files so far...\n",
      "Copied 45100 files so far...\n",
      "Copied 45200 files so far...\n",
      "Copied 45300 files so far...\n",
      "Copied 45400 files so far...\n",
      "Copied 45500 files so far...\n",
      "Copied 45600 files so far...\n",
      "Copied 45700 files so far...\n",
      "Copied 45800 files so far...\n",
      "Copied 45900 files so far...\n",
      "Copied 46000 files so far...\n",
      "Copied 46100 files so far...\n",
      "Copied 46200 files so far...\n",
      "Processing directory: compound-001_plate17\n",
      "Copied 46300 files so far...\n",
      "Copied 46400 files so far...\n",
      "Copied 46500 files so far...\n",
      "Copied 46600 files so far...\n",
      "Copied 46700 files so far...\n",
      "Copied 46800 files so far...\n",
      "Copied 46900 files so far...\n",
      "Copied 47000 files so far...\n",
      "Copied 47100 files so far...\n",
      "Copied 47200 files so far...\n",
      "Copied 47300 files so far...\n",
      "Copied 47400 files so far...\n",
      "Copied 47500 files so far...\n",
      "Copied 47600 files so far...\n",
      "Copied 47700 files so far...\n",
      "Copied 47800 files so far...\n",
      "Copied 47900 files so far...\n",
      "Copied 48000 files so far...\n",
      "Copied 48100 files so far...\n",
      "Copied 48200 files so far...\n",
      "Copied 48300 files so far...\n",
      "Copied 48400 files so far...\n",
      "Copied 48500 files so far...\n",
      "Copied 48600 files so far...\n",
      "Copied 48700 files so far...\n",
      "Copied 48800 files so far...\n",
      "Copied 48900 files so far...\n",
      "Copied 49000 files so far...\n",
      "Copied 49100 files so far...\n",
      "Copied 49200 files so far...\n",
      "Copied 49300 files so far...\n",
      "Copied 49400 files so far...\n",
      "Copied 49500 files so far...\n",
      "Copied 49600 files so far...\n",
      "Copied 49700 files so far...\n",
      "Copied 49800 files so far...\n",
      "Copied 49900 files so far...\n",
      "Copied 50000 files so far...\n",
      "Copied 50100 files so far...\n",
      "Copied 50200 files so far...\n",
      "Copied 50300 files so far...\n",
      "Copied 50400 files so far...\n",
      "Copied 50500 files so far...\n",
      "Copied 50600 files so far...\n",
      "Copied 50700 files so far...\n",
      "Copied 50800 files so far...\n",
      "Copied 50900 files so far...\n",
      "Copied 51000 files so far...\n",
      "Copied 51100 files so far...\n",
      "Copied 51200 files so far...\n",
      "Copied 51300 files so far...\n",
      "Copied 51400 files so far...\n",
      "Copied 51500 files so far...\n",
      "Copied 51600 files so far...\n",
      "Copied 51700 files so far...\n",
      "Copied 51800 files so far...\n",
      "Copied 51900 files so far...\n",
      "Copied 52000 files so far...\n",
      "Copied 52100 files so far...\n",
      "Copied 52200 files so far...\n",
      "Copied 52300 files so far...\n",
      "Copied 52400 files so far...\n",
      "Copied 52500 files so far...\n",
      "Copied 52600 files so far...\n",
      "Copied 52700 files so far...\n",
      "Copied 52800 files so far...\n",
      "Copied 52900 files so far...\n",
      "Copied 53000 files so far...\n",
      "Copied 53100 files so far...\n",
      "Copied 53200 files so far...\n",
      "Copied 53300 files so far...\n",
      "Copied 53400 files so far...\n",
      "Copied 53500 files so far...\n",
      "Copied 53600 files so far...\n",
      "Copied 53700 files so far...\n",
      "Copied 53800 files so far...\n",
      "Copied 53900 files so far...\n",
      "Copied 54000 files so far...\n",
      "Copied 54100 files so far...\n",
      "Copied 54200 files so far...\n",
      "Copied 54300 files so far...\n",
      "Copied 54400 files so far...\n",
      "Processing directory: compound-001_plate18\n",
      "Copied 54500 files so far...\n",
      "Copied 54600 files so far...\n",
      "Copied 54700 files so far...\n",
      "Copied 54800 files so far...\n",
      "Copied 54900 files so far...\n",
      "Copied 55000 files so far...\n",
      "Copied 55100 files so far...\n",
      "Copied 55200 files so far...\n",
      "Copied 55300 files so far...\n",
      "Copied 55400 files so far...\n",
      "Copied 55500 files so far...\n",
      "Copied 55600 files so far...\n",
      "Copied 55700 files so far...\n",
      "Copied 55800 files so far...\n",
      "Copied 55900 files so far...\n",
      "Copied 56000 files so far...\n",
      "Copied 56100 files so far...\n",
      "Copied 56200 files so far...\n",
      "Copied 56300 files so far...\n",
      "Copied 56400 files so far...\n",
      "Copied 56500 files so far...\n",
      "Copied 56600 files so far...\n",
      "Copied 56700 files so far...\n",
      "Copied 56800 files so far...\n",
      "Copied 56900 files so far...\n",
      "Copied 57000 files so far...\n",
      "Copied 57100 files so far...\n",
      "Copied 57200 files so far...\n",
      "Copied 57300 files so far...\n",
      "Copied 57400 files so far...\n",
      "Copied 57500 files so far...\n",
      "Copied 57600 files so far...\n",
      "Copied 57700 files so far...\n",
      "Copied 57800 files so far...\n",
      "Copied 57900 files so far...\n",
      "Copied 58000 files so far...\n",
      "Copied 58100 files so far...\n",
      "Copied 58200 files so far...\n",
      "Copied 58300 files so far...\n",
      "Copied 58400 files so far...\n",
      "Copied 58500 files so far...\n",
      "Copied 58600 files so far...\n",
      "Copied 58700 files so far...\n",
      "Copied 58800 files so far...\n",
      "Copied 58900 files so far...\n",
      "Copied 59000 files so far...\n",
      "Copied 59100 files so far...\n",
      "Copied 59200 files so far...\n",
      "Copied 59300 files so far...\n",
      "Copied 59400 files so far...\n",
      "Copied 59500 files so far...\n",
      "Copied 59600 files so far...\n",
      "Copied 59700 files so far...\n",
      "Copied 59800 files so far...\n",
      "Copied 59900 files so far...\n",
      "Copied 60000 files so far...\n",
      "Copied 60100 files so far...\n",
      "Copied 60200 files so far...\n",
      "Copied 60300 files so far...\n",
      "Copied 60400 files so far...\n",
      "Copied 60500 files so far...\n",
      "Copied 60600 files so far...\n",
      "Copied 60700 files so far...\n",
      "Copied 60800 files so far...\n",
      "Copied 60900 files so far...\n",
      "Copied 61000 files so far...\n",
      "Copied 61100 files so far...\n",
      "Copied 61200 files so far...\n",
      "Copied 61300 files so far...\n",
      "Copied 61400 files so far...\n",
      "Copied 61500 files so far...\n",
      "Copied 61600 files so far...\n",
      "Copied 61700 files so far...\n",
      "Copied 61800 files so far...\n",
      "Copied 61900 files so far...\n",
      "Copied 62000 files so far...\n",
      "Copied 62100 files so far...\n",
      "Copied 62200 files so far...\n",
      "Copied 62300 files so far...\n",
      "Copied 62400 files so far...\n",
      "Copied 62500 files so far...\n",
      "Copied 62600 files so far...\n",
      "Copied 62700 files so far...\n",
      "Copied 62800 files so far...\n",
      "Copied 62900 files so far...\n",
      "Copied 63000 files so far...\n",
      "Copied 63100 files so far...\n",
      "Copied 63200 files so far...\n",
      "Copied 63300 files so far...\n",
      "Copied 63400 files so far...\n",
      "Processing directory: compound-001_plate19\n",
      "Copied 63500 files so far...\n",
      "Copied 63600 files so far...\n",
      "Copied 63700 files so far...\n",
      "Copied 63800 files so far...\n",
      "Copied 63900 files so far...\n",
      "Copied 64000 files so far...\n",
      "Copied 64100 files so far...\n",
      "Copied 64200 files so far...\n",
      "Copied 64300 files so far...\n",
      "Copied 64400 files so far...\n",
      "Copied 64500 files so far...\n",
      "Copied 64600 files so far...\n",
      "Copied 64700 files so far...\n",
      "Copied 64800 files so far...\n",
      "Copied 64900 files so far...\n",
      "Copied 65000 files so far...\n",
      "Copied 65100 files so far...\n",
      "Copied 65200 files so far...\n",
      "Copied 65300 files so far...\n",
      "Copied 65400 files so far...\n",
      "Copied 65500 files so far...\n",
      "Copied 65600 files so far...\n",
      "Copied 65700 files so far...\n",
      "Copied 65800 files so far...\n",
      "Copied 65900 files so far...\n",
      "Copied 66000 files so far...\n",
      "Copied 66100 files so far...\n",
      "Copied 66200 files so far...\n",
      "Copied 66300 files so far...\n",
      "Copied 66400 files so far...\n",
      "Copied 66500 files so far...\n",
      "Copied 66600 files so far...\n",
      "Copied 66700 files so far...\n",
      "Copied 66800 files so far...\n",
      "Copied 66900 files so far...\n",
      "Copied 67000 files so far...\n",
      "Copied 67100 files so far...\n",
      "Copied 67200 files so far...\n",
      "Copied 67300 files so far...\n",
      "Copied 67400 files so far...\n",
      "Copied 67500 files so far...\n",
      "Copied 67600 files so far...\n",
      "Copied 67700 files so far...\n",
      "Copied 67800 files so far...\n",
      "Copied 67900 files so far...\n",
      "Copied 68000 files so far...\n",
      "Copied 68100 files so far...\n",
      "Copied 68200 files so far...\n",
      "Copied 68300 files so far...\n",
      "Copied 68400 files so far...\n",
      "Copied 68500 files so far...\n",
      "Copied 68600 files so far...\n",
      "Copied 68700 files so far...\n",
      "Copied 68800 files so far...\n",
      "Copied 68900 files so far...\n",
      "Copied 69000 files so far...\n",
      "Copied 69100 files so far...\n",
      "Copied 69200 files so far...\n",
      "Copied 69300 files so far...\n",
      "Copied 69400 files so far...\n",
      "Copied 69500 files so far...\n",
      "Copied 69600 files so far...\n",
      "Copied 69700 files so far...\n",
      "Copied 69800 files so far...\n",
      "Copied 69900 files so far...\n",
      "Copied 70000 files so far...\n",
      "Copied 70100 files so far...\n",
      "Copied 70200 files so far...\n",
      "Copied 70300 files so far...\n",
      "Copied 70400 files so far...\n",
      "Copied 70500 files so far...\n",
      "Copied 70600 files so far...\n",
      "Copied 70700 files so far...\n",
      "Copied 70800 files so far...\n",
      "Copied 70900 files so far...\n",
      "Copied 71000 files so far...\n",
      "Copied 71100 files so far...\n",
      "Copied 71200 files so far...\n",
      "Copied 71300 files so far...\n",
      "Copied 71400 files so far...\n",
      "Copied 71500 files so far...\n",
      "Copied 71600 files so far...\n",
      "Copied 71700 files so far...\n",
      "Processing directory: compound-001_plate2\n",
      "Copied 71800 files so far...\n",
      "Copied 71900 files so far...\n",
      "Copied 72000 files so far...\n",
      "Copied 72100 files so far...\n",
      "Copied 72200 files so far...\n",
      "Copied 72300 files so far...\n",
      "Copied 72400 files so far...\n",
      "Copied 72500 files so far...\n",
      "Copied 72600 files so far...\n",
      "Copied 72700 files so far...\n",
      "Copied 72800 files so far...\n",
      "Copied 72900 files so far...\n",
      "Copied 73000 files so far...\n",
      "Copied 73100 files so far...\n",
      "Copied 73200 files so far...\n",
      "Copied 73300 files so far...\n",
      "Copied 73400 files so far...\n",
      "Copied 73500 files so far...\n",
      "Copied 73600 files so far...\n",
      "Copied 73700 files so far...\n",
      "Copied 73800 files so far...\n",
      "Copied 73900 files so far...\n",
      "Copied 74000 files so far...\n",
      "Copied 74100 files so far...\n",
      "Copied 74200 files so far...\n",
      "Copied 74300 files so far...\n",
      "Copied 74400 files so far...\n",
      "Copied 74500 files so far...\n",
      "Copied 74600 files so far...\n",
      "Copied 74700 files so far...\n",
      "Copied 74800 files so far...\n",
      "Copied 74900 files so far...\n",
      "Copied 75000 files so far...\n",
      "Copied 75100 files so far...\n",
      "Copied 75200 files so far...\n",
      "Copied 75300 files so far...\n",
      "Copied 75400 files so far...\n",
      "Copied 75500 files so far...\n",
      "Copied 75600 files so far...\n",
      "Copied 75700 files so far...\n",
      "Copied 75800 files so far...\n",
      "Copied 75900 files so far...\n",
      "Copied 76000 files so far...\n",
      "Copied 76100 files so far...\n",
      "Copied 76200 files so far...\n",
      "Processing directory: compound-001_plate20\n",
      "Copied 76300 files so far...\n",
      "Copied 76400 files so far...\n",
      "Copied 76500 files so far...\n",
      "Copied 76600 files so far...\n",
      "Copied 76700 files so far...\n",
      "Copied 76800 files so far...\n",
      "Copied 76900 files so far...\n",
      "Copied 77000 files so far...\n",
      "Copied 77100 files so far...\n",
      "Copied 77200 files so far...\n",
      "Copied 77300 files so far...\n",
      "Copied 77400 files so far...\n",
      "Copied 77500 files so far...\n",
      "Copied 77600 files so far...\n",
      "Copied 77700 files so far...\n",
      "Copied 77800 files so far...\n",
      "Copied 77900 files so far...\n",
      "Copied 78000 files so far...\n",
      "Copied 78100 files so far...\n",
      "Copied 78200 files so far...\n",
      "Copied 78300 files so far...\n",
      "Copied 78400 files so far...\n",
      "Copied 78500 files so far...\n",
      "Copied 78600 files so far...\n",
      "Copied 78700 files so far...\n",
      "Copied 78800 files so far...\n",
      "Copied 78900 files so far...\n",
      "Copied 79000 files so far...\n",
      "Copied 79100 files so far...\n",
      "Copied 79200 files so far...\n",
      "Copied 79300 files so far...\n",
      "Copied 79400 files so far...\n",
      "Copied 79500 files so far...\n",
      "Copied 79600 files so far...\n",
      "Copied 79700 files so far...\n",
      "Copied 79800 files so far...\n",
      "Copied 79900 files so far...\n",
      "Copied 80000 files so far...\n",
      "Copied 80100 files so far...\n",
      "Copied 80200 files so far...\n",
      "Copied 80300 files so far...\n",
      "Copied 80400 files so far...\n",
      "Copied 80500 files so far...\n",
      "Copied 80600 files so far...\n",
      "Copied 80700 files so far...\n",
      "Copied 80800 files so far...\n",
      "Copied 80900 files so far...\n",
      "Copied 81000 files so far...\n",
      "Copied 81100 files so far...\n",
      "Copied 81200 files so far...\n",
      "Copied 81300 files so far...\n",
      "Copied 81400 files so far...\n",
      "Copied 81500 files so far...\n",
      "Copied 81600 files so far...\n",
      "Copied 81700 files so far...\n",
      "Copied 81800 files so far...\n",
      "Copied 81900 files so far...\n",
      "Copied 82000 files so far...\n",
      "Copied 82100 files so far...\n",
      "Copied 82200 files so far...\n",
      "Copied 82300 files so far...\n",
      "Copied 82400 files so far...\n",
      "Copied 82500 files so far...\n",
      "Copied 82600 files so far...\n",
      "Copied 82700 files so far...\n",
      "Copied 82800 files so far...\n",
      "Copied 82900 files so far...\n",
      "Copied 83000 files so far...\n",
      "Copied 83100 files so far...\n",
      "Copied 83200 files so far...\n",
      "Copied 83300 files so far...\n",
      "Copied 83400 files so far...\n",
      "Copied 83500 files so far...\n",
      "Copied 83600 files so far...\n",
      "Copied 83700 files so far...\n",
      "Copied 83800 files so far...\n",
      "Copied 83900 files so far...\n",
      "Copied 84000 files so far...\n",
      "Copied 84100 files so far...\n",
      "Copied 84200 files so far...\n",
      "Copied 84300 files so far...\n",
      "Copied 84400 files so far...\n",
      "Processing directory: compound-001_plate21\n",
      "Copied 84500 files so far...\n",
      "Copied 84600 files so far...\n",
      "Copied 84700 files so far...\n",
      "Copied 84800 files so far...\n",
      "Copied 84900 files so far...\n",
      "Copied 85000 files so far...\n",
      "Copied 85100 files so far...\n",
      "Copied 85200 files so far...\n",
      "Copied 85300 files so far...\n",
      "Copied 85400 files so far...\n",
      "Copied 85500 files so far...\n",
      "Copied 85600 files so far...\n",
      "Copied 85700 files so far...\n",
      "Copied 85800 files so far...\n",
      "Copied 85900 files so far...\n",
      "Copied 86000 files so far...\n",
      "Copied 86100 files so far...\n",
      "Copied 86200 files so far...\n",
      "Copied 86300 files so far...\n",
      "Copied 86400 files so far...\n",
      "Copied 86500 files so far...\n",
      "Copied 86600 files so far...\n",
      "Copied 86700 files so far...\n",
      "Copied 86800 files so far...\n",
      "Copied 86900 files so far...\n",
      "Copied 87000 files so far...\n",
      "Copied 87100 files so far...\n",
      "Copied 87200 files so far...\n",
      "Copied 87300 files so far...\n",
      "Copied 87400 files so far...\n",
      "Copied 87500 files so far...\n",
      "Copied 87600 files so far...\n",
      "Copied 87700 files so far...\n",
      "Copied 87800 files so far...\n",
      "Copied 87900 files so far...\n",
      "Copied 88000 files so far...\n",
      "Copied 88100 files so far...\n",
      "Copied 88200 files so far...\n",
      "Copied 88300 files so far...\n",
      "Copied 88400 files so far...\n",
      "Copied 88500 files so far...\n",
      "Copied 88600 files so far...\n",
      "Copied 88700 files so far...\n",
      "Copied 88800 files so far...\n",
      "Copied 88900 files so far...\n",
      "Copied 89000 files so far...\n",
      "Copied 89100 files so far...\n",
      "Copied 89200 files so far...\n",
      "Copied 89300 files so far...\n",
      "Copied 89400 files so far...\n",
      "Copied 89500 files so far...\n",
      "Copied 89600 files so far...\n",
      "Copied 89700 files so far...\n",
      "Copied 89800 files so far...\n",
      "Copied 89900 files so far...\n",
      "Copied 90000 files so far...\n",
      "Copied 90100 files so far...\n",
      "Copied 90200 files so far...\n",
      "Copied 90300 files so far...\n",
      "Copied 90400 files so far...\n",
      "Copied 90500 files so far...\n",
      "Copied 90600 files so far...\n",
      "Copied 90700 files so far...\n",
      "Copied 90800 files so far...\n",
      "Copied 90900 files so far...\n",
      "Copied 91000 files so far...\n",
      "Copied 91100 files so far...\n",
      "Copied 91200 files so far...\n",
      "Copied 91300 files so far...\n",
      "Copied 91400 files so far...\n",
      "Copied 91500 files so far...\n",
      "Copied 91600 files so far...\n",
      "Copied 91700 files so far...\n",
      "Copied 91800 files so far...\n",
      "Copied 91900 files so far...\n",
      "Copied 92000 files so far...\n",
      "Copied 92100 files so far...\n",
      "Copied 92200 files so far...\n",
      "Copied 92300 files so far...\n",
      "Copied 92400 files so far...\n",
      "Copied 92500 files so far...\n",
      "Copied 92600 files so far...\n",
      "Copied 92700 files so far...\n",
      "Copied 92800 files so far...\n",
      "Copied 92900 files so far...\n",
      "Copied 93000 files so far...\n",
      "Copied 93100 files so far...\n",
      "Copied 93200 files so far...\n",
      "Copied 93300 files so far...\n",
      "Copied 93400 files so far...\n",
      "Processing directory: compound-001_plate22\n",
      "Copied 93500 files so far...\n",
      "Copied 93600 files so far...\n",
      "Copied 93700 files so far...\n",
      "Copied 93800 files so far...\n",
      "Copied 93900 files so far...\n",
      "Copied 94000 files so far...\n",
      "Copied 94100 files so far...\n",
      "Copied 94200 files so far...\n",
      "Copied 94300 files so far...\n",
      "Copied 94400 files so far...\n",
      "Copied 94500 files so far...\n",
      "Copied 94600 files so far...\n",
      "Copied 94700 files so far...\n",
      "Copied 94800 files so far...\n",
      "Copied 94900 files so far...\n",
      "Copied 95000 files so far...\n",
      "Copied 95100 files so far...\n",
      "Copied 95200 files so far...\n",
      "Copied 95300 files so far...\n",
      "Copied 95400 files so far...\n",
      "Copied 95500 files so far...\n",
      "Copied 95600 files so far...\n",
      "Copied 95700 files so far...\n",
      "Copied 95800 files so far...\n",
      "Copied 95900 files so far...\n",
      "Copied 96000 files so far...\n",
      "Copied 96100 files so far...\n",
      "Copied 96200 files so far...\n",
      "Copied 96300 files so far...\n",
      "Copied 96400 files so far...\n",
      "Copied 96500 files so far...\n",
      "Copied 96600 files so far...\n",
      "Copied 96700 files so far...\n",
      "Copied 96800 files so far...\n",
      "Copied 96900 files so far...\n",
      "Copied 97000 files so far...\n",
      "Copied 97100 files so far...\n",
      "Copied 97200 files so far...\n",
      "Copied 97300 files so far...\n",
      "Copied 97400 files so far...\n",
      "Copied 97500 files so far...\n",
      "Copied 97600 files so far...\n",
      "Copied 97700 files so far...\n",
      "Copied 97800 files so far...\n",
      "Copied 97900 files so far...\n",
      "Copied 98000 files so far...\n",
      "Copied 98100 files so far...\n",
      "Copied 98200 files so far...\n",
      "Copied 98300 files so far...\n",
      "Copied 98400 files so far...\n",
      "Copied 98500 files so far...\n",
      "Copied 98600 files so far...\n",
      "Copied 98700 files so far...\n",
      "Copied 98800 files so far...\n",
      "Copied 98900 files so far...\n",
      "Copied 99000 files so far...\n",
      "Copied 99100 files so far...\n",
      "Copied 99200 files so far...\n",
      "Copied 99300 files so far...\n",
      "Copied 99400 files so far...\n",
      "Copied 99500 files so far...\n",
      "Copied 99600 files so far...\n",
      "Copied 99700 files so far...\n",
      "Copied 99800 files so far...\n",
      "Copied 99900 files so far...\n",
      "Copied 100000 files so far...\n",
      "Copied 100100 files so far...\n",
      "Copied 100200 files so far...\n",
      "Copied 100300 files so far...\n",
      "Copied 100400 files so far...\n",
      "Copied 100500 files so far...\n",
      "Copied 100600 files so far...\n",
      "Copied 100700 files so far...\n",
      "Copied 100800 files so far...\n",
      "Copied 100900 files so far...\n",
      "Copied 101000 files so far...\n",
      "Copied 101100 files so far...\n",
      "Copied 101200 files so far...\n",
      "Copied 101300 files so far...\n",
      "Copied 101400 files so far...\n",
      "Copied 101500 files so far...\n",
      "Copied 101600 files so far...\n",
      "Copied 101700 files so far...\n",
      "Processing directory: compound-001_plate23\n",
      "Copied 101800 files so far...\n",
      "Copied 101900 files so far...\n",
      "Copied 102000 files so far...\n",
      "Copied 102100 files so far...\n",
      "Copied 102200 files so far...\n",
      "Copied 102300 files so far...\n",
      "Copied 102400 files so far...\n",
      "Copied 102500 files so far...\n",
      "Copied 102600 files so far...\n",
      "Copied 102700 files so far...\n",
      "Copied 102800 files so far...\n",
      "Copied 102900 files so far...\n",
      "Copied 103000 files so far...\n",
      "Copied 103100 files so far...\n",
      "Copied 103200 files so far...\n",
      "Copied 103300 files so far...\n",
      "Copied 103400 files so far...\n",
      "Copied 103500 files so far...\n",
      "Copied 103600 files so far...\n",
      "Copied 103700 files so far...\n",
      "Copied 103800 files so far...\n",
      "Copied 103900 files so far...\n",
      "Copied 104000 files so far...\n",
      "Copied 104100 files so far...\n",
      "Copied 104200 files so far...\n",
      "Copied 104300 files so far...\n",
      "Copied 104400 files so far...\n",
      "Copied 104500 files so far...\n",
      "Copied 104600 files so far...\n",
      "Copied 104700 files so far...\n",
      "Copied 104800 files so far...\n",
      "Copied 104900 files so far...\n",
      "Copied 105000 files so far...\n",
      "Copied 105100 files so far...\n",
      "Copied 105200 files so far...\n",
      "Copied 105300 files so far...\n",
      "Copied 105400 files so far...\n",
      "Copied 105500 files so far...\n",
      "Copied 105600 files so far...\n",
      "Copied 105700 files so far...\n",
      "Copied 105800 files so far...\n",
      "Copied 105900 files so far...\n",
      "Copied 106000 files so far...\n",
      "Copied 106100 files so far...\n",
      "Copied 106200 files so far...\n",
      "Copied 106300 files so far...\n",
      "Copied 106400 files so far...\n",
      "Copied 106500 files so far...\n",
      "Copied 106600 files so far...\n",
      "Copied 106700 files so far...\n",
      "Copied 106800 files so far...\n",
      "Copied 106900 files so far...\n",
      "Copied 107000 files so far...\n",
      "Copied 107100 files so far...\n",
      "Copied 107200 files so far...\n",
      "Copied 107300 files so far...\n",
      "Copied 107400 files so far...\n",
      "Copied 107500 files so far...\n",
      "Copied 107600 files so far...\n",
      "Copied 107700 files so far...\n",
      "Copied 107800 files so far...\n",
      "Copied 107900 files so far...\n",
      "Copied 108000 files so far...\n",
      "Copied 108100 files so far...\n",
      "Copied 108200 files so far...\n",
      "Copied 108300 files so far...\n",
      "Copied 108400 files so far...\n",
      "Copied 108500 files so far...\n",
      "Copied 108600 files so far...\n",
      "Copied 108700 files so far...\n",
      "Copied 108800 files so far...\n",
      "Copied 108900 files so far...\n",
      "Copied 109000 files so far...\n",
      "Copied 109100 files so far...\n",
      "Copied 109200 files so far...\n",
      "Copied 109300 files so far...\n",
      "Copied 109400 files so far...\n",
      "Copied 109500 files so far...\n",
      "Copied 109600 files so far...\n",
      "Copied 109700 files so far...\n",
      "Copied 109800 files so far...\n",
      "Copied 109900 files so far...\n",
      "Processing directory: compound-001_plate24\n",
      "Copied 110000 files so far...\n",
      "Copied 110100 files so far...\n",
      "Copied 110200 files so far...\n",
      "Copied 110300 files so far...\n",
      "Copied 110400 files so far...\n",
      "Copied 110500 files so far...\n",
      "Copied 110600 files so far...\n",
      "Copied 110700 files so far...\n",
      "Copied 110800 files so far...\n",
      "Copied 110900 files so far...\n",
      "Copied 111000 files so far...\n",
      "Copied 111100 files so far...\n",
      "Copied 111200 files so far...\n",
      "Copied 111300 files so far...\n",
      "Copied 111400 files so far...\n",
      "Copied 111500 files so far...\n",
      "Copied 111600 files so far...\n",
      "Copied 111700 files so far...\n",
      "Copied 111800 files so far...\n",
      "Copied 111900 files so far...\n",
      "Copied 112000 files so far...\n",
      "Copied 112100 files so far...\n",
      "Copied 112200 files so far...\n",
      "Copied 112300 files so far...\n",
      "Copied 112400 files so far...\n",
      "Copied 112500 files so far...\n",
      "Copied 112600 files so far...\n",
      "Copied 112700 files so far...\n",
      "Copied 112800 files so far...\n",
      "Copied 112900 files so far...\n",
      "Copied 113000 files so far...\n",
      "Copied 113100 files so far...\n",
      "Copied 113200 files so far...\n",
      "Copied 113300 files so far...\n",
      "Copied 113400 files so far...\n",
      "Copied 113500 files so far...\n",
      "Copied 113600 files so far...\n",
      "Copied 113700 files so far...\n",
      "Copied 113800 files so far...\n",
      "Copied 113900 files so far...\n",
      "Copied 114000 files so far...\n",
      "Copied 114100 files so far...\n",
      "Copied 114200 files so far...\n",
      "Copied 114300 files so far...\n",
      "Copied 114400 files so far...\n",
      "Copied 114500 files so far...\n",
      "Copied 114600 files so far...\n",
      "Copied 114700 files so far...\n",
      "Copied 114800 files so far...\n",
      "Copied 114900 files so far...\n",
      "Copied 115000 files so far...\n",
      "Copied 115100 files so far...\n",
      "Copied 115200 files so far...\n",
      "Copied 115300 files so far...\n",
      "Copied 115400 files so far...\n",
      "Copied 115500 files so far...\n",
      "Copied 115600 files so far...\n",
      "Copied 115700 files so far...\n",
      "Copied 115800 files so far...\n",
      "Copied 115900 files so far...\n",
      "Copied 116000 files so far...\n",
      "Copied 116100 files so far...\n",
      "Copied 116200 files so far...\n",
      "Copied 116300 files so far...\n",
      "Copied 116400 files so far...\n",
      "Copied 116500 files so far...\n",
      "Copied 116600 files so far...\n",
      "Copied 116700 files so far...\n",
      "Copied 116800 files so far...\n",
      "Copied 116900 files so far...\n",
      "Copied 117000 files so far...\n",
      "Copied 117100 files so far...\n",
      "Copied 117200 files so far...\n",
      "Copied 117300 files so far...\n",
      "Copied 117400 files so far...\n",
      "Copied 117500 files so far...\n",
      "Copied 117600 files so far...\n",
      "Copied 117700 files so far...\n",
      "Copied 117800 files so far...\n",
      "Copied 117900 files so far...\n",
      "Copied 118000 files so far...\n",
      "Copied 118100 files so far...\n",
      "Copied 118200 files so far...\n",
      "Copied 118300 files so far...\n",
      "Copied 118400 files so far...\n",
      "Copied 118500 files so far...\n",
      "Copied 118600 files so far...\n",
      "Copied 118700 files so far...\n",
      "Copied 118800 files so far...\n",
      "Copied 118900 files so far...\n",
      "Processing directory: compound-002_plate1\n",
      "Copied 119000 files so far...\n",
      "Copied 119100 files so far...\n",
      "Copied 119200 files so far...\n",
      "Copied 119300 files so far...\n",
      "Copied 119400 files so far...\n",
      "Copied 119500 files so far...\n",
      "Copied 119600 files so far...\n",
      "Copied 119700 files so far...\n",
      "Copied 119800 files so far...\n",
      "Copied 119900 files so far...\n",
      "Copied 120000 files so far...\n",
      "Copied 120100 files so far...\n",
      "Copied 120200 files so far...\n",
      "Copied 120300 files so far...\n",
      "Copied 120400 files so far...\n",
      "Copied 120500 files so far...\n",
      "Copied 120600 files so far...\n",
      "Copied 120700 files so far...\n",
      "Copied 120800 files so far...\n",
      "Copied 120900 files so far...\n",
      "Copied 121000 files so far...\n",
      "Copied 121100 files so far...\n",
      "Copied 121200 files so far...\n",
      "Copied 121300 files so far...\n",
      "Copied 121400 files so far...\n",
      "Copied 121500 files so far...\n",
      "Copied 121600 files so far...\n",
      "Copied 121700 files so far...\n",
      "Copied 121800 files so far...\n",
      "Copied 121900 files so far...\n",
      "Copied 122000 files so far...\n",
      "Copied 122100 files so far...\n",
      "Copied 122200 files so far...\n",
      "Copied 122300 files so far...\n",
      "Copied 122400 files so far...\n",
      "Copied 122500 files so far...\n",
      "Copied 122600 files so far...\n",
      "Copied 122700 files so far...\n",
      "Copied 122800 files so far...\n",
      "Processing directory: compound-003_plate1\n",
      "Copied 122900 files so far...\n",
      "Copied 123000 files so far...\n",
      "Copied 123100 files so far...\n",
      "Copied 123200 files so far...\n",
      "Copied 123300 files so far...\n",
      "Copied 123400 files so far...\n",
      "Copied 123500 files so far...\n",
      "Copied 123600 files so far...\n",
      "Copied 123700 files so far...\n",
      "Copied 123800 files so far...\n",
      "Copied 123900 files so far...\n",
      "Copied 124000 files so far...\n",
      "Copied 124100 files so far...\n",
      "Copied 124200 files so far...\n",
      "Copied 124300 files so far...\n",
      "Copied 124400 files so far...\n",
      "Copied 124500 files so far...\n",
      "Copied 124600 files so far...\n",
      "Copied 124700 files so far...\n",
      "Copied 124800 files so far...\n",
      "Copied 124900 files so far...\n",
      "Copied 125000 files so far...\n",
      "Copied 125100 files so far...\n",
      "Copied 125200 files so far...\n",
      "Copied 125300 files so far...\n",
      "Copied 125400 files so far...\n",
      "Copied 125500 files so far...\n",
      "Copied 125600 files so far...\n",
      "Copied 125700 files so far...\n",
      "Copied 125800 files so far...\n",
      "Copied 125900 files so far...\n",
      "Copied 126000 files so far...\n",
      "Copied 126100 files so far...\n",
      "Copied 126200 files so far...\n",
      "Copied 126300 files so far...\n",
      "Copied 126400 files so far...\n",
      "Copied 126500 files so far...\n",
      "Copied 126600 files so far...\n",
      "Copied 126700 files so far...\n",
      "Copied 126800 files so far...\n",
      "Copied 126900 files so far...\n",
      "Copied 127000 files so far...\n",
      "Copied 127100 files so far...\n",
      "Copied 127200 files so far...\n",
      "Copied 127300 files so far...\n",
      "Copied 127400 files so far...\n",
      "Copied 127500 files so far...\n",
      "Copied 127600 files so far...\n",
      "Copied 127700 files so far...\n",
      "Copied 127800 files so far...\n",
      "Copied 127900 files so far...\n",
      "Copied 128000 files so far...\n",
      "Copied 128100 files so far...\n",
      "Copied 128200 files so far...\n",
      "Copied 128300 files so far...\n",
      "Copied 128400 files so far...\n",
      "Copied 128500 files so far...\n",
      "Copied 128600 files so far...\n",
      "Copied 128700 files so far...\n",
      "Copied 128800 files so far...\n",
      "Copied 128900 files so far...\n",
      "Copied 129000 files so far...\n",
      "Copied 129100 files so far...\n",
      "Copied 129200 files so far...\n",
      "Copied 129300 files so far...\n",
      "Copied 129400 files so far...\n",
      "Copied 129500 files so far...\n",
      "Copied 129600 files so far...\n",
      "Copied 129700 files so far...\n",
      "Copied 129800 files so far...\n",
      "Copied 129900 files so far...\n",
      "Copied 130000 files so far...\n",
      "Copied 130100 files so far...\n",
      "Copied 130200 files so far...\n",
      "Copied 130300 files so far...\n",
      "Copied 130400 files so far...\n",
      "Copied 130500 files so far...\n",
      "Copied 130600 files so far...\n",
      "Copied 130700 files so far...\n",
      "Copied 130800 files so far...\n",
      "Copied 130900 files so far...\n",
      "Copied 131000 files so far...\n",
      "Copied 131100 files so far...\n",
      "Copied 131200 files so far...\n",
      "Copied 131300 files so far...\n",
      "Copied 131400 files so far...\n",
      "Copied 131500 files so far...\n",
      "Copied 131600 files so far...\n",
      "Copied 131700 files so far...\n",
      "Copied 131800 files so far...\n",
      "Copied 131900 files so far...\n",
      "Copied 132000 files so far...\n",
      "Copied 132100 files so far...\n",
      "Copied 132200 files so far...\n",
      "Copied 132300 files so far...\n",
      "Copied 132400 files so far...\n",
      "Copied 132500 files so far...\n",
      "Copied 132600 files so far...\n",
      "Copied 132700 files so far...\n",
      "Processing directory: gene-001_plate2\n",
      "Copied 132800 files so far...\n",
      "Copied 132900 files so far...\n",
      "Copied 133000 files so far...\n",
      "Copied 133100 files so far...\n",
      "Copied 133200 files so far...\n",
      "Copied 133300 files so far...\n",
      "Copied 133400 files so far...\n",
      "Copied 133500 files so far...\n",
      "Copied 133600 files so far...\n",
      "Copied 133700 files so far...\n",
      "Copied 133800 files so far...\n",
      "Copied 133900 files so far...\n",
      "Copied 134000 files so far...\n",
      "Copied 134100 files so far...\n",
      "Copied 134200 files so far...\n",
      "Copied 134300 files so far...\n",
      "Copied 134400 files so far...\n",
      "Copied 134500 files so far...\n",
      "Copied 134600 files so far...\n",
      "Copied 134700 files so far...\n",
      "Copied 134800 files so far...\n",
      "Copied 134900 files so far...\n",
      "Copied 135000 files so far...\n",
      "Copied 135100 files so far...\n",
      "Copied 135200 files so far...\n",
      "Copied 135300 files so far...\n",
      "Copied 135400 files so far...\n",
      "Copied 135500 files so far...\n",
      "Copied 135600 files so far...\n",
      "Copied 135700 files so far...\n",
      "Copied 135800 files so far...\n",
      "Copied 135900 files so far...\n",
      "Copied 136000 files so far...\n",
      "Copied 136100 files so far...\n",
      "Copied 136200 files so far...\n",
      "Copied 136300 files so far...\n",
      "Copied 136400 files so far...\n",
      "Copied 136500 files so far...\n",
      "Copied 136600 files so far...\n",
      "Copied 136700 files so far...\n",
      "Copied 136800 files so far...\n",
      "Copied 136900 files so far...\n",
      "Copied 137000 files so far...\n",
      "Copied 137100 files so far...\n",
      "Copied 137200 files so far...\n",
      "Copied 137300 files so far...\n",
      "Copied 137400 files so far...\n",
      "Copied 137500 files so far...\n",
      "Copied 137600 files so far...\n",
      "Copied 137700 files so far...\n",
      "Copied 137800 files so far...\n",
      "Copied 137900 files so far...\n",
      "Copied 138000 files so far...\n",
      "Copied 138100 files so far...\n",
      "Copied 138200 files so far...\n",
      "Copied 138300 files so far...\n",
      "Copied 138400 files so far...\n",
      "Copied 138500 files so far...\n",
      "Copied 138600 files so far...\n",
      "Copied 138700 files so far...\n",
      "Copied 138800 files so far...\n",
      "Copied 138900 files so far...\n",
      "Copied 139000 files so far...\n",
      "Copied 139100 files so far...\n",
      "Copied 139200 files so far...\n",
      "Copied 139300 files so far...\n",
      "Copied 139400 files so far...\n",
      "Copied 139500 files so far...\n",
      "Copied 139600 files so far...\n",
      "Copied 139700 files so far...\n",
      "Copied 139800 files so far...\n",
      "Copied 139900 files so far...\n",
      "Copied 140000 files so far...\n",
      "Copied 140100 files so far...\n",
      "Copied 140200 files so far...\n",
      "Copied 140300 files so far...\n",
      "Copied 140400 files so far...\n",
      "Copied 140500 files so far...\n",
      "Copied 140600 files so far...\n",
      "Copied 140700 files so far...\n",
      "Copied 140800 files so far...\n",
      "Copied 140900 files so far...\n",
      "Copied 141000 files so far...\n",
      "Copied 141100 files so far...\n",
      "Copied 141200 files so far...\n",
      "Copied 141300 files so far...\n",
      "Copied 141400 files so far...\n",
      "Copied 141500 files so far...\n",
      "Copied 141600 files so far...\n",
      "Copied 141700 files so far...\n",
      "Copied 141800 files so far...\n",
      "Copied 141900 files so far...\n",
      "Copied 142000 files so far...\n",
      "Copied 142100 files so far...\n",
      "Copied 142200 files so far...\n",
      "Copied 142300 files so far...\n",
      "Copied 142400 files so far...\n",
      "Copied 142500 files so far...\n",
      "Copied 142600 files so far...\n",
      "Copied 142700 files so far...\n",
      "Copied 142800 files so far...\n",
      "Copied 142900 files so far...\n",
      "Copied 143000 files so far...\n",
      "Copied 143100 files so far...\n",
      "Copied 143200 files so far...\n",
      "Copied 143300 files so far...\n",
      "Copied 143400 files so far...\n",
      "Copied 143500 files so far...\n",
      "Copied 143600 files so far...\n",
      "Copied 143700 files so far...\n",
      "Copied 143800 files so far...\n",
      "Copied 143900 files so far...\n",
      "Copied 144000 files so far...\n",
      "Copied 144100 files so far...\n",
      "Copied 144200 files so far...\n",
      "Copied 144300 files so far...\n",
      "Copied 144400 files so far...\n",
      "Copied 144500 files so far...\n",
      "Copied 144600 files so far...\n",
      "Copied 144700 files so far...\n",
      "Copied 144800 files so far...\n",
      "Copied 144900 files so far...\n",
      "Copied 145000 files so far...\n",
      "Copied 145100 files so far...\n",
      "Copied 145200 files so far...\n",
      "Copied 145300 files so far...\n",
      "Copied 145400 files so far...\n",
      "Copied 145500 files so far...\n",
      "Copied 145600 files so far...\n",
      "Copied 145700 files so far...\n",
      "Copied 145800 files so far...\n",
      "Copied 145900 files so far...\n",
      "Copied 146000 files so far...\n",
      "Copied 146100 files so far...\n",
      "Copied 146200 files so far...\n",
      "Copied 146300 files so far...\n",
      "Copied 146400 files so far...\n",
      "Copied 146500 files so far...\n",
      "Copied 146600 files so far...\n",
      "Copied 146700 files so far...\n",
      "Copied 146800 files so far...\n",
      "Copied 146900 files so far...\n",
      "Copied 147000 files so far...\n",
      "Copied 147100 files so far...\n",
      "Copied 147200 files so far...\n",
      "Copied 147300 files so far...\n",
      "Copied 147400 files so far...\n",
      "Copied 147500 files so far...\n",
      "Copied 147600 files so far...\n",
      "Copied 147700 files so far...\n",
      "Copied 147800 files so far...\n",
      "Copied 147900 files so far...\n",
      "Copied 148000 files so far...\n",
      "Copied 148100 files so far...\n",
      "Copied 148200 files so far...\n",
      "Copied 148300 files so far...\n",
      "Copied 148400 files so far...\n",
      "Copied 148500 files so far...\n",
      "Copied 148600 files so far...\n",
      "Copied 148700 files so far...\n",
      "Copied 148800 files so far...\n",
      "Copied 148900 files so far...\n",
      "Copied 149000 files so far...\n",
      "Copied 149100 files so far...\n",
      "Copied 149200 files so far...\n",
      "Processing directory: gene-001_plate3\n",
      "Copied 149300 files so far...\n",
      "Copied 149400 files so far...\n",
      "Copied 149500 files so far...\n",
      "Copied 149600 files so far...\n",
      "Copied 149700 files so far...\n",
      "Copied 149800 files so far...\n",
      "Copied 149900 files so far...\n",
      "Copied 150000 files so far...\n",
      "Copied 150100 files so far...\n",
      "Copied 150200 files so far...\n",
      "Copied 150300 files so far...\n",
      "Copied 150400 files so far...\n",
      "Copied 150500 files so far...\n",
      "Copied 150600 files so far...\n",
      "Copied 150700 files so far...\n",
      "Copied 150800 files so far...\n",
      "Copied 150900 files so far...\n",
      "Copied 151000 files so far...\n",
      "Copied 151100 files so far...\n",
      "Copied 151200 files so far...\n",
      "Copied 151300 files so far...\n",
      "Copied 151400 files so far...\n",
      "Copied 151500 files so far...\n",
      "Copied 151600 files so far...\n",
      "Copied 151700 files so far...\n",
      "Copied 151800 files so far...\n",
      "Copied 151900 files so far...\n",
      "Copied 152000 files so far...\n",
      "Copied 152100 files so far...\n",
      "Copied 152200 files so far...\n",
      "Copied 152300 files so far...\n",
      "Copied 152400 files so far...\n",
      "Copied 152500 files so far...\n",
      "Copied 152600 files so far...\n",
      "Copied 152700 files so far...\n",
      "Copied 152800 files so far...\n",
      "Copied 152900 files so far...\n",
      "Copied 153000 files so far...\n",
      "Copied 153100 files so far...\n",
      "Copied 153200 files so far...\n",
      "Copied 153300 files so far...\n",
      "Copied 153400 files so far...\n",
      "Copied 153500 files so far...\n",
      "Copied 153600 files so far...\n",
      "Copied 153700 files so far...\n",
      "Copied 153800 files so far...\n",
      "Copied 153900 files so far...\n",
      "Copied 154000 files so far...\n",
      "Copied 154100 files so far...\n",
      "Copied 154200 files so far...\n",
      "Copied 154300 files so far...\n",
      "Copied 154400 files so far...\n",
      "Copied 154500 files so far...\n",
      "Copied 154600 files so far...\n",
      "Copied 154700 files so far...\n",
      "Copied 154800 files so far...\n",
      "Copied 154900 files so far...\n",
      "Copied 155000 files so far...\n",
      "Copied 155100 files so far...\n",
      "Copied 155200 files so far...\n",
      "Copied 155300 files so far...\n",
      "Copied 155400 files so far...\n",
      "Copied 155500 files so far...\n",
      "Copied 155600 files so far...\n",
      "Copied 155700 files so far...\n",
      "Copied 155800 files so far...\n",
      "Copied 155900 files so far...\n",
      "Copied 156000 files so far...\n",
      "Copied 156100 files so far...\n",
      "Copied 156200 files so far...\n",
      "Copied 156300 files so far...\n",
      "Copied 156400 files so far...\n",
      "Copied 156500 files so far...\n",
      "Copied 156600 files so far...\n",
      "Copied 156700 files so far...\n",
      "Copied 156800 files so far...\n",
      "Copied 156900 files so far...\n",
      "Copied 157000 files so far...\n",
      "Copied 157100 files so far...\n",
      "Copied 157200 files so far...\n",
      "Copied 157300 files so far...\n",
      "Copied 157400 files so far...\n",
      "Copied 157500 files so far...\n",
      "Copied 157600 files so far...\n",
      "Copied 157700 files so far...\n",
      "Copied 157800 files so far...\n",
      "Copied 157900 files so far...\n",
      "Copied 158000 files so far...\n",
      "Copied 158100 files so far...\n",
      "Copied 158200 files so far...\n",
      "Copied 158300 files so far...\n",
      "Copied 158400 files so far...\n",
      "Copied 158500 files so far...\n",
      "Copied 158600 files so far...\n",
      "Copied 158700 files so far...\n",
      "Copied 158800 files so far...\n",
      "Copied 158900 files so far...\n",
      "Copied 159000 files so far...\n",
      "Copied 159100 files so far...\n",
      "Copied 159200 files so far...\n",
      "Copied 159300 files so far...\n",
      "Copied 159400 files so far...\n",
      "Copied 159500 files so far...\n",
      "Copied 159600 files so far...\n",
      "Copied 159700 files so far...\n",
      "Copied 159800 files so far...\n",
      "Copied 159900 files so far...\n",
      "Copied 160000 files so far...\n",
      "Copied 160100 files so far...\n",
      "Copied 160200 files so far...\n",
      "Copied 160300 files so far...\n",
      "Copied 160400 files so far...\n",
      "Copied 160500 files so far...\n",
      "Copied 160600 files so far...\n",
      "Copied 160700 files so far...\n",
      "Copied 160800 files so far...\n",
      "Copied 160900 files so far...\n",
      "Copied 161000 files so far...\n",
      "Copied 161100 files so far...\n",
      "Copied 161200 files so far...\n",
      "Copied 161300 files so far...\n",
      "Copied 161400 files so far...\n",
      "Copied 161500 files so far...\n",
      "Copied 161600 files so far...\n",
      "Copied 161700 files so far...\n",
      "Copied 161800 files so far...\n",
      "Copied 161900 files so far...\n",
      "Copied 162000 files so far...\n",
      "Copied 162100 files so far...\n",
      "Copied 162200 files so far...\n",
      "Copied 162300 files so far...\n",
      "Copied 162400 files so far...\n",
      "Copied 162500 files so far...\n",
      "Copied 162600 files so far...\n",
      "Copied 162700 files so far...\n",
      "Copied 162800 files so far...\n",
      "Copied 162900 files so far...\n",
      "Copied 163000 files so far...\n",
      "Copied 163100 files so far...\n",
      "Copied 163200 files so far...\n",
      "Copied 163300 files so far...\n",
      "Copied 163400 files so far...\n",
      "Copied 163500 files so far...\n",
      "Copied 163600 files so far...\n",
      "Copied 163700 files so far...\n",
      "Copied 163800 files so far...\n",
      "Copied 163900 files so far...\n",
      "Copied 164000 files so far...\n",
      "Copied 164100 files so far...\n",
      "Copied 164200 files so far...\n",
      "Copied 164300 files so far...\n",
      "Copied 164400 files so far...\n",
      "Copied 164500 files so far...\n",
      "Copied 164600 files so far...\n",
      "Copied 164700 files so far...\n",
      "Copied 164800 files so far...\n",
      "Copied 164900 files so far...\n",
      "Copied 165000 files so far...\n",
      "Copied 165100 files so far...\n",
      "Copied 165200 files so far...\n",
      "Copied 165300 files so far...\n",
      "Copied 165400 files so far...\n",
      "Copied 165500 files so far...\n",
      "Copied 165600 files so far...\n",
      "Processing directory: gene-001_plate4\n",
      "Copied 165700 files so far...\n",
      "Copied 165800 files so far...\n",
      "Copied 165900 files so far...\n",
      "Copied 166000 files so far...\n",
      "Copied 166100 files so far...\n",
      "Copied 166200 files so far...\n",
      "Copied 166300 files so far...\n",
      "Copied 166400 files so far...\n",
      "Copied 166500 files so far...\n",
      "Copied 166600 files so far...\n",
      "Copied 166700 files so far...\n",
      "Copied 166800 files so far...\n",
      "Copied 166900 files so far...\n",
      "Copied 167000 files so far...\n",
      "Copied 167100 files so far...\n",
      "Copied 167200 files so far...\n",
      "Copied 167300 files so far...\n",
      "Copied 167400 files so far...\n",
      "Copied 167500 files so far...\n",
      "Copied 167600 files so far...\n",
      "Copied 167700 files so far...\n",
      "Copied 167800 files so far...\n",
      "Copied 167900 files so far...\n",
      "Copied 168000 files so far...\n",
      "Copied 168100 files so far...\n",
      "Copied 168200 files so far...\n",
      "Copied 168300 files so far...\n",
      "Copied 168400 files so far...\n",
      "Copied 168500 files so far...\n",
      "Copied 168600 files so far...\n",
      "Copied 168700 files so far...\n",
      "Copied 168800 files so far...\n",
      "Copied 168900 files so far...\n",
      "Copied 169000 files so far...\n",
      "Copied 169100 files so far...\n",
      "Copied 169200 files so far...\n",
      "Copied 169300 files so far...\n",
      "Copied 169400 files so far...\n",
      "Copied 169500 files so far...\n",
      "Copied 169600 files so far...\n",
      "Copied 169700 files so far...\n",
      "Copied 169800 files so far...\n",
      "Copied 169900 files so far...\n",
      "Copied 170000 files so far...\n",
      "Copied 170100 files so far...\n",
      "Copied 170200 files so far...\n",
      "Copied 170300 files so far...\n",
      "Copied 170400 files so far...\n",
      "Copied 170500 files so far...\n",
      "Copied 170600 files so far...\n",
      "Copied 170700 files so far...\n",
      "Copied 170800 files so far...\n",
      "Copied 170900 files so far...\n",
      "Copied 171000 files so far...\n",
      "Copied 171100 files so far...\n",
      "Copied 171200 files so far...\n",
      "Copied 171300 files so far...\n",
      "Copied 171400 files so far...\n",
      "Copied 171500 files so far...\n",
      "Copied 171600 files so far...\n",
      "Copied 171700 files so far...\n",
      "Copied 171800 files so far...\n",
      "Copied 171900 files so far...\n",
      "Copied 172000 files so far...\n",
      "Copied 172100 files so far...\n",
      "Copied 172200 files so far...\n",
      "Copied 172300 files so far...\n",
      "Copied 172400 files so far...\n",
      "Copied 172500 files so far...\n",
      "Copied 172600 files so far...\n",
      "Copied 172700 files so far...\n",
      "Copied 172800 files so far...\n",
      "Copied 172900 files so far...\n",
      "Copied 173000 files so far...\n",
      "Copied 173100 files so far...\n",
      "Copied 173200 files so far...\n",
      "Copied 173300 files so far...\n",
      "Copied 173400 files so far...\n",
      "Copied 173500 files so far...\n",
      "Copied 173600 files so far...\n",
      "Copied 173700 files so far...\n",
      "Copied 173800 files so far...\n",
      "Copied 173900 files so far...\n",
      "Copied 174000 files so far...\n",
      "Copied 174100 files so far...\n",
      "Copied 174200 files so far...\n",
      "Copied 174300 files so far...\n",
      "Copied 174400 files so far...\n",
      "Copied 174500 files so far...\n",
      "Copied 174600 files so far...\n",
      "Copied 174700 files so far...\n",
      "Copied 174800 files so far...\n",
      "Copied 174900 files so far...\n",
      "Copied 175000 files so far...\n",
      "Copied 175100 files so far...\n",
      "Copied 175200 files so far...\n",
      "Copied 175300 files so far...\n",
      "Copied 175400 files so far...\n",
      "Copied 175500 files so far...\n",
      "Copied 175600 files so far...\n",
      "Copied 175700 files so far...\n",
      "Copied 175800 files so far...\n",
      "Copied 175900 files so far...\n",
      "Copied 176000 files so far...\n",
      "Copied 176100 files so far...\n",
      "Copied 176200 files so far...\n",
      "Copied 176300 files so far...\n",
      "Copied 176400 files so far...\n",
      "Copied 176500 files so far...\n",
      "Copied 176600 files so far...\n",
      "Copied 176700 files so far...\n",
      "Copied 176800 files so far...\n",
      "Copied 176900 files so far...\n",
      "Copied 177000 files so far...\n",
      "Copied 177100 files so far...\n",
      "Copied 177200 files so far...\n",
      "Copied 177300 files so far...\n",
      "Copied 177400 files so far...\n",
      "Copied 177500 files so far...\n",
      "Copied 177600 files so far...\n",
      "Copied 177700 files so far...\n",
      "Copied 177800 files so far...\n",
      "Copied 177900 files so far...\n",
      "Copied 178000 files so far...\n",
      "Copied 178100 files so far...\n",
      "Copied 178200 files so far...\n",
      "Copied 178300 files so far...\n",
      "Copied 178400 files so far...\n",
      "Copied 178500 files so far...\n",
      "Copied 178600 files so far...\n",
      "Copied 178700 files so far...\n",
      "Copied 178800 files so far...\n",
      "Copied 178900 files so far...\n",
      "Copied 179000 files so far...\n",
      "Copied 179100 files so far...\n",
      "Copied 179200 files so far...\n",
      "Copied 179300 files so far...\n",
      "Copied 179400 files so far...\n",
      "Copied 179500 files so far...\n",
      "Copied 179600 files so far...\n",
      "Copied 179700 files so far...\n",
      "Copied 179800 files so far...\n",
      "Copied 179900 files so far...\n",
      "Copied 180000 files so far...\n",
      "Copied 180100 files so far...\n",
      "Copied 180200 files so far...\n",
      "Copied 180300 files so far...\n",
      "Copied 180400 files so far...\n",
      "Copied 180500 files so far...\n",
      "Copied 180600 files so far...\n",
      "Copied 180700 files so far...\n",
      "Copied 180800 files so far...\n",
      "Copied 180900 files so far...\n",
      "Copied 181000 files so far...\n",
      "Copied 181100 files so far...\n",
      "Copied 181200 files so far...\n",
      "Copied 181300 files so far...\n",
      "Copied 181400 files so far...\n",
      "Copied 181500 files so far...\n",
      "Copied 181600 files so far...\n",
      "Copied 181700 files so far...\n",
      "Copied 181800 files so far...\n",
      "Copied 181900 files so far...\n",
      "Copied 182000 files so far...\n",
      "Copied 182100 files so far...\n",
      "Processing directory: gene-001_plate5\n",
      "Copied 182200 files so far...\n",
      "Copied 182300 files so far...\n",
      "Copied 182400 files so far...\n",
      "Copied 182500 files so far...\n",
      "Copied 182600 files so far...\n",
      "Copied 182700 files so far...\n",
      "Copied 182800 files so far...\n",
      "Copied 182900 files so far...\n",
      "Copied 183000 files so far...\n",
      "Copied 183100 files so far...\n",
      "Copied 183200 files so far...\n",
      "Copied 183300 files so far...\n",
      "Copied 183400 files so far...\n",
      "Copied 183500 files so far...\n",
      "Copied 183600 files so far...\n",
      "Copied 183700 files so far...\n",
      "Copied 183800 files so far...\n",
      "Copied 183900 files so far...\n",
      "Copied 184000 files so far...\n",
      "Copied 184100 files so far...\n",
      "Copied 184200 files so far...\n",
      "Copied 184300 files so far...\n",
      "Copied 184400 files so far...\n",
      "Copied 184500 files so far...\n",
      "Copied 184600 files so far...\n",
      "Copied 184700 files so far...\n",
      "Copied 184800 files so far...\n",
      "Copied 184900 files so far...\n",
      "Copied 185000 files so far...\n",
      "Copied 185100 files so far...\n",
      "Copied 185200 files so far...\n",
      "Copied 185300 files so far...\n",
      "Copied 185400 files so far...\n",
      "Copied 185500 files so far...\n",
      "Copied 185600 files so far...\n",
      "Copied 185700 files so far...\n",
      "Copied 185800 files so far...\n",
      "Copied 185900 files so far...\n",
      "Copied 186000 files so far...\n",
      "Copied 186100 files so far...\n",
      "Copied 186200 files so far...\n",
      "Copied 186300 files so far...\n",
      "Copied 186400 files so far...\n",
      "Copied 186500 files so far...\n",
      "Copied 186600 files so far...\n",
      "Copied 186700 files so far...\n",
      "Copied 186800 files so far...\n",
      "Copied 186900 files so far...\n",
      "Copied 187000 files so far...\n",
      "Copied 187100 files so far...\n",
      "Copied 187200 files so far...\n",
      "Copied 187300 files so far...\n",
      "Copied 187400 files so far...\n",
      "Copied 187500 files so far...\n",
      "Copied 187600 files so far...\n",
      "Copied 187700 files so far...\n",
      "Copied 187800 files so far...\n",
      "Copied 187900 files so far...\n",
      "Copied 188000 files so far...\n",
      "Copied 188100 files so far...\n",
      "Copied 188200 files so far...\n",
      "Copied 188300 files so far...\n",
      "Copied 188400 files so far...\n",
      "Copied 188500 files so far...\n",
      "Copied 188600 files so far...\n",
      "Copied 188700 files so far...\n",
      "Copied 188800 files so far...\n",
      "Copied 188900 files so far...\n",
      "Copied 189000 files so far...\n",
      "Copied 189100 files so far...\n",
      "Copied 189200 files so far...\n",
      "Copied 189300 files so far...\n",
      "Copied 189400 files so far...\n",
      "Copied 189500 files so far...\n",
      "Copied 189600 files so far...\n",
      "Copied 189700 files so far...\n",
      "Copied 189800 files so far...\n",
      "Copied 189900 files so far...\n",
      "Copied 190000 files so far...\n",
      "Copied 190100 files so far...\n",
      "Copied 190200 files so far...\n",
      "Copied 190300 files so far...\n",
      "Copied 190400 files so far...\n",
      "Copied 190500 files so far...\n",
      "Copied 190600 files so far...\n",
      "Copied 190700 files so far...\n",
      "Copied 190800 files so far...\n",
      "Copied 190900 files so far...\n",
      "Copied 191000 files so far...\n",
      "Copied 191100 files so far...\n",
      "Copied 191200 files so far...\n",
      "Copied 191300 files so far...\n",
      "Copied 191400 files so far...\n",
      "Copied 191500 files so far...\n",
      "Copied 191600 files so far...\n",
      "Copied 191700 files so far...\n",
      "Copied 191800 files so far...\n",
      "Copied 191900 files so far...\n",
      "Copied 192000 files so far...\n",
      "Copied 192100 files so far...\n",
      "Copied 192200 files so far...\n",
      "Copied 192300 files so far...\n",
      "Copied 192400 files so far...\n",
      "Copied 192500 files so far...\n",
      "Copied 192600 files so far...\n",
      "Copied 192700 files so far...\n",
      "Copied 192800 files so far...\n",
      "Copied 192900 files so far...\n",
      "Copied 193000 files so far...\n",
      "Copied 193100 files so far...\n",
      "Copied 193200 files so far...\n",
      "Copied 193300 files so far...\n",
      "Copied 193400 files so far...\n",
      "Copied 193500 files so far...\n",
      "Copied 193600 files so far...\n",
      "Copied 193700 files so far...\n",
      "Copied 193800 files so far...\n",
      "Copied 193900 files so far...\n",
      "Copied 194000 files so far...\n",
      "Copied 194100 files so far...\n",
      "Copied 194200 files so far...\n",
      "Copied 194300 files so far...\n",
      "Copied 194400 files so far...\n",
      "Copied 194500 files so far...\n",
      "Copied 194600 files so far...\n",
      "Copied 194700 files so far...\n",
      "Copied 194800 files so far...\n",
      "Copied 194900 files so far...\n",
      "Copied 195000 files so far...\n",
      "Copied 195100 files so far...\n",
      "Copied 195200 files so far...\n",
      "Copied 195300 files so far...\n",
      "Copied 195400 files so far...\n",
      "Copied 195500 files so far...\n",
      "Copied 195600 files so far...\n",
      "Copied 195700 files so far...\n",
      "Copied 195800 files so far...\n",
      "Copied 195900 files so far...\n",
      "Copied 196000 files so far...\n",
      "Copied 196100 files so far...\n",
      "Copied 196200 files so far...\n",
      "Copied 196300 files so far...\n",
      "Copied 196400 files so far...\n",
      "Copied 196500 files so far...\n",
      "Copied 196600 files so far...\n",
      "Copied 196700 files so far...\n",
      "Copied 196800 files so far...\n",
      "Copied 196900 files so far...\n",
      "Copied 197000 files so far...\n",
      "Copied 197100 files so far...\n",
      "Copied 197200 files so far...\n",
      "Copied 197300 files so far...\n",
      "Copied 197400 files so far...\n",
      "Copied 197500 files so far...\n",
      "Copied 197600 files so far...\n",
      "Copied 197700 files so far...\n",
      "Copied 197800 files so far...\n",
      "Copied 197900 files so far...\n",
      "Copied 198000 files so far...\n",
      "Copied 198100 files so far...\n",
      "Copied 198200 files so far...\n",
      "Copied 198300 files so far...\n",
      "Copied 198400 files so far...\n",
      "Copied 198500 files so far...\n",
      "Copying complete! Copied 198564 image files to /Volumes/External SSD/cp_1_gene_1_mixed/\n",
      "Total files processed: 198564\n"
     ]
    }
   ],
   "source": [
    "import os\n",
    "import shutil\n",
    "from pathlib import Path\n",
    "import glob\n",
    "\n",
    "# Define source and destination directories\n",
    "source_dir = '/Volumes/External SSD/cp_1_gene_1/'\n",
    "destination_dir = '/Volumes/External SSD/cp_1_gene_1_mixed/'\n",
    "\n",
    "# Create destination directory if it doesn't exist\n",
    "os.makedirs(destination_dir, exist_ok=True)\n",
    "\n",
    "# Get all subdirectories in the source directory\n",
    "subdirs = [d for d in os.listdir(source_dir) if os.path.isdir(os.path.join(source_dir, d)) and d != 'mixed_images']\n",
    "\n",
    "# Common image file extensions\n",
    "image_extensions = ['*.jpg', '*.jpeg', '*.png', '*.tif', '*.tiff']\n",
    "\n",
    "# Counter for tracking progress\n",
    "copied_files = 0\n",
    "total_files = 0\n",
    "\n",
    "# Function to copy images from a directory\n",
    "def copy_images_from_dir(dir_path, subdir_name):\n",
    "    global copied_files, total_files\n",
    "    \n",
    "    # Get all image files in the directory\n",
    "    image_files = []\n",
    "    for ext in image_extensions:\n",
    "        image_files.extend(glob.glob(os.path.join(dir_path, ext)))\n",
    "        image_files.extend(glob.glob(os.path.join(dir_path, '**', ext), recursive=True))\n",
    "    \n",
    "    total_files += len(image_files)\n",
    "    \n",
    "    # Copy each image to the destination directory\n",
    "    for img_path in image_files:\n",
    "        # Get the original filename\n",
    "        filename = os.path.basename(img_path)\n",
    "        \n",
    "        # Add the folder name as a prefix to the original filename\n",
    "        new_filename = f\"{subdir_name}_{filename}\"\n",
    "        dest_path = os.path.join(destination_dir, new_filename)\n",
    "        \n",
    "        # Copy the file\n",
    "        shutil.copy2(img_path, dest_path)\n",
    "        copied_files += 1\n",
    "        \n",
    "        # Print progress every 100 files\n",
    "        if copied_files % 100 == 0:\n",
    "            print(f\"Copied {copied_files} files so far...\")\n",
    "\n",
    "# Process each subdirectory\n",
    "print(f\"Found {len(subdirs)} subdirectories to process.\")\n",
    "for subdir in subdirs:\n",
    "    subdir_path = os.path.join(source_dir, subdir)\n",
    "    print(f\"Processing directory: {subdir}\")\n",
    "    copy_images_from_dir(subdir_path, subdir)\n",
    "\n",
    "print(f\"Copying complete! Copied {copied_files} image files to {destination_dir}\")\n",
    "print(f\"Total files processed: {total_files}\")"
   ]
  },
  {
   "cell_type": "code",
   "execution_count": null,
   "metadata": {},
   "outputs": [],
   "source": [
    "import os\n",
    "import shutil\n",
    "from pathlib import Path\n",
    "import glob\n",
    "\n",
    "# Define source and destination directories\n",
    "source_dir = '/Volumes/External SSD/rxrx3_resized/rxrx3_512/'\n",
    "destination_dir = '/Volumes/External SSD/rxrx3_resized/rxrx3_512/mixed_images/'\n",
    "\n",
    "# Create destination directory if it doesn't exist\n",
    "os.makedirs(destination_dir, exist_ok=True)\n",
    "\n",
    "# Get all subdirectories in the source directory\n",
    "subdirs = [d for d in os.listdir(source_dir) if os.path.isdir(os.path.join(source_dir, d)) and d != 'mixed_images']\n",
    "\n",
    "# Common image file extensions\n",
    "image_extensions = ['*.jpg', '*.jpeg', '*.png', '*.tif', '*.tiff']\n",
    "\n",
    "# Counter for tracking progress\n",
    "copied_files = 0\n",
    "total_files = 0\n",
    "\n",
    "# Function to copy images from a directory\n",
    "def copy_images_from_dir(dir_path, subdir_name):\n",
    "    global copied_files, total_files\n",
    "    \n",
    "    # Get all image files in the directory\n",
    "    image_files = []\n",
    "    for ext in image_extensions:\n",
    "        image_files.extend(glob.glob(os.path.join(dir_path, ext)))\n",
    "        image_files.extend(glob.glob(os.path.join(dir_path, '**', ext), recursive=True))\n",
    "    \n",
    "    total_files += len(image_files)\n",
    "    \n",
    "    # Copy each image to the destination directory\n",
    "    for img_path in image_files:\n",
    "        # Get the original filename\n",
    "        filename = os.path.basename(img_path)\n",
    "        \n",
    "        # Add the folder name as a prefix to the original filename\n",
    "        new_filename = f\"{subdir_name}_{filename}\"\n",
    "        dest_path = os.path.join(destination_dir, new_filename)\n",
    "        \n",
    "        # Copy the file\n",
    "        shutil.copy2(img_path, dest_path)\n",
    "        copied_files += 1\n",
    "        \n",
    "        # Print progress every 100 files\n",
    "        if copied_files % 100 == 0:\n",
    "            print(f\"Copied {copied_files} files so far...\")\n",
    "\n",
    "# Process each subdirectory\n",
    "print(f\"Found {len(subdirs)} subdirectories to process.\")\n",
    "for subdir in subdirs:\n",
    "    subdir_path = os.path.join(source_dir, subdir)\n",
    "    print(f\"Processing directory: {subdir}\")\n",
    "    copy_images_from_dir(subdir_path, subdir)\n",
    "\n",
    "print(f\"Copying complete! Copied {copied_files} image files to {destination_dir}\")\n",
    "print(f\"Total files processed: {total_files}\")"
   ]
  },
  {
   "cell_type": "code",
   "execution_count": 10,
   "metadata": {},
   "outputs": [
    {
     "name": "stdout",
     "output_type": "stream",
     "text": [
      "    1860\n",
      "    8214\n"
     ]
    }
   ],
   "source": [
    "\n",
    "!ls -1 /Volumes/External\\ SSD/rxrx3/rxrx3/compound-001_plate10/ | wc -l\n",
    "\n",
    "!ls -1 /Volumes/External\\ SSD/rxrx3/rxrx3/gene-001_plate2/ | wc -l\n"
   ]
  },
  {
   "cell_type": "code",
   "execution_count": 5,
   "metadata": {},
   "outputs": [
    {
     "name": "stdout",
     "output_type": "stream",
     "text": [
      "\u001b[1m\u001b[36mcompound-001_plate10\u001b[m\u001b[m\n",
      "\u001b[1m\u001b[36mcompound-001_plate11\u001b[m\u001b[m\n",
      "\u001b[1m\u001b[36mcompound-001_plate12\u001b[m\u001b[m\n",
      "\u001b[1m\u001b[36mcompound-001_plate13\u001b[m\u001b[m\n",
      "\u001b[1m\u001b[36mcompound-001_plate14\u001b[m\u001b[m\n",
      "\u001b[1m\u001b[36mcompound-001_plate15\u001b[m\u001b[m\n",
      "\u001b[1m\u001b[36mcompound-001_plate16\u001b[m\u001b[m\n",
      "\u001b[1m\u001b[36mcompound-001_plate17\u001b[m\u001b[m\n",
      "\u001b[1m\u001b[36mcompound-001_plate18\u001b[m\u001b[m\n",
      "\u001b[1m\u001b[36mcompound-002_plate1\u001b[m\u001b[m\n",
      "\u001b[1m\u001b[36mcompound-003_plate1\u001b[m\u001b[m\n",
      "\u001b[1m\u001b[36mgene-001_plate2\u001b[m\u001b[m\n",
      "\u001b[1m\u001b[36mgene-001_plate3\u001b[m\u001b[m\n",
      "\u001b[1m\u001b[36mgene-001_plate4\u001b[m\u001b[m\n",
      "\u001b[1m\u001b[36mgene-001_plate5\u001b[m\u001b[m\n",
      "\u001b[1m\u001b[36mgene-002_plate1\u001b[m\u001b[m\n",
      "\u001b[1m\u001b[36mgene-003_plate1\u001b[m\u001b[m\n",
      "\u001b[1m\u001b[36mgene-004_plate1\u001b[m\u001b[m\n",
      "\u001b[1m\u001b[36mgene-005_plate1\u001b[m\u001b[m\n",
      "\u001b[1m\u001b[36mgene-006_plate1\u001b[m\u001b[m\n",
      "\u001b[1m\u001b[36mgene-007_plate1\u001b[m\u001b[m\n",
      "\u001b[1m\u001b[36mgene-008_plate1\u001b[m\u001b[m\n"
     ]
    }
   ],
   "source": [
    "!ls -1 /Volumes/External\\ SSD/rxrx3/rxrx3/"
   ]
  },
  {
   "cell_type": "code",
   "execution_count": 14,
   "metadata": {},
   "outputs": [
    {
     "name": "stdout",
     "output_type": "stream",
     "text": [
      "ls: /Volumes/External: No such file or directory\n",
      "ls: SSD/rxrx3_resized/rxrx3_512/mixed_images/: No such file or directory\n"
     ]
    }
   ],
   "source": [
    "!ls /Volumes/External SSD/rxrx3_resized/rxrx3_512/mixed_images/"
   ]
  },
  {
   "cell_type": "code",
   "execution_count": 42,
   "metadata": {},
   "outputs": [
    {
     "name": "stdout",
     "output_type": "stream",
     "text": [
      "Number of unique compounds: 1\n",
      "Number of unique genes: 1\n",
      "\n",
      "Unique compounds:\n",
      "compound-001\n",
      "\n",
      "Unique genes:\n",
      "gene-001\n"
     ]
    }
   ],
   "source": [
    "import os\n",
    "from collections import defaultdict\n",
    "\n",
    "# Path to the mixed images directory\n",
    "mixed_images_path = \"/Volumes/External SSD/cp_1_gene_1_mixed/\"\n",
    "\n",
    "# Get list of all files in directory\n",
    "files = os.listdir(mixed_images_path)\n",
    "\n",
    "# Dictionary to store unique prefixes\n",
    "unique_prefixes = defaultdict(set)\n",
    "\n",
    "# Extract unique prefixes\n",
    "for filename in files:\n",
    "    # Split filename by underscore and get the first part (e.g. \"compound-003\" or \"gene-002\")\n",
    "    prefix = filename.split('_')[0]\n",
    "    \n",
    "    # Determine if it's a compound or gene and store\n",
    "    if prefix.startswith('compound'):\n",
    "        unique_prefixes['compounds'].add(prefix)\n",
    "    elif prefix.startswith('gene'):\n",
    "        unique_prefixes['genes'].add(prefix)\n",
    "\n",
    "# Print results\n",
    "print(f\"Number of unique compounds: {len(unique_prefixes['compounds'])}\")\n",
    "print(f\"Number of unique genes: {len(unique_prefixes['genes'])}\")\n",
    "\n",
    "print(\"\\nUnique compounds:\")\n",
    "for compound in sorted(unique_prefixes['compounds']):\n",
    "    print(compound)\n",
    "\n",
    "print(\"\\nUnique genes:\")\n",
    "for gene in sorted(unique_prefixes['genes']):\n",
    "    print(gene)\n"
   ]
  },
  {
   "cell_type": "code",
   "execution_count": 43,
   "metadata": {},
   "outputs": [
    {
     "name": "stdout",
     "output_type": "stream",
     "text": [
      "\n",
      "Counts for each compound:\n",
      "compound-001: 32886 images\n",
      "\n",
      "Counts for each gene:\n",
      "gene-001: 32886 images\n"
     ]
    }
   ],
   "source": [
    "# Dictionary to store counts for each prefix\n",
    "prefix_counts = defaultdict(int)\n",
    "\n",
    "# Count occurrences of each prefix\n",
    "for filename in files:\n",
    "    prefix = filename.split('_')[0]\n",
    "    prefix_counts[prefix] += 1\n",
    "\n",
    "print(\"\\nCounts for each compound:\")\n",
    "for compound in sorted(unique_prefixes['compounds']):\n",
    "    print(f\"{compound}: {prefix_counts[compound]} images\")\n",
    "\n",
    "print(\"\\nCounts for each gene:\")\n",
    "for gene in sorted(unique_prefixes['genes']):\n",
    "    print(f\"{gene}: {prefix_counts[gene]} images\")\n"
   ]
  },
  {
   "cell_type": "code",
   "execution_count": 37,
   "metadata": {},
   "outputs": [
    {
     "name": "stdout",
     "output_type": "stream",
     "text": [
      "Deleted 6912 images for compound-002 and compound-003\n",
      "\n",
      "Before balancing:\n",
      "compound-001: 59484 images\n",
      "gene-001: 32886 images\n",
      "\n",
      "Removed 26598 compound-001 images to balance datasets\n",
      "\n",
      "After balancing:\n",
      "compound-001: 32886 images\n",
      "gene-001: 32886 images\n"
     ]
    }
   ],
   "source": [
    "import os\n",
    "import random\n",
    "from pathlib import Path\n",
    "\n",
    "# Set the data directory\n",
    "data_dir = \"/Volumes/External SSD/cp_1_gene_1_mixed/\"\n",
    "\n",
    "# First delete compound-002 and compound-003 images\n",
    "deleted_count = 0\n",
    "for filename in os.listdir(data_dir):\n",
    "    if filename.startswith(('compound-002', 'compound-003')):\n",
    "        os.remove(os.path.join(data_dir, filename))\n",
    "        deleted_count += 1\n",
    "print(f\"Deleted {deleted_count} images for compound-002 and compound-003\")\n",
    "\n",
    "# Get remaining compound-001 and gene-001 files\n",
    "compound_001_files = []\n",
    "gene_001_files = []\n",
    "for filename in os.listdir(data_dir):\n",
    "    if filename.startswith('compound-001'):\n",
    "        compound_001_files.append(filename)\n",
    "    elif filename.startswith('gene-001'):\n",
    "        gene_001_files.append(filename)\n",
    "\n",
    "print(f\"\\nBefore balancing:\")\n",
    "print(f\"compound-001: {len(compound_001_files)} images\")\n",
    "print(f\"gene-001: {len(gene_001_files)} images\")\n",
    "\n",
    "# Balance datasets by randomly removing compound-001 images\n",
    "if len(compound_001_files) > len(gene_001_files):\n",
    "    files_to_remove = random.sample(compound_001_files, len(compound_001_files) - len(gene_001_files))\n",
    "    for filename in files_to_remove:\n",
    "        os.remove(os.path.join(data_dir, filename))\n",
    "    print(f\"\\nRemoved {len(files_to_remove)} compound-001 images to balance datasets\")\n",
    "\n",
    "# Verify final counts\n",
    "final_compound = len([f for f in os.listdir(data_dir) if f.startswith('compound-001')])\n",
    "final_gene = len([f for f in os.listdir(data_dir) if f.startswith('gene-001')])\n",
    "\n",
    "print(f\"\\nAfter balancing:\")\n",
    "print(f\"compound-001: {final_compound} images\")\n",
    "print(f\"gene-001: {final_gene} images\")\n"
   ]
  },
  {
   "cell_type": "code",
   "execution_count": null,
   "metadata": {},
   "outputs": [],
   "source": []
  }
 ],
 "metadata": {
  "kernelspec": {
   "display_name": "Python 3",
   "language": "python",
   "name": "python3"
  },
  "language_info": {
   "codemirror_mode": {
    "name": "ipython",
    "version": 3
   },
   "file_extension": ".py",
   "mimetype": "text/x-python",
   "name": "python",
   "nbconvert_exporter": "python",
   "pygments_lexer": "ipython3",
   "version": "3.12.3"
  }
 },
 "nbformat": 4,
 "nbformat_minor": 2
}
